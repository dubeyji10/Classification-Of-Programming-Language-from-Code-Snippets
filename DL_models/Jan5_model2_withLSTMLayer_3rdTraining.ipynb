{
  "nbformat": 4,
  "nbformat_minor": 0,
  "metadata": {
    "colab": {
      "name": "Jan5_model2_withLSTMLayer_3rdTraining.ipynb",
      "provenance": [],
      "collapsed_sections": [],
      "toc_visible": true
    },
    "kernelspec": {
      "name": "python3",
      "display_name": "Python 3"
    },
    "accelerator": "GPU"
  },
  "cells": [
    {
      "cell_type": "code",
      "metadata": {
        "id": "AM6n_chvOePz"
      },
      "source": [
        "#@title Version 2.3 <br> 3rd training of the Jan5_model2_withLSTMLayer"
      ],
      "execution_count": 1,
      "outputs": []
    },
    {
      "cell_type": "markdown",
      "metadata": {
        "id": "yN7EMueFdI7Q"
      },
      "source": [
        "tokenizer_Jan5_v3"
      ]
    },
    {
      "cell_type": "markdown",
      "metadata": {
        "id": "LBPQTduwOnJQ"
      },
      "source": [
        "### imports and mounting drive"
      ]
    },
    {
      "cell_type": "code",
      "metadata": {
        "colab": {
          "base_uri": "https://localhost:8080/"
        },
        "id": "0gKzyWWtOa2N",
        "outputId": "0ab63d86-46d3-4ba8-b1b2-d77d7cce4103"
      },
      "source": [
        "import pandas as pd\n",
        "import matplotlib.pyplot as plt\n",
        "import numpy as np\n",
        "import os\n",
        "from os import listdir\n",
        "from os.path import isfile, join\n",
        "from google.colab import drive\n",
        "drive.mount('/content/drive')"
      ],
      "execution_count": 2,
      "outputs": [
        {
          "output_type": "stream",
          "text": [
            "Mounted at /content/drive\n"
          ],
          "name": "stdout"
        }
      ]
    },
    {
      "cell_type": "code",
      "metadata": {
        "colab": {
          "base_uri": "https://localhost:8080/"
        },
        "id": "VKDnJiYJOvCF",
        "outputId": "19d0a567-f678-4310-82df-dff2d26ee2db"
      },
      "source": [
        "!mkdir dataset\n",
        "!ls"
      ],
      "execution_count": 3,
      "outputs": [
        {
          "output_type": "stream",
          "text": [
            "dataset  drive\tsample_data\n"
          ],
          "name": "stdout"
        }
      ]
    },
    {
      "cell_type": "markdown",
      "metadata": {
        "id": "GpVvlc2SO3kI"
      },
      "source": [
        "### Copy dataset"
      ]
    },
    {
      "cell_type": "code",
      "metadata": {
        "colab": {
          "base_uri": "https://localhost:8080/"
        },
        "id": "Z3NyZ-K0OxGY",
        "outputId": "fff5bec9-acb3-480e-e08c-90f36c273701"
      },
      "source": [
        "\n",
        "!cp '/content/drive/MyDrive/datasets/LanguageDataset/final_changes/final_dataset_4.csv' /content/dataset/\n",
        "! echo copied final_dataset_4\n"
      ],
      "execution_count": 5,
      "outputs": [
        {
          "output_type": "stream",
          "text": [
            "copied final_dataset_4\n"
          ],
          "name": "stdout"
        }
      ]
    },
    {
      "cell_type": "code",
      "metadata": {
        "colab": {
          "base_uri": "https://localhost:8080/",
          "height": 419
        },
        "id": "lzx8-Q4LO14n",
        "outputId": "2bcf4cf4-d13c-4171-b59b-cf6c6161b553"
      },
      "source": [
        "data = pd.read_csv('/content/dataset/final_dataset_4.csv')\n",
        "data"
      ],
      "execution_count": 6,
      "outputs": [
        {
          "output_type": "execute_result",
          "data": {
            "text/html": [
              "<div>\n",
              "<style scoped>\n",
              "    .dataframe tbody tr th:only-of-type {\n",
              "        vertical-align: middle;\n",
              "    }\n",
              "\n",
              "    .dataframe tbody tr th {\n",
              "        vertical-align: top;\n",
              "    }\n",
              "\n",
              "    .dataframe thead th {\n",
              "        text-align: right;\n",
              "    }\n",
              "</style>\n",
              "<table border=\"1\" class=\"dataframe\">\n",
              "  <thead>\n",
              "    <tr style=\"text-align: right;\">\n",
              "      <th></th>\n",
              "      <th>Language</th>\n",
              "      <th>Source</th>\n",
              "    </tr>\n",
              "  </thead>\n",
              "  <tbody>\n",
              "    <tr>\n",
              "      <th>0</th>\n",
              "      <td>bash</td>\n",
              "      <td>#!/bin/bash\\n\\nstart_time=$(date +%s)\\nfor i i...</td>\n",
              "    </tr>\n",
              "    <tr>\n",
              "      <th>1</th>\n",
              "      <td>bash</td>\n",
              "      <td>aaaaaa,aaaaa,aaaaa,aaaa,aaaaa,aaa,aaa,aaa,aaaa...</td>\n",
              "    </tr>\n",
              "    <tr>\n",
              "      <th>2</th>\n",
              "      <td>bash</td>\n",
              "      <td>function recursive(){\\n            for i in \"...</td>\n",
              "    </tr>\n",
              "    <tr>\n",
              "      <th>3</th>\n",
              "      <td>bash</td>\n",
              "      <td>bash\\npwd\\npwd\\n</td>\n",
              "    </tr>\n",
              "    <tr>\n",
              "      <th>4</th>\n",
              "      <td>bash</td>\n",
              "      <td>old_array=(\"color\" \"red\" \"shape\" \"circle\" \"vot...</td>\n",
              "    </tr>\n",
              "    <tr>\n",
              "      <th>...</th>\n",
              "      <td>...</td>\n",
              "      <td>...</td>\n",
              "    </tr>\n",
              "    <tr>\n",
              "      <th>37450</th>\n",
              "      <td>swift</td>\n",
              "      <td>enum Audience {\\n    case Public\\n    case Fri...</td>\n",
              "    </tr>\n",
              "    <tr>\n",
              "      <th>37451</th>\n",
              "      <td>swift</td>\n",
              "      <td>platform :ios, '8.0'\\npod 'AFNetworking'\\npod ...</td>\n",
              "    </tr>\n",
              "    <tr>\n",
              "      <th>37452</th>\n",
              "      <td>swift</td>\n",
              "      <td>func foo() -&gt; Bar? { ... }\\n\\nlet fooResultOpt...</td>\n",
              "    </tr>\n",
              "    <tr>\n",
              "      <th>37453</th>\n",
              "      <td>swift</td>\n",
              "      <td>iPad\\noverride func shouldAutorotate() -&gt; Bool...</td>\n",
              "    </tr>\n",
              "    <tr>\n",
              "      <th>37454</th>\n",
              "      <td>swift</td>\n",
              "      <td>if (FBSession.activeSession().isOpen) {\\n ...</td>\n",
              "    </tr>\n",
              "  </tbody>\n",
              "</table>\n",
              "<p>37455 rows × 2 columns</p>\n",
              "</div>"
            ],
            "text/plain": [
              "      Language                                             Source\n",
              "0         bash  #!/bin/bash\\n\\nstart_time=$(date +%s)\\nfor i i...\n",
              "1         bash  aaaaaa,aaaaa,aaaaa,aaaa,aaaaa,aaa,aaa,aaa,aaaa...\n",
              "2         bash   function recursive(){\\n            for i in \"...\n",
              "3         bash                                   bash\\npwd\\npwd\\n\n",
              "4         bash  old_array=(\"color\" \"red\" \"shape\" \"circle\" \"vot...\n",
              "...        ...                                                ...\n",
              "37450    swift  enum Audience {\\n    case Public\\n    case Fri...\n",
              "37451    swift  platform :ios, '8.0'\\npod 'AFNetworking'\\npod ...\n",
              "37452    swift  func foo() -> Bar? { ... }\\n\\nlet fooResultOpt...\n",
              "37453    swift  iPad\\noverride func shouldAutorotate() -> Bool...\n",
              "37454    swift      if (FBSession.activeSession().isOpen) {\\n ...\n",
              "\n",
              "[37455 rows x 2 columns]"
            ]
          },
          "metadata": {
            "tags": []
          },
          "execution_count": 6
        }
      ]
    },
    {
      "cell_type": "code",
      "metadata": {
        "colab": {
          "base_uri": "https://localhost:8080/"
        },
        "id": "3Acc_qPO5liD",
        "outputId": "54794a68-ac2d-49ff-8333-ae122bcee3c0"
      },
      "source": [
        "print(data.iloc[1].Source)"
      ],
      "execution_count": 11,
      "outputs": [
        {
          "output_type": "stream",
          "text": [
            "aaaaaa,aaaaa,aaaaa,aaaa,aaaaa,aaa,aaa,aaa,aaaa,aaa\n",
            "aaaa,aaaaa,aaaaa,aaaaaaa,aaa[1,2], aaaaaaaa[5,6], aaaa,aaaaaaa\n",
            "\n",
            "aaaaaa,\n",
            "aaa,\n",
            "aaaaa,\n",
            "aaaaa[1,2],\n",
            "aaaaaaaa[5,6],\n",
            "aaaaa,\n",
            "aaaaaaaa,\n",
            "aaaa\n",
            "\n",
            ",\n",
            "[n,n]\n",
            ",[^0-9]\n",
            "x0.fieldB [1,2] ,x5.fieldC ,x0.fieldX ,x0.fieldA\n",
            "(x0.fieldE [1,5] = x2.fieldZ) ) AND (x0.fieldG [1,2] = x3.fieldT ) )\n",
            "\n",
            "x0.fieldB [1,2] ,\n",
            "x5.fieldC ,\n",
            "x0.fieldX ,\n",
            "x0.fieldA (x0.fieldE [1,5] = x2.fieldZ) ) AND (x0.fieldG [1,2] = x3.fieldT ) )\n",
            "\n",
            "\n"
          ],
          "name": "stdout"
        }
      ]
    },
    {
      "cell_type": "code",
      "metadata": {
        "colab": {
          "base_uri": "https://localhost:8080/",
          "height": 419
        },
        "id": "q9N_hBmU5uFB",
        "outputId": "7a5cde28-6eac-45fa-d80f-33c3652c0610"
      },
      "source": [
        "data_copy = data.drop(index=1).copy()\n",
        "data_copy"
      ],
      "execution_count": 12,
      "outputs": [
        {
          "output_type": "execute_result",
          "data": {
            "text/html": [
              "<div>\n",
              "<style scoped>\n",
              "    .dataframe tbody tr th:only-of-type {\n",
              "        vertical-align: middle;\n",
              "    }\n",
              "\n",
              "    .dataframe tbody tr th {\n",
              "        vertical-align: top;\n",
              "    }\n",
              "\n",
              "    .dataframe thead th {\n",
              "        text-align: right;\n",
              "    }\n",
              "</style>\n",
              "<table border=\"1\" class=\"dataframe\">\n",
              "  <thead>\n",
              "    <tr style=\"text-align: right;\">\n",
              "      <th></th>\n",
              "      <th>Language</th>\n",
              "      <th>Source</th>\n",
              "    </tr>\n",
              "  </thead>\n",
              "  <tbody>\n",
              "    <tr>\n",
              "      <th>0</th>\n",
              "      <td>bash</td>\n",
              "      <td>#!/bin/bash\\n\\nstart_time=$(date +%s)\\nfor i i...</td>\n",
              "    </tr>\n",
              "    <tr>\n",
              "      <th>2</th>\n",
              "      <td>bash</td>\n",
              "      <td>function recursive(){\\n            for i in \"...</td>\n",
              "    </tr>\n",
              "    <tr>\n",
              "      <th>3</th>\n",
              "      <td>bash</td>\n",
              "      <td>bash\\npwd\\npwd\\n</td>\n",
              "    </tr>\n",
              "    <tr>\n",
              "      <th>4</th>\n",
              "      <td>bash</td>\n",
              "      <td>old_array=(\"color\" \"red\" \"shape\" \"circle\" \"vot...</td>\n",
              "    </tr>\n",
              "    <tr>\n",
              "      <th>5</th>\n",
              "      <td>bash</td>\n",
              "      <td>var1=\"this is ok\"\\n\\n_day 23. 45. 56. ...\\n\\nt...</td>\n",
              "    </tr>\n",
              "    <tr>\n",
              "      <th>...</th>\n",
              "      <td>...</td>\n",
              "      <td>...</td>\n",
              "    </tr>\n",
              "    <tr>\n",
              "      <th>37450</th>\n",
              "      <td>swift</td>\n",
              "      <td>enum Audience {\\n    case Public\\n    case Fri...</td>\n",
              "    </tr>\n",
              "    <tr>\n",
              "      <th>37451</th>\n",
              "      <td>swift</td>\n",
              "      <td>platform :ios, '8.0'\\npod 'AFNetworking'\\npod ...</td>\n",
              "    </tr>\n",
              "    <tr>\n",
              "      <th>37452</th>\n",
              "      <td>swift</td>\n",
              "      <td>func foo() -&gt; Bar? { ... }\\n\\nlet fooResultOpt...</td>\n",
              "    </tr>\n",
              "    <tr>\n",
              "      <th>37453</th>\n",
              "      <td>swift</td>\n",
              "      <td>iPad\\noverride func shouldAutorotate() -&gt; Bool...</td>\n",
              "    </tr>\n",
              "    <tr>\n",
              "      <th>37454</th>\n",
              "      <td>swift</td>\n",
              "      <td>if (FBSession.activeSession().isOpen) {\\n ...</td>\n",
              "    </tr>\n",
              "  </tbody>\n",
              "</table>\n",
              "<p>37454 rows × 2 columns</p>\n",
              "</div>"
            ],
            "text/plain": [
              "      Language                                             Source\n",
              "0         bash  #!/bin/bash\\n\\nstart_time=$(date +%s)\\nfor i i...\n",
              "2         bash   function recursive(){\\n            for i in \"...\n",
              "3         bash                                   bash\\npwd\\npwd\\n\n",
              "4         bash  old_array=(\"color\" \"red\" \"shape\" \"circle\" \"vot...\n",
              "5         bash  var1=\"this is ok\"\\n\\n_day 23. 45. 56. ...\\n\\nt...\n",
              "...        ...                                                ...\n",
              "37450    swift  enum Audience {\\n    case Public\\n    case Fri...\n",
              "37451    swift  platform :ios, '8.0'\\npod 'AFNetworking'\\npod ...\n",
              "37452    swift  func foo() -> Bar? { ... }\\n\\nlet fooResultOpt...\n",
              "37453    swift  iPad\\noverride func shouldAutorotate() -> Bool...\n",
              "37454    swift      if (FBSession.activeSession().isOpen) {\\n ...\n",
              "\n",
              "[37454 rows x 2 columns]"
            ]
          },
          "metadata": {
            "tags": []
          },
          "execution_count": 12
        }
      ]
    },
    {
      "cell_type": "markdown",
      "metadata": {
        "id": "neNBwNa4O7wy"
      },
      "source": [
        "#### describing dataset"
      ]
    },
    {
      "cell_type": "code",
      "metadata": {
        "colab": {
          "base_uri": "https://localhost:8080/",
          "height": 369
        },
        "id": "IQgcneENO56B",
        "outputId": "ea3296ad-e8c8-410c-a9d5-c98508926c33"
      },
      "source": [
        "data_copy.groupby('Language')['Source'].count().plot.bar(ylim=0,grid=False,color='#11100f')\n",
        "plt.xlabel('\\n languages')\n",
        "plt.ylabel('no of examples available')\n",
        "plt.title('Dataset')"
      ],
      "execution_count": 13,
      "outputs": [
        {
          "output_type": "execute_result",
          "data": {
            "text/plain": [
              "Text(0.5, 1.0, 'Dataset')"
            ]
          },
          "metadata": {
            "tags": []
          },
          "execution_count": 13
        },
        {
          "output_type": "display_data",
          "data": {
            "image/png": "[encoded data removed]",
            "text/plain": [
              "<Figure size 432x288 with 1 Axes>"
            ]
          },
          "metadata": {
            "tags": [],
            "needs_background": "light"
          }
        }
      ]
    },
    {
      "cell_type": "markdown",
      "metadata": {
        "id": "aO7q4fNQPBFo"
      },
      "source": [
        "### PREPROCESSING OF DATASET USING REGULAR EXPRESSION AND NLTK"
      ]
    },
    {
      "cell_type": "code",
      "metadata": {
        "colab": {
          "base_uri": "https://localhost:8080/"
        },
        "id": "Qotfaj1tO-Jh",
        "outputId": "b5e7a3b4-327c-40ec-9219-4ee50ca2f892"
      },
      "source": [
        "import re\n",
        "import nltk\n",
        "\n",
        "from nltk.corpus import stopwords\n",
        "from nltk.tokenize import word_tokenize\n",
        "\n",
        "nltk.download('stopwords')\n",
        "nltk.download('punkt')\n",
        "print('.....done')"
      ],
      "execution_count": 14,
      "outputs": [
        {
          "output_type": "stream",
          "text": [
            "[nltk_data] Downloading package stopwords to /root/nltk_data...\n",
            "[nltk_data]   Unzipping corpora/stopwords.zip.\n",
            "[nltk_data] Downloading package punkt to /root/nltk_data...\n",
            "[nltk_data]   Unzipping tokenizers/punkt.zip.\n",
            ".....done\n"
          ],
          "name": "stdout"
        }
      ]
    },
    {
      "cell_type": "code",
      "metadata": {
        "colab": {
          "base_uri": "https://localhost:8080/"
        },
        "id": "nBUBXrzePF8K",
        "outputId": "6b37b029-bb9b-4293-a654-b9f1ffa2a805"
      },
      "source": [
        "stopwords_list = stopwords.words('english')\n",
        "print(len(stopwords_list))\n",
        "stopwords_list.extend(['left','right','up','down','center','centre'])\n",
        "print(len(stopwords_list))\n",
        "stopwords_list.extend(['bottom','start','end','price','location','fix','here'])\n",
        "print(len(stopwords_list))\n"
      ],
      "execution_count": 15,
      "outputs": [
        {
          "output_type": "stream",
          "text": [
            "179\n",
            "185\n",
            "192\n"
          ],
          "name": "stdout"
        }
      ]
    },
    {
      "cell_type": "markdown",
      "metadata": {
        "id": "54iBuoP-POy-"
      },
      "source": [
        "### function to clean data"
      ]
    },
    {
      "cell_type": "code",
      "metadata": {
        "colab": {
          "base_uri": "https://localhost:8080/"
        },
        "id": "kXv4UW-dPQdC",
        "outputId": "6f896fe2-9e8b-49d5-e99e-243a3a9be6de"
      },
      "source": [
        "def expression1(text):\n",
        "    # remove single character\n",
        "\n",
        "    #removing url \n",
        "    text = re.sub(r\"http\\S+\", \"\", text)\n",
        "    text = re.sub(r'^https?://.*[\\r\\n]*', '', text, flags=re.MULTILINE)\n",
        "    text = re.sub(r'^http?://.*[\\r\\n]*', '', text, flags=re.MULTILINE)\n",
        "    text = re.sub(r'^www?://.*[\\r\\n]*', '', text, flags=re.MULTILINE)\n",
        "\n",
        "    text = ' '.join(['' if len(i)==1 else i for i in text.split()])\n",
        "    \n",
        "    # text = re.sub('{','',text)\n",
        "    # text = re.sub('}','',text)\n",
        "    \n",
        "    # to remove '(' , ' )' , '[' , ']' ... replaced with a space \n",
        "    # text = re.sub('\\\\(',' ',text)\n",
        "    # text = re.sub('\\\\)',' ',text)\n",
        "    # text = re.sub('\\\\[',' ',text)\n",
        "    # text = re.sub('\\\\]',' ',text)\n",
        "    # replace . with a space\n",
        "    # text = re.sub('\\\\.',' ',text)\n",
        "    \n",
        "    # remove unicode\n",
        "    \n",
        "    text = re.sub(r'(\\\\u[0-9A-Fa-f]+)',r'', text)       \n",
        "    text = re.sub(r'[^\\x00-\\x7f]',r'',text)\n",
        "    \n",
        "    # remove digits\n",
        "    text = re.sub('[0-9]',' ',text)\n",
        "    \n",
        "    #     remove + - * / < >\n",
        "    text = re.sub('\\\\+',' ',text)\n",
        "    text = re.sub('\\\\=',' ',text)\n",
        "    text = re.sub('\\\\-',' ',text)\n",
        "    text = re.sub('\\\\*',' ',text)\n",
        "    text = re.sub('\\\\/',' ',text)\n",
        "    # text = re.sub('\\\\<',' ',text)\n",
        "    # text = re.sub('\\\\>',' ',text)\n",
        "#     text = re.sub('\\\\:',' ',text)\n",
        "    \n",
        "#     text = text.replace(':',r' : ')\n",
        "    \n",
        "    \n",
        "    #     text = ' '.join(text.split())\n",
        "\n",
        "    # replace single chars again \n",
        "    text = ' '.join(['' if len(i)==1 else i for i in text.split()])\n",
        "    \n",
        "    # spacing quoted statement\n",
        "    text = re.sub('\"',' \" ',text)\n",
        "    # replace url\n",
        "\n",
        "    text = re.sub('((www\\.[^\\s]+)|(https?://[^\\s]+))',' ',text)\n",
        "        #Replaces url address with \"url\" \n",
        "    # text = re.sub('((www\\.[^\\s]+)|(https?://[^\\s]+))',' ',text)\n",
        "\t  # text = re.sub(r'#([^\\s]+)', r'\\1',text)\n",
        "\n",
        "    return text\n",
        "\n",
        "# def replaceURL(text):\n",
        "\n",
        "def clean_code(text):\n",
        "  text = expression1(text)\n",
        "  text_tokens = word_tokenize(text)\n",
        "  tokens_without_stopwords = [word for word in text_tokens if not word in stopwords_list] \n",
        "  # stopwords.words()]\n",
        "  return ' '.join(tokens_without_stopwords)\n",
        "def clean_code2(text):\n",
        "  text = expression1(text)\n",
        "  if len(text)>1001 or len(text)<9:\n",
        "    return ''\n",
        "  else:\n",
        "    text_tokens = word_tokenize(text)\n",
        "    tokens_without_stopwords = [word for word in text_tokens if not word in stopwords_list] \n",
        "  # stopwords.words()]\n",
        "    return ' '.join(tokens_without_stopwords)\n",
        "\n",
        "print(\"TRY expresion1\")"
      ],
      "execution_count": 16,
      "outputs": [
        {
          "output_type": "stream",
          "text": [
            "TRY expresion1\n"
          ],
          "name": "stdout"
        }
      ]
    },
    {
      "cell_type": "code",
      "metadata": {
        "colab": {
          "base_uri": "https://localhost:8080/"
        },
        "id": "4esxjWM8QIZH",
        "outputId": "d2ef3bc8-10fc-428d-99c6-e69b29e20f85"
      },
      "source": [
        "%%time\n",
        "\n",
        "line_7210 = data.iloc[15710]['Source']\n",
        "cleaned_7210 =  clean_code2(line_7210)\n",
        "\n",
        "print(line_7210 , '\\n ->',len(line_7210))\n",
        "print('-'*60,'\\n\\n')\n",
        "print(cleaned_7210,'\\n ->',len(cleaned_7210))\n"
      ],
      "execution_count": 17,
      "outputs": [
        {
          "output_type": "stream",
          "text": [
            "<script>\n",
            "var c = prompt('Name?', '');\n",
            "alert(c); // displays whatever the user entered\n",
            "</script>\n",
            "\n",
            " \n",
            " -> 97\n",
            "------------------------------------------------------------ \n",
            "\n",
            "\n",
            "< script > var prompt ( 'Name ? ' , '' ) ; alert ( c ) ; displays whatever user entered script > \n",
            " -> 96\n",
            "CPU times: user 9.42 ms, sys: 1.9 ms, total: 11.3 ms\n",
            "Wall time: 12.2 ms\n"
          ],
          "name": "stdout"
        }
      ]
    },
    {
      "cell_type": "markdown",
      "metadata": {
        "id": "8JuzwlHvQStq"
      },
      "source": [
        "#### Cleaning dataset"
      ]
    },
    {
      "cell_type": "code",
      "metadata": {
        "colab": {
          "base_uri": "https://localhost:8080/"
        },
        "id": "Ld_D4fQmQMMp",
        "outputId": "c6a8821c-2062-4695-b3bc-db2bfb32ec78"
      },
      "source": [
        "%%time\n",
        "\n",
        "dataset_refined = data_copy.copy()\n",
        "print('->created a copy')\n",
        "dataset_refined['Source'] =  dataset_refined['Source'].astype(str)\n",
        "print('\\n->as string')\n",
        "dataset_refined['Source'] =  dataset_refined['Source'].apply(clean_code)\n",
        "print('\\n->cleaned code with expression1')\n",
        "dataset_refined.to_csv('dataset/cleaned_data_3_v2.csv',index=None)\n",
        "print('\\n->saved cleaned csv , columns : ',dataset_refined.columns)\n",
        "\n",
        "print('done')"
      ],
      "execution_count": 18,
      "outputs": [
        {
          "output_type": "stream",
          "text": [
            "->created a copy\n",
            "\n",
            "->as string\n",
            "\n",
            "->cleaned code with expression1\n",
            "\n",
            "->saved cleaned csv , columns :  Index(['Language', 'Source'], dtype='object')\n",
            "done\n",
            "CPU times: user 27.9 s, sys: 26.6 ms, total: 27.9 s\n",
            "Wall time: 27.9 s\n"
          ],
          "name": "stdout"
        }
      ]
    },
    {
      "cell_type": "code",
      "metadata": {
        "colab": {
          "base_uri": "https://localhost:8080/",
          "height": 419
        },
        "id": "24JYUgCXQV4U",
        "outputId": "92f5da22-cf64-4056-ec00-0d6dc85b1a17"
      },
      "source": [
        "df = pd.read_csv('/content/dataset/cleaned_data_3_v2.csv')\n",
        "df"
      ],
      "execution_count": 19,
      "outputs": [
        {
          "output_type": "execute_result",
          "data": {
            "text/html": [
              "<div>\n",
              "<style scoped>\n",
              "    .dataframe tbody tr th:only-of-type {\n",
              "        vertical-align: middle;\n",
              "    }\n",
              "\n",
              "    .dataframe tbody tr th {\n",
              "        vertical-align: top;\n",
              "    }\n",
              "\n",
              "    .dataframe thead th {\n",
              "        text-align: right;\n",
              "    }\n",
              "</style>\n",
              "<table border=\"1\" class=\"dataframe\">\n",
              "  <thead>\n",
              "    <tr style=\"text-align: right;\">\n",
              "      <th></th>\n",
              "      <th>Language</th>\n",
              "      <th>Source</th>\n",
              "    </tr>\n",
              "  </thead>\n",
              "  <tbody>\n",
              "    <tr>\n",
              "      <th>0</th>\n",
              "      <td>bash</td>\n",
              "      <td># ! bin bash start_time $ ( date % ) .. echo `...</td>\n",
              "    </tr>\n",
              "    <tr>\n",
              "      <th>1</th>\n",
              "      <td>bash</td>\n",
              "      <td>function recursive ( ) { `` $ $ ] ; echo `` FI...</td>\n",
              "    </tr>\n",
              "    <tr>\n",
              "      <th>2</th>\n",
              "      <td>bash</td>\n",
              "      <td>bash pwd pwd</td>\n",
              "    </tr>\n",
              "    <tr>\n",
              "      <th>3</th>\n",
              "      <td>bash</td>\n",
              "      <td>old_array ( `` color `` `` red `` `` shape `` ...</td>\n",
              "    </tr>\n",
              "    <tr>\n",
              "      <th>4</th>\n",
              "      <td>bash</td>\n",
              "      <td>var `` ok `` _day ... ok_day sed `` $ { var } ...</td>\n",
              "    </tr>\n",
              "    <tr>\n",
              "      <th>...</th>\n",
              "      <td>...</td>\n",
              "      <td>...</td>\n",
              "    </tr>\n",
              "    <tr>\n",
              "      <th>37449</th>\n",
              "      <td>swift</td>\n",
              "      <td>enum Audience case Public case Friends case Pr...</td>\n",
              "    </tr>\n",
              "    <tr>\n",
              "      <th>37450</th>\n",
              "      <td>swift</td>\n",
              "      <td>platform : ios , pod 'AFNetworking ' pod 'MBPr...</td>\n",
              "    </tr>\n",
              "    <tr>\n",
              "      <th>37451</th>\n",
              "      <td>swift</td>\n",
              "      <td>func foo ( ) Bar ? ... let fooResultOpt foo ( ...</td>\n",
              "    </tr>\n",
              "    <tr>\n",
              "      <th>37452</th>\n",
              "      <td>swift</td>\n",
              "      <td>iPad override func shouldAutorotate ( ) Bool r...</td>\n",
              "    </tr>\n",
              "    <tr>\n",
              "      <th>37453</th>\n",
              "      <td>swift</td>\n",
              "      <td>( FBSession.activeSession ( ) .isOpen ) var ca...</td>\n",
              "    </tr>\n",
              "  </tbody>\n",
              "</table>\n",
              "<p>37454 rows × 2 columns</p>\n",
              "</div>"
            ],
            "text/plain": [
              "      Language                                             Source\n",
              "0         bash  # ! bin bash start_time $ ( date % ) .. echo `...\n",
              "1         bash  function recursive ( ) { `` $ $ ] ; echo `` FI...\n",
              "2         bash                                       bash pwd pwd\n",
              "3         bash  old_array ( `` color `` `` red `` `` shape `` ...\n",
              "4         bash  var `` ok `` _day ... ok_day sed `` $ { var } ...\n",
              "...        ...                                                ...\n",
              "37449    swift  enum Audience case Public case Friends case Pr...\n",
              "37450    swift  platform : ios , pod 'AFNetworking ' pod 'MBPr...\n",
              "37451    swift  func foo ( ) Bar ? ... let fooResultOpt foo ( ...\n",
              "37452    swift  iPad override func shouldAutorotate ( ) Bool r...\n",
              "37453    swift  ( FBSession.activeSession ( ) .isOpen ) var ca...\n",
              "\n",
              "[37454 rows x 2 columns]"
            ]
          },
          "metadata": {
            "tags": []
          },
          "execution_count": 19
        }
      ]
    },
    {
      "cell_type": "code",
      "metadata": {
        "colab": {
          "base_uri": "https://localhost:8080/"
        },
        "id": "rfFZHo57YhPS",
        "outputId": "ae7df018-a802-4d7e-e8cc-102de5892422"
      },
      "source": [
        "len(df)"
      ],
      "execution_count": 20,
      "outputs": [
        {
          "output_type": "execute_result",
          "data": {
            "text/plain": [
              "37454"
            ]
          },
          "metadata": {
            "tags": []
          },
          "execution_count": 20
        }
      ]
    },
    {
      "cell_type": "code",
      "metadata": {
        "colab": {
          "base_uri": "https://localhost:8080/"
        },
        "id": "5MQqZHtKYjDi",
        "outputId": "2e43eaeb-68c3-42be-c1dc-7ca0d523616c"
      },
      "source": [
        "cleaned_df = None\n",
        "print(cleaned_df)\n",
        "cleaned_df = df.dropna().copy()\n",
        "print(len(cleaned_df))"
      ],
      "execution_count": 21,
      "outputs": [
        {
          "output_type": "stream",
          "text": [
            "None\n",
            "37283\n"
          ],
          "name": "stdout"
        }
      ]
    },
    {
      "cell_type": "code",
      "metadata": {
        "colab": {
          "base_uri": "https://localhost:8080/"
        },
        "id": "y_k5ID4JQdFN",
        "outputId": "d48d06aa-12f7-41e5-84cd-8384444f94a3"
      },
      "source": [
        "%%time\n",
        "\n",
        "cleaned_df[\"lang_id\"] = cleaned_df['Language'].factorize()[0]\n",
        "print('>>> lang id created')\n",
        "lang_id_df = cleaned_df[['Language', 'lang_id']].drop_duplicates().sort_values('lang_id')\n",
        "print('>>> added to dataframe')\n",
        "lang_to_id = dict(lang_id_df.values)\n",
        "id_to_lang = dict(lang_id_df[['lang_id', 'Language']].values)\n",
        "print('>>> now columns : ',cleaned_df.columns)"
      ],
      "execution_count": 22,
      "outputs": [
        {
          "output_type": "stream",
          "text": [
            ">>> lang id created\n",
            ">>> added to dataframe\n",
            ">>> now columns :  Index(['Language', 'Source', 'lang_id'], dtype='object')\n",
            "CPU times: user 13.1 ms, sys: 0 ns, total: 13.1 ms\n",
            "Wall time: 15.5 ms\n"
          ],
          "name": "stdout"
        }
      ]
    },
    {
      "cell_type": "code",
      "metadata": {
        "colab": {
          "base_uri": "https://localhost:8080/",
          "height": 419
        },
        "id": "fegPD4XiQieN",
        "outputId": "532f2388-04fd-4669-8b16-175aef14567c"
      },
      "source": [
        "cleaned_df"
      ],
      "execution_count": 23,
      "outputs": [
        {
          "output_type": "execute_result",
          "data": {
            "text/html": [
              "<div>\n",
              "<style scoped>\n",
              "    .dataframe tbody tr th:only-of-type {\n",
              "        vertical-align: middle;\n",
              "    }\n",
              "\n",
              "    .dataframe tbody tr th {\n",
              "        vertical-align: top;\n",
              "    }\n",
              "\n",
              "    .dataframe thead th {\n",
              "        text-align: right;\n",
              "    }\n",
              "</style>\n",
              "<table border=\"1\" class=\"dataframe\">\n",
              "  <thead>\n",
              "    <tr style=\"text-align: right;\">\n",
              "      <th></th>\n",
              "      <th>Language</th>\n",
              "      <th>Source</th>\n",
              "      <th>lang_id</th>\n",
              "    </tr>\n",
              "  </thead>\n",
              "  <tbody>\n",
              "    <tr>\n",
              "      <th>0</th>\n",
              "      <td>bash</td>\n",
              "      <td># ! bin bash start_time $ ( date % ) .. echo `...</td>\n",
              "      <td>0</td>\n",
              "    </tr>\n",
              "    <tr>\n",
              "      <th>1</th>\n",
              "      <td>bash</td>\n",
              "      <td>function recursive ( ) { `` $ $ ] ; echo `` FI...</td>\n",
              "      <td>0</td>\n",
              "    </tr>\n",
              "    <tr>\n",
              "      <th>2</th>\n",
              "      <td>bash</td>\n",
              "      <td>bash pwd pwd</td>\n",
              "      <td>0</td>\n",
              "    </tr>\n",
              "    <tr>\n",
              "      <th>3</th>\n",
              "      <td>bash</td>\n",
              "      <td>old_array ( `` color `` `` red `` `` shape `` ...</td>\n",
              "      <td>0</td>\n",
              "    </tr>\n",
              "    <tr>\n",
              "      <th>4</th>\n",
              "      <td>bash</td>\n",
              "      <td>var `` ok `` _day ... ok_day sed `` $ { var } ...</td>\n",
              "      <td>0</td>\n",
              "    </tr>\n",
              "    <tr>\n",
              "      <th>...</th>\n",
              "      <td>...</td>\n",
              "      <td>...</td>\n",
              "      <td>...</td>\n",
              "    </tr>\n",
              "    <tr>\n",
              "      <th>37449</th>\n",
              "      <td>swift</td>\n",
              "      <td>enum Audience case Public case Friends case Pr...</td>\n",
              "      <td>14</td>\n",
              "    </tr>\n",
              "    <tr>\n",
              "      <th>37450</th>\n",
              "      <td>swift</td>\n",
              "      <td>platform : ios , pod 'AFNetworking ' pod 'MBPr...</td>\n",
              "      <td>14</td>\n",
              "    </tr>\n",
              "    <tr>\n",
              "      <th>37451</th>\n",
              "      <td>swift</td>\n",
              "      <td>func foo ( ) Bar ? ... let fooResultOpt foo ( ...</td>\n",
              "      <td>14</td>\n",
              "    </tr>\n",
              "    <tr>\n",
              "      <th>37452</th>\n",
              "      <td>swift</td>\n",
              "      <td>iPad override func shouldAutorotate ( ) Bool r...</td>\n",
              "      <td>14</td>\n",
              "    </tr>\n",
              "    <tr>\n",
              "      <th>37453</th>\n",
              "      <td>swift</td>\n",
              "      <td>( FBSession.activeSession ( ) .isOpen ) var ca...</td>\n",
              "      <td>14</td>\n",
              "    </tr>\n",
              "  </tbody>\n",
              "</table>\n",
              "<p>37283 rows × 3 columns</p>\n",
              "</div>"
            ],
            "text/plain": [
              "      Language                                             Source  lang_id\n",
              "0         bash  # ! bin bash start_time $ ( date % ) .. echo `...        0\n",
              "1         bash  function recursive ( ) { `` $ $ ] ; echo `` FI...        0\n",
              "2         bash                                       bash pwd pwd        0\n",
              "3         bash  old_array ( `` color `` `` red `` `` shape `` ...        0\n",
              "4         bash  var `` ok `` _day ... ok_day sed `` $ { var } ...        0\n",
              "...        ...                                                ...      ...\n",
              "37449    swift  enum Audience case Public case Friends case Pr...       14\n",
              "37450    swift  platform : ios , pod 'AFNetworking ' pod 'MBPr...       14\n",
              "37451    swift  func foo ( ) Bar ? ... let fooResultOpt foo ( ...       14\n",
              "37452    swift  iPad override func shouldAutorotate ( ) Bool r...       14\n",
              "37453    swift  ( FBSession.activeSession ( ) .isOpen ) var ca...       14\n",
              "\n",
              "[37283 rows x 3 columns]"
            ]
          },
          "metadata": {
            "tags": []
          },
          "execution_count": 23
        }
      ]
    },
    {
      "cell_type": "markdown",
      "metadata": {
        "id": "DBakVlKZQxIM"
      },
      "source": [
        "### copying tokenizer for converting sentences to sequences"
      ]
    },
    {
      "cell_type": "code",
      "metadata": {
        "colab": {
          "base_uri": "https://localhost:8080/"
        },
        "id": "CPVksSJDQ1fy",
        "outputId": "3676aef0-1675-4c50-9fdc-e9bafd46acc8"
      },
      "source": [
        "# !cp '/content/drive/My Drive/datasets/LanguageDataset/final_changes/DL_models/tokenizer_model4_v2.pickle' '/content/dataset'\n",
        "\n",
        "!cp '/content/drive/My Drive/datasets/LanguageDataset/final_changes/DL_models/tokenizer_Jan5_v3.pickle' '/content/dataset'\n",
        "\n",
        "!echo done"
      ],
      "execution_count": 24,
      "outputs": [
        {
          "output_type": "stream",
          "text": [
            "done\n"
          ],
          "name": "stdout"
        }
      ]
    },
    {
      "cell_type": "code",
      "metadata": {
        "colab": {
          "base_uri": "https://localhost:8080/"
        },
        "id": "a4nVKtyaRB2o",
        "outputId": "168b11a2-5751-482b-f0af-cc7ec207b659"
      },
      "source": [
        "%%time\n",
        "\n",
        "from tensorflow.keras.preprocessing.text import Tokenizer\n",
        "from tensorflow.keras.preprocessing.sequence import pad_sequences\n",
        "import pickle\n",
        "\n",
        "vocab_size = 10000\n",
        "trunc_type='post'\n",
        "oov_tok = \"<OOV>\"\n",
        "\n",
        "print('loading pickle')\n",
        "# loading\n",
        "with open('/content/dataset/tokenizer_Jan5_v3.pickle', 'rb') as handle:\n",
        "    tokenizer = pickle.load(handle)\n",
        "\n",
        "print('loaded',type(tokenizer))"
      ],
      "execution_count": 25,
      "outputs": [
        {
          "output_type": "stream",
          "text": [
            "loading pickle\n",
            "loaded <class 'keras_preprocessing.text.Tokenizer'>\n",
            "CPU times: user 1.18 s, sys: 124 ms, total: 1.31 s\n",
            "Wall time: 1.31 s\n"
          ],
          "name": "stdout"
        }
      ]
    },
    {
      "cell_type": "code",
      "metadata": {
        "colab": {
          "base_uri": "https://localhost:8080/"
        },
        "id": "U-35pEcMRCRP",
        "outputId": "3216c79b-a288-440d-9c9d-7554e32a77bc"
      },
      "source": [
        "tokenizer"
      ],
      "execution_count": 26,
      "outputs": [
        {
          "output_type": "execute_result",
          "data": {
            "text/plain": [
              "<keras_preprocessing.text.Tokenizer at 0x7f174c414d30>"
            ]
          },
          "metadata": {
            "tags": []
          },
          "execution_count": 26
        }
      ]
    },
    {
      "cell_type": "code",
      "metadata": {
        "colab": {
          "base_uri": "https://localhost:8080/"
        },
        "id": "4IMVR80PRy3m",
        "outputId": "3e8745da-4e67-4c52-d7c3-69da98f280e4"
      },
      "source": [
        "word_index = tokenizer.word_index\n",
        "print('len of word index',len(word_index)) # should be 80..."
      ],
      "execution_count": 27,
      "outputs": [
        {
          "output_type": "stream",
          "text": [
            "len of word index 80691\n"
          ],
          "name": "stdout"
        }
      ]
    },
    {
      "cell_type": "markdown",
      "metadata": {
        "id": "0PYaf-7WR4s8"
      },
      "source": [
        "### transform sentences using tokenizer"
      ]
    },
    {
      "cell_type": "code",
      "metadata": {
        "id": "WzRa5tD0R4fg"
      },
      "source": [
        "max_length = 1000\n",
        "trunc_type='post'"
      ],
      "execution_count": 28,
      "outputs": []
    },
    {
      "cell_type": "code",
      "metadata": {
        "colab": {
          "base_uri": "https://localhost:8080/"
        },
        "id": "SRp8job5R4Tv",
        "outputId": "7ba48c69-3b41-443c-c4d4-5e478ea49765"
      },
      "source": [
        "%%time\n",
        "print('converting whole data')\n",
        "X = tokenizer.texts_to_sequences(cleaned_df['Source'].values.astype('U'))\n",
        "print(' .... converted text to sequences' , type(X),'\\n ')\n",
        "print('-'*70)"
      ],
      "execution_count": 29,
      "outputs": [
        {
          "output_type": "stream",
          "text": [
            "converting whole data\n",
            " .... converted text to sequences <class 'list'> \n",
            " \n",
            "----------------------------------------------------------------------\n",
            "CPU times: user 6.38 s, sys: 2.26 s, total: 8.65 s\n",
            "Wall time: 8.66 s\n"
          ],
          "name": "stdout"
        }
      ]
    },
    {
      "cell_type": "markdown",
      "metadata": {
        "id": "nC3YFNv-SSI3"
      },
      "source": [
        "### pad sequences"
      ]
    },
    {
      "cell_type": "code",
      "metadata": {
        "colab": {
          "base_uri": "https://localhost:8080/"
        },
        "id": "-zA4GgQKSR5i",
        "outputId": "24e3e6ae-103a-49e6-d803-c01c4aac48c6"
      },
      "source": [
        "%%time\n",
        "X_padded = pad_sequences(X,maxlen=max_length, truncating=trunc_type)\n",
        "print('sequence padded')\n",
        "print(type(X_padded),'\\n padded to ',X_padded.shape)"
      ],
      "execution_count": 30,
      "outputs": [
        {
          "output_type": "stream",
          "text": [
            "sequence padded\n",
            "<class 'numpy.ndarray'> \n",
            " padded to  (37283, 1000)\n",
            "CPU times: user 282 ms, sys: 0 ns, total: 282 ms\n",
            "Wall time: 283 ms\n"
          ],
          "name": "stdout"
        }
      ]
    },
    {
      "cell_type": "markdown",
      "metadata": {
        "id": "JGkpQvcoSoBA"
      },
      "source": [
        "### Creating labels"
      ]
    },
    {
      "cell_type": "code",
      "metadata": {
        "colab": {
          "base_uri": "https://localhost:8080/"
        },
        "id": "HQskYMRtSpzD",
        "outputId": "41f96f5a-6cdc-4ef4-909f-95816bb17a6f"
      },
      "source": [
        "Y = pd.get_dummies(cleaned_df['Language'].values.astype('U'))\n",
        "print('and Y : ',type(Y))\n",
        "y = np.asarray(Y)\n",
        "print(X_padded.shape , y.shape)"
      ],
      "execution_count": 31,
      "outputs": [
        {
          "output_type": "stream",
          "text": [
            "and Y :  <class 'pandas.core.frame.DataFrame'>\n",
            "(37283, 1000) (37283, 15)\n"
          ],
          "name": "stdout"
        }
      ]
    },
    {
      "cell_type": "markdown",
      "metadata": {
        "id": "t2w2QvOkQmPQ"
      },
      "source": [
        "#### Train Test Split <br> this time using sklearn.model_selection train test split"
      ]
    },
    {
      "cell_type": "code",
      "metadata": {
        "id": "yHb5v7vbQjfU"
      },
      "source": [
        "from sklearn.model_selection import train_test_split"
      ],
      "execution_count": 32,
      "outputs": []
    },
    {
      "cell_type": "code",
      "metadata": {
        "colab": {
          "base_uri": "https://localhost:8080/"
        },
        "id": "a2e1kDFaS3lf",
        "outputId": "ec4a63a3-0474-40fc-86c9-a811823c2fb9"
      },
      "source": [
        "%%time\n",
        "X_train, X_test, y_train, y_test = train_test_split( X_padded, y, test_size=0.33, random_state=42)\n",
        "\n",
        "print('training data : ',X_train.shape , ' ... ', y_train.shape)\n",
        "print('testing data : ',X_test.shape , ' ... ', y_test.shape)"
      ],
      "execution_count": 33,
      "outputs": [
        {
          "output_type": "stream",
          "text": [
            "training data :  (24979, 1000)  ...  (24979, 15)\n",
            "testing data :  (12304, 1000)  ...  (12304, 15)\n",
            "CPU times: user 51.6 ms, sys: 0 ns, total: 51.6 ms\n",
            "Wall time: 51.8 ms\n"
          ],
          "name": "stdout"
        }
      ]
    },
    {
      "cell_type": "markdown",
      "metadata": {
        "id": "6LB6Snc9TX0W"
      },
      "source": [
        "### Copy model"
      ]
    },
    {
      "cell_type": "code",
      "metadata": {
        "colab": {
          "base_uri": "https://localhost:8080/"
        },
        "id": "2bLKafmlTLdP",
        "outputId": "1c097fcb-792d-45d6-c6ca-12350445667f"
      },
      "source": [
        "# !cp '/content/drive/My Drive/datasets/LanguageDataset/final_changes/DL_models/model4_use_tokenizer4_v2.zip' '/content/dataset'\n",
        "!cp '/content/drive/My Drive/datasets/LanguageDataset/final_changes/DL_models/Jan5_model3_withLSTM_2ndTraining.zip' '/content/dataset'\n",
        "!echo copied"
      ],
      "execution_count": 34,
      "outputs": [
        {
          "output_type": "stream",
          "text": [
            "copied\n"
          ],
          "name": "stdout"
        }
      ]
    },
    {
      "cell_type": "markdown",
      "metadata": {
        "id": "6dkd2kC_Tn6G"
      },
      "source": [
        "### unzip"
      ]
    },
    {
      "cell_type": "code",
      "metadata": {
        "colab": {
          "base_uri": "https://localhost:8080/"
        },
        "id": "WIX8lL47Tico",
        "outputId": "cf167817-e29f-48d1-9864-41d8cb3c3f93"
      },
      "source": [
        "!unzip '/content/dataset/Jan5_model3_withLSTM_2ndTraining.zip'"
      ],
      "execution_count": 35,
      "outputs": [
        {
          "output_type": "stream",
          "text": [
            "Archive:  /content/dataset/Jan5_model3_withLSTM_2ndTraining.zip\n",
            "   creating: content/content/Jan5_model3_withLSTM_2ndTraining/\n",
            "  inflating: content/content/Jan5_model3_withLSTM_2ndTraining/saved_model.pb  \n",
            "   creating: content/content/Jan5_model3_withLSTM_2ndTraining/assets/\n",
            "   creating: content/content/Jan5_model3_withLSTM_2ndTraining/variables/\n",
            "  inflating: content/content/Jan5_model3_withLSTM_2ndTraining/variables/variables.index  \n",
            "  inflating: content/content/Jan5_model3_withLSTM_2ndTraining/variables/variables.data-00000-of-00001  \n"
          ],
          "name": "stdout"
        }
      ]
    },
    {
      "cell_type": "code",
      "metadata": {
        "id": "Gl23igZUT-Fn"
      },
      "source": [
        "model_path = '/content/content/content/Jan5_model3_withLSTM_2ndTraining'\n"
      ],
      "execution_count": 36,
      "outputs": []
    },
    {
      "cell_type": "markdown",
      "metadata": {
        "id": "CtVRaq_XULqR"
      },
      "source": [
        "### Loading the model"
      ]
    },
    {
      "cell_type": "code",
      "metadata": {
        "colab": {
          "base_uri": "https://localhost:8080/"
        },
        "id": "6YtFtnAEUGwR",
        "outputId": "4b591a9f-0479-4a88-93e1-67d23b83253a"
      },
      "source": [
        "%%time\n",
        "\n",
        "from keras.models import load_model\n",
        "\n",
        "model = load_model(model_path)\n",
        "print('loaded')"
      ],
      "execution_count": 37,
      "outputs": [
        {
          "output_type": "stream",
          "text": [
            "loaded\n",
            "CPU times: user 3.15 s, sys: 512 ms, total: 3.67 s\n",
            "Wall time: 8.56 s\n"
          ],
          "name": "stdout"
        }
      ]
    },
    {
      "cell_type": "code",
      "metadata": {
        "colab": {
          "base_uri": "https://localhost:8080/"
        },
        "id": "g0riwsA5UWU5",
        "outputId": "52753561-53dd-4ec9-eb57-668b9914d502"
      },
      "source": [
        "model.summary()"
      ],
      "execution_count": 38,
      "outputs": [
        {
          "output_type": "stream",
          "text": [
            "Model: \"sequential\"\n",
            "_________________________________________________________________\n",
            "Layer (type)                 Output Shape              Param #   \n",
            "=================================================================\n",
            "embedding (Embedding)        (None, 1000, 32)          320000    \n",
            "_________________________________________________________________\n",
            "conv1d (Conv1D)              (None, 996, 128)          20608     \n",
            "_________________________________________________________________\n",
            "max_pooling1d (MaxPooling1D) (None, 199, 128)          0         \n",
            "_________________________________________________________________\n",
            "batch_normalization (BatchNo (None, 199, 128)          512       \n",
            "_________________________________________________________________\n",
            "activation (Activation)      (None, 199, 128)          0         \n",
            "_________________________________________________________________\n",
            "lstm (LSTM)                  (None, 64)                49408     \n",
            "_________________________________________________________________\n",
            "dropout (Dropout)            (None, 64)                0         \n",
            "_________________________________________________________________\n",
            "dense (Dense)                (None, 64)                4160      \n",
            "_________________________________________________________________\n",
            "batch_normalization_1 (Batch (None, 64)                256       \n",
            "_________________________________________________________________\n",
            "activation_1 (Activation)    (None, 64)                0         \n",
            "_________________________________________________________________\n",
            "flatten (Flatten)            (None, 64)                0         \n",
            "_________________________________________________________________\n",
            "dense_1 (Dense)              (None, 15)                975       \n",
            "_________________________________________________________________\n",
            "batch_normalization_2 (Batch (None, 15)                60        \n",
            "_________________________________________________________________\n",
            "activation_2 (Activation)    (None, 15)                0         \n",
            "_________________________________________________________________\n",
            "flatten_1 (Flatten)          (None, 15)                0         \n",
            "_________________________________________________________________\n",
            "activation_3 (Activation)    (None, 15)                0         \n",
            "=================================================================\n",
            "Total params: 395,979\n",
            "Trainable params: 395,565\n",
            "Non-trainable params: 414\n",
            "_________________________________________________________________\n"
          ],
          "name": "stdout"
        }
      ]
    },
    {
      "cell_type": "code",
      "metadata": {
        "id": "BJVSYT0kUhiL"
      },
      "source": [
        "from sklearn.model_selection import KFold\n",
        "\n",
        "# n_fold = 2\n",
        "# n_fold = 3 \n",
        "# n_fold = 5\n",
        "n_fold = 10\n",
        "\n",
        "k_fold = KFold(n_fold,shuffle=True,random_state=31)"
      ],
      "execution_count": 39,
      "outputs": []
    },
    {
      "cell_type": "code",
      "metadata": {
        "colab": {
          "base_uri": "https://localhost:8080/"
        },
        "id": "OESWPkqjUsHI",
        "outputId": "1b456221-5158-45f9-de7b-b629f5091660"
      },
      "source": [
        "k_fold"
      ],
      "execution_count": 40,
      "outputs": [
        {
          "output_type": "execute_result",
          "data": {
            "text/plain": [
              "KFold(n_splits=10, random_state=31, shuffle=True)"
            ]
          },
          "metadata": {
            "tags": []
          },
          "execution_count": 40
        }
      ]
    },
    {
      "cell_type": "markdown",
      "metadata": {
        "id": "k_LWUuUnUny-"
      },
      "source": [
        "### Training the model"
      ]
    },
    {
      "cell_type": "code",
      "metadata": {
        "colab": {
          "base_uri": "https://localhost:8080/"
        },
        "id": "Z04W-hexUmwT",
        "outputId": "20d0f304-2d38-47e7-e002-9f5f53d7bfbb"
      },
      "source": [
        "%%time\n",
        "\n",
        "scores = []\n",
        "histories = []\n",
        "print('......... fitting the model again\\n')\n",
        "\n",
        "for train_iX,test_iX in k_fold.split(X_train):\n",
        "  # selecting rows for trainX and trainY first train data and then cross validation data\n",
        "  x_itrain,y_itrain,x_cv,y_cv = X_train[train_iX] , y_train[train_iX] , X_train[test_iX], y_train[test_iX]\n",
        "    # fit into model with batch sizes of 32 and epochs 10\n",
        "    # # history = my_model.fit(x_train,y_train,batch_size=32,epochs=10,verbose=1,validation_data=(x_cv,y_cv))\n",
        "  history = model.fit(x_itrain,y_itrain,batch_size=64,epochs=10,verbose=1,validation_data=(x_cv,y_cv))\n",
        "  # evaluate model\n",
        "  loss,acc = model.evaluate(X_test , y_test,verbose=2)\n",
        "  print('-'*80)\n",
        "  print('\\n\\t --> accuracy on test data : {:.6f}% and loss : {:.7f} <--\\n'.format(acc * 100.0,loss))\n",
        "  print('-'*80)\n",
        "    # # stores scores  \n",
        "  scores.append(acc)\n",
        "  histories.append(history)\n",
        "\n",
        "print('done')"
      ],
      "execution_count": 41,
      "outputs": [
        {
          "output_type": "stream",
          "text": [
            "......... fitting the model again\n",
            "\n",
            "Epoch 1/10\n",
            "352/352 [==============================] - 28s 55ms/step - loss: 2.2222 - accuracy: 0.6979 - val_loss: 2.1785 - val_accuracy: 0.7478\n",
            "Epoch 2/10\n",
            "352/352 [==============================] - 19s 54ms/step - loss: 2.2206 - accuracy: 0.7021 - val_loss: 2.1788 - val_accuracy: 0.7502\n",
            "Epoch 3/10\n",
            "352/352 [==============================] - 18s 51ms/step - loss: 2.2189 - accuracy: 0.7034 - val_loss: 2.1762 - val_accuracy: 0.7478\n",
            "Epoch 4/10\n",
            "352/352 [==============================] - 19s 55ms/step - loss: 2.2167 - accuracy: 0.7090 - val_loss: 2.1744 - val_accuracy: 0.7486\n",
            "Epoch 5/10\n",
            "352/352 [==============================] - 19s 53ms/step - loss: 2.2138 - accuracy: 0.7118 - val_loss: 2.1748 - val_accuracy: 0.7498\n",
            "Epoch 6/10\n",
            "352/352 [==============================] - 14s 40ms/step - loss: 2.2132 - accuracy: 0.7088 - val_loss: 2.1732 - val_accuracy: 0.7510\n",
            "Epoch 7/10\n",
            "352/352 [==============================] - 18s 51ms/step - loss: 2.2096 - accuracy: 0.7158 - val_loss: 2.1731 - val_accuracy: 0.7510\n",
            "Epoch 8/10\n",
            "352/352 [==============================] - 15s 42ms/step - loss: 2.2085 - accuracy: 0.7150 - val_loss: 2.1730 - val_accuracy: 0.7526\n",
            "Epoch 9/10\n",
            "352/352 [==============================] - 17s 47ms/step - loss: 2.2065 - accuracy: 0.7156 - val_loss: 2.1715 - val_accuracy: 0.7502\n",
            "Epoch 10/10\n",
            "352/352 [==============================] - 13s 38ms/step - loss: 2.2046 - accuracy: 0.7238 - val_loss: 2.1713 - val_accuracy: 0.7542\n",
            "385/385 - 3s - loss: 2.1812 - accuracy: 0.7311\n",
            "--------------------------------------------------------------------------------\n",
            "\n",
            "\t --> accuracy on test data : 73.114437% and loss : 2.1812325 <--\n",
            "\n",
            "--------------------------------------------------------------------------------\n",
            "Epoch 1/10\n",
            "352/352 [==============================] - 19s 53ms/step - loss: 2.2036 - accuracy: 0.7199 - val_loss: 2.1702 - val_accuracy: 0.7490\n",
            "Epoch 2/10\n",
            "352/352 [==============================] - 18s 52ms/step - loss: 2.2014 - accuracy: 0.7251 - val_loss: 2.1696 - val_accuracy: 0.7522\n",
            "Epoch 3/10\n",
            "352/352 [==============================] - 11s 30ms/step - loss: 2.2004 - accuracy: 0.7286 - val_loss: 2.1688 - val_accuracy: 0.7498\n",
            "Epoch 4/10\n",
            "352/352 [==============================] - 10s 30ms/step - loss: 2.1978 - accuracy: 0.7299 - val_loss: 2.1692 - val_accuracy: 0.7462\n",
            "Epoch 5/10\n",
            "352/352 [==============================] - 11s 30ms/step - loss: 2.1963 - accuracy: 0.7293 - val_loss: 2.1677 - val_accuracy: 0.7470\n",
            "Epoch 6/10\n",
            "352/352 [==============================] - 10s 30ms/step - loss: 2.1949 - accuracy: 0.7312 - val_loss: 2.1675 - val_accuracy: 0.7478\n",
            "Epoch 7/10\n",
            "352/352 [==============================] - 10s 30ms/step - loss: 2.1925 - accuracy: 0.7360 - val_loss: 2.1679 - val_accuracy: 0.7470\n",
            "Epoch 8/10\n",
            "352/352 [==============================] - 10s 29ms/step - loss: 2.1919 - accuracy: 0.7335 - val_loss: 2.1663 - val_accuracy: 0.7494\n",
            "Epoch 9/10\n",
            "352/352 [==============================] - 10s 29ms/step - loss: 2.1906 - accuracy: 0.7362 - val_loss: 2.1667 - val_accuracy: 0.7482\n",
            "Epoch 10/10\n",
            "352/352 [==============================] - 10s 30ms/step - loss: 2.1880 - accuracy: 0.7384 - val_loss: 2.1691 - val_accuracy: 0.7414\n",
            "385/385 - 3s - loss: 2.1761 - accuracy: 0.7320\n",
            "--------------------------------------------------------------------------------\n",
            "\n",
            "\t --> accuracy on test data : 73.195708% and loss : 2.1761377 <--\n",
            "\n",
            "--------------------------------------------------------------------------------\n",
            "Epoch 1/10\n",
            "352/352 [==============================] - 10s 30ms/step - loss: 2.1902 - accuracy: 0.7352 - val_loss: 2.1332 - val_accuracy: 0.8046\n",
            "Epoch 2/10\n",
            "352/352 [==============================] - 12s 34ms/step - loss: 2.1883 - accuracy: 0.7360 - val_loss: 2.1321 - val_accuracy: 0.8030\n",
            "Epoch 3/10\n",
            "352/352 [==============================] - 12s 34ms/step - loss: 2.1878 - accuracy: 0.7381 - val_loss: 2.1313 - val_accuracy: 0.8014\n",
            "Epoch 4/10\n",
            "352/352 [==============================] - 12s 33ms/step - loss: 2.1852 - accuracy: 0.7395 - val_loss: 2.1320 - val_accuracy: 0.8030\n",
            "Epoch 5/10\n",
            "352/352 [==============================] - 14s 40ms/step - loss: 2.1844 - accuracy: 0.7420 - val_loss: 2.1303 - val_accuracy: 0.8002\n",
            "Epoch 6/10\n",
            "352/352 [==============================] - 13s 37ms/step - loss: 2.1823 - accuracy: 0.7404 - val_loss: 2.1302 - val_accuracy: 0.7994\n",
            "Epoch 7/10\n",
            "352/352 [==============================] - 12s 35ms/step - loss: 2.1816 - accuracy: 0.7448 - val_loss: 2.1307 - val_accuracy: 0.8006\n",
            "Epoch 8/10\n",
            "352/352 [==============================] - 10s 29ms/step - loss: 2.1799 - accuracy: 0.7474 - val_loss: 2.1300 - val_accuracy: 0.7990\n",
            "Epoch 9/10\n",
            "352/352 [==============================] - 11s 31ms/step - loss: 2.1789 - accuracy: 0.7476 - val_loss: 2.1298 - val_accuracy: 0.7986\n",
            "Epoch 10/10\n",
            "352/352 [==============================] - 11s 30ms/step - loss: 2.1770 - accuracy: 0.7500 - val_loss: 2.1299 - val_accuracy: 0.8014\n",
            "385/385 - 3s - loss: 2.1680 - accuracy: 0.7372\n",
            "--------------------------------------------------------------------------------\n",
            "\n",
            "\t --> accuracy on test data : 73.723990% and loss : 2.1679771 <--\n",
            "\n",
            "--------------------------------------------------------------------------------\n",
            "Epoch 1/10\n",
            "352/352 [==============================] - 10s 30ms/step - loss: 2.1753 - accuracy: 0.7512 - val_loss: 2.1333 - val_accuracy: 0.7950\n",
            "Epoch 2/10\n",
            "352/352 [==============================] - 10s 29ms/step - loss: 2.1741 - accuracy: 0.7535 - val_loss: 2.1330 - val_accuracy: 0.7990\n",
            "Epoch 3/10\n",
            "352/352 [==============================] - 10s 29ms/step - loss: 2.1723 - accuracy: 0.7551 - val_loss: 2.1326 - val_accuracy: 0.7986\n",
            "Epoch 4/10\n",
            "352/352 [==============================] - 10s 29ms/step - loss: 2.1707 - accuracy: 0.7557 - val_loss: 2.1308 - val_accuracy: 0.7958\n",
            "Epoch 5/10\n",
            "352/352 [==============================] - 10s 29ms/step - loss: 2.1705 - accuracy: 0.7532 - val_loss: 2.1310 - val_accuracy: 0.7938\n",
            "Epoch 6/10\n",
            "352/352 [==============================] - 10s 30ms/step - loss: 2.1695 - accuracy: 0.7557 - val_loss: 2.1314 - val_accuracy: 0.7962\n",
            "Epoch 7/10\n",
            "352/352 [==============================] - 10s 29ms/step - loss: 2.1679 - accuracy: 0.7580 - val_loss: 2.1315 - val_accuracy: 0.7930\n",
            "Epoch 8/10\n",
            "352/352 [==============================] - 10s 29ms/step - loss: 2.1665 - accuracy: 0.7626 - val_loss: 2.1308 - val_accuracy: 0.7938\n",
            "Epoch 9/10\n",
            "352/352 [==============================] - 10s 29ms/step - loss: 2.1652 - accuracy: 0.7620 - val_loss: 2.1304 - val_accuracy: 0.7938\n",
            "Epoch 10/10\n",
            "352/352 [==============================] - 10s 30ms/step - loss: 2.1643 - accuracy: 0.7633 - val_loss: 2.1288 - val_accuracy: 0.7942\n",
            "385/385 - 3s - loss: 2.1617 - accuracy: 0.7379\n",
            "--------------------------------------------------------------------------------\n",
            "\n",
            "\t --> accuracy on test data : 73.789012% and loss : 2.1617131 <--\n",
            "\n",
            "--------------------------------------------------------------------------------\n",
            "Epoch 1/10\n",
            "352/352 [==============================] - 10s 29ms/step - loss: 2.1651 - accuracy: 0.7634 - val_loss: 2.1086 - val_accuracy: 0.8106\n",
            "Epoch 2/10\n",
            "352/352 [==============================] - 10s 29ms/step - loss: 2.1635 - accuracy: 0.7649 - val_loss: 2.1066 - val_accuracy: 0.8110\n",
            "Epoch 3/10\n",
            "352/352 [==============================] - 10s 29ms/step - loss: 2.1631 - accuracy: 0.7636 - val_loss: 2.1070 - val_accuracy: 0.8086\n",
            "Epoch 4/10\n",
            "352/352 [==============================] - 10s 29ms/step - loss: 2.1608 - accuracy: 0.7655 - val_loss: 2.1086 - val_accuracy: 0.8098\n",
            "Epoch 5/10\n",
            "352/352 [==============================] - 10s 29ms/step - loss: 2.1609 - accuracy: 0.7647 - val_loss: 2.1072 - val_accuracy: 0.8114\n",
            "Epoch 6/10\n",
            "352/352 [==============================] - 10s 29ms/step - loss: 2.1592 - accuracy: 0.7711 - val_loss: 2.1080 - val_accuracy: 0.8066\n",
            "Epoch 7/10\n",
            "352/352 [==============================] - 10s 29ms/step - loss: 2.1572 - accuracy: 0.7699 - val_loss: 2.1069 - val_accuracy: 0.8074\n",
            "Epoch 8/10\n",
            "352/352 [==============================] - 10s 29ms/step - loss: 2.1565 - accuracy: 0.7699 - val_loss: 2.1079 - val_accuracy: 0.8062\n",
            "Epoch 9/10\n",
            "352/352 [==============================] - 10s 29ms/step - loss: 2.1554 - accuracy: 0.7703 - val_loss: 2.1063 - val_accuracy: 0.8058\n",
            "Epoch 10/10\n",
            "352/352 [==============================] - 10s 29ms/step - loss: 2.1544 - accuracy: 0.7732 - val_loss: 2.1078 - val_accuracy: 0.8034\n",
            "385/385 - 3s - loss: 2.1596 - accuracy: 0.7387\n",
            "--------------------------------------------------------------------------------\n",
            "\n",
            "\t --> accuracy on test data : 73.870283% and loss : 2.1595693 <--\n",
            "\n",
            "--------------------------------------------------------------------------------\n",
            "Epoch 1/10\n",
            "352/352 [==============================] - 10s 29ms/step - loss: 2.1534 - accuracy: 0.7688 - val_loss: 2.1069 - val_accuracy: 0.8287\n",
            "Epoch 2/10\n",
            "352/352 [==============================] - 10s 29ms/step - loss: 2.1518 - accuracy: 0.7721 - val_loss: 2.1048 - val_accuracy: 0.8303\n",
            "Epoch 3/10\n",
            "352/352 [==============================] - 10s 29ms/step - loss: 2.1496 - accuracy: 0.7773 - val_loss: 2.1056 - val_accuracy: 0.8303\n",
            "Epoch 4/10\n",
            "352/352 [==============================] - 11s 33ms/step - loss: 2.1500 - accuracy: 0.7742 - val_loss: 2.1052 - val_accuracy: 0.8283\n",
            "Epoch 5/10\n",
            "352/352 [==============================] - 12s 35ms/step - loss: 2.1478 - accuracy: 0.7767 - val_loss: 2.1048 - val_accuracy: 0.8287\n",
            "Epoch 6/10\n",
            "352/352 [==============================] - 10s 29ms/step - loss: 2.1470 - accuracy: 0.7779 - val_loss: 2.1028 - val_accuracy: 0.8279\n",
            "Epoch 7/10\n",
            "352/352 [==============================] - 10s 29ms/step - loss: 2.1459 - accuracy: 0.7811 - val_loss: 2.1038 - val_accuracy: 0.8267\n",
            "Epoch 8/10\n",
            "352/352 [==============================] - 10s 29ms/step - loss: 2.1451 - accuracy: 0.7800 - val_loss: 2.1032 - val_accuracy: 0.8263\n",
            "Epoch 9/10\n",
            "352/352 [==============================] - 10s 29ms/step - loss: 2.1440 - accuracy: 0.7780 - val_loss: 2.1039 - val_accuracy: 0.8243\n",
            "Epoch 10/10\n",
            "352/352 [==============================] - 10s 29ms/step - loss: 2.1432 - accuracy: 0.7802 - val_loss: 2.1026 - val_accuracy: 0.8283\n",
            "385/385 - 3s - loss: 2.1534 - accuracy: 0.7399\n",
            "--------------------------------------------------------------------------------\n",
            "\n",
            "\t --> accuracy on test data : 73.992199% and loss : 2.1534300 <--\n",
            "\n",
            "--------------------------------------------------------------------------------\n",
            "Epoch 1/10\n",
            "352/352 [==============================] - 12s 33ms/step - loss: 2.1433 - accuracy: 0.7835 - val_loss: 2.0909 - val_accuracy: 0.8403\n",
            "Epoch 2/10\n",
            "352/352 [==============================] - 14s 40ms/step - loss: 2.1414 - accuracy: 0.7839 - val_loss: 2.0899 - val_accuracy: 0.8391\n",
            "Epoch 3/10\n",
            "352/352 [==============================] - 17s 49ms/step - loss: 2.1406 - accuracy: 0.7845 - val_loss: 2.0908 - val_accuracy: 0.8423\n",
            "Epoch 4/10\n",
            "352/352 [==============================] - 18s 50ms/step - loss: 2.1399 - accuracy: 0.7864 - val_loss: 2.0898 - val_accuracy: 0.8403\n",
            "Epoch 5/10\n",
            "352/352 [==============================] - 14s 40ms/step - loss: 2.1385 - accuracy: 0.7884 - val_loss: 2.0899 - val_accuracy: 0.8411\n",
            "Epoch 6/10\n",
            "352/352 [==============================] - 12s 34ms/step - loss: 2.1382 - accuracy: 0.7845 - val_loss: 2.0890 - val_accuracy: 0.8387\n",
            "Epoch 7/10\n",
            "352/352 [==============================] - 12s 35ms/step - loss: 2.1365 - accuracy: 0.7890 - val_loss: 2.0885 - val_accuracy: 0.8391\n",
            "Epoch 8/10\n",
            "352/352 [==============================] - 12s 34ms/step - loss: 2.1360 - accuracy: 0.7884 - val_loss: 2.0892 - val_accuracy: 0.8375\n",
            "Epoch 9/10\n",
            "352/352 [==============================] - 10s 29ms/step - loss: 2.1348 - accuracy: 0.7880 - val_loss: 2.0885 - val_accuracy: 0.8387\n",
            "Epoch 10/10\n",
            "352/352 [==============================] - 10s 29ms/step - loss: 2.1340 - accuracy: 0.7912 - val_loss: 2.0871 - val_accuracy: 0.8355\n",
            "385/385 - 3s - loss: 2.1492 - accuracy: 0.7394\n",
            "--------------------------------------------------------------------------------\n",
            "\n",
            "\t --> accuracy on test data : 73.943430% and loss : 2.1491735 <--\n",
            "\n",
            "--------------------------------------------------------------------------------\n",
            "Epoch 1/10\n",
            "352/352 [==============================] - 12s 34ms/step - loss: 2.1335 - accuracy: 0.7867 - val_loss: 2.0791 - val_accuracy: 0.8439\n",
            "Epoch 2/10\n",
            "352/352 [==============================] - 12s 34ms/step - loss: 2.1317 - accuracy: 0.7915 - val_loss: 2.0793 - val_accuracy: 0.8431\n",
            "Epoch 3/10\n",
            "352/352 [==============================] - 12s 34ms/step - loss: 2.1310 - accuracy: 0.7931 - val_loss: 2.0788 - val_accuracy: 0.8427\n",
            "Epoch 4/10\n",
            "352/352 [==============================] - 12s 34ms/step - loss: 2.1299 - accuracy: 0.7936 - val_loss: 2.0793 - val_accuracy: 0.8411\n",
            "Epoch 5/10\n",
            "352/352 [==============================] - 12s 34ms/step - loss: 2.1294 - accuracy: 0.7936 - val_loss: 2.0808 - val_accuracy: 0.8423\n",
            "Epoch 6/10\n",
            "352/352 [==============================] - 12s 35ms/step - loss: 2.1278 - accuracy: 0.7947 - val_loss: 2.0794 - val_accuracy: 0.8423\n",
            "Epoch 7/10\n",
            "352/352 [==============================] - 12s 34ms/step - loss: 2.1273 - accuracy: 0.7972 - val_loss: 2.0792 - val_accuracy: 0.8387\n",
            "Epoch 8/10\n",
            "352/352 [==============================] - 12s 34ms/step - loss: 2.1266 - accuracy: 0.7976 - val_loss: 2.0785 - val_accuracy: 0.8407\n",
            "Epoch 9/10\n",
            "352/352 [==============================] - 12s 33ms/step - loss: 2.1261 - accuracy: 0.7976 - val_loss: 2.0781 - val_accuracy: 0.8383\n",
            "Epoch 10/10\n",
            "352/352 [==============================] - 12s 35ms/step - loss: 2.1250 - accuracy: 0.8006 - val_loss: 2.0783 - val_accuracy: 0.8387\n",
            "385/385 - 3s - loss: 2.1462 - accuracy: 0.7388\n",
            "--------------------------------------------------------------------------------\n",
            "\n",
            "\t --> accuracy on test data : 73.878413% and loss : 2.1462243 <--\n",
            "\n",
            "--------------------------------------------------------------------------------\n",
            "Epoch 1/10\n",
            "352/352 [==============================] - 12s 35ms/step - loss: 2.1229 - accuracy: 0.7988 - val_loss: 2.0788 - val_accuracy: 0.8439\n",
            "Epoch 2/10\n",
            "352/352 [==============================] - 10s 29ms/step - loss: 2.1228 - accuracy: 0.7960 - val_loss: 2.0788 - val_accuracy: 0.8443\n",
            "Epoch 3/10\n",
            "352/352 [==============================] - 10s 29ms/step - loss: 2.1213 - accuracy: 0.8051 - val_loss: 2.0781 - val_accuracy: 0.8447\n",
            "Epoch 4/10\n",
            "352/352 [==============================] - 10s 29ms/step - loss: 2.1205 - accuracy: 0.8014 - val_loss: 2.0777 - val_accuracy: 0.8439\n",
            "Epoch 5/10\n",
            "352/352 [==============================] - 10s 30ms/step - loss: 2.1200 - accuracy: 0.7969 - val_loss: 2.0786 - val_accuracy: 0.8407\n",
            "Epoch 6/10\n",
            "352/352 [==============================] - 10s 29ms/step - loss: 2.1186 - accuracy: 0.8026 - val_loss: 2.0775 - val_accuracy: 0.8435\n",
            "Epoch 7/10\n",
            "352/352 [==============================] - 10s 29ms/step - loss: 2.1177 - accuracy: 0.8065 - val_loss: 2.0776 - val_accuracy: 0.8419\n",
            "Epoch 8/10\n",
            "352/352 [==============================] - 10s 30ms/step - loss: 2.1167 - accuracy: 0.8051 - val_loss: 2.0789 - val_accuracy: 0.8391\n",
            "Epoch 9/10\n",
            "352/352 [==============================] - 11s 30ms/step - loss: 2.1161 - accuracy: 0.8051 - val_loss: 2.0777 - val_accuracy: 0.8411\n",
            "Epoch 10/10\n",
            "352/352 [==============================] - 11s 30ms/step - loss: 2.1141 - accuracy: 0.8084 - val_loss: 2.0790 - val_accuracy: 0.8399\n",
            "385/385 - 3s - loss: 2.1439 - accuracy: 0.7396\n",
            "--------------------------------------------------------------------------------\n",
            "\n",
            "\t --> accuracy on test data : 73.959690% and loss : 2.1439197 <--\n",
            "\n",
            "--------------------------------------------------------------------------------\n",
            "Epoch 1/10\n",
            "352/352 [==============================] - 11s 30ms/step - loss: 2.1150 - accuracy: 0.8090 - val_loss: 2.0666 - val_accuracy: 0.8574\n",
            "Epoch 2/10\n",
            "352/352 [==============================] - 11s 30ms/step - loss: 2.1141 - accuracy: 0.8058 - val_loss: 2.0663 - val_accuracy: 0.8602\n",
            "Epoch 3/10\n",
            "352/352 [==============================] - 10s 29ms/step - loss: 2.1133 - accuracy: 0.8064 - val_loss: 2.0672 - val_accuracy: 0.8578\n",
            "Epoch 4/10\n",
            "352/352 [==============================] - 11s 30ms/step - loss: 2.1133 - accuracy: 0.8036 - val_loss: 2.0659 - val_accuracy: 0.8594\n",
            "Epoch 5/10\n",
            "352/352 [==============================] - 10s 29ms/step - loss: 2.1120 - accuracy: 0.8067 - val_loss: 2.0668 - val_accuracy: 0.8566\n",
            "Epoch 6/10\n",
            "352/352 [==============================] - 10s 30ms/step - loss: 2.1110 - accuracy: 0.8093 - val_loss: 2.0672 - val_accuracy: 0.8566\n",
            "Epoch 7/10\n",
            "352/352 [==============================] - 10s 29ms/step - loss: 2.1107 - accuracy: 0.8108 - val_loss: 2.0660 - val_accuracy: 0.8558\n",
            "Epoch 8/10\n",
            "352/352 [==============================] - 10s 29ms/step - loss: 2.1093 - accuracy: 0.8077 - val_loss: 2.0655 - val_accuracy: 0.8558\n",
            "Epoch 9/10\n",
            "352/352 [==============================] - 10s 29ms/step - loss: 2.1081 - accuracy: 0.8153 - val_loss: 2.0659 - val_accuracy: 0.8558\n",
            "Epoch 10/10\n",
            "352/352 [==============================] - 10s 29ms/step - loss: 2.1072 - accuracy: 0.8114 - val_loss: 2.0654 - val_accuracy: 0.8546\n",
            "385/385 - 3s - loss: 2.1399 - accuracy: 0.7395\n",
            "--------------------------------------------------------------------------------\n",
            "\n",
            "\t --> accuracy on test data : 73.951560% and loss : 2.1398749 <--\n",
            "\n",
            "--------------------------------------------------------------------------------\n",
            "done\n",
            "CPU times: user 13min 24s, sys: 5min 19s, total: 18min 43s\n",
            "Wall time: 20min 20s\n"
          ],
          "name": "stdout"
        }
      ]
    },
    {
      "cell_type": "code",
      "metadata": {
        "colab": {
          "base_uri": "https://localhost:8080/"
        },
        "id": "_Rwg3kBvU2Pq",
        "outputId": "5c350013-b082-41fe-b9ba-27029119f3c6"
      },
      "source": [
        "print('saving model...')\n",
        "model.save('content/Jan5_model3_withLSTM_3rdTraining')\n",
        "print('saved')"
      ],
      "execution_count": 42,
      "outputs": [
        {
          "output_type": "stream",
          "text": [
            "saving model...\n"
          ],
          "name": "stdout"
        },
        {
          "output_type": "stream",
          "text": [
            "WARNING:absl:Found untraced functions such as lstm_cell_layer_call_and_return_conditional_losses, lstm_cell_layer_call_fn, lstm_cell_layer_call_fn, lstm_cell_layer_call_and_return_conditional_losses, lstm_cell_layer_call_and_return_conditional_losses while saving (showing 5 of 5). These functions will not be directly callable after loading.\n",
            "WARNING:absl:Found untraced functions such as lstm_cell_layer_call_and_return_conditional_losses, lstm_cell_layer_call_fn, lstm_cell_layer_call_fn, lstm_cell_layer_call_and_return_conditional_losses, lstm_cell_layer_call_and_return_conditional_losses while saving (showing 5 of 5). These functions will not be directly callable after loading.\n"
          ],
          "name": "stderr"
        },
        {
          "output_type": "stream",
          "text": [
            "INFO:tensorflow:Assets written to: content/Jan5_model3_withLSTM_3rdTraining/assets\n"
          ],
          "name": "stdout"
        },
        {
          "output_type": "stream",
          "text": [
            "INFO:tensorflow:Assets written to: content/Jan5_model3_withLSTM_3rdTraining/assets\n"
          ],
          "name": "stderr"
        },
        {
          "output_type": "stream",
          "text": [
            "saved\n"
          ],
          "name": "stdout"
        }
      ]
    },
    {
      "cell_type": "code",
      "metadata": {
        "id": "PRdhjeYnW-20",
        "colab": {
          "base_uri": "https://localhost:8080/"
        },
        "outputId": "e177b4e8-a8c5-419a-ab84-735b2e7d0bb0"
      },
      "source": [
        "!zip -r /content/Jan5_model3_withLSTM_3rdTraining.zip /content/content/Jan5_model3_withLSTM_3rdTraining"
      ],
      "execution_count": 43,
      "outputs": [
        {
          "output_type": "stream",
          "text": [
            "  adding: content/content/Jan5_model3_withLSTM_3rdTraining/ (stored 0%)\n",
            "  adding: content/content/Jan5_model3_withLSTM_3rdTraining/saved_model.pb (deflated 88%)\n",
            "  adding: content/content/Jan5_model3_withLSTM_3rdTraining/assets/ (stored 0%)\n",
            "  adding: content/content/Jan5_model3_withLSTM_3rdTraining/variables/ (stored 0%)\n",
            "  adding: content/content/Jan5_model3_withLSTM_3rdTraining/variables/variables.index (deflated 69%)\n",
            "  adding: content/content/Jan5_model3_withLSTM_3rdTraining/variables/variables.data-00000-of-00001 (deflated 13%)\n"
          ],
          "name": "stdout"
        }
      ]
    },
    {
      "cell_type": "code",
      "metadata": {
        "id": "_NAeXXgbXGy6",
        "colab": {
          "base_uri": "https://localhost:8080/"
        },
        "outputId": "65050117-00ec-4760-8e7e-f73a046be3a3"
      },
      "source": [
        "!cp '/content/Jan5_model3_withLSTM_3rdTraining.zip' '/content/drive/My Drive/datasets/LanguageDataset/final_changes/DL_models'\n",
        "!echo done"
      ],
      "execution_count": 44,
      "outputs": [
        {
          "output_type": "stream",
          "text": [
            "done\n"
          ],
          "name": "stdout"
        }
      ]
    },
    {
      "cell_type": "code",
      "metadata": {
        "id": "U7GMsRBHd3tm",
        "colab": {
          "base_uri": "https://localhost:8080/"
        },
        "outputId": "06c36c35-64ce-46e1-f9d1-2f146b56a316"
      },
      "source": [
        "acc = []\n",
        "for i in range(10):\n",
        "  acc.extend(histories[i].history['accuracy'])\n",
        "print(len(acc))"
      ],
      "execution_count": 45,
      "outputs": [
        {
          "output_type": "stream",
          "text": [
            "100\n"
          ],
          "name": "stdout"
        }
      ]
    },
    {
      "cell_type": "code",
      "metadata": {
        "colab": {
          "base_uri": "https://localhost:8080/"
        },
        "id": "MM2TWHoEhbgy",
        "outputId": "4a498736-efc7-4ea3-da88-3fae6b45db6a"
      },
      "source": [
        "val_acc = []\n",
        "for i in range(10):\n",
        "  val_acc.extend(histories[i].history['val_accuracy'])\n",
        "print(len(val_acc))"
      ],
      "execution_count": 46,
      "outputs": [
        {
          "output_type": "stream",
          "text": [
            "100\n"
          ],
          "name": "stdout"
        }
      ]
    },
    {
      "cell_type": "code",
      "metadata": {
        "colab": {
          "base_uri": "https://localhost:8080/",
          "height": 325
        },
        "id": "4jNVLxY-hhkq",
        "outputId": "3d121e0b-fba7-4bc8-c542-687fc29a5b04"
      },
      "source": [
        "plt.plot([i for i in range(0,len(acc))] ,acc,label='Training Accuracy')\n",
        "plt.plot([i for i in range(0,len(val_acc))] ,val_acc,label='Cross Validation Accuracy')\n",
        "\n",
        "plt.xlabel('epochs')\n",
        "plt.ylabel('accuracy')\n",
        "plt.suptitle('ACCURACY')\n",
        "plt.legend()"
      ],
      "execution_count": 47,
      "outputs": [
        {
          "output_type": "execute_result",
          "data": {
            "text/plain": [
              "<matplotlib.legend.Legend at 0x7f16a0774c18>"
            ]
          },
          "metadata": {
            "tags": []
          },
          "execution_count": 47
        },
        {
          "output_type": "display_data",
          "data": {
            "image/png": "[encoded data removed]",
            "text/plain": [
              "<Figure size 432x288 with 1 Axes>"
            ]
          },
          "metadata": {
            "tags": [],
            "needs_background": "light"
          }
        }
      ]
    },
    {
      "cell_type": "code",
      "metadata": {
        "colab": {
          "base_uri": "https://localhost:8080/",
          "height": 325
        },
        "id": "d44U7p4thqRo",
        "outputId": "fc87c0f7-b856-444d-97de-9cc119225037"
      },
      "source": [
        "plt.plot([i for i in range(1,len(scores)+1)] , scores,label='Testing Accuracy')\n",
        "plt.xlabel('epochs')\n",
        "plt.ylabel('accuracy')\n",
        "plt.suptitle('TESTING ACCURACY')\n",
        "plt.legend()"
      ],
      "execution_count": 48,
      "outputs": [
        {
          "output_type": "execute_result",
          "data": {
            "text/plain": [
              "<matplotlib.legend.Legend at 0x7f16a0907908>"
            ]
          },
          "metadata": {
            "tags": []
          },
          "execution_count": 48
        },
        {
          "output_type": "display_data",
          "data": {
            "image/png": "[encoded data removed]",
            "text/plain": [
              "<Figure size 432x288 with 1 Axes>"
            ]
          },
          "metadata": {
            "tags": [],
            "needs_background": "light"
          }
        }
      ]
    },
    {
      "cell_type": "code",
      "metadata": {
        "colab": {
          "base_uri": "https://localhost:8080/"
        },
        "id": "uJZaYoaHh5NY",
        "outputId": "ba2f07d5-b661-4962-bf41-f23c9821a28e"
      },
      "source": [
        "acc[0] , acc[-1]"
      ],
      "execution_count": 49,
      "outputs": [
        {
          "output_type": "execute_result",
          "data": {
            "text/plain": [
              "(0.6979227066040039, 0.8114047050476074)"
            ]
          },
          "metadata": {
            "tags": []
          },
          "execution_count": 49
        }
      ]
    },
    {
      "cell_type": "code",
      "metadata": {
        "id": "ybrcoJ_JiW9o"
      },
      "source": [
        "from sklearn.metrics import plot_confusion_matrix\n",
        "from sklearn.metrics import confusion_matrix"
      ],
      "execution_count": 50,
      "outputs": []
    },
    {
      "cell_type": "code",
      "metadata": {
        "colab": {
          "base_uri": "https://localhost:8080/"
        },
        "id": "YrUMRDJmij8R",
        "outputId": "b821742a-510d-4dd6-9c1c-91b2fcaf89f6"
      },
      "source": [
        "%%time\n",
        "predictions_1 = model.predict(X_test)\n",
        "print('done predicting on test data')\n",
        "print(type(predictions_1) , predictions_1.shape)\n"
      ],
      "execution_count": 51,
      "outputs": [
        {
          "output_type": "stream",
          "text": [
            "done predicting on test data\n",
            "<class 'numpy.ndarray'> (12304, 15)\n",
            "CPU times: user 2.46 s, sys: 141 ms, total: 2.6 s\n",
            "Wall time: 2.6 s\n"
          ],
          "name": "stdout"
        }
      ]
    },
    {
      "cell_type": "code",
      "metadata": {
        "colab": {
          "base_uri": "https://localhost:8080/"
        },
        "id": "vYq_7ZCLiptJ",
        "outputId": "fee19989-884b-48eb-9b86-0e6cacb01ddc"
      },
      "source": [
        "y_test.shape"
      ],
      "execution_count": 52,
      "outputs": [
        {
          "output_type": "execute_result",
          "data": {
            "text/plain": [
              "(12304, 15)"
            ]
          },
          "metadata": {
            "tags": []
          },
          "execution_count": 52
        }
      ]
    },
    {
      "cell_type": "code",
      "metadata": {
        "colab": {
          "base_uri": "https://localhost:8080/"
        },
        "id": "SeJJuNKZiyLD",
        "outputId": "0a815740-831b-43da-ab43-50decccaacce"
      },
      "source": [
        "actual = np.argmax(y_test,axis=1)\n",
        "actual.shape"
      ],
      "execution_count": 53,
      "outputs": [
        {
          "output_type": "execute_result",
          "data": {
            "text/plain": [
              "(12304,)"
            ]
          },
          "metadata": {
            "tags": []
          },
          "execution_count": 53
        }
      ]
    },
    {
      "cell_type": "code",
      "metadata": {
        "colab": {
          "base_uri": "https://localhost:8080/"
        },
        "id": "M4LC3klui3lB",
        "outputId": "a1bbedb7-86bd-4430-9c26-b1c884acc750"
      },
      "source": [
        "first_preds = np.argmax(predictions_1,axis=1)\n",
        "first_preds.shape"
      ],
      "execution_count": 54,
      "outputs": [
        {
          "output_type": "execute_result",
          "data": {
            "text/plain": [
              "(12304,)"
            ]
          },
          "metadata": {
            "tags": []
          },
          "execution_count": 54
        }
      ]
    },
    {
      "cell_type": "code",
      "metadata": {
        "colab": {
          "base_uri": "https://localhost:8080/"
        },
        "id": "ZprFlZpwi7_y",
        "outputId": "10837f31-8f5d-4641-8e3d-a697e2890cc0"
      },
      "source": [
        "print('\\n','-'*50,'\\n')\n",
        "cnf_matrix1 = confusion_matrix(actual, first_preds)\n",
        "print(cnf_matrix1)"
      ],
      "execution_count": 55,
      "outputs": [
        {
          "output_type": "stream",
          "text": [
            "\n",
            " -------------------------------------------------- \n",
            "\n",
            "[[614  15   9   0  17   9  18  12  32  36  21  26   1   9   2]\n",
            " [ 22 558   8 141  20  12   5   6  15  12   7  12   3  12   3]\n",
            " [  8   5 539  26  20  80  42  15  16  15  12  15   6  32   5]\n",
            " [ 12 154  31 538  21  11   7  14  14   8  11  16   8   8   2]\n",
            " [  7  10   3   8 674   8   4   6  12  28  14   7   5   3   6]\n",
            " [ 22   4 135  14  26 523   9   6   9  28   5  16  18  14   3]\n",
            " [  5   3  18   1   8   5 626   5  12  31  10  21   3  10   5]\n",
            " [  4  12   7  22  17   6   7 673   2  17  13  13   4   2  17]\n",
            " [ 56  17   7   4  18  13  26   3 590  41  28  39   4   9   5]\n",
            " [ 30   5  16  10   9  16  47   3  23 553  23  21   7  43   0]\n",
            " [ 17  15  12  11  18  10  15   4  31  33 568  37  11  17   2]\n",
            " [ 20   1   8  10   4   8  17   4  27  35  28 583  13  27   3]\n",
            " [  6   3  15   6  21  26  15   2   6  20   8  18 690   4   4]\n",
            " [ 14   9  18   5   9  10   7   6  10  23  15  18   2 669   1]\n",
            " [  3   3   6   6  10   1  13  70   0   7   5   5   4   1 701]]\n"
          ],
          "name": "stdout"
        }
      ]
    },
    {
      "cell_type": "code",
      "metadata": {
        "id": "SsXJEgZai-gf"
      },
      "source": [
        "import seaborn as sns\n",
        "def make_confusion_matrix(cf,\n",
        "                          group_names=None,\n",
        "                          categories='auto',\n",
        "                          count=True,\n",
        "                          percent=True,\n",
        "                          cbar=True,\n",
        "                          xyticks=True,\n",
        "                          xyplotlabels=True,\n",
        "                          sum_stats=True,\n",
        "                          figsize=None,\n",
        "                          cmap='Blues',\n",
        "                          title=None):\n",
        "    '''\n",
        "    This function will make a pretty plot of an sklearn Confusion Matrix cm using a Seaborn heatmap visualization.\n",
        "    Arguments\n",
        "    ---------\n",
        "    cf:            confusion matrix to be passed in\n",
        "    group_names:   List of strings that represent the labels row by row to be shown in each square.\n",
        "    categories:    List of strings containing the categories to be displayed on the x,y axis. Default is 'auto'\n",
        "    count:         If True, show the raw number in the confusion matrix. Default is True.\n",
        "    normalize:     If True, show the proportions for each category. Default is True.\n",
        "    cbar:          If True, show the color bar. The cbar values are based off the values in the confusion matrix.\n",
        "                   Default is True.\n",
        "    xyticks:       If True, show x and y ticks. Default is True.\n",
        "    xyplotlabels:  If True, show 'True Label' and 'Predicted Label' on the figure. Default is True.\n",
        "    sum_stats:     If True, display summary statistics below the figure. Default is True.\n",
        "    figsize:       Tuple representing the figure size. Default will be the matplotlib rcParams value.\n",
        "    cmap:          Colormap of the values displayed from matplotlib.pyplot.cm. Default is 'Blues'\n",
        "                   See http://matplotlib.org/examples/color/colormaps_reference.html\n",
        "                   \n",
        "    title:         Title for the heatmap. Default is None.\n",
        "    '''\n",
        "\n",
        "\n",
        "    # CODE TO GENERATE TEXT INSIDE EACH SQUARE\n",
        "    blanks = ['' for i in range(cf.size)]\n",
        "\n",
        "    if group_names and len(group_names)==cf.size:\n",
        "        group_labels = [\"{}\\n\".format(value) for value in group_names]\n",
        "    else:\n",
        "        group_labels = blanks\n",
        "\n",
        "    if count:\n",
        "        group_counts = [\"{0:0.0f}\\n\".format(value) for value in cf.flatten()]\n",
        "    else:\n",
        "        group_counts = blanks\n",
        "\n",
        "    if percent:\n",
        "        group_percentages = [\"{0:.2%}\".format(value) for value in cf.flatten()/np.sum(cf)]\n",
        "    else:\n",
        "        group_percentages = blanks\n",
        "\n",
        "    box_labels = [f\"{v1}{v2}{v3}\".strip() for v1, v2, v3 in zip(group_labels,group_counts,group_percentages)]\n",
        "    box_labels = np.asarray(box_labels).reshape(cf.shape[0],cf.shape[1])\n",
        "\n",
        "\n",
        "    # CODE TO GENERATE SUMMARY STATISTICS & TEXT FOR SUMMARY STATS\n",
        "    if sum_stats:\n",
        "        #Accuracy is sum of diagonal divided by total observations\n",
        "        accuracy  = np.trace(cf) / float(np.sum(cf))\n",
        "\n",
        "        #if it is a binary confusion matrix, show some more stats\n",
        "        if len(cf)==2:\n",
        "            #Metrics for Binary Confusion Matrices\n",
        "            precision = cf[1,1] / sum(cf[:,1])\n",
        "            recall    = cf[1,1] / sum(cf[1,:])\n",
        "            f1_score  = 2*precision*recall / (precision + recall)\n",
        "            stats_text = \"\\n\\nAccuracy={:0.3f}\\nPrecision={:0.3f}\\nRecall={:0.3f}\\nF1 Score={:0.3f}\".format(\n",
        "                accuracy,precision,recall,f1_score)\n",
        "        else:\n",
        "            stats_text = \"\\n\\nAccuracy={:0.3f}\".format(accuracy)\n",
        "    else:\n",
        "        stats_text = \"\"\n",
        "\n",
        "\n",
        "    # SET FIGURE PARAMETERS ACCORDING TO OTHER ARGUMENTS\n",
        "    if figsize==None:\n",
        "        #Get default figure size if not set\n",
        "        figsize = plt.rcParams.get('figure.figsize')\n",
        "\n",
        "    if xyticks==False:\n",
        "        #Do not show categories if xyticks is False\n",
        "        categories=False\n",
        "\n",
        "\n",
        "    # MAKE THE HEATMAP VISUALIZATION\n",
        "    plt.figure(figsize=figsize)\n",
        "    sns.heatmap(cf,annot=box_labels,fmt=\"\",cmap=cmap,cbar=cbar,xticklabels=categories,yticklabels=categories)\n",
        "\n",
        "    if xyplotlabels:\n",
        "        plt.ylabel('True label')\n",
        "        plt.xlabel('Predicted label' + stats_text)\n",
        "    else:\n",
        "        plt.xlabel(stats_text)\n",
        "    \n",
        "    if title:\n",
        "        plt.title(title)"
      ],
      "execution_count": 56,
      "outputs": []
    },
    {
      "cell_type": "code",
      "metadata": {
        "colab": {
          "base_uri": "https://localhost:8080/"
        },
        "id": "zni8hSvFjGAn",
        "outputId": "2ca7d224-181b-4bb0-ab86-5b8e54ed169c"
      },
      "source": [
        "langs = [i for i in data.Language.unique()]\n",
        "langs.sort()\n",
        "langs"
      ],
      "execution_count": 57,
      "outputs": [
        {
          "output_type": "execute_result",
          "data": {
            "text/plain": [
              "['bash',\n",
              " 'c',\n",
              " 'c#',\n",
              " 'c++',\n",
              " 'haskell',\n",
              " 'java',\n",
              " 'javascript',\n",
              " 'objective-c',\n",
              " 'perl',\n",
              " 'php',\n",
              " 'python',\n",
              " 'ruby',\n",
              " 'scala',\n",
              " 'sql',\n",
              " 'swift']"
            ]
          },
          "metadata": {
            "tags": []
          },
          "execution_count": 57
        }
      ]
    },
    {
      "cell_type": "code",
      "metadata": {
        "colab": {
          "base_uri": "https://localhost:8080/",
          "height": 782
        },
        "id": "XETxyB32jDrz",
        "outputId": "28e0eeb3-3a59-451f-9a52-c46b61fa44c6"
      },
      "source": [
        "# make_confusion_matrix(cnf_matrix, figsize=(12,12), cbar=False )\n",
        "make_confusion_matrix(cnf_matrix1, figsize=(12,12), cbar=False ,categories=langs)\n"
      ],
      "execution_count": 58,
      "outputs": [
        {
          "output_type": "display_data",
          "data": {
            "image/png": "[encoded data removed]",
            "text/plain": [
              "<Figure size 864x864 with 1 Axes>"
            ]
          },
          "metadata": {
            "tags": [],
            "needs_background": "light"
          }
        }
      ]
    },
    {
      "cell_type": "code",
      "metadata": {
        "id": "UlY4l5VzjSCW"
      },
      "source": [
        "from sklearn.metrics import precision_recall_fscore_support as score\n"
      ],
      "execution_count": 59,
      "outputs": []
    },
    {
      "cell_type": "code",
      "metadata": {
        "id": "rMNKfh-ukEY7"
      },
      "source": [
        "def print_metrics(predictions):\n",
        "  precision , recall , fscore , support = score( actual, predictions)\n",
        "  print('-'*80)\n",
        "  print('{:10}\\t | {:7}\\t |  {:12}|\\t{}'.format('   Language','  Precision',' Recall',' F1 Measure'))\n",
        "  print('-'*80)\n",
        "  for i in range(len(langs)):\n",
        "    \n",
        "    result = '{:10}\\t |{:13.5}\\t |{:10.5}\\t|\\t{:10.5}'.format(str('   '+langs[i]),precision[i],recall[i],fscore[i])\n",
        "    print(result,end='\\n')\n",
        "    print('-'*80)\n"
      ],
      "execution_count": 60,
      "outputs": []
    },
    {
      "cell_type": "code",
      "metadata": {
        "colab": {
          "base_uri": "https://localhost:8080/"
        },
        "id": "EelPwIWjkHha",
        "outputId": "d7bd993e-d1ce-49c6-aa22-830fa8cc3f14"
      },
      "source": [
        "print_metrics(first_preds)\n"
      ],
      "execution_count": 61,
      "outputs": [
        {
          "output_type": "stream",
          "text": [
            "--------------------------------------------------------------------------------\n",
            "   Language\t |   Precision\t |   Recall     |\t F1 Measure\n",
            "--------------------------------------------------------------------------------\n",
            "   bash   \t |      0.73095\t |   0.74787\t|\t   0.73931\n",
            "--------------------------------------------------------------------------------\n",
            "   c      \t |       0.6855\t |   0.66746\t|\t   0.67636\n",
            "--------------------------------------------------------------------------------\n",
            "   c#     \t |      0.64784\t |   0.64474\t|\t   0.64628\n",
            "--------------------------------------------------------------------------------\n",
            "   c++    \t |      0.67082\t |   0.62924\t|\t   0.64937\n",
            "--------------------------------------------------------------------------------\n",
            "   haskell\t |      0.75561\t |    0.8478\t|\t   0.79905\n",
            "--------------------------------------------------------------------------------\n",
            "   java   \t |      0.70867\t |   0.62861\t|\t   0.66624\n",
            "--------------------------------------------------------------------------------\n",
            "   javascript\t |       0.7296\t |   0.82045\t|\t   0.77236\n",
            "--------------------------------------------------------------------------------\n",
            "   objective-c\t |      0.81182\t |   0.82475\t|\t   0.81824\n",
            "--------------------------------------------------------------------------------\n",
            "   perl   \t |      0.73842\t |   0.68605\t|\t   0.71127\n",
            "--------------------------------------------------------------------------------\n",
            "   php    \t |      0.62345\t |    0.6861\t|\t   0.65328\n",
            "--------------------------------------------------------------------------------\n",
            "   python \t |      0.73958\t |   0.70911\t|\t   0.72403\n",
            "--------------------------------------------------------------------------------\n",
            "   ruby   \t |      0.68831\t |   0.73985\t|\t   0.71315\n",
            "--------------------------------------------------------------------------------\n",
            "   scala  \t |      0.88575\t |   0.81754\t|\t   0.85028\n",
            "--------------------------------------------------------------------------------\n",
            "   sql    \t |      0.77791\t |   0.81985\t|\t   0.79833\n",
            "--------------------------------------------------------------------------------\n",
            "   swift  \t |      0.92358\t |   0.83952\t|\t   0.87955\n",
            "--------------------------------------------------------------------------------\n"
          ],
          "name": "stdout"
        }
      ]
    },
    {
      "cell_type": "code",
      "metadata": {
        "id": "hJKqsjmOkLTB"
      },
      "source": [
        ""
      ],
      "execution_count": null,
      "outputs": []
    }
  ]
}