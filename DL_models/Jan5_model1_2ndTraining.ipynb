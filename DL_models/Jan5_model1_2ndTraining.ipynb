{
  "nbformat": 4,
  "nbformat_minor": 0,
  "metadata": {
    "colab": {
      "name": "Jan5_model1_2ndTraining.ipynb",
      "provenance": [],
      "collapsed_sections": [],
      "toc_visible": true
    },
    "kernelspec": {
      "name": "python3",
      "display_name": "Python 3"
    },
    "accelerator": "GPU"
  },
  "cells": [
    {
      "cell_type": "code",
      "metadata": {
        "id": "AM6n_chvOePz"
      },
      "source": [
        "#@title Version 1.2 <br> 2nd training of the model1_Jan5"
      ],
      "execution_count": 1,
      "outputs": []
    },
    {
      "cell_type": "markdown",
      "metadata": {
        "id": "yN7EMueFdI7Q"
      },
      "source": [
        "tokenizer_Jan5_v3"
      ]
    },
    {
      "cell_type": "markdown",
      "metadata": {
        "id": "LBPQTduwOnJQ"
      },
      "source": [
        "### imports and mounting drive"
      ]
    },
    {
      "cell_type": "code",
      "metadata": {
        "colab": {
          "base_uri": "https://localhost:8080/"
        },
        "id": "0gKzyWWtOa2N",
        "outputId": "b1289f70-093e-4912-f0c8-f498534433b7"
      },
      "source": [
        "import pandas as pd\n",
        "import matplotlib.pyplot as plt\n",
        "import numpy as np\n",
        "import os\n",
        "from os import listdir\n",
        "from os.path import isfile, join\n",
        "from google.colab import drive\n",
        "drive.mount('/content/drive')"
      ],
      "execution_count": 2,
      "outputs": [
        {
          "output_type": "stream",
          "text": [
            "Mounted at /content/drive\n"
          ],
          "name": "stdout"
        }
      ]
    },
    {
      "cell_type": "code",
      "metadata": {
        "colab": {
          "base_uri": "https://localhost:8080/"
        },
        "id": "VKDnJiYJOvCF",
        "outputId": "28e543c8-9e15-4df2-ebcf-d4bb2814e961"
      },
      "source": [
        "!mkdir dataset\n",
        "!ls"
      ],
      "execution_count": 3,
      "outputs": [
        {
          "output_type": "stream",
          "text": [
            "dataset  drive\tsample_data\n"
          ],
          "name": "stdout"
        }
      ]
    },
    {
      "cell_type": "markdown",
      "metadata": {
        "id": "GpVvlc2SO3kI"
      },
      "source": [
        "### Copy dataset"
      ]
    },
    {
      "cell_type": "code",
      "metadata": {
        "colab": {
          "base_uri": "https://localhost:8080/"
        },
        "id": "Z3NyZ-K0OxGY",
        "outputId": "cf0a39ee-2ba7-4f64-cbf5-6c564409d863"
      },
      "source": [
        "\n",
        "!cp '/content/drive/MyDrive/datasets/LanguageDataset/final_changes/final_dataset_3.csv' /content/dataset/\n",
        "! echo copied final_dataset_3\n"
      ],
      "execution_count": 4,
      "outputs": [
        {
          "output_type": "stream",
          "text": [
            "copied final_dataset_3\n"
          ],
          "name": "stdout"
        }
      ]
    },
    {
      "cell_type": "code",
      "metadata": {
        "colab": {
          "base_uri": "https://localhost:8080/",
          "height": 419
        },
        "id": "lzx8-Q4LO14n",
        "outputId": "525a33c4-7d7c-4e90-9ce7-e2251de0b034"
      },
      "source": [
        "data = pd.read_csv('/content/dataset/final_dataset_3.csv')\n",
        "data"
      ],
      "execution_count": 5,
      "outputs": [
        {
          "output_type": "execute_result",
          "data": {
            "text/html": [
              "<div>\n",
              "<style scoped>\n",
              "    .dataframe tbody tr th:only-of-type {\n",
              "        vertical-align: middle;\n",
              "    }\n",
              "\n",
              "    .dataframe tbody tr th {\n",
              "        vertical-align: top;\n",
              "    }\n",
              "\n",
              "    .dataframe thead th {\n",
              "        text-align: right;\n",
              "    }\n",
              "</style>\n",
              "<table border=\"1\" class=\"dataframe\">\n",
              "  <thead>\n",
              "    <tr style=\"text-align: right;\">\n",
              "      <th></th>\n",
              "      <th>Language</th>\n",
              "      <th>Source</th>\n",
              "    </tr>\n",
              "  </thead>\n",
              "  <tbody>\n",
              "    <tr>\n",
              "      <th>0</th>\n",
              "      <td>bash</td>\n",
              "      <td>foo a1 b2 b3 b4 ...\\n\\n</td>\n",
              "    </tr>\n",
              "    <tr>\n",
              "      <th>1</th>\n",
              "      <td>bash</td>\n",
              "      <td>unset\\na\\nb\\nc\\nMY_VARIABLE\\nmake foo\\nexport ...</td>\n",
              "    </tr>\n",
              "    <tr>\n",
              "      <th>2</th>\n",
              "      <td>bash</td>\n",
              "      <td>SUCCESS=false\\nDEPLOY_PATH=/apps/jboss/server/...</td>\n",
              "    </tr>\n",
              "    <tr>\n",
              "      <th>3</th>\n",
              "      <td>bash</td>\n",
              "      <td>.bashrc\\nhas_gitbranch() {\\n  if [ -e .git ]; ...</td>\n",
              "    </tr>\n",
              "    <tr>\n",
              "      <th>4</th>\n",
              "      <td>bash</td>\n",
              "      <td>foo foo      scaffold_7      1 4845 6422 4845\\...</td>\n",
              "    </tr>\n",
              "    <tr>\n",
              "      <th>...</th>\n",
              "      <td>...</td>\n",
              "      <td>...</td>\n",
              "    </tr>\n",
              "    <tr>\n",
              "      <th>44995</th>\n",
              "      <td>swift</td>\n",
              "      <td>@protocol ALAdLoadDelegate &lt;NSObject&gt;\\n-(void)...</td>\n",
              "    </tr>\n",
              "    <tr>\n",
              "      <th>44996</th>\n",
              "      <td>swift</td>\n",
              "      <td>func tableView(tableView: UITableView!, didSel...</td>\n",
              "    </tr>\n",
              "    <tr>\n",
              "      <th>44997</th>\n",
              "      <td>swift</td>\n",
              "      <td>override func touchesBegan(touches: NSSet, wi...</td>\n",
              "    </tr>\n",
              "    <tr>\n",
              "      <th>44998</th>\n",
              "      <td>swift</td>\n",
              "      <td>override func viewDidLoad()\\n{\\n    super.view...</td>\n",
              "    </tr>\n",
              "    <tr>\n",
              "      <th>44999</th>\n",
              "      <td>swift</td>\n",
              "      <td>presentTextInputControllerWithSuggestions\\nWat...</td>\n",
              "    </tr>\n",
              "  </tbody>\n",
              "</table>\n",
              "<p>45000 rows × 2 columns</p>\n",
              "</div>"
            ],
            "text/plain": [
              "      Language                                             Source\n",
              "0         bash                            foo a1 b2 b3 b4 ...\\n\\n\n",
              "1         bash  unset\\na\\nb\\nc\\nMY_VARIABLE\\nmake foo\\nexport ...\n",
              "2         bash  SUCCESS=false\\nDEPLOY_PATH=/apps/jboss/server/...\n",
              "3         bash  .bashrc\\nhas_gitbranch() {\\n  if [ -e .git ]; ...\n",
              "4         bash  foo foo      scaffold_7      1 4845 6422 4845\\...\n",
              "...        ...                                                ...\n",
              "44995    swift  @protocol ALAdLoadDelegate <NSObject>\\n-(void)...\n",
              "44996    swift  func tableView(tableView: UITableView!, didSel...\n",
              "44997    swift   override func touchesBegan(touches: NSSet, wi...\n",
              "44998    swift  override func viewDidLoad()\\n{\\n    super.view...\n",
              "44999    swift  presentTextInputControllerWithSuggestions\\nWat...\n",
              "\n",
              "[45000 rows x 2 columns]"
            ]
          },
          "metadata": {
            "tags": []
          },
          "execution_count": 5
        }
      ]
    },
    {
      "cell_type": "markdown",
      "metadata": {
        "id": "neNBwNa4O7wy"
      },
      "source": [
        "#### describing dataset"
      ]
    },
    {
      "cell_type": "code",
      "metadata": {
        "colab": {
          "base_uri": "https://localhost:8080/",
          "height": 369
        },
        "id": "IQgcneENO56B",
        "outputId": "15773828-0904-47fd-fe7c-0d3b05779642"
      },
      "source": [
        "data.groupby('Language')['Source'].count().plot.bar(ylim=0,grid=False,color='#11100f')\n",
        "plt.xlabel('\\n languages')\n",
        "plt.ylabel('no of examples available')\n",
        "plt.title('Dataset')"
      ],
      "execution_count": 6,
      "outputs": [
        {
          "output_type": "execute_result",
          "data": {
            "text/plain": [
              "Text(0.5, 1.0, 'Dataset')"
            ]
          },
          "metadata": {
            "tags": []
          },
          "execution_count": 6
        },
        {
          "output_type": "display_data",
          "data": {
            "image/png": "[encoded data removed]",
            "text/plain": [
              "<Figure size 432x288 with 1 Axes>"
            ]
          },
          "metadata": {
            "tags": [],
            "needs_background": "light"
          }
        }
      ]
    },
    {
      "cell_type": "markdown",
      "metadata": {
        "id": "aO7q4fNQPBFo"
      },
      "source": [
        "### PREPROCESSING OF DATASET USING REGULAR EXPRESSION AND NLTK"
      ]
    },
    {
      "cell_type": "code",
      "metadata": {
        "colab": {
          "base_uri": "https://localhost:8080/"
        },
        "id": "Qotfaj1tO-Jh",
        "outputId": "a69de33a-6f6d-42ff-9e69-8e4130140244"
      },
      "source": [
        "import re\n",
        "import nltk\n",
        "\n",
        "from nltk.corpus import stopwords\n",
        "from nltk.tokenize import word_tokenize\n",
        "\n",
        "nltk.download('stopwords')\n",
        "nltk.download('punkt')\n",
        "print('.....done')"
      ],
      "execution_count": 7,
      "outputs": [
        {
          "output_type": "stream",
          "text": [
            "[nltk_data] Downloading package stopwords to /root/nltk_data...\n",
            "[nltk_data]   Unzipping corpora/stopwords.zip.\n",
            "[nltk_data] Downloading package punkt to /root/nltk_data...\n",
            "[nltk_data]   Unzipping tokenizers/punkt.zip.\n",
            ".....done\n"
          ],
          "name": "stdout"
        }
      ]
    },
    {
      "cell_type": "code",
      "metadata": {
        "colab": {
          "base_uri": "https://localhost:8080/"
        },
        "id": "nBUBXrzePF8K",
        "outputId": "fd0722f9-576a-4b63-ae9a-640ed5fda825"
      },
      "source": [
        "stopwords_list = stopwords.words('english')\n",
        "print(len(stopwords_list))\n",
        "stopwords_list.extend(['left','right','up','down','center','centre'])\n",
        "print(len(stopwords_list))\n",
        "stopwords_list.extend(['bottom','start','end','price','location','fix','here'])\n",
        "print(len(stopwords_list))\n"
      ],
      "execution_count": 8,
      "outputs": [
        {
          "output_type": "stream",
          "text": [
            "179\n",
            "185\n",
            "192\n"
          ],
          "name": "stdout"
        }
      ]
    },
    {
      "cell_type": "markdown",
      "metadata": {
        "id": "54iBuoP-POy-"
      },
      "source": [
        "### function to clean data"
      ]
    },
    {
      "cell_type": "code",
      "metadata": {
        "colab": {
          "base_uri": "https://localhost:8080/"
        },
        "id": "kXv4UW-dPQdC",
        "outputId": "986cfcb2-9428-41cc-c9ab-c85dd1d33f12"
      },
      "source": [
        "def expression1(text):\n",
        "    # remove single character\n",
        "\n",
        "    #removing url \n",
        "    text = re.sub(r\"http\\S+\", \"\", text)\n",
        "    text = re.sub(r'^https?://.*[\\r\\n]*', '', text, flags=re.MULTILINE)\n",
        "    text = re.sub(r'^http?://.*[\\r\\n]*', '', text, flags=re.MULTILINE)\n",
        "    text = re.sub(r'^www?://.*[\\r\\n]*', '', text, flags=re.MULTILINE)\n",
        "\n",
        "    text = ' '.join(['' if len(i)==1 else i for i in text.split()])\n",
        "    \n",
        "    # text = re.sub('{','',text)\n",
        "    # text = re.sub('}','',text)\n",
        "    \n",
        "    # to remove '(' , ' )' , '[' , ']' ... replaced with a space \n",
        "    # text = re.sub('\\\\(',' ',text)\n",
        "    # text = re.sub('\\\\)',' ',text)\n",
        "    # text = re.sub('\\\\[',' ',text)\n",
        "    # text = re.sub('\\\\]',' ',text)\n",
        "    # replace . with a space\n",
        "    # text = re.sub('\\\\.',' ',text)\n",
        "    \n",
        "    # remove unicode\n",
        "    \n",
        "    text = re.sub(r'(\\\\u[0-9A-Fa-f]+)',r'', text)       \n",
        "    text = re.sub(r'[^\\x00-\\x7f]',r'',text)\n",
        "    \n",
        "    # remove digits\n",
        "    text = re.sub('[0-9]',' ',text)\n",
        "    \n",
        "    #     remove + - * / < >\n",
        "    text = re.sub('\\\\+',' ',text)\n",
        "    text = re.sub('\\\\=',' ',text)\n",
        "    text = re.sub('\\\\-',' ',text)\n",
        "    text = re.sub('\\\\*',' ',text)\n",
        "    text = re.sub('\\\\/',' ',text)\n",
        "    # text = re.sub('\\\\<',' ',text)\n",
        "    # text = re.sub('\\\\>',' ',text)\n",
        "#     text = re.sub('\\\\:',' ',text)\n",
        "    \n",
        "#     text = text.replace(':',r' : ')\n",
        "    \n",
        "    \n",
        "    #     text = ' '.join(text.split())\n",
        "\n",
        "    # replace single chars again \n",
        "    text = ' '.join(['' if len(i)==1 else i for i in text.split()])\n",
        "    \n",
        "    # spacing quoted statement\n",
        "    text = re.sub('\"',' \" ',text)\n",
        "    # replace url\n",
        "\n",
        "    text = re.sub('((www\\.[^\\s]+)|(https?://[^\\s]+))',' ',text)\n",
        "        #Replaces url address with \"url\" \n",
        "    # text = re.sub('((www\\.[^\\s]+)|(https?://[^\\s]+))',' ',text)\n",
        "\t  # text = re.sub(r'#([^\\s]+)', r'\\1',text)\n",
        "\n",
        "    return text\n",
        "\n",
        "# def replaceURL(text):\n",
        "\n",
        "def clean_code(text):\n",
        "  text = expression1(text)\n",
        "  text_tokens = word_tokenize(text)\n",
        "  tokens_without_stopwords = [word for word in text_tokens if not word in stopwords_list] \n",
        "  # stopwords.words()]\n",
        "  return ' '.join(tokens_without_stopwords)\n",
        "def clean_code2(text):\n",
        "  text = expression1(text)\n",
        "  if len(text)>1001 or len(text)<9:\n",
        "    return ''\n",
        "  else:\n",
        "    text_tokens = word_tokenize(text)\n",
        "    tokens_without_stopwords = [word for word in text_tokens if not word in stopwords_list] \n",
        "  # stopwords.words()]\n",
        "    return ' '.join(tokens_without_stopwords)\n",
        "\n",
        "print(\"TRY expresion1\")"
      ],
      "execution_count": 9,
      "outputs": [
        {
          "output_type": "stream",
          "text": [
            "TRY expresion1\n"
          ],
          "name": "stdout"
        }
      ]
    },
    {
      "cell_type": "code",
      "metadata": {
        "colab": {
          "base_uri": "https://localhost:8080/"
        },
        "id": "4esxjWM8QIZH",
        "outputId": "571cb420-9100-46f5-c13a-3be54f668cb2"
      },
      "source": [
        "%%time\n",
        "\n",
        "line_7210 = data.iloc[15710]['Source']\n",
        "cleaned_7210 =  clean_code2(line_7210)\n",
        "\n",
        "print(line_7210 , '\\n ->',len(line_7210))\n",
        "print('-'*60,'\\n\\n')\n",
        "print(cleaned_7210,'\\n ->',len(cleaned_7210))\n"
      ],
      "execution_count": 10,
      "outputs": [
        {
          "output_type": "stream",
          "text": [
            "    String sql = \"select distinct changeset \" +\n",
            "            \"from Changeset changeset \" +\n",
            "            \"join fetch changeset.changeEntries as changeEntry \" +\n",
            "            \"join fetch changeEntry.repositoryEntity as repositoryEntity \" +\n",
            "            \"join fetch repositoryEntity.repository as repository \" +\n",
            "            \"where repository.connectionName = :connectionName\";\n",
            "\n",
            "public class Changeset {\n",
            "\n",
            "    @NotNull\n",
            "    @OneToMany(mappedBy=\"changeset\", targetEntity=ChangeEntry.class, cascade={CascadeType.ALL }, fetch=FetchType.EAGER )\n",
            "    private Set<IChangeEntry> changeEntries;\n",
            "\n",
            "public class ChangeEntry {\n",
            "\n",
            "    @NotNull\n",
            "    @ManyToOne(targetEntity=Changeset.class)\n",
            "    @ForeignKey(name=\"FkChangeEntryChangeset\")\n",
            "    private IScmChangeset changeset;\n",
            "\n",
            "    @NotNull\n",
            "    @ManyToOne(targetEntity=RepositoryEntity.class, cascade=CascadeType.ALL,fetch=FetchType.EAGER)\n",
            "    @ForeignKey(name=\"FkChangeEntryRepoEntity\")\n",
            "    private IRepositoryEntity repositoryEntity;\n",
            "\n",
            " \n",
            " -> 956\n",
            "------------------------------------------------------------ \n",
            "\n",
            "\n",
            "String sql `` select distinct changeset `` Changeset changeset `` join fetch changeset.changeEntries changeEntry `` join fetch changeEntry.repositoryEntity repositoryEntity `` join fetch repositoryEntity.repository repository `` repository.connectionName : connectionName `` ; public class Changeset @ NotNull @ OneToMany ( mappedBy `` changeset `` , targetEntity ChangeEntry.class , cascade { CascadeType.ALL } , fetch FetchType.EAGER private Set < IChangeEntry > changeEntries ; public class ChangeEntry @ NotNull @ ManyToOne ( targetEntity Changeset.class ) @ ForeignKey ( name `` FkChangeEntryChangeset `` ) private IScmChangeset changeset ; @ NotNull @ ManyToOne ( targetEntity RepositoryEntity.class , cascade CascadeType.ALL , fetch FetchType.EAGER ) @ ForeignKey ( name `` FkChangeEntryRepoEntity `` ) private IRepositoryEntity repositoryEntity ; \n",
            " -> 854\n",
            "CPU times: user 10.4 ms, sys: 1.55 ms, total: 12 ms\n",
            "Wall time: 12.6 ms\n"
          ],
          "name": "stdout"
        }
      ]
    },
    {
      "cell_type": "markdown",
      "metadata": {
        "id": "8JuzwlHvQStq"
      },
      "source": [
        "#### Cleaning dataset"
      ]
    },
    {
      "cell_type": "code",
      "metadata": {
        "colab": {
          "base_uri": "https://localhost:8080/"
        },
        "id": "Ld_D4fQmQMMp",
        "outputId": "648c7c30-6971-43a9-c566-82b7db0773b9"
      },
      "source": [
        "%%time\n",
        "\n",
        "dataset_refined = data.copy()\n",
        "print('->created a copy')\n",
        "dataset_refined['Source'] =  dataset_refined['Source'].astype(str)\n",
        "print('\\n->as string')\n",
        "dataset_refined['Source'] =  dataset_refined['Source'].apply(clean_code)\n",
        "print('\\n->cleaned code with expression1')\n",
        "dataset_refined.to_csv('dataset/cleaned_data_3_v2.csv',index=None)\n",
        "print('\\n->saved cleaned csv , columns : ',dataset_refined.columns)\n",
        "\n",
        "print('done')"
      ],
      "execution_count": 11,
      "outputs": [
        {
          "output_type": "stream",
          "text": [
            "->created a copy\n",
            "\n",
            "->as string\n",
            "\n",
            "->cleaned code with expression1\n",
            "\n",
            "->saved cleaned csv , columns :  Index(['Language', 'Source'], dtype='object')\n",
            "done\n",
            "CPU times: user 34.3 s, sys: 59.9 ms, total: 34.4 s\n",
            "Wall time: 34.4 s\n"
          ],
          "name": "stdout"
        }
      ]
    },
    {
      "cell_type": "code",
      "metadata": {
        "colab": {
          "base_uri": "https://localhost:8080/",
          "height": 419
        },
        "id": "24JYUgCXQV4U",
        "outputId": "cec8ed65-b8fb-4684-c9f0-16e7ff1b2dec"
      },
      "source": [
        "df = pd.read_csv('/content/dataset/cleaned_data_3_v2.csv')\n",
        "df"
      ],
      "execution_count": 12,
      "outputs": [
        {
          "output_type": "execute_result",
          "data": {
            "text/html": [
              "<div>\n",
              "<style scoped>\n",
              "    .dataframe tbody tr th:only-of-type {\n",
              "        vertical-align: middle;\n",
              "    }\n",
              "\n",
              "    .dataframe tbody tr th {\n",
              "        vertical-align: top;\n",
              "    }\n",
              "\n",
              "    .dataframe thead th {\n",
              "        text-align: right;\n",
              "    }\n",
              "</style>\n",
              "<table border=\"1\" class=\"dataframe\">\n",
              "  <thead>\n",
              "    <tr style=\"text-align: right;\">\n",
              "      <th></th>\n",
              "      <th>Language</th>\n",
              "      <th>Source</th>\n",
              "    </tr>\n",
              "  </thead>\n",
              "  <tbody>\n",
              "    <tr>\n",
              "      <th>0</th>\n",
              "      <td>bash</td>\n",
              "      <td>foo ...</td>\n",
              "    </tr>\n",
              "    <tr>\n",
              "      <th>1</th>\n",
              "      <td>bash</td>\n",
              "      <td>unset MY_VARIABLE make foo export MY_VARIABLE ...</td>\n",
              "    </tr>\n",
              "    <tr>\n",
              "      <th>2</th>\n",
              "      <td>bash</td>\n",
              "      <td>SUCCESS false DEPLOY_PATH apps jboss server de...</td>\n",
              "    </tr>\n",
              "    <tr>\n",
              "      <th>3</th>\n",
              "      <td>bash</td>\n",
              "      <td>.bashrc has_gitbranch ( ) .git ] ; GIT_BRANCH ...</td>\n",
              "    </tr>\n",
              "    <tr>\n",
              "      <th>4</th>\n",
              "      <td>bash</td>\n",
              "      <td>foo foo scaffold_ bar bar scaffold_ awk ' { ( ...</td>\n",
              "    </tr>\n",
              "    <tr>\n",
              "      <th>...</th>\n",
              "      <td>...</td>\n",
              "      <td>...</td>\n",
              "    </tr>\n",
              "    <tr>\n",
              "      <th>44995</th>\n",
              "      <td>swift</td>\n",
              "      <td>@ protocol ALAdLoadDelegate &lt; NSObject &gt; ( voi...</td>\n",
              "    </tr>\n",
              "    <tr>\n",
              "      <th>44996</th>\n",
              "      <td>swift</td>\n",
              "      <td>func tableView ( tableView : UITableView ! , d...</td>\n",
              "    </tr>\n",
              "    <tr>\n",
              "      <th>44997</th>\n",
              "      <td>swift</td>\n",
              "      <td>override func touchesBegan ( touches : NSSet ,...</td>\n",
              "    </tr>\n",
              "    <tr>\n",
              "      <th>44998</th>\n",
              "      <td>swift</td>\n",
              "      <td>override func viewDidLoad ( ) super.viewDidLoa...</td>\n",
              "    </tr>\n",
              "    <tr>\n",
              "      <th>44999</th>\n",
              "      <td>swift</td>\n",
              "      <td>presentTextInputControllerWithSuggestions Watc...</td>\n",
              "    </tr>\n",
              "  </tbody>\n",
              "</table>\n",
              "<p>45000 rows × 2 columns</p>\n",
              "</div>"
            ],
            "text/plain": [
              "      Language                                             Source\n",
              "0         bash                                            foo ...\n",
              "1         bash  unset MY_VARIABLE make foo export MY_VARIABLE ...\n",
              "2         bash  SUCCESS false DEPLOY_PATH apps jboss server de...\n",
              "3         bash  .bashrc has_gitbranch ( ) .git ] ; GIT_BRANCH ...\n",
              "4         bash  foo foo scaffold_ bar bar scaffold_ awk ' { ( ...\n",
              "...        ...                                                ...\n",
              "44995    swift  @ protocol ALAdLoadDelegate < NSObject > ( voi...\n",
              "44996    swift  func tableView ( tableView : UITableView ! , d...\n",
              "44997    swift  override func touchesBegan ( touches : NSSet ,...\n",
              "44998    swift  override func viewDidLoad ( ) super.viewDidLoa...\n",
              "44999    swift  presentTextInputControllerWithSuggestions Watc...\n",
              "\n",
              "[45000 rows x 2 columns]"
            ]
          },
          "metadata": {
            "tags": []
          },
          "execution_count": 12
        }
      ]
    },
    {
      "cell_type": "code",
      "metadata": {
        "colab": {
          "base_uri": "https://localhost:8080/"
        },
        "id": "rfFZHo57YhPS",
        "outputId": "b2ca6f93-6bd4-4f56-aa0a-592761d08616"
      },
      "source": [
        "len(df)"
      ],
      "execution_count": 13,
      "outputs": [
        {
          "output_type": "execute_result",
          "data": {
            "text/plain": [
              "45000"
            ]
          },
          "metadata": {
            "tags": []
          },
          "execution_count": 13
        }
      ]
    },
    {
      "cell_type": "code",
      "metadata": {
        "colab": {
          "base_uri": "https://localhost:8080/"
        },
        "id": "5MQqZHtKYjDi",
        "outputId": "4bda12db-5e73-4472-b5c2-364ed15f2377"
      },
      "source": [
        "cleaned_df = None\n",
        "print(cleaned_df)\n",
        "cleaned_df = df.dropna().copy()\n",
        "print(len(cleaned_df))"
      ],
      "execution_count": 16,
      "outputs": [
        {
          "output_type": "stream",
          "text": [
            "None\n",
            "44817\n"
          ],
          "name": "stdout"
        }
      ]
    },
    {
      "cell_type": "code",
      "metadata": {
        "colab": {
          "base_uri": "https://localhost:8080/"
        },
        "id": "y_k5ID4JQdFN",
        "outputId": "4b8e87ef-b0bb-4d82-9a62-d3d316358910"
      },
      "source": [
        "%%time\n",
        "\n",
        "cleaned_df[\"lang_id\"] = cleaned_df['Language'].factorize()[0]\n",
        "print('>>> lang id created')\n",
        "lang_id_df = cleaned_df[['Language', 'lang_id']].drop_duplicates().sort_values('lang_id')\n",
        "print('>>> added to dataframe')\n",
        "lang_to_id = dict(lang_id_df.values)\n",
        "id_to_lang = dict(lang_id_df[['lang_id', 'Language']].values)\n",
        "print('>>> now columns : ',cleaned_df.columns)"
      ],
      "execution_count": 17,
      "outputs": [
        {
          "output_type": "stream",
          "text": [
            ">>> lang id created\n",
            ">>> added to dataframe\n",
            ">>> now columns :  Index(['Language', 'Source', 'lang_id'], dtype='object')\n",
            "CPU times: user 13.2 ms, sys: 1.99 ms, total: 15.2 ms\n",
            "Wall time: 14.6 ms\n"
          ],
          "name": "stdout"
        }
      ]
    },
    {
      "cell_type": "code",
      "metadata": {
        "colab": {
          "base_uri": "https://localhost:8080/",
          "height": 419
        },
        "id": "fegPD4XiQieN",
        "outputId": "a1394c6c-a700-4d57-c8ed-ef73b041a7c7"
      },
      "source": [
        "cleaned_df"
      ],
      "execution_count": 18,
      "outputs": [
        {
          "output_type": "execute_result",
          "data": {
            "text/html": [
              "<div>\n",
              "<style scoped>\n",
              "    .dataframe tbody tr th:only-of-type {\n",
              "        vertical-align: middle;\n",
              "    }\n",
              "\n",
              "    .dataframe tbody tr th {\n",
              "        vertical-align: top;\n",
              "    }\n",
              "\n",
              "    .dataframe thead th {\n",
              "        text-align: right;\n",
              "    }\n",
              "</style>\n",
              "<table border=\"1\" class=\"dataframe\">\n",
              "  <thead>\n",
              "    <tr style=\"text-align: right;\">\n",
              "      <th></th>\n",
              "      <th>Language</th>\n",
              "      <th>Source</th>\n",
              "      <th>lang_id</th>\n",
              "    </tr>\n",
              "  </thead>\n",
              "  <tbody>\n",
              "    <tr>\n",
              "      <th>0</th>\n",
              "      <td>bash</td>\n",
              "      <td>foo ...</td>\n",
              "      <td>0</td>\n",
              "    </tr>\n",
              "    <tr>\n",
              "      <th>1</th>\n",
              "      <td>bash</td>\n",
              "      <td>unset MY_VARIABLE make foo export MY_VARIABLE ...</td>\n",
              "      <td>0</td>\n",
              "    </tr>\n",
              "    <tr>\n",
              "      <th>2</th>\n",
              "      <td>bash</td>\n",
              "      <td>SUCCESS false DEPLOY_PATH apps jboss server de...</td>\n",
              "      <td>0</td>\n",
              "    </tr>\n",
              "    <tr>\n",
              "      <th>3</th>\n",
              "      <td>bash</td>\n",
              "      <td>.bashrc has_gitbranch ( ) .git ] ; GIT_BRANCH ...</td>\n",
              "      <td>0</td>\n",
              "    </tr>\n",
              "    <tr>\n",
              "      <th>4</th>\n",
              "      <td>bash</td>\n",
              "      <td>foo foo scaffold_ bar bar scaffold_ awk ' { ( ...</td>\n",
              "      <td>0</td>\n",
              "    </tr>\n",
              "    <tr>\n",
              "      <th>...</th>\n",
              "      <td>...</td>\n",
              "      <td>...</td>\n",
              "      <td>...</td>\n",
              "    </tr>\n",
              "    <tr>\n",
              "      <th>44995</th>\n",
              "      <td>swift</td>\n",
              "      <td>@ protocol ALAdLoadDelegate &lt; NSObject &gt; ( voi...</td>\n",
              "      <td>14</td>\n",
              "    </tr>\n",
              "    <tr>\n",
              "      <th>44996</th>\n",
              "      <td>swift</td>\n",
              "      <td>func tableView ( tableView : UITableView ! , d...</td>\n",
              "      <td>14</td>\n",
              "    </tr>\n",
              "    <tr>\n",
              "      <th>44997</th>\n",
              "      <td>swift</td>\n",
              "      <td>override func touchesBegan ( touches : NSSet ,...</td>\n",
              "      <td>14</td>\n",
              "    </tr>\n",
              "    <tr>\n",
              "      <th>44998</th>\n",
              "      <td>swift</td>\n",
              "      <td>override func viewDidLoad ( ) super.viewDidLoa...</td>\n",
              "      <td>14</td>\n",
              "    </tr>\n",
              "    <tr>\n",
              "      <th>44999</th>\n",
              "      <td>swift</td>\n",
              "      <td>presentTextInputControllerWithSuggestions Watc...</td>\n",
              "      <td>14</td>\n",
              "    </tr>\n",
              "  </tbody>\n",
              "</table>\n",
              "<p>44817 rows × 3 columns</p>\n",
              "</div>"
            ],
            "text/plain": [
              "      Language                                             Source  lang_id\n",
              "0         bash                                            foo ...        0\n",
              "1         bash  unset MY_VARIABLE make foo export MY_VARIABLE ...        0\n",
              "2         bash  SUCCESS false DEPLOY_PATH apps jboss server de...        0\n",
              "3         bash  .bashrc has_gitbranch ( ) .git ] ; GIT_BRANCH ...        0\n",
              "4         bash  foo foo scaffold_ bar bar scaffold_ awk ' { ( ...        0\n",
              "...        ...                                                ...      ...\n",
              "44995    swift  @ protocol ALAdLoadDelegate < NSObject > ( voi...       14\n",
              "44996    swift  func tableView ( tableView : UITableView ! , d...       14\n",
              "44997    swift  override func touchesBegan ( touches : NSSet ,...       14\n",
              "44998    swift  override func viewDidLoad ( ) super.viewDidLoa...       14\n",
              "44999    swift  presentTextInputControllerWithSuggestions Watc...       14\n",
              "\n",
              "[44817 rows x 3 columns]"
            ]
          },
          "metadata": {
            "tags": []
          },
          "execution_count": 18
        }
      ]
    },
    {
      "cell_type": "markdown",
      "metadata": {
        "id": "DBakVlKZQxIM"
      },
      "source": [
        "### copying tokenizer for converting sentences to sequences"
      ]
    },
    {
      "cell_type": "code",
      "metadata": {
        "colab": {
          "base_uri": "https://localhost:8080/"
        },
        "id": "CPVksSJDQ1fy",
        "outputId": "71b33e1d-f540-4cfb-ed5a-cb2a4517943a"
      },
      "source": [
        "# !cp '/content/drive/My Drive/datasets/LanguageDataset/final_changes/DL_models/tokenizer_model4_v2.pickle' '/content/dataset'\n",
        "\n",
        "!cp '/content/drive/My Drive/datasets/LanguageDataset/final_changes/DL_models/tokenizer_Jan5_v3.pickle' '/content/dataset'\n",
        "\n",
        "!echo done"
      ],
      "execution_count": 19,
      "outputs": [
        {
          "output_type": "stream",
          "text": [
            "done\n"
          ],
          "name": "stdout"
        }
      ]
    },
    {
      "cell_type": "code",
      "metadata": {
        "colab": {
          "base_uri": "https://localhost:8080/"
        },
        "id": "a4nVKtyaRB2o",
        "outputId": "63cbd1c7-5459-4be8-ae9f-b92ad110b3a3"
      },
      "source": [
        "%%time\n",
        "\n",
        "from tensorflow.keras.preprocessing.text import Tokenizer\n",
        "from tensorflow.keras.preprocessing.sequence import pad_sequences\n",
        "import pickle\n",
        "\n",
        "vocab_size = 10000\n",
        "trunc_type='post'\n",
        "oov_tok = \"<OOV>\"\n",
        "\n",
        "print('loading pickle')\n",
        "# loading\n",
        "with open('/content/dataset/tokenizer_Jan5_v3.pickle', 'rb') as handle:\n",
        "    tokenizer = pickle.load(handle)\n",
        "\n",
        "print('loaded',type(tokenizer))"
      ],
      "execution_count": 20,
      "outputs": [
        {
          "output_type": "stream",
          "text": [
            "loading pickle\n",
            "loaded <class 'keras_preprocessing.text.Tokenizer'>\n",
            "CPU times: user 1.3 s, sys: 140 ms, total: 1.44 s\n",
            "Wall time: 1.44 s\n"
          ],
          "name": "stdout"
        }
      ]
    },
    {
      "cell_type": "code",
      "metadata": {
        "colab": {
          "base_uri": "https://localhost:8080/"
        },
        "id": "U-35pEcMRCRP",
        "outputId": "f93590b3-de9d-46f4-fa37-5a8aa5e341fc"
      },
      "source": [
        "tokenizer"
      ],
      "execution_count": 21,
      "outputs": [
        {
          "output_type": "execute_result",
          "data": {
            "text/plain": [
              "<keras_preprocessing.text.Tokenizer at 0x7f2c30d9f240>"
            ]
          },
          "metadata": {
            "tags": []
          },
          "execution_count": 21
        }
      ]
    },
    {
      "cell_type": "code",
      "metadata": {
        "colab": {
          "base_uri": "https://localhost:8080/"
        },
        "id": "4IMVR80PRy3m",
        "outputId": "8db6fa9e-2fbf-4e1c-a13a-7cb617c26354"
      },
      "source": [
        "word_index = tokenizer.word_index\n",
        "print('len of word index',len(word_index)) # should be 80..."
      ],
      "execution_count": 22,
      "outputs": [
        {
          "output_type": "stream",
          "text": [
            "len of word index 80691\n"
          ],
          "name": "stdout"
        }
      ]
    },
    {
      "cell_type": "markdown",
      "metadata": {
        "id": "0PYaf-7WR4s8"
      },
      "source": [
        "### transform sentences using tokenizer"
      ]
    },
    {
      "cell_type": "code",
      "metadata": {
        "id": "WzRa5tD0R4fg"
      },
      "source": [
        "max_length = 1000\n",
        "trunc_type='post'"
      ],
      "execution_count": 23,
      "outputs": []
    },
    {
      "cell_type": "code",
      "metadata": {
        "colab": {
          "base_uri": "https://localhost:8080/"
        },
        "id": "SRp8job5R4Tv",
        "outputId": "08271784-ccef-4db8-d852-0986e5ea9d9e"
      },
      "source": [
        "%%time\n",
        "print('converting whole data')\n",
        "X = tokenizer.texts_to_sequences(cleaned_df['Source'].values.astype('U'))\n",
        "print(' .... converted text to sequences' , type(X),'\\n ')\n",
        "print('-'*70)"
      ],
      "execution_count": 24,
      "outputs": [
        {
          "output_type": "stream",
          "text": [
            "converting whole data\n",
            " .... converted text to sequences <class 'list'> \n",
            " \n",
            "----------------------------------------------------------------------\n",
            "CPU times: user 5.43 s, sys: 1.68 s, total: 7.11 s\n",
            "Wall time: 7.12 s\n"
          ],
          "name": "stdout"
        }
      ]
    },
    {
      "cell_type": "markdown",
      "metadata": {
        "id": "nC3YFNv-SSI3"
      },
      "source": [
        "### pad sequences"
      ]
    },
    {
      "cell_type": "code",
      "metadata": {
        "colab": {
          "base_uri": "https://localhost:8080/"
        },
        "id": "-zA4GgQKSR5i",
        "outputId": "c59b4d09-1f55-402a-8dbc-3ccd4006aea5"
      },
      "source": [
        "%%time\n",
        "X_padded = pad_sequences(X,maxlen=max_length, truncating=trunc_type)\n",
        "print('sequence padded')\n",
        "print(type(X_padded),'\\n padded to ',X_padded.shape)"
      ],
      "execution_count": 25,
      "outputs": [
        {
          "output_type": "stream",
          "text": [
            "sequence padded\n",
            "<class 'numpy.ndarray'> \n",
            " padded to  (44817, 1000)\n",
            "CPU times: user 358 ms, sys: 1.89 ms, total: 360 ms\n",
            "Wall time: 363 ms\n"
          ],
          "name": "stdout"
        }
      ]
    },
    {
      "cell_type": "markdown",
      "metadata": {
        "id": "JGkpQvcoSoBA"
      },
      "source": [
        "### Creating labels"
      ]
    },
    {
      "cell_type": "code",
      "metadata": {
        "colab": {
          "base_uri": "https://localhost:8080/"
        },
        "id": "HQskYMRtSpzD",
        "outputId": "4f9a2b24-73af-44ba-e484-98fe9f670e94"
      },
      "source": [
        "Y = pd.get_dummies(cleaned_df['Language'].values.astype('U'))\n",
        "print('and Y : ',type(Y))\n",
        "y = np.asarray(Y)\n",
        "print(X_padded.shape , y.shape)"
      ],
      "execution_count": 26,
      "outputs": [
        {
          "output_type": "stream",
          "text": [
            "and Y :  <class 'pandas.core.frame.DataFrame'>\n",
            "(44817, 1000) (44817, 15)\n"
          ],
          "name": "stdout"
        }
      ]
    },
    {
      "cell_type": "markdown",
      "metadata": {
        "id": "t2w2QvOkQmPQ"
      },
      "source": [
        "#### Train Test Split <br> this time using sklearn.model_selection train test split"
      ]
    },
    {
      "cell_type": "code",
      "metadata": {
        "id": "yHb5v7vbQjfU"
      },
      "source": [
        "from sklearn.model_selection import train_test_split"
      ],
      "execution_count": 27,
      "outputs": []
    },
    {
      "cell_type": "code",
      "metadata": {
        "colab": {
          "base_uri": "https://localhost:8080/"
        },
        "id": "a2e1kDFaS3lf",
        "outputId": "84ce8e39-9165-4d07-f3f5-51ebe2dd0799"
      },
      "source": [
        "%%time\n",
        "X_train, X_test, y_train, y_test = train_test_split( X_padded, y, test_size=0.33, random_state=42)\n",
        "\n",
        "print('training data : ',X_train.shape , ' ... ', y_train.shape)\n",
        "print('testing data : ',X_test.shape , ' ... ', y_test.shape)"
      ],
      "execution_count": 28,
      "outputs": [
        {
          "output_type": "stream",
          "text": [
            "training data :  (30027, 1000)  ...  (30027, 15)\n",
            "testing data :  (14790, 1000)  ...  (14790, 15)\n",
            "CPU times: user 59.9 ms, sys: 1.05 ms, total: 60.9 ms\n",
            "Wall time: 61.2 ms\n"
          ],
          "name": "stdout"
        }
      ]
    },
    {
      "cell_type": "markdown",
      "metadata": {
        "id": "6LB6Snc9TX0W"
      },
      "source": [
        "### Copy model"
      ]
    },
    {
      "cell_type": "code",
      "metadata": {
        "colab": {
          "base_uri": "https://localhost:8080/"
        },
        "id": "2bLKafmlTLdP",
        "outputId": "c89ec5e1-d5ad-4fca-bc89-57786bf9e2ba"
      },
      "source": [
        "# !cp '/content/drive/My Drive/datasets/LanguageDataset/final_changes/DL_models/model4_use_tokenizer4_v2.zip' '/content/dataset'\n",
        "!cp '/content/drive/My Drive/datasets/LanguageDataset/final_changes/DL_models/Jan_5_DL_model1_v3.zip' '/content/dataset'\n",
        "!echo copied"
      ],
      "execution_count": 29,
      "outputs": [
        {
          "output_type": "stream",
          "text": [
            "copied\n"
          ],
          "name": "stdout"
        }
      ]
    },
    {
      "cell_type": "markdown",
      "metadata": {
        "id": "6dkd2kC_Tn6G"
      },
      "source": [
        "### unzip"
      ]
    },
    {
      "cell_type": "code",
      "metadata": {
        "colab": {
          "base_uri": "https://localhost:8080/"
        },
        "id": "WIX8lL47Tico",
        "outputId": "c91f95f2-37d9-425b-d467-b582dea1604a"
      },
      "source": [
        "!unzip '/content/dataset/Jan_5_DL_model1_v3.zip'"
      ],
      "execution_count": 30,
      "outputs": [
        {
          "output_type": "stream",
          "text": [
            "Archive:  /content/dataset/Jan_5_DL_model1_v3.zip\n",
            "   creating: content/content/Jan_5_DL_model1_v3/\n",
            "  inflating: content/content/Jan_5_DL_model1_v3/saved_model.pb  \n",
            "   creating: content/content/Jan_5_DL_model1_v3/assets/\n",
            "   creating: content/content/Jan_5_DL_model1_v3/variables/\n",
            "  inflating: content/content/Jan_5_DL_model1_v3/variables/variables.index  \n",
            "  inflating: content/content/Jan_5_DL_model1_v3/variables/variables.data-00000-of-00001  \n"
          ],
          "name": "stdout"
        }
      ]
    },
    {
      "cell_type": "code",
      "metadata": {
        "id": "Gl23igZUT-Fn"
      },
      "source": [
        "model_path = '/content/content/content/Jan_5_DL_model1_v3'\n"
      ],
      "execution_count": 31,
      "outputs": []
    },
    {
      "cell_type": "markdown",
      "metadata": {
        "id": "CtVRaq_XULqR"
      },
      "source": [
        "### Loading the model"
      ]
    },
    {
      "cell_type": "code",
      "metadata": {
        "colab": {
          "base_uri": "https://localhost:8080/"
        },
        "id": "6YtFtnAEUGwR",
        "outputId": "f3b358e2-2496-4528-fa86-5d8985e282be"
      },
      "source": [
        "%%time\n",
        "\n",
        "from keras.models import load_model\n",
        "\n",
        "model = load_model(model_path)\n",
        "print('loaded')"
      ],
      "execution_count": 32,
      "outputs": [
        {
          "output_type": "stream",
          "text": [
            "loaded\n",
            "CPU times: user 1.47 s, sys: 421 ms, total: 1.89 s\n",
            "Wall time: 6.52 s\n"
          ],
          "name": "stdout"
        }
      ]
    },
    {
      "cell_type": "code",
      "metadata": {
        "colab": {
          "base_uri": "https://localhost:8080/"
        },
        "id": "g0riwsA5UWU5",
        "outputId": "5577e6e1-1780-4a7c-de6f-7aa26d9e4e4d"
      },
      "source": [
        "model.summary()"
      ],
      "execution_count": 33,
      "outputs": [
        {
          "output_type": "stream",
          "text": [
            "Model: \"sequential\"\n",
            "_________________________________________________________________\n",
            "Layer (type)                 Output Shape              Param #   \n",
            "=================================================================\n",
            "embedding (Embedding)        (None, 1000, 32)          320000    \n",
            "_________________________________________________________________\n",
            "conv1d (Conv1D)              (None, 996, 128)          20608     \n",
            "_________________________________________________________________\n",
            "max_pooling1d (MaxPooling1D) (None, 199, 128)          0         \n",
            "_________________________________________________________________\n",
            "batch_normalization (BatchNo (None, 199, 128)          512       \n",
            "_________________________________________________________________\n",
            "activation (Activation)      (None, 199, 128)          0         \n",
            "_________________________________________________________________\n",
            "global_average_pooling1d (Gl (None, 128)               0         \n",
            "_________________________________________________________________\n",
            "dropout (Dropout)            (None, 128)               0         \n",
            "_________________________________________________________________\n",
            "dense (Dense)                (None, 64)                8256      \n",
            "_________________________________________________________________\n",
            "batch_normalization_1 (Batch (None, 64)                256       \n",
            "_________________________________________________________________\n",
            "activation_1 (Activation)    (None, 64)                0         \n",
            "_________________________________________________________________\n",
            "flatten (Flatten)            (None, 64)                0         \n",
            "_________________________________________________________________\n",
            "dense_1 (Dense)              (None, 15)                975       \n",
            "_________________________________________________________________\n",
            "batch_normalization_2 (Batch (None, 15)                60        \n",
            "_________________________________________________________________\n",
            "activation_2 (Activation)    (None, 15)                0         \n",
            "_________________________________________________________________\n",
            "flatten_1 (Flatten)          (None, 15)                0         \n",
            "_________________________________________________________________\n",
            "activation_3 (Activation)    (None, 15)                0         \n",
            "=================================================================\n",
            "Total params: 350,667\n",
            "Trainable params: 350,253\n",
            "Non-trainable params: 414\n",
            "_________________________________________________________________\n"
          ],
          "name": "stdout"
        }
      ]
    },
    {
      "cell_type": "code",
      "metadata": {
        "id": "BJVSYT0kUhiL"
      },
      "source": [
        "from sklearn.model_selection import KFold\n",
        "\n",
        "# n_fold = 2\n",
        "# n_fold = 3 \n",
        "# n_fold = 5\n",
        "n_fold = 10\n",
        "\n",
        "k_fold = KFold(n_fold,shuffle=True,random_state=31)"
      ],
      "execution_count": 34,
      "outputs": []
    },
    {
      "cell_type": "code",
      "metadata": {
        "colab": {
          "base_uri": "https://localhost:8080/"
        },
        "id": "OESWPkqjUsHI",
        "outputId": "6d0437ed-823e-4f98-c5c9-217b55776a2d"
      },
      "source": [
        "k_fold"
      ],
      "execution_count": 35,
      "outputs": [
        {
          "output_type": "execute_result",
          "data": {
            "text/plain": [
              "KFold(n_splits=10, random_state=31, shuffle=True)"
            ]
          },
          "metadata": {
            "tags": []
          },
          "execution_count": 35
        }
      ]
    },
    {
      "cell_type": "markdown",
      "metadata": {
        "id": "k_LWUuUnUny-"
      },
      "source": [
        "### Training the model"
      ]
    },
    {
      "cell_type": "code",
      "metadata": {
        "colab": {
          "base_uri": "https://localhost:8080/"
        },
        "id": "Z04W-hexUmwT",
        "outputId": "0a697840-ca99-440f-f040-2fbfa2b1214e"
      },
      "source": [
        "%%time\n",
        "\n",
        "scores = []\n",
        "histories = []\n",
        "print('......... fitting the model again\\n')\n",
        "\n",
        "for train_iX,test_iX in k_fold.split(X_train):\n",
        "  # selecting rows for trainX and trainY first train data and then cross validation data\n",
        "  x_itrain,y_itrain,x_cv,y_cv = X_train[train_iX] , y_train[train_iX] , X_train[test_iX], y_train[test_iX]\n",
        "    # fit into model with batch sizes of 32 and epochs 10\n",
        "    # # history = my_model.fit(x_train,y_train,batch_size=32,epochs=10,verbose=1,validation_data=(x_cv,y_cv))\n",
        "  history = model.fit(x_itrain,y_itrain,batch_size=64,epochs=10,verbose=1,validation_data=(x_cv,y_cv))\n",
        "  # evaluate model\n",
        "  loss,acc = model.evaluate(X_test , y_test,verbose=2)\n",
        "  print('-'*80)\n",
        "  print('\\n\\t --> accuracy on test data : {:.6f}% and loss : {:.7f} <--\\n'.format(acc * 100.0,loss))\n",
        "  print('-'*80)\n",
        "    # # stores scores  \n",
        "  scores.append(acc)\n",
        "  histories.append(history)\n",
        "\n",
        "print('done')"
      ],
      "execution_count": 36,
      "outputs": [
        {
          "output_type": "stream",
          "text": [
            "......... fitting the model again\n",
            "\n",
            "Epoch 1/10\n",
            "423/423 [==============================] - 18s 23ms/step - loss: 1.2041 - accuracy: 0.6606 - val_loss: 1.8564 - val_accuracy: 0.5298\n",
            "Epoch 2/10\n",
            "423/423 [==============================] - 13s 31ms/step - loss: 1.1087 - accuracy: 0.6824 - val_loss: 0.9702 - val_accuracy: 0.7216\n",
            "Epoch 3/10\n",
            "423/423 [==============================] - 13s 30ms/step - loss: 1.0438 - accuracy: 0.6995 - val_loss: 1.0577 - val_accuracy: 0.7023\n",
            "Epoch 4/10\n",
            "423/423 [==============================] - 9s 20ms/step - loss: 1.0007 - accuracy: 0.7096 - val_loss: 1.1673 - val_accuracy: 0.6693\n",
            "Epoch 5/10\n",
            "423/423 [==============================] - 9s 22ms/step - loss: 0.9741 - accuracy: 0.7198 - val_loss: 1.8155 - val_accuracy: 0.5268\n",
            "Epoch 6/10\n",
            "423/423 [==============================] - 11s 27ms/step - loss: 0.9502 - accuracy: 0.7283 - val_loss: 1.2484 - val_accuracy: 0.6464\n",
            "Epoch 7/10\n",
            "423/423 [==============================] - 9s 20ms/step - loss: 0.9253 - accuracy: 0.7326 - val_loss: 1.4066 - val_accuracy: 0.6214\n",
            "Epoch 8/10\n",
            "423/423 [==============================] - 12s 29ms/step - loss: 0.9093 - accuracy: 0.7366 - val_loss: 1.7822 - val_accuracy: 0.5401\n",
            "Epoch 9/10\n",
            "423/423 [==============================] - 13s 31ms/step - loss: 0.8959 - accuracy: 0.7390 - val_loss: 1.0923 - val_accuracy: 0.6757\n",
            "Epoch 10/10\n",
            "423/423 [==============================] - 11s 27ms/step - loss: 0.8778 - accuracy: 0.7466 - val_loss: 1.1678 - val_accuracy: 0.6583\n",
            "463/463 - 1s - loss: 1.1795 - accuracy: 0.6626\n",
            "--------------------------------------------------------------------------------\n",
            "\n",
            "\t --> accuracy on test data : 66.260988% and loss : 1.1794820 <--\n",
            "\n",
            "--------------------------------------------------------------------------------\n",
            "Epoch 1/10\n",
            "423/423 [==============================] - 12s 28ms/step - loss: 0.8798 - accuracy: 0.7429 - val_loss: 1.1226 - val_accuracy: 0.6803\n",
            "Epoch 2/10\n",
            "423/423 [==============================] - 12s 29ms/step - loss: 0.8653 - accuracy: 0.7514 - val_loss: 0.9043 - val_accuracy: 0.7552\n",
            "Epoch 3/10\n",
            "423/423 [==============================] - 12s 29ms/step - loss: 0.8494 - accuracy: 0.7546 - val_loss: 0.9017 - val_accuracy: 0.7386\n",
            "Epoch 4/10\n",
            "423/423 [==============================] - 9s 20ms/step - loss: 0.8281 - accuracy: 0.7593 - val_loss: 0.7440 - val_accuracy: 0.7802\n",
            "Epoch 5/10\n",
            "423/423 [==============================] - 11s 27ms/step - loss: 0.8185 - accuracy: 0.7630 - val_loss: 1.3036 - val_accuracy: 0.6490\n",
            "Epoch 6/10\n",
            "423/423 [==============================] - 12s 29ms/step - loss: 0.8107 - accuracy: 0.7652 - val_loss: 1.0588 - val_accuracy: 0.7030\n",
            "Epoch 7/10\n",
            "423/423 [==============================] - 11s 26ms/step - loss: 0.8040 - accuracy: 0.7675 - val_loss: 0.7702 - val_accuracy: 0.7716\n",
            "Epoch 8/10\n",
            "423/423 [==============================] - 7s 17ms/step - loss: 0.7875 - accuracy: 0.7720 - val_loss: 1.7719 - val_accuracy: 0.5548\n",
            "Epoch 9/10\n",
            "423/423 [==============================] - 7s 17ms/step - loss: 0.7708 - accuracy: 0.7774 - val_loss: 0.7702 - val_accuracy: 0.7776\n",
            "Epoch 10/10\n",
            "423/423 [==============================] - 7s 17ms/step - loss: 0.7609 - accuracy: 0.7795 - val_loss: 1.8729 - val_accuracy: 0.5348\n",
            "463/463 - 1s - loss: 1.9842 - accuracy: 0.5076\n",
            "--------------------------------------------------------------------------------\n",
            "\n",
            "\t --> accuracy on test data : 50.764030% and loss : 1.9842159 <--\n",
            "\n",
            "--------------------------------------------------------------------------------\n",
            "Epoch 1/10\n",
            "423/423 [==============================] - 10s 23ms/step - loss: 0.7740 - accuracy: 0.7759 - val_loss: 1.3407 - val_accuracy: 0.5997\n",
            "Epoch 2/10\n",
            "423/423 [==============================] - 9s 22ms/step - loss: 0.7651 - accuracy: 0.7776 - val_loss: 2.8858 - val_accuracy: 0.3500\n",
            "Epoch 3/10\n",
            "423/423 [==============================] - 6s 15ms/step - loss: 0.7532 - accuracy: 0.7829 - val_loss: 2.1191 - val_accuracy: 0.4109\n",
            "Epoch 4/10\n",
            "423/423 [==============================] - 6s 15ms/step - loss: 0.7381 - accuracy: 0.7866 - val_loss: 0.9845 - val_accuracy: 0.7186\n",
            "Epoch 5/10\n",
            "423/423 [==============================] - 6s 15ms/step - loss: 0.7298 - accuracy: 0.7870 - val_loss: 0.5563 - val_accuracy: 0.8425\n",
            "Epoch 6/10\n",
            "423/423 [==============================] - 6s 15ms/step - loss: 0.7252 - accuracy: 0.7919 - val_loss: 1.4803 - val_accuracy: 0.6067\n",
            "Epoch 7/10\n",
            "423/423 [==============================] - 6s 15ms/step - loss: 0.7226 - accuracy: 0.7907 - val_loss: 1.1734 - val_accuracy: 0.6873\n",
            "Epoch 8/10\n",
            "423/423 [==============================] - 7s 16ms/step - loss: 0.7057 - accuracy: 0.7964 - val_loss: 1.0185 - val_accuracy: 0.7140\n",
            "Epoch 9/10\n",
            "423/423 [==============================] - 7s 16ms/step - loss: 0.7015 - accuracy: 0.7973 - val_loss: 0.8519 - val_accuracy: 0.7636\n",
            "Epoch 10/10\n",
            "423/423 [==============================] - 7s 15ms/step - loss: 0.6935 - accuracy: 0.7975 - val_loss: 0.6283 - val_accuracy: 0.8165\n",
            "463/463 - 1s - loss: 0.9294 - accuracy: 0.7300\n",
            "--------------------------------------------------------------------------------\n",
            "\n",
            "\t --> accuracy on test data : 73.002028% and loss : 0.9294078 <--\n",
            "\n",
            "--------------------------------------------------------------------------------\n",
            "Epoch 1/10\n",
            "423/423 [==============================] - 7s 15ms/step - loss: 0.7007 - accuracy: 0.7959 - val_loss: 1.7606 - val_accuracy: 0.5511\n",
            "Epoch 2/10\n",
            "423/423 [==============================] - 6s 15ms/step - loss: 0.6887 - accuracy: 0.7970 - val_loss: 1.0757 - val_accuracy: 0.7006\n",
            "Epoch 3/10\n",
            "423/423 [==============================] - 6s 15ms/step - loss: 0.6796 - accuracy: 0.8007 - val_loss: 0.5317 - val_accuracy: 0.8488\n",
            "Epoch 4/10\n",
            "423/423 [==============================] - 6s 15ms/step - loss: 0.6701 - accuracy: 0.8052 - val_loss: 1.3844 - val_accuracy: 0.6640\n",
            "Epoch 5/10\n",
            "423/423 [==============================] - 6s 15ms/step - loss: 0.6685 - accuracy: 0.8063 - val_loss: 0.9458 - val_accuracy: 0.7386\n",
            "Epoch 6/10\n",
            "423/423 [==============================] - 7s 15ms/step - loss: 0.6671 - accuracy: 0.8045 - val_loss: 0.9755 - val_accuracy: 0.7343\n",
            "Epoch 7/10\n",
            "423/423 [==============================] - 7s 15ms/step - loss: 0.6500 - accuracy: 0.8094 - val_loss: 1.4980 - val_accuracy: 0.5778\n",
            "Epoch 8/10\n",
            "423/423 [==============================] - 6s 15ms/step - loss: 0.6413 - accuracy: 0.8122 - val_loss: 3.3628 - val_accuracy: 0.3313\n",
            "Epoch 9/10\n",
            "423/423 [==============================] - 6s 15ms/step - loss: 0.6431 - accuracy: 0.8121 - val_loss: 0.7332 - val_accuracy: 0.7899\n",
            "Epoch 10/10\n",
            "423/423 [==============================] - 6s 15ms/step - loss: 0.6348 - accuracy: 0.8162 - val_loss: 0.5555 - val_accuracy: 0.8338\n",
            "463/463 - 1s - loss: 0.9104 - accuracy: 0.7357\n",
            "--------------------------------------------------------------------------------\n",
            "\n",
            "\t --> accuracy on test data : 73.569977% and loss : 0.9104216 <--\n",
            "\n",
            "--------------------------------------------------------------------------------\n",
            "Epoch 1/10\n",
            "423/423 [==============================] - 6s 15ms/step - loss: 0.6512 - accuracy: 0.8079 - val_loss: 0.4626 - val_accuracy: 0.8715\n",
            "Epoch 2/10\n",
            "423/423 [==============================] - 6s 15ms/step - loss: 0.6389 - accuracy: 0.8128 - val_loss: 1.0660 - val_accuracy: 0.7020\n",
            "Epoch 3/10\n",
            "423/423 [==============================] - 6s 15ms/step - loss: 0.6289 - accuracy: 0.8173 - val_loss: 0.7574 - val_accuracy: 0.7826\n",
            "Epoch 4/10\n",
            "423/423 [==============================] - 6s 15ms/step - loss: 0.6264 - accuracy: 0.8179 - val_loss: 0.7949 - val_accuracy: 0.7855\n",
            "Epoch 5/10\n",
            "423/423 [==============================] - 6s 15ms/step - loss: 0.6128 - accuracy: 0.8213 - val_loss: 1.3396 - val_accuracy: 0.6247\n",
            "Epoch 6/10\n",
            "423/423 [==============================] - 6s 15ms/step - loss: 0.6234 - accuracy: 0.8192 - val_loss: 1.0784 - val_accuracy: 0.6750\n",
            "Epoch 7/10\n",
            "423/423 [==============================] - 6s 15ms/step - loss: 0.6063 - accuracy: 0.8238 - val_loss: 1.1348 - val_accuracy: 0.7043\n",
            "Epoch 8/10\n",
            "423/423 [==============================] - 6s 15ms/step - loss: 0.6084 - accuracy: 0.8220 - val_loss: 1.5085 - val_accuracy: 0.6101\n",
            "Epoch 9/10\n",
            "423/423 [==============================] - 6s 15ms/step - loss: 0.5973 - accuracy: 0.8272 - val_loss: 0.9124 - val_accuracy: 0.7572\n",
            "Epoch 10/10\n",
            "423/423 [==============================] - 6s 15ms/step - loss: 0.5999 - accuracy: 0.8275 - val_loss: 1.1372 - val_accuracy: 0.6743\n",
            "463/463 - 1s - loss: 1.5456 - accuracy: 0.5984\n",
            "--------------------------------------------------------------------------------\n",
            "\n",
            "\t --> accuracy on test data : 59.837729% and loss : 1.5455936 <--\n",
            "\n",
            "--------------------------------------------------------------------------------\n",
            "Epoch 1/10\n",
            "423/423 [==============================] - 6s 15ms/step - loss: 0.6068 - accuracy: 0.8205 - val_loss: 0.7943 - val_accuracy: 0.7746\n",
            "Epoch 2/10\n",
            "423/423 [==============================] - 6s 15ms/step - loss: 0.5955 - accuracy: 0.8282 - val_loss: 1.6396 - val_accuracy: 0.5198\n",
            "Epoch 3/10\n",
            "423/423 [==============================] - 6s 15ms/step - loss: 0.5995 - accuracy: 0.8257 - val_loss: 0.4544 - val_accuracy: 0.8668\n",
            "Epoch 4/10\n",
            "423/423 [==============================] - 6s 15ms/step - loss: 0.5912 - accuracy: 0.8272 - val_loss: 1.1940 - val_accuracy: 0.6753\n",
            "Epoch 5/10\n",
            "423/423 [==============================] - 6s 15ms/step - loss: 0.5825 - accuracy: 0.8292 - val_loss: 0.5259 - val_accuracy: 0.8571\n",
            "Epoch 6/10\n",
            "423/423 [==============================] - 6s 15ms/step - loss: 0.5815 - accuracy: 0.8309 - val_loss: 0.7676 - val_accuracy: 0.7809\n",
            "Epoch 7/10\n",
            "423/423 [==============================] - 6s 15ms/step - loss: 0.5735 - accuracy: 0.8313 - val_loss: 1.0014 - val_accuracy: 0.7140\n",
            "Epoch 8/10\n",
            "423/423 [==============================] - 6s 15ms/step - loss: 0.5701 - accuracy: 0.8327 - val_loss: 1.5442 - val_accuracy: 0.5961\n",
            "Epoch 9/10\n",
            "423/423 [==============================] - 6s 15ms/step - loss: 0.5748 - accuracy: 0.8326 - val_loss: 1.7590 - val_accuracy: 0.5421\n",
            "Epoch 10/10\n",
            "423/423 [==============================] - 6s 15ms/step - loss: 0.5675 - accuracy: 0.8343 - val_loss: 0.5495 - val_accuracy: 0.8452\n",
            "463/463 - 1s - loss: 0.9928 - accuracy: 0.7278\n",
            "--------------------------------------------------------------------------------\n",
            "\n",
            "\t --> accuracy on test data : 72.778904% and loss : 0.9927968 <--\n",
            "\n",
            "--------------------------------------------------------------------------------\n",
            "Epoch 1/10\n",
            "423/423 [==============================] - 6s 15ms/step - loss: 0.5856 - accuracy: 0.8270 - val_loss: 0.7141 - val_accuracy: 0.7975\n",
            "Epoch 2/10\n",
            "423/423 [==============================] - 6s 15ms/step - loss: 0.5681 - accuracy: 0.8315 - val_loss: 0.7476 - val_accuracy: 0.7982\n",
            "Epoch 3/10\n",
            "423/423 [==============================] - 6s 15ms/step - loss: 0.5624 - accuracy: 0.8361 - val_loss: 0.8129 - val_accuracy: 0.7842\n",
            "Epoch 4/10\n",
            "423/423 [==============================] - 6s 15ms/step - loss: 0.5562 - accuracy: 0.8380 - val_loss: 0.8097 - val_accuracy: 0.7736\n",
            "Epoch 5/10\n",
            "423/423 [==============================] - 6s 15ms/step - loss: 0.5585 - accuracy: 0.8350 - val_loss: 1.8499 - val_accuracy: 0.5411\n",
            "Epoch 6/10\n",
            "423/423 [==============================] - 6s 15ms/step - loss: 0.5533 - accuracy: 0.8381 - val_loss: 1.8002 - val_accuracy: 0.5598\n",
            "Epoch 7/10\n",
            "423/423 [==============================] - 6s 15ms/step - loss: 0.5553 - accuracy: 0.8382 - val_loss: 1.5631 - val_accuracy: 0.5488\n",
            "Epoch 8/10\n",
            "423/423 [==============================] - 6s 15ms/step - loss: 0.5575 - accuracy: 0.8349 - val_loss: 0.5110 - val_accuracy: 0.8571\n",
            "Epoch 9/10\n",
            "423/423 [==============================] - 6s 15ms/step - loss: 0.5417 - accuracy: 0.8413 - val_loss: 0.4641 - val_accuracy: 0.8711\n",
            "Epoch 10/10\n",
            "423/423 [==============================] - 6s 15ms/step - loss: 0.5466 - accuracy: 0.8386 - val_loss: 1.0859 - val_accuracy: 0.7160\n",
            "463/463 - 1s - loss: 1.6357 - accuracy: 0.5994\n",
            "--------------------------------------------------------------------------------\n",
            "\n",
            "\t --> accuracy on test data : 59.939146% and loss : 1.6357282 <--\n",
            "\n",
            "--------------------------------------------------------------------------------\n",
            "Epoch 1/10\n",
            "423/423 [==============================] - 6s 15ms/step - loss: 0.5550 - accuracy: 0.8374 - val_loss: 0.3163 - val_accuracy: 0.9154\n",
            "Epoch 2/10\n",
            "423/423 [==============================] - 6s 15ms/step - loss: 0.5469 - accuracy: 0.8396 - val_loss: 1.3196 - val_accuracy: 0.6476\n",
            "Epoch 3/10\n",
            "423/423 [==============================] - 6s 15ms/step - loss: 0.5429 - accuracy: 0.8404 - val_loss: 0.6379 - val_accuracy: 0.8231\n",
            "Epoch 4/10\n",
            "423/423 [==============================] - 6s 15ms/step - loss: 0.5373 - accuracy: 0.8428 - val_loss: 0.3309 - val_accuracy: 0.9104\n",
            "Epoch 5/10\n",
            "423/423 [==============================] - 6s 15ms/step - loss: 0.5386 - accuracy: 0.8428 - val_loss: 0.4326 - val_accuracy: 0.8807\n",
            "Epoch 6/10\n",
            "423/423 [==============================] - 6s 15ms/step - loss: 0.5314 - accuracy: 0.8456 - val_loss: 0.5715 - val_accuracy: 0.8411\n",
            "Epoch 7/10\n",
            "423/423 [==============================] - 6s 15ms/step - loss: 0.5318 - accuracy: 0.8440 - val_loss: 0.7571 - val_accuracy: 0.7935\n",
            "Epoch 8/10\n",
            "423/423 [==============================] - 6s 15ms/step - loss: 0.5302 - accuracy: 0.8440 - val_loss: 0.3569 - val_accuracy: 0.9004\n",
            "Epoch 9/10\n",
            "423/423 [==============================] - 6s 15ms/step - loss: 0.5265 - accuracy: 0.8462 - val_loss: 0.6494 - val_accuracy: 0.8314\n",
            "Epoch 10/10\n",
            "423/423 [==============================] - 6s 15ms/step - loss: 0.5210 - accuracy: 0.8474 - val_loss: 1.0818 - val_accuracy: 0.7115\n",
            "463/463 - 1s - loss: 1.6897 - accuracy: 0.5989\n",
            "--------------------------------------------------------------------------------\n",
            "\n",
            "\t --> accuracy on test data : 59.885055% and loss : 1.6896931 <--\n",
            "\n",
            "--------------------------------------------------------------------------------\n",
            "Epoch 1/10\n",
            "423/423 [==============================] - 7s 17ms/step - loss: 0.5312 - accuracy: 0.8449 - val_loss: 0.3490 - val_accuracy: 0.9007\n",
            "Epoch 2/10\n",
            "423/423 [==============================] - 6s 15ms/step - loss: 0.5232 - accuracy: 0.8457 - val_loss: 0.3243 - val_accuracy: 0.9074\n",
            "Epoch 3/10\n",
            "423/423 [==============================] - 6s 15ms/step - loss: 0.5232 - accuracy: 0.8473 - val_loss: 0.3352 - val_accuracy: 0.9034\n",
            "Epoch 4/10\n",
            "423/423 [==============================] - 7s 15ms/step - loss: 0.5249 - accuracy: 0.8446 - val_loss: 1.0458 - val_accuracy: 0.7262\n",
            "Epoch 5/10\n",
            "423/423 [==============================] - 7s 16ms/step - loss: 0.5247 - accuracy: 0.8451 - val_loss: 1.1765 - val_accuracy: 0.6799\n",
            "Epoch 6/10\n",
            "423/423 [==============================] - 6s 15ms/step - loss: 0.5167 - accuracy: 0.8472 - val_loss: 0.7778 - val_accuracy: 0.7828\n",
            "Epoch 7/10\n",
            "423/423 [==============================] - 6s 15ms/step - loss: 0.5143 - accuracy: 0.8497 - val_loss: 0.7903 - val_accuracy: 0.7835\n",
            "Epoch 8/10\n",
            "423/423 [==============================] - 6s 15ms/step - loss: 0.5064 - accuracy: 0.8511 - val_loss: 0.8321 - val_accuracy: 0.7798\n",
            "Epoch 9/10\n",
            "423/423 [==============================] - 6s 15ms/step - loss: 0.5037 - accuracy: 0.8527 - val_loss: 0.9640 - val_accuracy: 0.7352\n",
            "Epoch 10/10\n",
            "423/423 [==============================] - 6s 15ms/step - loss: 0.5085 - accuracy: 0.8484 - val_loss: 0.5275 - val_accuracy: 0.8454\n",
            "463/463 - 1s - loss: 1.1675 - accuracy: 0.6803\n",
            "--------------------------------------------------------------------------------\n",
            "\n",
            "\t --> accuracy on test data : 68.032455% and loss : 1.1675141 <--\n",
            "\n",
            "--------------------------------------------------------------------------------\n",
            "Epoch 1/10\n",
            "423/423 [==============================] - 7s 16ms/step - loss: 0.5110 - accuracy: 0.8500 - val_loss: 0.7448 - val_accuracy: 0.7978\n",
            "Epoch 2/10\n",
            "423/423 [==============================] - 6s 15ms/step - loss: 0.5107 - accuracy: 0.8504 - val_loss: 1.0205 - val_accuracy: 0.7132\n",
            "Epoch 3/10\n",
            "423/423 [==============================] - 6s 15ms/step - loss: 0.5063 - accuracy: 0.8520 - val_loss: 0.9364 - val_accuracy: 0.7505\n",
            "Epoch 4/10\n",
            "423/423 [==============================] - 6s 15ms/step - loss: 0.5026 - accuracy: 0.8518 - val_loss: 0.4152 - val_accuracy: 0.8787\n",
            "Epoch 5/10\n",
            "423/423 [==============================] - 6s 15ms/step - loss: 0.4971 - accuracy: 0.8531 - val_loss: 0.6730 - val_accuracy: 0.8041\n",
            "Epoch 6/10\n",
            "423/423 [==============================] - 6s 15ms/step - loss: 0.4909 - accuracy: 0.8564 - val_loss: 0.3315 - val_accuracy: 0.9014\n",
            "Epoch 7/10\n",
            "423/423 [==============================] - 6s 15ms/step - loss: 0.4874 - accuracy: 0.8563 - val_loss: 0.3451 - val_accuracy: 0.9034\n",
            "Epoch 8/10\n",
            "423/423 [==============================] - 6s 15ms/step - loss: 0.4927 - accuracy: 0.8542 - val_loss: 0.4820 - val_accuracy: 0.8601\n",
            "Epoch 9/10\n",
            "423/423 [==============================] - 6s 15ms/step - loss: 0.4912 - accuracy: 0.8544 - val_loss: 0.3470 - val_accuracy: 0.9017\n",
            "Epoch 10/10\n",
            "423/423 [==============================] - 6s 15ms/step - loss: 0.4874 - accuracy: 0.8589 - val_loss: 0.3764 - val_accuracy: 0.8867\n",
            "463/463 - 1s - loss: 0.9769 - accuracy: 0.7346\n",
            "--------------------------------------------------------------------------------\n",
            "\n",
            "\t --> accuracy on test data : 73.461801% and loss : 0.9769001 <--\n",
            "\n",
            "--------------------------------------------------------------------------------\n",
            "done\n",
            "CPU times: user 9min 36s, sys: 3min 8s, total: 12min 45s\n",
            "Wall time: 12min 30s\n"
          ],
          "name": "stdout"
        }
      ]
    },
    {
      "cell_type": "code",
      "metadata": {
        "colab": {
          "base_uri": "https://localhost:8080/"
        },
        "id": "_Rwg3kBvU2Pq",
        "outputId": "0adbd6ee-c47d-45bf-de1e-2487c69d0110"
      },
      "source": [
        "print('saving model...')\n",
        "model.save('content/Jan_5_DL_model1_v3_2ndTraining')\n",
        "print('saved')"
      ],
      "execution_count": 37,
      "outputs": [
        {
          "output_type": "stream",
          "text": [
            "saving model...\n",
            "INFO:tensorflow:Assets written to: content/Jan_5_DL_model1_v3_2ndTraining/assets\n",
            "saved\n"
          ],
          "name": "stdout"
        }
      ]
    },
    {
      "cell_type": "code",
      "metadata": {
        "id": "PRdhjeYnW-20",
        "colab": {
          "base_uri": "https://localhost:8080/"
        },
        "outputId": "8ca10c29-ed1a-4769-fc9f-3c657032e972"
      },
      "source": [
        "!zip -r /content/Jan_5_DL_model1_v3_2ndTraining.zip /content/content/Jan_5_DL_model1_v3_2ndTraining"
      ],
      "execution_count": 38,
      "outputs": [
        {
          "output_type": "stream",
          "text": [
            "  adding: content/content/Jan_5_DL_model1_v3_2ndTraining/ (stored 0%)\n",
            "  adding: content/content/Jan_5_DL_model1_v3_2ndTraining/saved_model.pb (deflated 89%)\n",
            "  adding: content/content/Jan_5_DL_model1_v3_2ndTraining/assets/ (stored 0%)\n",
            "  adding: content/content/Jan_5_DL_model1_v3_2ndTraining/variables/ (stored 0%)\n",
            "  adding: content/content/Jan_5_DL_model1_v3_2ndTraining/variables/variables.index (deflated 68%)\n",
            "  adding: content/content/Jan_5_DL_model1_v3_2ndTraining/variables/variables.data-00000-of-00001 (deflated 13%)\n"
          ],
          "name": "stdout"
        }
      ]
    },
    {
      "cell_type": "code",
      "metadata": {
        "id": "_NAeXXgbXGy6",
        "colab": {
          "base_uri": "https://localhost:8080/"
        },
        "outputId": "e81da451-daa2-4da8-803c-2e69f7bbdbd3"
      },
      "source": [
        "!cp '/content/Jan_5_DL_model1_v3_2ndTraining.zip' '/content/drive/My Drive/datasets/LanguageDataset/final_changes/DL_models'\n",
        "!echo done"
      ],
      "execution_count": 39,
      "outputs": [
        {
          "output_type": "stream",
          "text": [
            "done\n"
          ],
          "name": "stdout"
        }
      ]
    },
    {
      "cell_type": "code",
      "metadata": {
        "id": "U7GMsRBHd3tm",
        "colab": {
          "base_uri": "https://localhost:8080/"
        },
        "outputId": "8ac32b38-148b-4020-b1c6-74b61ae1587a"
      },
      "source": [
        "acc = []\n",
        "for i in range(10):\n",
        "  acc.extend(histories[i].history['accuracy'])\n",
        "print(len(acc))"
      ],
      "execution_count": 40,
      "outputs": [
        {
          "output_type": "stream",
          "text": [
            "100\n"
          ],
          "name": "stdout"
        }
      ]
    },
    {
      "cell_type": "code",
      "metadata": {
        "colab": {
          "base_uri": "https://localhost:8080/"
        },
        "id": "MM2TWHoEhbgy",
        "outputId": "a5071d87-6756-4238-b65d-5bb71db26e95"
      },
      "source": [
        "val_acc = []\n",
        "for i in range(10):\n",
        "  val_acc.extend(histories[i].history['val_accuracy'])\n",
        "print(len(val_acc))"
      ],
      "execution_count": 41,
      "outputs": [
        {
          "output_type": "stream",
          "text": [
            "100\n"
          ],
          "name": "stdout"
        }
      ]
    },
    {
      "cell_type": "code",
      "metadata": {
        "colab": {
          "base_uri": "https://localhost:8080/",
          "height": 325
        },
        "id": "4jNVLxY-hhkq",
        "outputId": "526ab78d-909f-4382-bdf3-4753999f22bb"
      },
      "source": [
        "plt.plot([i for i in range(0,len(acc))] ,acc,label='Training Accuracy')\n",
        "\n",
        "plt.xlabel('epochs')\n",
        "plt.ylabel('accuracy')\n",
        "plt.suptitle('ACCURACY')\n",
        "plt.legend()"
      ],
      "execution_count": 43,
      "outputs": [
        {
          "output_type": "execute_result",
          "data": {
            "text/plain": [
              "<matplotlib.legend.Legend at 0x7f2b9c1ac208>"
            ]
          },
          "metadata": {
            "tags": []
          },
          "execution_count": 43
        },
        {
          "output_type": "display_data",
          "data": {
            "image/png": "[encoded data removed]",
            "text/plain": [
              "<Figure size 432x288 with 1 Axes>"
            ]
          },
          "metadata": {
            "tags": [],
            "needs_background": "light"
          }
        }
      ]
    },
    {
      "cell_type": "code",
      "metadata": {
        "colab": {
          "base_uri": "https://localhost:8080/",
          "height": 325
        },
        "id": "d44U7p4thqRo",
        "outputId": "a58fe6c2-7dff-4b3b-cfc6-45866da1fce3"
      },
      "source": [
        "plt.plot([i for i in range(1,len(scores)+1)] , scores,label='Testing Accuracy')\n",
        "plt.xlabel('epochs')\n",
        "plt.ylabel('accuracy')\n",
        "plt.suptitle('TESTING ACCURACY')\n",
        "plt.legend()"
      ],
      "execution_count": 44,
      "outputs": [
        {
          "output_type": "execute_result",
          "data": {
            "text/plain": [
              "<matplotlib.legend.Legend at 0x7f2b9c5c09e8>"
            ]
          },
          "metadata": {
            "tags": []
          },
          "execution_count": 44
        },
        {
          "output_type": "display_data",
          "data": {
            "image/png": "[encoded data removed]",
            "text/plain": [
              "<Figure size 432x288 with 1 Axes>"
            ]
          },
          "metadata": {
            "tags": [],
            "needs_background": "light"
          }
        }
      ]
    },
    {
      "cell_type": "code",
      "metadata": {
        "colab": {
          "base_uri": "https://localhost:8080/"
        },
        "id": "uJZaYoaHh5NY",
        "outputId": "055d2926-18f1-45b3-f1cf-fbd5159caa4c"
      },
      "source": [
        "acc[0] , acc[-1]"
      ],
      "execution_count": 46,
      "outputs": [
        {
          "output_type": "execute_result",
          "data": {
            "text/plain": [
              "(0.6605609655380249, 0.8588714003562927)"
            ]
          },
          "metadata": {
            "tags": []
          },
          "execution_count": 46
        }
      ]
    },
    {
      "cell_type": "code",
      "metadata": {
        "id": "ybrcoJ_JiW9o"
      },
      "source": [
        "from sklearn.metrics import plot_confusion_matrix\n",
        "from sklearn.metrics import confusion_matrix"
      ],
      "execution_count": 47,
      "outputs": []
    },
    {
      "cell_type": "code",
      "metadata": {
        "colab": {
          "base_uri": "https://localhost:8080/"
        },
        "id": "YrUMRDJmij8R",
        "outputId": "d980c7e2-0a1a-4d05-d9d8-2caeef50f2ba"
      },
      "source": [
        "%%time\n",
        "predictions_1 = model.predict(X_test)\n",
        "print('done predicting on test data')\n",
        "print(type(predictions_1) , predictions_1.shape)\n"
      ],
      "execution_count": 50,
      "outputs": [
        {
          "output_type": "stream",
          "text": [
            "done predicting on test data\n",
            "<class 'numpy.ndarray'> (14790, 15)\n",
            "CPU times: user 1.02 s, sys: 77.1 ms, total: 1.1 s\n",
            "Wall time: 914 ms\n"
          ],
          "name": "stdout"
        }
      ]
    },
    {
      "cell_type": "code",
      "metadata": {
        "colab": {
          "base_uri": "https://localhost:8080/"
        },
        "id": "vYq_7ZCLiptJ",
        "outputId": "e96f558e-c632-42a0-d6c3-db1e5c3403da"
      },
      "source": [
        "y_test.shape"
      ],
      "execution_count": 51,
      "outputs": [
        {
          "output_type": "execute_result",
          "data": {
            "text/plain": [
              "(14790, 15)"
            ]
          },
          "metadata": {
            "tags": []
          },
          "execution_count": 51
        }
      ]
    },
    {
      "cell_type": "code",
      "metadata": {
        "colab": {
          "base_uri": "https://localhost:8080/"
        },
        "id": "SeJJuNKZiyLD",
        "outputId": "9c3b34d5-6ba0-4d49-f809-150465500b1f"
      },
      "source": [
        "actual = np.argmax(y_test,axis=1)\n",
        "actual.shape"
      ],
      "execution_count": 53,
      "outputs": [
        {
          "output_type": "execute_result",
          "data": {
            "text/plain": [
              "(14790,)"
            ]
          },
          "metadata": {
            "tags": []
          },
          "execution_count": 53
        }
      ]
    },
    {
      "cell_type": "code",
      "metadata": {
        "colab": {
          "base_uri": "https://localhost:8080/"
        },
        "id": "M4LC3klui3lB",
        "outputId": "ab808d23-a261-48a8-ca6d-aed026e4365a"
      },
      "source": [
        "first_preds = np.argmax(predictions_1,axis=1)\n",
        "first_preds.shape"
      ],
      "execution_count": 54,
      "outputs": [
        {
          "output_type": "execute_result",
          "data": {
            "text/plain": [
              "(14790,)"
            ]
          },
          "metadata": {
            "tags": []
          },
          "execution_count": 54
        }
      ]
    },
    {
      "cell_type": "code",
      "metadata": {
        "colab": {
          "base_uri": "https://localhost:8080/"
        },
        "id": "ZprFlZpwi7_y",
        "outputId": "3a3315ec-1f88-4f25-accb-1b00b903acac"
      },
      "source": [
        "print('\\n','-'*50,'\\n')\n",
        "cnf_matrix1 = confusion_matrix(actual, first_preds)\n",
        "print(cnf_matrix1)"
      ],
      "execution_count": 56,
      "outputs": [
        {
          "output_type": "stream",
          "text": [
            "\n",
            " -------------------------------------------------- \n",
            "\n",
            "[[839  10  10   8   4  19   5   2  37  32  19  22   2  10   3]\n",
            " [ 55 735  12 103   4  23   4   7  28  17   7   5   3   6   4]\n",
            " [ 48  17 631  37   7 108  38   4  18  32   8  13   6  41   3]\n",
            " [ 46  91  13 662   5  48   8   8  17  11  17   9   1   4   4]\n",
            " [ 59   6   6  28 771  35   9   1  21  14  12   8   9  12  14]\n",
            " [ 64   7  50  24   8 684  10   7  15  28   6  12  21  15   0]\n",
            " [ 65   6  22   5   2  21 734   0  27  54  11  12   2  18  13]\n",
            " [ 53  17  10  24   3  24   5 781   3  11   1   8   0   4  21]\n",
            " [111  12   3  16   6  37  15   2 673  52  23  19   6  15   4]\n",
            " [ 81   6   8  10   5  34  39   2  38 663  11  15   4  33   3]\n",
            " [ 98  12   9  13   9  34  12   7  54  47 657  40  12  21   1]\n",
            " [ 66   8   7   9   8  35  16   3  35  44  34 634  10  17   4]\n",
            " [ 31   3  11  12  11  62   7   0   8  15  18  16 788   6   5]\n",
            " [ 52   3  25   7   3  26   1   4  21  60   8  22   2 772   1]\n",
            " [ 28   2   7   9   3  14   6  54   2   6   4   3   4   2 841]]\n"
          ],
          "name": "stdout"
        }
      ]
    },
    {
      "cell_type": "code",
      "metadata": {
        "id": "SsXJEgZai-gf"
      },
      "source": [
        "import seaborn as sns\n",
        "def make_confusion_matrix(cf,\n",
        "                          group_names=None,\n",
        "                          categories='auto',\n",
        "                          count=True,\n",
        "                          percent=True,\n",
        "                          cbar=True,\n",
        "                          xyticks=True,\n",
        "                          xyplotlabels=True,\n",
        "                          sum_stats=True,\n",
        "                          figsize=None,\n",
        "                          cmap='Blues',\n",
        "                          title=None):\n",
        "    '''\n",
        "    This function will make a pretty plot of an sklearn Confusion Matrix cm using a Seaborn heatmap visualization.\n",
        "    Arguments\n",
        "    ---------\n",
        "    cf:            confusion matrix to be passed in\n",
        "    group_names:   List of strings that represent the labels row by row to be shown in each square.\n",
        "    categories:    List of strings containing the categories to be displayed on the x,y axis. Default is 'auto'\n",
        "    count:         If True, show the raw number in the confusion matrix. Default is True.\n",
        "    normalize:     If True, show the proportions for each category. Default is True.\n",
        "    cbar:          If True, show the color bar. The cbar values are based off the values in the confusion matrix.\n",
        "                   Default is True.\n",
        "    xyticks:       If True, show x and y ticks. Default is True.\n",
        "    xyplotlabels:  If True, show 'True Label' and 'Predicted Label' on the figure. Default is True.\n",
        "    sum_stats:     If True, display summary statistics below the figure. Default is True.\n",
        "    figsize:       Tuple representing the figure size. Default will be the matplotlib rcParams value.\n",
        "    cmap:          Colormap of the values displayed from matplotlib.pyplot.cm. Default is 'Blues'\n",
        "                   See http://matplotlib.org/examples/color/colormaps_reference.html\n",
        "                   \n",
        "    title:         Title for the heatmap. Default is None.\n",
        "    '''\n",
        "\n",
        "\n",
        "    # CODE TO GENERATE TEXT INSIDE EACH SQUARE\n",
        "    blanks = ['' for i in range(cf.size)]\n",
        "\n",
        "    if group_names and len(group_names)==cf.size:\n",
        "        group_labels = [\"{}\\n\".format(value) for value in group_names]\n",
        "    else:\n",
        "        group_labels = blanks\n",
        "\n",
        "    if count:\n",
        "        group_counts = [\"{0:0.0f}\\n\".format(value) for value in cf.flatten()]\n",
        "    else:\n",
        "        group_counts = blanks\n",
        "\n",
        "    if percent:\n",
        "        group_percentages = [\"{0:.2%}\".format(value) for value in cf.flatten()/np.sum(cf)]\n",
        "    else:\n",
        "        group_percentages = blanks\n",
        "\n",
        "    box_labels = [f\"{v1}{v2}{v3}\".strip() for v1, v2, v3 in zip(group_labels,group_counts,group_percentages)]\n",
        "    box_labels = np.asarray(box_labels).reshape(cf.shape[0],cf.shape[1])\n",
        "\n",
        "\n",
        "    # CODE TO GENERATE SUMMARY STATISTICS & TEXT FOR SUMMARY STATS\n",
        "    if sum_stats:\n",
        "        #Accuracy is sum of diagonal divided by total observations\n",
        "        accuracy  = np.trace(cf) / float(np.sum(cf))\n",
        "\n",
        "        #if it is a binary confusion matrix, show some more stats\n",
        "        if len(cf)==2:\n",
        "            #Metrics for Binary Confusion Matrices\n",
        "            precision = cf[1,1] / sum(cf[:,1])\n",
        "            recall    = cf[1,1] / sum(cf[1,:])\n",
        "            f1_score  = 2*precision*recall / (precision + recall)\n",
        "            stats_text = \"\\n\\nAccuracy={:0.3f}\\nPrecision={:0.3f}\\nRecall={:0.3f}\\nF1 Score={:0.3f}\".format(\n",
        "                accuracy,precision,recall,f1_score)\n",
        "        else:\n",
        "            stats_text = \"\\n\\nAccuracy={:0.3f}\".format(accuracy)\n",
        "    else:\n",
        "        stats_text = \"\"\n",
        "\n",
        "\n",
        "    # SET FIGURE PARAMETERS ACCORDING TO OTHER ARGUMENTS\n",
        "    if figsize==None:\n",
        "        #Get default figure size if not set\n",
        "        figsize = plt.rcParams.get('figure.figsize')\n",
        "\n",
        "    if xyticks==False:\n",
        "        #Do not show categories if xyticks is False\n",
        "        categories=False\n",
        "\n",
        "\n",
        "    # MAKE THE HEATMAP VISUALIZATION\n",
        "    plt.figure(figsize=figsize)\n",
        "    sns.heatmap(cf,annot=box_labels,fmt=\"\",cmap=cmap,cbar=cbar,xticklabels=categories,yticklabels=categories)\n",
        "\n",
        "    if xyplotlabels:\n",
        "        plt.ylabel('True label')\n",
        "        plt.xlabel('Predicted label' + stats_text)\n",
        "    else:\n",
        "        plt.xlabel(stats_text)\n",
        "    \n",
        "    if title:\n",
        "        plt.title(title)"
      ],
      "execution_count": 57,
      "outputs": []
    },
    {
      "cell_type": "code",
      "metadata": {
        "colab": {
          "base_uri": "https://localhost:8080/"
        },
        "id": "zni8hSvFjGAn",
        "outputId": "b3144277-fa76-4a63-e50a-b9cec291607d"
      },
      "source": [
        "langs = [i for i in data.Language.unique()]\n",
        "langs.sort()\n",
        "langs"
      ],
      "execution_count": 58,
      "outputs": [
        {
          "output_type": "execute_result",
          "data": {
            "text/plain": [
              "['bash',\n",
              " 'c',\n",
              " 'c#',\n",
              " 'c++',\n",
              " 'haskell',\n",
              " 'java',\n",
              " 'javascript',\n",
              " 'objective-c',\n",
              " 'perl',\n",
              " 'php',\n",
              " 'python',\n",
              " 'ruby',\n",
              " 'scala',\n",
              " 'sql',\n",
              " 'swift']"
            ]
          },
          "metadata": {
            "tags": []
          },
          "execution_count": 58
        }
      ]
    },
    {
      "cell_type": "code",
      "metadata": {
        "colab": {
          "base_uri": "https://localhost:8080/",
          "height": 782
        },
        "id": "XETxyB32jDrz",
        "outputId": "6809d10a-a58b-42d4-8252-6485543e280a"
      },
      "source": [
        "# make_confusion_matrix(cnf_matrix, figsize=(12,12), cbar=False )\n",
        "make_confusion_matrix(cnf_matrix1, figsize=(12,12), cbar=False ,categories=langs)\n"
      ],
      "execution_count": 59,
      "outputs": [
        {
          "output_type": "display_data",
          "data": {
            "image/png": "[encoded data removed]",
            "text/plain": [
              "<Figure size 864x864 with 1 Axes>"
            ]
          },
          "metadata": {
            "tags": [],
            "needs_background": "light"
          }
        }
      ]
    },
    {
      "cell_type": "code",
      "metadata": {
        "id": "UlY4l5VzjSCW"
      },
      "source": [
        "from sklearn.metrics import precision_recall_fscore_support as score\n"
      ],
      "execution_count": 60,
      "outputs": []
    },
    {
      "cell_type": "code",
      "metadata": {
        "id": "rMNKfh-ukEY7"
      },
      "source": [
        "def print_metrics(predictions):\n",
        "  precision , recall , fscore , support = score( actual, predictions)\n",
        "  print('-'*80)\n",
        "  print('{:10}\\t | {:7}\\t |  {:12}|\\t{}'.format('   Language','  Precision',' Recall',' F1 Measure'))\n",
        "  print('-'*80)\n",
        "  for i in range(len(langs)):\n",
        "    \n",
        "    result = '{:10}\\t |{:13.5}\\t |{:10.5}\\t|\\t{:10.5}'.format(str('   '+langs[i]),precision[i],recall[i],fscore[i])\n",
        "    print(result,end='\\n')\n",
        "    print('-'*80)\n"
      ],
      "execution_count": 63,
      "outputs": []
    },
    {
      "cell_type": "code",
      "metadata": {
        "colab": {
          "base_uri": "https://localhost:8080/"
        },
        "id": "EelPwIWjkHha",
        "outputId": "015e713c-b439-4649-c93e-e2e0a022c317"
      },
      "source": [
        "print_metrics(first_preds)\n"
      ],
      "execution_count": 64,
      "outputs": [
        {
          "output_type": "stream",
          "text": [
            "--------------------------------------------------------------------------------\n",
            "   Language\t |   Precision\t |   Recall     |\t F1 Measure\n",
            "--------------------------------------------------------------------------------\n",
            "   bash   \t |      0.49469\t |   0.82094\t|\t   0.61737\n",
            "--------------------------------------------------------------------------------\n",
            "   c      \t |       0.7861\t |   0.72557\t|\t   0.75462\n",
            "--------------------------------------------------------------------------------\n",
            "   c#     \t |      0.76578\t |   0.62413\t|\t   0.68774\n",
            "--------------------------------------------------------------------------------\n",
            "   c++    \t |      0.68459\t |   0.70127\t|\t   0.69283\n",
            "--------------------------------------------------------------------------------\n",
            "   haskell\t |      0.90813\t |   0.76716\t|\t   0.83172\n",
            "--------------------------------------------------------------------------------\n",
            "   java   \t |      0.56811\t |   0.71924\t|\t    0.6348\n",
            "--------------------------------------------------------------------------------\n",
            "   javascript\t |      0.80748\t |   0.73992\t|\t   0.77223\n",
            "--------------------------------------------------------------------------------\n",
            "   objective-c\t |      0.88549\t |   0.80933\t|\t    0.8457\n",
            "--------------------------------------------------------------------------------\n",
            "   perl   \t |      0.67503\t |   0.67706\t|\t   0.67604\n",
            "--------------------------------------------------------------------------------\n",
            "   php    \t |       0.6105\t |   0.69643\t|\t   0.65064\n",
            "--------------------------------------------------------------------------------\n",
            "   python \t |      0.78589\t |   0.64035\t|\t   0.70569\n",
            "--------------------------------------------------------------------------------\n",
            "   ruby   \t |      0.75656\t |   0.68172\t|\t   0.71719\n",
            "--------------------------------------------------------------------------------\n",
            "   scala  \t |      0.90575\t |   0.79355\t|\t   0.84595\n",
            "--------------------------------------------------------------------------------\n",
            "   sql    \t |      0.79098\t |   0.76663\t|\t   0.77862\n",
            "--------------------------------------------------------------------------------\n",
            "   swift  \t |      0.91314\t |   0.85381\t|\t   0.88248\n",
            "--------------------------------------------------------------------------------\n"
          ],
          "name": "stdout"
        }
      ]
    },
    {
      "cell_type": "code",
      "metadata": {
        "id": "hJKqsjmOkLTB"
      },
      "source": [
        ""
      ],
      "execution_count": null,
      "outputs": []
    }
  ]
}