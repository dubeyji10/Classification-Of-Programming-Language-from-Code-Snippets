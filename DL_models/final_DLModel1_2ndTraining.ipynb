{
  "nbformat": 4,
  "nbformat_minor": 0,
  "metadata": {
    "colab": {
      "name": "final_DLModel1_2ndTraining.ipynb",
      "provenance": [],
      "collapsed_sections": [],
      "toc_visible": true
    },
    "kernelspec": {
      "name": "python3",
      "display_name": "Python 3"
    },
    "accelerator": "GPU"
  },
  "cells": [
    {
      "cell_type": "code",
      "metadata": {
        "id": "AM6n_chvOePz"
      },
      "source": [
        "#@title Version 1.2 <br> 2nd training of the model"
      ],
      "execution_count": null,
      "outputs": []
    },
    {
      "cell_type": "markdown",
      "metadata": {
        "id": "LBPQTduwOnJQ"
      },
      "source": [
        "### imports and mounting drive"
      ]
    },
    {
      "cell_type": "code",
      "metadata": {
        "colab": {
          "base_uri": "https://localhost:8080/"
        },
        "id": "0gKzyWWtOa2N",
        "outputId": "f373a6bc-28fa-4e8b-b172-e9ff1929d078"
      },
      "source": [
        "import pandas as pd\n",
        "import matplotlib.pyplot as plt\n",
        "import numpy as np\n",
        "import os\n",
        "from os import listdir\n",
        "from os.path import isfile, join\n",
        "from google.colab import drive\n",
        "drive.mount('/content/drive')"
      ],
      "execution_count": null,
      "outputs": [
        {
          "output_type": "stream",
          "text": [
            "Mounted at /content/drive\n"
          ],
          "name": "stdout"
        }
      ]
    },
    {
      "cell_type": "code",
      "metadata": {
        "colab": {
          "base_uri": "https://localhost:8080/"
        },
        "id": "VKDnJiYJOvCF",
        "outputId": "bc6ac34f-11f0-4427-8739-35b3435c9d10"
      },
      "source": [
        "!mkdir dataset\n",
        "!ls"
      ],
      "execution_count": null,
      "outputs": [
        {
          "output_type": "stream",
          "text": [
            "dataset  drive\tsample_data\n"
          ],
          "name": "stdout"
        }
      ]
    },
    {
      "cell_type": "markdown",
      "metadata": {
        "id": "GpVvlc2SO3kI"
      },
      "source": [
        "### Copy dataset"
      ]
    },
    {
      "cell_type": "code",
      "metadata": {
        "colab": {
          "base_uri": "https://localhost:8080/"
        },
        "id": "Z3NyZ-K0OxGY",
        "outputId": "7f29f443-cf5e-484a-a8d8-a933074ced98"
      },
      "source": [
        "\n",
        "!cp '/content/drive/MyDrive/datasets/LanguageDataset/final_changes/final_dataset_2.csv' /content/dataset/\n",
        "! echo copied final_dataset_2\n"
      ],
      "execution_count": null,
      "outputs": [
        {
          "output_type": "stream",
          "text": [
            "copied final_dataset_2\n"
          ],
          "name": "stdout"
        }
      ]
    },
    {
      "cell_type": "code",
      "metadata": {
        "colab": {
          "base_uri": "https://localhost:8080/",
          "height": 419
        },
        "id": "lzx8-Q4LO14n",
        "outputId": "6e41fe49-6948-489e-f1c3-73727301e9d1"
      },
      "source": [
        "data = pd.read_csv('/content/dataset/final_dataset_2.csv')\n",
        "data"
      ],
      "execution_count": null,
      "outputs": [
        {
          "output_type": "execute_result",
          "data": {
            "text/html": [
              "<div>\n",
              "<style scoped>\n",
              "    .dataframe tbody tr th:only-of-type {\n",
              "        vertical-align: middle;\n",
              "    }\n",
              "\n",
              "    .dataframe tbody tr th {\n",
              "        vertical-align: top;\n",
              "    }\n",
              "\n",
              "    .dataframe thead th {\n",
              "        text-align: right;\n",
              "    }\n",
              "</style>\n",
              "<table border=\"1\" class=\"dataframe\">\n",
              "  <thead>\n",
              "    <tr style=\"text-align: right;\">\n",
              "      <th></th>\n",
              "      <th>Language</th>\n",
              "      <th>Source</th>\n",
              "    </tr>\n",
              "  </thead>\n",
              "  <tbody>\n",
              "    <tr>\n",
              "      <th>0</th>\n",
              "      <td>bash</td>\n",
              "      <td>#!/usr/bin/bash\\nRES=1\\n\\nif [ $RES -eq 0 ]\\nt...</td>\n",
              "    </tr>\n",
              "    <tr>\n",
              "      <th>1</th>\n",
              "      <td>bash</td>\n",
              "      <td>g++ -o ex_addinst  ./ex_addinst.o -L/home/li/w...</td>\n",
              "    </tr>\n",
              "    <tr>\n",
              "      <th>2</th>\n",
              "      <td>bash</td>\n",
              "      <td>amazon\\n&lt;bookstore&gt;\\n&lt;book&gt;\\n  &lt;title lang=\"en...</td>\n",
              "    </tr>\n",
              "    <tr>\n",
              "      <th>3</th>\n",
              "      <td>bash</td>\n",
              "      <td>I/A/dataA.dat\\nI/B/dataB.dat\\nI/C/dataC.dat\\n\\...</td>\n",
              "    </tr>\n",
              "    <tr>\n",
              "      <th>4</th>\n",
              "      <td>bash</td>\n",
              "      <td>my_script pack name.tar file1 file2\\n</td>\n",
              "    </tr>\n",
              "    <tr>\n",
              "      <th>...</th>\n",
              "      <td>...</td>\n",
              "      <td>...</td>\n",
              "    </tr>\n",
              "    <tr>\n",
              "      <th>29995</th>\n",
              "      <td>swift</td>\n",
              "      <td>Class ViewController: UIViewController, UITabl...</td>\n",
              "    </tr>\n",
              "    <tr>\n",
              "      <th>29996</th>\n",
              "      <td>swift</td>\n",
              "      <td>if let type = json.type  {\\n\\n    } else {...</td>\n",
              "    </tr>\n",
              "    <tr>\n",
              "      <th>29997</th>\n",
              "      <td>swift</td>\n",
              "      <td>// Create path.\\n NSArray *paths = NSSearchP...</td>\n",
              "    </tr>\n",
              "    <tr>\n",
              "      <th>29998</th>\n",
              "      <td>swift</td>\n",
              "      <td>class AddPersonViewController: UIViewControlle...</td>\n",
              "    </tr>\n",
              "    <tr>\n",
              "      <th>29999</th>\n",
              "      <td>swift</td>\n",
              "      <td>DetailViewController\\nUIImageView\\nUITextField...</td>\n",
              "    </tr>\n",
              "  </tbody>\n",
              "</table>\n",
              "<p>30000 rows × 2 columns</p>\n",
              "</div>"
            ],
            "text/plain": [
              "      Language                                             Source\n",
              "0         bash  #!/usr/bin/bash\\nRES=1\\n\\nif [ $RES -eq 0 ]\\nt...\n",
              "1         bash  g++ -o ex_addinst  ./ex_addinst.o -L/home/li/w...\n",
              "2         bash  amazon\\n<bookstore>\\n<book>\\n  <title lang=\"en...\n",
              "3         bash  I/A/dataA.dat\\nI/B/dataB.dat\\nI/C/dataC.dat\\n\\...\n",
              "4         bash              my_script pack name.tar file1 file2\\n\n",
              "...        ...                                                ...\n",
              "29995    swift  Class ViewController: UIViewController, UITabl...\n",
              "29996    swift      if let type = json.type  {\\n\\n    } else {...\n",
              "29997    swift    // Create path.\\n NSArray *paths = NSSearchP...\n",
              "29998    swift  class AddPersonViewController: UIViewControlle...\n",
              "29999    swift  DetailViewController\\nUIImageView\\nUITextField...\n",
              "\n",
              "[30000 rows x 2 columns]"
            ]
          },
          "metadata": {
            "tags": []
          },
          "execution_count": 5
        }
      ]
    },
    {
      "cell_type": "markdown",
      "metadata": {
        "id": "neNBwNa4O7wy"
      },
      "source": [
        "#### describing dataset"
      ]
    },
    {
      "cell_type": "code",
      "metadata": {
        "colab": {
          "base_uri": "https://localhost:8080/",
          "height": 369
        },
        "id": "IQgcneENO56B",
        "outputId": "7c3ffb21-ae96-4c98-ef0e-76adf9463e3d"
      },
      "source": [
        "data.groupby('Language')['Source'].count().plot.bar(ylim=0,grid=False,color='#11100f')\n",
        "plt.xlabel('\\n languages')\n",
        "plt.ylabel('no of examples available')\n",
        "plt.title('Dataset')"
      ],
      "execution_count": null,
      "outputs": [
        {
          "output_type": "execute_result",
          "data": {
            "text/plain": [
              "Text(0.5, 1.0, 'Dataset')"
            ]
          },
          "metadata": {
            "tags": []
          },
          "execution_count": 6
        },
        {
          "output_type": "display_data",
          "data": {
            "image/png": "[encoded data removed]",
            "text/plain": [
              "<Figure size 432x288 with 1 Axes>"
            ]
          },
          "metadata": {
            "tags": [],
            "needs_background": "light"
          }
        }
      ]
    },
    {
      "cell_type": "markdown",
      "metadata": {
        "id": "aO7q4fNQPBFo"
      },
      "source": [
        "### PREPROCESSING OF DATASET USING REGULAR EXPRESSION AND NLTK"
      ]
    },
    {
      "cell_type": "code",
      "metadata": {
        "colab": {
          "base_uri": "https://localhost:8080/"
        },
        "id": "Qotfaj1tO-Jh",
        "outputId": "161d5231-58a3-406d-99bd-049343693aeb"
      },
      "source": [
        "import re\n",
        "import nltk\n",
        "\n",
        "from nltk.corpus import stopwords\n",
        "from nltk.tokenize import word_tokenize\n",
        "\n",
        "nltk.download('stopwords')\n",
        "nltk.download('punkt')\n",
        "print('.....done')"
      ],
      "execution_count": null,
      "outputs": [
        {
          "output_type": "stream",
          "text": [
            "[nltk_data] Downloading package stopwords to /root/nltk_data...\n",
            "[nltk_data]   Unzipping corpora/stopwords.zip.\n",
            "[nltk_data] Downloading package punkt to /root/nltk_data...\n",
            "[nltk_data]   Unzipping tokenizers/punkt.zip.\n",
            ".....done\n"
          ],
          "name": "stdout"
        }
      ]
    },
    {
      "cell_type": "code",
      "metadata": {
        "colab": {
          "base_uri": "https://localhost:8080/"
        },
        "id": "nBUBXrzePF8K",
        "outputId": "947934ee-6836-4012-ede7-0c5f1c78112d"
      },
      "source": [
        "stopwords_list = stopwords.words('english')\n",
        "print(len(stopwords_list))\n",
        "stopwords_list.extend(['left','right','up','down','center','centre'])\n",
        "print(len(stopwords_list))\n",
        "stopwords_list.extend(['bottom','start','end','price','location','fix','here'])\n",
        "print(len(stopwords_list))\n"
      ],
      "execution_count": null,
      "outputs": [
        {
          "output_type": "stream",
          "text": [
            "179\n",
            "185\n",
            "192\n"
          ],
          "name": "stdout"
        }
      ]
    },
    {
      "cell_type": "markdown",
      "metadata": {
        "id": "54iBuoP-POy-"
      },
      "source": [
        "### function to clean data"
      ]
    },
    {
      "cell_type": "code",
      "metadata": {
        "colab": {
          "base_uri": "https://localhost:8080/"
        },
        "id": "kXv4UW-dPQdC",
        "outputId": "73fc6f1f-9bb6-41e8-f157-1d20a5815797"
      },
      "source": [
        "def expression1(text):\n",
        "    # remove single character\n",
        "\n",
        "    #removing url \n",
        "    text = re.sub(r\"http\\S+\", \"\", text)\n",
        "    text = re.sub(r'^https?://.*[\\r\\n]*', '', text, flags=re.MULTILINE)\n",
        "    text = re.sub(r'^http?://.*[\\r\\n]*', '', text, flags=re.MULTILINE)\n",
        "    text = re.sub(r'^www?://.*[\\r\\n]*', '', text, flags=re.MULTILINE)\n",
        "\n",
        "    text = ' '.join(['' if len(i)==1 else i for i in text.split()])\n",
        "    \n",
        "    # text = re.sub('{','',text)\n",
        "    # text = re.sub('}','',text)\n",
        "    \n",
        "    # to remove '(' , ' )' , '[' , ']' ... replaced with a space \n",
        "    # text = re.sub('\\\\(',' ',text)\n",
        "    # text = re.sub('\\\\)',' ',text)\n",
        "    # text = re.sub('\\\\[',' ',text)\n",
        "    # text = re.sub('\\\\]',' ',text)\n",
        "    # replace . with a space\n",
        "    # text = re.sub('\\\\.',' ',text)\n",
        "    \n",
        "    # remove unicode\n",
        "    \n",
        "    text = re.sub(r'(\\\\u[0-9A-Fa-f]+)',r'', text)       \n",
        "    text = re.sub(r'[^\\x00-\\x7f]',r'',text)\n",
        "    \n",
        "    # remove digits\n",
        "    text = re.sub('[0-9]',' ',text)\n",
        "    \n",
        "    #     remove + - * / < >\n",
        "    text = re.sub('\\\\+',' ',text)\n",
        "    text = re.sub('\\\\=',' ',text)\n",
        "    text = re.sub('\\\\-',' ',text)\n",
        "    text = re.sub('\\\\*',' ',text)\n",
        "    text = re.sub('\\\\/',' ',text)\n",
        "    # text = re.sub('\\\\<',' ',text)\n",
        "    # text = re.sub('\\\\>',' ',text)\n",
        "#     text = re.sub('\\\\:',' ',text)\n",
        "    \n",
        "#     text = text.replace(':',r' : ')\n",
        "    \n",
        "    \n",
        "    #     text = ' '.join(text.split())\n",
        "\n",
        "    # replace single chars again \n",
        "    text = ' '.join(['' if len(i)==1 else i for i in text.split()])\n",
        "    \n",
        "    # spacing quoted statement\n",
        "    text = re.sub('\"',' \" ',text)\n",
        "    # replace url\n",
        "\n",
        "    text = re.sub('((www\\.[^\\s]+)|(https?://[^\\s]+))',' ',text)\n",
        "        #Replaces url address with \"url\" \n",
        "    # text = re.sub('((www\\.[^\\s]+)|(https?://[^\\s]+))',' ',text)\n",
        "\t  # text = re.sub(r'#([^\\s]+)', r'\\1',text)\n",
        "\n",
        "    return text\n",
        "\n",
        "# def replaceURL(text):\n",
        "\n",
        "def clean_code(text):\n",
        "  text = expression1(text)\n",
        "  text_tokens = word_tokenize(text)\n",
        "  tokens_without_stopwords = [word for word in text_tokens if not word in stopwords_list] \n",
        "  # stopwords.words()]\n",
        "  return ' '.join(tokens_without_stopwords)\n",
        "\n",
        "print(\"TRY expresion1\")"
      ],
      "execution_count": null,
      "outputs": [
        {
          "output_type": "stream",
          "text": [
            "TRY expresion1\n"
          ],
          "name": "stdout"
        }
      ]
    },
    {
      "cell_type": "code",
      "metadata": {
        "colab": {
          "base_uri": "https://localhost:8080/"
        },
        "id": "4esxjWM8QIZH",
        "outputId": "672661eb-ddb0-4f10-9dea-600d14b0f92a"
      },
      "source": [
        "%%time\n",
        "\n",
        "line_7210 = data.iloc[15710]['Source']\n",
        "cleaned_7210 =  clean_code(line_7210)\n",
        "\n",
        "print(line_7210 , '\\n ->',len(line_7210))\n",
        "print('-'*60,'\\n\\n')\n",
        "print(cleaned_7210,'\\n ->',len(cleaned_7210))\n"
      ],
      "execution_count": null,
      "outputs": [
        {
          "output_type": "stream",
          "text": [
            "@implementation ClassA\n",
            "\n",
            "-(void)launchSomething\n",
            "{\n",
            "   ClassB *classB = [[ClassB alloc] init];\n",
            "   [classB setCallback:self withSelector:@selector(deferredWork)];\n",
            "\n",
            "   // do some other stuff, assign class B to some View and eventually release class B\n",
            "}\n",
            "\n",
            "-(void)deferredWork\n",
            "{\n",
            "   NSLog(@\"this is the method that will be deferred till some point in time\");\n",
            "}\n",
            "\n",
            "@interface ClassB\n",
            "\n",
            "id targetObject;\n",
            "SEL targetMethod;\n",
            "\n",
            "-(void) setCallback:(id)anObject withSelector:(SEL)aMethod\n",
            "\n",
            "@implementation ClassB\n",
            "-(void) setCallback:(id)anObject withSelector:(SEL)aMethod\n",
            "{\n",
            "   // QUESTION: Do I need to add a 'retain' here on the targetObject?\n",
            "   targetObject = anObject;\n",
            "   targetMethod = aMethod;\n",
            "}\n",
            "\n",
            "-(void) someWorkLater\n",
            "{\n",
            "    if ( [targetObject respondsToSelector:@selector(targetMethod)] ) {\n",
            "        // invoke the target object with the specific method\n",
            "        [targetObject targetMethod];\n",
            "    }\n",
            "}\n",
            "\n",
            " \n",
            " -> 882\n",
            "------------------------------------------------------------ \n",
            "\n",
            "\n",
            "@ implementation ClassA ( void ) launchSomething ClassB classB [ [ ClassB alloc ] init ] ; [ classB setCallback : self withSelector : @ selector ( deferredWork ) ] ; stuff , assign class View eventually release class ( void ) deferredWork NSLog ( @ `` method deferred till point time `` ) ; @ interface ClassB id targetObject ; SEL targetMethod ; ( void ) setCallback : ( id ) anObject withSelector : ( SEL ) aMethod @ implementation ClassB ( void ) setCallback : ( id ) anObject withSelector : ( SEL ) aMethod QUESTION : Do need add 'retain ' targetObject ? targetObject anObject ; targetMethod aMethod ; ( void ) someWorkLater [ targetObject respondsToSelector : @ selector ( targetMethod ) ] invoke target object specific method [ targetObject targetMethod ] ; \n",
            " -> 763\n",
            "CPU times: user 12.5 ms, sys: 1.57 ms, total: 14.1 ms\n",
            "Wall time: 15.1 ms\n"
          ],
          "name": "stdout"
        }
      ]
    },
    {
      "cell_type": "markdown",
      "metadata": {
        "id": "8JuzwlHvQStq"
      },
      "source": [
        "#### Cleaning dataset"
      ]
    },
    {
      "cell_type": "code",
      "metadata": {
        "colab": {
          "base_uri": "https://localhost:8080/"
        },
        "id": "Ld_D4fQmQMMp",
        "outputId": "9fffda85-c654-4ce6-eaa1-6c5bcd8c896a"
      },
      "source": [
        "%%time\n",
        "\n",
        "dataset_refined = data.copy()\n",
        "print('->created a copy')\n",
        "dataset_refined['Source'] =  dataset_refined['Source'].astype(str)\n",
        "print('\\n->as string')\n",
        "dataset_refined['Source'] =  dataset_refined['Source'].apply(clean_code)\n",
        "print('\\n->cleaned code with expression1')\n",
        "dataset_refined.to_csv('dataset/cleaned_data_2_v2.csv',index=None)\n",
        "print('\\n->saved cleaned csv , columns : ',dataset_refined.columns)\n",
        "\n",
        "print('done')"
      ],
      "execution_count": null,
      "outputs": [
        {
          "output_type": "stream",
          "text": [
            "->created a copy\n",
            "\n",
            "->as string\n",
            "\n",
            "->cleaned code with expression1\n",
            "\n",
            "->saved cleaned csv , columns :  Index(['Language', 'Source'], dtype='object')\n",
            "done\n",
            "CPU times: user 23.2 s, sys: 17.5 ms, total: 23.2 s\n",
            "Wall time: 23.2 s\n"
          ],
          "name": "stdout"
        }
      ]
    },
    {
      "cell_type": "code",
      "metadata": {
        "colab": {
          "base_uri": "https://localhost:8080/",
          "height": 419
        },
        "id": "24JYUgCXQV4U",
        "outputId": "640b424b-233a-44f1-e3c0-d1f2967fc043"
      },
      "source": [
        "df = pd.read_csv('/content/dataset/cleaned_data_2_v2.csv')\n",
        "df"
      ],
      "execution_count": null,
      "outputs": [
        {
          "output_type": "execute_result",
          "data": {
            "text/html": [
              "<div>\n",
              "<style scoped>\n",
              "    .dataframe tbody tr th:only-of-type {\n",
              "        vertical-align: middle;\n",
              "    }\n",
              "\n",
              "    .dataframe tbody tr th {\n",
              "        vertical-align: top;\n",
              "    }\n",
              "\n",
              "    .dataframe thead th {\n",
              "        text-align: right;\n",
              "    }\n",
              "</style>\n",
              "<table border=\"1\" class=\"dataframe\">\n",
              "  <thead>\n",
              "    <tr style=\"text-align: right;\">\n",
              "      <th></th>\n",
              "      <th>Language</th>\n",
              "      <th>Source</th>\n",
              "    </tr>\n",
              "  </thead>\n",
              "  <tbody>\n",
              "    <tr>\n",
              "      <th>0</th>\n",
              "      <td>bash</td>\n",
              "      <td># ! usr bin bash RES $ RES eq echo `` Finishin...</td>\n",
              "    </tr>\n",
              "    <tr>\n",
              "      <th>1</th>\n",
              "      <td>bash</td>\n",
              "      <td>ex_addinst ex_addinst.o home li work tools lin...</td>\n",
              "    </tr>\n",
              "    <tr>\n",
              "      <th>2</th>\n",
              "      <td>bash</td>\n",
              "      <td>amazon &lt; bookstore &gt; &lt; book &gt; &lt; title lang `` ...</td>\n",
              "    </tr>\n",
              "    <tr>\n",
              "      <th>3</th>\n",
              "      <td>bash</td>\n",
              "      <td>dataA.dat dataB.dat dataC.dat II dataA.dat II ...</td>\n",
              "    </tr>\n",
              "    <tr>\n",
              "      <th>4</th>\n",
              "      <td>bash</td>\n",
              "      <td>my_script pack name.tar file file</td>\n",
              "    </tr>\n",
              "    <tr>\n",
              "      <th>...</th>\n",
              "      <td>...</td>\n",
              "      <td>...</td>\n",
              "    </tr>\n",
              "    <tr>\n",
              "      <th>29995</th>\n",
              "      <td>swift</td>\n",
              "      <td>Class ViewController : UIViewController , UITa...</td>\n",
              "    </tr>\n",
              "    <tr>\n",
              "      <th>29996</th>\n",
              "      <td>swift</td>\n",
              "      <td>let type json.type else XCTFail ( `` There typ...</td>\n",
              "    </tr>\n",
              "    <tr>\n",
              "      <th>29997</th>\n",
              "      <td>swift</td>\n",
              "      <td>Create path . NSArray paths NSSearchPathForDir...</td>\n",
              "    </tr>\n",
              "    <tr>\n",
              "      <th>29998</th>\n",
              "      <td>swift</td>\n",
              "      <td>class AddPersonViewController : UIViewControll...</td>\n",
              "    </tr>\n",
              "    <tr>\n",
              "      <th>29999</th>\n",
              "      <td>swift</td>\n",
              "      <td>DetailViewController UIImageView UITextFields ...</td>\n",
              "    </tr>\n",
              "  </tbody>\n",
              "</table>\n",
              "<p>30000 rows × 2 columns</p>\n",
              "</div>"
            ],
            "text/plain": [
              "      Language                                             Source\n",
              "0         bash  # ! usr bin bash RES $ RES eq echo `` Finishin...\n",
              "1         bash  ex_addinst ex_addinst.o home li work tools lin...\n",
              "2         bash  amazon < bookstore > < book > < title lang `` ...\n",
              "3         bash  dataA.dat dataB.dat dataC.dat II dataA.dat II ...\n",
              "4         bash                  my_script pack name.tar file file\n",
              "...        ...                                                ...\n",
              "29995    swift  Class ViewController : UIViewController , UITa...\n",
              "29996    swift  let type json.type else XCTFail ( `` There typ...\n",
              "29997    swift  Create path . NSArray paths NSSearchPathForDir...\n",
              "29998    swift  class AddPersonViewController : UIViewControll...\n",
              "29999    swift  DetailViewController UIImageView UITextFields ...\n",
              "\n",
              "[30000 rows x 2 columns]"
            ]
          },
          "metadata": {
            "tags": []
          },
          "execution_count": 13
        }
      ]
    },
    {
      "cell_type": "code",
      "metadata": {
        "colab": {
          "base_uri": "https://localhost:8080/"
        },
        "id": "y_k5ID4JQdFN",
        "outputId": "c1541740-783b-4767-b78d-a7cf1471f5d4"
      },
      "source": [
        "%%time\n",
        "\n",
        "df[\"lang_id\"] = df['Language'].factorize()[0]\n",
        "print('>>> lang id created')\n",
        "lang_id_df = df[['Language', 'lang_id']].drop_duplicates().sort_values('lang_id')\n",
        "print('>>> added to dataframe')\n",
        "lang_to_id = dict(lang_id_df.values)\n",
        "id_to_lang = dict(lang_id_df[['lang_id', 'Language']].values)\n",
        "print('>>> now columns : ',df.columns)"
      ],
      "execution_count": null,
      "outputs": [
        {
          "output_type": "stream",
          "text": [
            ">>> lang id created\n",
            ">>> added to dataframe\n",
            ">>> now columns :  Index(['Language', 'Source', 'lang_id'], dtype='object')\n",
            "CPU times: user 10.6 ms, sys: 934 µs, total: 11.6 ms\n",
            "Wall time: 12.6 ms\n"
          ],
          "name": "stdout"
        }
      ]
    },
    {
      "cell_type": "code",
      "metadata": {
        "colab": {
          "base_uri": "https://localhost:8080/",
          "height": 419
        },
        "id": "fegPD4XiQieN",
        "outputId": "9de6ab03-d673-4d80-e7a2-7658ad864cb7"
      },
      "source": [
        "df"
      ],
      "execution_count": null,
      "outputs": [
        {
          "output_type": "execute_result",
          "data": {
            "text/html": [
              "<div>\n",
              "<style scoped>\n",
              "    .dataframe tbody tr th:only-of-type {\n",
              "        vertical-align: middle;\n",
              "    }\n",
              "\n",
              "    .dataframe tbody tr th {\n",
              "        vertical-align: top;\n",
              "    }\n",
              "\n",
              "    .dataframe thead th {\n",
              "        text-align: right;\n",
              "    }\n",
              "</style>\n",
              "<table border=\"1\" class=\"dataframe\">\n",
              "  <thead>\n",
              "    <tr style=\"text-align: right;\">\n",
              "      <th></th>\n",
              "      <th>Language</th>\n",
              "      <th>Source</th>\n",
              "      <th>lang_id</th>\n",
              "    </tr>\n",
              "  </thead>\n",
              "  <tbody>\n",
              "    <tr>\n",
              "      <th>0</th>\n",
              "      <td>bash</td>\n",
              "      <td># ! usr bin bash RES $ RES eq echo `` Finishin...</td>\n",
              "      <td>0</td>\n",
              "    </tr>\n",
              "    <tr>\n",
              "      <th>1</th>\n",
              "      <td>bash</td>\n",
              "      <td>ex_addinst ex_addinst.o home li work tools lin...</td>\n",
              "      <td>0</td>\n",
              "    </tr>\n",
              "    <tr>\n",
              "      <th>2</th>\n",
              "      <td>bash</td>\n",
              "      <td>amazon &lt; bookstore &gt; &lt; book &gt; &lt; title lang `` ...</td>\n",
              "      <td>0</td>\n",
              "    </tr>\n",
              "    <tr>\n",
              "      <th>3</th>\n",
              "      <td>bash</td>\n",
              "      <td>dataA.dat dataB.dat dataC.dat II dataA.dat II ...</td>\n",
              "      <td>0</td>\n",
              "    </tr>\n",
              "    <tr>\n",
              "      <th>4</th>\n",
              "      <td>bash</td>\n",
              "      <td>my_script pack name.tar file file</td>\n",
              "      <td>0</td>\n",
              "    </tr>\n",
              "    <tr>\n",
              "      <th>...</th>\n",
              "      <td>...</td>\n",
              "      <td>...</td>\n",
              "      <td>...</td>\n",
              "    </tr>\n",
              "    <tr>\n",
              "      <th>29995</th>\n",
              "      <td>swift</td>\n",
              "      <td>Class ViewController : UIViewController , UITa...</td>\n",
              "      <td>14</td>\n",
              "    </tr>\n",
              "    <tr>\n",
              "      <th>29996</th>\n",
              "      <td>swift</td>\n",
              "      <td>let type json.type else XCTFail ( `` There typ...</td>\n",
              "      <td>14</td>\n",
              "    </tr>\n",
              "    <tr>\n",
              "      <th>29997</th>\n",
              "      <td>swift</td>\n",
              "      <td>Create path . NSArray paths NSSearchPathForDir...</td>\n",
              "      <td>14</td>\n",
              "    </tr>\n",
              "    <tr>\n",
              "      <th>29998</th>\n",
              "      <td>swift</td>\n",
              "      <td>class AddPersonViewController : UIViewControll...</td>\n",
              "      <td>14</td>\n",
              "    </tr>\n",
              "    <tr>\n",
              "      <th>29999</th>\n",
              "      <td>swift</td>\n",
              "      <td>DetailViewController UIImageView UITextFields ...</td>\n",
              "      <td>14</td>\n",
              "    </tr>\n",
              "  </tbody>\n",
              "</table>\n",
              "<p>30000 rows × 3 columns</p>\n",
              "</div>"
            ],
            "text/plain": [
              "      Language                                             Source  lang_id\n",
              "0         bash  # ! usr bin bash RES $ RES eq echo `` Finishin...        0\n",
              "1         bash  ex_addinst ex_addinst.o home li work tools lin...        0\n",
              "2         bash  amazon < bookstore > < book > < title lang `` ...        0\n",
              "3         bash  dataA.dat dataB.dat dataC.dat II dataA.dat II ...        0\n",
              "4         bash                  my_script pack name.tar file file        0\n",
              "...        ...                                                ...      ...\n",
              "29995    swift  Class ViewController : UIViewController , UITa...       14\n",
              "29996    swift  let type json.type else XCTFail ( `` There typ...       14\n",
              "29997    swift  Create path . NSArray paths NSSearchPathForDir...       14\n",
              "29998    swift  class AddPersonViewController : UIViewControll...       14\n",
              "29999    swift  DetailViewController UIImageView UITextFields ...       14\n",
              "\n",
              "[30000 rows x 3 columns]"
            ]
          },
          "metadata": {
            "tags": []
          },
          "execution_count": 15
        }
      ]
    },
    {
      "cell_type": "markdown",
      "metadata": {
        "id": "DBakVlKZQxIM"
      },
      "source": [
        "### copying tokenizer for converting sentences to sequences"
      ]
    },
    {
      "cell_type": "code",
      "metadata": {
        "colab": {
          "base_uri": "https://localhost:8080/"
        },
        "id": "CPVksSJDQ1fy",
        "outputId": "ce0ee711-bec9-4e85-a215-b7d69239cb43"
      },
      "source": [
        "!cp '/content/drive/My Drive/datasets/LanguageDataset/final_changes/DL_models/tokenizer_model1_run2.pickle' '/content/dataset'\n",
        "!echo done"
      ],
      "execution_count": null,
      "outputs": [
        {
          "output_type": "stream",
          "text": [
            "done\n"
          ],
          "name": "stdout"
        }
      ]
    },
    {
      "cell_type": "code",
      "metadata": {
        "colab": {
          "base_uri": "https://localhost:8080/"
        },
        "id": "a4nVKtyaRB2o",
        "outputId": "2d2610ba-e4e3-472b-ab45-b200f765ddad"
      },
      "source": [
        "%%time\n",
        "\n",
        "from tensorflow.keras.preprocessing.text import Tokenizer\n",
        "from tensorflow.keras.preprocessing.sequence import pad_sequences\n",
        "import pickle\n",
        "\n",
        "vocab_size = 10000\n",
        "trunc_type='post'\n",
        "oov_tok = \"<OOV>\"\n",
        "\n",
        "print('loading pickle')\n",
        "# loading\n",
        "with open('/content/dataset/tokenizer_model1_run2.pickle', 'rb') as handle:\n",
        "    tokenizer = pickle.load(handle)\n",
        "\n",
        "print('loaded',type(tokenizer))"
      ],
      "execution_count": null,
      "outputs": [
        {
          "output_type": "stream",
          "text": [
            "loading pickle\n",
            "loaded <class 'keras_preprocessing.text.Tokenizer'>\n",
            "CPU times: user 1.19 s, sys: 136 ms, total: 1.33 s\n",
            "Wall time: 1.33 s\n"
          ],
          "name": "stdout"
        }
      ]
    },
    {
      "cell_type": "code",
      "metadata": {
        "colab": {
          "base_uri": "https://localhost:8080/"
        },
        "id": "U-35pEcMRCRP",
        "outputId": "6e2acdd4-b497-4662-e6d4-05513ae4317e"
      },
      "source": [
        "tokenizer"
      ],
      "execution_count": null,
      "outputs": [
        {
          "output_type": "execute_result",
          "data": {
            "text/plain": [
              "<keras_preprocessing.text.Tokenizer at 0x7fc3e2dfb748>"
            ]
          },
          "metadata": {
            "tags": []
          },
          "execution_count": 19
        }
      ]
    },
    {
      "cell_type": "code",
      "metadata": {
        "colab": {
          "base_uri": "https://localhost:8080/"
        },
        "id": "4IMVR80PRy3m",
        "outputId": "b5ba6fa0-f99d-45d1-828f-9f4ac4b871ee"
      },
      "source": [
        "word_index = tokenizer.word_index\n",
        "print('len of word index',len(word_index)) # should be 80436"
      ],
      "execution_count": null,
      "outputs": [
        {
          "output_type": "stream",
          "text": [
            "len of word index 80436\n"
          ],
          "name": "stdout"
        }
      ]
    },
    {
      "cell_type": "markdown",
      "metadata": {
        "id": "0PYaf-7WR4s8"
      },
      "source": [
        "### transform sentences using tokenizer"
      ]
    },
    {
      "cell_type": "code",
      "metadata": {
        "id": "WzRa5tD0R4fg"
      },
      "source": [
        "max_length = 1000\n",
        "trunc_type='post'"
      ],
      "execution_count": null,
      "outputs": []
    },
    {
      "cell_type": "code",
      "metadata": {
        "colab": {
          "base_uri": "https://localhost:8080/"
        },
        "id": "SRp8job5R4Tv",
        "outputId": "e3edbb6c-99ea-45c6-eb95-8c4b20525ae3"
      },
      "source": [
        "%%time\n",
        "print('converting whole data')\n",
        "X = tokenizer.texts_to_sequences(df['Source'].values.astype('U'))\n",
        "print(' .... converted text to sequences' , type(X),'\\n ')\n",
        "print('-'*70)"
      ],
      "execution_count": null,
      "outputs": [
        {
          "output_type": "stream",
          "text": [
            "converting whole data\n",
            " .... converted text to sequences <class 'list'> \n",
            " \n",
            "----------------------------------------------------------------------\n",
            "CPU times: user 4.45 s, sys: 28.8 ms, total: 4.48 s\n",
            "Wall time: 4.48 s\n"
          ],
          "name": "stdout"
        }
      ]
    },
    {
      "cell_type": "markdown",
      "metadata": {
        "id": "nC3YFNv-SSI3"
      },
      "source": [
        "### pad sequences"
      ]
    },
    {
      "cell_type": "code",
      "metadata": {
        "colab": {
          "base_uri": "https://localhost:8080/"
        },
        "id": "-zA4GgQKSR5i",
        "outputId": "3963ab0b-ca20-41d4-a3d5-4d053cdff0a2"
      },
      "source": [
        "%%time\n",
        "X_padded = pad_sequences(X,maxlen=max_length, truncating=trunc_type)\n",
        "print('sequence padded')\n",
        "print(type(X_padded),'\\n padded to ',X_padded.shape)"
      ],
      "execution_count": null,
      "outputs": [
        {
          "output_type": "stream",
          "text": [
            "sequence padded\n",
            "<class 'numpy.ndarray'> \n",
            " padded to  (30000, 1000)\n",
            "CPU times: user 248 ms, sys: 0 ns, total: 248 ms\n",
            "Wall time: 249 ms\n"
          ],
          "name": "stdout"
        }
      ]
    },
    {
      "cell_type": "markdown",
      "metadata": {
        "id": "JGkpQvcoSoBA"
      },
      "source": [
        "### Creating labels"
      ]
    },
    {
      "cell_type": "code",
      "metadata": {
        "colab": {
          "base_uri": "https://localhost:8080/"
        },
        "id": "HQskYMRtSpzD",
        "outputId": "a48c9045-d4e3-4735-fc47-1748e5478a83"
      },
      "source": [
        "Y = pd.get_dummies(df['Language'].values.astype('U'))\n",
        "print('and Y : ',type(Y))\n",
        "y = np.asarray(Y)\n",
        "print(X_padded.shape , y.shape)"
      ],
      "execution_count": null,
      "outputs": [
        {
          "output_type": "stream",
          "text": [
            "and Y :  <class 'pandas.core.frame.DataFrame'>\n",
            "(30000, 1000) (30000, 15)\n"
          ],
          "name": "stdout"
        }
      ]
    },
    {
      "cell_type": "markdown",
      "metadata": {
        "id": "t2w2QvOkQmPQ"
      },
      "source": [
        "#### Train Test Split <br> this time using sklearn.model_selection train test split"
      ]
    },
    {
      "cell_type": "code",
      "metadata": {
        "id": "yHb5v7vbQjfU"
      },
      "source": [
        "from sklearn.model_selection import train_test_split"
      ],
      "execution_count": null,
      "outputs": []
    },
    {
      "cell_type": "code",
      "metadata": {
        "colab": {
          "base_uri": "https://localhost:8080/"
        },
        "id": "a2e1kDFaS3lf",
        "outputId": "e15d0d5f-f578-4654-9123-cb0415d01996"
      },
      "source": [
        "%%time\n",
        "X_train, X_test, y_train, y_test = train_test_split( X_padded, y, test_size=0.33, random_state=42)\n",
        "\n",
        "print('training data : ',X_train.shape , ' ... ', y_train.shape)\n",
        "print('testing data : ',X_test.shape , ' ... ', y_test.shape)"
      ],
      "execution_count": null,
      "outputs": [
        {
          "output_type": "stream",
          "text": [
            "training data :  (20100, 1000)  ...  (20100, 15)\n",
            "testing data :  (9900, 1000)  ...  (9900, 15)\n",
            "CPU times: user 39.2 ms, sys: 1.89 ms, total: 41.1 ms\n",
            "Wall time: 43.3 ms\n"
          ],
          "name": "stdout"
        }
      ]
    },
    {
      "cell_type": "markdown",
      "metadata": {
        "id": "6LB6Snc9TX0W"
      },
      "source": [
        "### Copy model"
      ]
    },
    {
      "cell_type": "code",
      "metadata": {
        "colab": {
          "base_uri": "https://localhost:8080/"
        },
        "id": "2bLKafmlTLdP",
        "outputId": "096a5214-f302-4007-b89f-3cc1e5e215e0"
      },
      "source": [
        "!cp '/content/drive/My Drive/datasets/LanguageDataset/final_changes/DL_models/final_DLModel1_run2.zip' '/content/dataset'\n",
        "!echo copied"
      ],
      "execution_count": null,
      "outputs": [
        {
          "output_type": "stream",
          "text": [
            "copied\n"
          ],
          "name": "stdout"
        }
      ]
    },
    {
      "cell_type": "markdown",
      "metadata": {
        "id": "6dkd2kC_Tn6G"
      },
      "source": [
        "### unzip"
      ]
    },
    {
      "cell_type": "code",
      "metadata": {
        "colab": {
          "base_uri": "https://localhost:8080/"
        },
        "id": "WIX8lL47Tico",
        "outputId": "f6db32f4-bc3a-4afb-953a-48d9278d21c6"
      },
      "source": [
        "!unzip '/content/dataset/final_DLModel1_run2.zip'"
      ],
      "execution_count": null,
      "outputs": [
        {
          "output_type": "stream",
          "text": [
            "Archive:  /content/dataset/final_DLModel1_run2.zip\n",
            "   creating: content/content/final_DLModel1_run2/\n",
            "  inflating: content/content/final_DLModel1_run2/saved_model.pb  \n",
            "   creating: content/content/final_DLModel1_run2/assets/\n",
            "   creating: content/content/final_DLModel1_run2/variables/\n",
            "  inflating: content/content/final_DLModel1_run2/variables/variables.index  \n",
            "  inflating: content/content/final_DLModel1_run2/variables/variables.data-00000-of-00001  \n"
          ],
          "name": "stdout"
        }
      ]
    },
    {
      "cell_type": "code",
      "metadata": {
        "id": "Gl23igZUT-Fn"
      },
      "source": [
        "model_path = '/content/content/content/final_DLModel1_run2'\n"
      ],
      "execution_count": null,
      "outputs": []
    },
    {
      "cell_type": "markdown",
      "metadata": {
        "id": "CtVRaq_XULqR"
      },
      "source": [
        "### Loading the model"
      ]
    },
    {
      "cell_type": "code",
      "metadata": {
        "colab": {
          "base_uri": "https://localhost:8080/"
        },
        "id": "6YtFtnAEUGwR",
        "outputId": "191c8d40-4f95-4757-aaef-54e31e4c5000"
      },
      "source": [
        "%%time\n",
        "\n",
        "from keras.models import load_model\n",
        "\n",
        "model = load_model(model_path)\n",
        "print('loaded')"
      ],
      "execution_count": null,
      "outputs": [
        {
          "output_type": "stream",
          "text": [
            "loaded\n",
            "CPU times: user 1.45 s, sys: 356 ms, total: 1.81 s\n",
            "Wall time: 6.45 s\n"
          ],
          "name": "stdout"
        }
      ]
    },
    {
      "cell_type": "code",
      "metadata": {
        "colab": {
          "base_uri": "https://localhost:8080/"
        },
        "id": "g0riwsA5UWU5",
        "outputId": "0c143b2d-5bbf-4689-d031-035ee2594248"
      },
      "source": [
        "model.summary()"
      ],
      "execution_count": null,
      "outputs": [
        {
          "output_type": "stream",
          "text": [
            "Model: \"sequential\"\n",
            "_________________________________________________________________\n",
            "Layer (type)                 Output Shape              Param #   \n",
            "=================================================================\n",
            "embedding (Embedding)        (None, 1000, 32)          320000    \n",
            "_________________________________________________________________\n",
            "conv1d (Conv1D)              (None, 996, 128)          20608     \n",
            "_________________________________________________________________\n",
            "max_pooling1d (MaxPooling1D) (None, 199, 128)          0         \n",
            "_________________________________________________________________\n",
            "batch_normalization (BatchNo (None, 199, 128)          512       \n",
            "_________________________________________________________________\n",
            "activation (Activation)      (None, 199, 128)          0         \n",
            "_________________________________________________________________\n",
            "global_average_pooling1d (Gl (None, 128)               0         \n",
            "_________________________________________________________________\n",
            "dropout (Dropout)            (None, 128)               0         \n",
            "_________________________________________________________________\n",
            "dense (Dense)                (None, 64)                8256      \n",
            "_________________________________________________________________\n",
            "batch_normalization_1 (Batch (None, 64)                256       \n",
            "_________________________________________________________________\n",
            "activation_1 (Activation)    (None, 64)                0         \n",
            "_________________________________________________________________\n",
            "flatten (Flatten)            (None, 64)                0         \n",
            "_________________________________________________________________\n",
            "dense_1 (Dense)              (None, 15)                975       \n",
            "_________________________________________________________________\n",
            "batch_normalization_2 (Batch (None, 15)                60        \n",
            "_________________________________________________________________\n",
            "activation_2 (Activation)    (None, 15)                0         \n",
            "_________________________________________________________________\n",
            "flatten_1 (Flatten)          (None, 15)                0         \n",
            "_________________________________________________________________\n",
            "activation_3 (Activation)    (None, 15)                0         \n",
            "=================================================================\n",
            "Total params: 350,667\n",
            "Trainable params: 350,253\n",
            "Non-trainable params: 414\n",
            "_________________________________________________________________\n"
          ],
          "name": "stdout"
        }
      ]
    },
    {
      "cell_type": "code",
      "metadata": {
        "id": "BJVSYT0kUhiL"
      },
      "source": [
        "from sklearn.model_selection import KFold\n",
        "\n",
        "# n_fold = 2\n",
        "# n_fold = 3 \n",
        "# n_fold = 5\n",
        "n_fold = 10\n",
        "\n",
        "k_fold = KFold(n_fold,shuffle=True,random_state=31)"
      ],
      "execution_count": null,
      "outputs": []
    },
    {
      "cell_type": "code",
      "metadata": {
        "colab": {
          "base_uri": "https://localhost:8080/"
        },
        "id": "OESWPkqjUsHI",
        "outputId": "65a96ee9-a8ed-4ed8-ab43-fdd11660be63"
      },
      "source": [
        "k_fold"
      ],
      "execution_count": null,
      "outputs": [
        {
          "output_type": "execute_result",
          "data": {
            "text/plain": [
              "KFold(n_splits=10, random_state=31, shuffle=True)"
            ]
          },
          "metadata": {
            "tags": []
          },
          "execution_count": 37
        }
      ]
    },
    {
      "cell_type": "markdown",
      "metadata": {
        "id": "k_LWUuUnUny-"
      },
      "source": [
        "### Training the model"
      ]
    },
    {
      "cell_type": "code",
      "metadata": {
        "colab": {
          "base_uri": "https://localhost:8080/"
        },
        "id": "Z04W-hexUmwT",
        "outputId": "fdfedaf3-2266-4b07-c97c-beeb651f0a04"
      },
      "source": [
        "%%time\n",
        "\n",
        "scores = []\n",
        "histories = []\n",
        "print('......... fitting the model\\n')\n",
        "\n",
        "for train_iX,test_iX in k_fold.split(X_train):\n",
        "  # selecting rows for trainX and trainY first train data and then cross validation data\n",
        "  x_itrain,y_itrain,x_cv,y_cv = X_train[train_iX] , y_train[train_iX] , X_train[test_iX], y_train[test_iX]\n",
        "    # fit into model with batch sizes of 32 and epochs 10\n",
        "    # # history = my_model.fit(x_train,y_train,batch_size=32,epochs=10,verbose=1,validation_data=(x_cv,y_cv))\n",
        "  history = model.fit(x_itrain,y_itrain,batch_size=64,epochs=10,verbose=1,validation_data=(x_cv,y_cv))\n",
        "  # evaluate model\n",
        "  loss,acc = model.evaluate(X_test , y_test,verbose=2)\n",
        "  print('-'*80)\n",
        "  print('\\n\\t --> accuracy on test data : {:.6f}% and loss : {:.7f} <--\\n'.format(acc * 100.0,loss))\n",
        "  print('-'*80)\n",
        "    # # stores scores  \n",
        "  scores.append(acc)\n",
        "  histories.append(history)\n",
        "\n",
        "print('done')"
      ],
      "execution_count": null,
      "outputs": [
        {
          "output_type": "stream",
          "text": [
            "......... fitting the model\n",
            "\n",
            "Epoch 1/10\n",
            "283/283 [==============================] - 14s 23ms/step - loss: 2.3793 - accuracy: 0.6193 - val_loss: 2.3437 - val_accuracy: 0.7040\n",
            "Epoch 2/10\n",
            "283/283 [==============================] - 6s 22ms/step - loss: 2.3774 - accuracy: 0.6175 - val_loss: 2.3426 - val_accuracy: 0.7095\n",
            "Epoch 3/10\n",
            "283/283 [==============================] - 5s 19ms/step - loss: 2.3773 - accuracy: 0.6167 - val_loss: 2.3438 - val_accuracy: 0.6667\n",
            "Epoch 4/10\n",
            "283/283 [==============================] - 6s 22ms/step - loss: 2.3744 - accuracy: 0.6190 - val_loss: 2.3407 - val_accuracy: 0.7129\n",
            "Epoch 5/10\n",
            "283/283 [==============================] - 6s 21ms/step - loss: 2.3737 - accuracy: 0.6214 - val_loss: 2.3362 - val_accuracy: 0.7184\n",
            "Epoch 6/10\n",
            "283/283 [==============================] - 6s 21ms/step - loss: 2.3718 - accuracy: 0.6254 - val_loss: 2.3376 - val_accuracy: 0.7134\n",
            "Epoch 7/10\n",
            "283/283 [==============================] - 6s 20ms/step - loss: 2.3707 - accuracy: 0.6258 - val_loss: 2.3421 - val_accuracy: 0.7015\n",
            "Epoch 8/10\n",
            "283/283 [==============================] - 6s 21ms/step - loss: 2.3681 - accuracy: 0.6311 - val_loss: 2.3401 - val_accuracy: 0.7189\n",
            "Epoch 9/10\n",
            "283/283 [==============================] - 6s 21ms/step - loss: 2.3674 - accuracy: 0.6364 - val_loss: 2.3316 - val_accuracy: 0.6940\n",
            "Epoch 10/10\n",
            "283/283 [==============================] - 5s 17ms/step - loss: 2.3661 - accuracy: 0.6350 - val_loss: 2.3340 - val_accuracy: 0.7144\n",
            "310/310 - 1s - loss: 2.3435 - accuracy: 0.6930\n",
            "--------------------------------------------------------------------------------\n",
            "\n",
            "\t --> accuracy on test data : 69.303030% and loss : 2.3435099 <--\n",
            "\n",
            "--------------------------------------------------------------------------------\n",
            "Epoch 1/10\n",
            "283/283 [==============================] - 5s 17ms/step - loss: 2.3641 - accuracy: 0.6390 - val_loss: 2.3466 - val_accuracy: 0.6935\n",
            "Epoch 2/10\n",
            "283/283 [==============================] - 5s 19ms/step - loss: 2.3628 - accuracy: 0.6323 - val_loss: 2.3426 - val_accuracy: 0.6687\n",
            "Epoch 3/10\n",
            "283/283 [==============================] - 6s 20ms/step - loss: 2.3613 - accuracy: 0.6413 - val_loss: 2.3412 - val_accuracy: 0.6682\n",
            "Epoch 4/10\n",
            "283/283 [==============================] - 6s 21ms/step - loss: 2.3603 - accuracy: 0.6353 - val_loss: 2.3453 - val_accuracy: 0.7055\n",
            "Epoch 5/10\n",
            "283/283 [==============================] - 5s 18ms/step - loss: 2.3581 - accuracy: 0.6461 - val_loss: 2.3371 - val_accuracy: 0.6881\n",
            "Epoch 6/10\n",
            "283/283 [==============================] - 5s 16ms/step - loss: 2.3578 - accuracy: 0.6436 - val_loss: 2.3420 - val_accuracy: 0.6965\n",
            "Epoch 7/10\n",
            "283/283 [==============================] - 5s 17ms/step - loss: 2.3562 - accuracy: 0.6480 - val_loss: 2.3419 - val_accuracy: 0.6950\n",
            "Epoch 8/10\n",
            "283/283 [==============================] - 6s 20ms/step - loss: 2.3547 - accuracy: 0.6466 - val_loss: 2.3394 - val_accuracy: 0.6731\n",
            "Epoch 9/10\n",
            "283/283 [==============================] - 6s 20ms/step - loss: 2.3543 - accuracy: 0.6474 - val_loss: 2.3400 - val_accuracy: 0.7050\n",
            "Epoch 10/10\n",
            "283/283 [==============================] - 6s 20ms/step - loss: 2.3522 - accuracy: 0.6477 - val_loss: 2.3389 - val_accuracy: 0.7065\n",
            "310/310 - 1s - loss: 2.3360 - accuracy: 0.7106\n",
            "--------------------------------------------------------------------------------\n",
            "\n",
            "\t --> accuracy on test data : 71.060604% and loss : 2.3360410 <--\n",
            "\n",
            "--------------------------------------------------------------------------------\n",
            "Epoch 1/10\n",
            "283/283 [==============================] - 6s 20ms/step - loss: 2.3522 - accuracy: 0.6475 - val_loss: 2.3218 - val_accuracy: 0.7328\n",
            "Epoch 2/10\n",
            "283/283 [==============================] - 6s 20ms/step - loss: 2.3507 - accuracy: 0.6524 - val_loss: 2.3254 - val_accuracy: 0.7388\n",
            "Epoch 3/10\n",
            "283/283 [==============================] - 4s 15ms/step - loss: 2.3491 - accuracy: 0.6531 - val_loss: 2.3220 - val_accuracy: 0.7189\n",
            "Epoch 4/10\n",
            "283/283 [==============================] - 4s 15ms/step - loss: 2.3493 - accuracy: 0.6541 - val_loss: 2.3238 - val_accuracy: 0.7318\n",
            "Epoch 5/10\n",
            "283/283 [==============================] - 4s 15ms/step - loss: 2.3465 - accuracy: 0.6531 - val_loss: 2.3222 - val_accuracy: 0.7109\n",
            "Epoch 6/10\n",
            "283/283 [==============================] - 4s 15ms/step - loss: 2.3462 - accuracy: 0.6546 - val_loss: 2.3212 - val_accuracy: 0.7060\n",
            "Epoch 7/10\n",
            "283/283 [==============================] - 4s 15ms/step - loss: 2.3452 - accuracy: 0.6563 - val_loss: 2.3203 - val_accuracy: 0.7303\n",
            "Epoch 8/10\n",
            "283/283 [==============================] - 4s 15ms/step - loss: 2.3431 - accuracy: 0.6583 - val_loss: 2.3177 - val_accuracy: 0.7348\n",
            "Epoch 9/10\n",
            "283/283 [==============================] - 4s 15ms/step - loss: 2.3410 - accuracy: 0.6636 - val_loss: 2.3168 - val_accuracy: 0.7269\n",
            "Epoch 10/10\n",
            "283/283 [==============================] - 4s 16ms/step - loss: 2.3413 - accuracy: 0.6574 - val_loss: 2.3186 - val_accuracy: 0.7239\n",
            "310/310 - 1s - loss: 2.3270 - accuracy: 0.7016\n",
            "--------------------------------------------------------------------------------\n",
            "\n",
            "\t --> accuracy on test data : 70.161617% and loss : 2.3270073 <--\n",
            "\n",
            "--------------------------------------------------------------------------------\n",
            "Epoch 1/10\n",
            "283/283 [==============================] - 4s 15ms/step - loss: 2.3397 - accuracy: 0.6613 - val_loss: 2.3056 - val_accuracy: 0.7418\n",
            "Epoch 2/10\n",
            "283/283 [==============================] - 4s 15ms/step - loss: 2.3389 - accuracy: 0.6648 - val_loss: 2.3081 - val_accuracy: 0.7393\n",
            "Epoch 3/10\n",
            "283/283 [==============================] - 4s 15ms/step - loss: 2.3384 - accuracy: 0.6637 - val_loss: 2.3063 - val_accuracy: 0.7522\n",
            "Epoch 4/10\n",
            "283/283 [==============================] - 4s 15ms/step - loss: 2.3365 - accuracy: 0.6656 - val_loss: 2.3046 - val_accuracy: 0.7279\n",
            "Epoch 5/10\n",
            "283/283 [==============================] - 4s 15ms/step - loss: 2.3359 - accuracy: 0.6653 - val_loss: 2.3017 - val_accuracy: 0.7318\n",
            "Epoch 6/10\n",
            "283/283 [==============================] - 4s 16ms/step - loss: 2.3352 - accuracy: 0.6619 - val_loss: 2.3053 - val_accuracy: 0.7323\n",
            "Epoch 7/10\n",
            "283/283 [==============================] - 4s 15ms/step - loss: 2.3337 - accuracy: 0.6652 - val_loss: 2.2989 - val_accuracy: 0.7274\n",
            "Epoch 8/10\n",
            "283/283 [==============================] - 4s 15ms/step - loss: 2.3322 - accuracy: 0.6680 - val_loss: 2.3005 - val_accuracy: 0.7383\n",
            "Epoch 9/10\n",
            "283/283 [==============================] - 4s 15ms/step - loss: 2.3311 - accuracy: 0.6710 - val_loss: 2.2984 - val_accuracy: 0.7234\n",
            "Epoch 10/10\n",
            "283/283 [==============================] - 4s 15ms/step - loss: 2.3304 - accuracy: 0.6672 - val_loss: 2.2977 - val_accuracy: 0.7373\n",
            "310/310 - 1s - loss: 2.3157 - accuracy: 0.7036\n",
            "--------------------------------------------------------------------------------\n",
            "\n",
            "\t --> accuracy on test data : 70.363635% and loss : 2.3157299 <--\n",
            "\n",
            "--------------------------------------------------------------------------------\n",
            "Epoch 1/10\n",
            "283/283 [==============================] - 5s 16ms/step - loss: 2.3285 - accuracy: 0.6747 - val_loss: 2.2992 - val_accuracy: 0.7413\n",
            "Epoch 2/10\n",
            "283/283 [==============================] - 4s 16ms/step - loss: 2.3282 - accuracy: 0.6696 - val_loss: 2.3009 - val_accuracy: 0.7468\n",
            "Epoch 3/10\n",
            "283/283 [==============================] - 4s 16ms/step - loss: 2.3264 - accuracy: 0.6759 - val_loss: 2.2930 - val_accuracy: 0.7433\n",
            "Epoch 4/10\n",
            "283/283 [==============================] - 4s 16ms/step - loss: 2.3264 - accuracy: 0.6747 - val_loss: 2.2977 - val_accuracy: 0.7378\n",
            "Epoch 5/10\n",
            "283/283 [==============================] - 4s 15ms/step - loss: 2.3238 - accuracy: 0.6772 - val_loss: 2.2972 - val_accuracy: 0.7363\n",
            "Epoch 6/10\n",
            "283/283 [==============================] - 4s 16ms/step - loss: 2.3226 - accuracy: 0.6766 - val_loss: 2.2994 - val_accuracy: 0.7333\n",
            "Epoch 7/10\n",
            "283/283 [==============================] - 4s 15ms/step - loss: 2.3224 - accuracy: 0.6814 - val_loss: 2.2882 - val_accuracy: 0.7239\n",
            "Epoch 8/10\n",
            "283/283 [==============================] - 4s 16ms/step - loss: 2.3206 - accuracy: 0.6799 - val_loss: 2.2922 - val_accuracy: 0.7458\n",
            "Epoch 9/10\n",
            "283/283 [==============================] - 4s 15ms/step - loss: 2.3198 - accuracy: 0.6790 - val_loss: 2.2937 - val_accuracy: 0.7393\n",
            "Epoch 10/10\n",
            "283/283 [==============================] - 4s 15ms/step - loss: 2.3186 - accuracy: 0.6844 - val_loss: 2.2950 - val_accuracy: 0.7403\n",
            "310/310 - 1s - loss: 2.3100 - accuracy: 0.7130\n",
            "--------------------------------------------------------------------------------\n",
            "\n",
            "\t --> accuracy on test data : 71.303028% and loss : 2.3099940 <--\n",
            "\n",
            "--------------------------------------------------------------------------------\n",
            "Epoch 1/10\n",
            "283/283 [==============================] - 4s 15ms/step - loss: 2.3178 - accuracy: 0.6819 - val_loss: 2.2889 - val_accuracy: 0.7607\n",
            "Epoch 2/10\n",
            "283/283 [==============================] - 4s 15ms/step - loss: 2.3157 - accuracy: 0.6857 - val_loss: 2.2871 - val_accuracy: 0.7338\n",
            "Epoch 3/10\n",
            "283/283 [==============================] - 4s 15ms/step - loss: 2.3161 - accuracy: 0.6843 - val_loss: 2.2855 - val_accuracy: 0.7622\n",
            "Epoch 4/10\n",
            "283/283 [==============================] - 4s 15ms/step - loss: 2.3147 - accuracy: 0.6878 - val_loss: 2.2875 - val_accuracy: 0.7597\n",
            "Epoch 5/10\n",
            "283/283 [==============================] - 4s 15ms/step - loss: 2.3132 - accuracy: 0.6879 - val_loss: 2.2887 - val_accuracy: 0.7577\n",
            "Epoch 6/10\n",
            "283/283 [==============================] - 4s 16ms/step - loss: 2.3129 - accuracy: 0.6850 - val_loss: 2.2837 - val_accuracy: 0.7493\n",
            "Epoch 7/10\n",
            "283/283 [==============================] - 5s 16ms/step - loss: 2.3121 - accuracy: 0.6841 - val_loss: 2.2881 - val_accuracy: 0.7547\n",
            "Epoch 8/10\n",
            "283/283 [==============================] - 4s 16ms/step - loss: 2.3109 - accuracy: 0.6886 - val_loss: 2.2819 - val_accuracy: 0.7522\n",
            "Epoch 9/10\n",
            "283/283 [==============================] - 5s 16ms/step - loss: 2.3090 - accuracy: 0.6892 - val_loss: 2.2846 - val_accuracy: 0.7527\n",
            "Epoch 10/10\n",
            "283/283 [==============================] - 5s 17ms/step - loss: 2.3082 - accuracy: 0.6947 - val_loss: 2.2833 - val_accuracy: 0.7612\n",
            "310/310 - 1s - loss: 2.3027 - accuracy: 0.7225\n",
            "--------------------------------------------------------------------------------\n",
            "\n",
            "\t --> accuracy on test data : 72.252524% and loss : 2.3026695 <--\n",
            "\n",
            "--------------------------------------------------------------------------------\n",
            "Epoch 1/10\n",
            "283/283 [==============================] - 5s 16ms/step - loss: 2.3096 - accuracy: 0.6879 - val_loss: 2.2666 - val_accuracy: 0.7781\n",
            "Epoch 2/10\n",
            "283/283 [==============================] - 4s 15ms/step - loss: 2.3067 - accuracy: 0.6902 - val_loss: 2.2653 - val_accuracy: 0.7900\n",
            "Epoch 3/10\n",
            "283/283 [==============================] - 4s 15ms/step - loss: 2.3059 - accuracy: 0.6955 - val_loss: 2.2611 - val_accuracy: 0.7781\n",
            "Epoch 4/10\n",
            "283/283 [==============================] - 4s 15ms/step - loss: 2.3049 - accuracy: 0.6934 - val_loss: 2.2627 - val_accuracy: 0.7846\n",
            "Epoch 5/10\n",
            "283/283 [==============================] - 4s 16ms/step - loss: 2.3047 - accuracy: 0.6954 - val_loss: 2.2638 - val_accuracy: 0.7697\n",
            "Epoch 6/10\n",
            "283/283 [==============================] - 4s 15ms/step - loss: 2.3045 - accuracy: 0.6949 - val_loss: 2.2644 - val_accuracy: 0.7970\n",
            "Epoch 7/10\n",
            "283/283 [==============================] - 4s 15ms/step - loss: 2.3025 - accuracy: 0.6906 - val_loss: 2.2637 - val_accuracy: 0.7930\n",
            "Epoch 8/10\n",
            "283/283 [==============================] - 4s 16ms/step - loss: 2.3014 - accuracy: 0.6959 - val_loss: 2.2623 - val_accuracy: 0.7846\n",
            "Epoch 9/10\n",
            "283/283 [==============================] - 4s 16ms/step - loss: 2.3000 - accuracy: 0.6985 - val_loss: 2.2594 - val_accuracy: 0.7741\n",
            "Epoch 10/10\n",
            "283/283 [==============================] - 4s 16ms/step - loss: 2.3000 - accuracy: 0.6972 - val_loss: 2.2566 - val_accuracy: 0.7751\n",
            "310/310 - 1s - loss: 2.2881 - accuracy: 0.7119\n",
            "--------------------------------------------------------------------------------\n",
            "\n",
            "\t --> accuracy on test data : 71.191919% and loss : 2.2881014 <--\n",
            "\n",
            "--------------------------------------------------------------------------------\n",
            "Epoch 1/10\n",
            "283/283 [==============================] - 5s 16ms/step - loss: 2.2978 - accuracy: 0.7033 - val_loss: 2.2699 - val_accuracy: 0.7811\n",
            "Epoch 2/10\n",
            "283/283 [==============================] - 5s 16ms/step - loss: 2.2974 - accuracy: 0.6999 - val_loss: 2.2739 - val_accuracy: 0.7706\n",
            "Epoch 3/10\n",
            "283/283 [==============================] - 5s 17ms/step - loss: 2.2978 - accuracy: 0.6988 - val_loss: 2.2654 - val_accuracy: 0.7766\n",
            "Epoch 4/10\n",
            "283/283 [==============================] - 4s 16ms/step - loss: 2.2944 - accuracy: 0.7048 - val_loss: 2.2667 - val_accuracy: 0.7786\n",
            "Epoch 5/10\n",
            "283/283 [==============================] - 5s 16ms/step - loss: 2.2943 - accuracy: 0.7000 - val_loss: 2.2683 - val_accuracy: 0.7811\n",
            "Epoch 6/10\n",
            "283/283 [==============================] - 4s 15ms/step - loss: 2.2933 - accuracy: 0.7036 - val_loss: 2.2650 - val_accuracy: 0.7766\n",
            "Epoch 7/10\n",
            "283/283 [==============================] - 4s 16ms/step - loss: 2.2922 - accuracy: 0.7079 - val_loss: 2.2649 - val_accuracy: 0.7672\n",
            "Epoch 8/10\n",
            "283/283 [==============================] - 4s 15ms/step - loss: 2.2916 - accuracy: 0.7060 - val_loss: 2.2650 - val_accuracy: 0.7796\n",
            "Epoch 9/10\n",
            "283/283 [==============================] - 4s 16ms/step - loss: 2.2899 - accuracy: 0.7097 - val_loss: 2.2639 - val_accuracy: 0.7796\n",
            "Epoch 10/10\n",
            "283/283 [==============================] - 4s 15ms/step - loss: 2.2898 - accuracy: 0.7087 - val_loss: 2.2623 - val_accuracy: 0.7751\n",
            "310/310 - 1s - loss: 2.2863 - accuracy: 0.7228\n",
            "--------------------------------------------------------------------------------\n",
            "\n",
            "\t --> accuracy on test data : 72.282827% and loss : 2.2863462 <--\n",
            "\n",
            "--------------------------------------------------------------------------------\n",
            "Epoch 1/10\n",
            "283/283 [==============================] - 5s 16ms/step - loss: 2.2890 - accuracy: 0.7058 - val_loss: 2.2533 - val_accuracy: 0.7667\n",
            "Epoch 2/10\n",
            "283/283 [==============================] - 5s 16ms/step - loss: 2.2877 - accuracy: 0.7062 - val_loss: 2.2546 - val_accuracy: 0.7806\n",
            "Epoch 3/10\n",
            "283/283 [==============================] - 4s 15ms/step - loss: 2.2869 - accuracy: 0.7103 - val_loss: 2.2541 - val_accuracy: 0.7582\n",
            "Epoch 4/10\n",
            "283/283 [==============================] - 4s 15ms/step - loss: 2.2859 - accuracy: 0.7109 - val_loss: 2.2556 - val_accuracy: 0.7831\n",
            "Epoch 5/10\n",
            "283/283 [==============================] - 4s 15ms/step - loss: 2.2845 - accuracy: 0.7165 - val_loss: 2.2563 - val_accuracy: 0.7821\n",
            "Epoch 6/10\n",
            "283/283 [==============================] - 4s 16ms/step - loss: 2.2837 - accuracy: 0.7142 - val_loss: 2.2470 - val_accuracy: 0.7612\n",
            "Epoch 7/10\n",
            "283/283 [==============================] - 5s 16ms/step - loss: 2.2843 - accuracy: 0.7089 - val_loss: 2.2527 - val_accuracy: 0.7796\n",
            "Epoch 8/10\n",
            "283/283 [==============================] - 4s 15ms/step - loss: 2.2813 - accuracy: 0.7172 - val_loss: 2.2514 - val_accuracy: 0.7786\n",
            "Epoch 9/10\n",
            "283/283 [==============================] - 4s 15ms/step - loss: 2.2807 - accuracy: 0.7150 - val_loss: 2.2513 - val_accuracy: 0.7806\n",
            "Epoch 10/10\n",
            "283/283 [==============================] - 4s 15ms/step - loss: 2.2809 - accuracy: 0.7151 - val_loss: 2.2492 - val_accuracy: 0.7791\n",
            "310/310 - 1s - loss: 2.2793 - accuracy: 0.7220\n",
            "--------------------------------------------------------------------------------\n",
            "\n",
            "\t --> accuracy on test data : 72.202021% and loss : 2.2793291 <--\n",
            "\n",
            "--------------------------------------------------------------------------------\n",
            "Epoch 1/10\n",
            "283/283 [==============================] - 4s 15ms/step - loss: 2.2803 - accuracy: 0.7132 - val_loss: 2.2485 - val_accuracy: 0.7507\n",
            "Epoch 2/10\n",
            "283/283 [==============================] - 4s 15ms/step - loss: 2.2792 - accuracy: 0.7154 - val_loss: 2.2477 - val_accuracy: 0.7851\n",
            "Epoch 3/10\n",
            "283/283 [==============================] - 4s 15ms/step - loss: 2.2774 - accuracy: 0.7171 - val_loss: 2.2455 - val_accuracy: 0.7796\n",
            "Epoch 4/10\n",
            "283/283 [==============================] - 4s 15ms/step - loss: 2.2768 - accuracy: 0.7187 - val_loss: 2.2442 - val_accuracy: 0.7886\n",
            "Epoch 5/10\n",
            "283/283 [==============================] - 4s 15ms/step - loss: 2.2761 - accuracy: 0.7198 - val_loss: 2.2459 - val_accuracy: 0.7756\n",
            "Epoch 6/10\n",
            "283/283 [==============================] - 4s 15ms/step - loss: 2.2750 - accuracy: 0.7215 - val_loss: 2.2458 - val_accuracy: 0.7836\n",
            "Epoch 7/10\n",
            "283/283 [==============================] - 4s 15ms/step - loss: 2.2738 - accuracy: 0.7220 - val_loss: 2.2492 - val_accuracy: 0.7806\n",
            "Epoch 8/10\n",
            "283/283 [==============================] - 4s 15ms/step - loss: 2.2730 - accuracy: 0.7231 - val_loss: 2.2438 - val_accuracy: 0.7866\n",
            "Epoch 9/10\n",
            "283/283 [==============================] - 4s 15ms/step - loss: 2.2721 - accuracy: 0.7237 - val_loss: 2.2432 - val_accuracy: 0.7881\n",
            "Epoch 10/10\n",
            "283/283 [==============================] - 4s 15ms/step - loss: 2.2714 - accuracy: 0.7204 - val_loss: 2.2446 - val_accuracy: 0.7896\n",
            "310/310 - 1s - loss: 2.2751 - accuracy: 0.7278\n",
            "--------------------------------------------------------------------------------\n",
            "\n",
            "\t --> accuracy on test data : 72.777778% and loss : 2.2751327 <--\n",
            "\n",
            "--------------------------------------------------------------------------------\n",
            "done\n",
            "CPU times: user 6min 35s, sys: 1min 28s, total: 8min 4s\n",
            "Wall time: 8min 4s\n"
          ],
          "name": "stdout"
        }
      ]
    },
    {
      "cell_type": "code",
      "metadata": {
        "colab": {
          "base_uri": "https://localhost:8080/"
        },
        "id": "_Rwg3kBvU2Pq",
        "outputId": "bae7f224-e3ae-4c9a-9397-71b9aa205db3"
      },
      "source": [
        "print('saving model...')\n",
        "model.save('content/final_DLModel1_run2_training2')\n",
        "print('saved')"
      ],
      "execution_count": null,
      "outputs": [
        {
          "output_type": "stream",
          "text": [
            "saving model...\n",
            "INFO:tensorflow:Assets written to: content/final_DLModel1_run2_training2/assets\n",
            "saved\n"
          ],
          "name": "stdout"
        }
      ]
    },
    {
      "cell_type": "code",
      "metadata": {
        "id": "PRdhjeYnW-20"
      },
      "source": [
        "!zip -r /content/final_DLModel1_run2_training2.zip /content/content/final_DLModel1_run2_training2"
      ],
      "execution_count": null,
      "outputs": []
    },
    {
      "cell_type": "code",
      "metadata": {
        "id": "_NAeXXgbXGy6"
      },
      "source": [
        "!cp '/content/final_DLModel1_run2.zip' '/content/drive/My Drive/datasets/LanguageDataset/final_changes/DL_models'\n",
        "!echo done"
      ],
      "execution_count": null,
      "outputs": []
    }
  ]
}