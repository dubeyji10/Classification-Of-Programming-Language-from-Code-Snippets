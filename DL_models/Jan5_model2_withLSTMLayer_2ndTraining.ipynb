{
  "nbformat": 4,
  "nbformat_minor": 0,
  "metadata": {
    "colab": {
      "name": "Jan5_model2_withLSTMLayer_2ndTraining.ipynb",
      "provenance": [],
      "collapsed_sections": [],
      "toc_visible": true
    },
    "kernelspec": {
      "name": "python3",
      "display_name": "Python 3"
    },
    "accelerator": "GPU"
  },
  "cells": [
    {
      "cell_type": "code",
      "metadata": {
        "id": "AM6n_chvOePz"
      },
      "source": [
        "#@title Version 2.2 <br> 2nd training of the Jan5_model2_withLSTMLayer"
      ],
      "execution_count": 1,
      "outputs": []
    },
    {
      "cell_type": "markdown",
      "metadata": {
        "id": "yN7EMueFdI7Q"
      },
      "source": [
        "tokenizer_Jan5_v3"
      ]
    },
    {
      "cell_type": "markdown",
      "metadata": {
        "id": "LBPQTduwOnJQ"
      },
      "source": [
        "### imports and mounting drive"
      ]
    },
    {
      "cell_type": "code",
      "metadata": {
        "colab": {
          "base_uri": "https://localhost:8080/"
        },
        "id": "0gKzyWWtOa2N",
        "outputId": "f31b614b-3283-45ea-d9b5-3de4e6dd73d9"
      },
      "source": [
        "import pandas as pd\n",
        "import matplotlib.pyplot as plt\n",
        "import numpy as np\n",
        "import os\n",
        "from os import listdir\n",
        "from os.path import isfile, join\n",
        "from google.colab import drive\n",
        "drive.mount('/content/drive')"
      ],
      "execution_count": 2,
      "outputs": [
        {
          "output_type": "stream",
          "text": [
            "Mounted at /content/drive\n"
          ],
          "name": "stdout"
        }
      ]
    },
    {
      "cell_type": "code",
      "metadata": {
        "colab": {
          "base_uri": "https://localhost:8080/"
        },
        "id": "VKDnJiYJOvCF",
        "outputId": "48a54c28-a8f5-4fac-91d3-d73856067287"
      },
      "source": [
        "!mkdir dataset\n",
        "!ls"
      ],
      "execution_count": 3,
      "outputs": [
        {
          "output_type": "stream",
          "text": [
            "dataset  drive\tsample_data\n"
          ],
          "name": "stdout"
        }
      ]
    },
    {
      "cell_type": "markdown",
      "metadata": {
        "id": "GpVvlc2SO3kI"
      },
      "source": [
        "### Copy dataset"
      ]
    },
    {
      "cell_type": "code",
      "metadata": {
        "colab": {
          "base_uri": "https://localhost:8080/"
        },
        "id": "Z3NyZ-K0OxGY",
        "outputId": "4528053b-35ce-44cb-c0b7-fab06547d0e0"
      },
      "source": [
        "\n",
        "!cp '/content/drive/MyDrive/datasets/LanguageDataset/final_changes/final_dataset_3.csv' /content/dataset/\n",
        "! echo copied final_dataset_3\n"
      ],
      "execution_count": 4,
      "outputs": [
        {
          "output_type": "stream",
          "text": [
            "copied final_dataset_3\n"
          ],
          "name": "stdout"
        }
      ]
    },
    {
      "cell_type": "code",
      "metadata": {
        "colab": {
          "base_uri": "https://localhost:8080/",
          "height": 419
        },
        "id": "lzx8-Q4LO14n",
        "outputId": "988e37cc-f50a-446e-b49b-1e3fcc46fbdf"
      },
      "source": [
        "data = pd.read_csv('/content/dataset/final_dataset_3.csv')\n",
        "data"
      ],
      "execution_count": 5,
      "outputs": [
        {
          "output_type": "execute_result",
          "data": {
            "text/html": [
              "<div>\n",
              "<style scoped>\n",
              "    .dataframe tbody tr th:only-of-type {\n",
              "        vertical-align: middle;\n",
              "    }\n",
              "\n",
              "    .dataframe tbody tr th {\n",
              "        vertical-align: top;\n",
              "    }\n",
              "\n",
              "    .dataframe thead th {\n",
              "        text-align: right;\n",
              "    }\n",
              "</style>\n",
              "<table border=\"1\" class=\"dataframe\">\n",
              "  <thead>\n",
              "    <tr style=\"text-align: right;\">\n",
              "      <th></th>\n",
              "      <th>Language</th>\n",
              "      <th>Source</th>\n",
              "    </tr>\n",
              "  </thead>\n",
              "  <tbody>\n",
              "    <tr>\n",
              "      <th>0</th>\n",
              "      <td>bash</td>\n",
              "      <td>foo a1 b2 b3 b4 ...\\n\\n</td>\n",
              "    </tr>\n",
              "    <tr>\n",
              "      <th>1</th>\n",
              "      <td>bash</td>\n",
              "      <td>unset\\na\\nb\\nc\\nMY_VARIABLE\\nmake foo\\nexport ...</td>\n",
              "    </tr>\n",
              "    <tr>\n",
              "      <th>2</th>\n",
              "      <td>bash</td>\n",
              "      <td>SUCCESS=false\\nDEPLOY_PATH=/apps/jboss/server/...</td>\n",
              "    </tr>\n",
              "    <tr>\n",
              "      <th>3</th>\n",
              "      <td>bash</td>\n",
              "      <td>.bashrc\\nhas_gitbranch() {\\n  if [ -e .git ]; ...</td>\n",
              "    </tr>\n",
              "    <tr>\n",
              "      <th>4</th>\n",
              "      <td>bash</td>\n",
              "      <td>foo foo      scaffold_7      1 4845 6422 4845\\...</td>\n",
              "    </tr>\n",
              "    <tr>\n",
              "      <th>...</th>\n",
              "      <td>...</td>\n",
              "      <td>...</td>\n",
              "    </tr>\n",
              "    <tr>\n",
              "      <th>44995</th>\n",
              "      <td>swift</td>\n",
              "      <td>@protocol ALAdLoadDelegate &lt;NSObject&gt;\\n-(void)...</td>\n",
              "    </tr>\n",
              "    <tr>\n",
              "      <th>44996</th>\n",
              "      <td>swift</td>\n",
              "      <td>func tableView(tableView: UITableView!, didSel...</td>\n",
              "    </tr>\n",
              "    <tr>\n",
              "      <th>44997</th>\n",
              "      <td>swift</td>\n",
              "      <td>override func touchesBegan(touches: NSSet, wi...</td>\n",
              "    </tr>\n",
              "    <tr>\n",
              "      <th>44998</th>\n",
              "      <td>swift</td>\n",
              "      <td>override func viewDidLoad()\\n{\\n    super.view...</td>\n",
              "    </tr>\n",
              "    <tr>\n",
              "      <th>44999</th>\n",
              "      <td>swift</td>\n",
              "      <td>presentTextInputControllerWithSuggestions\\nWat...</td>\n",
              "    </tr>\n",
              "  </tbody>\n",
              "</table>\n",
              "<p>45000 rows × 2 columns</p>\n",
              "</div>"
            ],
            "text/plain": [
              "      Language                                             Source\n",
              "0         bash                            foo a1 b2 b3 b4 ...\\n\\n\n",
              "1         bash  unset\\na\\nb\\nc\\nMY_VARIABLE\\nmake foo\\nexport ...\n",
              "2         bash  SUCCESS=false\\nDEPLOY_PATH=/apps/jboss/server/...\n",
              "3         bash  .bashrc\\nhas_gitbranch() {\\n  if [ -e .git ]; ...\n",
              "4         bash  foo foo      scaffold_7      1 4845 6422 4845\\...\n",
              "...        ...                                                ...\n",
              "44995    swift  @protocol ALAdLoadDelegate <NSObject>\\n-(void)...\n",
              "44996    swift  func tableView(tableView: UITableView!, didSel...\n",
              "44997    swift   override func touchesBegan(touches: NSSet, wi...\n",
              "44998    swift  override func viewDidLoad()\\n{\\n    super.view...\n",
              "44999    swift  presentTextInputControllerWithSuggestions\\nWat...\n",
              "\n",
              "[45000 rows x 2 columns]"
            ]
          },
          "metadata": {
            "tags": []
          },
          "execution_count": 5
        }
      ]
    },
    {
      "cell_type": "markdown",
      "metadata": {
        "id": "neNBwNa4O7wy"
      },
      "source": [
        "#### describing dataset"
      ]
    },
    {
      "cell_type": "code",
      "metadata": {
        "colab": {
          "base_uri": "https://localhost:8080/",
          "height": 369
        },
        "id": "IQgcneENO56B",
        "outputId": "f4048b34-81be-4874-fc67-6b328de78b1b"
      },
      "source": [
        "data.groupby('Language')['Source'].count().plot.bar(ylim=0,grid=False,color='#11100f')\n",
        "plt.xlabel('\\n languages')\n",
        "plt.ylabel('no of examples available')\n",
        "plt.title('Dataset')"
      ],
      "execution_count": 6,
      "outputs": [
        {
          "output_type": "execute_result",
          "data": {
            "text/plain": [
              "Text(0.5, 1.0, 'Dataset')"
            ]
          },
          "metadata": {
            "tags": []
          },
          "execution_count": 6
        },
        {
          "output_type": "display_data",
          "data": {
            "image/png": "[encoded data removed]",
            "text/plain": [
              "<Figure size 432x288 with 1 Axes>"
            ]
          },
          "metadata": {
            "tags": [],
            "needs_background": "light"
          }
        }
      ]
    },
    {
      "cell_type": "markdown",
      "metadata": {
        "id": "aO7q4fNQPBFo"
      },
      "source": [
        "### PREPROCESSING OF DATASET USING REGULAR EXPRESSION AND NLTK"
      ]
    },
    {
      "cell_type": "code",
      "metadata": {
        "colab": {
          "base_uri": "https://localhost:8080/"
        },
        "id": "Qotfaj1tO-Jh",
        "outputId": "2b41b5bc-609a-4593-efd1-3a554746fdf5"
      },
      "source": [
        "import re\n",
        "import nltk\n",
        "\n",
        "from nltk.corpus import stopwords\n",
        "from nltk.tokenize import word_tokenize\n",
        "\n",
        "nltk.download('stopwords')\n",
        "nltk.download('punkt')\n",
        "print('.....done')"
      ],
      "execution_count": 7,
      "outputs": [
        {
          "output_type": "stream",
          "text": [
            "[nltk_data] Downloading package stopwords to /root/nltk_data...\n",
            "[nltk_data]   Unzipping corpora/stopwords.zip.\n",
            "[nltk_data] Downloading package punkt to /root/nltk_data...\n",
            "[nltk_data]   Unzipping tokenizers/punkt.zip.\n",
            ".....done\n"
          ],
          "name": "stdout"
        }
      ]
    },
    {
      "cell_type": "code",
      "metadata": {
        "colab": {
          "base_uri": "https://localhost:8080/"
        },
        "id": "nBUBXrzePF8K",
        "outputId": "bf6c32d0-7853-48e9-830b-11a81323dc95"
      },
      "source": [
        "stopwords_list = stopwords.words('english')\n",
        "print(len(stopwords_list))\n",
        "stopwords_list.extend(['left','right','up','down','center','centre'])\n",
        "print(len(stopwords_list))\n",
        "stopwords_list.extend(['bottom','start','end','price','location','fix','here'])\n",
        "print(len(stopwords_list))\n"
      ],
      "execution_count": 8,
      "outputs": [
        {
          "output_type": "stream",
          "text": [
            "179\n",
            "185\n",
            "192\n"
          ],
          "name": "stdout"
        }
      ]
    },
    {
      "cell_type": "markdown",
      "metadata": {
        "id": "54iBuoP-POy-"
      },
      "source": [
        "### function to clean data"
      ]
    },
    {
      "cell_type": "code",
      "metadata": {
        "colab": {
          "base_uri": "https://localhost:8080/"
        },
        "id": "kXv4UW-dPQdC",
        "outputId": "f78cb7b1-1704-41bc-8deb-1c6af5be41b5"
      },
      "source": [
        "def expression1(text):\n",
        "    # remove single character\n",
        "\n",
        "    #removing url \n",
        "    text = re.sub(r\"http\\S+\", \"\", text)\n",
        "    text = re.sub(r'^https?://.*[\\r\\n]*', '', text, flags=re.MULTILINE)\n",
        "    text = re.sub(r'^http?://.*[\\r\\n]*', '', text, flags=re.MULTILINE)\n",
        "    text = re.sub(r'^www?://.*[\\r\\n]*', '', text, flags=re.MULTILINE)\n",
        "\n",
        "    text = ' '.join(['' if len(i)==1 else i for i in text.split()])\n",
        "    \n",
        "    # text = re.sub('{','',text)\n",
        "    # text = re.sub('}','',text)\n",
        "    \n",
        "    # to remove '(' , ' )' , '[' , ']' ... replaced with a space \n",
        "    # text = re.sub('\\\\(',' ',text)\n",
        "    # text = re.sub('\\\\)',' ',text)\n",
        "    # text = re.sub('\\\\[',' ',text)\n",
        "    # text = re.sub('\\\\]',' ',text)\n",
        "    # replace . with a space\n",
        "    # text = re.sub('\\\\.',' ',text)\n",
        "    \n",
        "    # remove unicode\n",
        "    \n",
        "    text = re.sub(r'(\\\\u[0-9A-Fa-f]+)',r'', text)       \n",
        "    text = re.sub(r'[^\\x00-\\x7f]',r'',text)\n",
        "    \n",
        "    # remove digits\n",
        "    text = re.sub('[0-9]',' ',text)\n",
        "    \n",
        "    #     remove + - * / < >\n",
        "    text = re.sub('\\\\+',' ',text)\n",
        "    text = re.sub('\\\\=',' ',text)\n",
        "    text = re.sub('\\\\-',' ',text)\n",
        "    text = re.sub('\\\\*',' ',text)\n",
        "    text = re.sub('\\\\/',' ',text)\n",
        "    # text = re.sub('\\\\<',' ',text)\n",
        "    # text = re.sub('\\\\>',' ',text)\n",
        "#     text = re.sub('\\\\:',' ',text)\n",
        "    \n",
        "#     text = text.replace(':',r' : ')\n",
        "    \n",
        "    \n",
        "    #     text = ' '.join(text.split())\n",
        "\n",
        "    # replace single chars again \n",
        "    text = ' '.join(['' if len(i)==1 else i for i in text.split()])\n",
        "    \n",
        "    # spacing quoted statement\n",
        "    text = re.sub('\"',' \" ',text)\n",
        "    # replace url\n",
        "\n",
        "    text = re.sub('((www\\.[^\\s]+)|(https?://[^\\s]+))',' ',text)\n",
        "        #Replaces url address with \"url\" \n",
        "    # text = re.sub('((www\\.[^\\s]+)|(https?://[^\\s]+))',' ',text)\n",
        "\t  # text = re.sub(r'#([^\\s]+)', r'\\1',text)\n",
        "\n",
        "    return text\n",
        "\n",
        "# def replaceURL(text):\n",
        "\n",
        "def clean_code(text):\n",
        "  text = expression1(text)\n",
        "  text_tokens = word_tokenize(text)\n",
        "  tokens_without_stopwords = [word for word in text_tokens if not word in stopwords_list] \n",
        "  # stopwords.words()]\n",
        "  return ' '.join(tokens_without_stopwords)\n",
        "def clean_code2(text):\n",
        "  text = expression1(text)\n",
        "  if len(text)>1001 or len(text)<9:\n",
        "    return ''\n",
        "  else:\n",
        "    text_tokens = word_tokenize(text)\n",
        "    tokens_without_stopwords = [word for word in text_tokens if not word in stopwords_list] \n",
        "  # stopwords.words()]\n",
        "    return ' '.join(tokens_without_stopwords)\n",
        "\n",
        "print(\"TRY expresion1\")"
      ],
      "execution_count": 9,
      "outputs": [
        {
          "output_type": "stream",
          "text": [
            "TRY expresion1\n"
          ],
          "name": "stdout"
        }
      ]
    },
    {
      "cell_type": "code",
      "metadata": {
        "colab": {
          "base_uri": "https://localhost:8080/"
        },
        "id": "4esxjWM8QIZH",
        "outputId": "55f1ad3d-9278-4e4b-94b5-32fb9e0c4316"
      },
      "source": [
        "%%time\n",
        "\n",
        "line_7210 = data.iloc[15710]['Source']\n",
        "cleaned_7210 =  clean_code2(line_7210)\n",
        "\n",
        "print(line_7210 , '\\n ->',len(line_7210))\n",
        "print('-'*60,'\\n\\n')\n",
        "print(cleaned_7210,'\\n ->',len(cleaned_7210))\n"
      ],
      "execution_count": 10,
      "outputs": [
        {
          "output_type": "stream",
          "text": [
            "    String sql = \"select distinct changeset \" +\n",
            "            \"from Changeset changeset \" +\n",
            "            \"join fetch changeset.changeEntries as changeEntry \" +\n",
            "            \"join fetch changeEntry.repositoryEntity as repositoryEntity \" +\n",
            "            \"join fetch repositoryEntity.repository as repository \" +\n",
            "            \"where repository.connectionName = :connectionName\";\n",
            "\n",
            "public class Changeset {\n",
            "\n",
            "    @NotNull\n",
            "    @OneToMany(mappedBy=\"changeset\", targetEntity=ChangeEntry.class, cascade={CascadeType.ALL }, fetch=FetchType.EAGER )\n",
            "    private Set<IChangeEntry> changeEntries;\n",
            "\n",
            "public class ChangeEntry {\n",
            "\n",
            "    @NotNull\n",
            "    @ManyToOne(targetEntity=Changeset.class)\n",
            "    @ForeignKey(name=\"FkChangeEntryChangeset\")\n",
            "    private IScmChangeset changeset;\n",
            "\n",
            "    @NotNull\n",
            "    @ManyToOne(targetEntity=RepositoryEntity.class, cascade=CascadeType.ALL,fetch=FetchType.EAGER)\n",
            "    @ForeignKey(name=\"FkChangeEntryRepoEntity\")\n",
            "    private IRepositoryEntity repositoryEntity;\n",
            "\n",
            " \n",
            " -> 956\n",
            "------------------------------------------------------------ \n",
            "\n",
            "\n",
            "String sql `` select distinct changeset `` Changeset changeset `` join fetch changeset.changeEntries changeEntry `` join fetch changeEntry.repositoryEntity repositoryEntity `` join fetch repositoryEntity.repository repository `` repository.connectionName : connectionName `` ; public class Changeset @ NotNull @ OneToMany ( mappedBy `` changeset `` , targetEntity ChangeEntry.class , cascade { CascadeType.ALL } , fetch FetchType.EAGER private Set < IChangeEntry > changeEntries ; public class ChangeEntry @ NotNull @ ManyToOne ( targetEntity Changeset.class ) @ ForeignKey ( name `` FkChangeEntryChangeset `` ) private IScmChangeset changeset ; @ NotNull @ ManyToOne ( targetEntity RepositoryEntity.class , cascade CascadeType.ALL , fetch FetchType.EAGER ) @ ForeignKey ( name `` FkChangeEntryRepoEntity `` ) private IRepositoryEntity repositoryEntity ; \n",
            " -> 854\n",
            "CPU times: user 6.95 ms, sys: 4.09 ms, total: 11 ms\n",
            "Wall time: 10.7 ms\n"
          ],
          "name": "stdout"
        }
      ]
    },
    {
      "cell_type": "markdown",
      "metadata": {
        "id": "8JuzwlHvQStq"
      },
      "source": [
        "#### Cleaning dataset"
      ]
    },
    {
      "cell_type": "code",
      "metadata": {
        "colab": {
          "base_uri": "https://localhost:8080/"
        },
        "id": "Ld_D4fQmQMMp",
        "outputId": "798b1a33-e1cd-4a54-8d69-dc871b9449f9"
      },
      "source": [
        "%%time\n",
        "\n",
        "dataset_refined = data.copy()\n",
        "print('->created a copy')\n",
        "dataset_refined['Source'] =  dataset_refined['Source'].astype(str)\n",
        "print('\\n->as string')\n",
        "dataset_refined['Source'] =  dataset_refined['Source'].apply(clean_code)\n",
        "print('\\n->cleaned code with expression1')\n",
        "dataset_refined.to_csv('dataset/cleaned_data_3_v2.csv',index=None)\n",
        "print('\\n->saved cleaned csv , columns : ',dataset_refined.columns)\n",
        "\n",
        "print('done')"
      ],
      "execution_count": 11,
      "outputs": [
        {
          "output_type": "stream",
          "text": [
            "->created a copy\n",
            "\n",
            "->as string\n",
            "\n",
            "->cleaned code with expression1\n",
            "\n",
            "->saved cleaned csv , columns :  Index(['Language', 'Source'], dtype='object')\n",
            "done\n",
            "CPU times: user 33.7 s, sys: 57.2 ms, total: 33.7 s\n",
            "Wall time: 33.8 s\n"
          ],
          "name": "stdout"
        }
      ]
    },
    {
      "cell_type": "code",
      "metadata": {
        "colab": {
          "base_uri": "https://localhost:8080/",
          "height": 419
        },
        "id": "24JYUgCXQV4U",
        "outputId": "12d70dfe-7805-4555-8956-02fc7161bb10"
      },
      "source": [
        "df = pd.read_csv('/content/dataset/cleaned_data_3_v2.csv')\n",
        "df"
      ],
      "execution_count": 12,
      "outputs": [
        {
          "output_type": "execute_result",
          "data": {
            "text/html": [
              "<div>\n",
              "<style scoped>\n",
              "    .dataframe tbody tr th:only-of-type {\n",
              "        vertical-align: middle;\n",
              "    }\n",
              "\n",
              "    .dataframe tbody tr th {\n",
              "        vertical-align: top;\n",
              "    }\n",
              "\n",
              "    .dataframe thead th {\n",
              "        text-align: right;\n",
              "    }\n",
              "</style>\n",
              "<table border=\"1\" class=\"dataframe\">\n",
              "  <thead>\n",
              "    <tr style=\"text-align: right;\">\n",
              "      <th></th>\n",
              "      <th>Language</th>\n",
              "      <th>Source</th>\n",
              "    </tr>\n",
              "  </thead>\n",
              "  <tbody>\n",
              "    <tr>\n",
              "      <th>0</th>\n",
              "      <td>bash</td>\n",
              "      <td>foo ...</td>\n",
              "    </tr>\n",
              "    <tr>\n",
              "      <th>1</th>\n",
              "      <td>bash</td>\n",
              "      <td>unset MY_VARIABLE make foo export MY_VARIABLE ...</td>\n",
              "    </tr>\n",
              "    <tr>\n",
              "      <th>2</th>\n",
              "      <td>bash</td>\n",
              "      <td>SUCCESS false DEPLOY_PATH apps jboss server de...</td>\n",
              "    </tr>\n",
              "    <tr>\n",
              "      <th>3</th>\n",
              "      <td>bash</td>\n",
              "      <td>.bashrc has_gitbranch ( ) .git ] ; GIT_BRANCH ...</td>\n",
              "    </tr>\n",
              "    <tr>\n",
              "      <th>4</th>\n",
              "      <td>bash</td>\n",
              "      <td>foo foo scaffold_ bar bar scaffold_ awk ' { ( ...</td>\n",
              "    </tr>\n",
              "    <tr>\n",
              "      <th>...</th>\n",
              "      <td>...</td>\n",
              "      <td>...</td>\n",
              "    </tr>\n",
              "    <tr>\n",
              "      <th>44995</th>\n",
              "      <td>swift</td>\n",
              "      <td>@ protocol ALAdLoadDelegate &lt; NSObject &gt; ( voi...</td>\n",
              "    </tr>\n",
              "    <tr>\n",
              "      <th>44996</th>\n",
              "      <td>swift</td>\n",
              "      <td>func tableView ( tableView : UITableView ! , d...</td>\n",
              "    </tr>\n",
              "    <tr>\n",
              "      <th>44997</th>\n",
              "      <td>swift</td>\n",
              "      <td>override func touchesBegan ( touches : NSSet ,...</td>\n",
              "    </tr>\n",
              "    <tr>\n",
              "      <th>44998</th>\n",
              "      <td>swift</td>\n",
              "      <td>override func viewDidLoad ( ) super.viewDidLoa...</td>\n",
              "    </tr>\n",
              "    <tr>\n",
              "      <th>44999</th>\n",
              "      <td>swift</td>\n",
              "      <td>presentTextInputControllerWithSuggestions Watc...</td>\n",
              "    </tr>\n",
              "  </tbody>\n",
              "</table>\n",
              "<p>45000 rows × 2 columns</p>\n",
              "</div>"
            ],
            "text/plain": [
              "      Language                                             Source\n",
              "0         bash                                            foo ...\n",
              "1         bash  unset MY_VARIABLE make foo export MY_VARIABLE ...\n",
              "2         bash  SUCCESS false DEPLOY_PATH apps jboss server de...\n",
              "3         bash  .bashrc has_gitbranch ( ) .git ] ; GIT_BRANCH ...\n",
              "4         bash  foo foo scaffold_ bar bar scaffold_ awk ' { ( ...\n",
              "...        ...                                                ...\n",
              "44995    swift  @ protocol ALAdLoadDelegate < NSObject > ( voi...\n",
              "44996    swift  func tableView ( tableView : UITableView ! , d...\n",
              "44997    swift  override func touchesBegan ( touches : NSSet ,...\n",
              "44998    swift  override func viewDidLoad ( ) super.viewDidLoa...\n",
              "44999    swift  presentTextInputControllerWithSuggestions Watc...\n",
              "\n",
              "[45000 rows x 2 columns]"
            ]
          },
          "metadata": {
            "tags": []
          },
          "execution_count": 12
        }
      ]
    },
    {
      "cell_type": "code",
      "metadata": {
        "colab": {
          "base_uri": "https://localhost:8080/"
        },
        "id": "rfFZHo57YhPS",
        "outputId": "3ccf8b56-5b2f-436c-b3de-5c71b1934604"
      },
      "source": [
        "len(df)"
      ],
      "execution_count": 13,
      "outputs": [
        {
          "output_type": "execute_result",
          "data": {
            "text/plain": [
              "45000"
            ]
          },
          "metadata": {
            "tags": []
          },
          "execution_count": 13
        }
      ]
    },
    {
      "cell_type": "code",
      "metadata": {
        "colab": {
          "base_uri": "https://localhost:8080/"
        },
        "id": "5MQqZHtKYjDi",
        "outputId": "44d6d1b7-d792-451d-8d74-beefcc183699"
      },
      "source": [
        "cleaned_df = None\n",
        "print(cleaned_df)\n",
        "cleaned_df = df.dropna().copy()\n",
        "print(len(cleaned_df))"
      ],
      "execution_count": 14,
      "outputs": [
        {
          "output_type": "stream",
          "text": [
            "None\n",
            "44817\n"
          ],
          "name": "stdout"
        }
      ]
    },
    {
      "cell_type": "code",
      "metadata": {
        "colab": {
          "base_uri": "https://localhost:8080/"
        },
        "id": "y_k5ID4JQdFN",
        "outputId": "76196f7f-b1c4-4416-ff13-c8d5e1bd5136"
      },
      "source": [
        "%%time\n",
        "\n",
        "cleaned_df[\"lang_id\"] = cleaned_df['Language'].factorize()[0]\n",
        "print('>>> lang id created')\n",
        "lang_id_df = cleaned_df[['Language', 'lang_id']].drop_duplicates().sort_values('lang_id')\n",
        "print('>>> added to dataframe')\n",
        "lang_to_id = dict(lang_id_df.values)\n",
        "id_to_lang = dict(lang_id_df[['lang_id', 'Language']].values)\n",
        "print('>>> now columns : ',cleaned_df.columns)"
      ],
      "execution_count": 15,
      "outputs": [
        {
          "output_type": "stream",
          "text": [
            ">>> lang id created\n",
            ">>> added to dataframe\n",
            ">>> now columns :  Index(['Language', 'Source', 'lang_id'], dtype='object')\n",
            "CPU times: user 13.6 ms, sys: 994 µs, total: 14.6 ms\n",
            "Wall time: 15.1 ms\n"
          ],
          "name": "stdout"
        }
      ]
    },
    {
      "cell_type": "code",
      "metadata": {
        "colab": {
          "base_uri": "https://localhost:8080/",
          "height": 419
        },
        "id": "fegPD4XiQieN",
        "outputId": "87adb0f4-e8fe-4f2e-91ad-813015b9229b"
      },
      "source": [
        "cleaned_df"
      ],
      "execution_count": 16,
      "outputs": [
        {
          "output_type": "execute_result",
          "data": {
            "text/html": [
              "<div>\n",
              "<style scoped>\n",
              "    .dataframe tbody tr th:only-of-type {\n",
              "        vertical-align: middle;\n",
              "    }\n",
              "\n",
              "    .dataframe tbody tr th {\n",
              "        vertical-align: top;\n",
              "    }\n",
              "\n",
              "    .dataframe thead th {\n",
              "        text-align: right;\n",
              "    }\n",
              "</style>\n",
              "<table border=\"1\" class=\"dataframe\">\n",
              "  <thead>\n",
              "    <tr style=\"text-align: right;\">\n",
              "      <th></th>\n",
              "      <th>Language</th>\n",
              "      <th>Source</th>\n",
              "      <th>lang_id</th>\n",
              "    </tr>\n",
              "  </thead>\n",
              "  <tbody>\n",
              "    <tr>\n",
              "      <th>0</th>\n",
              "      <td>bash</td>\n",
              "      <td>foo ...</td>\n",
              "      <td>0</td>\n",
              "    </tr>\n",
              "    <tr>\n",
              "      <th>1</th>\n",
              "      <td>bash</td>\n",
              "      <td>unset MY_VARIABLE make foo export MY_VARIABLE ...</td>\n",
              "      <td>0</td>\n",
              "    </tr>\n",
              "    <tr>\n",
              "      <th>2</th>\n",
              "      <td>bash</td>\n",
              "      <td>SUCCESS false DEPLOY_PATH apps jboss server de...</td>\n",
              "      <td>0</td>\n",
              "    </tr>\n",
              "    <tr>\n",
              "      <th>3</th>\n",
              "      <td>bash</td>\n",
              "      <td>.bashrc has_gitbranch ( ) .git ] ; GIT_BRANCH ...</td>\n",
              "      <td>0</td>\n",
              "    </tr>\n",
              "    <tr>\n",
              "      <th>4</th>\n",
              "      <td>bash</td>\n",
              "      <td>foo foo scaffold_ bar bar scaffold_ awk ' { ( ...</td>\n",
              "      <td>0</td>\n",
              "    </tr>\n",
              "    <tr>\n",
              "      <th>...</th>\n",
              "      <td>...</td>\n",
              "      <td>...</td>\n",
              "      <td>...</td>\n",
              "    </tr>\n",
              "    <tr>\n",
              "      <th>44995</th>\n",
              "      <td>swift</td>\n",
              "      <td>@ protocol ALAdLoadDelegate &lt; NSObject &gt; ( voi...</td>\n",
              "      <td>14</td>\n",
              "    </tr>\n",
              "    <tr>\n",
              "      <th>44996</th>\n",
              "      <td>swift</td>\n",
              "      <td>func tableView ( tableView : UITableView ! , d...</td>\n",
              "      <td>14</td>\n",
              "    </tr>\n",
              "    <tr>\n",
              "      <th>44997</th>\n",
              "      <td>swift</td>\n",
              "      <td>override func touchesBegan ( touches : NSSet ,...</td>\n",
              "      <td>14</td>\n",
              "    </tr>\n",
              "    <tr>\n",
              "      <th>44998</th>\n",
              "      <td>swift</td>\n",
              "      <td>override func viewDidLoad ( ) super.viewDidLoa...</td>\n",
              "      <td>14</td>\n",
              "    </tr>\n",
              "    <tr>\n",
              "      <th>44999</th>\n",
              "      <td>swift</td>\n",
              "      <td>presentTextInputControllerWithSuggestions Watc...</td>\n",
              "      <td>14</td>\n",
              "    </tr>\n",
              "  </tbody>\n",
              "</table>\n",
              "<p>44817 rows × 3 columns</p>\n",
              "</div>"
            ],
            "text/plain": [
              "      Language                                             Source  lang_id\n",
              "0         bash                                            foo ...        0\n",
              "1         bash  unset MY_VARIABLE make foo export MY_VARIABLE ...        0\n",
              "2         bash  SUCCESS false DEPLOY_PATH apps jboss server de...        0\n",
              "3         bash  .bashrc has_gitbranch ( ) .git ] ; GIT_BRANCH ...        0\n",
              "4         bash  foo foo scaffold_ bar bar scaffold_ awk ' { ( ...        0\n",
              "...        ...                                                ...      ...\n",
              "44995    swift  @ protocol ALAdLoadDelegate < NSObject > ( voi...       14\n",
              "44996    swift  func tableView ( tableView : UITableView ! , d...       14\n",
              "44997    swift  override func touchesBegan ( touches : NSSet ,...       14\n",
              "44998    swift  override func viewDidLoad ( ) super.viewDidLoa...       14\n",
              "44999    swift  presentTextInputControllerWithSuggestions Watc...       14\n",
              "\n",
              "[44817 rows x 3 columns]"
            ]
          },
          "metadata": {
            "tags": []
          },
          "execution_count": 16
        }
      ]
    },
    {
      "cell_type": "markdown",
      "metadata": {
        "id": "DBakVlKZQxIM"
      },
      "source": [
        "### copying tokenizer for converting sentences to sequences"
      ]
    },
    {
      "cell_type": "code",
      "metadata": {
        "colab": {
          "base_uri": "https://localhost:8080/"
        },
        "id": "CPVksSJDQ1fy",
        "outputId": "d7fee83e-9da9-40cc-e45c-d292b1264e14"
      },
      "source": [
        "# !cp '/content/drive/My Drive/datasets/LanguageDataset/final_changes/DL_models/tokenizer_model4_v2.pickle' '/content/dataset'\n",
        "\n",
        "!cp '/content/drive/My Drive/datasets/LanguageDataset/final_changes/DL_models/tokenizer_Jan5_v3.pickle' '/content/dataset'\n",
        "\n",
        "!echo done"
      ],
      "execution_count": 18,
      "outputs": [
        {
          "output_type": "stream",
          "text": [
            "done\n"
          ],
          "name": "stdout"
        }
      ]
    },
    {
      "cell_type": "code",
      "metadata": {
        "colab": {
          "base_uri": "https://localhost:8080/"
        },
        "id": "a4nVKtyaRB2o",
        "outputId": "47ae9d8b-641e-48d1-b885-cd481c2fdccc"
      },
      "source": [
        "%%time\n",
        "\n",
        "from tensorflow.keras.preprocessing.text import Tokenizer\n",
        "from tensorflow.keras.preprocessing.sequence import pad_sequences\n",
        "import pickle\n",
        "\n",
        "vocab_size = 10000\n",
        "trunc_type='post'\n",
        "oov_tok = \"<OOV>\"\n",
        "\n",
        "print('loading pickle')\n",
        "# loading\n",
        "with open('/content/dataset/tokenizer_Jan5_v3.pickle', 'rb') as handle:\n",
        "    tokenizer = pickle.load(handle)\n",
        "\n",
        "print('loaded',type(tokenizer))"
      ],
      "execution_count": 19,
      "outputs": [
        {
          "output_type": "stream",
          "text": [
            "loading pickle\n",
            "loaded <class 'keras_preprocessing.text.Tokenizer'>\n",
            "CPU times: user 1.24 s, sys: 127 ms, total: 1.37 s\n",
            "Wall time: 1.37 s\n"
          ],
          "name": "stdout"
        }
      ]
    },
    {
      "cell_type": "code",
      "metadata": {
        "colab": {
          "base_uri": "https://localhost:8080/"
        },
        "id": "U-35pEcMRCRP",
        "outputId": "7d5be67d-9346-4cb2-e7de-a6963b408fb0"
      },
      "source": [
        "tokenizer"
      ],
      "execution_count": 20,
      "outputs": [
        {
          "output_type": "execute_result",
          "data": {
            "text/plain": [
              "<keras_preprocessing.text.Tokenizer at 0x7f7ad82a07b8>"
            ]
          },
          "metadata": {
            "tags": []
          },
          "execution_count": 20
        }
      ]
    },
    {
      "cell_type": "code",
      "metadata": {
        "colab": {
          "base_uri": "https://localhost:8080/"
        },
        "id": "4IMVR80PRy3m",
        "outputId": "0569dc3b-1d54-4fae-c055-cf3ae08aa870"
      },
      "source": [
        "word_index = tokenizer.word_index\n",
        "print('len of word index',len(word_index)) # should be 80..."
      ],
      "execution_count": 21,
      "outputs": [
        {
          "output_type": "stream",
          "text": [
            "len of word index 80691\n"
          ],
          "name": "stdout"
        }
      ]
    },
    {
      "cell_type": "markdown",
      "metadata": {
        "id": "0PYaf-7WR4s8"
      },
      "source": [
        "### transform sentences using tokenizer"
      ]
    },
    {
      "cell_type": "code",
      "metadata": {
        "id": "WzRa5tD0R4fg"
      },
      "source": [
        "max_length = 1000\n",
        "trunc_type='post'"
      ],
      "execution_count": 22,
      "outputs": []
    },
    {
      "cell_type": "code",
      "metadata": {
        "colab": {
          "base_uri": "https://localhost:8080/"
        },
        "id": "SRp8job5R4Tv",
        "outputId": "c5655892-bcb4-454c-c4e6-fe85373ca4df"
      },
      "source": [
        "%%time\n",
        "print('converting whole data')\n",
        "X = tokenizer.texts_to_sequences(cleaned_df['Source'].values.astype('U'))\n",
        "print(' .... converted text to sequences' , type(X),'\\n ')\n",
        "print('-'*70)"
      ],
      "execution_count": 23,
      "outputs": [
        {
          "output_type": "stream",
          "text": [
            "converting whole data\n",
            " .... converted text to sequences <class 'list'> \n",
            " \n",
            "----------------------------------------------------------------------\n",
            "CPU times: user 5.33 s, sys: 1.65 s, total: 6.99 s\n",
            "Wall time: 6.99 s\n"
          ],
          "name": "stdout"
        }
      ]
    },
    {
      "cell_type": "markdown",
      "metadata": {
        "id": "nC3YFNv-SSI3"
      },
      "source": [
        "### pad sequences"
      ]
    },
    {
      "cell_type": "code",
      "metadata": {
        "colab": {
          "base_uri": "https://localhost:8080/"
        },
        "id": "-zA4GgQKSR5i",
        "outputId": "c334e8a2-59a2-44af-d2e0-18f6ee1c4451"
      },
      "source": [
        "%%time\n",
        "X_padded = pad_sequences(X,maxlen=max_length, truncating=trunc_type)\n",
        "print('sequence padded')\n",
        "print(type(X_padded),'\\n padded to ',X_padded.shape)"
      ],
      "execution_count": 24,
      "outputs": [
        {
          "output_type": "stream",
          "text": [
            "sequence padded\n",
            "<class 'numpy.ndarray'> \n",
            " padded to  (44817, 1000)\n",
            "CPU times: user 342 ms, sys: 917 µs, total: 343 ms\n",
            "Wall time: 345 ms\n"
          ],
          "name": "stdout"
        }
      ]
    },
    {
      "cell_type": "markdown",
      "metadata": {
        "id": "JGkpQvcoSoBA"
      },
      "source": [
        "### Creating labels"
      ]
    },
    {
      "cell_type": "code",
      "metadata": {
        "colab": {
          "base_uri": "https://localhost:8080/"
        },
        "id": "HQskYMRtSpzD",
        "outputId": "5262365e-2fd2-4753-e59f-f698ddcf490f"
      },
      "source": [
        "Y = pd.get_dummies(cleaned_df['Language'].values.astype('U'))\n",
        "print('and Y : ',type(Y))\n",
        "y = np.asarray(Y)\n",
        "print(X_padded.shape , y.shape)"
      ],
      "execution_count": 25,
      "outputs": [
        {
          "output_type": "stream",
          "text": [
            "and Y :  <class 'pandas.core.frame.DataFrame'>\n",
            "(44817, 1000) (44817, 15)\n"
          ],
          "name": "stdout"
        }
      ]
    },
    {
      "cell_type": "markdown",
      "metadata": {
        "id": "t2w2QvOkQmPQ"
      },
      "source": [
        "#### Train Test Split <br> this time using sklearn.model_selection train test split"
      ]
    },
    {
      "cell_type": "code",
      "metadata": {
        "id": "yHb5v7vbQjfU"
      },
      "source": [
        "from sklearn.model_selection import train_test_split"
      ],
      "execution_count": 26,
      "outputs": []
    },
    {
      "cell_type": "code",
      "metadata": {
        "colab": {
          "base_uri": "https://localhost:8080/"
        },
        "id": "a2e1kDFaS3lf",
        "outputId": "468a200c-562f-4493-a48b-f5743e5b2068"
      },
      "source": [
        "%%time\n",
        "X_train, X_test, y_train, y_test = train_test_split( X_padded, y, test_size=0.33, random_state=42)\n",
        "\n",
        "print('training data : ',X_train.shape , ' ... ', y_train.shape)\n",
        "print('testing data : ',X_test.shape , ' ... ', y_test.shape)"
      ],
      "execution_count": 27,
      "outputs": [
        {
          "output_type": "stream",
          "text": [
            "training data :  (30027, 1000)  ...  (30027, 15)\n",
            "testing data :  (14790, 1000)  ...  (14790, 15)\n",
            "CPU times: user 56.8 ms, sys: 1.04 ms, total: 57.8 ms\n",
            "Wall time: 57.7 ms\n"
          ],
          "name": "stdout"
        }
      ]
    },
    {
      "cell_type": "markdown",
      "metadata": {
        "id": "6LB6Snc9TX0W"
      },
      "source": [
        "### Copy model"
      ]
    },
    {
      "cell_type": "code",
      "metadata": {
        "colab": {
          "base_uri": "https://localhost:8080/"
        },
        "id": "2bLKafmlTLdP",
        "outputId": "c4a8d580-ee9e-46af-cd63-74b73fc479d9"
      },
      "source": [
        "# !cp '/content/drive/My Drive/datasets/LanguageDataset/final_changes/DL_models/model4_use_tokenizer4_v2.zip' '/content/dataset'\n",
        "!cp '/content/drive/My Drive/datasets/LanguageDataset/final_changes/DL_models/Jan5_model3_withLSTM.zip' '/content/dataset'\n",
        "!echo copied"
      ],
      "execution_count": 28,
      "outputs": [
        {
          "output_type": "stream",
          "text": [
            "copied\n"
          ],
          "name": "stdout"
        }
      ]
    },
    {
      "cell_type": "markdown",
      "metadata": {
        "id": "6dkd2kC_Tn6G"
      },
      "source": [
        "### unzip"
      ]
    },
    {
      "cell_type": "code",
      "metadata": {
        "colab": {
          "base_uri": "https://localhost:8080/"
        },
        "id": "WIX8lL47Tico",
        "outputId": "7899c3c0-14b9-4227-bfa8-e9f92edc0928"
      },
      "source": [
        "!unzip '/content/dataset/Jan5_model3_withLSTM.zip'"
      ],
      "execution_count": 29,
      "outputs": [
        {
          "output_type": "stream",
          "text": [
            "Archive:  /content/dataset/Jan5_model3_withLSTM.zip\n",
            "   creating: content/content/Jan5_model3_withLSTM/\n",
            "  inflating: content/content/Jan5_model3_withLSTM/saved_model.pb  \n",
            "   creating: content/content/Jan5_model3_withLSTM/assets/\n",
            "   creating: content/content/Jan5_model3_withLSTM/variables/\n",
            "  inflating: content/content/Jan5_model3_withLSTM/variables/variables.index  \n",
            "  inflating: content/content/Jan5_model3_withLSTM/variables/variables.data-00000-of-00001  \n"
          ],
          "name": "stdout"
        }
      ]
    },
    {
      "cell_type": "code",
      "metadata": {
        "id": "Gl23igZUT-Fn"
      },
      "source": [
        "model_path = '/content/content/content/Jan5_model3_withLSTM'\n"
      ],
      "execution_count": 30,
      "outputs": []
    },
    {
      "cell_type": "markdown",
      "metadata": {
        "id": "CtVRaq_XULqR"
      },
      "source": [
        "### Loading the model"
      ]
    },
    {
      "cell_type": "code",
      "metadata": {
        "colab": {
          "base_uri": "https://localhost:8080/"
        },
        "id": "6YtFtnAEUGwR",
        "outputId": "6745b902-d7a1-45cf-c9ac-aed2a00f666c"
      },
      "source": [
        "%%time\n",
        "\n",
        "from keras.models import load_model\n",
        "\n",
        "model = load_model(model_path)\n",
        "print('loaded')"
      ],
      "execution_count": 31,
      "outputs": [
        {
          "output_type": "stream",
          "text": [
            "loaded\n",
            "CPU times: user 2.95 s, sys: 496 ms, total: 3.45 s\n",
            "Wall time: 8.09 s\n"
          ],
          "name": "stdout"
        }
      ]
    },
    {
      "cell_type": "code",
      "metadata": {
        "colab": {
          "base_uri": "https://localhost:8080/"
        },
        "id": "g0riwsA5UWU5",
        "outputId": "8d318834-b5a7-4145-dcc4-238eb897ac1c"
      },
      "source": [
        "model.summary()"
      ],
      "execution_count": 32,
      "outputs": [
        {
          "output_type": "stream",
          "text": [
            "Model: \"sequential\"\n",
            "_________________________________________________________________\n",
            "Layer (type)                 Output Shape              Param #   \n",
            "=================================================================\n",
            "embedding (Embedding)        (None, 1000, 32)          320000    \n",
            "_________________________________________________________________\n",
            "conv1d (Conv1D)              (None, 996, 128)          20608     \n",
            "_________________________________________________________________\n",
            "max_pooling1d (MaxPooling1D) (None, 199, 128)          0         \n",
            "_________________________________________________________________\n",
            "batch_normalization (BatchNo (None, 199, 128)          512       \n",
            "_________________________________________________________________\n",
            "activation (Activation)      (None, 199, 128)          0         \n",
            "_________________________________________________________________\n",
            "lstm (LSTM)                  (None, 64)                49408     \n",
            "_________________________________________________________________\n",
            "dropout (Dropout)            (None, 64)                0         \n",
            "_________________________________________________________________\n",
            "dense (Dense)                (None, 64)                4160      \n",
            "_________________________________________________________________\n",
            "batch_normalization_1 (Batch (None, 64)                256       \n",
            "_________________________________________________________________\n",
            "activation_1 (Activation)    (None, 64)                0         \n",
            "_________________________________________________________________\n",
            "flatten (Flatten)            (None, 64)                0         \n",
            "_________________________________________________________________\n",
            "dense_1 (Dense)              (None, 15)                975       \n",
            "_________________________________________________________________\n",
            "batch_normalization_2 (Batch (None, 15)                60        \n",
            "_________________________________________________________________\n",
            "activation_2 (Activation)    (None, 15)                0         \n",
            "_________________________________________________________________\n",
            "flatten_1 (Flatten)          (None, 15)                0         \n",
            "_________________________________________________________________\n",
            "activation_3 (Activation)    (None, 15)                0         \n",
            "=================================================================\n",
            "Total params: 395,979\n",
            "Trainable params: 395,565\n",
            "Non-trainable params: 414\n",
            "_________________________________________________________________\n"
          ],
          "name": "stdout"
        }
      ]
    },
    {
      "cell_type": "code",
      "metadata": {
        "id": "BJVSYT0kUhiL"
      },
      "source": [
        "from sklearn.model_selection import KFold\n",
        "\n",
        "# n_fold = 2\n",
        "# n_fold = 3 \n",
        "# n_fold = 5\n",
        "n_fold = 10\n",
        "\n",
        "k_fold = KFold(n_fold,shuffle=True,random_state=31)"
      ],
      "execution_count": 33,
      "outputs": []
    },
    {
      "cell_type": "code",
      "metadata": {
        "colab": {
          "base_uri": "https://localhost:8080/"
        },
        "id": "OESWPkqjUsHI",
        "outputId": "cd6468fc-b847-408b-8dc5-b82b681b7c4f"
      },
      "source": [
        "k_fold"
      ],
      "execution_count": 34,
      "outputs": [
        {
          "output_type": "execute_result",
          "data": {
            "text/plain": [
              "KFold(n_splits=10, random_state=31, shuffle=True)"
            ]
          },
          "metadata": {
            "tags": []
          },
          "execution_count": 34
        }
      ]
    },
    {
      "cell_type": "markdown",
      "metadata": {
        "id": "k_LWUuUnUny-"
      },
      "source": [
        "### Training the model"
      ]
    },
    {
      "cell_type": "code",
      "metadata": {
        "colab": {
          "base_uri": "https://localhost:8080/"
        },
        "id": "Z04W-hexUmwT",
        "outputId": "824b6c6d-2267-4586-f59c-499e12eafd31"
      },
      "source": [
        "%%time\n",
        "\n",
        "scores = []\n",
        "histories = []\n",
        "print('......... fitting the model again\\n')\n",
        "\n",
        "for train_iX,test_iX in k_fold.split(X_train):\n",
        "  # selecting rows for trainX and trainY first train data and then cross validation data\n",
        "  x_itrain,y_itrain,x_cv,y_cv = X_train[train_iX] , y_train[train_iX] , X_train[test_iX], y_train[test_iX]\n",
        "    # fit into model with batch sizes of 32 and epochs 10\n",
        "    # # history = my_model.fit(x_train,y_train,batch_size=32,epochs=10,verbose=1,validation_data=(x_cv,y_cv))\n",
        "  history = model.fit(x_itrain,y_itrain,batch_size=64,epochs=10,verbose=1,validation_data=(x_cv,y_cv))\n",
        "  # evaluate model\n",
        "  loss,acc = model.evaluate(X_test , y_test,verbose=2)\n",
        "  print('-'*80)\n",
        "  print('\\n\\t --> accuracy on test data : {:.6f}% and loss : {:.7f} <--\\n'.format(acc * 100.0,loss))\n",
        "  print('-'*80)\n",
        "    # # stores scores  \n",
        "  scores.append(acc)\n",
        "  histories.append(history)\n",
        "\n",
        "print('done')"
      ],
      "execution_count": 35,
      "outputs": [
        {
          "output_type": "stream",
          "text": [
            "......... fitting the model again\n",
            "\n",
            "Epoch 1/10\n",
            "423/423 [==============================] - 24s 36ms/step - loss: 2.3281 - accuracy: 0.6408 - val_loss: 2.2914 - val_accuracy: 0.6846\n",
            "Epoch 2/10\n",
            "423/423 [==============================] - 15s 34ms/step - loss: 2.3255 - accuracy: 0.6415 - val_loss: 2.2891 - val_accuracy: 0.6840\n",
            "Epoch 3/10\n",
            "423/423 [==============================] - 15s 35ms/step - loss: 2.3216 - accuracy: 0.6496 - val_loss: 2.2877 - val_accuracy: 0.6866\n",
            "Epoch 4/10\n",
            "423/423 [==============================] - 15s 35ms/step - loss: 2.3188 - accuracy: 0.6506 - val_loss: 2.2860 - val_accuracy: 0.6893\n",
            "Epoch 5/10\n",
            "423/423 [==============================] - 14s 32ms/step - loss: 2.3162 - accuracy: 0.6553 - val_loss: 2.2846 - val_accuracy: 0.6890\n",
            "Epoch 6/10\n",
            "423/423 [==============================] - 14s 33ms/step - loss: 2.3136 - accuracy: 0.6585 - val_loss: 2.2816 - val_accuracy: 0.6910\n",
            "Epoch 7/10\n",
            "423/423 [==============================] - 13s 30ms/step - loss: 2.3110 - accuracy: 0.6617 - val_loss: 2.2803 - val_accuracy: 0.6913\n",
            "Epoch 8/10\n",
            "423/423 [==============================] - 13s 31ms/step - loss: 2.3086 - accuracy: 0.6636 - val_loss: 2.2791 - val_accuracy: 0.6933\n",
            "Epoch 9/10\n",
            "423/423 [==============================] - 13s 32ms/step - loss: 2.3061 - accuracy: 0.6660 - val_loss: 2.2776 - val_accuracy: 0.6950\n",
            "Epoch 10/10\n",
            "423/423 [==============================] - 15s 35ms/step - loss: 2.3035 - accuracy: 0.6703 - val_loss: 2.2749 - val_accuracy: 0.7000\n",
            "463/463 - 3s - loss: 2.2743 - accuracy: 0.7051\n",
            "--------------------------------------------------------------------------------\n",
            "\n",
            "\t --> accuracy on test data : 70.507097% and loss : 2.2742605 <--\n",
            "\n",
            "--------------------------------------------------------------------------------\n",
            "Epoch 1/10\n",
            "423/423 [==============================] - 14s 34ms/step - loss: 2.3025 - accuracy: 0.6692 - val_loss: 2.2592 - val_accuracy: 0.7223\n",
            "Epoch 2/10\n",
            "423/423 [==============================] - 14s 32ms/step - loss: 2.3006 - accuracy: 0.6710 - val_loss: 2.2569 - val_accuracy: 0.7273\n",
            "Epoch 3/10\n",
            "423/423 [==============================] - 14s 32ms/step - loss: 2.2976 - accuracy: 0.6774 - val_loss: 2.2556 - val_accuracy: 0.7239\n",
            "Epoch 4/10\n",
            "423/423 [==============================] - 12s 27ms/step - loss: 2.2956 - accuracy: 0.6810 - val_loss: 2.2545 - val_accuracy: 0.7279\n",
            "Epoch 5/10\n",
            "423/423 [==============================] - 11s 26ms/step - loss: 2.2936 - accuracy: 0.6811 - val_loss: 2.2531 - val_accuracy: 0.7266\n",
            "Epoch 6/10\n",
            "423/423 [==============================] - 10s 24ms/step - loss: 2.2919 - accuracy: 0.6810 - val_loss: 2.2523 - val_accuracy: 0.7279\n",
            "Epoch 7/10\n",
            "423/423 [==============================] - 10s 24ms/step - loss: 2.2888 - accuracy: 0.6878 - val_loss: 2.2501 - val_accuracy: 0.7286\n",
            "Epoch 8/10\n",
            "423/423 [==============================] - 10s 24ms/step - loss: 2.2874 - accuracy: 0.6873 - val_loss: 2.2497 - val_accuracy: 0.7266\n",
            "Epoch 9/10\n",
            "423/423 [==============================] - 10s 24ms/step - loss: 2.2856 - accuracy: 0.6873 - val_loss: 2.2484 - val_accuracy: 0.7299\n",
            "Epoch 10/10\n",
            "423/423 [==============================] - 10s 24ms/step - loss: 2.2835 - accuracy: 0.6949 - val_loss: 2.2468 - val_accuracy: 0.7299\n",
            "463/463 - 3s - loss: 2.2606 - accuracy: 0.7126\n",
            "--------------------------------------------------------------------------------\n",
            "\n",
            "\t --> accuracy on test data : 71.257609% and loss : 2.2605901 <--\n",
            "\n",
            "--------------------------------------------------------------------------------\n",
            "Epoch 1/10\n",
            "423/423 [==============================] - 10s 24ms/step - loss: 2.2820 - accuracy: 0.6923 - val_loss: 2.2345 - val_accuracy: 0.7569\n",
            "Epoch 2/10\n",
            "423/423 [==============================] - 10s 23ms/step - loss: 2.2802 - accuracy: 0.6954 - val_loss: 2.2325 - val_accuracy: 0.7592\n",
            "Epoch 3/10\n",
            "423/423 [==============================] - 10s 23ms/step - loss: 2.2785 - accuracy: 0.6952 - val_loss: 2.2321 - val_accuracy: 0.7566\n",
            "Epoch 4/10\n",
            "423/423 [==============================] - 10s 23ms/step - loss: 2.2764 - accuracy: 0.6980 - val_loss: 2.2287 - val_accuracy: 0.7596\n",
            "Epoch 5/10\n",
            "423/423 [==============================] - 10s 23ms/step - loss: 2.2744 - accuracy: 0.7008 - val_loss: 2.2299 - val_accuracy: 0.7566\n",
            "Epoch 6/10\n",
            "423/423 [==============================] - 10s 23ms/step - loss: 2.2726 - accuracy: 0.7023 - val_loss: 2.2283 - val_accuracy: 0.7592\n",
            "Epoch 7/10\n",
            "423/423 [==============================] - 10s 23ms/step - loss: 2.2703 - accuracy: 0.7087 - val_loss: 2.2262 - val_accuracy: 0.7602\n",
            "Epoch 8/10\n",
            "423/423 [==============================] - 10s 23ms/step - loss: 2.2687 - accuracy: 0.7075 - val_loss: 2.2255 - val_accuracy: 0.7586\n",
            "Epoch 9/10\n",
            "423/423 [==============================] - 10s 23ms/step - loss: 2.2675 - accuracy: 0.7091 - val_loss: 2.2250 - val_accuracy: 0.7602\n",
            "Epoch 10/10\n",
            "423/423 [==============================] - 10s 23ms/step - loss: 2.2653 - accuracy: 0.7131 - val_loss: 2.2232 - val_accuracy: 0.7612\n",
            "463/463 - 3s - loss: 2.2479 - accuracy: 0.7181\n",
            "--------------------------------------------------------------------------------\n",
            "\n",
            "\t --> accuracy on test data : 71.812034% and loss : 2.2479455 <--\n",
            "\n",
            "--------------------------------------------------------------------------------\n",
            "Epoch 1/10\n",
            "423/423 [==============================] - 10s 23ms/step - loss: 2.2639 - accuracy: 0.7132 - val_loss: 2.2196 - val_accuracy: 0.7659\n",
            "Epoch 2/10\n",
            "423/423 [==============================] - 11s 25ms/step - loss: 2.2620 - accuracy: 0.7161 - val_loss: 2.2191 - val_accuracy: 0.7676\n",
            "Epoch 3/10\n",
            "423/423 [==============================] - 11s 25ms/step - loss: 2.2593 - accuracy: 0.7215 - val_loss: 2.2184 - val_accuracy: 0.7656\n",
            "Epoch 4/10\n",
            "423/423 [==============================] - 11s 27ms/step - loss: 2.2588 - accuracy: 0.7174 - val_loss: 2.2161 - val_accuracy: 0.7676\n",
            "Epoch 5/10\n",
            "423/423 [==============================] - 11s 26ms/step - loss: 2.2568 - accuracy: 0.7230 - val_loss: 2.2162 - val_accuracy: 0.7666\n",
            "Epoch 6/10\n",
            "423/423 [==============================] - 13s 30ms/step - loss: 2.2545 - accuracy: 0.7221 - val_loss: 2.2142 - val_accuracy: 0.7656\n",
            "Epoch 7/10\n",
            "423/423 [==============================] - 13s 30ms/step - loss: 2.2523 - accuracy: 0.7231 - val_loss: 2.2140 - val_accuracy: 0.7666\n",
            "Epoch 8/10\n",
            "423/423 [==============================] - 13s 31ms/step - loss: 2.2508 - accuracy: 0.7270 - val_loss: 2.2139 - val_accuracy: 0.7672\n",
            "Epoch 9/10\n",
            "423/423 [==============================] - 14s 33ms/step - loss: 2.2495 - accuracy: 0.7270 - val_loss: 2.2113 - val_accuracy: 0.7669\n",
            "Epoch 10/10\n",
            "423/423 [==============================] - 14s 33ms/step - loss: 2.2477 - accuracy: 0.7285 - val_loss: 2.2099 - val_accuracy: 0.7662\n",
            "463/463 - 3s - loss: 2.2362 - accuracy: 0.7240\n",
            "--------------------------------------------------------------------------------\n",
            "\n",
            "\t --> accuracy on test data : 72.400272% and loss : 2.2361712 <--\n",
            "\n",
            "--------------------------------------------------------------------------------\n",
            "Epoch 1/10\n",
            "423/423 [==============================] - 13s 32ms/step - loss: 2.2470 - accuracy: 0.7297 - val_loss: 2.2022 - val_accuracy: 0.7865\n",
            "Epoch 2/10\n",
            "423/423 [==============================] - 13s 31ms/step - loss: 2.2456 - accuracy: 0.7316 - val_loss: 2.2022 - val_accuracy: 0.7842\n",
            "Epoch 3/10\n",
            "423/423 [==============================] - 13s 31ms/step - loss: 2.2438 - accuracy: 0.7338 - val_loss: 2.2008 - val_accuracy: 0.7829\n",
            "Epoch 4/10\n",
            "423/423 [==============================] - 14s 32ms/step - loss: 2.2418 - accuracy: 0.7342 - val_loss: 2.1997 - val_accuracy: 0.7826\n",
            "Epoch 5/10\n",
            "423/423 [==============================] - 10s 23ms/step - loss: 2.2403 - accuracy: 0.7341 - val_loss: 2.1989 - val_accuracy: 0.7835\n",
            "Epoch 6/10\n",
            "423/423 [==============================] - 10s 23ms/step - loss: 2.2388 - accuracy: 0.7401 - val_loss: 2.1996 - val_accuracy: 0.7839\n",
            "Epoch 7/10\n",
            "423/423 [==============================] - 10s 23ms/step - loss: 2.2376 - accuracy: 0.7371 - val_loss: 2.1974 - val_accuracy: 0.7819\n",
            "Epoch 8/10\n",
            "423/423 [==============================] - 10s 23ms/step - loss: 2.2356 - accuracy: 0.7393 - val_loss: 2.1968 - val_accuracy: 0.7845\n",
            "Epoch 9/10\n",
            "423/423 [==============================] - 10s 23ms/step - loss: 2.2340 - accuracy: 0.7439 - val_loss: 2.1954 - val_accuracy: 0.7819\n",
            "Epoch 10/10\n",
            "423/423 [==============================] - 10s 23ms/step - loss: 2.2329 - accuracy: 0.7435 - val_loss: 2.1962 - val_accuracy: 0.7802\n",
            "463/463 - 3s - loss: 2.2274 - accuracy: 0.7272\n",
            "--------------------------------------------------------------------------------\n",
            "\n",
            "\t --> accuracy on test data : 72.718054% and loss : 2.2274487 <--\n",
            "\n",
            "--------------------------------------------------------------------------------\n",
            "Epoch 1/10\n",
            "423/423 [==============================] - 10s 23ms/step - loss: 2.2310 - accuracy: 0.7457 - val_loss: 2.1877 - val_accuracy: 0.7892\n",
            "Epoch 2/10\n",
            "423/423 [==============================] - 10s 23ms/step - loss: 2.2291 - accuracy: 0.7471 - val_loss: 2.1870 - val_accuracy: 0.7892\n",
            "Epoch 3/10\n",
            "423/423 [==============================] - 10s 24ms/step - loss: 2.2284 - accuracy: 0.7489 - val_loss: 2.1872 - val_accuracy: 0.7875\n",
            "Epoch 4/10\n",
            "423/423 [==============================] - 10s 23ms/step - loss: 2.2268 - accuracy: 0.7500 - val_loss: 2.1849 - val_accuracy: 0.7885\n",
            "Epoch 5/10\n",
            "423/423 [==============================] - 10s 23ms/step - loss: 2.2251 - accuracy: 0.7481 - val_loss: 2.1859 - val_accuracy: 0.7849\n",
            "Epoch 6/10\n",
            "423/423 [==============================] - 10s 23ms/step - loss: 2.2237 - accuracy: 0.7520 - val_loss: 2.1838 - val_accuracy: 0.7835\n",
            "Epoch 7/10\n",
            "423/423 [==============================] - 10s 23ms/step - loss: 2.2219 - accuracy: 0.7520 - val_loss: 2.1832 - val_accuracy: 0.7852\n",
            "Epoch 8/10\n",
            "423/423 [==============================] - 10s 24ms/step - loss: 2.2209 - accuracy: 0.7545 - val_loss: 2.1822 - val_accuracy: 0.7852\n",
            "Epoch 9/10\n",
            "423/423 [==============================] - 10s 24ms/step - loss: 2.2196 - accuracy: 0.7574 - val_loss: 2.1820 - val_accuracy: 0.7849\n",
            "Epoch 10/10\n",
            "423/423 [==============================] - 10s 23ms/step - loss: 2.2176 - accuracy: 0.7567 - val_loss: 2.1802 - val_accuracy: 0.7849\n",
            "463/463 - 3s - loss: 2.2168 - accuracy: 0.7300\n",
            "--------------------------------------------------------------------------------\n",
            "\n",
            "\t --> accuracy on test data : 72.995269% and loss : 2.2168393 <--\n",
            "\n",
            "--------------------------------------------------------------------------------\n",
            "Epoch 1/10\n",
            "423/423 [==============================] - 10s 23ms/step - loss: 2.2168 - accuracy: 0.7564 - val_loss: 2.1725 - val_accuracy: 0.8182\n",
            "Epoch 2/10\n",
            "423/423 [==============================] - 10s 23ms/step - loss: 2.2168 - accuracy: 0.7571 - val_loss: 2.1720 - val_accuracy: 0.8135\n",
            "Epoch 3/10\n",
            "423/423 [==============================] - 10s 23ms/step - loss: 2.2138 - accuracy: 0.7613 - val_loss: 2.1710 - val_accuracy: 0.8139\n",
            "Epoch 4/10\n",
            "423/423 [==============================] - 10s 23ms/step - loss: 2.2126 - accuracy: 0.7601 - val_loss: 2.1694 - val_accuracy: 0.8185\n",
            "Epoch 5/10\n",
            "423/423 [==============================] - 10s 24ms/step - loss: 2.2114 - accuracy: 0.7638 - val_loss: 2.1684 - val_accuracy: 0.8125\n",
            "Epoch 6/10\n",
            "423/423 [==============================] - 10s 23ms/step - loss: 2.2099 - accuracy: 0.7627 - val_loss: 2.1692 - val_accuracy: 0.8142\n",
            "Epoch 7/10\n",
            "423/423 [==============================] - 10s 23ms/step - loss: 2.2084 - accuracy: 0.7669 - val_loss: 2.1672 - val_accuracy: 0.8129\n",
            "Epoch 8/10\n",
            "423/423 [==============================] - 10s 23ms/step - loss: 2.2075 - accuracy: 0.7656 - val_loss: 2.1662 - val_accuracy: 0.8162\n",
            "Epoch 9/10\n",
            "423/423 [==============================] - 10s 23ms/step - loss: 2.2060 - accuracy: 0.7655 - val_loss: 2.1668 - val_accuracy: 0.8142\n",
            "Epoch 10/10\n",
            "423/423 [==============================] - 10s 23ms/step - loss: 2.2046 - accuracy: 0.7668 - val_loss: 2.1653 - val_accuracy: 0.8129\n",
            "463/463 - 3s - loss: 2.2088 - accuracy: 0.7336\n",
            "--------------------------------------------------------------------------------\n",
            "\n",
            "\t --> accuracy on test data : 73.360378% and loss : 2.2088354 <--\n",
            "\n",
            "--------------------------------------------------------------------------------\n",
            "Epoch 1/10\n",
            "423/423 [==============================] - 10s 24ms/step - loss: 2.2036 - accuracy: 0.7695 - val_loss: 2.1561 - val_accuracy: 0.8264\n",
            "Epoch 2/10\n",
            "423/423 [==============================] - 10s 24ms/step - loss: 2.2032 - accuracy: 0.7700 - val_loss: 2.1555 - val_accuracy: 0.8261\n",
            "Epoch 3/10\n",
            "423/423 [==============================] - 10s 23ms/step - loss: 2.2016 - accuracy: 0.7691 - val_loss: 2.1539 - val_accuracy: 0.8271\n",
            "Epoch 4/10\n",
            "423/423 [==============================] - 10s 23ms/step - loss: 2.2007 - accuracy: 0.7721 - val_loss: 2.1539 - val_accuracy: 0.8278\n",
            "Epoch 5/10\n",
            "423/423 [==============================] - 10s 23ms/step - loss: 2.1992 - accuracy: 0.7734 - val_loss: 2.1533 - val_accuracy: 0.8245\n",
            "Epoch 6/10\n",
            "423/423 [==============================] - 10s 23ms/step - loss: 2.1976 - accuracy: 0.7755 - val_loss: 2.1529 - val_accuracy: 0.8238\n",
            "Epoch 7/10\n",
            "423/423 [==============================] - 10s 23ms/step - loss: 2.1962 - accuracy: 0.7786 - val_loss: 2.1524 - val_accuracy: 0.8245\n",
            "Epoch 8/10\n",
            "423/423 [==============================] - 10s 23ms/step - loss: 2.1949 - accuracy: 0.7797 - val_loss: 2.1517 - val_accuracy: 0.8228\n",
            "Epoch 9/10\n",
            "423/423 [==============================] - 10s 23ms/step - loss: 2.1935 - accuracy: 0.7774 - val_loss: 2.1501 - val_accuracy: 0.8238\n",
            "Epoch 10/10\n",
            "423/423 [==============================] - 10s 24ms/step - loss: 2.1923 - accuracy: 0.7757 - val_loss: 2.1504 - val_accuracy: 0.8231\n",
            "463/463 - 3s - loss: 2.2014 - accuracy: 0.7348\n",
            "--------------------------------------------------------------------------------\n",
            "\n",
            "\t --> accuracy on test data : 73.475319% and loss : 2.2014017 <--\n",
            "\n",
            "--------------------------------------------------------------------------------\n",
            "Epoch 1/10\n",
            "423/423 [==============================] - 10s 24ms/step - loss: 2.1928 - accuracy: 0.7779 - val_loss: 2.1402 - val_accuracy: 0.8461\n",
            "Epoch 2/10\n",
            "423/423 [==============================] - 10s 24ms/step - loss: 2.1909 - accuracy: 0.7789 - val_loss: 2.1396 - val_accuracy: 0.8451\n",
            "Epoch 3/10\n",
            "423/423 [==============================] - 10s 23ms/step - loss: 2.1901 - accuracy: 0.7765 - val_loss: 2.1386 - val_accuracy: 0.8458\n",
            "Epoch 4/10\n",
            "423/423 [==============================] - 10s 23ms/step - loss: 2.1880 - accuracy: 0.7808 - val_loss: 2.1380 - val_accuracy: 0.8448\n",
            "Epoch 5/10\n",
            "423/423 [==============================] - 10s 23ms/step - loss: 2.1872 - accuracy: 0.7815 - val_loss: 2.1376 - val_accuracy: 0.8444\n",
            "Epoch 6/10\n",
            "423/423 [==============================] - 10s 23ms/step - loss: 2.1859 - accuracy: 0.7826 - val_loss: 2.1373 - val_accuracy: 0.8444\n",
            "Epoch 7/10\n",
            "423/423 [==============================] - 10s 23ms/step - loss: 2.1844 - accuracy: 0.7848 - val_loss: 2.1365 - val_accuracy: 0.8431\n",
            "Epoch 8/10\n",
            "423/423 [==============================] - 10s 24ms/step - loss: 2.1835 - accuracy: 0.7841 - val_loss: 2.1369 - val_accuracy: 0.8411\n",
            "Epoch 9/10\n",
            "423/423 [==============================] - 10s 24ms/step - loss: 2.1823 - accuracy: 0.7865 - val_loss: 2.1361 - val_accuracy: 0.8378\n",
            "Epoch 10/10\n",
            "423/423 [==============================] - 10s 24ms/step - loss: 2.1817 - accuracy: 0.7863 - val_loss: 2.1355 - val_accuracy: 0.8404\n",
            "463/463 - 3s - loss: 2.1946 - accuracy: 0.7362\n",
            "--------------------------------------------------------------------------------\n",
            "\n",
            "\t --> accuracy on test data : 73.617309% and loss : 2.1946173 <--\n",
            "\n",
            "--------------------------------------------------------------------------------\n",
            "Epoch 1/10\n",
            "423/423 [==============================] - 10s 24ms/step - loss: 2.1800 - accuracy: 0.7877 - val_loss: 2.1337 - val_accuracy: 0.8414\n",
            "Epoch 2/10\n",
            "423/423 [==============================] - 10s 23ms/step - loss: 2.1788 - accuracy: 0.7876 - val_loss: 2.1338 - val_accuracy: 0.8398\n",
            "Epoch 3/10\n",
            "423/423 [==============================] - 10s 23ms/step - loss: 2.1777 - accuracy: 0.7890 - val_loss: 2.1336 - val_accuracy: 0.8411\n",
            "Epoch 4/10\n",
            "423/423 [==============================] - 10s 23ms/step - loss: 2.1768 - accuracy: 0.7904 - val_loss: 2.1324 - val_accuracy: 0.8391\n",
            "Epoch 5/10\n",
            "423/423 [==============================] - 10s 23ms/step - loss: 2.1751 - accuracy: 0.7920 - val_loss: 2.1326 - val_accuracy: 0.8391\n",
            "Epoch 6/10\n",
            "423/423 [==============================] - 10s 23ms/step - loss: 2.1745 - accuracy: 0.7904 - val_loss: 2.1314 - val_accuracy: 0.8384\n",
            "Epoch 7/10\n",
            "423/423 [==============================] - 10s 23ms/step - loss: 2.1729 - accuracy: 0.7943 - val_loss: 2.1313 - val_accuracy: 0.8368\n",
            "Epoch 8/10\n",
            "423/423 [==============================] - 10s 23ms/step - loss: 2.1723 - accuracy: 0.7936 - val_loss: 2.1312 - val_accuracy: 0.8374\n",
            "Epoch 9/10\n",
            "423/423 [==============================] - 10s 24ms/step - loss: 2.1712 - accuracy: 0.7937 - val_loss: 2.1306 - val_accuracy: 0.8358\n",
            "Epoch 10/10\n",
            "423/423 [==============================] - 10s 24ms/step - loss: 2.1695 - accuracy: 0.7977 - val_loss: 2.1289 - val_accuracy: 0.8361\n",
            "463/463 - 3s - loss: 2.1869 - accuracy: 0.7381\n",
            "--------------------------------------------------------------------------------\n",
            "\n",
            "\t --> accuracy on test data : 73.813385% and loss : 2.1868966 <--\n",
            "\n",
            "--------------------------------------------------------------------------------\n",
            "done\n",
            "CPU times: user 15min 35s, sys: 3min 33s, total: 19min 9s\n",
            "Wall time: 18min 39s\n"
          ],
          "name": "stdout"
        }
      ]
    },
    {
      "cell_type": "code",
      "metadata": {
        "colab": {
          "base_uri": "https://localhost:8080/"
        },
        "id": "_Rwg3kBvU2Pq",
        "outputId": "6b290e32-0f1c-4d05-a6f7-bd24d9848c5f"
      },
      "source": [
        "print('saving model...')\n",
        "model.save('content/Jan5_model3_withLSTM_2ndTraining')\n",
        "print('saved')"
      ],
      "execution_count": 36,
      "outputs": [
        {
          "output_type": "stream",
          "text": [
            "saving model...\n"
          ],
          "name": "stdout"
        },
        {
          "output_type": "stream",
          "text": [
            "WARNING:absl:Found untraced functions such as lstm_cell_layer_call_fn, lstm_cell_layer_call_and_return_conditional_losses, lstm_cell_layer_call_fn, lstm_cell_layer_call_and_return_conditional_losses, lstm_cell_layer_call_and_return_conditional_losses while saving (showing 5 of 5). These functions will not be directly callable after loading.\n",
            "WARNING:absl:Found untraced functions such as lstm_cell_layer_call_fn, lstm_cell_layer_call_and_return_conditional_losses, lstm_cell_layer_call_fn, lstm_cell_layer_call_and_return_conditional_losses, lstm_cell_layer_call_and_return_conditional_losses while saving (showing 5 of 5). These functions will not be directly callable after loading.\n"
          ],
          "name": "stderr"
        },
        {
          "output_type": "stream",
          "text": [
            "INFO:tensorflow:Assets written to: content/Jan5_model3_withLSTM_2ndTraining/assets\n"
          ],
          "name": "stdout"
        },
        {
          "output_type": "stream",
          "text": [
            "INFO:tensorflow:Assets written to: content/Jan5_model3_withLSTM_2ndTraining/assets\n"
          ],
          "name": "stderr"
        },
        {
          "output_type": "stream",
          "text": [
            "saved\n"
          ],
          "name": "stdout"
        }
      ]
    },
    {
      "cell_type": "code",
      "metadata": {
        "id": "PRdhjeYnW-20",
        "colab": {
          "base_uri": "https://localhost:8080/"
        },
        "outputId": "bb345c16-d522-4399-f6d4-74d46daab55b"
      },
      "source": [
        "!zip -r /content/Jan5_model3_withLSTM_2ndTraining.zip /content/content/Jan5_model3_withLSTM_2ndTraining"
      ],
      "execution_count": 37,
      "outputs": [
        {
          "output_type": "stream",
          "text": [
            "  adding: content/content/Jan5_model3_withLSTM_2ndTraining/ (stored 0%)\n",
            "  adding: content/content/Jan5_model3_withLSTM_2ndTraining/saved_model.pb (deflated 88%)\n",
            "  adding: content/content/Jan5_model3_withLSTM_2ndTraining/assets/ (stored 0%)\n",
            "  adding: content/content/Jan5_model3_withLSTM_2ndTraining/variables/ (stored 0%)\n",
            "  adding: content/content/Jan5_model3_withLSTM_2ndTraining/variables/variables.index (deflated 69%)\n",
            "  adding: content/content/Jan5_model3_withLSTM_2ndTraining/variables/variables.data-00000-of-00001 (deflated 13%)\n"
          ],
          "name": "stdout"
        }
      ]
    },
    {
      "cell_type": "code",
      "metadata": {
        "id": "_NAeXXgbXGy6",
        "colab": {
          "base_uri": "https://localhost:8080/"
        },
        "outputId": "8e475f0d-226e-4c68-c9c7-4d198281556b"
      },
      "source": [
        "!cp '/content/Jan5_model3_withLSTM_2ndTraining.zip' '/content/drive/My Drive/datasets/LanguageDataset/final_changes/DL_models'\n",
        "!echo done"
      ],
      "execution_count": 38,
      "outputs": [
        {
          "output_type": "stream",
          "text": [
            "done\n"
          ],
          "name": "stdout"
        }
      ]
    },
    {
      "cell_type": "code",
      "metadata": {
        "id": "U7GMsRBHd3tm",
        "colab": {
          "base_uri": "https://localhost:8080/"
        },
        "outputId": "6bbe5a77-f146-4254-b91a-5fe8cf48ffd3"
      },
      "source": [
        "acc = []\n",
        "for i in range(10):\n",
        "  acc.extend(histories[i].history['accuracy'])\n",
        "print(len(acc))"
      ],
      "execution_count": 39,
      "outputs": [
        {
          "output_type": "stream",
          "text": [
            "100\n"
          ],
          "name": "stdout"
        }
      ]
    },
    {
      "cell_type": "code",
      "metadata": {
        "colab": {
          "base_uri": "https://localhost:8080/"
        },
        "id": "MM2TWHoEhbgy",
        "outputId": "daf47864-6e1a-42db-80ff-174eaa541da1"
      },
      "source": [
        "val_acc = []\n",
        "for i in range(10):\n",
        "  val_acc.extend(histories[i].history['val_accuracy'])\n",
        "print(len(val_acc))"
      ],
      "execution_count": 40,
      "outputs": [
        {
          "output_type": "stream",
          "text": [
            "100\n"
          ],
          "name": "stdout"
        }
      ]
    },
    {
      "cell_type": "code",
      "metadata": {
        "colab": {
          "base_uri": "https://localhost:8080/",
          "height": 325
        },
        "id": "4jNVLxY-hhkq",
        "outputId": "7415e8fa-d3f4-4417-8f02-bd02e9763ddb"
      },
      "source": [
        "plt.plot([i for i in range(0,len(acc))] ,acc,label='Training Accuracy')\n",
        "plt.plot([i for i in range(0,len(val_acc))] ,val_acc,label='Cross Validation Accuracy')\n",
        "\n",
        "plt.xlabel('epochs')\n",
        "plt.ylabel('accuracy')\n",
        "plt.suptitle('ACCURACY')\n",
        "plt.legend()"
      ],
      "execution_count": 42,
      "outputs": [
        {
          "output_type": "execute_result",
          "data": {
            "text/plain": [
              "<matplotlib.legend.Legend at 0x7f7a2563f3c8>"
            ]
          },
          "metadata": {
            "tags": []
          },
          "execution_count": 42
        },
        {
          "output_type": "display_data",
          "data": {
            "image/png": "[encoded data removed]",
            "text/plain": [
              "<Figure size 432x288 with 1 Axes>"
            ]
          },
          "metadata": {
            "tags": [],
            "needs_background": "light"
          }
        }
      ]
    },
    {
      "cell_type": "code",
      "metadata": {
        "colab": {
          "base_uri": "https://localhost:8080/",
          "height": 325
        },
        "id": "d44U7p4thqRo",
        "outputId": "d21300c5-35af-4552-afe7-55310b7b6b8d"
      },
      "source": [
        "plt.plot([i for i in range(1,len(scores)+1)] , scores,label='Testing Accuracy')\n",
        "plt.xlabel('epochs')\n",
        "plt.ylabel('accuracy')\n",
        "plt.suptitle('TESTING ACCURACY')\n",
        "plt.legend()"
      ],
      "execution_count": 43,
      "outputs": [
        {
          "output_type": "execute_result",
          "data": {
            "text/plain": [
              "<matplotlib.legend.Legend at 0x7f7a17502f98>"
            ]
          },
          "metadata": {
            "tags": []
          },
          "execution_count": 43
        },
        {
          "output_type": "display_data",
          "data": {
            "image/png": "[encoded data removed]",
            "text/plain": [
              "<Figure size 432x288 with 1 Axes>"
            ]
          },
          "metadata": {
            "tags": [],
            "needs_background": "light"
          }
        }
      ]
    },
    {
      "cell_type": "code",
      "metadata": {
        "colab": {
          "base_uri": "https://localhost:8080/"
        },
        "id": "uJZaYoaHh5NY",
        "outputId": "7379ac87-b403-4fe1-bafa-a2a49aedade9"
      },
      "source": [
        "acc[0] , acc[-1]"
      ],
      "execution_count": 44,
      "outputs": [
        {
          "output_type": "execute_result",
          "data": {
            "text/plain": [
              "(0.6407637596130371, 0.7976688146591187)"
            ]
          },
          "metadata": {
            "tags": []
          },
          "execution_count": 44
        }
      ]
    },
    {
      "cell_type": "code",
      "metadata": {
        "id": "ybrcoJ_JiW9o"
      },
      "source": [
        "from sklearn.metrics import plot_confusion_matrix\n",
        "from sklearn.metrics import confusion_matrix"
      ],
      "execution_count": 45,
      "outputs": []
    },
    {
      "cell_type": "code",
      "metadata": {
        "colab": {
          "base_uri": "https://localhost:8080/"
        },
        "id": "YrUMRDJmij8R",
        "outputId": "977799e6-bce5-4463-a652-55cbeb97e61b"
      },
      "source": [
        "%%time\n",
        "predictions_1 = model.predict(X_test)\n",
        "print('done predicting on test data')\n",
        "print(type(predictions_1) , predictions_1.shape)\n"
      ],
      "execution_count": 46,
      "outputs": [
        {
          "output_type": "stream",
          "text": [
            "done predicting on test data\n",
            "<class 'numpy.ndarray'> (14790, 15)\n",
            "CPU times: user 2.75 s, sys: 121 ms, total: 2.87 s\n",
            "Wall time: 2.73 s\n"
          ],
          "name": "stdout"
        }
      ]
    },
    {
      "cell_type": "code",
      "metadata": {
        "colab": {
          "base_uri": "https://localhost:8080/"
        },
        "id": "vYq_7ZCLiptJ",
        "outputId": "5d6254bb-1b37-4302-8e86-afacaae793b4"
      },
      "source": [
        "y_test.shape"
      ],
      "execution_count": 47,
      "outputs": [
        {
          "output_type": "execute_result",
          "data": {
            "text/plain": [
              "(14790, 15)"
            ]
          },
          "metadata": {
            "tags": []
          },
          "execution_count": 47
        }
      ]
    },
    {
      "cell_type": "code",
      "metadata": {
        "colab": {
          "base_uri": "https://localhost:8080/"
        },
        "id": "SeJJuNKZiyLD",
        "outputId": "03924ad2-aefe-488f-8197-c9b35712c8eb"
      },
      "source": [
        "actual = np.argmax(y_test,axis=1)\n",
        "actual.shape"
      ],
      "execution_count": 48,
      "outputs": [
        {
          "output_type": "execute_result",
          "data": {
            "text/plain": [
              "(14790,)"
            ]
          },
          "metadata": {
            "tags": []
          },
          "execution_count": 48
        }
      ]
    },
    {
      "cell_type": "code",
      "metadata": {
        "colab": {
          "base_uri": "https://localhost:8080/"
        },
        "id": "M4LC3klui3lB",
        "outputId": "96def015-2a4e-40cb-a7e7-c217c7e45705"
      },
      "source": [
        "first_preds = np.argmax(predictions_1,axis=1)\n",
        "first_preds.shape"
      ],
      "execution_count": 49,
      "outputs": [
        {
          "output_type": "execute_result",
          "data": {
            "text/plain": [
              "(14790,)"
            ]
          },
          "metadata": {
            "tags": []
          },
          "execution_count": 49
        }
      ]
    },
    {
      "cell_type": "code",
      "metadata": {
        "colab": {
          "base_uri": "https://localhost:8080/"
        },
        "id": "ZprFlZpwi7_y",
        "outputId": "3ac9bd28-d82a-4379-87d5-8265a81fb0ff"
      },
      "source": [
        "print('\\n','-'*50,'\\n')\n",
        "cnf_matrix1 = confusion_matrix(actual, first_preds)\n",
        "print(cnf_matrix1)"
      ],
      "execution_count": 50,
      "outputs": [
        {
          "output_type": "stream",
          "text": [
            "\n",
            " -------------------------------------------------- \n",
            "\n",
            "[[810  12  10   4   5  12  11  12  32  42  19  30   6  15   2]\n",
            " [ 13 699   6 172  10   5   7  15  23  24  12  12   3   9   3]\n",
            " [  7  10 668  37  14 100  32  20  30  17   9   9  10  43   5]\n",
            " [ 10 185  38 576  19  18   5  30  12  12  14   7   2   6  10]\n",
            " [  9  15   3  19 826  14  11  17  11  19  17  11  10   8  15]\n",
            " [ 18   8 181  15  28 550  15  20  15  27   9  18  14  30   3]\n",
            " [ 11   2  30   3  10  11 784  11  18  42  13  19   3  15  20]\n",
            " [  1   9   8  26   3  12   5 818  10  19   9  12   1   6  26]\n",
            " [ 60  13  11  11  14  15  20  11 684  61  31  34   4  22   3]\n",
            " [ 51   6  19   7  10  19  61   8  32 646  18  23   5  46   1]\n",
            " [ 21  18   7  11  11  12  16  20  44  54 722  41  19  28   2]\n",
            " [ 27   7  10  14  10  21  21  11  41  39  32 659  15  21   2]\n",
            " [  3   0  19  11  19  48  13   7  14  10  16  15 804   8   6]\n",
            " [ 15   2  19   6   6  17   3  13  27  29  13  24   7 825   1]\n",
            " [  1   2  14   8   7   2   8  67   3   9   8   2   5   3 846]]\n"
          ],
          "name": "stdout"
        }
      ]
    },
    {
      "cell_type": "code",
      "metadata": {
        "id": "SsXJEgZai-gf"
      },
      "source": [
        "import seaborn as sns\n",
        "def make_confusion_matrix(cf,\n",
        "                          group_names=None,\n",
        "                          categories='auto',\n",
        "                          count=True,\n",
        "                          percent=True,\n",
        "                          cbar=True,\n",
        "                          xyticks=True,\n",
        "                          xyplotlabels=True,\n",
        "                          sum_stats=True,\n",
        "                          figsize=None,\n",
        "                          cmap='Blues',\n",
        "                          title=None):\n",
        "    '''\n",
        "    This function will make a pretty plot of an sklearn Confusion Matrix cm using a Seaborn heatmap visualization.\n",
        "    Arguments\n",
        "    ---------\n",
        "    cf:            confusion matrix to be passed in\n",
        "    group_names:   List of strings that represent the labels row by row to be shown in each square.\n",
        "    categories:    List of strings containing the categories to be displayed on the x,y axis. Default is 'auto'\n",
        "    count:         If True, show the raw number in the confusion matrix. Default is True.\n",
        "    normalize:     If True, show the proportions for each category. Default is True.\n",
        "    cbar:          If True, show the color bar. The cbar values are based off the values in the confusion matrix.\n",
        "                   Default is True.\n",
        "    xyticks:       If True, show x and y ticks. Default is True.\n",
        "    xyplotlabels:  If True, show 'True Label' and 'Predicted Label' on the figure. Default is True.\n",
        "    sum_stats:     If True, display summary statistics below the figure. Default is True.\n",
        "    figsize:       Tuple representing the figure size. Default will be the matplotlib rcParams value.\n",
        "    cmap:          Colormap of the values displayed from matplotlib.pyplot.cm. Default is 'Blues'\n",
        "                   See http://matplotlib.org/examples/color/colormaps_reference.html\n",
        "                   \n",
        "    title:         Title for the heatmap. Default is None.\n",
        "    '''\n",
        "\n",
        "\n",
        "    # CODE TO GENERATE TEXT INSIDE EACH SQUARE\n",
        "    blanks = ['' for i in range(cf.size)]\n",
        "\n",
        "    if group_names and len(group_names)==cf.size:\n",
        "        group_labels = [\"{}\\n\".format(value) for value in group_names]\n",
        "    else:\n",
        "        group_labels = blanks\n",
        "\n",
        "    if count:\n",
        "        group_counts = [\"{0:0.0f}\\n\".format(value) for value in cf.flatten()]\n",
        "    else:\n",
        "        group_counts = blanks\n",
        "\n",
        "    if percent:\n",
        "        group_percentages = [\"{0:.2%}\".format(value) for value in cf.flatten()/np.sum(cf)]\n",
        "    else:\n",
        "        group_percentages = blanks\n",
        "\n",
        "    box_labels = [f\"{v1}{v2}{v3}\".strip() for v1, v2, v3 in zip(group_labels,group_counts,group_percentages)]\n",
        "    box_labels = np.asarray(box_labels).reshape(cf.shape[0],cf.shape[1])\n",
        "\n",
        "\n",
        "    # CODE TO GENERATE SUMMARY STATISTICS & TEXT FOR SUMMARY STATS\n",
        "    if sum_stats:\n",
        "        #Accuracy is sum of diagonal divided by total observations\n",
        "        accuracy  = np.trace(cf) / float(np.sum(cf))\n",
        "\n",
        "        #if it is a binary confusion matrix, show some more stats\n",
        "        if len(cf)==2:\n",
        "            #Metrics for Binary Confusion Matrices\n",
        "            precision = cf[1,1] / sum(cf[:,1])\n",
        "            recall    = cf[1,1] / sum(cf[1,:])\n",
        "            f1_score  = 2*precision*recall / (precision + recall)\n",
        "            stats_text = \"\\n\\nAccuracy={:0.3f}\\nPrecision={:0.3f}\\nRecall={:0.3f}\\nF1 Score={:0.3f}\".format(\n",
        "                accuracy,precision,recall,f1_score)\n",
        "        else:\n",
        "            stats_text = \"\\n\\nAccuracy={:0.3f}\".format(accuracy)\n",
        "    else:\n",
        "        stats_text = \"\"\n",
        "\n",
        "\n",
        "    # SET FIGURE PARAMETERS ACCORDING TO OTHER ARGUMENTS\n",
        "    if figsize==None:\n",
        "        #Get default figure size if not set\n",
        "        figsize = plt.rcParams.get('figure.figsize')\n",
        "\n",
        "    if xyticks==False:\n",
        "        #Do not show categories if xyticks is False\n",
        "        categories=False\n",
        "\n",
        "\n",
        "    # MAKE THE HEATMAP VISUALIZATION\n",
        "    plt.figure(figsize=figsize)\n",
        "    sns.heatmap(cf,annot=box_labels,fmt=\"\",cmap=cmap,cbar=cbar,xticklabels=categories,yticklabels=categories)\n",
        "\n",
        "    if xyplotlabels:\n",
        "        plt.ylabel('True label')\n",
        "        plt.xlabel('Predicted label' + stats_text)\n",
        "    else:\n",
        "        plt.xlabel(stats_text)\n",
        "    \n",
        "    if title:\n",
        "        plt.title(title)"
      ],
      "execution_count": 51,
      "outputs": []
    },
    {
      "cell_type": "code",
      "metadata": {
        "colab": {
          "base_uri": "https://localhost:8080/"
        },
        "id": "zni8hSvFjGAn",
        "outputId": "d832b30c-d13b-4ce7-9c69-14b2dfb84688"
      },
      "source": [
        "langs = [i for i in data.Language.unique()]\n",
        "langs.sort()\n",
        "langs"
      ],
      "execution_count": 52,
      "outputs": [
        {
          "output_type": "execute_result",
          "data": {
            "text/plain": [
              "['bash',\n",
              " 'c',\n",
              " 'c#',\n",
              " 'c++',\n",
              " 'haskell',\n",
              " 'java',\n",
              " 'javascript',\n",
              " 'objective-c',\n",
              " 'perl',\n",
              " 'php',\n",
              " 'python',\n",
              " 'ruby',\n",
              " 'scala',\n",
              " 'sql',\n",
              " 'swift']"
            ]
          },
          "metadata": {
            "tags": []
          },
          "execution_count": 52
        }
      ]
    },
    {
      "cell_type": "code",
      "metadata": {
        "colab": {
          "base_uri": "https://localhost:8080/",
          "height": 782
        },
        "id": "XETxyB32jDrz",
        "outputId": "30973307-3e68-4166-d7e0-24ce4cb97293"
      },
      "source": [
        "# make_confusion_matrix(cnf_matrix, figsize=(12,12), cbar=False )\n",
        "make_confusion_matrix(cnf_matrix1, figsize=(12,12), cbar=False ,categories=langs)\n"
      ],
      "execution_count": 53,
      "outputs": [
        {
          "output_type": "display_data",
          "data": {
            "image/png": "[encoded data removed]",
            "text/plain": [
              "<Figure size 864x864 with 1 Axes>"
            ]
          },
          "metadata": {
            "tags": [],
            "needs_background": "light"
          }
        }
      ]
    },
    {
      "cell_type": "code",
      "metadata": {
        "id": "UlY4l5VzjSCW"
      },
      "source": [
        "from sklearn.metrics import precision_recall_fscore_support as score\n"
      ],
      "execution_count": 54,
      "outputs": []
    },
    {
      "cell_type": "code",
      "metadata": {
        "id": "rMNKfh-ukEY7"
      },
      "source": [
        "def print_metrics(predictions):\n",
        "  precision , recall , fscore , support = score( actual, predictions)\n",
        "  print('-'*80)\n",
        "  print('{:10}\\t | {:7}\\t |  {:12}|\\t{}'.format('   Language','  Precision',' Recall',' F1 Measure'))\n",
        "  print('-'*80)\n",
        "  for i in range(len(langs)):\n",
        "    \n",
        "    result = '{:10}\\t |{:13.5}\\t |{:10.5}\\t|\\t{:10.5}'.format(str('   '+langs[i]),precision[i],recall[i],fscore[i])\n",
        "    print(result,end='\\n')\n",
        "    print('-'*80)\n"
      ],
      "execution_count": 55,
      "outputs": []
    },
    {
      "cell_type": "code",
      "metadata": {
        "colab": {
          "base_uri": "https://localhost:8080/"
        },
        "id": "EelPwIWjkHha",
        "outputId": "7fd11376-8c22-46f0-ad31-b1b32cdb5ef4"
      },
      "source": [
        "print_metrics(first_preds)\n"
      ],
      "execution_count": 56,
      "outputs": [
        {
          "output_type": "stream",
          "text": [
            "--------------------------------------------------------------------------------\n",
            "   Language\t |   Precision\t |   Recall     |\t F1 Measure\n",
            "--------------------------------------------------------------------------------\n",
            "   bash   \t |      0.76632\t |   0.79256\t|\t   0.77922\n",
            "--------------------------------------------------------------------------------\n",
            "   c      \t |      0.70749\t |   0.69003\t|\t   0.69865\n",
            "--------------------------------------------------------------------------------\n",
            "   c#     \t |      0.64046\t |   0.66073\t|\t   0.65044\n",
            "--------------------------------------------------------------------------------\n",
            "   c++    \t |      0.62609\t |   0.61017\t|\t   0.61803\n",
            "--------------------------------------------------------------------------------\n",
            "   haskell\t |      0.83266\t |   0.82189\t|\t   0.82724\n",
            "--------------------------------------------------------------------------------\n",
            "   java   \t |      0.64252\t |   0.57834\t|\t   0.60874\n",
            "--------------------------------------------------------------------------------\n",
            "   javascript\t |       0.7747\t |   0.79032\t|\t   0.78244\n",
            "--------------------------------------------------------------------------------\n",
            "   objective-c\t |      0.75741\t |   0.84767\t|\t       0.8\n",
            "--------------------------------------------------------------------------------\n",
            "   perl   \t |      0.68675\t |   0.68813\t|\t   0.68744\n",
            "--------------------------------------------------------------------------------\n",
            "   php    \t |      0.61524\t |   0.67857\t|\t   0.64535\n",
            "--------------------------------------------------------------------------------\n",
            "   python \t |      0.76645\t |    0.7037\t|\t   0.73374\n",
            "--------------------------------------------------------------------------------\n",
            "   ruby   \t |      0.71943\t |    0.7086\t|\t   0.71398\n",
            "--------------------------------------------------------------------------------\n",
            "   scala  \t |      0.88546\t |   0.80967\t|\t   0.84587\n",
            "--------------------------------------------------------------------------------\n",
            "   sql    \t |      0.76037\t |   0.81927\t|\t   0.78872\n",
            "--------------------------------------------------------------------------------\n",
            "   swift  \t |      0.89524\t |   0.85888\t|\t   0.87668\n",
            "--------------------------------------------------------------------------------\n"
          ],
          "name": "stdout"
        }
      ]
    },
    {
      "cell_type": "code",
      "metadata": {
        "id": "hJKqsjmOkLTB"
      },
      "source": [
        ""
      ],
      "execution_count": null,
      "outputs": []
    }
  ]
}