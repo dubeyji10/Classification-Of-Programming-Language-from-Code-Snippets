{
  "nbformat": 4,
  "nbformat_minor": 0,
  "metadata": {
    "accelerator": "GPU",
    "colab": {
      "name": "final_DLModel1.ipynb",
      "provenance": [],
      "collapsed_sections": [],
      "toc_visible": true
    },
    "kernelspec": {
      "display_name": "Python 3",
      "name": "python3"
    }
  },
  "cells": [
    {
      "cell_type": "code",
      "metadata": {
        "id": "nZ5iPO3T_5tc"
      },
      "source": [
        "#@title Version 1 <br>vocab size = 10000 , padding = 1000 <br> testing accuracy around 70%"
      ],
      "execution_count": 1,
      "outputs": []
    },
    {
      "cell_type": "markdown",
      "metadata": {
        "id": "EYLKcUH4_5Ib"
      },
      "source": [
        "## first dataset : final_dataset_1.csv"
      ]
    },
    {
      "cell_type": "markdown",
      "metadata": {
        "id": "dujUpWi0AIxW"
      },
      "source": [
        "### Connect to drive"
      ]
    },
    {
      "cell_type": "code",
      "metadata": {
        "colab": {
          "base_uri": "https://localhost:8080/"
        },
        "id": "GNddv50T_xt1",
        "outputId": "1a51c80a-f8d8-4b47-e2a0-dd643f824ad9"
      },
      "source": [
        "import pandas as pd\n",
        "import matplotlib.pyplot as plt\n",
        "import numpy as np\n",
        "import os\n",
        "from os import listdir\n",
        "from os.path import isfile, join\n",
        "from google.colab import drive\n",
        "# print('\\nimports done\\n mounting drive')\n",
        "drive.mount('/content/drive')"
      ],
      "execution_count": 2,
      "outputs": [
        {
          "output_type": "stream",
          "text": [
            "Mounted at /content/drive\n"
          ],
          "name": "stdout"
        }
      ]
    },
    {
      "cell_type": "markdown",
      "metadata": {
        "id": "Xz4mpcm7ZPhI"
      },
      "source": [
        "text = re.sub(r'^https?:\\/\\/.*[\\r\\n]*', '', text, flags=re.MULTILINE)\n"
      ]
    },
    {
      "cell_type": "code",
      "metadata": {
        "colab": {
          "base_uri": "https://localhost:8080/"
        },
        "id": "6yR8JEzzALsk",
        "outputId": "8cb110f1-5d68-469b-8339-630f5893e9ea"
      },
      "source": [
        "!ls"
      ],
      "execution_count": 3,
      "outputs": [
        {
          "output_type": "stream",
          "text": [
            "drive  sample_data\n"
          ],
          "name": "stdout"
        }
      ]
    },
    {
      "cell_type": "code",
      "metadata": {
        "colab": {
          "base_uri": "https://localhost:8080/"
        },
        "id": "AbeKnMSbAXCJ",
        "outputId": "56805994-5b7b-459d-8236-f034e149b0fc"
      },
      "source": [
        "!mkdir dataset\n",
        "!ls"
      ],
      "execution_count": 4,
      "outputs": [
        {
          "output_type": "stream",
          "text": [
            "dataset  drive\tsample_data\n"
          ],
          "name": "stdout"
        }
      ]
    },
    {
      "cell_type": "code",
      "metadata": {
        "colab": {
          "base_uri": "https://localhost:8080/"
        },
        "id": "asc6kZLYAaeY",
        "outputId": "982fc241-6b47-411e-caa6-c5e455d280e3"
      },
      "source": [
        "!cp '/content/drive/MyDrive/datasets/LanguageDataset/final_changes/final_dataset_1.csv' /content/dataset/\n",
        "! echo copied final_dataset_1\n",
        "\n",
        "!cp '/content/drive/MyDrive/datasets/LanguageDataset/final_changes/final_dataset_2.csv' /content/dataset/\n",
        "! echo copied final_dataset_2\n"
      ],
      "execution_count": 5,
      "outputs": [
        {
          "output_type": "stream",
          "text": [
            "copied final_dataset_1\n",
            "copied final_dataset_2\n"
          ],
          "name": "stdout"
        }
      ]
    },
    {
      "cell_type": "code",
      "metadata": {
        "colab": {
          "base_uri": "https://localhost:8080/",
          "height": 419
        },
        "id": "zZ0TI6BbAmFZ",
        "outputId": "5c62b24d-ce68-4d13-81ed-0c96ee0d55fb"
      },
      "source": [
        "data = pd.read_csv('/content/dataset/final_dataset_1.csv')\n",
        "data"
      ],
      "execution_count": 6,
      "outputs": [
        {
          "output_type": "execute_result",
          "data": {
            "text/html": [
              "<div>\n",
              "<style scoped>\n",
              "    .dataframe tbody tr th:only-of-type {\n",
              "        vertical-align: middle;\n",
              "    }\n",
              "\n",
              "    .dataframe tbody tr th {\n",
              "        vertical-align: top;\n",
              "    }\n",
              "\n",
              "    .dataframe thead th {\n",
              "        text-align: right;\n",
              "    }\n",
              "</style>\n",
              "<table border=\"1\" class=\"dataframe\">\n",
              "  <thead>\n",
              "    <tr style=\"text-align: right;\">\n",
              "      <th></th>\n",
              "      <th>Language</th>\n",
              "      <th>Source</th>\n",
              "    </tr>\n",
              "  </thead>\n",
              "  <tbody>\n",
              "    <tr>\n",
              "      <th>0</th>\n",
              "      <td>bash</td>\n",
              "      <td>bash\\nalias tail_ls=\"ls -l $1 | tail\"\\n\\ntail_...</td>\n",
              "    </tr>\n",
              "    <tr>\n",
              "      <th>1</th>\n",
              "      <td>bash</td>\n",
              "      <td>ERR_COUNT=`echo $VAR_WITH_TEXT | grep \"ERROR t...</td>\n",
              "    </tr>\n",
              "    <tr>\n",
              "      <th>2</th>\n",
              "      <td>bash</td>\n",
              "      <td>SET JARS=^\\n./lib/apache-mime4j-0.6.jar;^\\n./l...</td>\n",
              "    </tr>\n",
              "    <tr>\n",
              "      <th>3</th>\n",
              "      <td>bash</td>\n",
              "      <td>2010-02-20 21:01 1458414588   s3://file1.tgz.0...</td>\n",
              "    </tr>\n",
              "    <tr>\n",
              "      <th>4</th>\n",
              "      <td>bash</td>\n",
              "      <td>pkill /?\\n\\n[ws@RHDev ~]# pkill $(ps aux | gre...</td>\n",
              "    </tr>\n",
              "    <tr>\n",
              "      <th>...</th>\n",
              "      <td>...</td>\n",
              "      <td>...</td>\n",
              "    </tr>\n",
              "    <tr>\n",
              "      <th>29995</th>\n",
              "      <td>swift</td>\n",
              "      <td>/* Scale and crop image */\\nfunc imageByScalin...</td>\n",
              "    </tr>\n",
              "    <tr>\n",
              "      <th>29996</th>\n",
              "      <td>swift</td>\n",
              "      <td>import UIKit\\nimport MapKit\\n\\nclass ViewContr...</td>\n",
              "    </tr>\n",
              "    <tr>\n",
              "      <th>29997</th>\n",
              "      <td>swift</td>\n",
              "      <td>html\\nUIWebView\\nParseConfig\\nhtml\\nParseConfi...</td>\n",
              "    </tr>\n",
              "    <tr>\n",
              "      <th>29998</th>\n",
              "      <td>swift</td>\n",
              "      <td>var array1: [AnyObject!] = []\\n\\n    var key...</td>\n",
              "    </tr>\n",
              "    <tr>\n",
              "      <th>29999</th>\n",
              "      <td>swift</td>\n",
              "      <td>extension Array {\\n    public func second() -&gt;...</td>\n",
              "    </tr>\n",
              "  </tbody>\n",
              "</table>\n",
              "<p>30000 rows × 2 columns</p>\n",
              "</div>"
            ],
            "text/plain": [
              "      Language                                             Source\n",
              "0         bash  bash\\nalias tail_ls=\"ls -l $1 | tail\"\\n\\ntail_...\n",
              "1         bash  ERR_COUNT=`echo $VAR_WITH_TEXT | grep \"ERROR t...\n",
              "2         bash  SET JARS=^\\n./lib/apache-mime4j-0.6.jar;^\\n./l...\n",
              "3         bash  2010-02-20 21:01 1458414588   s3://file1.tgz.0...\n",
              "4         bash  pkill /?\\n\\n[ws@RHDev ~]# pkill $(ps aux | gre...\n",
              "...        ...                                                ...\n",
              "29995    swift  /* Scale and crop image */\\nfunc imageByScalin...\n",
              "29996    swift  import UIKit\\nimport MapKit\\n\\nclass ViewContr...\n",
              "29997    swift  html\\nUIWebView\\nParseConfig\\nhtml\\nParseConfi...\n",
              "29998    swift    var array1: [AnyObject!] = []\\n\\n    var key...\n",
              "29999    swift  extension Array {\\n    public func second() ->...\n",
              "\n",
              "[30000 rows x 2 columns]"
            ]
          },
          "metadata": {
            "tags": []
          },
          "execution_count": 6
        }
      ]
    },
    {
      "cell_type": "markdown",
      "metadata": {
        "id": "DTDlstsnAucz"
      },
      "source": [
        "### Describing Dataset part 1"
      ]
    },
    {
      "cell_type": "code",
      "metadata": {
        "colab": {
          "base_uri": "https://localhost:8080/",
          "height": 369
        },
        "id": "RfSBNcIVAqBR",
        "outputId": "8e157991-4f91-4c9d-96fd-e374fb31d03f"
      },
      "source": [
        "data.groupby('Language')['Source'].count().plot.bar(ylim=0,grid=False,color='#11100f')\n",
        "plt.xlabel('\\n languages')\n",
        "plt.ylabel('no of examples available')\n",
        "plt.title('Dataset')"
      ],
      "execution_count": 7,
      "outputs": [
        {
          "output_type": "execute_result",
          "data": {
            "text/plain": [
              "Text(0.5, 1.0, 'Dataset')"
            ]
          },
          "metadata": {
            "tags": []
          },
          "execution_count": 7
        },
        {
          "output_type": "display_data",
          "data": {
            "image/png": "[encoded data removed]",
            "text/plain": [
              "<Figure size 432x288 with 1 Axes>"
            ]
          },
          "metadata": {
            "tags": [],
            "needs_background": "light"
          }
        }
      ]
    },
    {
      "cell_type": "code",
      "metadata": {
        "colab": {
          "base_uri": "https://localhost:8080/",
          "height": 314
        },
        "id": "CUhqBeTPBD-g",
        "outputId": "5a4d1a9c-6a27-4b81-bc41-b209a7b0d6fb"
      },
      "source": [
        "data.groupby('Language')['Source'].count().plot.pie(explode=[0.01+(0.053*i) for i in range(15)] )"
      ],
      "execution_count": 8,
      "outputs": [
        {
          "output_type": "execute_result",
          "data": {
            "text/plain": [
              "<matplotlib.axes._subplots.AxesSubplot at 0x7f020640bd30>"
            ]
          },
          "metadata": {
            "tags": []
          },
          "execution_count": 8
        },
        {
          "output_type": "display_data",
          "data": {
            "image/png": "[encoded data removed]",
            "text/plain": [
              "<Figure size 432x288 with 1 Axes>"
            ]
          },
          "metadata": {
            "tags": []
          }
        }
      ]
    },
    {
      "cell_type": "markdown",
      "metadata": {
        "id": "c3uNghBYA1tS"
      },
      "source": [
        "### Dataset is not clean "
      ]
    },
    {
      "cell_type": "markdown",
      "metadata": {
        "id": "9rPnbrH7A4hF"
      },
      "source": [
        "### PREPROCESSING OF DATASET USING REGULAR EXPRESSION AND NLTK"
      ]
    },
    {
      "cell_type": "code",
      "metadata": {
        "colab": {
          "base_uri": "https://localhost:8080/"
        },
        "id": "T-net_YbAzQ7",
        "outputId": "e42b15d2-f94a-46a3-e688-3796ea3566fe"
      },
      "source": [
        "import nltk\n",
        "\n",
        "from nltk.corpus import stopwords\n",
        "from nltk.tokenize import word_tokenize\n",
        "\n",
        "nltk.download('stopwords')\n",
        "nltk.download('punkt')\n",
        "print('.....done')"
      ],
      "execution_count": 9,
      "outputs": [
        {
          "output_type": "stream",
          "text": [
            "[nltk_data] Downloading package stopwords to /root/nltk_data...\n",
            "[nltk_data]   Unzipping corpora/stopwords.zip.\n",
            "[nltk_data] Downloading package punkt to /root/nltk_data...\n",
            "[nltk_data]   Unzipping tokenizers/punkt.zip.\n",
            ".....done\n"
          ],
          "name": "stdout"
        }
      ]
    },
    {
      "cell_type": "code",
      "metadata": {
        "colab": {
          "base_uri": "https://localhost:8080/"
        },
        "id": "M4cfCMulBAHG",
        "outputId": "34f922ab-7e8e-4509-c8b7-7930b8147054"
      },
      "source": [
        "import re\n",
        "stopwords_list = stopwords.words('english')\n",
        "print(len(stopwords_list))"
      ],
      "execution_count": 10,
      "outputs": [
        {
          "output_type": "stream",
          "text": [
            "179\n"
          ],
          "name": "stdout"
        }
      ]
    },
    {
      "cell_type": "code",
      "metadata": {
        "colab": {
          "base_uri": "https://localhost:8080/"
        },
        "id": "2xQDN8prBjBa",
        "outputId": "47512395-133b-4d92-b141-463757f7e5d3"
      },
      "source": [
        "stopwords_list.extend(['left','right','up','down','center','centre'])\n",
        "print(len(stopwords_list))"
      ],
      "execution_count": 11,
      "outputs": [
        {
          "output_type": "stream",
          "text": [
            "185\n"
          ],
          "name": "stdout"
        }
      ]
    },
    {
      "cell_type": "code",
      "metadata": {
        "colab": {
          "base_uri": "https://localhost:8080/"
        },
        "id": "CxQjvkgwBz2I",
        "outputId": "2f561243-3362-4150-a09e-7aabb35f1303"
      },
      "source": [
        "stopwords_list.extend(['bottom','start','end','price','location','fix','here'])\n",
        "print(len(stopwords_list))\n"
      ],
      "execution_count": 12,
      "outputs": [
        {
          "output_type": "stream",
          "text": [
            "192\n"
          ],
          "name": "stdout"
        }
      ]
    },
    {
      "cell_type": "code",
      "metadata": {
        "colab": {
          "base_uri": "https://localhost:8080/"
        },
        "id": "btzc1JUTBJYR",
        "outputId": "dfdefd50-96ad-4ef9-dbdf-a474e28bdd92"
      },
      "source": [
        "def expression1(text):\n",
        "    # remove single character\n",
        "\n",
        "    #removing url \n",
        "    text = re.sub(r\"http\\S+\", \"\", text)\n",
        "    text = re.sub(r'^https?://.*[\\r\\n]*', '', text, flags=re.MULTILINE)\n",
        "    text = re.sub(r'^http?://.*[\\r\\n]*', '', text, flags=re.MULTILINE)\n",
        "    text = re.sub(r'^www?://.*[\\r\\n]*', '', text, flags=re.MULTILINE)\n",
        "\n",
        "    text = ' '.join(['' if len(i)==1 else i for i in text.split()])\n",
        "    \n",
        "    # text = re.sub('{','',text)\n",
        "    # text = re.sub('}','',text)\n",
        "    \n",
        "    # to remove '(' , ' )' , '[' , ']' ... replaced with a space \n",
        "    # text = re.sub('\\\\(',' ',text)\n",
        "    # text = re.sub('\\\\)',' ',text)\n",
        "    # text = re.sub('\\\\[',' ',text)\n",
        "    # text = re.sub('\\\\]',' ',text)\n",
        "    # replace . with a space\n",
        "    # text = re.sub('\\\\.',' ',text)\n",
        "    \n",
        "    # remove unicode\n",
        "    \n",
        "    text = re.sub(r'(\\\\u[0-9A-Fa-f]+)',r'', text)       \n",
        "    text = re.sub(r'[^\\x00-\\x7f]',r'',text)\n",
        "    \n",
        "    # remove digits\n",
        "    text = re.sub('[0-9]',' ',text)\n",
        "    \n",
        "    #     remove + - * / < >\n",
        "    text = re.sub('\\\\+',' ',text)\n",
        "    text = re.sub('\\\\=',' ',text)\n",
        "    text = re.sub('\\\\-',' ',text)\n",
        "    text = re.sub('\\\\*',' ',text)\n",
        "    text = re.sub('\\\\/',' ',text)\n",
        "    # text = re.sub('\\\\<',' ',text)\n",
        "    # text = re.sub('\\\\>',' ',text)\n",
        "#     text = re.sub('\\\\:',' ',text)\n",
        "    \n",
        "#     text = text.replace(':',r' : ')\n",
        "    \n",
        "    \n",
        "    #     text = ' '.join(text.split())\n",
        "\n",
        "    # replace single chars again \n",
        "    text = ' '.join(['' if len(i)==1 else i for i in text.split()])\n",
        "    \n",
        "    # spacing quoted statement\n",
        "    text = re.sub('\"',' \" ',text)\n",
        "    # replace url\n",
        "\n",
        "    text = re.sub('((www\\.[^\\s]+)|(https?://[^\\s]+))',' ',text)\n",
        "        #Replaces url address with \"url\" \n",
        "    # text = re.sub('((www\\.[^\\s]+)|(https?://[^\\s]+))',' ',text)\n",
        "\t  # text = re.sub(r'#([^\\s]+)', r'\\1',text)\n",
        "\n",
        "    return text\n",
        "\n",
        "# def replaceURL(text):\n",
        "\n",
        "def clean_code(text):\n",
        "  text = expression1(text)\n",
        "  text_tokens = word_tokenize(text)\n",
        "  tokens_without_stopwords = [word for word in text_tokens if not word in stopwords_list] \n",
        "  # stopwords.words()]\n",
        "  return ' '.join(tokens_without_stopwords)\n",
        "\n",
        "print(\"TRY expresion1\")"
      ],
      "execution_count": 13,
      "outputs": [
        {
          "output_type": "stream",
          "text": [
            "TRY expresion1\n"
          ],
          "name": "stdout"
        }
      ]
    },
    {
      "cell_type": "code",
      "metadata": {
        "colab": {
          "base_uri": "https://localhost:8080/"
        },
        "id": "upmKWgZhBXcU",
        "outputId": "34da0b2e-9bf5-4765-b3be-0e99347f9536"
      },
      "source": [
        "%%time\n",
        "\n",
        "line_7210 = data.iloc[15710]['Source']\n",
        "cleaned_7210 =  clean_code(line_7210)\n",
        "\n",
        "print(line_7210 , '\\n ->',len(line_7210))\n",
        "print('-'*60,'\\n\\n')\n",
        "print(cleaned_7210,'\\n ->',len(cleaned_7210))\n"
      ],
      "execution_count": 14,
      "outputs": [
        {
          "output_type": "stream",
          "text": [
            "NSString *url = @\"http://stackoverflow.com/questions/ask\";\n",
            "\n",
            " \n",
            " -> 60\n",
            "------------------------------------------------------------ \n",
            "\n",
            "\n",
            "NSString url @ `` \n",
            " -> 17\n",
            "CPU times: user 10.7 ms, sys: 0 ns, total: 10.7 ms\n",
            "Wall time: 11.9 ms\n"
          ],
          "name": "stdout"
        }
      ]
    },
    {
      "cell_type": "markdown",
      "metadata": {
        "id": "gi_6oY0VCKHP"
      },
      "source": [
        "### Cleaning dataset"
      ]
    },
    {
      "cell_type": "code",
      "metadata": {
        "colab": {
          "base_uri": "https://localhost:8080/"
        },
        "id": "Qe5Xf1vTBbO6",
        "outputId": "266c2ed1-2b9c-4cfa-f163-03b4b57c67ca"
      },
      "source": [
        "%%time\n",
        "\n",
        "dataset_refined = data.copy()\n",
        "print('\\n\\n->created a copy')\n",
        "dataset_refined['Source'] =  dataset_refined['Source'].astype(str)\n",
        "print('\\n->as string')\n",
        "dataset_refined['Source'] =  dataset_refined['Source'].apply(clean_code)\n",
        "print('\\n->cleaned code with expression1')\n",
        "dataset_refined.to_csv('dataset/cleaned_data_1_v2.csv',index=None)\n",
        "print('\\n->saved cleaned csv , columns : ',dataset_refined.columns)\n",
        "\n",
        "print('done')"
      ],
      "execution_count": 15,
      "outputs": [
        {
          "output_type": "stream",
          "text": [
            "\n",
            "\n",
            "->created a copy\n",
            "\n",
            "->as string\n",
            "\n",
            "->cleaned code with expression1\n",
            "\n",
            "->saved cleaned csv , columns :  Index(['Language', 'Source'], dtype='object')\n",
            "done\n",
            "CPU times: user 22.1 s, sys: 23.1 ms, total: 22.2 s\n",
            "Wall time: 22.2 s\n"
          ],
          "name": "stdout"
        }
      ]
    },
    {
      "cell_type": "code",
      "metadata": {
        "colab": {
          "base_uri": "https://localhost:8080/"
        },
        "id": "D3GfWin1CMWb",
        "outputId": "a882307a-0f2e-4351-b678-1e997a4925f2"
      },
      "source": [
        "%%time\n",
        "\n",
        "df = pd.read_csv('/content/dataset/cleaned_data_1_v2.csv')"
      ],
      "execution_count": 16,
      "outputs": [
        {
          "output_type": "stream",
          "text": [
            "CPU times: user 116 ms, sys: 16 ms, total: 132 ms\n",
            "Wall time: 135 ms\n"
          ],
          "name": "stdout"
        }
      ]
    },
    {
      "cell_type": "code",
      "metadata": {
        "colab": {
          "base_uri": "https://localhost:8080/",
          "height": 419
        },
        "id": "phvE21HhCSMj",
        "outputId": "8f3efa58-98b4-4f48-8e8e-3ac1d5a94d1c"
      },
      "source": [
        "df"
      ],
      "execution_count": 17,
      "outputs": [
        {
          "output_type": "execute_result",
          "data": {
            "text/html": [
              "<div>\n",
              "<style scoped>\n",
              "    .dataframe tbody tr th:only-of-type {\n",
              "        vertical-align: middle;\n",
              "    }\n",
              "\n",
              "    .dataframe tbody tr th {\n",
              "        vertical-align: top;\n",
              "    }\n",
              "\n",
              "    .dataframe thead th {\n",
              "        text-align: right;\n",
              "    }\n",
              "</style>\n",
              "<table border=\"1\" class=\"dataframe\">\n",
              "  <thead>\n",
              "    <tr style=\"text-align: right;\">\n",
              "      <th></th>\n",
              "      <th>Language</th>\n",
              "      <th>Source</th>\n",
              "    </tr>\n",
              "  </thead>\n",
              "  <tbody>\n",
              "    <tr>\n",
              "      <th>0</th>\n",
              "      <td>bash</td>\n",
              "      <td>bash alias tail_ls `` ls tail `` tail_ls etc</td>\n",
              "    </tr>\n",
              "    <tr>\n",
              "      <th>1</th>\n",
              "      <td>bash</td>\n",
              "      <td>ERR_COUNT `echo $ VAR_WITH_TEXT grep `` ERROR ...</td>\n",
              "    </tr>\n",
              "    <tr>\n",
              "      <th>2</th>\n",
              "      <td>bash</td>\n",
              "      <td>SET JARS lib apache mime .jar ; ^ lib apache m...</td>\n",
              "    </tr>\n",
              "    <tr>\n",
              "      <th>3</th>\n",
              "      <td>bash</td>\n",
              "      <td>file .tgz . &lt; br &gt; file .tgz . &lt; br &gt; file .tg...</td>\n",
              "    </tr>\n",
              "    <tr>\n",
              "      <th>4</th>\n",
              "      <td>bash</td>\n",
              "      <td>pkill [ ws @ RHDev ~ ] # pkill $ ( ps aux grep...</td>\n",
              "    </tr>\n",
              "    <tr>\n",
              "      <th>...</th>\n",
              "      <td>...</td>\n",
              "      <td>...</td>\n",
              "    </tr>\n",
              "    <tr>\n",
              "      <th>29995</th>\n",
              "      <td>swift</td>\n",
              "      <td>Scale crop image func imageByScalingAndCroppin...</td>\n",
              "    </tr>\n",
              "    <tr>\n",
              "      <th>29996</th>\n",
              "      <td>swift</td>\n",
              "      <td>import UIKit import MapKit class ViewControlle...</td>\n",
              "    </tr>\n",
              "    <tr>\n",
              "      <th>29997</th>\n",
              "      <td>swift</td>\n",
              "      <td>html UIWebView ParseConfig html ParseConfig UR...</td>\n",
              "    </tr>\n",
              "    <tr>\n",
              "      <th>29998</th>\n",
              "      <td>swift</td>\n",
              "      <td>var array [ AnyObject ! ] [ ] var key `` keySa...</td>\n",
              "    </tr>\n",
              "    <tr>\n",
              "      <th>29999</th>\n",
              "      <td>swift</td>\n",
              "      <td>extension Array public func second ( ) T ? ret...</td>\n",
              "    </tr>\n",
              "  </tbody>\n",
              "</table>\n",
              "<p>30000 rows × 2 columns</p>\n",
              "</div>"
            ],
            "text/plain": [
              "      Language                                             Source\n",
              "0         bash       bash alias tail_ls `` ls tail `` tail_ls etc\n",
              "1         bash  ERR_COUNT `echo $ VAR_WITH_TEXT grep `` ERROR ...\n",
              "2         bash  SET JARS lib apache mime .jar ; ^ lib apache m...\n",
              "3         bash  file .tgz . < br > file .tgz . < br > file .tg...\n",
              "4         bash  pkill [ ws @ RHDev ~ ] # pkill $ ( ps aux grep...\n",
              "...        ...                                                ...\n",
              "29995    swift  Scale crop image func imageByScalingAndCroppin...\n",
              "29996    swift  import UIKit import MapKit class ViewControlle...\n",
              "29997    swift  html UIWebView ParseConfig html ParseConfig UR...\n",
              "29998    swift  var array [ AnyObject ! ] [ ] var key `` keySa...\n",
              "29999    swift  extension Array public func second ( ) T ? ret...\n",
              "\n",
              "[30000 rows x 2 columns]"
            ]
          },
          "metadata": {
            "tags": []
          },
          "execution_count": 17
        }
      ]
    },
    {
      "cell_type": "code",
      "metadata": {
        "colab": {
          "base_uri": "https://localhost:8080/"
        },
        "id": "NYMQstoQCS8Y",
        "outputId": "14e929cb-e03e-488b-ddca-17095c29ac5e"
      },
      "source": [
        "%%time\n",
        "\n",
        "df[\"lang_id\"] = df['Language'].factorize()[0]\n",
        "print('>>> lang id created')\n",
        "lang_id_df = df[['Language', 'lang_id']].drop_duplicates().sort_values('lang_id')\n",
        "print('>>> added to dataframe')\n",
        "lang_to_id = dict(lang_id_df.values)\n",
        "id_to_lang = dict(lang_id_df[['lang_id', 'Language']].values)\n",
        "print('>>> now columns : ',df.columns)"
      ],
      "execution_count": 18,
      "outputs": [
        {
          "output_type": "stream",
          "text": [
            ">>> lang id created\n",
            ">>> added to dataframe\n",
            ">>> now columns :  Index(['Language', 'Source', 'lang_id'], dtype='object')\n",
            "CPU times: user 11 ms, sys: 4 µs, total: 11 ms\n",
            "Wall time: 11.4 ms\n"
          ],
          "name": "stdout"
        }
      ]
    },
    {
      "cell_type": "code",
      "metadata": {
        "colab": {
          "base_uri": "https://localhost:8080/",
          "height": 419
        },
        "id": "EB88zSYUCZBY",
        "outputId": "57437cb4-2f46-43e1-a414-2c1c4fe94d00"
      },
      "source": [
        "df"
      ],
      "execution_count": 19,
      "outputs": [
        {
          "output_type": "execute_result",
          "data": {
            "text/html": [
              "<div>\n",
              "<style scoped>\n",
              "    .dataframe tbody tr th:only-of-type {\n",
              "        vertical-align: middle;\n",
              "    }\n",
              "\n",
              "    .dataframe tbody tr th {\n",
              "        vertical-align: top;\n",
              "    }\n",
              "\n",
              "    .dataframe thead th {\n",
              "        text-align: right;\n",
              "    }\n",
              "</style>\n",
              "<table border=\"1\" class=\"dataframe\">\n",
              "  <thead>\n",
              "    <tr style=\"text-align: right;\">\n",
              "      <th></th>\n",
              "      <th>Language</th>\n",
              "      <th>Source</th>\n",
              "      <th>lang_id</th>\n",
              "    </tr>\n",
              "  </thead>\n",
              "  <tbody>\n",
              "    <tr>\n",
              "      <th>0</th>\n",
              "      <td>bash</td>\n",
              "      <td>bash alias tail_ls `` ls tail `` tail_ls etc</td>\n",
              "      <td>0</td>\n",
              "    </tr>\n",
              "    <tr>\n",
              "      <th>1</th>\n",
              "      <td>bash</td>\n",
              "      <td>ERR_COUNT `echo $ VAR_WITH_TEXT grep `` ERROR ...</td>\n",
              "      <td>0</td>\n",
              "    </tr>\n",
              "    <tr>\n",
              "      <th>2</th>\n",
              "      <td>bash</td>\n",
              "      <td>SET JARS lib apache mime .jar ; ^ lib apache m...</td>\n",
              "      <td>0</td>\n",
              "    </tr>\n",
              "    <tr>\n",
              "      <th>3</th>\n",
              "      <td>bash</td>\n",
              "      <td>file .tgz . &lt; br &gt; file .tgz . &lt; br &gt; file .tg...</td>\n",
              "      <td>0</td>\n",
              "    </tr>\n",
              "    <tr>\n",
              "      <th>4</th>\n",
              "      <td>bash</td>\n",
              "      <td>pkill [ ws @ RHDev ~ ] # pkill $ ( ps aux grep...</td>\n",
              "      <td>0</td>\n",
              "    </tr>\n",
              "    <tr>\n",
              "      <th>...</th>\n",
              "      <td>...</td>\n",
              "      <td>...</td>\n",
              "      <td>...</td>\n",
              "    </tr>\n",
              "    <tr>\n",
              "      <th>29995</th>\n",
              "      <td>swift</td>\n",
              "      <td>Scale crop image func imageByScalingAndCroppin...</td>\n",
              "      <td>14</td>\n",
              "    </tr>\n",
              "    <tr>\n",
              "      <th>29996</th>\n",
              "      <td>swift</td>\n",
              "      <td>import UIKit import MapKit class ViewControlle...</td>\n",
              "      <td>14</td>\n",
              "    </tr>\n",
              "    <tr>\n",
              "      <th>29997</th>\n",
              "      <td>swift</td>\n",
              "      <td>html UIWebView ParseConfig html ParseConfig UR...</td>\n",
              "      <td>14</td>\n",
              "    </tr>\n",
              "    <tr>\n",
              "      <th>29998</th>\n",
              "      <td>swift</td>\n",
              "      <td>var array [ AnyObject ! ] [ ] var key `` keySa...</td>\n",
              "      <td>14</td>\n",
              "    </tr>\n",
              "    <tr>\n",
              "      <th>29999</th>\n",
              "      <td>swift</td>\n",
              "      <td>extension Array public func second ( ) T ? ret...</td>\n",
              "      <td>14</td>\n",
              "    </tr>\n",
              "  </tbody>\n",
              "</table>\n",
              "<p>30000 rows × 3 columns</p>\n",
              "</div>"
            ],
            "text/plain": [
              "      Language                                             Source  lang_id\n",
              "0         bash       bash alias tail_ls `` ls tail `` tail_ls etc        0\n",
              "1         bash  ERR_COUNT `echo $ VAR_WITH_TEXT grep `` ERROR ...        0\n",
              "2         bash  SET JARS lib apache mime .jar ; ^ lib apache m...        0\n",
              "3         bash  file .tgz . < br > file .tgz . < br > file .tg...        0\n",
              "4         bash  pkill [ ws @ RHDev ~ ] # pkill $ ( ps aux grep...        0\n",
              "...        ...                                                ...      ...\n",
              "29995    swift  Scale crop image func imageByScalingAndCroppin...       14\n",
              "29996    swift  import UIKit import MapKit class ViewControlle...       14\n",
              "29997    swift  html UIWebView ParseConfig html ParseConfig UR...       14\n",
              "29998    swift  var array [ AnyObject ! ] [ ] var key `` keySa...       14\n",
              "29999    swift  extension Array public func second ( ) T ? ret...       14\n",
              "\n",
              "[30000 rows x 3 columns]"
            ]
          },
          "metadata": {
            "tags": []
          },
          "execution_count": 19
        }
      ]
    },
    {
      "cell_type": "markdown",
      "metadata": {
        "id": "VJIOdtnKCetz"
      },
      "source": [
        "### Training test split"
      ]
    },
    {
      "cell_type": "code",
      "metadata": {
        "colab": {
          "base_uri": "https://localhost:8080/"
        },
        "id": "-pQoD6QUCalf",
        "outputId": "b7f431af-b731-4c41-f581-363a7f4387de"
      },
      "source": [
        "mask = np.random.rand(len(data)) > 0.19\n",
        "print('mask created',type(mask))"
      ],
      "execution_count": 20,
      "outputs": [
        {
          "output_type": "stream",
          "text": [
            "mask created <class 'numpy.ndarray'>\n"
          ],
          "name": "stdout"
        }
      ]
    },
    {
      "cell_type": "code",
      "metadata": {
        "colab": {
          "base_uri": "https://localhost:8080/"
        },
        "id": "zYOhqicyChNw",
        "outputId": "b946ea00-c6e5-407d-c08a-053e74025def"
      },
      "source": [
        "data_1 = df[mask]\n",
        "data_2 = df[~mask]\n",
        "print('created two halves')\n",
        "print('1st -->',len(data_1) , '\\n 2nd-->', len(data_2))"
      ],
      "execution_count": 21,
      "outputs": [
        {
          "output_type": "stream",
          "text": [
            "created two halves\n",
            "1st --> 24252 \n",
            " 2nd--> 5748\n"
          ],
          "name": "stdout"
        }
      ]
    },
    {
      "cell_type": "code",
      "metadata": {
        "colab": {
          "base_uri": "https://localhost:8080/",
          "height": 369
        },
        "id": "ek9FQV4cCi-D",
        "outputId": "eaf8787b-1125-4604-f6f7-a983c29e67ec"
      },
      "source": [
        "data_1.groupby('Language')['Source'].count().plot.bar(ylim=0,grid=True,color='#f68222')\n",
        "plt.xlabel('\\n languages')\n",
        "plt.ylabel('no of examples available')\n",
        "plt.title('Dataset_part_1 - FOR TRAINING')"
      ],
      "execution_count": 22,
      "outputs": [
        {
          "output_type": "execute_result",
          "data": {
            "text/plain": [
              "Text(0.5, 1.0, 'Dataset_part_1 - FOR TRAINING')"
            ]
          },
          "metadata": {
            "tags": []
          },
          "execution_count": 22
        },
        {
          "output_type": "display_data",
          "data": {
            "image/png": "[encoded data removed]",
            "text/plain": [
              "<Figure size 432x288 with 1 Axes>"
            ]
          },
          "metadata": {
            "tags": [],
            "needs_background": "light"
          }
        }
      ]
    },
    {
      "cell_type": "code",
      "metadata": {
        "colab": {
          "base_uri": "https://localhost:8080/",
          "height": 369
        },
        "id": "ObBsWnfsCkrx",
        "outputId": "3426ac43-6692-4eda-e90d-a98a4643aad8"
      },
      "source": [
        "data_2.groupby('Language')['Source'].count().plot.bar(ylim=0,grid=True,color='#f0171c')\n",
        "plt.xlabel('\\n languages')\n",
        "plt.ylabel('no of examples available')\n",
        "plt.title('Dataset_part_2 - FOR TESTING')"
      ],
      "execution_count": 23,
      "outputs": [
        {
          "output_type": "execute_result",
          "data": {
            "text/plain": [
              "Text(0.5, 1.0, 'Dataset_part_2 - FOR TESTING')"
            ]
          },
          "metadata": {
            "tags": []
          },
          "execution_count": 23
        },
        {
          "output_type": "display_data",
          "data": {
            "image/png": "[encoded data removed]",
            "text/plain": [
              "<Figure size 432x288 with 1 Axes>"
            ]
          },
          "metadata": {
            "tags": [],
            "needs_background": "light"
          }
        }
      ]
    },
    {
      "cell_type": "code",
      "metadata": {
        "id": "089G_6DwCmzZ"
      },
      "source": [
        "import tensorflow as tf"
      ],
      "execution_count": 24,
      "outputs": []
    },
    {
      "cell_type": "markdown",
      "metadata": {
        "id": "F1YBA2ayar-r"
      },
      "source": [
        "### Tokenizing"
      ]
    },
    {
      "cell_type": "code",
      "metadata": {
        "id": "oiJW0LDwCpIv"
      },
      "source": [
        "from tensorflow.keras.preprocessing.text import Tokenizer\n",
        "from tensorflow.keras.preprocessing.sequence import pad_sequences"
      ],
      "execution_count": 25,
      "outputs": []
    },
    {
      "cell_type": "code",
      "metadata": {
        "id": "CaInhikBCquC"
      },
      "source": [
        "\n",
        "vocab_size = 10000\n",
        "trunc_type='post'\n",
        "oov_tok = \"<OOV>\"\n"
      ],
      "execution_count": 26,
      "outputs": []
    },
    {
      "cell_type": "code",
      "metadata": {
        "id": "wJ23VdBQDgOL",
        "colab": {
          "base_uri": "https://localhost:8080/"
        },
        "outputId": "5a1fb642-b8bd-43d7-e4e6-deebff0c49e6"
      },
      "source": [
        "\n",
        "tokenizer = Tokenizer(num_words = vocab_size, oov_token=oov_tok)\n",
        "print('Tokenizer created')\n"
      ],
      "execution_count": 27,
      "outputs": [
        {
          "output_type": "stream",
          "text": [
            "Tokenizer created\n"
          ],
          "name": "stdout"
        }
      ]
    },
    {
      "cell_type": "code",
      "metadata": {
        "id": "11WDZ2tiDo8R",
        "colab": {
          "base_uri": "https://localhost:8080/"
        },
        "outputId": "d783ef03-aed1-48ef-d1f5-ac081104554c"
      },
      "source": [
        "print('fitting on training sentences\\n.\\n.')\n",
        "\n",
        "tokenizer.fit_on_texts(data_1['Source'].values.astype('U'))\n",
        "\n",
        "print('.\\n.\\n.\\nfitted on training sentences')"
      ],
      "execution_count": 28,
      "outputs": [
        {
          "output_type": "stream",
          "text": [
            "fitting on training sentences\n",
            ".\n",
            ".\n",
            ".\n",
            ".\n",
            ".\n",
            "fitted on training sentences\n"
          ],
          "name": "stdout"
        }
      ]
    },
    {
      "cell_type": "code",
      "metadata": {
        "id": "-8rxt6J6EC8Z",
        "colab": {
          "base_uri": "https://localhost:8080/"
        },
        "outputId": "1371466f-1e8d-439d-bf93-90170a8ef7d4"
      },
      "source": [
        "word_index = tokenizer.word_index\n",
        "print('len of word index',len(word_index))"
      ],
      "execution_count": 29,
      "outputs": [
        {
          "output_type": "stream",
          "text": [
            "len of word index 79790\n"
          ],
          "name": "stdout"
        }
      ]
    },
    {
      "cell_type": "code",
      "metadata": {
        "id": "mNm7D3QFEEyM",
        "colab": {
          "base_uri": "https://localhost:8080/"
        },
        "outputId": "329dc90a-9c27-4cc2-8145-584197867a51"
      },
      "source": [
        "# %%time\n",
        "\n",
        "# import pickle\n",
        "\n",
        "# # saving\n",
        "# with open('tokenizer_model1_run2.pickle', 'wb') as handle:\n",
        "#     pickle.dump(tokenizer, handle, protocol=pickle.HIGHEST_PROTOCOL)\n",
        "# print('saved')\n",
        "%%time\n",
        "\n",
        "import pickle\n",
        "\n",
        "# saving\n",
        "with open('tokenizer_Jan5_model2.pickle', 'wb') as handle:\n",
        "    pickle.dump(tokenizer, handle, protocol=pickle.HIGHEST_PROTOCOL)\n",
        "print('saved')"
      ],
      "execution_count": 31,
      "outputs": [
        {
          "output_type": "stream",
          "text": [
            "saved\n",
            "CPU times: user 60.5 ms, sys: 13 ms, total: 73.5 ms\n",
            "Wall time: 73.1 ms\n"
          ],
          "name": "stdout"
        }
      ]
    },
    {
      "cell_type": "markdown",
      "metadata": {
        "id": "lMY-q1ytEJso"
      },
      "source": [
        "## copy to drive"
      ]
    },
    {
      "cell_type": "code",
      "metadata": {
        "id": "_zS5OA3EEJcH",
        "colab": {
          "base_uri": "https://localhost:8080/"
        },
        "outputId": "e03a91e1-8ec8-4c86-f009-d549273a5526"
      },
      "source": [
        "!cp '/content/tokenizer_Jan5_model2.pickle' '/content/drive/My Drive/datasets/LanguageDataset/final_changes/DL_models'\n",
        "!echo done"
      ],
      "execution_count": 32,
      "outputs": [
        {
          "output_type": "stream",
          "text": [
            "done\n"
          ],
          "name": "stdout"
        }
      ]
    },
    {
      "cell_type": "markdown",
      "metadata": {
        "id": "P9u57oEbEVme"
      },
      "source": [
        "#### Convert training sentences to sequences"
      ]
    },
    {
      "cell_type": "code",
      "metadata": {
        "id": "UrjLZFKnEf6N"
      },
      "source": [
        "max_length = 1000\n",
        "trunc_type='post'"
      ],
      "execution_count": 33,
      "outputs": []
    },
    {
      "cell_type": "code",
      "metadata": {
        "id": "By0O9L02EThr",
        "colab": {
          "base_uri": "https://localhost:8080/"
        },
        "outputId": "4a0dfeff-ad73-4941-8610-f201888f578e"
      },
      "source": [
        "%%time\n",
        "print('converting training data')\n",
        "X_train = tokenizer.texts_to_sequences(data_1['Source'].values.astype('U'))\n",
        "print(' .... converted text to sequences' , type(X_train),'\\n ')\n",
        "print('-'*70)\n",
        "\n",
        "X_train_padded = pad_sequences(X_train,maxlen=max_length, truncating=trunc_type)\n",
        "\n",
        "print('sequence padded to ',X_train_padded.shape)"
      ],
      "execution_count": 34,
      "outputs": [
        {
          "output_type": "stream",
          "text": [
            "converting training data\n",
            " .... converted text to sequences <class 'list'> \n",
            " \n",
            "----------------------------------------------------------------------\n",
            "sequence padded to  (24252, 1000)\n",
            "CPU times: user 4.5 s, sys: 448 ms, total: 4.95 s\n",
            "Wall time: 4.95 s\n"
          ],
          "name": "stdout"
        }
      ]
    },
    {
      "cell_type": "markdown",
      "metadata": {
        "id": "QFCbQ1IbEqb1"
      },
      "source": [
        "### Converting testing sentences to sequenes"
      ]
    },
    {
      "cell_type": "code",
      "metadata": {
        "id": "e2_SjDv3EuTS",
        "colab": {
          "base_uri": "https://localhost:8080/"
        },
        "outputId": "ff231adf-d36f-45ab-fef3-b3f3f19ca342"
      },
      "source": [
        "%%time\n",
        "\n",
        "X_test = tokenizer.texts_to_sequences(data_2['Source'].values.astype('U'))\n",
        "print('..converted text to sequences' , type(X_test),'\\n ')\n",
        "print('-'*70)\n",
        "X_test_padded = pad_sequences(X_test,maxlen=max_length, truncating=trunc_type)\n",
        "print('sequence padded to ',X_test_padded.shape)"
      ],
      "execution_count": 35,
      "outputs": [
        {
          "output_type": "stream",
          "text": [
            "..converted text to sequences <class 'list'> \n",
            " \n",
            "----------------------------------------------------------------------\n",
            "sequence padded to  (5748, 1000)\n",
            "CPU times: user 595 ms, sys: 10.9 ms, total: 606 ms\n",
            "Wall time: 606 ms\n"
          ],
          "name": "stdout"
        }
      ]
    },
    {
      "cell_type": "markdown",
      "metadata": {
        "id": "dAVqV1cKE0JV"
      },
      "source": [
        "## Preparing labels"
      ]
    },
    {
      "cell_type": "markdown",
      "metadata": {
        "id": "-T--2lxtE2gl"
      },
      "source": [
        "### Training labels"
      ]
    },
    {
      "cell_type": "code",
      "metadata": {
        "id": "f6eeJ5b5Ezro",
        "colab": {
          "base_uri": "https://localhost:8080/"
        },
        "outputId": "807a91a3-1817-4e3d-bf49-7efffffd6af7"
      },
      "source": [
        "Y_train = pd.get_dummies(data_1['Language'].values.astype('U'))\n",
        "print('and Y : ',type(Y_train))\n",
        "y_train = np.asarray(Y_train)\n",
        "print(X_train_padded.shape , y_train.shape)"
      ],
      "execution_count": 36,
      "outputs": [
        {
          "output_type": "stream",
          "text": [
            "and Y :  <class 'pandas.core.frame.DataFrame'>\n",
            "(24252, 1000) (24252, 15)\n"
          ],
          "name": "stdout"
        }
      ]
    },
    {
      "cell_type": "markdown",
      "metadata": {
        "id": "Gn8W8VdKE9Cu"
      },
      "source": [
        "### Testing labels"
      ]
    },
    {
      "cell_type": "code",
      "metadata": {
        "id": "8feOVGTrE_KB",
        "colab": {
          "base_uri": "https://localhost:8080/"
        },
        "outputId": "7dbb7e7a-539d-40c6-fa58-ba3f2778d2cb"
      },
      "source": [
        "Y_test = pd.get_dummies(data_2['Language'].values.astype('U'))\n",
        "print('and Y : ',type(Y_test))\n",
        "y_test = np.asarray(Y_test)\n",
        "print(X_test_padded.shape , y_test.shape)"
      ],
      "execution_count": 37,
      "outputs": [
        {
          "output_type": "stream",
          "text": [
            "and Y :  <class 'pandas.core.frame.DataFrame'>\n",
            "(5748, 1000) (5748, 15)\n"
          ],
          "name": "stdout"
        }
      ]
    },
    {
      "cell_type": "markdown",
      "metadata": {
        "id": "e2V9_AXwExYh"
      },
      "source": [
        "### Creating the model"
      ]
    },
    {
      "cell_type": "code",
      "metadata": {
        "colab": {
          "base_uri": "https://localhost:8080/"
        },
        "id": "12K40Rfsa8fc",
        "outputId": "93447252-3739-45af-a599-b1de9e93b1f4"
      },
      "source": [
        "my_model4 = tf.keras.models.Sequential()\n",
        "print('model created now add layers')"
      ],
      "execution_count": 38,
      "outputs": [
        {
          "output_type": "stream",
          "text": [
            "model created now add layers\n"
          ],
          "name": "stdout"
        }
      ]
    },
    {
      "cell_type": "code",
      "metadata": {
        "colab": {
          "base_uri": "https://localhost:8080/"
        },
        "id": "klDefcaRbAOt",
        "outputId": "9f07ff33-831a-475f-85ab-4d69763e57b0"
      },
      "source": [
        "# my_model.add(tf.keras.layers.Input(input_shape=2215))\n",
        "my_model4.add(tf.keras.layers.InputLayer(input_shape=max_length,dtype=tf.int32))\n",
        "print('\\n --> added input layer with max sequence max_features = ',max_length)\n",
        "my_model4.summary()\n",
        "# print('added input layer')"
      ],
      "execution_count": 39,
      "outputs": [
        {
          "output_type": "stream",
          "text": [
            "\n",
            " --> added input layer with max sequence max_features =  1000\n",
            "Model: \"sequential\"\n",
            "_________________________________________________________________\n",
            "Layer (type)                 Output Shape              Param #   \n",
            "=================================================================\n",
            "Total params: 0\n",
            "Trainable params: 0\n",
            "Non-trainable params: 0\n",
            "_________________________________________________________________\n"
          ],
          "name": "stdout"
        }
      ]
    },
    {
      "cell_type": "code",
      "metadata": {
        "colab": {
          "base_uri": "https://localhost:8080/"
        },
        "id": "cDupiLpBbCG4",
        "outputId": "a7034bbc-609a-494a-d56e-ed14c2f0e096"
      },
      "source": [
        "t = len(tokenizer.word_index)\n",
        "t , t**(0.25)"
      ],
      "execution_count": 40,
      "outputs": [
        {
          "output_type": "execute_result",
          "data": {
            "text/plain": [
              "(79790, 16.80688065864203)"
            ]
          },
          "metadata": {
            "tags": []
          },
          "execution_count": 40
        }
      ]
    },
    {
      "cell_type": "markdown",
      "metadata": {
        "id": "bLU2wm66bGAH"
      },
      "source": [
        "### embedding dim 32"
      ]
    },
    {
      "cell_type": "code",
      "metadata": {
        "id": "Sfs0RLoBbEI_"
      },
      "source": [
        "embed_dim = 32"
      ],
      "execution_count": 41,
      "outputs": []
    },
    {
      "cell_type": "code",
      "metadata": {
        "colab": {
          "base_uri": "https://localhost:8080/"
        },
        "id": "8uwoR62zbImw",
        "outputId": "a0d03752-7a7b-4ca4-a1e9-43dc5deff43c"
      },
      "source": [
        "my_model4.add(tf.keras.layers.Embedding(vocab_size, embed_dim,input_length = max_length))\n",
        "print('\\n-->added embedding layer with vocab size = ',vocab_size,'embed dim = ',embed_dim,'\\n')\n",
        "my_model4.summary()"
      ],
      "execution_count": 42,
      "outputs": [
        {
          "output_type": "stream",
          "text": [
            "\n",
            "-->added embedding layer with vocab size =  10000 embed dim =  32 \n",
            "\n",
            "Model: \"sequential\"\n",
            "_________________________________________________________________\n",
            "Layer (type)                 Output Shape              Param #   \n",
            "=================================================================\n",
            "embedding (Embedding)        (None, 1000, 32)          320000    \n",
            "=================================================================\n",
            "Total params: 320,000\n",
            "Trainable params: 320,000\n",
            "Non-trainable params: 0\n",
            "_________________________________________________________________\n"
          ],
          "name": "stdout"
        }
      ]
    },
    {
      "cell_type": "code",
      "metadata": {
        "colab": {
          "base_uri": "https://localhost:8080/"
        },
        "id": "6FnSbmBHbKrS",
        "outputId": "7c8126e6-4197-4179-912f-4aba58d78f9e"
      },
      "source": [
        "# model.add(Conv1D(filters=128, kernel_size=3, padding='same', dilation_rate=1,activation='relu'))\n",
        "my_model4.add(tf.keras.layers.Conv1D(128 , 5, padding='valid',kernel_initializer='random_normal'))\n",
        "print('.\\n.\\n.\\n-->added conv1d layer with 128 filters size = 3, valid padding  ,random_normal initializer')\n",
        "my_model4.add(tf.keras.layers.MaxPool1D(pool_size=5))\n",
        "print('added pool layer')\n",
        "my_model4.add(tf.keras.layers.BatchNormalization())\n",
        "print('added batch norm layer')\n",
        "my_model4.add(tf.keras.layers.Activation('relu'))\n",
        "print('added relu activation layer')\n",
        "my_model4.summary()"
      ],
      "execution_count": 43,
      "outputs": [
        {
          "output_type": "stream",
          "text": [
            ".\n",
            ".\n",
            ".\n",
            "-->added conv1d layer with 128 filters size = 3, valid padding  ,random_normal initializer\n",
            "added pool layer\n",
            "added batch norm layer\n",
            "added relu activation layer\n",
            "Model: \"sequential\"\n",
            "_________________________________________________________________\n",
            "Layer (type)                 Output Shape              Param #   \n",
            "=================================================================\n",
            "embedding (Embedding)        (None, 1000, 32)          320000    \n",
            "_________________________________________________________________\n",
            "conv1d (Conv1D)              (None, 996, 128)          20608     \n",
            "_________________________________________________________________\n",
            "max_pooling1d (MaxPooling1D) (None, 199, 128)          0         \n",
            "_________________________________________________________________\n",
            "batch_normalization (BatchNo (None, 199, 128)          512       \n",
            "_________________________________________________________________\n",
            "activation (Activation)      (None, 199, 128)          0         \n",
            "=================================================================\n",
            "Total params: 341,120\n",
            "Trainable params: 340,864\n",
            "Non-trainable params: 256\n",
            "_________________________________________________________________\n"
          ],
          "name": "stdout"
        }
      ]
    },
    {
      "cell_type": "code",
      "metadata": {
        "colab": {
          "base_uri": "https://localhost:8080/"
        },
        "id": "5M-UlzUcbYSy",
        "outputId": "64c2fad9-0ca6-4f33-db66-97119f07b7c6"
      },
      "source": [
        "# #  tf.keras.layers.GlobalAveragePooling1D(),\n",
        "my_model4.add(tf.keras.layers.GlobalAveragePooling1D())\n",
        "print('added global average poolinglayer')\n",
        "my_model4.summary()\n",
        "# my_model3.summary()\n"
      ],
      "execution_count": 44,
      "outputs": [
        {
          "output_type": "stream",
          "text": [
            "added global average poolinglayer\n",
            "Model: \"sequential\"\n",
            "_________________________________________________________________\n",
            "Layer (type)                 Output Shape              Param #   \n",
            "=================================================================\n",
            "embedding (Embedding)        (None, 1000, 32)          320000    \n",
            "_________________________________________________________________\n",
            "conv1d (Conv1D)              (None, 996, 128)          20608     \n",
            "_________________________________________________________________\n",
            "max_pooling1d (MaxPooling1D) (None, 199, 128)          0         \n",
            "_________________________________________________________________\n",
            "batch_normalization (BatchNo (None, 199, 128)          512       \n",
            "_________________________________________________________________\n",
            "activation (Activation)      (None, 199, 128)          0         \n",
            "_________________________________________________________________\n",
            "global_average_pooling1d (Gl (None, 128)               0         \n",
            "=================================================================\n",
            "Total params: 341,120\n",
            "Trainable params: 340,864\n",
            "Non-trainable params: 256\n",
            "_________________________________________________________________\n"
          ],
          "name": "stdout"
        }
      ]
    },
    {
      "cell_type": "code",
      "metadata": {
        "colab": {
          "base_uri": "https://localhost:8080/"
        },
        "id": "RC_yn0atbmMw",
        "outputId": "c0299809-2d13-436b-8f27-9cdad51b3ec0"
      },
      "source": [
        "my_model4.add(tf.keras.layers.Dropout(0.5))\n",
        "print('.\\n.\\n.\\n--> added a 0.5 dropout layer')\n",
        "my_model4.add(tf.keras.layers.Dense(64,kernel_regularizer=tf.keras.regularizers.l1_l2(l1=1e-7, l2=1e-5)))\n",
        "print('.\\n.\\n.\\n--> added a dense layer with l1_l2 regularization')\n",
        "my_model4.add(tf.keras.layers.BatchNormalization())\n",
        "print('added batch norm layer')\n",
        "my_model4.add(tf.keras.layers.Activation('tanh'))\n",
        "print('added tanh activation layer')\n",
        "my_model4.add(tf.keras.layers.Flatten())\n",
        "print('.\\n.\\n.\\n--> flatten layer')\n",
        "my_model4.summary()"
      ],
      "execution_count": 45,
      "outputs": [
        {
          "output_type": "stream",
          "text": [
            ".\n",
            ".\n",
            ".\n",
            "--> added a 0.5 dropout layer\n",
            ".\n",
            ".\n",
            ".\n",
            "--> added a dense layer with l1_l2 regularization\n",
            "added batch norm layer\n",
            "added tanh activation layer\n",
            ".\n",
            ".\n",
            ".\n",
            "--> flatten layer\n",
            "Model: \"sequential\"\n",
            "_________________________________________________________________\n",
            "Layer (type)                 Output Shape              Param #   \n",
            "=================================================================\n",
            "embedding (Embedding)        (None, 1000, 32)          320000    \n",
            "_________________________________________________________________\n",
            "conv1d (Conv1D)              (None, 996, 128)          20608     \n",
            "_________________________________________________________________\n",
            "max_pooling1d (MaxPooling1D) (None, 199, 128)          0         \n",
            "_________________________________________________________________\n",
            "batch_normalization (BatchNo (None, 199, 128)          512       \n",
            "_________________________________________________________________\n",
            "activation (Activation)      (None, 199, 128)          0         \n",
            "_________________________________________________________________\n",
            "global_average_pooling1d (Gl (None, 128)               0         \n",
            "_________________________________________________________________\n",
            "dropout (Dropout)            (None, 128)               0         \n",
            "_________________________________________________________________\n",
            "dense (Dense)                (None, 64)                8256      \n",
            "_________________________________________________________________\n",
            "batch_normalization_1 (Batch (None, 64)                256       \n",
            "_________________________________________________________________\n",
            "activation_1 (Activation)    (None, 64)                0         \n",
            "_________________________________________________________________\n",
            "flatten (Flatten)            (None, 64)                0         \n",
            "=================================================================\n",
            "Total params: 349,632\n",
            "Trainable params: 349,248\n",
            "Non-trainable params: 384\n",
            "_________________________________________________________________\n"
          ],
          "name": "stdout"
        }
      ]
    },
    {
      "cell_type": "code",
      "metadata": {
        "id": "lfEk2NbTdtWd"
      },
      "source": [
        "# my_model.add(tf.keras.layers.Dense(16))\n",
        "# print('.\\n.\\n.\\n--> added a dense layer with ')\n",
        "# my_model.add(tf.keras.layers.BatchNormalization())\n",
        "# print('added batch norm layer')\n",
        "# my_model.add(tf.keras.layers.Activation('sigmoid'))\n",
        "# print('added sigmoid activation layer')\n",
        "# my_model.add(tf.keras.layers.Flatten())\n",
        "# print('.\\n.\\n.\\n--> flatten layer')"
      ],
      "execution_count": 46,
      "outputs": []
    },
    {
      "cell_type": "code",
      "metadata": {
        "colab": {
          "base_uri": "https://localhost:8080/"
        },
        "id": "5PyRva-Wb0pa",
        "outputId": "89e24b2f-32fb-4b4f-8b3a-09b12987a564"
      },
      "source": [
        "num_classes = 15\n",
        "\n",
        "\n",
        "my_model4.add(tf.keras.layers.Dense(num_classes))\n",
        "print('--> dense layer of size =  ',num_classes)\n",
        "my_model4.add(tf.keras.layers.BatchNormalization())\n",
        "print('added batch norm layer')\n",
        "my_model4.add(tf.keras.layers.Activation('sigmoid'))\n",
        "print('added sigmoid activation layer')\n",
        "my_model4.add(tf.keras.layers.Flatten())\n",
        "print('.\\n.\\n.\\n--> flatten layer')\n",
        "my_model4.add(tf.keras.layers.Activation('softmax'))\n",
        "print('added final softmax activation layer')\n",
        "\n",
        "my_model4.summary()"
      ],
      "execution_count": 47,
      "outputs": [
        {
          "output_type": "stream",
          "text": [
            "--> dense layer of size =   15\n",
            "added batch norm layer\n",
            "added sigmoid activation layer\n",
            ".\n",
            ".\n",
            ".\n",
            "--> flatten layer\n",
            "added final softmax activation layer\n",
            "Model: \"sequential\"\n",
            "_________________________________________________________________\n",
            "Layer (type)                 Output Shape              Param #   \n",
            "=================================================================\n",
            "embedding (Embedding)        (None, 1000, 32)          320000    \n",
            "_________________________________________________________________\n",
            "conv1d (Conv1D)              (None, 996, 128)          20608     \n",
            "_________________________________________________________________\n",
            "max_pooling1d (MaxPooling1D) (None, 199, 128)          0         \n",
            "_________________________________________________________________\n",
            "batch_normalization (BatchNo (None, 199, 128)          512       \n",
            "_________________________________________________________________\n",
            "activation (Activation)      (None, 199, 128)          0         \n",
            "_________________________________________________________________\n",
            "global_average_pooling1d (Gl (None, 128)               0         \n",
            "_________________________________________________________________\n",
            "dropout (Dropout)            (None, 128)               0         \n",
            "_________________________________________________________________\n",
            "dense (Dense)                (None, 64)                8256      \n",
            "_________________________________________________________________\n",
            "batch_normalization_1 (Batch (None, 64)                256       \n",
            "_________________________________________________________________\n",
            "activation_1 (Activation)    (None, 64)                0         \n",
            "_________________________________________________________________\n",
            "flatten (Flatten)            (None, 64)                0         \n",
            "_________________________________________________________________\n",
            "dense_1 (Dense)              (None, 15)                975       \n",
            "_________________________________________________________________\n",
            "batch_normalization_2 (Batch (None, 15)                60        \n",
            "_________________________________________________________________\n",
            "activation_2 (Activation)    (None, 15)                0         \n",
            "_________________________________________________________________\n",
            "flatten_1 (Flatten)          (None, 15)                0         \n",
            "_________________________________________________________________\n",
            "activation_3 (Activation)    (None, 15)                0         \n",
            "=================================================================\n",
            "Total params: 350,667\n",
            "Trainable params: 350,253\n",
            "Non-trainable params: 414\n",
            "_________________________________________________________________\n"
          ],
          "name": "stdout"
        }
      ]
    },
    {
      "cell_type": "markdown",
      "metadata": {
        "id": "GaDgzvQHb9Tp"
      },
      "source": [
        "### Model created"
      ]
    },
    {
      "cell_type": "code",
      "metadata": {
        "colab": {
          "base_uri": "https://localhost:8080/"
        },
        "id": "sYIKaSI9b5kT",
        "outputId": "d3096e0d-7d73-4460-f3d5-7854b4ad2bed"
      },
      "source": [
        "my_model4.compile(optimizer=tf.keras.optimizers.Adam(\n",
        "    learning_rate=0.00001, beta_1=0.9, beta_2=0.999, epsilon=1e-07, amsgrad=False,\n",
        "    name='Adam',), loss='categorical_crossentropy', metrics=['accuracy'])\n",
        "print('--->compiled with learning rate : 0.00001 -')"
      ],
      "execution_count": 48,
      "outputs": [
        {
          "output_type": "stream",
          "text": [
            "--->compiled with learning rate : 0.00001 -\n"
          ],
          "name": "stdout"
        }
      ]
    },
    {
      "cell_type": "markdown",
      "metadata": {
        "id": "IpwtFtbdcAqo"
      },
      "source": [
        "### model compiled"
      ]
    },
    {
      "cell_type": "markdown",
      "metadata": {
        "id": "coPwBJX8cDyR"
      },
      "source": [
        "### Now training the model"
      ]
    },
    {
      "cell_type": "markdown",
      "metadata": {
        "id": "bLG0BWdTcG2b"
      },
      "source": [
        "### using k fold cross validation"
      ]
    },
    {
      "cell_type": "code",
      "metadata": {
        "id": "2Q5mbujpcGaV"
      },
      "source": [
        "from sklearn.model_selection import KFold\n",
        "\n",
        "# n_fold = 2\n",
        "# n_fold = 3 \n",
        "# n_fold = 5\n",
        "n_fold = 10\n",
        "\n",
        "k_fold = KFold(n_fold,shuffle=True,random_state=14)"
      ],
      "execution_count": 49,
      "outputs": []
    },
    {
      "cell_type": "code",
      "metadata": {
        "colab": {
          "base_uri": "https://localhost:8080/"
        },
        "id": "XltxiAnXhCsh",
        "outputId": "0bf86bf9-0b2c-4cc7-9ff1-21d37bcc0d92"
      },
      "source": [
        "k_fold\n"
      ],
      "execution_count": 50,
      "outputs": [
        {
          "output_type": "execute_result",
          "data": {
            "text/plain": [
              "KFold(n_splits=10, random_state=14, shuffle=True)"
            ]
          },
          "metadata": {
            "tags": []
          },
          "execution_count": 50
        }
      ]
    },
    {
      "cell_type": "code",
      "metadata": {
        "colab": {
          "base_uri": "https://localhost:8080/"
        },
        "id": "cUWEDTK-cAMh",
        "outputId": "4cefc67f-cd52-4678-ba4d-5f3d84125c1d"
      },
      "source": [
        "%%time\n",
        "\n",
        "scores = []\n",
        "histories = []\n",
        "print('......... fitting the model\\n')\n",
        "\n",
        "for train_iX,test_iX in k_fold.split(X_train_padded):\n",
        "  # selecting rows for trainX and trainY first train data and then cross validation data\n",
        "  x_itrain,y_itrain,x_cv,y_cv = X_train_padded[train_iX] , y_train[train_iX] , X_train_padded[test_iX], y_train[test_iX]\n",
        "    # fit into model with batch sizes of 32 and epochs 10\n",
        "    # # history = my_model.fit(x_train,y_train,batch_size=32,epochs=10,verbose=1,validation_data=(x_cv,y_cv))\n",
        "  history = my_model4.fit(x_itrain,y_itrain,batch_size=64,epochs=10,verbose=1,validation_data=(x_cv,y_cv))\n",
        "  # evaluate model\n",
        "  loss,acc = my_model4.evaluate(X_test_padded , y_test,verbose=2)\n",
        "  print('-'*80)\n",
        "  print('\\n\\t --> accuracy on test data : {:.6f}% and loss : {:.7f} <--\\n'.format(acc * 100.0,loss))\n",
        "  print('-'*80)\n",
        "    # # stores scores  \n",
        "  scores.append(acc)\n",
        "  histories.append(history)\n",
        "\n",
        "print('done')"
      ],
      "execution_count": 51,
      "outputs": [
        {
          "output_type": "stream",
          "text": [
            "......... fitting the model\n",
            "\n",
            "Epoch 1/10\n",
            "342/342 [==============================] - 16s 24ms/step - loss: 2.7244 - accuracy: 0.0660 - val_loss: 2.7096 - val_accuracy: 0.0676\n",
            "Epoch 2/10\n",
            "342/342 [==============================] - 7s 21ms/step - loss: 2.7185 - accuracy: 0.0701 - val_loss: 2.7012 - val_accuracy: 0.0890\n",
            "Epoch 3/10\n",
            "342/342 [==============================] - 7s 22ms/step - loss: 2.7162 - accuracy: 0.0718 - val_loss: 2.6931 - val_accuracy: 0.1002\n",
            "Epoch 4/10\n",
            "342/342 [==============================] - 7s 19ms/step - loss: 2.7064 - accuracy: 0.0805 - val_loss: 2.6864 - val_accuracy: 0.1331\n",
            "Epoch 5/10\n",
            "342/342 [==============================] - 8s 22ms/step - loss: 2.7025 - accuracy: 0.0829 - val_loss: 2.6792 - val_accuracy: 0.1505\n",
            "Epoch 6/10\n",
            "342/342 [==============================] - 8s 22ms/step - loss: 2.6956 - accuracy: 0.0929 - val_loss: 2.6713 - val_accuracy: 0.1645\n",
            "Epoch 7/10\n",
            "342/342 [==============================] - 7s 22ms/step - loss: 2.6896 - accuracy: 0.0906 - val_loss: 2.6627 - val_accuracy: 0.1834\n",
            "Epoch 8/10\n",
            "342/342 [==============================] - 8s 22ms/step - loss: 2.6819 - accuracy: 0.1051 - val_loss: 2.6540 - val_accuracy: 0.1983\n",
            "Epoch 9/10\n",
            "342/342 [==============================] - 7s 22ms/step - loss: 2.6720 - accuracy: 0.1143 - val_loss: 2.6435 - val_accuracy: 0.2308\n",
            "Epoch 10/10\n",
            "342/342 [==============================] - 8s 23ms/step - loss: 2.6669 - accuracy: 0.1216 - val_loss: 2.6330 - val_accuracy: 0.2481\n",
            "180/180 - 1s - loss: 2.6322 - accuracy: 0.2338\n",
            "--------------------------------------------------------------------------------\n",
            "\n",
            "\t --> accuracy on test data : 23.382045% and loss : 2.6322494 <--\n",
            "\n",
            "--------------------------------------------------------------------------------\n",
            "Epoch 1/10\n",
            "342/342 [==============================] - 7s 22ms/step - loss: 2.6535 - accuracy: 0.1336 - val_loss: 2.6134 - val_accuracy: 0.2704\n",
            "Epoch 2/10\n",
            "342/342 [==============================] - 7s 22ms/step - loss: 2.6405 - accuracy: 0.1504 - val_loss: 2.6017 - val_accuracy: 0.3096\n",
            "Epoch 3/10\n",
            "342/342 [==============================] - 7s 22ms/step - loss: 2.6290 - accuracy: 0.1661 - val_loss: 2.5902 - val_accuracy: 0.3343\n",
            "Epoch 4/10\n",
            "342/342 [==============================] - 8s 22ms/step - loss: 2.6183 - accuracy: 0.1815 - val_loss: 2.5800 - val_accuracy: 0.3512\n",
            "Epoch 5/10\n",
            "342/342 [==============================] - 7s 22ms/step - loss: 2.6082 - accuracy: 0.1994 - val_loss: 2.5721 - val_accuracy: 0.3726\n",
            "Epoch 6/10\n",
            "342/342 [==============================] - 7s 21ms/step - loss: 2.5949 - accuracy: 0.2207 - val_loss: 2.5610 - val_accuracy: 0.3920\n",
            "Epoch 7/10\n",
            "342/342 [==============================] - 5s 16ms/step - loss: 2.5848 - accuracy: 0.2381 - val_loss: 2.5587 - val_accuracy: 0.3553\n",
            "Epoch 8/10\n",
            "342/342 [==============================] - 5s 16ms/step - loss: 2.5729 - accuracy: 0.2644 - val_loss: 2.5473 - val_accuracy: 0.4035\n",
            "Epoch 9/10\n",
            "342/342 [==============================] - 5s 16ms/step - loss: 2.5605 - accuracy: 0.2942 - val_loss: 2.5378 - val_accuracy: 0.3994\n",
            "Epoch 10/10\n",
            "342/342 [==============================] - 5s 16ms/step - loss: 2.5525 - accuracy: 0.3127 - val_loss: 2.5343 - val_accuracy: 0.3895\n",
            "180/180 - 1s - loss: 2.5462 - accuracy: 0.3638\n",
            "--------------------------------------------------------------------------------\n",
            "\n",
            "\t --> accuracy on test data : 36.377871% and loss : 2.5461638 <--\n",
            "\n",
            "--------------------------------------------------------------------------------\n",
            "Epoch 1/10\n",
            "342/342 [==============================] - 6s 17ms/step - loss: 2.5437 - accuracy: 0.3318 - val_loss: 2.5337 - val_accuracy: 0.4177\n",
            "Epoch 2/10\n",
            "342/342 [==============================] - 6s 17ms/step - loss: 2.5365 - accuracy: 0.3417 - val_loss: 2.5240 - val_accuracy: 0.4012\n",
            "Epoch 3/10\n",
            "342/342 [==============================] - 6s 17ms/step - loss: 2.5271 - accuracy: 0.3681 - val_loss: 2.5191 - val_accuracy: 0.4528\n",
            "Epoch 4/10\n",
            "342/342 [==============================] - 6s 16ms/step - loss: 2.5218 - accuracy: 0.3825 - val_loss: 2.5103 - val_accuracy: 0.3988\n",
            "Epoch 5/10\n",
            "342/342 [==============================] - 6s 16ms/step - loss: 2.5163 - accuracy: 0.3883 - val_loss: 2.4988 - val_accuracy: 0.4569\n",
            "Epoch 6/10\n",
            "342/342 [==============================] - 6s 16ms/step - loss: 2.5115 - accuracy: 0.4074 - val_loss: 2.5114 - val_accuracy: 0.3794\n",
            "Epoch 7/10\n",
            "342/342 [==============================] - 6s 17ms/step - loss: 2.5076 - accuracy: 0.4096 - val_loss: 2.4913 - val_accuracy: 0.5241\n",
            "Epoch 8/10\n",
            "342/342 [==============================] - 7s 20ms/step - loss: 2.5032 - accuracy: 0.4243 - val_loss: 2.4926 - val_accuracy: 0.4689\n",
            "Epoch 9/10\n",
            "342/342 [==============================] - 7s 19ms/step - loss: 2.4985 - accuracy: 0.4288 - val_loss: 2.4863 - val_accuracy: 0.5324\n",
            "Epoch 10/10\n",
            "342/342 [==============================] - 7s 20ms/step - loss: 2.4949 - accuracy: 0.4413 - val_loss: 2.4845 - val_accuracy: 0.4903\n",
            "180/180 - 1s - loss: 2.4844 - accuracy: 0.4835\n",
            "--------------------------------------------------------------------------------\n",
            "\n",
            "\t --> accuracy on test data : 48.347253% and loss : 2.4843664 <--\n",
            "\n",
            "--------------------------------------------------------------------------------\n",
            "Epoch 1/10\n",
            "342/342 [==============================] - 7s 20ms/step - loss: 2.4918 - accuracy: 0.4488 - val_loss: 2.4682 - val_accuracy: 0.5707\n",
            "Epoch 2/10\n",
            "342/342 [==============================] - 7s 20ms/step - loss: 2.4875 - accuracy: 0.4553 - val_loss: 2.4644 - val_accuracy: 0.5757\n",
            "Epoch 3/10\n",
            "342/342 [==============================] - 7s 21ms/step - loss: 2.4849 - accuracy: 0.4633 - val_loss: 2.4623 - val_accuracy: 0.5674\n",
            "Epoch 4/10\n",
            "342/342 [==============================] - 5s 16ms/step - loss: 2.4801 - accuracy: 0.4767 - val_loss: 2.4597 - val_accuracy: 0.5600\n",
            "Epoch 5/10\n",
            "342/342 [==============================] - 5s 16ms/step - loss: 2.4776 - accuracy: 0.4776 - val_loss: 2.4570 - val_accuracy: 0.5414\n",
            "Epoch 6/10\n",
            "342/342 [==============================] - 6s 16ms/step - loss: 2.4750 - accuracy: 0.4862 - val_loss: 2.4503 - val_accuracy: 0.5678\n",
            "Epoch 7/10\n",
            "342/342 [==============================] - 6s 16ms/step - loss: 2.4711 - accuracy: 0.4922 - val_loss: 2.4558 - val_accuracy: 0.5493\n",
            "Epoch 8/10\n",
            "342/342 [==============================] - 6s 16ms/step - loss: 2.4678 - accuracy: 0.4986 - val_loss: 2.4485 - val_accuracy: 0.6128\n",
            "Epoch 9/10\n",
            "342/342 [==============================] - 5s 16ms/step - loss: 2.4654 - accuracy: 0.5063 - val_loss: 2.4450 - val_accuracy: 0.5971\n",
            "Epoch 10/10\n",
            "342/342 [==============================] - 6s 16ms/step - loss: 2.4622 - accuracy: 0.5101 - val_loss: 2.4438 - val_accuracy: 0.5856\n",
            "180/180 - 1s - loss: 2.4533 - accuracy: 0.5651\n",
            "--------------------------------------------------------------------------------\n",
            "\n",
            "\t --> accuracy on test data : 56.506610% and loss : 2.4532754 <--\n",
            "\n",
            "--------------------------------------------------------------------------------\n",
            "Epoch 1/10\n",
            "342/342 [==============================] - 6s 17ms/step - loss: 2.4595 - accuracy: 0.5209 - val_loss: 2.4377 - val_accuracy: 0.6289\n",
            "Epoch 2/10\n",
            "342/342 [==============================] - 6s 16ms/step - loss: 2.4575 - accuracy: 0.5218 - val_loss: 2.4390 - val_accuracy: 0.6462\n",
            "Epoch 3/10\n",
            "342/342 [==============================] - 6s 16ms/step - loss: 2.4545 - accuracy: 0.5222 - val_loss: 2.4327 - val_accuracy: 0.6012\n",
            "Epoch 4/10\n",
            "342/342 [==============================] - 5s 16ms/step - loss: 2.4519 - accuracy: 0.5359 - val_loss: 2.4293 - val_accuracy: 0.5901\n",
            "Epoch 5/10\n",
            "342/342 [==============================] - 5s 16ms/step - loss: 2.4489 - accuracy: 0.5419 - val_loss: 2.4274 - val_accuracy: 0.5988\n",
            "Epoch 6/10\n",
            "342/342 [==============================] - 5s 16ms/step - loss: 2.4471 - accuracy: 0.5386 - val_loss: 2.4236 - val_accuracy: 0.6074\n",
            "Epoch 7/10\n",
            "342/342 [==============================] - 5s 16ms/step - loss: 2.4452 - accuracy: 0.5433 - val_loss: 2.4237 - val_accuracy: 0.6631\n",
            "Epoch 8/10\n",
            "342/342 [==============================] - 5s 16ms/step - loss: 2.4428 - accuracy: 0.5528 - val_loss: 2.4240 - val_accuracy: 0.6058\n",
            "Epoch 9/10\n",
            "342/342 [==============================] - 5s 16ms/step - loss: 2.4401 - accuracy: 0.5512 - val_loss: 2.4216 - val_accuracy: 0.6396\n",
            "Epoch 10/10\n",
            "342/342 [==============================] - 6s 16ms/step - loss: 2.4376 - accuracy: 0.5582 - val_loss: 2.4175 - val_accuracy: 0.6367\n",
            "180/180 - 1s - loss: 2.4285 - accuracy: 0.6007\n",
            "--------------------------------------------------------------------------------\n",
            "\n",
            "\t --> accuracy on test data : 60.073072% and loss : 2.4285345 <--\n",
            "\n",
            "--------------------------------------------------------------------------------\n",
            "Epoch 1/10\n",
            "342/342 [==============================] - 5s 16ms/step - loss: 2.4364 - accuracy: 0.5597 - val_loss: 2.4087 - val_accuracy: 0.6309\n",
            "Epoch 2/10\n",
            "342/342 [==============================] - 6s 17ms/step - loss: 2.4338 - accuracy: 0.5631 - val_loss: 2.4037 - val_accuracy: 0.6837\n",
            "Epoch 3/10\n",
            "342/342 [==============================] - 6s 17ms/step - loss: 2.4328 - accuracy: 0.5683 - val_loss: 2.4013 - val_accuracy: 0.6462\n",
            "Epoch 4/10\n",
            "342/342 [==============================] - 6s 17ms/step - loss: 2.4308 - accuracy: 0.5663 - val_loss: 2.3978 - val_accuracy: 0.6619\n",
            "Epoch 5/10\n",
            "342/342 [==============================] - 6s 18ms/step - loss: 2.4276 - accuracy: 0.5754 - val_loss: 2.3932 - val_accuracy: 0.6693\n",
            "Epoch 6/10\n",
            "342/342 [==============================] - 6s 19ms/step - loss: 2.4257 - accuracy: 0.5800 - val_loss: 2.3966 - val_accuracy: 0.6470\n",
            "Epoch 7/10\n",
            "342/342 [==============================] - 6s 17ms/step - loss: 2.4240 - accuracy: 0.5803 - val_loss: 2.3953 - val_accuracy: 0.6239\n",
            "Epoch 8/10\n",
            "342/342 [==============================] - 6s 17ms/step - loss: 2.4226 - accuracy: 0.5820 - val_loss: 2.3911 - val_accuracy: 0.6577\n",
            "Epoch 9/10\n",
            "342/342 [==============================] - 6s 17ms/step - loss: 2.4198 - accuracy: 0.5887 - val_loss: 2.3950 - val_accuracy: 0.6746\n",
            "Epoch 10/10\n",
            "342/342 [==============================] - 6s 17ms/step - loss: 2.4185 - accuracy: 0.5901 - val_loss: 2.3885 - val_accuracy: 0.6755\n",
            "180/180 - 1s - loss: 2.4121 - accuracy: 0.6167\n",
            "--------------------------------------------------------------------------------\n",
            "\n",
            "\t --> accuracy on test data : 61.673623% and loss : 2.4121428 <--\n",
            "\n",
            "--------------------------------------------------------------------------------\n",
            "Epoch 1/10\n",
            "342/342 [==============================] - 6s 17ms/step - loss: 2.4168 - accuracy: 0.5878 - val_loss: 2.3925 - val_accuracy: 0.6792\n",
            "Epoch 2/10\n",
            "342/342 [==============================] - 6s 16ms/step - loss: 2.4152 - accuracy: 0.5901 - val_loss: 2.3903 - val_accuracy: 0.6866\n",
            "Epoch 3/10\n",
            "342/342 [==============================] - 6s 16ms/step - loss: 2.4131 - accuracy: 0.5967 - val_loss: 2.3878 - val_accuracy: 0.6792\n",
            "Epoch 4/10\n",
            "342/342 [==============================] - 6s 17ms/step - loss: 2.4113 - accuracy: 0.6007 - val_loss: 2.3822 - val_accuracy: 0.6977\n",
            "Epoch 5/10\n",
            "342/342 [==============================] - 6s 17ms/step - loss: 2.4084 - accuracy: 0.6032 - val_loss: 2.3836 - val_accuracy: 0.6891\n",
            "Epoch 6/10\n",
            "342/342 [==============================] - 6s 17ms/step - loss: 2.4079 - accuracy: 0.5995 - val_loss: 2.3882 - val_accuracy: 0.7093\n",
            "Epoch 7/10\n",
            "342/342 [==============================] - 5s 16ms/step - loss: 2.4063 - accuracy: 0.6054 - val_loss: 2.3852 - val_accuracy: 0.6763\n",
            "Epoch 8/10\n",
            "342/342 [==============================] - 5s 16ms/step - loss: 2.4044 - accuracy: 0.6089 - val_loss: 2.3813 - val_accuracy: 0.7047\n",
            "Epoch 9/10\n",
            "342/342 [==============================] - 5s 16ms/step - loss: 2.4029 - accuracy: 0.6080 - val_loss: 2.3802 - val_accuracy: 0.7068\n",
            "Epoch 10/10\n",
            "342/342 [==============================] - 5s 16ms/step - loss: 2.4010 - accuracy: 0.6101 - val_loss: 2.3794 - val_accuracy: 0.6610\n",
            "180/180 - 1s - loss: 2.3996 - accuracy: 0.6094\n",
            "--------------------------------------------------------------------------------\n",
            "\n",
            "\t --> accuracy on test data : 60.942936% and loss : 2.3996487 <--\n",
            "\n",
            "--------------------------------------------------------------------------------\n",
            "Epoch 1/10\n",
            "342/342 [==============================] - 5s 16ms/step - loss: 2.3993 - accuracy: 0.6147 - val_loss: 2.3698 - val_accuracy: 0.6965\n",
            "Epoch 2/10\n",
            "342/342 [==============================] - 5s 15ms/step - loss: 2.3979 - accuracy: 0.6172 - val_loss: 2.3683 - val_accuracy: 0.7010\n",
            "Epoch 3/10\n",
            "342/342 [==============================] - 5s 16ms/step - loss: 2.3965 - accuracy: 0.6190 - val_loss: 2.3710 - val_accuracy: 0.6478\n",
            "Epoch 4/10\n",
            "342/342 [==============================] - 5s 16ms/step - loss: 2.3942 - accuracy: 0.6220 - val_loss: 2.3631 - val_accuracy: 0.6907\n",
            "Epoch 5/10\n",
            "342/342 [==============================] - 5s 16ms/step - loss: 2.3925 - accuracy: 0.6267 - val_loss: 2.3677 - val_accuracy: 0.6849\n",
            "Epoch 6/10\n",
            "342/342 [==============================] - 5s 16ms/step - loss: 2.3907 - accuracy: 0.6263 - val_loss: 2.3638 - val_accuracy: 0.7056\n",
            "Epoch 7/10\n",
            "342/342 [==============================] - 5s 15ms/step - loss: 2.3899 - accuracy: 0.6255 - val_loss: 2.3636 - val_accuracy: 0.7175\n",
            "Epoch 8/10\n",
            "342/342 [==============================] - 5s 15ms/step - loss: 2.3879 - accuracy: 0.6303 - val_loss: 2.3607 - val_accuracy: 0.7171\n",
            "Epoch 9/10\n",
            "342/342 [==============================] - 5s 15ms/step - loss: 2.3863 - accuracy: 0.6339 - val_loss: 2.3560 - val_accuracy: 0.7159\n",
            "Epoch 10/10\n",
            "342/342 [==============================] - 5s 15ms/step - loss: 2.3851 - accuracy: 0.6341 - val_loss: 2.3596 - val_accuracy: 0.7233\n",
            "180/180 - 1s - loss: 2.3829 - accuracy: 0.6627\n",
            "--------------------------------------------------------------------------------\n",
            "\n",
            "\t --> accuracy on test data : 66.266525% and loss : 2.3829324 <--\n",
            "\n",
            "--------------------------------------------------------------------------------\n",
            "Epoch 1/10\n",
            "342/342 [==============================] - 6s 17ms/step - loss: 2.3832 - accuracy: 0.6398 - val_loss: 2.3528 - val_accuracy: 0.7064\n",
            "Epoch 2/10\n",
            "342/342 [==============================] - 6s 16ms/step - loss: 2.3821 - accuracy: 0.6374 - val_loss: 2.3522 - val_accuracy: 0.7320\n",
            "Epoch 3/10\n",
            "342/342 [==============================] - 6s 17ms/step - loss: 2.3804 - accuracy: 0.6412 - val_loss: 2.3496 - val_accuracy: 0.7089\n",
            "Epoch 4/10\n",
            "342/342 [==============================] - 6s 17ms/step - loss: 2.3797 - accuracy: 0.6394 - val_loss: 2.3473 - val_accuracy: 0.6977\n",
            "Epoch 5/10\n",
            "342/342 [==============================] - 5s 15ms/step - loss: 2.3774 - accuracy: 0.6405 - val_loss: 2.3444 - val_accuracy: 0.7175\n",
            "Epoch 6/10\n",
            "342/342 [==============================] - 5s 15ms/step - loss: 2.3760 - accuracy: 0.6437 - val_loss: 2.3471 - val_accuracy: 0.7179\n",
            "Epoch 7/10\n",
            "342/342 [==============================] - 5s 15ms/step - loss: 2.3748 - accuracy: 0.6434 - val_loss: 2.3472 - val_accuracy: 0.7328\n",
            "Epoch 8/10\n",
            "342/342 [==============================] - 5s 15ms/step - loss: 2.3730 - accuracy: 0.6493 - val_loss: 2.3464 - val_accuracy: 0.7159\n",
            "Epoch 9/10\n",
            "342/342 [==============================] - 5s 15ms/step - loss: 2.3713 - accuracy: 0.6486 - val_loss: 2.3466 - val_accuracy: 0.6990\n",
            "Epoch 10/10\n",
            "342/342 [==============================] - 5s 15ms/step - loss: 2.3706 - accuracy: 0.6484 - val_loss: 2.3474 - val_accuracy: 0.7188\n",
            "180/180 - 1s - loss: 2.3748 - accuracy: 0.6576\n",
            "--------------------------------------------------------------------------------\n",
            "\n",
            "\t --> accuracy on test data : 65.762001% and loss : 2.3748212 <--\n",
            "\n",
            "--------------------------------------------------------------------------------\n",
            "Epoch 1/10\n",
            "342/342 [==============================] - 6s 17ms/step - loss: 2.3702 - accuracy: 0.6462 - val_loss: 2.3381 - val_accuracy: 0.7324\n",
            "Epoch 2/10\n",
            "342/342 [==============================] - 6s 17ms/step - loss: 2.3682 - accuracy: 0.6530 - val_loss: 2.3400 - val_accuracy: 0.7118\n",
            "Epoch 3/10\n",
            "342/342 [==============================] - 6s 17ms/step - loss: 2.3673 - accuracy: 0.6488 - val_loss: 2.3369 - val_accuracy: 0.7509\n",
            "Epoch 4/10\n",
            "342/342 [==============================] - 6s 17ms/step - loss: 2.3653 - accuracy: 0.6550 - val_loss: 2.3355 - val_accuracy: 0.7402\n",
            "Epoch 5/10\n",
            "342/342 [==============================] - 6s 17ms/step - loss: 2.3650 - accuracy: 0.6535 - val_loss: 2.3369 - val_accuracy: 0.7208\n",
            "Epoch 6/10\n",
            "342/342 [==============================] - 6s 17ms/step - loss: 2.3627 - accuracy: 0.6540 - val_loss: 2.3292 - val_accuracy: 0.7414\n",
            "Epoch 7/10\n",
            "342/342 [==============================] - 6s 17ms/step - loss: 2.3620 - accuracy: 0.6591 - val_loss: 2.3349 - val_accuracy: 0.7307\n",
            "Epoch 8/10\n",
            "342/342 [==============================] - 7s 20ms/step - loss: 2.3600 - accuracy: 0.6612 - val_loss: 2.3330 - val_accuracy: 0.7555\n",
            "Epoch 9/10\n",
            "342/342 [==============================] - 7s 20ms/step - loss: 2.3590 - accuracy: 0.6631 - val_loss: 2.3332 - val_accuracy: 0.7612\n",
            "Epoch 10/10\n",
            "342/342 [==============================] - 7s 20ms/step - loss: 2.3571 - accuracy: 0.6635 - val_loss: 2.3304 - val_accuracy: 0.7406\n",
            "180/180 - 1s - loss: 2.3598 - accuracy: 0.6653\n",
            "--------------------------------------------------------------------------------\n",
            "\n",
            "\t --> accuracy on test data : 66.527486% and loss : 2.3598313 <--\n",
            "\n",
            "--------------------------------------------------------------------------------\n",
            "done\n",
            "CPU times: user 7min 41s, sys: 2min 29s, total: 10min 11s\n",
            "Wall time: 10min 13s\n"
          ],
          "name": "stdout"
        }
      ]
    },
    {
      "cell_type": "markdown",
      "metadata": {
        "id": "KLVD76xQjWhl"
      },
      "source": [
        "### save model for later use"
      ]
    },
    {
      "cell_type": "code",
      "metadata": {
        "colab": {
          "base_uri": "https://localhost:8080/"
        },
        "id": "6fc0eUbPjcuq",
        "outputId": "f20a68cb-94d6-4429-cece-f3a12d53b1a7"
      },
      "source": [
        "print('saving model...')\n",
        "my_model4.save('content/Jan5_model2')\n",
        "print('saved')"
      ],
      "execution_count": 52,
      "outputs": [
        {
          "output_type": "stream",
          "text": [
            "saving model...\n",
            "INFO:tensorflow:Assets written to: content/Jan5_model2/assets\n",
            "saved\n"
          ],
          "name": "stdout"
        }
      ]
    },
    {
      "cell_type": "code",
      "metadata": {
        "colab": {
          "base_uri": "https://localhost:8080/",
          "height": 325
        },
        "id": "i7ohojL5cW5T",
        "outputId": "25e06559-beea-4538-8b64-17ea715ce324"
      },
      "source": [
        "plt.plot([i for i in range(1,len(scores)+1)] , scores,label='Testing Accuracy')\n",
        "plt.xlabel('epochs')\n",
        "plt.ylabel('accuracy')\n",
        "plt.suptitle('TESTING ACCURACY')\n",
        "plt.legend()"
      ],
      "execution_count": 53,
      "outputs": [
        {
          "output_type": "execute_result",
          "data": {
            "text/plain": [
              "<matplotlib.legend.Legend at 0x7f015c4b91d0>"
            ]
          },
          "metadata": {
            "tags": []
          },
          "execution_count": 53
        },
        {
          "output_type": "display_data",
          "data": {
            "image/png": "[encoded data removed]",
            "text/plain": [
              "<Figure size 432x288 with 1 Axes>"
            ]
          },
          "metadata": {
            "tags": [],
            "needs_background": "light"
          }
        }
      ]
    },
    {
      "cell_type": "code",
      "metadata": {
        "colab": {
          "base_uri": "https://localhost:8080/"
        },
        "id": "qnCiaMHwjm6N",
        "outputId": "c5a193db-38ce-41ff-b7b4-60b5a8495f07"
      },
      "source": [
        "!zip -r /content/Jan5_model2.zip /content/content/Jan5_model2"
      ],
      "execution_count": 54,
      "outputs": [
        {
          "output_type": "stream",
          "text": [
            "  adding: content/content/Jan5_model2/ (stored 0%)\n",
            "  adding: content/content/Jan5_model2/saved_model.pb (deflated 89%)\n",
            "  adding: content/content/Jan5_model2/assets/ (stored 0%)\n",
            "  adding: content/content/Jan5_model2/variables/ (stored 0%)\n",
            "  adding: content/content/Jan5_model2/variables/variables.index (deflated 68%)\n",
            "  adding: content/content/Jan5_model2/variables/variables.data-00000-of-00001 (deflated 7%)\n"
          ],
          "name": "stdout"
        }
      ]
    },
    {
      "cell_type": "code",
      "metadata": {
        "colab": {
          "base_uri": "https://localhost:8080/"
        },
        "id": "xVz6D752jrPM",
        "outputId": "f5f9daa6-7346-4a18-b432-aa088713a5d6"
      },
      "source": [
        "!cp '/content/Jan5_model2.zip' '/content/drive/My Drive/datasets/LanguageDataset/final_changes/DL_models'\n",
        "!echo copied to drive"
      ],
      "execution_count": 55,
      "outputs": [
        {
          "output_type": "stream",
          "text": [
            "copied to drive\n"
          ],
          "name": "stdout"
        }
      ]
    },
    {
      "cell_type": "markdown",
      "metadata": {
        "id": "5NcDvjARUc2s"
      },
      "source": [
        "#### Training curve"
      ]
    },
    {
      "cell_type": "code",
      "metadata": {
        "colab": {
          "base_uri": "https://localhost:8080/"
        },
        "id": "eBG8aWKYUceT",
        "outputId": "cf74b988-e6c5-4af8-c6f6-0068fc152dd6"
      },
      "source": [
        "acc = []\n",
        "for i in range(10):\n",
        "  acc.extend(histories[i].history['accuracy'])\n",
        "print(len(acc))"
      ],
      "execution_count": 56,
      "outputs": [
        {
          "output_type": "stream",
          "text": [
            "100\n"
          ],
          "name": "stdout"
        }
      ]
    },
    {
      "cell_type": "code",
      "metadata": {
        "colab": {
          "base_uri": "https://localhost:8080/"
        },
        "id": "Mo1aTSbEUsp2",
        "outputId": "90e54c08-a104-4ca1-80dc-50e58d22d880"
      },
      "source": [
        "val_acc = []\n",
        "for i in range(10):\n",
        "  val_acc.extend(histories[i].history['val_accuracy'])\n",
        "print(len(acc))"
      ],
      "execution_count": 58,
      "outputs": [
        {
          "output_type": "stream",
          "text": [
            "100\n"
          ],
          "name": "stdout"
        }
      ]
    },
    {
      "cell_type": "code",
      "metadata": {
        "colab": {
          "base_uri": "https://localhost:8080/",
          "height": 325
        },
        "id": "bamo_uhwUh7W",
        "outputId": "16dd6155-7b36-4989-80c4-929e07a6badd"
      },
      "source": [
        "\n",
        "plt.plot([i for i in range(0,len(acc))] ,acc,label='Training Accuracy',linewidth=6)\n",
        "plt.plot([i for i in range(0,len(val_acc))] ,acc,label='Cross Validation Accuracy',marker='+')\n",
        "\n",
        "plt.xlabel('epochs')\n",
        "plt.ylabel('accuracy')\n",
        "plt.suptitle('TRAINING ACCURACY')\n",
        "plt.legend()"
      ],
      "execution_count": 67,
      "outputs": [
        {
          "output_type": "execute_result",
          "data": {
            "text/plain": [
              "<matplotlib.legend.Legend at 0x7f0122bc0208>"
            ]
          },
          "metadata": {
            "tags": []
          },
          "execution_count": 67
        },
        {
          "output_type": "display_data",
          "data": {
            "image/png": "[encoded data removed]",
            "text/plain": [
              "<Figure size 432x288 with 1 Axes>"
            ]
          },
          "metadata": {
            "tags": [],
            "needs_background": "light"
          }
        }
      ]
    },
    {
      "cell_type": "markdown",
      "metadata": {
        "id": "Z1cz2wMsj8VE"
      },
      "source": [
        "### Confusion Matrix"
      ]
    },
    {
      "cell_type": "code",
      "metadata": {
        "id": "AtO4d1JFjz7L"
      },
      "source": [
        "from sklearn.metrics import plot_confusion_matrix\n",
        "from sklearn.metrics import confusion_matrix"
      ],
      "execution_count": 68,
      "outputs": []
    },
    {
      "cell_type": "markdown",
      "metadata": {
        "id": "tfymLW84kDAp"
      },
      "source": [
        "## Testing Data"
      ]
    },
    {
      "cell_type": "code",
      "metadata": {
        "colab": {
          "base_uri": "https://localhost:8080/"
        },
        "id": "aiibt4F5kBPu",
        "outputId": "19d1b92a-e0bc-4820-c8e2-f0a6c48a5bfc"
      },
      "source": [
        "%%time\n",
        "predictions_1 = my_model4.predict(X_test_padded)\n",
        "print('done predicting on test data')\n",
        "print(type(predictions_1))\n"
      ],
      "execution_count": 69,
      "outputs": [
        {
          "output_type": "stream",
          "text": [
            "done predicting on test data\n",
            "<class 'numpy.ndarray'>\n",
            "CPU times: user 473 ms, sys: 44.3 ms, total: 517 ms\n",
            "Wall time: 507 ms\n"
          ],
          "name": "stdout"
        }
      ]
    },
    {
      "cell_type": "code",
      "metadata": {
        "colab": {
          "base_uri": "https://localhost:8080/"
        },
        "id": "TozcGvbTkN_J",
        "outputId": "747bf71e-4878-4f63-812b-149cfa38c418"
      },
      "source": [
        "predictions_1.shape , y_test.shape"
      ],
      "execution_count": 70,
      "outputs": [
        {
          "output_type": "execute_result",
          "data": {
            "text/plain": [
              "((5748, 15), (5748, 15))"
            ]
          },
          "metadata": {
            "tags": []
          },
          "execution_count": 70
        }
      ]
    },
    {
      "cell_type": "code",
      "metadata": {
        "colab": {
          "base_uri": "https://localhost:8080/"
        },
        "id": "CzQQkxYnk0lj",
        "outputId": "9396c53d-3636-4043-904a-bc563ff48804"
      },
      "source": [
        "first_preds = np.argmax(predictions_1,axis=1)\n",
        "first_preds.shape"
      ],
      "execution_count": 71,
      "outputs": [
        {
          "output_type": "execute_result",
          "data": {
            "text/plain": [
              "(5748,)"
            ]
          },
          "metadata": {
            "tags": []
          },
          "execution_count": 71
        }
      ]
    },
    {
      "cell_type": "code",
      "metadata": {
        "colab": {
          "base_uri": "https://localhost:8080/"
        },
        "id": "OS8qYANEkvZL",
        "outputId": "7cf0d94d-47d2-4b8c-c251-a85355df6b5a"
      },
      "source": [
        "actual_pred = np.argmax(y_test,axis=1)\n",
        "actual_pred.shape # use these argmax values for confusion matrix"
      ],
      "execution_count": 72,
      "outputs": [
        {
          "output_type": "execute_result",
          "data": {
            "text/plain": [
              "(5748,)"
            ]
          },
          "metadata": {
            "tags": []
          },
          "execution_count": 72
        }
      ]
    },
    {
      "cell_type": "code",
      "metadata": {
        "colab": {
          "base_uri": "https://localhost:8080/"
        },
        "id": "jFSeISIykcK6",
        "outputId": "ca42df63-74a4-4ed9-f124-7a16c15c8728"
      },
      "source": [
        "print('\\n','-'*50,'\\n')\n",
        "cnf_matrix1 = confusion_matrix(actual_pred, first_preds)\n",
        "print(cnf_matrix1)"
      ],
      "execution_count": 73,
      "outputs": [
        {
          "output_type": "stream",
          "text": [
            "\n",
            " -------------------------------------------------- \n",
            "\n",
            "[[265   4  13  25   2   7   7  12   9   9   8   7   0   7   2]\n",
            " [  7 212  11 103   5   0   3  13   3   1   6   3   3   2   3]\n",
            " [  1   0 270  33   3  23   9   3   1   2   6   5   1  16   4]\n",
            " [  2  19  32 275   6   4   7  11   3   0   5   1   3   2   3]\n",
            " [  4   6   9  46 279   2   5   2   0   1  12   7   6   4  10]\n",
            " [  6   1 135  41   5 134   7  11   2   1   7   5   2  13   2]\n",
            " [  0   0  13  18   3   3 276   8   3   4   3  11   1  11  20]\n",
            " [  1   4  13  21   4   2   2 337   0   1   6   5   0   4   7]\n",
            " [ 23   1  19  38   8   9   8   9 212   9  31  18   6  14   4]\n",
            " [ 24   3  24  27   6   7  56   4   3 173  13  19   0  29   1]\n",
            " [  8   3  14  28   5  11   6  12  11   2 245  18  17   6   2]\n",
            " [ 16   2  21  21  11  12  11  11   5   1  14 239  14   9   0]\n",
            " [  2   0   8  24   6   9   2   3   0   0   8   6 303   1   7]\n",
            " [  2   0  19  11   2   3   4   1   2   7   6   6   1 276   5]\n",
            " [  0   3   6   9   0   2   2  45   0   0   6   1   0   1 328]]\n"
          ],
          "name": "stdout"
        }
      ]
    },
    {
      "cell_type": "code",
      "metadata": {
        "colab": {
          "base_uri": "https://localhost:8080/"
        },
        "id": "v1Pa6zh8kjWz",
        "outputId": "11d8d3c5-4400-4e6e-a8e0-b7b644867907"
      },
      "source": [
        "class_names = df['Language'].unique()\n",
        "class_names"
      ],
      "execution_count": 74,
      "outputs": [
        {
          "output_type": "execute_result",
          "data": {
            "text/plain": [
              "array(['bash', 'c', 'c#', 'c++', 'haskell', 'java', 'javascript',\n",
              "       'objective-c', 'perl', 'php', 'python', 'ruby', 'scala', 'sql',\n",
              "       'swift'], dtype=object)"
            ]
          },
          "metadata": {
            "tags": []
          },
          "execution_count": 74
        }
      ]
    },
    {
      "cell_type": "code",
      "metadata": {
        "id": "KcjzBs3KlhIJ"
      },
      "source": [
        "import seaborn as sns"
      ],
      "execution_count": 75,
      "outputs": []
    },
    {
      "cell_type": "markdown",
      "metadata": {
        "id": "6uFMRp6uloY1"
      },
      "source": [
        "### Better confusion martrix display\n",
        "##### source : https://github.com/DTrimarchi10/confusion_matrix/blob/master/cf_matrix.py"
      ]
    },
    {
      "cell_type": "code",
      "metadata": {
        "id": "U66P6TxTlkAK"
      },
      "source": [
        "def make_confusion_matrix(cf,\n",
        "                          group_names=None,\n",
        "                          categories='auto',\n",
        "                          count=True,\n",
        "                          percent=True,\n",
        "                          cbar=True,\n",
        "                          xyticks=True,\n",
        "                          xyplotlabels=True,\n",
        "                          sum_stats=True,\n",
        "                          figsize=None,\n",
        "                          cmap='Blues',\n",
        "                          title=None):\n",
        "    '''\n",
        "    This function will make a pretty plot of an sklearn Confusion Matrix cm using a Seaborn heatmap visualization.\n",
        "    Arguments\n",
        "    ---------\n",
        "    cf:            confusion matrix to be passed in\n",
        "    group_names:   List of strings that represent the labels row by row to be shown in each square.\n",
        "    categories:    List of strings containing the categories to be displayed on the x,y axis. Default is 'auto'\n",
        "    count:         If True, show the raw number in the confusion matrix. Default is True.\n",
        "    normalize:     If True, show the proportions for each category. Default is True.\n",
        "    cbar:          If True, show the color bar. The cbar values are based off the values in the confusion matrix.\n",
        "                   Default is True.\n",
        "    xyticks:       If True, show x and y ticks. Default is True.\n",
        "    xyplotlabels:  If True, show 'True Label' and 'Predicted Label' on the figure. Default is True.\n",
        "    sum_stats:     If True, display summary statistics below the figure. Default is True.\n",
        "    figsize:       Tuple representing the figure size. Default will be the matplotlib rcParams value.\n",
        "    cmap:          Colormap of the values displayed from matplotlib.pyplot.cm. Default is 'Blues'\n",
        "                   See http://matplotlib.org/examples/color/colormaps_reference.html\n",
        "                   \n",
        "    title:         Title for the heatmap. Default is None.\n",
        "    '''\n",
        "\n",
        "\n",
        "    # CODE TO GENERATE TEXT INSIDE EACH SQUARE\n",
        "    blanks = ['' for i in range(cf.size)]\n",
        "\n",
        "    if group_names and len(group_names)==cf.size:\n",
        "        group_labels = [\"{}\\n\".format(value) for value in group_names]\n",
        "    else:\n",
        "        group_labels = blanks\n",
        "\n",
        "    if count:\n",
        "        group_counts = [\"{0:0.0f}\\n\".format(value) for value in cf.flatten()]\n",
        "    else:\n",
        "        group_counts = blanks\n",
        "\n",
        "    if percent:\n",
        "        group_percentages = [\"{0:.2%}\".format(value) for value in cf.flatten()/np.sum(cf)]\n",
        "    else:\n",
        "        group_percentages = blanks\n",
        "\n",
        "    box_labels = [f\"{v1}{v2}{v3}\".strip() for v1, v2, v3 in zip(group_labels,group_counts,group_percentages)]\n",
        "    box_labels = np.asarray(box_labels).reshape(cf.shape[0],cf.shape[1])\n",
        "\n",
        "\n",
        "    # CODE TO GENERATE SUMMARY STATISTICS & TEXT FOR SUMMARY STATS\n",
        "    if sum_stats:\n",
        "        #Accuracy is sum of diagonal divided by total observations\n",
        "        accuracy  = np.trace(cf) / float(np.sum(cf))\n",
        "\n",
        "        #if it is a binary confusion matrix, show some more stats\n",
        "        if len(cf)==2:\n",
        "            #Metrics for Binary Confusion Matrices\n",
        "            precision = cf[1,1] / sum(cf[:,1])\n",
        "            recall    = cf[1,1] / sum(cf[1,:])\n",
        "            f1_score  = 2*precision*recall / (precision + recall)\n",
        "            stats_text = \"\\n\\nAccuracy={:0.3f}\\nPrecision={:0.3f}\\nRecall={:0.3f}\\nF1 Score={:0.3f}\".format(\n",
        "                accuracy,precision,recall,f1_score)\n",
        "        else:\n",
        "            stats_text = \"\\n\\nAccuracy={:0.3f}\".format(accuracy)\n",
        "    else:\n",
        "        stats_text = \"\"\n",
        "\n",
        "\n",
        "    # SET FIGURE PARAMETERS ACCORDING TO OTHER ARGUMENTS\n",
        "    if figsize==None:\n",
        "        #Get default figure size if not set\n",
        "        figsize = plt.rcParams.get('figure.figsize')\n",
        "\n",
        "    if xyticks==False:\n",
        "        #Do not show categories if xyticks is False\n",
        "        categories=False\n",
        "\n",
        "\n",
        "    # MAKE THE HEATMAP VISUALIZATION\n",
        "    plt.figure(figsize=figsize)\n",
        "    sns.heatmap(cf,annot=box_labels,fmt=\"\",cmap=cmap,cbar=cbar,xticklabels=categories,yticklabels=categories)\n",
        "\n",
        "    if xyplotlabels:\n",
        "        plt.ylabel('True label')\n",
        "        plt.xlabel('Predicted label' + stats_text)\n",
        "    else:\n",
        "        plt.xlabel(stats_text)\n",
        "    \n",
        "    if title:\n",
        "        plt.title(title)"
      ],
      "execution_count": 76,
      "outputs": []
    },
    {
      "cell_type": "code",
      "metadata": {
        "colab": {
          "base_uri": "https://localhost:8080/",
          "height": 782
        },
        "id": "TOwEnv1JlwYH",
        "outputId": "1615a63f-c539-4d7e-fe8b-ac8e47c478ea"
      },
      "source": [
        "# make_confusion_matrix(cnf_matrix, figsize=(12,12), cbar=False )\n",
        "make_confusion_matrix(cnf_matrix1, figsize=(12,12), cbar=False ,categories=class_names)\n"
      ],
      "execution_count": 77,
      "outputs": [
        {
          "output_type": "display_data",
          "data": {
            "image/png": "[encoded data removed]",
            "text/plain": [
              "<Figure size 864x864 with 1 Axes>"
            ]
          },
          "metadata": {
            "tags": [],
            "needs_background": "light"
          }
        }
      ]
    },
    {
      "cell_type": "markdown",
      "metadata": {
        "id": "YfO1LpBTXHa0"
      },
      "source": [
        "#### Precision , Recall and F1 Score"
      ]
    },
    {
      "cell_type": "code",
      "metadata": {
        "colab": {
          "base_uri": "https://localhost:8080/"
        },
        "id": "xj_aQPYtXJ7l",
        "outputId": "4bf31986-eb84-4f5c-a626-8953bf1820f8"
      },
      "source": [
        "from sklearn.metrics import precision_recall_fscore_support as score\n",
        "langs = [i for i in data.Language.unique()]\n",
        "langs.sort()\n",
        "langs"
      ],
      "execution_count": 81,
      "outputs": [
        {
          "output_type": "execute_result",
          "data": {
            "text/plain": [
              "['bash',\n",
              " 'c',\n",
              " 'c#',\n",
              " 'c++',\n",
              " 'haskell',\n",
              " 'java',\n",
              " 'javascript',\n",
              " 'objective-c',\n",
              " 'perl',\n",
              " 'php',\n",
              " 'python',\n",
              " 'ruby',\n",
              " 'scala',\n",
              " 'sql',\n",
              " 'swift']"
            ]
          },
          "metadata": {
            "tags": []
          },
          "execution_count": 81
        }
      ]
    },
    {
      "cell_type": "code",
      "metadata": {
        "id": "XBUYjwKcXKg4"
      },
      "source": [
        "def print_metrics(predictions):\n",
        "  precision , recall , fscore , support = score( actual_pred, predictions)\n",
        "  print('-'*80)\n",
        "  print('{:10}\\t | {:7}\\t |  {:12}|\\t{}'.format('   Language','  Precision',' Recall',' F1 Measure'))\n",
        "  print('-'*80)\n",
        "  for i in range(len(langs)):\n",
        "    \n",
        "    result = '{:10}\\t |{:13.5}\\t |{:10.5}\\t|\\t{:10.5}'.format(str('   '+langs[i]),precision[i],recall[i],fscore[i])\n",
        "    print(result,end='\\n')\n",
        "    print('-'*80)\n"
      ],
      "execution_count": 82,
      "outputs": []
    },
    {
      "cell_type": "code",
      "metadata": {
        "colab": {
          "base_uri": "https://localhost:8080/"
        },
        "id": "zbqwK-0EXOmk",
        "outputId": "e790c7b9-8be9-4bd4-dbda-42db3adf6340"
      },
      "source": [
        "print_metrics(first_preds)\n"
      ],
      "execution_count": 83,
      "outputs": [
        {
          "output_type": "stream",
          "text": [
            "--------------------------------------------------------------------------------\n",
            "   Language\t |   Precision\t |   Recall     |\t F1 Measure\n",
            "--------------------------------------------------------------------------------\n",
            "   bash   \t |      0.73407\t |   0.70292\t|\t   0.71816\n",
            "--------------------------------------------------------------------------------\n",
            "   c      \t |      0.82171\t |   0.56533\t|\t   0.66983\n",
            "--------------------------------------------------------------------------------\n",
            "   c#     \t |      0.44481\t |   0.71618\t|\t   0.54878\n",
            "--------------------------------------------------------------------------------\n",
            "   c++    \t |      0.38194\t |   0.73727\t|\t    0.5032\n",
            "--------------------------------------------------------------------------------\n",
            "   haskell\t |       0.8087\t |   0.70992\t|\t    0.7561\n",
            "--------------------------------------------------------------------------------\n",
            "   java   \t |      0.58772\t |   0.36022\t|\t   0.44667\n",
            "--------------------------------------------------------------------------------\n",
            "   javascript\t |      0.68148\t |   0.73797\t|\t    0.7086\n",
            "--------------------------------------------------------------------------------\n",
            "   objective-c\t |      0.69917\t |   0.82801\t|\t   0.75816\n",
            "--------------------------------------------------------------------------------\n",
            "   perl   \t |      0.83465\t |   0.51834\t|\t   0.63952\n",
            "--------------------------------------------------------------------------------\n",
            "   php    \t |      0.81991\t |   0.44473\t|\t   0.57667\n",
            "--------------------------------------------------------------------------------\n",
            "   python \t |       0.6516\t |   0.63144\t|\t   0.64136\n",
            "--------------------------------------------------------------------------------\n",
            "   ruby   \t |      0.68091\t |   0.61757\t|\t    0.6477\n",
            "--------------------------------------------------------------------------------\n",
            "   scala  \t |      0.84874\t |   0.79947\t|\t   0.82337\n",
            "--------------------------------------------------------------------------------\n",
            "   sql    \t |      0.69873\t |       0.8\t|\t   0.74595\n",
            "--------------------------------------------------------------------------------\n",
            "   swift  \t |      0.82412\t |    0.8139\t|\t   0.81898\n",
            "--------------------------------------------------------------------------------\n"
          ],
          "name": "stdout"
        }
      ]
    },
    {
      "cell_type": "markdown",
      "metadata": {
        "id": "Zr-OSaYgiifs"
      },
      "source": [
        "### creating another for just testing something"
      ]
    },
    {
      "cell_type": "code",
      "metadata": {
        "colab": {
          "base_uri": "https://localhost:8080/"
        },
        "id": "zWQyIpQ5l3-K",
        "outputId": "08d76005-e642-4ecd-b18f-b5dfda7a2812"
      },
      "source": [
        "my_model5 = tf.keras.models.Sequential()\n",
        "print('model created now add layers')"
      ],
      "execution_count": null,
      "outputs": [
        {
          "output_type": "stream",
          "text": [
            "model created now add layers\n"
          ],
          "name": "stdout"
        }
      ]
    },
    {
      "cell_type": "code",
      "metadata": {
        "colab": {
          "base_uri": "https://localhost:8080/"
        },
        "id": "hdCq0kviimMC",
        "outputId": "4e7d3d71-4569-47b7-b01f-2ef991c775b0"
      },
      "source": [
        "# my_model.add(tf.keras.layers.Input(input_shape=2215))\n",
        "my_model5.add(tf.keras.layers.InputLayer(input_shape=max_length,dtype=tf.int32))\n",
        "print('----> added input layer with max sequence max_features = ',max_length)\n",
        "my_model5.summary()\n",
        "# print('added input layer')"
      ],
      "execution_count": null,
      "outputs": [
        {
          "output_type": "stream",
          "text": [
            "----> added input layer with max sequence max_features =  1000\n",
            "Model: \"sequential_1\"\n",
            "_________________________________________________________________\n",
            "Layer (type)                 Output Shape              Param #   \n",
            "=================================================================\n",
            "Total params: 0\n",
            "Trainable params: 0\n",
            "Non-trainable params: 0\n",
            "_________________________________________________________________\n"
          ],
          "name": "stdout"
        }
      ]
    },
    {
      "cell_type": "code",
      "metadata": {
        "colab": {
          "base_uri": "https://localhost:8080/"
        },
        "id": "HU_xk49ditke",
        "outputId": "f15d1d18-7765-44a3-ce60-ebeb7a7df82f"
      },
      "source": [
        "my_model5.add(tf.keras.layers.Embedding(vocab_size, embed_dim,input_length = max_length))\n",
        "print('\\n-->added embedding layer with vocab size = ',vocab_size,'embed dim = ',embed_dim)\n",
        "my_model5.summary()"
      ],
      "execution_count": null,
      "outputs": [
        {
          "output_type": "stream",
          "text": [
            "\n",
            "-->added embedding layer with vocab size =  10000 embed dim =  32\n",
            "Model: \"sequential_1\"\n",
            "_________________________________________________________________\n",
            "Layer (type)                 Output Shape              Param #   \n",
            "=================================================================\n",
            "embedding_1 (Embedding)      (None, 1000, 32)          320000    \n",
            "=================================================================\n",
            "Total params: 320,000\n",
            "Trainable params: 320,000\n",
            "Non-trainable params: 0\n",
            "_________________________________________________________________\n"
          ],
          "name": "stdout"
        }
      ]
    },
    {
      "cell_type": "code",
      "metadata": {
        "colab": {
          "base_uri": "https://localhost:8080/"
        },
        "id": "c0lT-3T9ixiI",
        "outputId": "9ef01ea6-368b-40af-f132-3a8e5e6bbac9"
      },
      "source": [
        "# model.add(Conv1D(filters=128, kernel_size=3, padding='same', dilation_rate=1,activation='relu'))\n",
        "my_model5.add(tf.keras.layers.Conv1D(128 , 5, padding='same',kernel_initializer='random_normal'))\n",
        "print('.\\n.\\n.\\nadded conv1d layer with valid padding random_normal initializer - 128 filters')\n",
        "my_model5.add(tf.keras.layers.MaxPool1D(pool_size=5))\n",
        "print('added pool layer')\n",
        "my_model5.add(tf.keras.layers.BatchNormalization())\n",
        "print('added batch norm layer')\n",
        "my_model5.add(tf.keras.layers.Activation('relu'))\n",
        "print('added relu activation layer')\n",
        "my_model5.summary()\n"
      ],
      "execution_count": null,
      "outputs": [
        {
          "output_type": "stream",
          "text": [
            ".\n",
            ".\n",
            ".\n",
            "added conv1d layer with valid padding random_normal initializer - 128 filters\n",
            "added pool layer\n",
            "added batch norm layer\n",
            "added relu activation layer\n",
            "Model: \"sequential_1\"\n",
            "_________________________________________________________________\n",
            "Layer (type)                 Output Shape              Param #   \n",
            "=================================================================\n",
            "embedding_1 (Embedding)      (None, 1000, 32)          320000    \n",
            "_________________________________________________________________\n",
            "conv1d_1 (Conv1D)            (None, 1000, 128)         20608     \n",
            "_________________________________________________________________\n",
            "max_pooling1d_1 (MaxPooling1 (None, 200, 128)          0         \n",
            "_________________________________________________________________\n",
            "batch_normalization_3 (Batch (None, 200, 128)          512       \n",
            "_________________________________________________________________\n",
            "activation_4 (Activation)    (None, 200, 128)          0         \n",
            "=================================================================\n",
            "Total params: 341,120\n",
            "Trainable params: 340,864\n",
            "Non-trainable params: 256\n",
            "_________________________________________________________________\n"
          ],
          "name": "stdout"
        }
      ]
    },
    {
      "cell_type": "code",
      "metadata": {
        "colab": {
          "base_uri": "https://localhost:8080/"
        },
        "id": "5WeoSdXai7ji",
        "outputId": "7b0725cc-8ecd-4d83-99f0-fb5e2ed3a434"
      },
      "source": [
        "# model.add(Conv1D(filters=128, kernel_size=3, padding='same', dilation_rate=1,activation='relu'))\n",
        "my_model5.add(tf.keras.layers.Conv1D(64 , 5, padding='same',kernel_initializer='random_normal'))\n",
        "print('.\\n.\\n.\\nadded conv1d layer with valid padding random_normal initializer - 128 filters')\n",
        "my_model5.add(tf.keras.layers.MaxPool1D(pool_size=5))\n",
        "print('added pool layer')\n",
        "my_model5.add(tf.keras.layers.BatchNormalization())\n",
        "print('added batch norm layer')\n",
        "my_model5.add(tf.keras.layers.Activation('relu'))\n",
        "print('added relu activation layer')\n",
        "my_model5.summary()\n"
      ],
      "execution_count": null,
      "outputs": [
        {
          "output_type": "stream",
          "text": [
            ".\n",
            ".\n",
            ".\n",
            "added conv1d layer with valid padding random_normal initializer - 128 filters\n",
            "added pool layer\n",
            "added batch norm layer\n",
            "added relu activation layer\n",
            "Model: \"sequential_1\"\n",
            "_________________________________________________________________\n",
            "Layer (type)                 Output Shape              Param #   \n",
            "=================================================================\n",
            "embedding_1 (Embedding)      (None, 1000, 32)          320000    \n",
            "_________________________________________________________________\n",
            "conv1d_1 (Conv1D)            (None, 1000, 128)         20608     \n",
            "_________________________________________________________________\n",
            "max_pooling1d_1 (MaxPooling1 (None, 200, 128)          0         \n",
            "_________________________________________________________________\n",
            "batch_normalization_3 (Batch (None, 200, 128)          512       \n",
            "_________________________________________________________________\n",
            "activation_4 (Activation)    (None, 200, 128)          0         \n",
            "_________________________________________________________________\n",
            "conv1d_2 (Conv1D)            (None, 200, 64)           41024     \n",
            "_________________________________________________________________\n",
            "max_pooling1d_2 (MaxPooling1 (None, 40, 64)            0         \n",
            "_________________________________________________________________\n",
            "batch_normalization_4 (Batch (None, 40, 64)            256       \n",
            "_________________________________________________________________\n",
            "activation_5 (Activation)    (None, 40, 64)            0         \n",
            "=================================================================\n",
            "Total params: 382,400\n",
            "Trainable params: 382,016\n",
            "Non-trainable params: 384\n",
            "_________________________________________________________________\n"
          ],
          "name": "stdout"
        }
      ]
    },
    {
      "cell_type": "code",
      "metadata": {
        "colab": {
          "base_uri": "https://localhost:8080/"
        },
        "id": "Zmov-WSMjB6Q",
        "outputId": "419badec-dd36-46e2-8b4a-b191a7424746"
      },
      "source": [
        "my_model5.add(tf.keras.layers.Dense(200,kernel_regularizer=tf.keras.regularizers.l1_l2(l1=1e-7, l2=1e-5)))\n",
        "print('.\\n.\\n.\\n--> added a dense layer with l1_l2 regularization')\n",
        "my_model5.add(tf.keras.layers.BatchNormalization())\n",
        "print('added batch norm layer')\n",
        "my_model5.add(tf.keras.layers.Activation('tanh'))\n",
        "print('added tanh activation layer')\n",
        "my_model5.add(tf.keras.layers.Flatten())\n",
        "print('.\\n.\\n.\\n--> flatten layer')\n",
        "my_model5.add(tf.keras.layers.Dropout(0.5))\n",
        "print('.\\n.\\n.\\n--> added a 0.5 dropout layer')\n",
        "my_model5.summary()"
      ],
      "execution_count": null,
      "outputs": [
        {
          "output_type": "stream",
          "text": [
            ".\n",
            ".\n",
            ".\n",
            "--> added a dense layer with l1_l2 regularization\n",
            "added batch norm layer\n",
            "added tanh activation layer\n",
            ".\n",
            ".\n",
            ".\n",
            "--> flatten layer\n",
            ".\n",
            ".\n",
            ".\n",
            "--> added a 0.5 dropout layer\n",
            "Model: \"sequential_1\"\n",
            "_________________________________________________________________\n",
            "Layer (type)                 Output Shape              Param #   \n",
            "=================================================================\n",
            "embedding_1 (Embedding)      (None, 1000, 32)          320000    \n",
            "_________________________________________________________________\n",
            "conv1d_1 (Conv1D)            (None, 1000, 128)         20608     \n",
            "_________________________________________________________________\n",
            "max_pooling1d_1 (MaxPooling1 (None, 200, 128)          0         \n",
            "_________________________________________________________________\n",
            "batch_normalization_3 (Batch (None, 200, 128)          512       \n",
            "_________________________________________________________________\n",
            "activation_4 (Activation)    (None, 200, 128)          0         \n",
            "_________________________________________________________________\n",
            "conv1d_2 (Conv1D)            (None, 200, 64)           41024     \n",
            "_________________________________________________________________\n",
            "max_pooling1d_2 (MaxPooling1 (None, 40, 64)            0         \n",
            "_________________________________________________________________\n",
            "batch_normalization_4 (Batch (None, 40, 64)            256       \n",
            "_________________________________________________________________\n",
            "activation_5 (Activation)    (None, 40, 64)            0         \n",
            "_________________________________________________________________\n",
            "dense_2 (Dense)              (None, 40, 200)           13000     \n",
            "_________________________________________________________________\n",
            "batch_normalization_5 (Batch (None, 40, 200)           800       \n",
            "_________________________________________________________________\n",
            "activation_6 (Activation)    (None, 40, 200)           0         \n",
            "_________________________________________________________________\n",
            "flatten_2 (Flatten)          (None, 8000)              0         \n",
            "_________________________________________________________________\n",
            "dropout_1 (Dropout)          (None, 8000)              0         \n",
            "=================================================================\n",
            "Total params: 396,200\n",
            "Trainable params: 395,416\n",
            "Non-trainable params: 784\n",
            "_________________________________________________________________\n"
          ],
          "name": "stdout"
        }
      ]
    },
    {
      "cell_type": "code",
      "metadata": {
        "colab": {
          "base_uri": "https://localhost:8080/"
        },
        "id": "UnHogK-mjNOF",
        "outputId": "82377fea-623f-4c1f-aec2-59ecb6b30fc9"
      },
      "source": [
        "my_model5.add(tf.keras.layers.Dense(64,kernel_regularizer=tf.keras.regularizers.l1_l2(l1=1e-6, l2=1e-5)))\n",
        "print('.\\n.\\n.\\n--> added another dense layer with l1_l2 regularization')\n",
        "my_model5.add(tf.keras.layers.BatchNormalization())\n",
        "print('added batch norm layer')\n",
        "my_model5.add(tf.keras.layers.Activation('sigmoid'))\n",
        "print('added tanh sigmoid layer')\n",
        "my_model5.add(tf.keras.layers.Flatten())\n",
        "print('.\\n.\\n.\\n--> flatten layer')\n",
        "my_model5.summary()"
      ],
      "execution_count": null,
      "outputs": [
        {
          "output_type": "stream",
          "text": [
            ".\n",
            ".\n",
            ".\n",
            "--> added another dense layer with l1_l2 regularization\n",
            "added batch norm layer\n",
            "added tanh sigmoid layer\n",
            ".\n",
            ".\n",
            ".\n",
            "--> flatten layer\n",
            "Model: \"sequential_1\"\n",
            "_________________________________________________________________\n",
            "Layer (type)                 Output Shape              Param #   \n",
            "=================================================================\n",
            "embedding_1 (Embedding)      (None, 1000, 32)          320000    \n",
            "_________________________________________________________________\n",
            "conv1d_1 (Conv1D)            (None, 1000, 128)         20608     \n",
            "_________________________________________________________________\n",
            "max_pooling1d_1 (MaxPooling1 (None, 200, 128)          0         \n",
            "_________________________________________________________________\n",
            "batch_normalization_3 (Batch (None, 200, 128)          512       \n",
            "_________________________________________________________________\n",
            "activation_4 (Activation)    (None, 200, 128)          0         \n",
            "_________________________________________________________________\n",
            "conv1d_2 (Conv1D)            (None, 200, 64)           41024     \n",
            "_________________________________________________________________\n",
            "max_pooling1d_2 (MaxPooling1 (None, 40, 64)            0         \n",
            "_________________________________________________________________\n",
            "batch_normalization_4 (Batch (None, 40, 64)            256       \n",
            "_________________________________________________________________\n",
            "activation_5 (Activation)    (None, 40, 64)            0         \n",
            "_________________________________________________________________\n",
            "dense_2 (Dense)              (None, 40, 200)           13000     \n",
            "_________________________________________________________________\n",
            "batch_normalization_5 (Batch (None, 40, 200)           800       \n",
            "_________________________________________________________________\n",
            "activation_6 (Activation)    (None, 40, 200)           0         \n",
            "_________________________________________________________________\n",
            "flatten_2 (Flatten)          (None, 8000)              0         \n",
            "_________________________________________________________________\n",
            "dropout_1 (Dropout)          (None, 8000)              0         \n",
            "_________________________________________________________________\n",
            "dense_3 (Dense)              (None, 64)                512064    \n",
            "_________________________________________________________________\n",
            "batch_normalization_6 (Batch (None, 64)                256       \n",
            "_________________________________________________________________\n",
            "activation_7 (Activation)    (None, 64)                0         \n",
            "_________________________________________________________________\n",
            "flatten_3 (Flatten)          (None, 64)                0         \n",
            "=================================================================\n",
            "Total params: 908,520\n",
            "Trainable params: 907,608\n",
            "Non-trainable params: 912\n",
            "_________________________________________________________________\n"
          ],
          "name": "stdout"
        }
      ]
    },
    {
      "cell_type": "code",
      "metadata": {
        "colab": {
          "base_uri": "https://localhost:8080/"
        },
        "id": "oLkOS3u3jY5n",
        "outputId": "8a676b66-95a5-4e94-c361-2eb10831dcdf"
      },
      "source": [
        "num_classes"
      ],
      "execution_count": null,
      "outputs": [
        {
          "output_type": "execute_result",
          "data": {
            "text/plain": [
              "15"
            ]
          },
          "metadata": {
            "tags": []
          },
          "execution_count": 71
        }
      ]
    },
    {
      "cell_type": "code",
      "metadata": {
        "colab": {
          "base_uri": "https://localhost:8080/"
        },
        "id": "G9UJvwmwjeQz",
        "outputId": "5f9c52f7-ff02-401c-c4b8-6bd498dda8ac"
      },
      "source": [
        "my_model5.add(tf.keras.layers.Dense(num_classes))\n",
        "print('--> dense layer of size =  ',num_classes)\n",
        "my_model5.add(tf.keras.layers.BatchNormalization())\n",
        "print('added batch norm layer')\n",
        "my_model5.add(tf.keras.layers.Activation('sigmoid'))\n",
        "print('added sigmoid activation layer')\n",
        "my_model5.add(tf.keras.layers.Flatten())\n",
        "print('.\\n.\\n.\\n--> flatten layer')\n",
        "my_model5.add(tf.keras.layers.Activation('softmax'))\n",
        "print('added final softmax activation layer')\n",
        "my_model5.summary()"
      ],
      "execution_count": null,
      "outputs": [
        {
          "output_type": "stream",
          "text": [
            "--> dense layer of size =   15\n",
            "added batch norm layer\n",
            "added sigmoid activation layer\n",
            ".\n",
            ".\n",
            ".\n",
            "--> flatten layer\n",
            "added final softmax activation layer\n",
            "Model: \"sequential_1\"\n",
            "_________________________________________________________________\n",
            "Layer (type)                 Output Shape              Param #   \n",
            "=================================================================\n",
            "embedding_1 (Embedding)      (None, 1000, 32)          320000    \n",
            "_________________________________________________________________\n",
            "conv1d_1 (Conv1D)            (None, 1000, 128)         20608     \n",
            "_________________________________________________________________\n",
            "max_pooling1d_1 (MaxPooling1 (None, 200, 128)          0         \n",
            "_________________________________________________________________\n",
            "batch_normalization_3 (Batch (None, 200, 128)          512       \n",
            "_________________________________________________________________\n",
            "activation_4 (Activation)    (None, 200, 128)          0         \n",
            "_________________________________________________________________\n",
            "conv1d_2 (Conv1D)            (None, 200, 64)           41024     \n",
            "_________________________________________________________________\n",
            "max_pooling1d_2 (MaxPooling1 (None, 40, 64)            0         \n",
            "_________________________________________________________________\n",
            "batch_normalization_4 (Batch (None, 40, 64)            256       \n",
            "_________________________________________________________________\n",
            "activation_5 (Activation)    (None, 40, 64)            0         \n",
            "_________________________________________________________________\n",
            "dense_2 (Dense)              (None, 40, 200)           13000     \n",
            "_________________________________________________________________\n",
            "batch_normalization_5 (Batch (None, 40, 200)           800       \n",
            "_________________________________________________________________\n",
            "activation_6 (Activation)    (None, 40, 200)           0         \n",
            "_________________________________________________________________\n",
            "flatten_2 (Flatten)          (None, 8000)              0         \n",
            "_________________________________________________________________\n",
            "dropout_1 (Dropout)          (None, 8000)              0         \n",
            "_________________________________________________________________\n",
            "dense_3 (Dense)              (None, 64)                512064    \n",
            "_________________________________________________________________\n",
            "batch_normalization_6 (Batch (None, 64)                256       \n",
            "_________________________________________________________________\n",
            "activation_7 (Activation)    (None, 64)                0         \n",
            "_________________________________________________________________\n",
            "flatten_3 (Flatten)          (None, 64)                0         \n",
            "_________________________________________________________________\n",
            "dense_4 (Dense)              (None, 15)                975       \n",
            "_________________________________________________________________\n",
            "batch_normalization_7 (Batch (None, 15)                60        \n",
            "_________________________________________________________________\n",
            "activation_8 (Activation)    (None, 15)                0         \n",
            "_________________________________________________________________\n",
            "flatten_4 (Flatten)          (None, 15)                0         \n",
            "_________________________________________________________________\n",
            "activation_9 (Activation)    (None, 15)                0         \n",
            "=================================================================\n",
            "Total params: 909,555\n",
            "Trainable params: 908,613\n",
            "Non-trainable params: 942\n",
            "_________________________________________________________________\n"
          ],
          "name": "stdout"
        }
      ]
    },
    {
      "cell_type": "code",
      "metadata": {
        "colab": {
          "base_uri": "https://localhost:8080/"
        },
        "id": "y1AlXDynjkyJ",
        "outputId": "a186aa85-ebec-47bc-e99e-9c54be1fdc92"
      },
      "source": [
        "my_model5.compile(optimizer=tf.keras.optimizers.Adam(\n",
        "    learning_rate=0.00001, beta_1=0.9, beta_2=0.999, epsilon=1e-07, amsgrad=False,\n",
        "    name='Adam',), loss='categorical_crossentropy', metrics=['accuracy'])\n",
        "print(' ---> compiled with learning rate : 0.00001 -')"
      ],
      "execution_count": null,
      "outputs": [
        {
          "output_type": "stream",
          "text": [
            " ---> compiled with learning rate : 0.00001 -\n"
          ],
          "name": "stdout"
        }
      ]
    },
    {
      "cell_type": "code",
      "metadata": {
        "colab": {
          "base_uri": "https://localhost:8080/"
        },
        "id": "TgoMTRLmjsVO",
        "outputId": "496e4100-7bd4-4444-dbf0-0041d707fbbd"
      },
      "source": [
        "%%time\n",
        "\n",
        "scores2 = []\n",
        "histories2 = []\n",
        "print('------> fitting the model\\n')\n",
        "\n",
        "for train_iX,test_iX in k_fold.split(X_train_padded):\n",
        "  # selecting rows for trainX and trainY first train data and then cross validation data\n",
        "  x_itrain,y_itrain,x_cv,y_cv = X_train_padded[train_iX] , y_train[train_iX] , X_train_padded[test_iX], y_train[test_iX]\n",
        "    # fit into model with batch sizes of 32 and epochs 10\n",
        "    # # history = my_model.fit(x_train,y_train,batch_size=32,epochs=10,verbose=1,validation_data=(x_cv,y_cv))\n",
        "  history = my_model5.fit(x_itrain,y_itrain,batch_size=128,epochs=10,verbose=1,validation_data=(x_cv,y_cv))\n",
        "  # evaluate model\n",
        "  loss,acc = my_model5.evaluate(X_test_padded , y_test,verbose=2)\n",
        "  print('-'*80)\n",
        "  print('\\n\\t --> accuracy on test data : {:.6f}% and loss : {:.7f} <--\\n'.format(acc * 100.0,loss))\n",
        "  print('-'*80)\n",
        "    # # stores scores  \n",
        "  scores2.append(acc)\n",
        "  histories2.append(history)\n",
        "\n",
        "print('done')"
      ],
      "execution_count": null,
      "outputs": [
        {
          "output_type": "stream",
          "text": [
            "------> fitting the model\n",
            "\n",
            "Epoch 1/10\n",
            "171/171 [==============================] - 7s 32ms/step - loss: 2.7352 - accuracy: 0.0694 - val_loss: 2.7202 - val_accuracy: 0.0639\n",
            "Epoch 2/10\n",
            "171/171 [==============================] - 5s 30ms/step - loss: 2.7245 - accuracy: 0.0742 - val_loss: 2.7164 - val_accuracy: 0.0692\n",
            "Epoch 3/10\n",
            "171/171 [==============================] - 5s 30ms/step - loss: 2.7160 - accuracy: 0.0793 - val_loss: 2.7106 - val_accuracy: 0.0874\n",
            "Epoch 4/10\n",
            "171/171 [==============================] - 5s 30ms/step - loss: 2.7091 - accuracy: 0.0834 - val_loss: 2.7042 - val_accuracy: 0.0989\n",
            "Epoch 5/10\n",
            "171/171 [==============================] - 5s 29ms/step - loss: 2.7020 - accuracy: 0.0837 - val_loss: 2.6970 - val_accuracy: 0.0997\n",
            "Epoch 6/10\n",
            "171/171 [==============================] - 5s 29ms/step - loss: 2.6950 - accuracy: 0.0943 - val_loss: 2.6896 - val_accuracy: 0.1071\n",
            "Epoch 7/10\n",
            "171/171 [==============================] - 5s 29ms/step - loss: 2.6873 - accuracy: 0.0962 - val_loss: 2.6824 - val_accuracy: 0.1174\n",
            "Epoch 8/10\n",
            "171/171 [==============================] - 5s 29ms/step - loss: 2.6776 - accuracy: 0.1111 - val_loss: 2.6736 - val_accuracy: 0.1290\n",
            "Epoch 9/10\n",
            "171/171 [==============================] - 5s 29ms/step - loss: 2.6684 - accuracy: 0.1125 - val_loss: 2.6651 - val_accuracy: 0.1335\n",
            "Epoch 10/10\n",
            "171/171 [==============================] - 5s 30ms/step - loss: 2.6620 - accuracy: 0.1279 - val_loss: 2.6561 - val_accuracy: 0.1487\n",
            "180/180 - 1s - loss: 2.6572 - accuracy: 0.1469\n",
            "--------------------------------------------------------------------------------\n",
            "\n",
            "\t --> accuracy on test data : 14.694589% and loss : 2.6572256 <--\n",
            "\n",
            "--------------------------------------------------------------------------------\n",
            "Epoch 1/10\n",
            "171/171 [==============================] - 5s 30ms/step - loss: 2.6528 - accuracy: 0.1310 - val_loss: 2.6170 - val_accuracy: 0.1957\n",
            "Epoch 2/10\n",
            "171/171 [==============================] - 5s 31ms/step - loss: 2.6416 - accuracy: 0.1403 - val_loss: 2.6110 - val_accuracy: 0.2011\n",
            "Epoch 3/10\n",
            "171/171 [==============================] - 5s 31ms/step - loss: 2.6324 - accuracy: 0.1527 - val_loss: 2.6034 - val_accuracy: 0.2114\n",
            "Epoch 4/10\n",
            "171/171 [==============================] - 5s 31ms/step - loss: 2.6234 - accuracy: 0.1601 - val_loss: 2.5975 - val_accuracy: 0.2225\n",
            "Epoch 5/10\n",
            "171/171 [==============================] - 5s 30ms/step - loss: 2.6133 - accuracy: 0.1720 - val_loss: 2.5917 - val_accuracy: 0.2340\n",
            "Epoch 6/10\n",
            "171/171 [==============================] - 5s 31ms/step - loss: 2.6069 - accuracy: 0.1771 - val_loss: 2.5860 - val_accuracy: 0.2357\n",
            "Epoch 7/10\n",
            "171/171 [==============================] - 5s 32ms/step - loss: 2.5983 - accuracy: 0.1923 - val_loss: 2.5812 - val_accuracy: 0.2435\n",
            "Epoch 8/10\n",
            "171/171 [==============================] - 5s 31ms/step - loss: 2.5881 - accuracy: 0.2022 - val_loss: 2.5749 - val_accuracy: 0.2522\n",
            "Epoch 9/10\n",
            "171/171 [==============================] - 5s 32ms/step - loss: 2.5814 - accuracy: 0.2137 - val_loss: 2.5699 - val_accuracy: 0.2608\n",
            "Epoch 10/10\n",
            "171/171 [==============================] - 5s 31ms/step - loss: 2.5750 - accuracy: 0.2219 - val_loss: 2.5668 - val_accuracy: 0.2703\n",
            "180/180 - 1s - loss: 2.5852 - accuracy: 0.2408\n",
            "--------------------------------------------------------------------------------\n",
            "\n",
            "\t --> accuracy on test data : 24.083769% and loss : 2.5851610 <--\n",
            "\n",
            "--------------------------------------------------------------------------------\n",
            "Epoch 1/10\n",
            "171/171 [==============================] - 5s 31ms/step - loss: 2.5689 - accuracy: 0.2359 - val_loss: 2.5400 - val_accuracy: 0.3185\n",
            "Epoch 2/10\n",
            "171/171 [==============================] - 5s 30ms/step - loss: 2.5623 - accuracy: 0.2411 - val_loss: 2.5369 - val_accuracy: 0.3276\n",
            "Epoch 3/10\n",
            "171/171 [==============================] - 5s 31ms/step - loss: 2.5586 - accuracy: 0.2475 - val_loss: 2.5339 - val_accuracy: 0.3317\n",
            "Epoch 4/10\n",
            "171/171 [==============================] - 5s 30ms/step - loss: 2.5506 - accuracy: 0.2635 - val_loss: 2.5306 - val_accuracy: 0.3321\n",
            "Epoch 5/10\n",
            "171/171 [==============================] - 5s 30ms/step - loss: 2.5437 - accuracy: 0.2784 - val_loss: 2.5276 - val_accuracy: 0.3362\n",
            "Epoch 6/10\n",
            "171/171 [==============================] - 5s 31ms/step - loss: 2.5387 - accuracy: 0.2870 - val_loss: 2.5245 - val_accuracy: 0.3395\n",
            "Epoch 7/10\n",
            "171/171 [==============================] - 5s 31ms/step - loss: 2.5325 - accuracy: 0.2951 - val_loss: 2.5219 - val_accuracy: 0.3494\n",
            "Epoch 8/10\n",
            "171/171 [==============================] - 5s 31ms/step - loss: 2.5279 - accuracy: 0.3102 - val_loss: 2.5186 - val_accuracy: 0.3576\n",
            "Epoch 9/10\n",
            "171/171 [==============================] - 5s 31ms/step - loss: 2.5239 - accuracy: 0.3166 - val_loss: 2.5154 - val_accuracy: 0.3684\n",
            "Epoch 10/10\n",
            "171/171 [==============================] - 5s 31ms/step - loss: 2.5181 - accuracy: 0.3321 - val_loss: 2.5129 - val_accuracy: 0.3708\n",
            "180/180 - 1s - loss: 2.5386 - accuracy: 0.3145\n",
            "--------------------------------------------------------------------------------\n",
            "\n",
            "\t --> accuracy on test data : 31.448516% and loss : 2.5385695 <--\n",
            "\n",
            "--------------------------------------------------------------------------------\n",
            "Epoch 1/10\n",
            "171/171 [==============================] - 5s 31ms/step - loss: 2.5152 - accuracy: 0.3370 - val_loss: 2.4956 - val_accuracy: 0.4260\n",
            "Epoch 2/10\n",
            "171/171 [==============================] - 5s 31ms/step - loss: 2.5084 - accuracy: 0.3486 - val_loss: 2.4935 - val_accuracy: 0.4207\n",
            "Epoch 3/10\n",
            "171/171 [==============================] - 5s 31ms/step - loss: 2.5055 - accuracy: 0.3545 - val_loss: 2.4909 - val_accuracy: 0.4260\n",
            "Epoch 4/10\n",
            "171/171 [==============================] - 5s 30ms/step - loss: 2.5006 - accuracy: 0.3630 - val_loss: 2.4891 - val_accuracy: 0.4318\n",
            "Epoch 5/10\n",
            "171/171 [==============================] - 5s 30ms/step - loss: 2.4964 - accuracy: 0.3761 - val_loss: 2.4869 - val_accuracy: 0.4310\n",
            "Epoch 6/10\n",
            "171/171 [==============================] - 5s 30ms/step - loss: 2.4910 - accuracy: 0.3862 - val_loss: 2.4848 - val_accuracy: 0.4421\n",
            "Epoch 7/10\n",
            "171/171 [==============================] - 5s 31ms/step - loss: 2.4869 - accuracy: 0.3951 - val_loss: 2.4828 - val_accuracy: 0.4450\n",
            "Epoch 8/10\n",
            "171/171 [==============================] - 5s 31ms/step - loss: 2.4833 - accuracy: 0.4027 - val_loss: 2.4806 - val_accuracy: 0.4499\n",
            "Epoch 9/10\n",
            "171/171 [==============================] - 5s 30ms/step - loss: 2.4784 - accuracy: 0.4139 - val_loss: 2.4786 - val_accuracy: 0.4532\n",
            "Epoch 10/10\n",
            "171/171 [==============================] - 5s 31ms/step - loss: 2.4757 - accuracy: 0.4217 - val_loss: 2.4771 - val_accuracy: 0.4491\n",
            "180/180 - 1s - loss: 2.5059 - accuracy: 0.3733\n",
            "--------------------------------------------------------------------------------\n",
            "\n",
            "\t --> accuracy on test data : 37.329844% and loss : 2.5058889 <--\n",
            "\n",
            "--------------------------------------------------------------------------------\n",
            "Epoch 1/10\n",
            "171/171 [==============================] - 5s 31ms/step - loss: 2.4743 - accuracy: 0.4239 - val_loss: 2.4470 - val_accuracy: 0.5155\n",
            "Epoch 2/10\n",
            "171/171 [==============================] - 5s 31ms/step - loss: 2.4706 - accuracy: 0.4283 - val_loss: 2.4456 - val_accuracy: 0.5163\n",
            "Epoch 3/10\n",
            "171/171 [==============================] - 5s 30ms/step - loss: 2.4668 - accuracy: 0.4462 - val_loss: 2.4442 - val_accuracy: 0.5187\n",
            "Epoch 4/10\n",
            "171/171 [==============================] - 5s 30ms/step - loss: 2.4632 - accuracy: 0.4531 - val_loss: 2.4423 - val_accuracy: 0.5196\n",
            "Epoch 5/10\n",
            "171/171 [==============================] - 5s 30ms/step - loss: 2.4594 - accuracy: 0.4577 - val_loss: 2.4414 - val_accuracy: 0.5241\n",
            "Epoch 6/10\n",
            "171/171 [==============================] - 5s 31ms/step - loss: 2.4554 - accuracy: 0.4667 - val_loss: 2.4394 - val_accuracy: 0.5319\n",
            "Epoch 7/10\n",
            "171/171 [==============================] - 5s 31ms/step - loss: 2.4523 - accuracy: 0.4739 - val_loss: 2.4379 - val_accuracy: 0.5344\n",
            "Epoch 8/10\n",
            "171/171 [==============================] - 5s 31ms/step - loss: 2.4495 - accuracy: 0.4815 - val_loss: 2.4370 - val_accuracy: 0.5336\n",
            "Epoch 9/10\n",
            "171/171 [==============================] - 5s 30ms/step - loss: 2.4456 - accuracy: 0.4898 - val_loss: 2.4356 - val_accuracy: 0.5299\n",
            "Epoch 10/10\n",
            "171/171 [==============================] - 5s 31ms/step - loss: 2.4424 - accuracy: 0.4943 - val_loss: 2.4335 - val_accuracy: 0.5385\n",
            "180/180 - 1s - loss: 2.4789 - accuracy: 0.4300\n",
            "--------------------------------------------------------------------------------\n",
            "\n",
            "\t --> accuracy on test data : 43.001744% and loss : 2.4788611 <--\n",
            "\n",
            "--------------------------------------------------------------------------------\n",
            "Epoch 1/10\n",
            "171/171 [==============================] - 5s 31ms/step - loss: 2.4410 - accuracy: 0.4989 - val_loss: 2.4181 - val_accuracy: 0.5756\n",
            "Epoch 2/10\n",
            "171/171 [==============================] - 5s 31ms/step - loss: 2.4378 - accuracy: 0.5060 - val_loss: 2.4169 - val_accuracy: 0.5756\n",
            "Epoch 3/10\n",
            "171/171 [==============================] - 5s 31ms/step - loss: 2.4344 - accuracy: 0.5109 - val_loss: 2.4156 - val_accuracy: 0.5764\n",
            "Epoch 4/10\n",
            "171/171 [==============================] - 5s 31ms/step - loss: 2.4316 - accuracy: 0.5183 - val_loss: 2.4146 - val_accuracy: 0.5801\n",
            "Epoch 5/10\n",
            "171/171 [==============================] - 5s 31ms/step - loss: 2.4284 - accuracy: 0.5278 - val_loss: 2.4140 - val_accuracy: 0.5818\n",
            "Epoch 6/10\n",
            "171/171 [==============================] - 5s 31ms/step - loss: 2.4254 - accuracy: 0.5334 - val_loss: 2.4130 - val_accuracy: 0.5793\n",
            "Epoch 7/10\n",
            "171/171 [==============================] - 5s 31ms/step - loss: 2.4225 - accuracy: 0.5417 - val_loss: 2.4125 - val_accuracy: 0.5797\n",
            "Epoch 8/10\n",
            "171/171 [==============================] - 5s 32ms/step - loss: 2.4195 - accuracy: 0.5458 - val_loss: 2.4107 - val_accuracy: 0.5818\n",
            "Epoch 9/10\n",
            "171/171 [==============================] - 5s 31ms/step - loss: 2.4169 - accuracy: 0.5504 - val_loss: 2.4092 - val_accuracy: 0.5847\n",
            "Epoch 10/10\n",
            "171/171 [==============================] - 5s 31ms/step - loss: 2.4140 - accuracy: 0.5567 - val_loss: 2.4081 - val_accuracy: 0.5851\n",
            "180/180 - 1s - loss: 2.4584 - accuracy: 0.4698\n",
            "--------------------------------------------------------------------------------\n",
            "\n",
            "\t --> accuracy on test data : 46.980804% and loss : 2.4584117 <--\n",
            "\n",
            "--------------------------------------------------------------------------------\n",
            "Epoch 1/10\n",
            "171/171 [==============================] - 6s 33ms/step - loss: 2.4136 - accuracy: 0.5598 - val_loss: 2.3907 - val_accuracy: 0.6333\n",
            "Epoch 2/10\n",
            "171/171 [==============================] - 5s 31ms/step - loss: 2.4102 - accuracy: 0.5634 - val_loss: 2.3909 - val_accuracy: 0.6345\n",
            "Epoch 3/10\n",
            "171/171 [==============================] - 5s 31ms/step - loss: 2.4078 - accuracy: 0.5679 - val_loss: 2.3901 - val_accuracy: 0.6325\n",
            "Epoch 4/10\n",
            "171/171 [==============================] - 5s 31ms/step - loss: 2.4052 - accuracy: 0.5773 - val_loss: 2.3892 - val_accuracy: 0.6337\n",
            "Epoch 5/10\n",
            "171/171 [==============================] - 5s 31ms/step - loss: 2.4022 - accuracy: 0.5833 - val_loss: 2.3883 - val_accuracy: 0.6283\n",
            "Epoch 6/10\n",
            "171/171 [==============================] - 5s 31ms/step - loss: 2.4000 - accuracy: 0.5831 - val_loss: 2.3874 - val_accuracy: 0.6321\n",
            "Epoch 7/10\n",
            "171/171 [==============================] - 5s 31ms/step - loss: 2.3981 - accuracy: 0.5865 - val_loss: 2.3867 - val_accuracy: 0.6349\n",
            "Epoch 8/10\n",
            "171/171 [==============================] - 5s 31ms/step - loss: 2.3949 - accuracy: 0.5957 - val_loss: 2.3857 - val_accuracy: 0.6333\n",
            "Epoch 9/10\n",
            "171/171 [==============================] - 5s 31ms/step - loss: 2.3932 - accuracy: 0.5995 - val_loss: 2.3851 - val_accuracy: 0.6349\n",
            "Epoch 10/10\n",
            "171/171 [==============================] - 5s 31ms/step - loss: 2.3910 - accuracy: 0.6039 - val_loss: 2.3839 - val_accuracy: 0.6316\n",
            "180/180 - 1s - loss: 2.4405 - accuracy: 0.4998\n",
            "--------------------------------------------------------------------------------\n",
            "\n",
            "\t --> accuracy on test data : 49.982548% and loss : 2.4405346 <--\n",
            "\n",
            "--------------------------------------------------------------------------------\n",
            "Epoch 1/10\n",
            "171/171 [==============================] - 5s 32ms/step - loss: 2.3893 - accuracy: 0.6087 - val_loss: 2.3622 - val_accuracy: 0.6844\n",
            "Epoch 2/10\n",
            "171/171 [==============================] - 5s 32ms/step - loss: 2.3874 - accuracy: 0.6092 - val_loss: 2.3614 - val_accuracy: 0.6860\n",
            "Epoch 3/10\n",
            "171/171 [==============================] - 5s 31ms/step - loss: 2.3853 - accuracy: 0.6134 - val_loss: 2.3614 - val_accuracy: 0.6885\n",
            "Epoch 4/10\n",
            "171/171 [==============================] - 5s 31ms/step - loss: 2.3830 - accuracy: 0.6172 - val_loss: 2.3610 - val_accuracy: 0.6869\n",
            "Epoch 5/10\n",
            "171/171 [==============================] - 5s 31ms/step - loss: 2.3803 - accuracy: 0.6256 - val_loss: 2.3598 - val_accuracy: 0.6869\n",
            "Epoch 6/10\n",
            "171/171 [==============================] - 5s 31ms/step - loss: 2.3788 - accuracy: 0.6273 - val_loss: 2.3586 - val_accuracy: 0.6873\n",
            "Epoch 7/10\n",
            "171/171 [==============================] - 5s 32ms/step - loss: 2.3767 - accuracy: 0.6319 - val_loss: 2.3589 - val_accuracy: 0.6860\n",
            "Epoch 8/10\n",
            "171/171 [==============================] - 5s 31ms/step - loss: 2.3743 - accuracy: 0.6388 - val_loss: 2.3579 - val_accuracy: 0.6885\n",
            "Epoch 9/10\n",
            "171/171 [==============================] - 5s 31ms/step - loss: 2.3718 - accuracy: 0.6446 - val_loss: 2.3568 - val_accuracy: 0.6873\n",
            "Epoch 10/10\n",
            "171/171 [==============================] - 5s 30ms/step - loss: 2.3691 - accuracy: 0.6498 - val_loss: 2.3569 - val_accuracy: 0.6893\n",
            "180/180 - 1s - loss: 2.4267 - accuracy: 0.5271\n",
            "--------------------------------------------------------------------------------\n",
            "\n",
            "\t --> accuracy on test data : 52.705061% and loss : 2.4267263 <--\n",
            "\n",
            "--------------------------------------------------------------------------------\n",
            "Epoch 1/10\n",
            "171/171 [==============================] - 5s 30ms/step - loss: 2.3693 - accuracy: 0.6432 - val_loss: 2.3487 - val_accuracy: 0.7062\n",
            "Epoch 2/10\n",
            "171/171 [==============================] - 5s 30ms/step - loss: 2.3663 - accuracy: 0.6479 - val_loss: 2.3484 - val_accuracy: 0.7062\n",
            "Epoch 3/10\n",
            "171/171 [==============================] - 5s 30ms/step - loss: 2.3644 - accuracy: 0.6538 - val_loss: 2.3480 - val_accuracy: 0.7017\n",
            "Epoch 4/10\n",
            "171/171 [==============================] - 5s 30ms/step - loss: 2.3626 - accuracy: 0.6545 - val_loss: 2.3470 - val_accuracy: 0.7021\n",
            "Epoch 5/10\n",
            "171/171 [==============================] - 5s 31ms/step - loss: 2.3596 - accuracy: 0.6651 - val_loss: 2.3471 - val_accuracy: 0.6992\n",
            "Epoch 6/10\n",
            "171/171 [==============================] - 5s 30ms/step - loss: 2.3586 - accuracy: 0.6635 - val_loss: 2.3457 - val_accuracy: 0.6984\n",
            "Epoch 7/10\n",
            "171/171 [==============================] - 5s 30ms/step - loss: 2.3556 - accuracy: 0.6699 - val_loss: 2.3460 - val_accuracy: 0.7000\n",
            "Epoch 8/10\n",
            "171/171 [==============================] - 5s 30ms/step - loss: 2.3541 - accuracy: 0.6757 - val_loss: 2.3450 - val_accuracy: 0.6984\n",
            "Epoch 9/10\n",
            "171/171 [==============================] - 5s 30ms/step - loss: 2.3513 - accuracy: 0.6779 - val_loss: 2.3448 - val_accuracy: 0.6988\n",
            "Epoch 10/10\n",
            "171/171 [==============================] - 5s 30ms/step - loss: 2.3501 - accuracy: 0.6825 - val_loss: 2.3459 - val_accuracy: 0.6963\n",
            "180/180 - 1s - loss: 2.4150 - accuracy: 0.5469\n",
            "--------------------------------------------------------------------------------\n",
            "\n",
            "\t --> accuracy on test data : 54.694587% and loss : 2.4150434 <--\n",
            "\n",
            "--------------------------------------------------------------------------------\n",
            "Epoch 1/10\n",
            "171/171 [==============================] - 5s 30ms/step - loss: 2.3500 - accuracy: 0.6813 - val_loss: 2.3279 - val_accuracy: 0.7351\n",
            "Epoch 2/10\n",
            "171/171 [==============================] - 5s 30ms/step - loss: 2.3480 - accuracy: 0.6844 - val_loss: 2.3274 - val_accuracy: 0.7363\n",
            "Epoch 3/10\n",
            "171/171 [==============================] - 5s 30ms/step - loss: 2.3462 - accuracy: 0.6847 - val_loss: 2.3277 - val_accuracy: 0.7342\n",
            "Epoch 4/10\n",
            "171/171 [==============================] - 5s 30ms/step - loss: 2.3443 - accuracy: 0.6910 - val_loss: 2.3268 - val_accuracy: 0.7342\n",
            "Epoch 5/10\n",
            "171/171 [==============================] - 5s 30ms/step - loss: 2.3421 - accuracy: 0.6953 - val_loss: 2.3264 - val_accuracy: 0.7326\n",
            "Epoch 6/10\n",
            "171/171 [==============================] - 5s 31ms/step - loss: 2.3404 - accuracy: 0.6962 - val_loss: 2.3259 - val_accuracy: 0.7301\n",
            "Epoch 7/10\n",
            "171/171 [==============================] - 5s 30ms/step - loss: 2.3385 - accuracy: 0.6999 - val_loss: 2.3259 - val_accuracy: 0.7293\n",
            "Epoch 8/10\n",
            "171/171 [==============================] - 5s 30ms/step - loss: 2.3373 - accuracy: 0.7067 - val_loss: 2.3258 - val_accuracy: 0.7268\n",
            "Epoch 9/10\n",
            "171/171 [==============================] - 5s 30ms/step - loss: 2.3352 - accuracy: 0.7089 - val_loss: 2.3252 - val_accuracy: 0.7285\n",
            "Epoch 10/10\n",
            "171/171 [==============================] - 5s 30ms/step - loss: 2.3333 - accuracy: 0.7099 - val_loss: 2.3251 - val_accuracy: 0.7281\n",
            "180/180 - 1s - loss: 2.4031 - accuracy: 0.5574\n",
            "--------------------------------------------------------------------------------\n",
            "\n",
            "\t --> accuracy on test data : 55.741709% and loss : 2.4031444 <--\n",
            "\n",
            "--------------------------------------------------------------------------------\n",
            "done\n",
            "CPU times: user 6min 18s, sys: 39.4 s, total: 6min 58s\n",
            "Wall time: 8min 54s\n"
          ],
          "name": "stdout"
        }
      ]
    },
    {
      "cell_type": "code",
      "metadata": {
        "colab": {
          "base_uri": "https://localhost:8080/",
          "height": 296
        },
        "id": "LerEkYddj4ah",
        "outputId": "517e5494-a87a-4956-e258-6897aaf6716d"
      },
      "source": [
        "plt.plot([i for i in range(1,11)],scores2,label='TESTING')\n",
        "plt.xlabel('Epochs')\n",
        "plt.ylabel('Accuracy')\n",
        "plt.legend()"
      ],
      "execution_count": null,
      "outputs": [
        {
          "output_type": "execute_result",
          "data": {
            "text/plain": [
              "<matplotlib.legend.Legend at 0x7ff32603dc50>"
            ]
          },
          "metadata": {
            "tags": []
          },
          "execution_count": 79
        },
        {
          "output_type": "display_data",
          "data": {
            "image/png": "[encoded data removed]",
            "text/plain": [
              "<Figure size 432x288 with 1 Axes>"
            ]
          },
          "metadata": {
            "tags": [],
            "needs_background": "light"
          }
        }
      ]
    },
    {
      "cell_type": "code",
      "metadata": {
        "id": "EVPEDB39maPb"
      },
      "source": [
        ""
      ],
      "execution_count": null,
      "outputs": []
    }
  ]
}