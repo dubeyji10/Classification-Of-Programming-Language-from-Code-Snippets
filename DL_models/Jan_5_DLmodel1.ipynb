{
  "nbformat": 4,
  "nbformat_minor": 0,
  "metadata": {
    "accelerator": "GPU",
    "colab": {
      "name": "Jan_5_DLmodel1.ipynb",
      "provenance": [],
      "collapsed_sections": [],
      "toc_visible": true
    },
    "kernelspec": {
      "display_name": "Python 3",
      "name": "python3"
    }
  },
  "cells": [
    {
      "cell_type": "code",
      "metadata": {
        "id": "nZ5iPO3T_5tc"
      },
      "source": [
        "#@title Version 1 Jan_5_DLmodel1 <br>vocab size = 10000 , padding = 1000 <br> testing accuracy around 70% "
      ],
      "execution_count": 1,
      "outputs": []
    },
    {
      "cell_type": "markdown",
      "metadata": {
        "id": "wXJANCKtzdw6"
      },
      "source": [
        "### First Model"
      ]
    },
    {
      "cell_type": "markdown",
      "metadata": {
        "id": "EYLKcUH4_5Ib"
      },
      "source": [
        "## first dataset : final_dataset_1.csv"
      ]
    },
    {
      "cell_type": "markdown",
      "metadata": {
        "id": "dujUpWi0AIxW"
      },
      "source": [
        "### Connect to drive"
      ]
    },
    {
      "cell_type": "code",
      "metadata": {
        "colab": {
          "base_uri": "https://localhost:8080/"
        },
        "id": "GNddv50T_xt1",
        "outputId": "bdf91076-141f-4cec-c5d7-9014c1af5a73"
      },
      "source": [
        "import pandas as pd\n",
        "import matplotlib.pyplot as plt\n",
        "import numpy as np\n",
        "import os\n",
        "from os import listdir\n",
        "from os.path import isfile, join\n",
        "from google.colab import drive\n",
        "drive.mount('/content/drive')"
      ],
      "execution_count": 2,
      "outputs": [
        {
          "output_type": "stream",
          "text": [
            "Drive already mounted at /content/drive; to attempt to forcibly remount, call drive.mount(\"/content/drive\", force_remount=True).\n"
          ],
          "name": "stdout"
        }
      ]
    },
    {
      "cell_type": "markdown",
      "metadata": {
        "id": "Xz4mpcm7ZPhI"
      },
      "source": [
        "text = re.sub(r'^https?:\\/\\/.*[\\r\\n]*', '', text, flags=re.MULTILINE)\n"
      ]
    },
    {
      "cell_type": "code",
      "metadata": {
        "colab": {
          "base_uri": "https://localhost:8080/"
        },
        "id": "6yR8JEzzALsk",
        "outputId": "2602fe77-cd76-45ff-a52c-5b3f7e9a5a68"
      },
      "source": [
        "ls"
      ],
      "execution_count": 3,
      "outputs": [
        {
          "output_type": "stream",
          "text": [
            "\u001b[0m\u001b[01;34mcontent\u001b[0m/  \u001b[01;34mdrive\u001b[0m/               \u001b[01;34msample_data\u001b[0m/           tokenizer_Jan5_v2.pickle\n",
            "\u001b[01;34mdataset\u001b[0m/  Jan_5_DL_model1.zip  tokenizer_Jan5.pickle\n"
          ],
          "name": "stdout"
        }
      ]
    },
    {
      "cell_type": "code",
      "metadata": {
        "colab": {
          "base_uri": "https://localhost:8080/"
        },
        "id": "AbeKnMSbAXCJ",
        "outputId": "4040a6e0-67a4-4bcd-c771-70e3948b91d9"
      },
      "source": [
        "!mkdir dataset\n",
        "!ls"
      ],
      "execution_count": 4,
      "outputs": [
        {
          "output_type": "stream",
          "text": [
            "mkdir: cannot create directory ‘dataset’: File exists\n",
            "content  drive\t\t      sample_data\t     tokenizer_Jan5_v2.pickle\n",
            "dataset  Jan_5_DL_model1.zip  tokenizer_Jan5.pickle\n"
          ],
          "name": "stdout"
        }
      ]
    },
    {
      "cell_type": "markdown",
      "metadata": {
        "id": "IWeMHb7gzobF"
      },
      "source": [
        "### Copy Dataset from drive"
      ]
    },
    {
      "cell_type": "code",
      "metadata": {
        "colab": {
          "base_uri": "https://localhost:8080/"
        },
        "id": "asc6kZLYAaeY",
        "outputId": "25ef31a2-c192-4984-9316-db3d7ccc4916"
      },
      "source": [
        "!cp '/content/drive/MyDrive/datasets/LanguageDataset/final_changes/final_dataset_1.csv' /content/dataset/\n",
        "! echo copied final_dataset_1\n",
        "\n",
        "!cp '/content/drive/MyDrive/datasets/LanguageDataset/final_changes/final_dataset_2.csv' /content/dataset/\n",
        "! echo copied final_dataset_2\n"
      ],
      "execution_count": 5,
      "outputs": [
        {
          "output_type": "stream",
          "text": [
            "copied final_dataset_1\n",
            "copied final_dataset_2\n"
          ],
          "name": "stdout"
        }
      ]
    },
    {
      "cell_type": "markdown",
      "metadata": {
        "id": "3CXkhQjnzs8G"
      },
      "source": [
        "#### Reading dataset"
      ]
    },
    {
      "cell_type": "code",
      "metadata": {
        "colab": {
          "base_uri": "https://localhost:8080/",
          "height": 419
        },
        "id": "zZ0TI6BbAmFZ",
        "outputId": "b7f79094-8d2c-4717-e7cf-1b07c1c71a33"
      },
      "source": [
        "data = pd.read_csv('/content/dataset/final_dataset_1.csv')\n",
        "data"
      ],
      "execution_count": 6,
      "outputs": [
        {
          "output_type": "execute_result",
          "data": {
            "text/html": [
              "<div>\n",
              "<style scoped>\n",
              "    .dataframe tbody tr th:only-of-type {\n",
              "        vertical-align: middle;\n",
              "    }\n",
              "\n",
              "    .dataframe tbody tr th {\n",
              "        vertical-align: top;\n",
              "    }\n",
              "\n",
              "    .dataframe thead th {\n",
              "        text-align: right;\n",
              "    }\n",
              "</style>\n",
              "<table border=\"1\" class=\"dataframe\">\n",
              "  <thead>\n",
              "    <tr style=\"text-align: right;\">\n",
              "      <th></th>\n",
              "      <th>Language</th>\n",
              "      <th>Source</th>\n",
              "    </tr>\n",
              "  </thead>\n",
              "  <tbody>\n",
              "    <tr>\n",
              "      <th>0</th>\n",
              "      <td>bash</td>\n",
              "      <td>bash\\nalias tail_ls=\"ls -l $1 | tail\"\\n\\ntail_...</td>\n",
              "    </tr>\n",
              "    <tr>\n",
              "      <th>1</th>\n",
              "      <td>bash</td>\n",
              "      <td>ERR_COUNT=`echo $VAR_WITH_TEXT | grep \"ERROR t...</td>\n",
              "    </tr>\n",
              "    <tr>\n",
              "      <th>2</th>\n",
              "      <td>bash</td>\n",
              "      <td>SET JARS=^\\n./lib/apache-mime4j-0.6.jar;^\\n./l...</td>\n",
              "    </tr>\n",
              "    <tr>\n",
              "      <th>3</th>\n",
              "      <td>bash</td>\n",
              "      <td>2010-02-20 21:01 1458414588   s3://file1.tgz.0...</td>\n",
              "    </tr>\n",
              "    <tr>\n",
              "      <th>4</th>\n",
              "      <td>bash</td>\n",
              "      <td>pkill /?\\n\\n[ws@RHDev ~]# pkill $(ps aux | gre...</td>\n",
              "    </tr>\n",
              "    <tr>\n",
              "      <th>...</th>\n",
              "      <td>...</td>\n",
              "      <td>...</td>\n",
              "    </tr>\n",
              "    <tr>\n",
              "      <th>29995</th>\n",
              "      <td>swift</td>\n",
              "      <td>/* Scale and crop image */\\nfunc imageByScalin...</td>\n",
              "    </tr>\n",
              "    <tr>\n",
              "      <th>29996</th>\n",
              "      <td>swift</td>\n",
              "      <td>import UIKit\\nimport MapKit\\n\\nclass ViewContr...</td>\n",
              "    </tr>\n",
              "    <tr>\n",
              "      <th>29997</th>\n",
              "      <td>swift</td>\n",
              "      <td>html\\nUIWebView\\nParseConfig\\nhtml\\nParseConfi...</td>\n",
              "    </tr>\n",
              "    <tr>\n",
              "      <th>29998</th>\n",
              "      <td>swift</td>\n",
              "      <td>var array1: [AnyObject!] = []\\n\\n    var key...</td>\n",
              "    </tr>\n",
              "    <tr>\n",
              "      <th>29999</th>\n",
              "      <td>swift</td>\n",
              "      <td>extension Array {\\n    public func second() -&gt;...</td>\n",
              "    </tr>\n",
              "  </tbody>\n",
              "</table>\n",
              "<p>30000 rows × 2 columns</p>\n",
              "</div>"
            ],
            "text/plain": [
              "      Language                                             Source\n",
              "0         bash  bash\\nalias tail_ls=\"ls -l $1 | tail\"\\n\\ntail_...\n",
              "1         bash  ERR_COUNT=`echo $VAR_WITH_TEXT | grep \"ERROR t...\n",
              "2         bash  SET JARS=^\\n./lib/apache-mime4j-0.6.jar;^\\n./l...\n",
              "3         bash  2010-02-20 21:01 1458414588   s3://file1.tgz.0...\n",
              "4         bash  pkill /?\\n\\n[ws@RHDev ~]# pkill $(ps aux | gre...\n",
              "...        ...                                                ...\n",
              "29995    swift  /* Scale and crop image */\\nfunc imageByScalin...\n",
              "29996    swift  import UIKit\\nimport MapKit\\n\\nclass ViewContr...\n",
              "29997    swift  html\\nUIWebView\\nParseConfig\\nhtml\\nParseConfi...\n",
              "29998    swift    var array1: [AnyObject!] = []\\n\\n    var key...\n",
              "29999    swift  extension Array {\\n    public func second() ->...\n",
              "\n",
              "[30000 rows x 2 columns]"
            ]
          },
          "metadata": {
            "tags": []
          },
          "execution_count": 6
        }
      ]
    },
    {
      "cell_type": "markdown",
      "metadata": {
        "id": "DTDlstsnAucz"
      },
      "source": [
        "### Describing Dataset part 1"
      ]
    },
    {
      "cell_type": "code",
      "metadata": {
        "colab": {
          "base_uri": "https://localhost:8080/",
          "height": 369
        },
        "id": "RfSBNcIVAqBR",
        "outputId": "5c5795f6-1094-45ae-f6b0-a6c097b41736"
      },
      "source": [
        "data.groupby('Language')['Source'].count().plot.bar(ylim=0,grid=False,color='#11100f')\n",
        "plt.xlabel('\\n languages')\n",
        "plt.ylabel('no of examples available')\n",
        "plt.title('Dataset')"
      ],
      "execution_count": 7,
      "outputs": [
        {
          "output_type": "execute_result",
          "data": {
            "text/plain": [
              "Text(0.5, 1.0, 'Dataset')"
            ]
          },
          "metadata": {
            "tags": []
          },
          "execution_count": 7
        },
        {
          "output_type": "display_data",
          "data": {
            "image/png": "[encoded data removed]",
            "text/plain": [
              "<Figure size 432x288 with 1 Axes>"
            ]
          },
          "metadata": {
            "tags": [],
            "needs_background": "light"
          }
        }
      ]
    },
    {
      "cell_type": "code",
      "metadata": {
        "colab": {
          "base_uri": "https://localhost:8080/",
          "height": 345
        },
        "id": "CUhqBeTPBD-g",
        "outputId": "a1cf8c38-6b68-4650-ed80-99398f203938"
      },
      "source": [
        "data.groupby('Language')['Source'].count().plot.pie(explode=[0.065+(0.0699*i) for i in range(15)] )"
      ],
      "execution_count": 8,
      "outputs": [
        {
          "output_type": "execute_result",
          "data": {
            "text/plain": [
              "<matplotlib.axes._subplots.AxesSubplot at 0x7fbdde481ac8>"
            ]
          },
          "metadata": {
            "tags": []
          },
          "execution_count": 8
        },
        {
          "output_type": "display_data",
          "data": {
            "image/png": "[encoded data removed]",
            "text/plain": [
              "<Figure size 432x288 with 1 Axes>"
            ]
          },
          "metadata": {
            "tags": []
          }
        }
      ]
    },
    {
      "cell_type": "markdown",
      "metadata": {
        "id": "c3uNghBYA1tS"
      },
      "source": [
        "### Since dataset is not clean it needs preprocessing"
      ]
    },
    {
      "cell_type": "markdown",
      "metadata": {
        "id": "9rPnbrH7A4hF"
      },
      "source": [
        "### PREPROCESSING OF DATASET USING REGULAR EXPRESSION AND NLTK"
      ]
    },
    {
      "cell_type": "code",
      "metadata": {
        "colab": {
          "base_uri": "https://localhost:8080/"
        },
        "id": "T-net_YbAzQ7",
        "outputId": "1a50011d-2c0f-469d-994b-31c40e4d31e2"
      },
      "source": [
        "import nltk\n",
        "\n",
        "from nltk.corpus import stopwords\n",
        "from nltk.tokenize import word_tokenize\n",
        "\n",
        "nltk.download('stopwords')\n",
        "nltk.download('punkt')\n",
        "print('.....done')"
      ],
      "execution_count": 9,
      "outputs": [
        {
          "output_type": "stream",
          "text": [
            "[nltk_data] Downloading package stopwords to /root/nltk_data...\n",
            "[nltk_data]   Package stopwords is already up-to-date!\n",
            "[nltk_data] Downloading package punkt to /root/nltk_data...\n",
            "[nltk_data]   Package punkt is already up-to-date!\n",
            ".....done\n"
          ],
          "name": "stdout"
        }
      ]
    },
    {
      "cell_type": "code",
      "metadata": {
        "colab": {
          "base_uri": "https://localhost:8080/"
        },
        "id": "M4cfCMulBAHG",
        "outputId": "142235d9-534d-4620-de85-be506a638e99"
      },
      "source": [
        "import re\n",
        "stopwords_list = stopwords.words('english')\n",
        "print(len(stopwords_list))"
      ],
      "execution_count": 10,
      "outputs": [
        {
          "output_type": "stream",
          "text": [
            "179\n"
          ],
          "name": "stdout"
        }
      ]
    },
    {
      "cell_type": "code",
      "metadata": {
        "colab": {
          "base_uri": "https://localhost:8080/"
        },
        "id": "2xQDN8prBjBa",
        "outputId": "c858f088-8b3c-4135-91bd-54ddb601219e"
      },
      "source": [
        "stopwords_list.extend(['left','right','up','down','center','centre'])\n",
        "print(len(stopwords_list))"
      ],
      "execution_count": 11,
      "outputs": [
        {
          "output_type": "stream",
          "text": [
            "185\n"
          ],
          "name": "stdout"
        }
      ]
    },
    {
      "cell_type": "code",
      "metadata": {
        "colab": {
          "base_uri": "https://localhost:8080/"
        },
        "id": "CxQjvkgwBz2I",
        "outputId": "54b15fcd-d337-4022-a5d2-b0b568ed8f1c"
      },
      "source": [
        "stopwords_list.extend(['bottom','start','end','price','location','fix','here','Start','Over','End'])\n",
        "print(len(stopwords_list))\n"
      ],
      "execution_count": 12,
      "outputs": [
        {
          "output_type": "stream",
          "text": [
            "195\n"
          ],
          "name": "stdout"
        }
      ]
    },
    {
      "cell_type": "code",
      "metadata": {
        "colab": {
          "base_uri": "https://localhost:8080/"
        },
        "id": "btzc1JUTBJYR",
        "outputId": "eb4c3c0c-d1f0-44ff-fec7-bb637527b5f4"
      },
      "source": [
        "def expression1(text):\n",
        "    # remove single character\n",
        "\n",
        "    #removing url \n",
        "    text = re.sub(r\"http\\S+\", \"\", text)\n",
        "    text = re.sub(r'^https?://.*[\\r\\n]*', '', text, flags=re.MULTILINE)\n",
        "    text = re.sub(r'^http?://.*[\\r\\n]*', '', text, flags=re.MULTILINE)\n",
        "    text = re.sub(r'^www?://.*[\\r\\n]*', '', text, flags=re.MULTILINE)\n",
        "\n",
        "    text = ' '.join(['' if len(i)==1 else i for i in text.split()])\n",
        "    \n",
        "    # text = re.sub('{','',text)\n",
        "    # text = re.sub('}','',text)\n",
        "    \n",
        "    # to remove '(' , ' )' , '[' , ']' ... replaced with a space \n",
        "    # text = re.sub('\\\\(',' ',text)\n",
        "    # text = re.sub('\\\\)',' ',text)\n",
        "    # text = re.sub('\\\\[',' ',text)\n",
        "    # text = re.sub('\\\\]',' ',text)\n",
        "    # replace . with a space\n",
        "    # text = re.sub('\\\\.',' ',text)\n",
        "    \n",
        "    # remove unicode\n",
        "    \n",
        "    text = re.sub(r'(\\\\u[0-9A-Fa-f]+)',r'', text)       \n",
        "    text = re.sub(r'[^\\x00-\\x7f]',r'',text)\n",
        "    \n",
        "    # remove digits\n",
        "    text = re.sub('[0-9]',' ',text)\n",
        "    \n",
        "    #     remove + - * / < >\n",
        "    text = re.sub('\\\\+',' ',text)\n",
        "    text = re.sub('\\\\=',' ',text)\n",
        "    text = re.sub('\\\\-',' ',text)\n",
        "    text = re.sub('\\\\*',' ',text)\n",
        "    text = re.sub('\\\\/',' ',text)\n",
        "    # text = re.sub('\\\\<',' ',text)\n",
        "    # text = re.sub('\\\\>',' ',text)\n",
        "#     text = re.sub('\\\\:',' ',text)\n",
        "    \n",
        "#     text = text.replace(':',r' : ')\n",
        "    \n",
        "    \n",
        "    #     text = ' '.join(text.split())\n",
        "\n",
        "    # replace single chars again \n",
        "    text = ' '.join(['' if len(i)==1 else i for i in text.split()])\n",
        "    \n",
        "    # spacing quoted statement\n",
        "    text = re.sub('\"',' \" ',text)\n",
        "    # replace url\n",
        "\n",
        "    text = re.sub('((www\\.[^\\s]+)|(https?://[^\\s]+))',' ',text)\n",
        "        #Replaces url address with \"url\" \n",
        "    # text = re.sub('((www\\.[^\\s]+)|(https?://[^\\s]+))',' ',text)\n",
        "\t  # text = re.sub(r'#([^\\s]+)', r'\\1',text)\n",
        "\n",
        "    return text\n",
        "\n",
        "# def replaceURL(text):\n",
        "\n",
        "def clean_code(text):\n",
        "  text = expression1(text)\n",
        "  text_tokens = word_tokenize(text)\n",
        "  tokens_without_stopwords = [word for word in text_tokens if not word in stopwords_list] \n",
        "  # stopwords.words()]\n",
        "  return ' '.join(tokens_without_stopwords)\n",
        "\n",
        "# trying clean_code2\n",
        "def clean_code2(text):\n",
        "  text = expression1(text)\n",
        "  if len(text)>5001 or len(text)<8:\n",
        "    return ''\n",
        "  text_tokens = word_tokenize(text)\n",
        "  tokens_without_stopwords = [word for word in text_tokens if not word in stopwords_list] \n",
        "  # stopwords.words()\n",
        "  if len(tokens_without_stopwords)>500:\n",
        "    return ''\n",
        "  else:\n",
        "    return ' '.join(tokens_without_stopwords)\n",
        "\n",
        "def clean_code3(text):\n",
        "  text = expression1(text)\n",
        "  text_tokens = word_tokenize(text)\n",
        "  tokens_without_stopwords = [word for word in text_tokens if not word.lower() in stopwords_list] \n",
        "  # stopwords.words()]\n",
        "  return ' '.join(tokens_without_stopwords)\n",
        "\n",
        "print(\"TRY expresion1\")"
      ],
      "execution_count": 13,
      "outputs": [
        {
          "output_type": "stream",
          "text": [
            "TRY expresion1\n"
          ],
          "name": "stdout"
        }
      ]
    },
    {
      "cell_type": "markdown",
      "metadata": {
        "id": "KfoVe7X8RogO"
      },
      "source": [
        "#### now rejecting examples with length > 5000"
      ]
    },
    {
      "cell_type": "code",
      "metadata": {
        "colab": {
          "base_uri": "https://localhost:8080/"
        },
        "id": "RYAoQI4qKJn2",
        "outputId": "386a472e-d657-4da2-96ea-27c1114c11df"
      },
      "source": [
        "def return_len(dataframe):\n",
        "  sentences = dataframe.Source.astype('U')\n",
        "#     print(len(sentences))\n",
        "#     print(type(sentences))\n",
        "  lengths = np.asarray([len(sentence) for sentence in sentences ])\n",
        "  print('--- min : {} , max : {} , average : {} ---'.format(np.min(lengths),np.max(lengths),np.mean(lengths)))\n",
        "  return lengths\n",
        "\n",
        "langs = [i for i in data.Language.unique()]\n",
        "langs.sort()\n",
        "langs"
      ],
      "execution_count": 15,
      "outputs": [
        {
          "output_type": "execute_result",
          "data": {
            "text/plain": [
              "['bash',\n",
              " 'c',\n",
              " 'c#',\n",
              " 'c++',\n",
              " 'haskell',\n",
              " 'java',\n",
              " 'javascript',\n",
              " 'objective-c',\n",
              " 'perl',\n",
              " 'php',\n",
              " 'python',\n",
              " 'ruby',\n",
              " 'scala',\n",
              " 'sql',\n",
              " 'swift']"
            ]
          },
          "metadata": {
            "tags": []
          },
          "execution_count": 15
        }
      ]
    },
    {
      "cell_type": "code",
      "metadata": {
        "colab": {
          "base_uri": "https://localhost:8080/"
        },
        "id": "_O5DTIm5KNpe",
        "outputId": "032418f5-f470-4237-fae1-8eef362ceaf9"
      },
      "source": [
        "%%time\n",
        "detailed_lengths = []\n",
        "for i in langs:\n",
        "  print(' - ',i,' -')\n",
        "  detailed_lengths.append(return_len(data[data.Language==i]))\n",
        "print(len(detailed_lengths))"
      ],
      "execution_count": 16,
      "outputs": [
        {
          "output_type": "stream",
          "text": [
            " -  bash  -\n",
            "--- min : 10 , max : 24521 , average : 325.3675 ---\n",
            " -  c  -\n",
            "--- min : 10 , max : 24256 , average : 558.392 ---\n",
            " -  c#  -\n",
            "--- min : 10 , max : 16970 , average : 583.482 ---\n",
            " -  c++  -\n",
            "--- min : 10 , max : 28002 , average : 598.3775 ---\n",
            " -  haskell  -\n",
            "--- min : 10 , max : 12876 , average : 563.049 ---\n",
            " -  java  -\n",
            "--- min : 10 , max : 27587 , average : 717.7025 ---\n",
            " -  javascript  -\n",
            "--- min : 10 , max : 32366 , average : 520.9325 ---\n",
            " -  objective-c  -\n",
            "--- min : 10 , max : 22865 , average : 646.5355 ---\n",
            " -  perl  -\n",
            "--- min : 10 , max : 14899 , average : 512.841 ---\n",
            " -  php  -\n",
            "--- min : 10 , max : 19257 , average : 497.8405 ---\n",
            " -  python  -\n",
            "--- min : 10 , max : 16065 , average : 471.409 ---\n",
            " -  ruby  -\n",
            "--- min : 10 , max : 19354 , average : 462.915 ---\n",
            " -  scala  -\n",
            "--- min : 10 , max : 14524 , average : 527.3085 ---\n",
            " -  sql  -\n",
            "--- min : 10 , max : 28299 , average : 531.66 ---\n",
            " -  swift  -\n",
            "--- min : 10 , max : 17767 , average : 778.781 ---\n",
            "15\n",
            "CPU times: user 62.6 ms, sys: 11.1 ms, total: 73.7 ms\n",
            "Wall time: 68.7 ms\n"
          ],
          "name": "stdout"
        }
      ]
    },
    {
      "cell_type": "code",
      "metadata": {
        "colab": {
          "base_uri": "https://localhost:8080/"
        },
        "id": "upmKWgZhBXcU",
        "outputId": "5ea26606-38e4-474d-9aec-b6bad29db0af"
      },
      "source": [
        "%%time\n",
        "\n",
        "line_7210 = data.iloc[1001]['Source']\n",
        "cleaned_7210 =  clean_code(line_7210)\n",
        "cleaned2_7210 =  clean_code2(line_7210)\n",
        "\n",
        "print(line_7210 , '\\n ->',len(line_7210))\n",
        "print('-'*60,'\\n\\n')\n",
        "print(cleaned_7210,'\\n ->',len(cleaned_7210))\n",
        "print('-'*60,'\\n\\n')\n",
        "print(cleaned2_7210,'\\n ->',len(cleaned2_7210))"
      ],
      "execution_count": 19,
      "outputs": [
        {
          "output_type": "stream",
          "text": [
            "$(__git_ps1 \"[%s]\")\n",
            "pwd\n",
            "~/.bash_profile\n",
            "# File: ~/.bash_profile\n",
            "\n",
            "# source ~/.profile, if available\n",
            "if [[ -r ~/.profile ]]; then\n",
            "  . ~/.profile\n",
            "fi\n",
            "\n",
            "# start agent and set environment variables, if needed\n",
            "agent_started=0\n",
            "if ! env | grep -q SSH_AGENT_PID >/dev/null; then\n",
            "  echo \"Starting ssh agent\"\n",
            "  eval $(ssh-agent -s)\n",
            "  agent_started=1\n",
            "fi\n",
            "\n",
            "# ssh become a function, adding identity to agent when needed\n",
            "ssh() {\n",
            "  if ! ssh-add -l >/dev/null 2>-; then\n",
            "    ssh-add ~/.ssh/id_dsa\n",
            "  fi\n",
            "  /usr/bin/ssh \"$@\"\n",
            "}\n",
            "export -f ssh\n",
            "\n",
            "# another example: git\n",
            "git() {\n",
            "  if ! ssh-add -l >/dev/null 2>-; then\n",
            "    ssh-add ~/.ssh/id_dsa\n",
            "  fi\n",
            "  /usr/bin/git \"$@\"\n",
            "}\n",
            "export -f git\n",
            "\n",
            "ssh\n",
            "ssh()\n",
            " \n",
            " -> 666\n",
            "------------------------------------------------------------ \n",
            "\n",
            "\n",
            "$ ( __git_ps `` [ % ] `` ) pwd .bash_profile File : .bash_profile source .profile , available [ [ .profile ] ] ; .profile fi agent set environment variables , needed agent_started env grep SSH_AGENT_PID dev null ; echo `` Starting ssh agent `` eval $ ( ssh agent ) agent_started fi ssh become function , adding identity agent needed ssh ( ) ssh add dev null ssh add .ssh id_dsa fi usr bin ssh `` $ @ `` export ssh another example : git git ( ) ssh add dev null ssh add .ssh id_dsa fi usr bin git `` $ @ `` export git ssh ssh ( ) \n",
            " -> 528\n",
            "------------------------------------------------------------ \n",
            "\n",
            "\n",
            "$ ( __git_ps `` [ % ] `` ) pwd .bash_profile File : .bash_profile source .profile , available [ [ .profile ] ] ; .profile fi agent set environment variables , needed agent_started env grep SSH_AGENT_PID dev null ; echo `` Starting ssh agent `` eval $ ( ssh agent ) agent_started fi ssh become function , adding identity agent needed ssh ( ) ssh add dev null ssh add .ssh id_dsa fi usr bin ssh `` $ @ `` export ssh another example : git git ( ) ssh add dev null ssh add .ssh id_dsa fi usr bin git `` $ @ `` export git ssh ssh ( ) \n",
            " -> 528\n",
            "CPU times: user 5.63 ms, sys: 144 µs, total: 5.77 ms\n",
            "Wall time: 6.2 ms\n"
          ],
          "name": "stdout"
        }
      ]
    },
    {
      "cell_type": "markdown",
      "metadata": {
        "id": "gi_6oY0VCKHP"
      },
      "source": [
        "### Cleaning dataset with clean_code2 this time ( sources >1000 removed )"
      ]
    },
    {
      "cell_type": "code",
      "metadata": {
        "colab": {
          "base_uri": "https://localhost:8080/"
        },
        "id": "Qe5Xf1vTBbO6",
        "outputId": "ce8d2087-8790-4131-c9fa-51e8c0fa0645"
      },
      "source": [
        "%%time\n",
        "\n",
        "dataset_refined = data.copy()\n",
        "print('->created a copy')\n",
        "dataset_refined['Source'] =  dataset_refined['Source'].astype(str)\n",
        "print('\\n->as string')\n",
        "dataset_refined['Source'] =  dataset_refined['Source'].apply(clean_code2)\n",
        "print('\\n->cleaned code with expression1')\n",
        "dataset_refined.to_csv('dataset/cleaned_data_1_v2.csv',index=None)\n",
        "print('\\n->saved cleaned csv , columns : ',dataset_refined.columns)\n",
        "\n",
        "print('done')"
      ],
      "execution_count": 20,
      "outputs": [
        {
          "output_type": "stream",
          "text": [
            "->created a copy\n",
            "\n",
            "->as string\n",
            "\n",
            "->cleaned code with expression1\n",
            "\n",
            "->saved cleaned csv , columns :  Index(['Language', 'Source'], dtype='object')\n",
            "done\n",
            "CPU times: user 22.3 s, sys: 53.3 ms, total: 22.4 s\n",
            "Wall time: 22.4 s\n"
          ],
          "name": "stdout"
        }
      ]
    },
    {
      "cell_type": "code",
      "metadata": {
        "colab": {
          "base_uri": "https://localhost:8080/"
        },
        "id": "D3GfWin1CMWb",
        "outputId": "bcc96d51-46d0-4a1b-c076-56ede6154eda"
      },
      "source": [
        "%%time\n",
        "\n",
        "df = pd.read_csv('/content/dataset/cleaned_data_1_v2.csv')"
      ],
      "execution_count": 21,
      "outputs": [
        {
          "output_type": "stream",
          "text": [
            "CPU times: user 101 ms, sys: 18 ms, total: 119 ms\n",
            "Wall time: 122 ms\n"
          ],
          "name": "stdout"
        }
      ]
    },
    {
      "cell_type": "code",
      "metadata": {
        "colab": {
          "base_uri": "https://localhost:8080/",
          "height": 419
        },
        "id": "phvE21HhCSMj",
        "outputId": "f0fdc116-5498-4e37-de31-d2012d1140a4"
      },
      "source": [
        "df"
      ],
      "execution_count": 22,
      "outputs": [
        {
          "output_type": "execute_result",
          "data": {
            "text/html": [
              "<div>\n",
              "<style scoped>\n",
              "    .dataframe tbody tr th:only-of-type {\n",
              "        vertical-align: middle;\n",
              "    }\n",
              "\n",
              "    .dataframe tbody tr th {\n",
              "        vertical-align: top;\n",
              "    }\n",
              "\n",
              "    .dataframe thead th {\n",
              "        text-align: right;\n",
              "    }\n",
              "</style>\n",
              "<table border=\"1\" class=\"dataframe\">\n",
              "  <thead>\n",
              "    <tr style=\"text-align: right;\">\n",
              "      <th></th>\n",
              "      <th>Language</th>\n",
              "      <th>Source</th>\n",
              "    </tr>\n",
              "  </thead>\n",
              "  <tbody>\n",
              "    <tr>\n",
              "      <th>0</th>\n",
              "      <td>bash</td>\n",
              "      <td>bash alias tail_ls `` ls tail `` tail_ls etc</td>\n",
              "    </tr>\n",
              "    <tr>\n",
              "      <th>1</th>\n",
              "      <td>bash</td>\n",
              "      <td>ERR_COUNT `echo $ VAR_WITH_TEXT grep `` ERROR ...</td>\n",
              "    </tr>\n",
              "    <tr>\n",
              "      <th>2</th>\n",
              "      <td>bash</td>\n",
              "      <td>SET JARS lib apache mime .jar ; ^ lib apache m...</td>\n",
              "    </tr>\n",
              "    <tr>\n",
              "      <th>3</th>\n",
              "      <td>bash</td>\n",
              "      <td>file .tgz . &lt; br &gt; file .tgz . &lt; br &gt; file .tg...</td>\n",
              "    </tr>\n",
              "    <tr>\n",
              "      <th>4</th>\n",
              "      <td>bash</td>\n",
              "      <td>pkill [ ws @ RHDev ~ ] # pkill $ ( ps aux grep...</td>\n",
              "    </tr>\n",
              "    <tr>\n",
              "      <th>...</th>\n",
              "      <td>...</td>\n",
              "      <td>...</td>\n",
              "    </tr>\n",
              "    <tr>\n",
              "      <th>29995</th>\n",
              "      <td>swift</td>\n",
              "      <td>Scale crop image func imageByScalingAndCroppin...</td>\n",
              "    </tr>\n",
              "    <tr>\n",
              "      <th>29996</th>\n",
              "      <td>swift</td>\n",
              "      <td>import UIKit import MapKit class ViewControlle...</td>\n",
              "    </tr>\n",
              "    <tr>\n",
              "      <th>29997</th>\n",
              "      <td>swift</td>\n",
              "      <td>html UIWebView ParseConfig html ParseConfig UR...</td>\n",
              "    </tr>\n",
              "    <tr>\n",
              "      <th>29998</th>\n",
              "      <td>swift</td>\n",
              "      <td>var array [ AnyObject ! ] [ ] var key `` keySa...</td>\n",
              "    </tr>\n",
              "    <tr>\n",
              "      <th>29999</th>\n",
              "      <td>swift</td>\n",
              "      <td>extension Array public func second ( ) T ? ret...</td>\n",
              "    </tr>\n",
              "  </tbody>\n",
              "</table>\n",
              "<p>30000 rows × 2 columns</p>\n",
              "</div>"
            ],
            "text/plain": [
              "      Language                                             Source\n",
              "0         bash       bash alias tail_ls `` ls tail `` tail_ls etc\n",
              "1         bash  ERR_COUNT `echo $ VAR_WITH_TEXT grep `` ERROR ...\n",
              "2         bash  SET JARS lib apache mime .jar ; ^ lib apache m...\n",
              "3         bash  file .tgz . < br > file .tgz . < br > file .tg...\n",
              "4         bash  pkill [ ws @ RHDev ~ ] # pkill $ ( ps aux grep...\n",
              "...        ...                                                ...\n",
              "29995    swift  Scale crop image func imageByScalingAndCroppin...\n",
              "29996    swift  import UIKit import MapKit class ViewControlle...\n",
              "29997    swift  html UIWebView ParseConfig html ParseConfig UR...\n",
              "29998    swift  var array [ AnyObject ! ] [ ] var key `` keySa...\n",
              "29999    swift  extension Array public func second ( ) T ? ret...\n",
              "\n",
              "[30000 rows x 2 columns]"
            ]
          },
          "metadata": {
            "tags": []
          },
          "execution_count": 22
        }
      ]
    },
    {
      "cell_type": "markdown",
      "metadata": {
        "id": "WqDbsCcRNDQJ"
      },
      "source": [
        "## dropping NaN values from dataframe"
      ]
    },
    {
      "cell_type": "code",
      "metadata": {
        "colab": {
          "base_uri": "https://localhost:8080/"
        },
        "id": "EJ6CHM2-NF-3",
        "outputId": "357eb972-e005-4643-e702-01bece2bc098"
      },
      "source": [
        "len(df)"
      ],
      "execution_count": 23,
      "outputs": [
        {
          "output_type": "execute_result",
          "data": {
            "text/plain": [
              "30000"
            ]
          },
          "metadata": {
            "tags": []
          },
          "execution_count": 23
        }
      ]
    },
    {
      "cell_type": "code",
      "metadata": {
        "colab": {
          "base_uri": "https://localhost:8080/"
        },
        "id": "BF6C5CxqNIK7",
        "outputId": "c309e4f3-e93c-447e-e1a8-5a99554dfa03"
      },
      "source": [
        "cleaned_df = df.dropna().copy()\n",
        "len(cleaned_df)"
      ],
      "execution_count": 24,
      "outputs": [
        {
          "output_type": "execute_result",
          "data": {
            "text/plain": [
              "29252"
            ]
          },
          "metadata": {
            "tags": []
          },
          "execution_count": 24
        }
      ]
    },
    {
      "cell_type": "code",
      "metadata": {
        "colab": {
          "base_uri": "https://localhost:8080/",
          "height": 419
        },
        "id": "dgSRB6MMNXvH",
        "outputId": "1c2df1f4-50de-4410-d0d9-441bf3c5aaf0"
      },
      "source": [
        "cleaned_df"
      ],
      "execution_count": 25,
      "outputs": [
        {
          "output_type": "execute_result",
          "data": {
            "text/html": [
              "<div>\n",
              "<style scoped>\n",
              "    .dataframe tbody tr th:only-of-type {\n",
              "        vertical-align: middle;\n",
              "    }\n",
              "\n",
              "    .dataframe tbody tr th {\n",
              "        vertical-align: top;\n",
              "    }\n",
              "\n",
              "    .dataframe thead th {\n",
              "        text-align: right;\n",
              "    }\n",
              "</style>\n",
              "<table border=\"1\" class=\"dataframe\">\n",
              "  <thead>\n",
              "    <tr style=\"text-align: right;\">\n",
              "      <th></th>\n",
              "      <th>Language</th>\n",
              "      <th>Source</th>\n",
              "    </tr>\n",
              "  </thead>\n",
              "  <tbody>\n",
              "    <tr>\n",
              "      <th>0</th>\n",
              "      <td>bash</td>\n",
              "      <td>bash alias tail_ls `` ls tail `` tail_ls etc</td>\n",
              "    </tr>\n",
              "    <tr>\n",
              "      <th>1</th>\n",
              "      <td>bash</td>\n",
              "      <td>ERR_COUNT `echo $ VAR_WITH_TEXT grep `` ERROR ...</td>\n",
              "    </tr>\n",
              "    <tr>\n",
              "      <th>2</th>\n",
              "      <td>bash</td>\n",
              "      <td>SET JARS lib apache mime .jar ; ^ lib apache m...</td>\n",
              "    </tr>\n",
              "    <tr>\n",
              "      <th>3</th>\n",
              "      <td>bash</td>\n",
              "      <td>file .tgz . &lt; br &gt; file .tgz . &lt; br &gt; file .tg...</td>\n",
              "    </tr>\n",
              "    <tr>\n",
              "      <th>4</th>\n",
              "      <td>bash</td>\n",
              "      <td>pkill [ ws @ RHDev ~ ] # pkill $ ( ps aux grep...</td>\n",
              "    </tr>\n",
              "    <tr>\n",
              "      <th>...</th>\n",
              "      <td>...</td>\n",
              "      <td>...</td>\n",
              "    </tr>\n",
              "    <tr>\n",
              "      <th>29995</th>\n",
              "      <td>swift</td>\n",
              "      <td>Scale crop image func imageByScalingAndCroppin...</td>\n",
              "    </tr>\n",
              "    <tr>\n",
              "      <th>29996</th>\n",
              "      <td>swift</td>\n",
              "      <td>import UIKit import MapKit class ViewControlle...</td>\n",
              "    </tr>\n",
              "    <tr>\n",
              "      <th>29997</th>\n",
              "      <td>swift</td>\n",
              "      <td>html UIWebView ParseConfig html ParseConfig UR...</td>\n",
              "    </tr>\n",
              "    <tr>\n",
              "      <th>29998</th>\n",
              "      <td>swift</td>\n",
              "      <td>var array [ AnyObject ! ] [ ] var key `` keySa...</td>\n",
              "    </tr>\n",
              "    <tr>\n",
              "      <th>29999</th>\n",
              "      <td>swift</td>\n",
              "      <td>extension Array public func second ( ) T ? ret...</td>\n",
              "    </tr>\n",
              "  </tbody>\n",
              "</table>\n",
              "<p>29252 rows × 2 columns</p>\n",
              "</div>"
            ],
            "text/plain": [
              "      Language                                             Source\n",
              "0         bash       bash alias tail_ls `` ls tail `` tail_ls etc\n",
              "1         bash  ERR_COUNT `echo $ VAR_WITH_TEXT grep `` ERROR ...\n",
              "2         bash  SET JARS lib apache mime .jar ; ^ lib apache m...\n",
              "3         bash  file .tgz . < br > file .tgz . < br > file .tg...\n",
              "4         bash  pkill [ ws @ RHDev ~ ] # pkill $ ( ps aux grep...\n",
              "...        ...                                                ...\n",
              "29995    swift  Scale crop image func imageByScalingAndCroppin...\n",
              "29996    swift  import UIKit import MapKit class ViewControlle...\n",
              "29997    swift  html UIWebView ParseConfig html ParseConfig UR...\n",
              "29998    swift  var array [ AnyObject ! ] [ ] var key `` keySa...\n",
              "29999    swift  extension Array public func second ( ) T ? ret...\n",
              "\n",
              "[29252 rows x 2 columns]"
            ]
          },
          "metadata": {
            "tags": []
          },
          "execution_count": 25
        }
      ]
    },
    {
      "cell_type": "markdown",
      "metadata": {
        "id": "D1MT2NKxL1bI"
      },
      "source": [
        "### Describing cleaned dataset"
      ]
    },
    {
      "cell_type": "code",
      "metadata": {
        "colab": {
          "base_uri": "https://localhost:8080/"
        },
        "id": "O1LprezxLwb5",
        "outputId": "43cae7b3-28b2-419e-c4e2-a05c7e377de8"
      },
      "source": [
        "%%time\n",
        "detailed_lengths_cleaned = []\n",
        "for i in langs:\n",
        "  print(' - ',i,' -')\n",
        "  detailed_lengths_cleaned.append(return_len(cleaned_df[cleaned_df.Language==i]))\n",
        "print(len(detailed_lengths_cleaned))"
      ],
      "execution_count": 26,
      "outputs": [
        {
          "output_type": "stream",
          "text": [
            " -  bash  -\n",
            "--- min : 4 , max : 3464 , average : 223.99695585996955 ---\n",
            " -  c  -\n",
            "--- min : 3 , max : 2824 , average : 350.7204356846473 ---\n",
            " -  c#  -\n",
            "--- min : 5 , max : 3544 , average : 413.37976614133197 ---\n",
            " -  c++  -\n",
            "--- min : 3 , max : 3288 , average : 365.1804550155119 ---\n",
            " -  haskell  -\n",
            "--- min : 2 , max : 3002 , average : 370.41074168797957 ---\n",
            " -  java  -\n",
            "--- min : 6 , max : 4251 , average : 426.69979296066253 ---\n",
            " -  javascript  -\n",
            "--- min : 7 , max : 2712 , average : 356.8676923076923 ---\n",
            " -  objective-c  -\n",
            "--- min : 9 , max : 3513 , average : 481.68286445012785 ---\n",
            " -  perl  -\n",
            "--- min : 2 , max : 4432 , average : 340.64470954356847 ---\n",
            " -  php  -\n",
            "--- min : 3 , max : 2839 , average : 336.1779045643153 ---\n",
            " -  python  -\n",
            "--- min : 4 , max : 3412 , average : 349.54285714285714 ---\n",
            " -  ruby  -\n",
            "--- min : 3 , max : 3729 , average : 322.2933060807358 ---\n",
            " -  scala  -\n",
            "--- min : 4 , max : 3885 , average : 417.734756097561 ---\n",
            " -  sql  -\n",
            "--- min : 5 , max : 4660 , average : 305.4461459928535 ---\n",
            " -  swift  -\n",
            "--- min : 1 , max : 4362 , average : 560.5005102040816 ---\n",
            "15\n",
            "CPU times: user 67.5 ms, sys: 7.02 ms, total: 74.5 ms\n",
            "Wall time: 71.5 ms\n"
          ],
          "name": "stdout"
        }
      ]
    },
    {
      "cell_type": "code",
      "metadata": {
        "colab": {
          "base_uri": "https://localhost:8080/"
        },
        "id": "NYMQstoQCS8Y",
        "outputId": "c59342f7-48f6-4df0-d977-1c32fd2175d4"
      },
      "source": [
        "%%time\n",
        "\n",
        "cleaned_df[\"lang_id\"] = cleaned_df['Language'].factorize()[0]\n",
        "print('>>> lang id created')\n",
        "lang_id_df = cleaned_df[['Language', 'lang_id']].drop_duplicates().sort_values('lang_id')\n",
        "print('>>> added to dataframe')\n",
        "# lang_to_id = dict(lang_id_df.values)\n",
        "# id_to_lang = dict(lang_id_df[['lang_id', 'Language']].values)\n",
        "print('>>> now columns : ',cleaned_df.columns)"
      ],
      "execution_count": 27,
      "outputs": [
        {
          "output_type": "stream",
          "text": [
            ">>> lang id created\n",
            ">>> added to dataframe\n",
            ">>> now columns :  Index(['Language', 'Source', 'lang_id'], dtype='object')\n",
            "CPU times: user 10.7 ms, sys: 994 µs, total: 11.7 ms\n",
            "Wall time: 11.1 ms\n"
          ],
          "name": "stdout"
        }
      ]
    },
    {
      "cell_type": "code",
      "metadata": {
        "colab": {
          "base_uri": "https://localhost:8080/",
          "height": 388
        },
        "id": "CmYV4TUuMGXP",
        "outputId": "60e6830e-2e33-4970-c5d3-171de97adcd9"
      },
      "source": [
        "fig=plt.figure(1,figsize=(16,5))\n",
        "ax=fig.add_subplot(111)\n",
        "bp=ax.boxplot(detailed_lengths_cleaned)\n",
        "# plt.xticks(ticks=langs)\n",
        "plt.xticks([0.992+i for i in range(15)], langs)\n",
        "plt.xlabel('languages')\n",
        "plt.ylabel('number of characters in source')\n",
        "fig.show()"
      ],
      "execution_count": 28,
      "outputs": [
        {
          "output_type": "stream",
          "text": [
            "/usr/local/lib/python3.6/dist-packages/numpy/core/_asarray.py:83: VisibleDeprecationWarning: Creating an ndarray from ragged nested sequences (which is a list-or-tuple of lists-or-tuples-or ndarrays with different lengths or shapes) is deprecated. If you meant to do this, you must specify 'dtype=object' when creating the ndarray\n",
            "  return array(a, dtype, copy=False, order=order)\n"
          ],
          "name": "stderr"
        },
        {
          "output_type": "display_data",
          "data": {
            "image/png": "[encoded data removed]",
            "text/plain": [
              "<Figure size 1152x360 with 1 Axes>"
            ]
          },
          "metadata": {
            "tags": [],
            "needs_background": "light"
          }
        }
      ]
    },
    {
      "cell_type": "code",
      "metadata": {
        "colab": {
          "base_uri": "https://localhost:8080/",
          "height": 419
        },
        "id": "EB88zSYUCZBY",
        "outputId": "eafbc231-9d0f-4aaf-b54d-4519fdaa1b88"
      },
      "source": [
        "cleaned_df"
      ],
      "execution_count": 29,
      "outputs": [
        {
          "output_type": "execute_result",
          "data": {
            "text/html": [
              "<div>\n",
              "<style scoped>\n",
              "    .dataframe tbody tr th:only-of-type {\n",
              "        vertical-align: middle;\n",
              "    }\n",
              "\n",
              "    .dataframe tbody tr th {\n",
              "        vertical-align: top;\n",
              "    }\n",
              "\n",
              "    .dataframe thead th {\n",
              "        text-align: right;\n",
              "    }\n",
              "</style>\n",
              "<table border=\"1\" class=\"dataframe\">\n",
              "  <thead>\n",
              "    <tr style=\"text-align: right;\">\n",
              "      <th></th>\n",
              "      <th>Language</th>\n",
              "      <th>Source</th>\n",
              "      <th>lang_id</th>\n",
              "    </tr>\n",
              "  </thead>\n",
              "  <tbody>\n",
              "    <tr>\n",
              "      <th>0</th>\n",
              "      <td>bash</td>\n",
              "      <td>bash alias tail_ls `` ls tail `` tail_ls etc</td>\n",
              "      <td>0</td>\n",
              "    </tr>\n",
              "    <tr>\n",
              "      <th>1</th>\n",
              "      <td>bash</td>\n",
              "      <td>ERR_COUNT `echo $ VAR_WITH_TEXT grep `` ERROR ...</td>\n",
              "      <td>0</td>\n",
              "    </tr>\n",
              "    <tr>\n",
              "      <th>2</th>\n",
              "      <td>bash</td>\n",
              "      <td>SET JARS lib apache mime .jar ; ^ lib apache m...</td>\n",
              "      <td>0</td>\n",
              "    </tr>\n",
              "    <tr>\n",
              "      <th>3</th>\n",
              "      <td>bash</td>\n",
              "      <td>file .tgz . &lt; br &gt; file .tgz . &lt; br &gt; file .tg...</td>\n",
              "      <td>0</td>\n",
              "    </tr>\n",
              "    <tr>\n",
              "      <th>4</th>\n",
              "      <td>bash</td>\n",
              "      <td>pkill [ ws @ RHDev ~ ] # pkill $ ( ps aux grep...</td>\n",
              "      <td>0</td>\n",
              "    </tr>\n",
              "    <tr>\n",
              "      <th>...</th>\n",
              "      <td>...</td>\n",
              "      <td>...</td>\n",
              "      <td>...</td>\n",
              "    </tr>\n",
              "    <tr>\n",
              "      <th>29995</th>\n",
              "      <td>swift</td>\n",
              "      <td>Scale crop image func imageByScalingAndCroppin...</td>\n",
              "      <td>14</td>\n",
              "    </tr>\n",
              "    <tr>\n",
              "      <th>29996</th>\n",
              "      <td>swift</td>\n",
              "      <td>import UIKit import MapKit class ViewControlle...</td>\n",
              "      <td>14</td>\n",
              "    </tr>\n",
              "    <tr>\n",
              "      <th>29997</th>\n",
              "      <td>swift</td>\n",
              "      <td>html UIWebView ParseConfig html ParseConfig UR...</td>\n",
              "      <td>14</td>\n",
              "    </tr>\n",
              "    <tr>\n",
              "      <th>29998</th>\n",
              "      <td>swift</td>\n",
              "      <td>var array [ AnyObject ! ] [ ] var key `` keySa...</td>\n",
              "      <td>14</td>\n",
              "    </tr>\n",
              "    <tr>\n",
              "      <th>29999</th>\n",
              "      <td>swift</td>\n",
              "      <td>extension Array public func second ( ) T ? ret...</td>\n",
              "      <td>14</td>\n",
              "    </tr>\n",
              "  </tbody>\n",
              "</table>\n",
              "<p>29252 rows × 3 columns</p>\n",
              "</div>"
            ],
            "text/plain": [
              "      Language                                             Source  lang_id\n",
              "0         bash       bash alias tail_ls `` ls tail `` tail_ls etc        0\n",
              "1         bash  ERR_COUNT `echo $ VAR_WITH_TEXT grep `` ERROR ...        0\n",
              "2         bash  SET JARS lib apache mime .jar ; ^ lib apache m...        0\n",
              "3         bash  file .tgz . < br > file .tgz . < br > file .tg...        0\n",
              "4         bash  pkill [ ws @ RHDev ~ ] # pkill $ ( ps aux grep...        0\n",
              "...        ...                                                ...      ...\n",
              "29995    swift  Scale crop image func imageByScalingAndCroppin...       14\n",
              "29996    swift  import UIKit import MapKit class ViewControlle...       14\n",
              "29997    swift  html UIWebView ParseConfig html ParseConfig UR...       14\n",
              "29998    swift  var array [ AnyObject ! ] [ ] var key `` keySa...       14\n",
              "29999    swift  extension Array public func second ( ) T ? ret...       14\n",
              "\n",
              "[29252 rows x 3 columns]"
            ]
          },
          "metadata": {
            "tags": []
          },
          "execution_count": 29
        }
      ]
    },
    {
      "cell_type": "markdown",
      "metadata": {
        "id": "VJIOdtnKCetz"
      },
      "source": [
        "### Training test split"
      ]
    },
    {
      "cell_type": "code",
      "metadata": {
        "colab": {
          "base_uri": "https://localhost:8080/"
        },
        "id": "-pQoD6QUCalf",
        "outputId": "95a4d120-09cd-4f22-e591-afc4722e3fde"
      },
      "source": [
        "mask = np.random.rand(len(cleaned_df)) > 0.19\n",
        "print('mask created',type(mask))"
      ],
      "execution_count": 30,
      "outputs": [
        {
          "output_type": "stream",
          "text": [
            "mask created <class 'numpy.ndarray'>\n"
          ],
          "name": "stdout"
        }
      ]
    },
    {
      "cell_type": "code",
      "metadata": {
        "colab": {
          "base_uri": "https://localhost:8080/"
        },
        "id": "zYOhqicyChNw",
        "outputId": "a2ebf104-977d-435b-85f2-953827e0b09f"
      },
      "source": [
        "data_1 = cleaned_df[mask]\n",
        "data_2 = cleaned_df[~mask]\n",
        "print('created two halves')\n",
        "print('1st -->',len(data_1) , '\\n 2nd-->', len(data_2))"
      ],
      "execution_count": 31,
      "outputs": [
        {
          "output_type": "stream",
          "text": [
            "created two halves\n",
            "1st --> 23697 \n",
            " 2nd--> 5555\n"
          ],
          "name": "stdout"
        }
      ]
    },
    {
      "cell_type": "code",
      "metadata": {
        "colab": {
          "base_uri": "https://localhost:8080/",
          "height": 369
        },
        "id": "ek9FQV4cCi-D",
        "outputId": "62434814-971c-42a0-b839-93fe762cd430"
      },
      "source": [
        "data_1.groupby('Language')['Source'].count().plot.bar(ylim=0,grid=True,color='#f68222')\n",
        "plt.xlabel('\\n languages')\n",
        "plt.ylabel('no of examples available')\n",
        "plt.title('Dataset_part_1 - FOR TRAINING')"
      ],
      "execution_count": 32,
      "outputs": [
        {
          "output_type": "execute_result",
          "data": {
            "text/plain": [
              "Text(0.5, 1.0, 'Dataset_part_1 - FOR TRAINING')"
            ]
          },
          "metadata": {
            "tags": []
          },
          "execution_count": 32
        },
        {
          "output_type": "display_data",
          "data": {
            "image/png": "[encoded data removed]",
            "text/plain": [
              "<Figure size 432x288 with 1 Axes>"
            ]
          },
          "metadata": {
            "tags": [],
            "needs_background": "light"
          }
        }
      ]
    },
    {
      "cell_type": "code",
      "metadata": {
        "colab": {
          "base_uri": "https://localhost:8080/",
          "height": 369
        },
        "id": "ObBsWnfsCkrx",
        "outputId": "d8df3348-711c-46d8-db50-5d5fb3c1e9e0"
      },
      "source": [
        "data_2.groupby('Language')['Source'].count().plot.bar(ylim=0,grid=True,color='#f0171c')\n",
        "plt.xlabel('\\n languages')\n",
        "plt.ylabel('no of examples available')\n",
        "plt.title('Dataset_part_2 - FOR TESTING')"
      ],
      "execution_count": 33,
      "outputs": [
        {
          "output_type": "execute_result",
          "data": {
            "text/plain": [
              "Text(0.5, 1.0, 'Dataset_part_2 - FOR TESTING')"
            ]
          },
          "metadata": {
            "tags": []
          },
          "execution_count": 33
        },
        {
          "output_type": "display_data",
          "data": {
            "image/png": "[encoded data removed]",
            "text/plain": [
              "<Figure size 432x288 with 1 Axes>"
            ]
          },
          "metadata": {
            "tags": [],
            "needs_background": "light"
          }
        }
      ]
    },
    {
      "cell_type": "code",
      "metadata": {
        "id": "089G_6DwCmzZ"
      },
      "source": [
        "import tensorflow as tf"
      ],
      "execution_count": 34,
      "outputs": []
    },
    {
      "cell_type": "markdown",
      "metadata": {
        "id": "F1YBA2ayar-r"
      },
      "source": [
        "### Tokenizing"
      ]
    },
    {
      "cell_type": "code",
      "metadata": {
        "id": "oiJW0LDwCpIv"
      },
      "source": [
        "from tensorflow.keras.preprocessing.text import Tokenizer\n",
        "from tensorflow.keras.preprocessing.sequence import pad_sequences"
      ],
      "execution_count": 35,
      "outputs": []
    },
    {
      "cell_type": "code",
      "metadata": {
        "id": "CaInhikBCquC"
      },
      "source": [
        "\n",
        "vocab_size = 10000\n",
        "trunc_type='post'\n",
        "oov_tok = \"<OOV>\"\n"
      ],
      "execution_count": 36,
      "outputs": []
    },
    {
      "cell_type": "code",
      "metadata": {
        "id": "wJ23VdBQDgOL",
        "colab": {
          "base_uri": "https://localhost:8080/"
        },
        "outputId": "eff3cd20-727e-4aae-e8c8-a7d93a883cb4"
      },
      "source": [
        "\n",
        "tokenizer = Tokenizer(num_words = vocab_size, oov_token=oov_tok)\n",
        "print('Tokenizer created')\n"
      ],
      "execution_count": 37,
      "outputs": [
        {
          "output_type": "stream",
          "text": [
            "Tokenizer created\n"
          ],
          "name": "stdout"
        }
      ]
    },
    {
      "cell_type": "code",
      "metadata": {
        "id": "11WDZ2tiDo8R",
        "colab": {
          "base_uri": "https://localhost:8080/"
        },
        "outputId": "5e8eaf72-78d3-46ac-8c92-3efd7f982bcb"
      },
      "source": [
        "print('fitting on training sentences\\n.\\n.')\n",
        "\n",
        "tokenizer.fit_on_texts(data_1['Source'].values.astype('U'))\n",
        "\n",
        "print('.\\n.\\n.\\nfitted on training sentences')"
      ],
      "execution_count": 38,
      "outputs": [
        {
          "output_type": "stream",
          "text": [
            "fitting on training sentences\n",
            ".\n",
            ".\n",
            ".\n",
            ".\n",
            ".\n",
            "fitted on training sentences\n"
          ],
          "name": "stdout"
        }
      ]
    },
    {
      "cell_type": "code",
      "metadata": {
        "id": "-8rxt6J6EC8Z",
        "colab": {
          "base_uri": "https://localhost:8080/"
        },
        "outputId": "316d7d1a-52c8-4928-bc83-77d979e43b40"
      },
      "source": [
        "word_index = tokenizer.word_index\n",
        "print('len of word index',len(word_index))"
      ],
      "execution_count": 39,
      "outputs": [
        {
          "output_type": "stream",
          "text": [
            "len of word index 70493\n"
          ],
          "name": "stdout"
        }
      ]
    },
    {
      "cell_type": "code",
      "metadata": {
        "id": "mNm7D3QFEEyM",
        "colab": {
          "base_uri": "https://localhost:8080/"
        },
        "outputId": "03a71f06-57b1-410b-9451-bad3e885156c"
      },
      "source": [
        "%%time\n",
        "\n",
        "import pickle\n",
        "\n",
        "# saving\n",
        "with open('tokenizer_Jan5_v2.pickle', 'wb') as handle:\n",
        "    pickle.dump(tokenizer, handle, protocol=pickle.HIGHEST_PROTOCOL)\n",
        "print('saved')"
      ],
      "execution_count": 40,
      "outputs": [
        {
          "output_type": "stream",
          "text": [
            "saved\n",
            "CPU times: user 56.4 ms, sys: 6.05 ms, total: 62.4 ms\n",
            "Wall time: 63.3 ms\n"
          ],
          "name": "stdout"
        }
      ]
    },
    {
      "cell_type": "markdown",
      "metadata": {
        "id": "lMY-q1ytEJso"
      },
      "source": [
        "## copy to drive"
      ]
    },
    {
      "cell_type": "code",
      "metadata": {
        "id": "_zS5OA3EEJcH",
        "colab": {
          "base_uri": "https://localhost:8080/"
        },
        "outputId": "5ed7835e-4acf-4e57-e090-c520ffc3441f"
      },
      "source": [
        "!cp '/content/tokenizer_Jan5_v2.pickle' '/content/drive/My Drive/datasets/LanguageDataset/final_changes/DL_models'\n",
        "!echo copied"
      ],
      "execution_count": 41,
      "outputs": [
        {
          "output_type": "stream",
          "text": [
            "copied\n"
          ],
          "name": "stdout"
        }
      ]
    },
    {
      "cell_type": "markdown",
      "metadata": {
        "id": "P9u57oEbEVme"
      },
      "source": [
        "#### Convert training sentences to sequences"
      ]
    },
    {
      "cell_type": "code",
      "metadata": {
        "id": "UrjLZFKnEf6N"
      },
      "source": [
        "max_length = 1000\n",
        "trunc_type='post'"
      ],
      "execution_count": 42,
      "outputs": []
    },
    {
      "cell_type": "code",
      "metadata": {
        "colab": {
          "base_uri": "https://localhost:8080/"
        },
        "id": "y1hjxx8O5Z09",
        "outputId": "fb9e09f9-5708-4de7-fb73-df85d12e20f8"
      },
      "source": [
        "X_train = None\n",
        "print(X_train)"
      ],
      "execution_count": 67,
      "outputs": [
        {
          "output_type": "stream",
          "text": [
            "None\n"
          ],
          "name": "stdout"
        }
      ]
    },
    {
      "cell_type": "code",
      "metadata": {
        "id": "By0O9L02EThr",
        "colab": {
          "base_uri": "https://localhost:8080/"
        },
        "outputId": "92d25ff2-d048-48a2-dee2-f776e800efb4"
      },
      "source": [
        "%%time\n",
        "print('converting training data')\n",
        "\n",
        "# X_train = tokenizer.texts_to_matrix(data_1['Source'].values.astype('U'),mode='tfidf')\n",
        "# print('done',type(X_train))\n",
        "\n",
        "X_train = tokenizer.texts_to_sequences(data_1['Source'].values.astype('U'))\n",
        "print(' .... converted text to sequences' , type(X_train),'\\n ')\n",
        "print('-'*70)\n",
        "\n",
        "X_train_padded = pad_sequences(X_train,maxlen=max_length, truncating=trunc_type)\n",
        "print('sequence padded')\n",
        "print(type(X_train_padded),'\\n padded to ',X_train_padded.shape)"
      ],
      "execution_count": 68,
      "outputs": [
        {
          "output_type": "stream",
          "text": [
            "converting training data\n",
            " .... converted text to sequences <class 'list'> \n",
            " \n",
            "----------------------------------------------------------------------\n",
            "sequence padded\n",
            "<class 'numpy.ndarray'> \n",
            " padded to  (23697, 1000)\n",
            "CPU times: user 1.48 s, sys: 75.4 ms, total: 1.55 s\n",
            "Wall time: 1.55 s\n"
          ],
          "name": "stdout"
        }
      ]
    },
    {
      "cell_type": "code",
      "metadata": {
        "id": "Zqij2UNh2mpP"
      },
      "source": [
        ""
      ],
      "execution_count": 68,
      "outputs": []
    },
    {
      "cell_type": "markdown",
      "metadata": {
        "id": "QFCbQ1IbEqb1"
      },
      "source": [
        "### Converting testing sentences to sequenes"
      ]
    },
    {
      "cell_type": "code",
      "metadata": {
        "colab": {
          "base_uri": "https://localhost:8080/"
        },
        "id": "Vsqcq-sI5rrQ",
        "outputId": "2bb244f6-948f-44b0-f15a-30e218e1743b"
      },
      "source": [
        "X_test = None\n",
        "print(X_test)"
      ],
      "execution_count": 69,
      "outputs": [
        {
          "output_type": "stream",
          "text": [
            "None\n"
          ],
          "name": "stdout"
        }
      ]
    },
    {
      "cell_type": "code",
      "metadata": {
        "id": "KqQyi9-K2n79"
      },
      "source": [
        "# %%time\n",
        "# print('converting testing data')\n",
        "# X_test = tokenizer.texts_to_matrix(data_2['Source'].values.astype('U'),mode='tfidf')\n",
        "# print('done',type(X_test),X_test.shape)\n",
        "# X_test_padded = pad_sequences(X_test,maxlen=max_length, truncating=trunc_type)\n",
        "# print('sequence padded')\n",
        "# print(type(X_test_padded),'\\n padded to ',X_test_padded.shape)"
      ],
      "execution_count": 70,
      "outputs": []
    },
    {
      "cell_type": "code",
      "metadata": {
        "id": "e2_SjDv3EuTS",
        "colab": {
          "base_uri": "https://localhost:8080/"
        },
        "outputId": "2735261c-cabc-45b3-d104-298fdc842c54"
      },
      "source": [
        "%%time\n",
        "\n",
        "X_test = tokenizer.texts_to_sequences(data_2['Source'].values.astype('U'))\n",
        "print('..converted text to sequences' , type(X_test),'\\n ')\n",
        "print('-'*70)\n",
        "X_test_padded = pad_sequences(X_test,maxlen=max_length, truncating=trunc_type)\n",
        "print('sequence padded')\n",
        "print(type(X_test_padded),'\\n padded to ',X_test_padded.shape)"
      ],
      "execution_count": 71,
      "outputs": [
        {
          "output_type": "stream",
          "text": [
            "..converted text to sequences <class 'list'> \n",
            " \n",
            "----------------------------------------------------------------------\n",
            "sequence padded\n",
            "<class 'numpy.ndarray'> \n",
            " padded to  (5555, 1000)\n",
            "CPU times: user 312 ms, sys: 5.84 ms, total: 318 ms\n",
            "Wall time: 318 ms\n"
          ],
          "name": "stdout"
        }
      ]
    },
    {
      "cell_type": "markdown",
      "metadata": {
        "id": "dAVqV1cKE0JV"
      },
      "source": [
        "## Preparing labels"
      ]
    },
    {
      "cell_type": "markdown",
      "metadata": {
        "id": "-T--2lxtE2gl"
      },
      "source": [
        "### Training labels"
      ]
    },
    {
      "cell_type": "code",
      "metadata": {
        "id": "f6eeJ5b5Ezro",
        "colab": {
          "base_uri": "https://localhost:8080/"
        },
        "outputId": "d1946979-6f23-439e-e4a9-210afa4fce34"
      },
      "source": [
        "Y_train = pd.get_dummies(data_1['Language'].values.astype('U'))\n",
        "print('and Y : ',type(Y_train))\n",
        "y_train = np.asarray(Y_train)\n",
        "print(X_train.shape , y_train.shape)"
      ],
      "execution_count": 48,
      "outputs": [
        {
          "output_type": "stream",
          "text": [
            "and Y :  <class 'pandas.core.frame.DataFrame'>\n",
            "(23697, 10000) (23697, 15)\n"
          ],
          "name": "stdout"
        }
      ]
    },
    {
      "cell_type": "markdown",
      "metadata": {
        "id": "Gn8W8VdKE9Cu"
      },
      "source": [
        "### Testing labels"
      ]
    },
    {
      "cell_type": "code",
      "metadata": {
        "id": "8feOVGTrE_KB",
        "colab": {
          "base_uri": "https://localhost:8080/"
        },
        "outputId": "93d843c4-4393-4fcb-f255-304e1925b943"
      },
      "source": [
        "Y_test = pd.get_dummies(data_2['Language'].values.astype('U'))\n",
        "print('and Y : ',type(Y_test))\n",
        "y_test = np.asarray(Y_test)\n",
        "print(X_test.shape , y_test.shape)"
      ],
      "execution_count": 49,
      "outputs": [
        {
          "output_type": "stream",
          "text": [
            "and Y :  <class 'pandas.core.frame.DataFrame'>\n",
            "(5555, 10000) (5555, 15)\n"
          ],
          "name": "stdout"
        }
      ]
    },
    {
      "cell_type": "markdown",
      "metadata": {
        "id": "e2V9_AXwExYh"
      },
      "source": [
        "### Creating the model"
      ]
    },
    {
      "cell_type": "code",
      "metadata": {
        "colab": {
          "base_uri": "https://localhost:8080/"
        },
        "id": "12K40Rfsa8fc",
        "outputId": "2bf0ed61-b4c3-4944-a353-c8abdc31db3a"
      },
      "source": [
        "my_model2 = tf.keras.models.Sequential()\n",
        "print('model created now add layers')"
      ],
      "execution_count": 89,
      "outputs": [
        {
          "output_type": "stream",
          "text": [
            "model created now add layers\n"
          ],
          "name": "stdout"
        }
      ]
    },
    {
      "cell_type": "code",
      "metadata": {
        "colab": {
          "base_uri": "https://localhost:8080/"
        },
        "id": "klDefcaRbAOt",
        "outputId": "d98615fe-1361-4998-b030-cb50a4b8a149"
      },
      "source": [
        "# my_model.add(tf.keras.layers.Input(input_shape=2215))\n",
        "my_model2.add(tf.keras.layers.InputLayer(input_shape=max_length,dtype=tf.int32))\n",
        "print('\\n --> added input layer with max sequence max_features = ',max_length)\n",
        "my_model2.summary()\n",
        "# print('added input layer')"
      ],
      "execution_count": 90,
      "outputs": [
        {
          "output_type": "stream",
          "text": [
            "\n",
            " --> added input layer with max sequence max_features =  1000\n",
            "Model: \"sequential_1\"\n",
            "_________________________________________________________________\n",
            "Layer (type)                 Output Shape              Param #   \n",
            "=================================================================\n",
            "Total params: 0\n",
            "Trainable params: 0\n",
            "Non-trainable params: 0\n",
            "_________________________________________________________________\n"
          ],
          "name": "stdout"
        }
      ]
    },
    {
      "cell_type": "code",
      "metadata": {
        "colab": {
          "base_uri": "https://localhost:8080/"
        },
        "id": "cDupiLpBbCG4",
        "outputId": "b56f166c-df3c-4f05-8530-3abfa1b2a412"
      },
      "source": [
        "t = len(tokenizer.word_index)\n",
        "t , t**(0.25)"
      ],
      "execution_count": 91,
      "outputs": [
        {
          "output_type": "execute_result",
          "data": {
            "text/plain": [
              "(70493, 16.29432965350866)"
            ]
          },
          "metadata": {
            "tags": []
          },
          "execution_count": 91
        }
      ]
    },
    {
      "cell_type": "markdown",
      "metadata": {
        "id": "bLU2wm66bGAH"
      },
      "source": [
        "### embedding dim 32 this time"
      ]
    },
    {
      "cell_type": "code",
      "metadata": {
        "id": "Sfs0RLoBbEI_"
      },
      "source": [
        "embed_dim = 32"
      ],
      "execution_count": 92,
      "outputs": []
    },
    {
      "cell_type": "code",
      "metadata": {
        "colab": {
          "base_uri": "https://localhost:8080/"
        },
        "id": "8uwoR62zbImw",
        "outputId": "1e6f4ec4-80fb-4a24-b1f2-bed592300b61"
      },
      "source": [
        "my_model2.add(tf.keras.layers.Embedding(vocab_size, embed_dim,input_length = max_length))\n",
        "\n",
        "# my_model2.add(tf.keras.layers.Embedding(vocab_size, embed_dim,input_length = inputShape))\n",
        "\n",
        "print('\\n-->added embedding layer with vocab size = ',vocab_size,'embed dim = ',embed_dim)\n",
        "\n",
        "my_model2.summary()"
      ],
      "execution_count": 93,
      "outputs": [
        {
          "output_type": "stream",
          "text": [
            "\n",
            "-->added embedding layer with vocab size =  10000 embed dim =  32\n",
            "Model: \"sequential_1\"\n",
            "_________________________________________________________________\n",
            "Layer (type)                 Output Shape              Param #   \n",
            "=================================================================\n",
            "embedding_1 (Embedding)      (None, 1000, 32)          320000    \n",
            "=================================================================\n",
            "Total params: 320,000\n",
            "Trainable params: 320,000\n",
            "Non-trainable params: 0\n",
            "_________________________________________________________________\n"
          ],
          "name": "stdout"
        }
      ]
    },
    {
      "cell_type": "markdown",
      "metadata": {
        "id": "h7SQ-YsE3r11"
      },
      "source": [
        "### 1 convolution layer "
      ]
    },
    {
      "cell_type": "code",
      "metadata": {
        "colab": {
          "base_uri": "https://localhost:8080/"
        },
        "id": "6FnSbmBHbKrS",
        "outputId": "cc99c9bf-bd7c-4855-9f0c-d8e56a481ab8"
      },
      "source": [
        "# model.add(Conv1D(filters=128, kernel_size=3, padding='same', dilation_rate=1,activation='relu'))\n",
        "my_model2.add(tf.keras.layers.Conv1D(128 , 5, padding='valid',kernel_initializer='random_normal'))\n",
        "print('.\\n.\\n.\\n-->added conv1d layer with 128 filters size = 5, valid padding  ,random_normal initializer')\n",
        "my_model2.add(tf.keras.layers.MaxPool1D(pool_size=5))\n",
        "print('added pool layer')\n",
        "my_model2.add(tf.keras.layers.BatchNormalization())\n",
        "print('added batch norm layer')\n",
        "my_model2.add(tf.keras.layers.Activation('relu'))\n",
        "print('added relu activation layer')\n",
        "my_model2.summary()"
      ],
      "execution_count": 94,
      "outputs": [
        {
          "output_type": "stream",
          "text": [
            ".\n",
            ".\n",
            ".\n",
            "-->added conv1d layer with 128 filters size = 5, valid padding  ,random_normal initializer\n",
            "added pool layer\n",
            "added batch norm layer\n",
            "added relu activation layer\n",
            "Model: \"sequential_1\"\n",
            "_________________________________________________________________\n",
            "Layer (type)                 Output Shape              Param #   \n",
            "=================================================================\n",
            "embedding_1 (Embedding)      (None, 1000, 32)          320000    \n",
            "_________________________________________________________________\n",
            "conv1d_1 (Conv1D)            (None, 996, 128)          20608     \n",
            "_________________________________________________________________\n",
            "max_pooling1d_1 (MaxPooling1 (None, 199, 128)          0         \n",
            "_________________________________________________________________\n",
            "batch_normalization_3 (Batch (None, 199, 128)          512       \n",
            "_________________________________________________________________\n",
            "activation_4 (Activation)    (None, 199, 128)          0         \n",
            "=================================================================\n",
            "Total params: 341,120\n",
            "Trainable params: 340,864\n",
            "Non-trainable params: 256\n",
            "_________________________________________________________________\n"
          ],
          "name": "stdout"
        }
      ]
    },
    {
      "cell_type": "code",
      "metadata": {
        "colab": {
          "base_uri": "https://localhost:8080/"
        },
        "id": "RC_yn0atbmMw",
        "outputId": "d1f9a27e-b5cb-4eb3-ec5d-d0a823d8326e"
      },
      "source": [
        "my_model2.add(tf.keras.layers.GlobalAveragePooling1D())\n",
        "print('added global average poolinglayer')\n",
        "my_model2.summary()"
      ],
      "execution_count": 95,
      "outputs": [
        {
          "output_type": "stream",
          "text": [
            "added global average poolinglayer\n",
            "Model: \"sequential_1\"\n",
            "_________________________________________________________________\n",
            "Layer (type)                 Output Shape              Param #   \n",
            "=================================================================\n",
            "embedding_1 (Embedding)      (None, 1000, 32)          320000    \n",
            "_________________________________________________________________\n",
            "conv1d_1 (Conv1D)            (None, 996, 128)          20608     \n",
            "_________________________________________________________________\n",
            "max_pooling1d_1 (MaxPooling1 (None, 199, 128)          0         \n",
            "_________________________________________________________________\n",
            "batch_normalization_3 (Batch (None, 199, 128)          512       \n",
            "_________________________________________________________________\n",
            "activation_4 (Activation)    (None, 199, 128)          0         \n",
            "_________________________________________________________________\n",
            "global_average_pooling1d_1 ( (None, 128)               0         \n",
            "=================================================================\n",
            "Total params: 341,120\n",
            "Trainable params: 340,864\n",
            "Non-trainable params: 256\n",
            "_________________________________________________________________\n"
          ],
          "name": "stdout"
        }
      ]
    },
    {
      "cell_type": "code",
      "metadata": {
        "colab": {
          "base_uri": "https://localhost:8080/"
        },
        "id": "am9V_Py96qKj",
        "outputId": "0e55e711-554e-4847-e542-d4661badb9b9"
      },
      "source": [
        "my_model2.add(tf.keras.layers.Dropout(0.7))\n",
        "print('.\\n.\\n.\\n--> added a 0.7 dropout layer')\n",
        "my_model2.add(tf.keras.layers.Dense(64))\n",
        "print('.\\n.\\n.\\n--> added a dense layer ')\n",
        "my_model2.add(tf.keras.layers.BatchNormalization())\n",
        "print('added batch norm layer')\n",
        "my_model2.add(tf.keras.layers.Activation('tanh'))\n",
        "print('added tanh activation layer')\n",
        "my_model2.add(tf.keras.layers.Flatten())\n",
        "print('.\\n.\\n.\\n--> flatten layer')\n",
        "my_model2.summary()"
      ],
      "execution_count": 96,
      "outputs": [
        {
          "output_type": "stream",
          "text": [
            ".\n",
            ".\n",
            ".\n",
            "--> added a 0.7 dropout layer\n",
            ".\n",
            ".\n",
            ".\n",
            "--> added a dense layer \n",
            "added batch norm layer\n",
            "added tanh activation layer\n",
            ".\n",
            ".\n",
            ".\n",
            "--> flatten layer\n",
            "Model: \"sequential_1\"\n",
            "_________________________________________________________________\n",
            "Layer (type)                 Output Shape              Param #   \n",
            "=================================================================\n",
            "embedding_1 (Embedding)      (None, 1000, 32)          320000    \n",
            "_________________________________________________________________\n",
            "conv1d_1 (Conv1D)            (None, 996, 128)          20608     \n",
            "_________________________________________________________________\n",
            "max_pooling1d_1 (MaxPooling1 (None, 199, 128)          0         \n",
            "_________________________________________________________________\n",
            "batch_normalization_3 (Batch (None, 199, 128)          512       \n",
            "_________________________________________________________________\n",
            "activation_4 (Activation)    (None, 199, 128)          0         \n",
            "_________________________________________________________________\n",
            "global_average_pooling1d_1 ( (None, 128)               0         \n",
            "_________________________________________________________________\n",
            "dropout_1 (Dropout)          (None, 128)               0         \n",
            "_________________________________________________________________\n",
            "dense_2 (Dense)              (None, 64)                8256      \n",
            "_________________________________________________________________\n",
            "batch_normalization_4 (Batch (None, 64)                256       \n",
            "_________________________________________________________________\n",
            "activation_5 (Activation)    (None, 64)                0         \n",
            "_________________________________________________________________\n",
            "flatten_2 (Flatten)          (None, 64)                0         \n",
            "=================================================================\n",
            "Total params: 349,632\n",
            "Trainable params: 349,248\n",
            "Non-trainable params: 384\n",
            "_________________________________________________________________\n"
          ],
          "name": "stdout"
        }
      ]
    },
    {
      "cell_type": "code",
      "metadata": {
        "id": "lfEk2NbTdtWd"
      },
      "source": [
        "# my_model2.add(tf.keras.layers.Dense(32))\n",
        "# print('.\\n.\\n.\\n--> added another dense layer with 32 units')\n",
        "# my_model2.add(tf.keras.layers.BatchNormalization())\n",
        "# print('added batch norm layer')\n",
        "# my_model2.add(tf.keras.layers.Activation('relu'))\n",
        "# print('added relu activation layer')\n",
        "# my_model2.add(tf.keras.layers.Flatten())\n",
        "# print('.\\n.\\n.\\n--> flatten layer')\n",
        "# my_model2.summary()"
      ],
      "execution_count": 59,
      "outputs": []
    },
    {
      "cell_type": "code",
      "metadata": {
        "colab": {
          "base_uri": "https://localhost:8080/"
        },
        "id": "5PyRva-Wb0pa",
        "outputId": "e9176477-3ad3-408d-ee8d-a6578ddf2d43"
      },
      "source": [
        "num_classes = 15\n",
        "\n",
        "\n",
        "my_model2.add(tf.keras.layers.Dense(num_classes))\n",
        "print('--> dense layer of size =  ',num_classes)\n",
        "my_model2.add(tf.keras.layers.BatchNormalization())\n",
        "print('added batch norm layer')\n",
        "my_model2.add(tf.keras.layers.Activation('relu'))\n",
        "print('added relu activation layer')\n",
        "my_model2.add(tf.keras.layers.Flatten())\n",
        "print('.\\n.\\n.\\n--> flatten layer')\n",
        "my_model2.add(tf.keras.layers.Activation('softmax'))\n",
        "print('added final softmax activation layer')\n",
        "print('-'*75,'\\n\\n')\n",
        "my_model2.summary()"
      ],
      "execution_count": 97,
      "outputs": [
        {
          "output_type": "stream",
          "text": [
            "--> dense layer of size =   15\n",
            "added batch norm layer\n",
            "added sigmoid activation layer\n",
            ".\n",
            ".\n",
            ".\n",
            "--> flatten layer\n",
            "added final softmax activation layer\n",
            "--------------------------------------------------------------------------- \n",
            "\n",
            "\n",
            "Model: \"sequential_1\"\n",
            "_________________________________________________________________\n",
            "Layer (type)                 Output Shape              Param #   \n",
            "=================================================================\n",
            "embedding_1 (Embedding)      (None, 1000, 32)          320000    \n",
            "_________________________________________________________________\n",
            "conv1d_1 (Conv1D)            (None, 996, 128)          20608     \n",
            "_________________________________________________________________\n",
            "max_pooling1d_1 (MaxPooling1 (None, 199, 128)          0         \n",
            "_________________________________________________________________\n",
            "batch_normalization_3 (Batch (None, 199, 128)          512       \n",
            "_________________________________________________________________\n",
            "activation_4 (Activation)    (None, 199, 128)          0         \n",
            "_________________________________________________________________\n",
            "global_average_pooling1d_1 ( (None, 128)               0         \n",
            "_________________________________________________________________\n",
            "dropout_1 (Dropout)          (None, 128)               0         \n",
            "_________________________________________________________________\n",
            "dense_2 (Dense)              (None, 64)                8256      \n",
            "_________________________________________________________________\n",
            "batch_normalization_4 (Batch (None, 64)                256       \n",
            "_________________________________________________________________\n",
            "activation_5 (Activation)    (None, 64)                0         \n",
            "_________________________________________________________________\n",
            "flatten_2 (Flatten)          (None, 64)                0         \n",
            "_________________________________________________________________\n",
            "dense_3 (Dense)              (None, 15)                975       \n",
            "_________________________________________________________________\n",
            "batch_normalization_5 (Batch (None, 15)                60        \n",
            "_________________________________________________________________\n",
            "activation_6 (Activation)    (None, 15)                0         \n",
            "_________________________________________________________________\n",
            "flatten_3 (Flatten)          (None, 15)                0         \n",
            "_________________________________________________________________\n",
            "activation_7 (Activation)    (None, 15)                0         \n",
            "=================================================================\n",
            "Total params: 350,667\n",
            "Trainable params: 350,253\n",
            "Non-trainable params: 414\n",
            "_________________________________________________________________\n"
          ],
          "name": "stdout"
        }
      ]
    },
    {
      "cell_type": "markdown",
      "metadata": {
        "id": "GaDgzvQHb9Tp"
      },
      "source": [
        "### Model created"
      ]
    },
    {
      "cell_type": "code",
      "metadata": {
        "colab": {
          "base_uri": "https://localhost:8080/"
        },
        "id": "sYIKaSI9b5kT",
        "outputId": "9db2f4aa-9634-4566-a797-7ce7892bd594"
      },
      "source": [
        "my_model2.compile(optimizer=tf.keras.optimizers.Adam(\n",
        "    learning_rate=0.0001, beta_1=0.9, beta_2=0.999, epsilon=1e-07, amsgrad=False,\n",
        "    name='Adam',), loss='categorical_crossentropy', metrics=['accuracy'])\n",
        "print('--->compiled with learning rate : 0.0001 -')"
      ],
      "execution_count": 98,
      "outputs": [
        {
          "output_type": "stream",
          "text": [
            "--->compiled with learning rate : 0.0001 -\n"
          ],
          "name": "stdout"
        }
      ]
    },
    {
      "cell_type": "markdown",
      "metadata": {
        "id": "IpwtFtbdcAqo"
      },
      "source": [
        "### model compiled"
      ]
    },
    {
      "cell_type": "markdown",
      "metadata": {
        "id": "coPwBJX8cDyR"
      },
      "source": [
        "### Now training the model"
      ]
    },
    {
      "cell_type": "markdown",
      "metadata": {
        "id": "bLG0BWdTcG2b"
      },
      "source": [
        "### using k fold cross validation"
      ]
    },
    {
      "cell_type": "code",
      "metadata": {
        "id": "2Q5mbujpcGaV"
      },
      "source": [
        "from sklearn.model_selection import KFold\n",
        "\n",
        "# n_fold = 2\n",
        "# n_fold = 3 \n",
        "# n_fold = 5\n",
        "n_fold = 10\n",
        "\n",
        "k_fold = KFold(n_fold,shuffle=True,random_state=42)"
      ],
      "execution_count": 99,
      "outputs": []
    },
    {
      "cell_type": "code",
      "metadata": {
        "colab": {
          "base_uri": "https://localhost:8080/"
        },
        "id": "XltxiAnXhCsh",
        "outputId": "c7791b80-b27d-4105-895e-274343e87d52"
      },
      "source": [
        "k_fold"
      ],
      "execution_count": 100,
      "outputs": [
        {
          "output_type": "execute_result",
          "data": {
            "text/plain": [
              "KFold(n_splits=10, random_state=42, shuffle=True)"
            ]
          },
          "metadata": {
            "tags": []
          },
          "execution_count": 100
        }
      ]
    },
    {
      "cell_type": "code",
      "metadata": {
        "colab": {
          "base_uri": "https://localhost:8080/"
        },
        "id": "cUWEDTK-cAMh",
        "outputId": "a3974203-4521-45c3-cbb7-88851751c8c5"
      },
      "source": [
        "%%time\n",
        "\n",
        "scores = []\n",
        "histories = []\n",
        "\n",
        "print('...... fitting the model\\n')\n",
        "\n",
        "for train_iX,test_iX in k_fold.split(X_train_padded):\n",
        "  # selecting rows for trainX and trainY first train data and then cross validation data\n",
        "  x_itrain,y_itrain,x_cv,y_cv = X_train_padded[train_iX] , y_train[train_iX] , X_train_padded[test_iX], y_train[test_iX]\n",
        "    # fit into model with batch sizes of 32 and epochs 10\n",
        "    # # history = my_model.fit(x_train,y_train,batch_size=32,epochs=10,verbose=1,validation_data=(x_cv,y_cv))\n",
        "  history = my_model2.fit(x_itrain,y_itrain,batch_size=64,epochs=10,verbose=1,validation_data=(x_cv,y_cv))\n",
        "  # evaluate model\n",
        "  loss,acc = my_model2.evaluate(X_test_padded , y_test,verbose=2)\n",
        "  print('-'*80)\n",
        "  print('\\n\\t --> accuracy on test data : {:.6f}% and loss : {:.7f} <--\\n'.format(acc * 100.0,loss))\n",
        "  print('-'*80)\n",
        "    # # stores scores  \n",
        "  scores.append(acc)\n",
        "  histories.append(history)\n",
        "\n",
        "print('done')"
      ],
      "execution_count": 101,
      "outputs": [
        {
          "output_type": "stream",
          "text": [
            "...... fitting the model\n",
            "\n",
            "Epoch 1/10\n",
            "334/334 [==============================] - 7s 16ms/step - loss: 2.8812 - accuracy: 0.0670 - val_loss: 2.7057 - val_accuracy: 0.0781\n",
            "Epoch 2/10\n",
            "334/334 [==============================] - 5s 16ms/step - loss: 2.7576 - accuracy: 0.0887 - val_loss: 2.7271 - val_accuracy: 0.0671\n",
            "Epoch 3/10\n",
            "334/334 [==============================] - 5s 16ms/step - loss: 2.6543 - accuracy: 0.1320 - val_loss: 3.0865 - val_accuracy: 0.0629\n",
            "Epoch 4/10\n",
            "334/334 [==============================] - 5s 16ms/step - loss: 2.3308 - accuracy: 0.2807 - val_loss: 2.8059 - val_accuracy: 0.0848\n",
            "Epoch 5/10\n",
            "334/334 [==============================] - 5s 16ms/step - loss: 2.0658 - accuracy: 0.4044 - val_loss: 3.5887 - val_accuracy: 0.0835\n",
            "Epoch 6/10\n",
            "334/334 [==============================] - 5s 16ms/step - loss: 1.9246 - accuracy: 0.4720 - val_loss: 2.4434 - val_accuracy: 0.2738\n",
            "Epoch 7/10\n",
            "334/334 [==============================] - 5s 15ms/step - loss: 1.8223 - accuracy: 0.5067 - val_loss: 2.1717 - val_accuracy: 0.3055\n",
            "Epoch 8/10\n",
            "334/334 [==============================] - 5s 16ms/step - loss: 1.7267 - accuracy: 0.5456 - val_loss: 2.6201 - val_accuracy: 0.2241\n",
            "Epoch 9/10\n",
            "334/334 [==============================] - 6s 17ms/step - loss: 1.6597 - accuracy: 0.5686 - val_loss: 2.4397 - val_accuracy: 0.2380\n",
            "Epoch 10/10\n",
            "334/334 [==============================] - 5s 16ms/step - loss: 1.6042 - accuracy: 0.5882 - val_loss: 2.6067 - val_accuracy: 0.2287\n",
            "174/174 - 1s - loss: 2.6282 - accuracy: 0.2241\n",
            "--------------------------------------------------------------------------------\n",
            "\n",
            "\t --> accuracy on test data : 22.412241% and loss : 2.6282096 <--\n",
            "\n",
            "--------------------------------------------------------------------------------\n",
            "Epoch 1/10\n",
            "334/334 [==============================] - 5s 16ms/step - loss: 1.5472 - accuracy: 0.6030 - val_loss: 2.4857 - val_accuracy: 0.2814\n",
            "Epoch 2/10\n",
            "334/334 [==============================] - 5s 15ms/step - loss: 1.5041 - accuracy: 0.6171 - val_loss: 1.9700 - val_accuracy: 0.3865\n",
            "Epoch 3/10\n",
            "334/334 [==============================] - 5s 15ms/step - loss: 1.4537 - accuracy: 0.6353 - val_loss: 1.9686 - val_accuracy: 0.4232\n",
            "Epoch 4/10\n",
            "334/334 [==============================] - 5s 15ms/step - loss: 1.4138 - accuracy: 0.6415 - val_loss: 2.4534 - val_accuracy: 0.2806\n",
            "Epoch 5/10\n",
            "334/334 [==============================] - 5s 15ms/step - loss: 1.3692 - accuracy: 0.6580 - val_loss: 2.6832 - val_accuracy: 0.2443\n",
            "Epoch 6/10\n",
            "334/334 [==============================] - 5s 15ms/step - loss: 1.3367 - accuracy: 0.6640 - val_loss: 2.0974 - val_accuracy: 0.3751\n",
            "Epoch 7/10\n",
            "334/334 [==============================] - 5s 15ms/step - loss: 1.3050 - accuracy: 0.6720 - val_loss: 1.8607 - val_accuracy: 0.4228\n",
            "Epoch 8/10\n",
            "334/334 [==============================] - 5s 15ms/step - loss: 1.2733 - accuracy: 0.6822 - val_loss: 2.1022 - val_accuracy: 0.3342\n",
            "Epoch 9/10\n",
            "334/334 [==============================] - 5s 16ms/step - loss: 1.2437 - accuracy: 0.6886 - val_loss: 2.0071 - val_accuracy: 0.3692\n",
            "Epoch 10/10\n",
            "334/334 [==============================] - 5s 15ms/step - loss: 1.2093 - accuracy: 0.6979 - val_loss: 2.1962 - val_accuracy: 0.3549\n",
            "174/174 - 1s - loss: 2.2749 - accuracy: 0.3386\n",
            "--------------------------------------------------------------------------------\n",
            "\n",
            "\t --> accuracy on test data : 33.861387% and loss : 2.2749496 <--\n",
            "\n",
            "--------------------------------------------------------------------------------\n",
            "Epoch 1/10\n",
            "334/334 [==============================] - 5s 16ms/step - loss: 1.1958 - accuracy: 0.6973 - val_loss: 1.8574 - val_accuracy: 0.4907\n",
            "Epoch 2/10\n",
            "334/334 [==============================] - 5s 15ms/step - loss: 1.1697 - accuracy: 0.7086 - val_loss: 1.4199 - val_accuracy: 0.5983\n",
            "Epoch 3/10\n",
            "334/334 [==============================] - 5s 16ms/step - loss: 1.1433 - accuracy: 0.7135 - val_loss: 1.5403 - val_accuracy: 0.5502\n",
            "Epoch 4/10\n",
            "334/334 [==============================] - 5s 15ms/step - loss: 1.1193 - accuracy: 0.7207 - val_loss: 1.7960 - val_accuracy: 0.4211\n",
            "Epoch 5/10\n",
            "334/334 [==============================] - 5s 15ms/step - loss: 1.0961 - accuracy: 0.7239 - val_loss: 2.5636 - val_accuracy: 0.2966\n",
            "Epoch 6/10\n",
            "334/334 [==============================] - 5s 15ms/step - loss: 1.0731 - accuracy: 0.7291 - val_loss: 2.0439 - val_accuracy: 0.3983\n",
            "Epoch 7/10\n",
            "334/334 [==============================] - 5s 15ms/step - loss: 1.0477 - accuracy: 0.7341 - val_loss: 1.9505 - val_accuracy: 0.4464\n",
            "Epoch 8/10\n",
            "334/334 [==============================] - 5s 15ms/step - loss: 1.0268 - accuracy: 0.7411 - val_loss: 2.2944 - val_accuracy: 0.3392\n",
            "Epoch 9/10\n",
            "334/334 [==============================] - 5s 15ms/step - loss: 1.0086 - accuracy: 0.7461 - val_loss: 1.9397 - val_accuracy: 0.4173\n",
            "Epoch 10/10\n",
            "334/334 [==============================] - 5s 15ms/step - loss: 0.9920 - accuracy: 0.7488 - val_loss: 1.6344 - val_accuracy: 0.5000\n",
            "174/174 - 1s - loss: 1.7791 - accuracy: 0.4571\n",
            "--------------------------------------------------------------------------------\n",
            "\n",
            "\t --> accuracy on test data : 45.706570% and loss : 1.7790614 <--\n",
            "\n",
            "--------------------------------------------------------------------------------\n",
            "Epoch 1/10\n",
            "334/334 [==============================] - 5s 15ms/step - loss: 0.9897 - accuracy: 0.7470 - val_loss: 1.9178 - val_accuracy: 0.4608\n",
            "Epoch 2/10\n",
            "334/334 [==============================] - 5s 15ms/step - loss: 0.9653 - accuracy: 0.7534 - val_loss: 1.7072 - val_accuracy: 0.5257\n",
            "Epoch 3/10\n",
            "334/334 [==============================] - 5s 15ms/step - loss: 0.9452 - accuracy: 0.7580 - val_loss: 2.2009 - val_accuracy: 0.3565\n",
            "Epoch 4/10\n",
            "334/334 [==============================] - 5s 15ms/step - loss: 0.9215 - accuracy: 0.7655 - val_loss: 3.0958 - val_accuracy: 0.2325\n",
            "Epoch 5/10\n",
            "334/334 [==============================] - 5s 16ms/step - loss: 0.9110 - accuracy: 0.7657 - val_loss: 1.8296 - val_accuracy: 0.4464\n",
            "Epoch 6/10\n",
            "334/334 [==============================] - 5s 16ms/step - loss: 0.8992 - accuracy: 0.7681 - val_loss: 1.5874 - val_accuracy: 0.5283\n",
            "Epoch 7/10\n",
            "334/334 [==============================] - 5s 15ms/step - loss: 0.8806 - accuracy: 0.7744 - val_loss: 1.9879 - val_accuracy: 0.4426\n",
            "Epoch 8/10\n",
            "334/334 [==============================] - 5s 15ms/step - loss: 0.8660 - accuracy: 0.7798 - val_loss: 1.7415 - val_accuracy: 0.5101\n",
            "Epoch 9/10\n",
            "334/334 [==============================] - 5s 15ms/step - loss: 0.8537 - accuracy: 0.7804 - val_loss: 2.2568 - val_accuracy: 0.3717\n",
            "Epoch 10/10\n",
            "334/334 [==============================] - 5s 15ms/step - loss: 0.8428 - accuracy: 0.7837 - val_loss: 1.8028 - val_accuracy: 0.4827\n",
            "174/174 - 1s - loss: 1.9647 - accuracy: 0.4331\n",
            "--------------------------------------------------------------------------------\n",
            "\n",
            "\t --> accuracy on test data : 43.312332% and loss : 1.9646593 <--\n",
            "\n",
            "--------------------------------------------------------------------------------\n",
            "Epoch 1/10\n",
            "334/334 [==============================] - 5s 15ms/step - loss: 0.8410 - accuracy: 0.7824 - val_loss: 1.7944 - val_accuracy: 0.4709\n",
            "Epoch 2/10\n",
            "334/334 [==============================] - 5s 15ms/step - loss: 0.8352 - accuracy: 0.7810 - val_loss: 1.4513 - val_accuracy: 0.5941\n",
            "Epoch 3/10\n",
            "334/334 [==============================] - 5s 15ms/step - loss: 0.8144 - accuracy: 0.7885 - val_loss: 1.9768 - val_accuracy: 0.3692\n",
            "Epoch 4/10\n",
            "334/334 [==============================] - 5s 15ms/step - loss: 0.8044 - accuracy: 0.7917 - val_loss: 1.7492 - val_accuracy: 0.5160\n",
            "Epoch 5/10\n",
            "334/334 [==============================] - 5s 16ms/step - loss: 0.7858 - accuracy: 0.7965 - val_loss: 3.7580 - val_accuracy: 0.1954\n",
            "Epoch 6/10\n",
            "334/334 [==============================] - 5s 15ms/step - loss: 0.7701 - accuracy: 0.8018 - val_loss: 1.3290 - val_accuracy: 0.6122\n",
            "Epoch 7/10\n",
            "334/334 [==============================] - 5s 15ms/step - loss: 0.7804 - accuracy: 0.7950 - val_loss: 2.2973 - val_accuracy: 0.3426\n",
            "Epoch 8/10\n",
            "334/334 [==============================] - 5s 16ms/step - loss: 0.7701 - accuracy: 0.7965 - val_loss: 2.8497 - val_accuracy: 0.2426\n",
            "Epoch 9/10\n",
            "334/334 [==============================] - 5s 16ms/step - loss: 0.7530 - accuracy: 0.8022 - val_loss: 2.3332 - val_accuracy: 0.3304\n",
            "Epoch 10/10\n",
            "334/334 [==============================] - 5s 16ms/step - loss: 0.7395 - accuracy: 0.8046 - val_loss: 1.9336 - val_accuracy: 0.4895\n",
            "174/174 - 1s - loss: 2.1566 - accuracy: 0.4268\n",
            "--------------------------------------------------------------------------------\n",
            "\n",
            "\t --> accuracy on test data : 42.682269% and loss : 2.1565771 <--\n",
            "\n",
            "--------------------------------------------------------------------------------\n",
            "Epoch 1/10\n",
            "334/334 [==============================] - 5s 16ms/step - loss: 0.7453 - accuracy: 0.8005 - val_loss: 2.1777 - val_accuracy: 0.3827\n",
            "Epoch 2/10\n",
            "334/334 [==============================] - 5s 16ms/step - loss: 0.7402 - accuracy: 0.8020 - val_loss: 1.6763 - val_accuracy: 0.5308\n",
            "Epoch 3/10\n",
            "334/334 [==============================] - 5s 16ms/step - loss: 0.7247 - accuracy: 0.8084 - val_loss: 1.7362 - val_accuracy: 0.4743\n",
            "Epoch 4/10\n",
            "334/334 [==============================] - 5s 16ms/step - loss: 0.7159 - accuracy: 0.8082 - val_loss: 3.0506 - val_accuracy: 0.2709\n",
            "Epoch 5/10\n",
            "334/334 [==============================] - 5s 16ms/step - loss: 0.6951 - accuracy: 0.8187 - val_loss: 2.4501 - val_accuracy: 0.2907\n",
            "Epoch 6/10\n",
            "334/334 [==============================] - 5s 16ms/step - loss: 0.6999 - accuracy: 0.8139 - val_loss: 4.0449 - val_accuracy: 0.1662\n",
            "Epoch 7/10\n",
            "334/334 [==============================] - 5s 16ms/step - loss: 0.6900 - accuracy: 0.8161 - val_loss: 1.9825 - val_accuracy: 0.4460\n",
            "Epoch 8/10\n",
            "334/334 [==============================] - 5s 16ms/step - loss: 0.6778 - accuracy: 0.8183 - val_loss: 1.6296 - val_accuracy: 0.5397\n",
            "Epoch 9/10\n",
            "334/334 [==============================] - 5s 16ms/step - loss: 0.6731 - accuracy: 0.8197 - val_loss: 1.5585 - val_accuracy: 0.5684\n",
            "Epoch 10/10\n",
            "334/334 [==============================] - 5s 16ms/step - loss: 0.6653 - accuracy: 0.8224 - val_loss: 1.6220 - val_accuracy: 0.5308\n",
            "174/174 - 1s - loss: 1.8811 - accuracy: 0.4495\n",
            "--------------------------------------------------------------------------------\n",
            "\n",
            "\t --> accuracy on test data : 44.950494% and loss : 1.8811367 <--\n",
            "\n",
            "--------------------------------------------------------------------------------\n",
            "Epoch 1/10\n",
            "334/334 [==============================] - 5s 16ms/step - loss: 0.6773 - accuracy: 0.8184 - val_loss: 2.1887 - val_accuracy: 0.3127\n",
            "Epoch 2/10\n",
            "334/334 [==============================] - 5s 16ms/step - loss: 0.6646 - accuracy: 0.8207 - val_loss: 1.6234 - val_accuracy: 0.5494\n",
            "Epoch 3/10\n",
            "334/334 [==============================] - 5s 16ms/step - loss: 0.6552 - accuracy: 0.8232 - val_loss: 1.7593 - val_accuracy: 0.5089\n",
            "Epoch 4/10\n",
            "334/334 [==============================] - 5s 16ms/step - loss: 0.6410 - accuracy: 0.8274 - val_loss: 2.3665 - val_accuracy: 0.3025\n",
            "Epoch 5/10\n",
            "334/334 [==============================] - 5s 16ms/step - loss: 0.6412 - accuracy: 0.8270 - val_loss: 1.5910 - val_accuracy: 0.5578\n",
            "Epoch 6/10\n",
            "334/334 [==============================] - 5s 16ms/step - loss: 0.6331 - accuracy: 0.8286 - val_loss: 2.3647 - val_accuracy: 0.3578\n",
            "Epoch 7/10\n",
            "334/334 [==============================] - 5s 16ms/step - loss: 0.6243 - accuracy: 0.8294 - val_loss: 1.2775 - val_accuracy: 0.6882\n",
            "Epoch 8/10\n",
            "334/334 [==============================] - 5s 16ms/step - loss: 0.6263 - accuracy: 0.8304 - val_loss: 3.3009 - val_accuracy: 0.1755\n",
            "Epoch 9/10\n",
            "334/334 [==============================] - 6s 17ms/step - loss: 0.6168 - accuracy: 0.8319 - val_loss: 1.7391 - val_accuracy: 0.4688\n",
            "Epoch 10/10\n",
            "334/334 [==============================] - 5s 16ms/step - loss: 0.6159 - accuracy: 0.8308 - val_loss: 2.1370 - val_accuracy: 0.3759\n",
            "174/174 - 1s - loss: 2.3421 - accuracy: 0.3199\n",
            "--------------------------------------------------------------------------------\n",
            "\n",
            "\t --> accuracy on test data : 31.989199% and loss : 2.3420756 <--\n",
            "\n",
            "--------------------------------------------------------------------------------\n",
            "Epoch 1/10\n",
            "334/334 [==============================] - 5s 16ms/step - loss: 0.6213 - accuracy: 0.8300 - val_loss: 1.6371 - val_accuracy: 0.5281\n",
            "Epoch 2/10\n",
            "334/334 [==============================] - 5s 16ms/step - loss: 0.6140 - accuracy: 0.8320 - val_loss: 2.1060 - val_accuracy: 0.3926\n",
            "Epoch 3/10\n",
            "334/334 [==============================] - 5s 16ms/step - loss: 0.6085 - accuracy: 0.8328 - val_loss: 1.6376 - val_accuracy: 0.5386\n",
            "Epoch 4/10\n",
            "334/334 [==============================] - 5s 16ms/step - loss: 0.6060 - accuracy: 0.8343 - val_loss: 1.7726 - val_accuracy: 0.4774\n",
            "Epoch 5/10\n",
            "334/334 [==============================] - 5s 16ms/step - loss: 0.5973 - accuracy: 0.8358 - val_loss: 1.8398 - val_accuracy: 0.4880\n",
            "Epoch 6/10\n",
            "334/334 [==============================] - 5s 16ms/step - loss: 0.5998 - accuracy: 0.8325 - val_loss: 2.7859 - val_accuracy: 0.3014\n",
            "Epoch 7/10\n",
            "334/334 [==============================] - 6s 17ms/step - loss: 0.5812 - accuracy: 0.8368 - val_loss: 2.4595 - val_accuracy: 0.3128\n",
            "Epoch 8/10\n",
            "334/334 [==============================] - 5s 16ms/step - loss: 0.5870 - accuracy: 0.8373 - val_loss: 1.5655 - val_accuracy: 0.5234\n",
            "Epoch 9/10\n",
            "334/334 [==============================] - 5s 16ms/step - loss: 0.5786 - accuracy: 0.8390 - val_loss: 2.0290 - val_accuracy: 0.4500\n",
            "Epoch 10/10\n",
            "334/334 [==============================] - 5s 16ms/step - loss: 0.5729 - accuracy: 0.8430 - val_loss: 1.4434 - val_accuracy: 0.6024\n",
            "174/174 - 1s - loss: 1.8704 - accuracy: 0.5008\n",
            "--------------------------------------------------------------------------------\n",
            "\n",
            "\t --> accuracy on test data : 50.081009% and loss : 1.8703542 <--\n",
            "\n",
            "--------------------------------------------------------------------------------\n",
            "Epoch 1/10\n",
            "334/334 [==============================] - 5s 16ms/step - loss: 0.5833 - accuracy: 0.8386 - val_loss: 1.1669 - val_accuracy: 0.6729\n",
            "Epoch 2/10\n",
            "334/334 [==============================] - 5s 16ms/step - loss: 0.5734 - accuracy: 0.8408 - val_loss: 2.1559 - val_accuracy: 0.4715\n",
            "Epoch 3/10\n",
            "334/334 [==============================] - 5s 16ms/step - loss: 0.5779 - accuracy: 0.8390 - val_loss: 2.0180 - val_accuracy: 0.3951\n",
            "Epoch 4/10\n",
            "334/334 [==============================] - 5s 16ms/step - loss: 0.5546 - accuracy: 0.8460 - val_loss: 2.6847 - val_accuracy: 0.3001\n",
            "Epoch 5/10\n",
            "334/334 [==============================] - 5s 16ms/step - loss: 0.5595 - accuracy: 0.8456 - val_loss: 1.3778 - val_accuracy: 0.5876\n",
            "Epoch 6/10\n",
            "334/334 [==============================] - 5s 16ms/step - loss: 0.5653 - accuracy: 0.8424 - val_loss: 2.0213 - val_accuracy: 0.3981\n",
            "Epoch 7/10\n",
            "334/334 [==============================] - 5s 16ms/step - loss: 0.5525 - accuracy: 0.8481 - val_loss: 2.7767 - val_accuracy: 0.2930\n",
            "Epoch 8/10\n",
            "334/334 [==============================] - 6s 16ms/step - loss: 0.5422 - accuracy: 0.8502 - val_loss: 0.6398 - val_accuracy: 0.8392\n",
            "Epoch 9/10\n",
            "334/334 [==============================] - 5s 16ms/step - loss: 0.5430 - accuracy: 0.8483 - val_loss: 1.8393 - val_accuracy: 0.4626\n",
            "Epoch 10/10\n",
            "334/334 [==============================] - 5s 16ms/step - loss: 0.5380 - accuracy: 0.8487 - val_loss: 1.6139 - val_accuracy: 0.5994\n",
            "174/174 - 1s - loss: 2.3540 - accuracy: 0.4761\n",
            "--------------------------------------------------------------------------------\n",
            "\n",
            "\t --> accuracy on test data : 47.614762% and loss : 2.3540368 <--\n",
            "\n",
            "--------------------------------------------------------------------------------\n",
            "Epoch 1/10\n",
            "334/334 [==============================] - 5s 16ms/step - loss: 0.5452 - accuracy: 0.8473 - val_loss: 0.3958 - val_accuracy: 0.8962\n",
            "Epoch 2/10\n",
            "334/334 [==============================] - 5s 16ms/step - loss: 0.5482 - accuracy: 0.8455 - val_loss: 1.2568 - val_accuracy: 0.6218\n",
            "Epoch 3/10\n",
            "334/334 [==============================] - 5s 16ms/step - loss: 0.5388 - accuracy: 0.8493 - val_loss: 1.3939 - val_accuracy: 0.6049\n",
            "Epoch 4/10\n",
            "334/334 [==============================] - 5s 16ms/step - loss: 0.5360 - accuracy: 0.8502 - val_loss: 1.1215 - val_accuracy: 0.6779\n",
            "Epoch 5/10\n",
            "334/334 [==============================] - 5s 16ms/step - loss: 0.5325 - accuracy: 0.8503 - val_loss: 3.2695 - val_accuracy: 0.2212\n",
            "Epoch 6/10\n",
            "334/334 [==============================] - 5s 16ms/step - loss: 0.5282 - accuracy: 0.8479 - val_loss: 2.6313 - val_accuracy: 0.2980\n",
            "Epoch 7/10\n",
            "334/334 [==============================] - 5s 16ms/step - loss: 0.5237 - accuracy: 0.8533 - val_loss: 2.8155 - val_accuracy: 0.3103\n",
            "Epoch 8/10\n",
            "334/334 [==============================] - 5s 16ms/step - loss: 0.5240 - accuracy: 0.8515 - val_loss: 1.5009 - val_accuracy: 0.6045\n",
            "Epoch 9/10\n",
            "334/334 [==============================] - 5s 16ms/step - loss: 0.5191 - accuracy: 0.8527 - val_loss: 1.8818 - val_accuracy: 0.4664\n",
            "Epoch 10/10\n",
            "334/334 [==============================] - 6s 17ms/step - loss: 0.5134 - accuracy: 0.8553 - val_loss: 1.4615 - val_accuracy: 0.5834\n",
            "174/174 - 1s - loss: 1.9604 - accuracy: 0.4632\n",
            "--------------------------------------------------------------------------------\n",
            "\n",
            "\t --> accuracy on test data : 46.318632% and loss : 1.9603519 <--\n",
            "\n",
            "--------------------------------------------------------------------------------\n",
            "done\n",
            "CPU times: user 7min 58s, sys: 49.4 s, total: 8min 47s\n",
            "Wall time: 8min 55s\n"
          ],
          "name": "stdout"
        }
      ]
    },
    {
      "cell_type": "markdown",
      "metadata": {
        "id": "HPHMiH57SsDm"
      },
      "source": [
        "## HIGH OVERFITTING POOR PERFORMANCE"
      ]
    },
    {
      "cell_type": "markdown",
      "metadata": {
        "id": "KLVD76xQjWhl"
      },
      "source": [
        "### save model for later use"
      ]
    },
    {
      "cell_type": "code",
      "metadata": {
        "colab": {
          "base_uri": "https://localhost:8080/"
        },
        "id": "6fc0eUbPjcuq",
        "outputId": "75c23723-c452-4dd8-8290-3daa775f10b6"
      },
      "source": [
        "print('saving model...')\n",
        "my_model2.save('content/Jan_5_DL_model1')\n",
        "print('saved')"
      ],
      "execution_count": 104,
      "outputs": [
        {
          "output_type": "stream",
          "text": [
            "saving model...\n",
            "INFO:tensorflow:Assets written to: content/Jan_5_DL_model1/assets\n",
            "saved\n"
          ],
          "name": "stdout"
        }
      ]
    },
    {
      "cell_type": "code",
      "metadata": {
        "colab": {
          "base_uri": "https://localhost:8080/",
          "height": 325
        },
        "id": "i7ohojL5cW5T",
        "outputId": "10595713-b145-4027-eddc-397e26510fcd"
      },
      "source": [
        "plt.plot([i for i in range(1,len(scores)+1)] , scores)\n",
        "plt.xlabel('epochs')\n",
        "plt.ylabel('accuracy')\n",
        "plt.suptitle('TESTING ACCURACY')"
      ],
      "execution_count": 108,
      "outputs": [
        {
          "output_type": "execute_result",
          "data": {
            "text/plain": [
              "Text(0.5, 0.98, 'TESTING ACCURACY')"
            ]
          },
          "metadata": {
            "tags": []
          },
          "execution_count": 108
        },
        {
          "output_type": "display_data",
          "data": {
            "image/png": "[encoded data removed]",
            "text/plain": [
              "<Figure size 432x288 with 1 Axes>"
            ]
          },
          "metadata": {
            "tags": [],
            "needs_background": "light"
          }
        }
      ]
    },
    {
      "cell_type": "code",
      "metadata": {
        "colab": {
          "base_uri": "https://localhost:8080/"
        },
        "id": "qnCiaMHwjm6N",
        "outputId": "9cbf3fb9-cfbc-4e81-97ec-a8fba643b24b"
      },
      "source": [
        "!zip -r /content/Jan_5_DL_model1.zip /content/content/Jan_5_DL_model1"
      ],
      "execution_count": 109,
      "outputs": [
        {
          "output_type": "stream",
          "text": [
            "  adding: content/content/Jan_5_DL_model1/ (stored 0%)\n",
            "  adding: content/content/Jan_5_DL_model1/saved_model.pb (deflated 89%)\n",
            "  adding: content/content/Jan_5_DL_model1/assets/ (stored 0%)\n",
            "  adding: content/content/Jan_5_DL_model1/variables/ (stored 0%)\n",
            "  adding: content/content/Jan_5_DL_model1/variables/variables.index (deflated 68%)\n",
            "  adding: content/content/Jan_5_DL_model1/variables/variables.data-00000-of-00001 (deflated 7%)\n"
          ],
          "name": "stdout"
        }
      ]
    },
    {
      "cell_type": "code",
      "metadata": {
        "colab": {
          "base_uri": "https://localhost:8080/"
        },
        "id": "xVz6D752jrPM",
        "outputId": "bc0bdfc6-b337-460b-d447-8fca48426f91"
      },
      "source": [
        "!cp '/content/Jan_5_DL_model1.zip' '/content/drive/My Drive/datasets/LanguageDataset/final_changes/DL_models'\n",
        "!echo done"
      ],
      "execution_count": 110,
      "outputs": [
        {
          "output_type": "stream",
          "text": [
            "done\n"
          ],
          "name": "stdout"
        }
      ]
    },
    {
      "cell_type": "code",
      "metadata": {
        "id": "Qr7K0U4HFDgj"
      },
      "source": [
        "hist1 = histories[0]"
      ],
      "execution_count": 112,
      "outputs": []
    },
    {
      "cell_type": "code",
      "metadata": {
        "colab": {
          "base_uri": "https://localhost:8080/"
        },
        "id": "AXyEgvEkFJ2D",
        "outputId": "86305ef6-3edd-4b5e-e0d7-567159188092"
      },
      "source": [
        "acc = []\n",
        "for i in range(10):\n",
        "  acc.extend(histories[i].history['accuracy'])\n",
        "print(len(acc))"
      ],
      "execution_count": 121,
      "outputs": [
        {
          "output_type": "stream",
          "text": [
            "100\n"
          ],
          "name": "stdout"
        }
      ]
    },
    {
      "cell_type": "code",
      "metadata": {
        "colab": {
          "base_uri": "https://localhost:8080/",
          "height": 325
        },
        "id": "aw_UvjJcF6Ps",
        "outputId": "3d0f2c54-4bc5-4107-9fac-7cbde23029a5"
      },
      "source": [
        "plt.plot([i for i in range(0,len(acc))] ,acc,label='Accuracy')\n",
        "plt.xlabel('epochs')\n",
        "plt.ylabel('accuracy')\n",
        "plt.suptitle('TRAINING ACCURACY')"
      ],
      "execution_count": 124,
      "outputs": [
        {
          "output_type": "execute_result",
          "data": {
            "text/plain": [
              "Text(0.5, 0.98, 'TRAINING ACCURACY')"
            ]
          },
          "metadata": {
            "tags": []
          },
          "execution_count": 124
        },
        {
          "output_type": "display_data",
          "data": {
            "image/png": "[encoded data removed]",
            "text/plain": [
              "<Figure size 432x288 with 1 Axes>"
            ]
          },
          "metadata": {
            "tags": [],
            "needs_background": "light"
          }
        }
      ]
    },
    {
      "cell_type": "markdown",
      "metadata": {
        "id": "Z1cz2wMsj8VE"
      },
      "source": [
        "### Confusion Matrix"
      ]
    },
    {
      "cell_type": "code",
      "metadata": {
        "id": "AtO4d1JFjz7L"
      },
      "source": [
        "from sklearn.metrics import plot_confusion_matrix\n",
        "from sklearn.metrics import confusion_matrix"
      ],
      "execution_count": 125,
      "outputs": []
    },
    {
      "cell_type": "markdown",
      "metadata": {
        "id": "tfymLW84kDAp"
      },
      "source": [
        "## Testing Data"
      ]
    },
    {
      "cell_type": "code",
      "metadata": {
        "colab": {
          "base_uri": "https://localhost:8080/"
        },
        "id": "aiibt4F5kBPu",
        "outputId": "f2815a3b-35b3-4a0a-cd56-3387ca030226"
      },
      "source": [
        "%%time\n",
        "predictions_1 = my_model2.predict(X_test_padded)\n",
        "print('done predicting on test data')\n",
        "print(type(predictions_1))\n"
      ],
      "execution_count": 126,
      "outputs": [
        {
          "output_type": "stream",
          "text": [
            "done predicting on test data\n",
            "<class 'numpy.ndarray'>\n",
            "CPU times: user 518 ms, sys: 36.9 ms, total: 555 ms\n",
            "Wall time: 494 ms\n"
          ],
          "name": "stdout"
        }
      ]
    },
    {
      "cell_type": "code",
      "metadata": {
        "colab": {
          "base_uri": "https://localhost:8080/"
        },
        "id": "TozcGvbTkN_J",
        "outputId": "3ebd2b06-8c99-45a6-b6a5-ce5820bd31d6"
      },
      "source": [
        "predictions_1.shape , y_test.shape"
      ],
      "execution_count": 127,
      "outputs": [
        {
          "output_type": "execute_result",
          "data": {
            "text/plain": [
              "((5555, 15), (5555, 15))"
            ]
          },
          "metadata": {
            "tags": []
          },
          "execution_count": 127
        }
      ]
    },
    {
      "cell_type": "code",
      "metadata": {
        "colab": {
          "base_uri": "https://localhost:8080/"
        },
        "id": "CzQQkxYnk0lj",
        "outputId": "77afbfc6-815a-427a-bcd2-453f7ebb532a"
      },
      "source": [
        "first_preds = np.argmax(predictions_1,axis=1)\n",
        "first_preds.shape"
      ],
      "execution_count": 128,
      "outputs": [
        {
          "output_type": "execute_result",
          "data": {
            "text/plain": [
              "(5555,)"
            ]
          },
          "metadata": {
            "tags": []
          },
          "execution_count": 128
        }
      ]
    },
    {
      "cell_type": "code",
      "metadata": {
        "colab": {
          "base_uri": "https://localhost:8080/"
        },
        "id": "OS8qYANEkvZL",
        "outputId": "4d5ed40f-9c67-46c5-f857-aa20f1ccf106"
      },
      "source": [
        "actual_pred = np.argmax(y_test,axis=1)\n",
        "actual_pred.shape # use these argmax values for confusion matrix"
      ],
      "execution_count": 129,
      "outputs": [
        {
          "output_type": "execute_result",
          "data": {
            "text/plain": [
              "(5555,)"
            ]
          },
          "metadata": {
            "tags": []
          },
          "execution_count": 129
        }
      ]
    },
    {
      "cell_type": "code",
      "metadata": {
        "colab": {
          "base_uri": "https://localhost:8080/"
        },
        "id": "jFSeISIykcK6",
        "outputId": "0d60164f-7d89-4380-8957-fdf36e355324"
      },
      "source": [
        "print('\\n','-'*50,'\\n')\n",
        "cnf_matrix1 = confusion_matrix(actual_pred, first_preds)\n",
        "print(cnf_matrix1)"
      ],
      "execution_count": 130,
      "outputs": [
        {
          "output_type": "stream",
          "text": [
            "\n",
            " -------------------------------------------------- \n",
            "\n",
            "[[264   2   1   2   0   0   1   0   1   0   2 101   3   0   0]\n",
            " [ 10 138   8  18   0   0   1   2   0   3   0 180   5   0   1]\n",
            " [  1   1 216   1   0   0   1   0   0   0   1 136   4   3   0]\n",
            " [  1  11  24 167   0   0   0   0   1   0   0 138   8   0   0]\n",
            " [  5   0   4   0 180   0   1   1   0   1   0 145  19   0   2]\n",
            " [  5   1  77   1   1  42   2   1   0   0   0 158  66   0   1]\n",
            " [  5   0   5   0   0   0 159   0   1   3   0 203   6   0   0]\n",
            " [  1   2   5   0   0   0   1 201   0   0   0 149   0   0   3]\n",
            " [ 32   3   3   2   1   0   1   1 135   0   3 202   3   2   0]\n",
            " [ 12   0   3   1   0   0   5   0   0  61   1 315   4   2   0]\n",
            " [  4   2   3   0   0   1   2   0   0   0 116 235   5   0   0]\n",
            " [  2   0   4   0   0   0   1   0   1   0   0 391   2   0   0]\n",
            " [  0   0   4   2   1   0   1   0   0   1   1  64 271   0   0]\n",
            " [  4   0  29   0   0   0   0   1   0   1   1 286   5  39   0]\n",
            " [  2   0   3   0   0   0   1   5   0   1   1 153  10   0 193]]\n"
          ],
          "name": "stdout"
        }
      ]
    },
    {
      "cell_type": "code",
      "metadata": {
        "id": "v1Pa6zh8kjWz"
      },
      "source": [
        "# class_names = df['Language'].unique()\n",
        "# class_names"
      ],
      "execution_count": 131,
      "outputs": []
    },
    {
      "cell_type": "code",
      "metadata": {
        "id": "KcjzBs3KlhIJ"
      },
      "source": [
        "import seaborn as sns"
      ],
      "execution_count": 132,
      "outputs": []
    },
    {
      "cell_type": "markdown",
      "metadata": {
        "id": "6uFMRp6uloY1"
      },
      "source": [
        "### Better confusion martrix display\n",
        "##### source : https://github.com/DTrimarchi10/confusion_matrix/blob/master/cf_matrix.py"
      ]
    },
    {
      "cell_type": "code",
      "metadata": {
        "id": "U66P6TxTlkAK"
      },
      "source": [
        "def make_confusion_matrix(cf,\n",
        "                          group_names=None,\n",
        "                          categories='auto',\n",
        "                          count=True,\n",
        "                          percent=True,\n",
        "                          cbar=True,\n",
        "                          xyticks=True,\n",
        "                          xyplotlabels=True,\n",
        "                          sum_stats=True,\n",
        "                          figsize=None,\n",
        "                          cmap='Blues',\n",
        "                          title=None):\n",
        "    '''\n",
        "    This function will make a pretty plot of an sklearn Confusion Matrix cm using a Seaborn heatmap visualization.\n",
        "    Arguments\n",
        "    ---------\n",
        "    cf:            confusion matrix to be passed in\n",
        "    group_names:   List of strings that represent the labels row by row to be shown in each square.\n",
        "    categories:    List of strings containing the categories to be displayed on the x,y axis. Default is 'auto'\n",
        "    count:         If True, show the raw number in the confusion matrix. Default is True.\n",
        "    normalize:     If True, show the proportions for each category. Default is True.\n",
        "    cbar:          If True, show the color bar. The cbar values are based off the values in the confusion matrix.\n",
        "                   Default is True.\n",
        "    xyticks:       If True, show x and y ticks. Default is True.\n",
        "    xyplotlabels:  If True, show 'True Label' and 'Predicted Label' on the figure. Default is True.\n",
        "    sum_stats:     If True, display summary statistics below the figure. Default is True.\n",
        "    figsize:       Tuple representing the figure size. Default will be the matplotlib rcParams value.\n",
        "    cmap:          Colormap of the values displayed from matplotlib.pyplot.cm. Default is 'Blues'\n",
        "                   See http://matplotlib.org/examples/color/colormaps_reference.html\n",
        "                   \n",
        "    title:         Title for the heatmap. Default is None.\n",
        "    '''\n",
        "\n",
        "\n",
        "    # CODE TO GENERATE TEXT INSIDE EACH SQUARE\n",
        "    blanks = ['' for i in range(cf.size)]\n",
        "\n",
        "    if group_names and len(group_names)==cf.size:\n",
        "        group_labels = [\"{}\\n\".format(value) for value in group_names]\n",
        "    else:\n",
        "        group_labels = blanks\n",
        "\n",
        "    if count:\n",
        "        group_counts = [\"{0:0.0f}\\n\".format(value) for value in cf.flatten()]\n",
        "    else:\n",
        "        group_counts = blanks\n",
        "\n",
        "    if percent:\n",
        "        group_percentages = [\"{0:.2%}\".format(value) for value in cf.flatten()/np.sum(cf)]\n",
        "    else:\n",
        "        group_percentages = blanks\n",
        "\n",
        "    box_labels = [f\"{v1}{v2}{v3}\".strip() for v1, v2, v3 in zip(group_labels,group_counts,group_percentages)]\n",
        "    box_labels = np.asarray(box_labels).reshape(cf.shape[0],cf.shape[1])\n",
        "\n",
        "\n",
        "    # CODE TO GENERATE SUMMARY STATISTICS & TEXT FOR SUMMARY STATS\n",
        "    if sum_stats:\n",
        "        #Accuracy is sum of diagonal divided by total observations\n",
        "        accuracy  = np.trace(cf) / float(np.sum(cf))\n",
        "\n",
        "        #if it is a binary confusion matrix, show some more stats\n",
        "        if len(cf)==2:\n",
        "            #Metrics for Binary Confusion Matrices\n",
        "            precision = cf[1,1] / sum(cf[:,1])\n",
        "            recall    = cf[1,1] / sum(cf[1,:])\n",
        "            f1_score  = 2*precision*recall / (precision + recall)\n",
        "            stats_text = \"\\n\\nAccuracy={:0.3f}\\nPrecision={:0.3f}\\nRecall={:0.3f}\\nF1 Score={:0.3f}\".format(\n",
        "                accuracy,precision,recall,f1_score)\n",
        "        else:\n",
        "            stats_text = \"\\n\\nAccuracy={:0.3f}\".format(accuracy)\n",
        "    else:\n",
        "        stats_text = \"\"\n",
        "\n",
        "\n",
        "    # SET FIGURE PARAMETERS ACCORDING TO OTHER ARGUMENTS\n",
        "    if figsize==None:\n",
        "        #Get default figure size if not set\n",
        "        figsize = plt.rcParams.get('figure.figsize')\n",
        "\n",
        "    if xyticks==False:\n",
        "        #Do not show categories if xyticks is False\n",
        "        categories=False\n",
        "\n",
        "\n",
        "    # MAKE THE HEATMAP VISUALIZATION\n",
        "    plt.figure(figsize=figsize)\n",
        "    sns.heatmap(cf,annot=box_labels,fmt=\"\",cmap=cmap,cbar=cbar,xticklabels=categories,yticklabels=categories)\n",
        "\n",
        "    if xyplotlabels:\n",
        "        plt.ylabel('True label')\n",
        "        plt.xlabel('Predicted label' + stats_text)\n",
        "    else:\n",
        "        plt.xlabel(stats_text)\n",
        "    \n",
        "    if title:\n",
        "        plt.title(title)"
      ],
      "execution_count": 133,
      "outputs": []
    },
    {
      "cell_type": "code",
      "metadata": {
        "colab": {
          "base_uri": "https://localhost:8080/",
          "height": 782
        },
        "id": "TOwEnv1JlwYH",
        "outputId": "25bf5e49-e2f2-4b71-fdd7-17b9d7202fdc"
      },
      "source": [
        "# make_confusion_matrix(cnf_matrix, figsize=(12,12), cbar=False )\n",
        "make_confusion_matrix(cnf_matrix1, figsize=(12,12), cbar=False ,categories=langs)\n"
      ],
      "execution_count": 134,
      "outputs": [
        {
          "output_type": "display_data",
          "data": {
            "image/png": "[encoded data removed]",
            "text/plain": [
              "<Figure size 864x864 with 1 Axes>"
            ]
          },
          "metadata": {
            "tags": [],
            "needs_background": "light"
          }
        }
      ]
    },
    {
      "cell_type": "markdown",
      "metadata": {
        "id": "YrWbQd5QHUH2"
      },
      "source": [
        "### Precision Recall and F1 Score"
      ]
    },
    {
      "cell_type": "code",
      "metadata": {
        "id": "2jQiFek7HXpi"
      },
      "source": [
        "from sklearn.metrics import precision_recall_fscore_support as score\n"
      ],
      "execution_count": 135,
      "outputs": []
    },
    {
      "cell_type": "code",
      "metadata": {
        "id": "YpJeo3l1HXWi"
      },
      "source": [
        "def print_metrics(predictions):\n",
        "  precision , recall , fscore , support = score( actual_pred, predictions)\n",
        "  print('-'*80)\n",
        "  print('{:10}\\t | {:7}\\t |  {:12}|\\t{}'.format('   Language','  Precision',' Recall',' F1 Measure'))\n",
        "  print('-'*80)\n",
        "  for i in range(len(langs)):\n",
        "    \n",
        "    result = '{:10}\\t |{:13.5}\\t |{:10.5}\\t|\\t{:10.5}'.format(str('   '+langs[i]),precision[i],recall[i],fscore[i])\n",
        "    print(result,end='\\n')\n",
        "    print('-'*80)\n"
      ],
      "execution_count": 148,
      "outputs": []
    },
    {
      "cell_type": "code",
      "metadata": {
        "colab": {
          "base_uri": "https://localhost:8080/"
        },
        "id": "sFtZ1a9bHWzI",
        "outputId": "a8873951-3a72-4ae7-94da-83bad9b01581"
      },
      "source": [
        "print_metrics(first_preds)"
      ],
      "execution_count": 149,
      "outputs": [
        {
          "output_type": "stream",
          "text": [
            "--------------------------------------------------------------------------------\n",
            "   Language\t |   Precision\t |   Recall     |\t F1 Measure\n",
            "--------------------------------------------------------------------------------\n",
            "   bash   \t |      0.75862\t |   0.70027\t|\t   0.72828\n",
            "--------------------------------------------------------------------------------\n",
            "   c      \t |       0.8625\t |   0.37705\t|\t   0.52471\n",
            "--------------------------------------------------------------------------------\n",
            "   c#     \t |      0.55527\t |   0.59341\t|\t   0.57371\n",
            "--------------------------------------------------------------------------------\n",
            "   c++    \t |      0.86082\t |   0.47714\t|\t   0.61397\n",
            "--------------------------------------------------------------------------------\n",
            "   haskell\t |      0.98361\t |   0.50279\t|\t   0.66543\n",
            "--------------------------------------------------------------------------------\n",
            "   java   \t |      0.97674\t |   0.11831\t|\t   0.21106\n",
            "--------------------------------------------------------------------------------\n",
            "   javascript\t |      0.89831\t |   0.41623\t|\t   0.56887\n",
            "--------------------------------------------------------------------------------\n",
            "   objective-c\t |      0.94811\t |   0.55525\t|\t   0.70035\n",
            "--------------------------------------------------------------------------------\n",
            "   perl   \t |      0.97122\t |   0.34794\t|\t   0.51233\n",
            "--------------------------------------------------------------------------------\n",
            "   php    \t |      0.85915\t |   0.15099\t|\t   0.25684\n",
            "--------------------------------------------------------------------------------\n",
            "   python \t |      0.92063\t |   0.31522\t|\t   0.46964\n",
            "--------------------------------------------------------------------------------\n",
            "   ruby   \t |       0.1369\t |   0.97506\t|\t    0.2401\n",
            "--------------------------------------------------------------------------------\n",
            "   scala  \t |      0.65937\t |   0.78551\t|\t   0.71693\n",
            "--------------------------------------------------------------------------------\n",
            "   sql    \t |      0.84783\t |   0.10656\t|\t   0.18932\n",
            "--------------------------------------------------------------------------------\n",
            "   swift  \t |        0.965\t |   0.52304\t|\t   0.67838\n",
            "--------------------------------------------------------------------------------\n"
          ],
          "name": "stdout"
        }
      ]
    },
    {
      "cell_type": "markdown",
      "metadata": {
        "id": "Zr-OSaYgiifs"
      },
      "source": [
        "### creating another for just testing something"
      ]
    },
    {
      "cell_type": "code",
      "metadata": {
        "colab": {
          "base_uri": "https://localhost:8080/"
        },
        "id": "zWQyIpQ5l3-K",
        "outputId": "05fb02e1-5faf-4919-b62a-a241ab5f15bd"
      },
      "source": [
        "my_model5 = tf.keras.models.Sequential()\n",
        "print('model created now add layers')"
      ],
      "execution_count": null,
      "outputs": [
        {
          "output_type": "stream",
          "text": [
            "model created now add layers\n"
          ],
          "name": "stdout"
        }
      ]
    },
    {
      "cell_type": "code",
      "metadata": {
        "colab": {
          "base_uri": "https://localhost:8080/"
        },
        "id": "hdCq0kviimMC",
        "outputId": "4be385af-9d01-47e9-a6c2-1830cb9e1cbc"
      },
      "source": [
        "# my_model.add(tf.keras.layers.Input(input_shape=2215))\n",
        "my_model5.add(tf.keras.layers.InputLayer(input_shape=max_length,dtype=tf.int32))\n",
        "print('----> added input layer with max sequence max_features = ',max_length)\n",
        "my_model5.summary()\n",
        "# print('added input layer')"
      ],
      "execution_count": null,
      "outputs": [
        {
          "output_type": "stream",
          "text": [
            "----> added input layer with max sequence max_features =  1000\n",
            "Model: \"sequential_3\"\n",
            "_________________________________________________________________\n",
            "Layer (type)                 Output Shape              Param #   \n",
            "=================================================================\n",
            "Total params: 0\n",
            "Trainable params: 0\n",
            "Non-trainable params: 0\n",
            "_________________________________________________________________\n"
          ],
          "name": "stdout"
        }
      ]
    },
    {
      "cell_type": "code",
      "metadata": {
        "colab": {
          "base_uri": "https://localhost:8080/"
        },
        "id": "HU_xk49ditke",
        "outputId": "b5aab588-0a60-486d-cb6c-2861cdf0a10e"
      },
      "source": [
        "my_model5.add(tf.keras.layers.Embedding(vocab_size, embed_dim,input_length = max_length))\n",
        "print('\\n-->added embedding layer with vocab size = ',vocab_size,'embed dim = ',embed_dim)\n",
        "my_model5.summary()"
      ],
      "execution_count": null,
      "outputs": [
        {
          "output_type": "stream",
          "text": [
            "\n",
            "-->added embedding layer with vocab size =  10000 embed dim =  64\n",
            "Model: \"sequential_3\"\n",
            "_________________________________________________________________\n",
            "Layer (type)                 Output Shape              Param #   \n",
            "=================================================================\n",
            "embedding_2 (Embedding)      (None, 1000, 64)          640000    \n",
            "=================================================================\n",
            "Total params: 640,000\n",
            "Trainable params: 640,000\n",
            "Non-trainable params: 0\n",
            "_________________________________________________________________\n"
          ],
          "name": "stdout"
        }
      ]
    },
    {
      "cell_type": "code",
      "metadata": {
        "colab": {
          "base_uri": "https://localhost:8080/"
        },
        "id": "c0lT-3T9ixiI",
        "outputId": "0e2f50fc-081d-42b0-8125-01d75cfe4d8b"
      },
      "source": [
        "# model.add(Conv1D(filters=128, kernel_size=3, padding='same', dilation_rate=1,activation='relu'))\n",
        "my_model5.add(tf.keras.layers.Conv1D(128 , 5, padding='same',kernel_initializer='random_normal'))\n",
        "print('.\\n.\\n.\\nadded conv1d layer with valid padding random_normal initializer - 128 filters')\n",
        "my_model5.add(tf.keras.layers.MaxPool1D(pool_size=5))\n",
        "print('added pool layer')\n",
        "my_model5.add(tf.keras.layers.BatchNormalization())\n",
        "print('added batch norm layer')\n",
        "my_model5.add(tf.keras.layers.Activation('relu'))\n",
        "print('added relu activation layer')\n",
        "my_model5.summary()\n"
      ],
      "execution_count": null,
      "outputs": [
        {
          "output_type": "stream",
          "text": [
            ".\n",
            ".\n",
            ".\n",
            "added conv1d layer with valid padding random_normal initializer - 128 filters\n",
            "added pool layer\n",
            "added batch norm layer\n",
            "added relu activation layer\n",
            "Model: \"sequential_3\"\n",
            "_________________________________________________________________\n",
            "Layer (type)                 Output Shape              Param #   \n",
            "=================================================================\n",
            "embedding_2 (Embedding)      (None, 1000, 64)          640000    \n",
            "_________________________________________________________________\n",
            "conv1d_2 (Conv1D)            (None, 1000, 128)         41088     \n",
            "_________________________________________________________________\n",
            "max_pooling1d_2 (MaxPooling1 (None, 200, 128)          0         \n",
            "_________________________________________________________________\n",
            "batch_normalization_6 (Batch (None, 200, 128)          512       \n",
            "_________________________________________________________________\n",
            "activation_8 (Activation)    (None, 200, 128)          0         \n",
            "=================================================================\n",
            "Total params: 681,600\n",
            "Trainable params: 681,344\n",
            "Non-trainable params: 256\n",
            "_________________________________________________________________\n"
          ],
          "name": "stdout"
        }
      ]
    },
    {
      "cell_type": "code",
      "metadata": {
        "colab": {
          "base_uri": "https://localhost:8080/"
        },
        "id": "5WeoSdXai7ji",
        "outputId": "7f7fd0a2-e2bb-497e-97e4-59aba2bbfedb"
      },
      "source": [
        "# model.add(Conv1D(filters=128, kernel_size=3, padding='same', dilation_rate=1,activation='relu'))\n",
        "my_model5.add(tf.keras.layers.Conv1D(64 , 5, padding='same',kernel_initializer='random_normal'))\n",
        "print('.\\n.\\n.\\nadded conv1d layer with valid padding random_normal initializer - 128 filters')\n",
        "my_model5.add(tf.keras.layers.MaxPool1D(pool_size=5))\n",
        "print('added pool layer')\n",
        "my_model5.add(tf.keras.layers.BatchNormalization())\n",
        "print('added batch norm layer')\n",
        "my_model5.add(tf.keras.layers.Activation('relu'))\n",
        "print('added relu activation layer')\n",
        "my_model5.summary()\n"
      ],
      "execution_count": null,
      "outputs": [
        {
          "output_type": "stream",
          "text": [
            ".\n",
            ".\n",
            ".\n",
            "added conv1d layer with valid padding random_normal initializer - 128 filters\n",
            "added pool layer\n",
            "added batch norm layer\n",
            "added relu activation layer\n",
            "Model: \"sequential_3\"\n",
            "_________________________________________________________________\n",
            "Layer (type)                 Output Shape              Param #   \n",
            "=================================================================\n",
            "embedding_2 (Embedding)      (None, 1000, 64)          640000    \n",
            "_________________________________________________________________\n",
            "conv1d_2 (Conv1D)            (None, 1000, 128)         41088     \n",
            "_________________________________________________________________\n",
            "max_pooling1d_2 (MaxPooling1 (None, 200, 128)          0         \n",
            "_________________________________________________________________\n",
            "batch_normalization_6 (Batch (None, 200, 128)          512       \n",
            "_________________________________________________________________\n",
            "activation_8 (Activation)    (None, 200, 128)          0         \n",
            "_________________________________________________________________\n",
            "conv1d_3 (Conv1D)            (None, 200, 64)           41024     \n",
            "_________________________________________________________________\n",
            "max_pooling1d_3 (MaxPooling1 (None, 40, 64)            0         \n",
            "_________________________________________________________________\n",
            "batch_normalization_7 (Batch (None, 40, 64)            256       \n",
            "_________________________________________________________________\n",
            "activation_9 (Activation)    (None, 40, 64)            0         \n",
            "=================================================================\n",
            "Total params: 722,880\n",
            "Trainable params: 722,496\n",
            "Non-trainable params: 384\n",
            "_________________________________________________________________\n"
          ],
          "name": "stdout"
        }
      ]
    },
    {
      "cell_type": "code",
      "metadata": {
        "colab": {
          "base_uri": "https://localhost:8080/"
        },
        "id": "Zmov-WSMjB6Q",
        "outputId": "2fdf7a36-7494-4e49-bbdb-7bb913ba556e"
      },
      "source": [
        "my_model5.add(tf.keras.layers.Dense(200,kernel_regularizer=tf.keras.regularizers.l1_l2(l1=1e-7, l2=1e-5)))\n",
        "print('.\\n.\\n.\\n--> added a dense layer with l1_l2 regularization')\n",
        "my_model5.add(tf.keras.layers.BatchNormalization())\n",
        "print('added batch norm layer')\n",
        "my_model5.add(tf.keras.layers.Activation('tanh'))\n",
        "print('added tanh activation layer')\n",
        "my_model5.add(tf.keras.layers.Flatten())\n",
        "print('.\\n.\\n.\\n--> flatten layer')\n",
        "my_model5.add(tf.keras.layers.Dropout(0.5))\n",
        "print('.\\n.\\n.\\n--> added a 0.5 dropout layer')\n",
        "my_model5.summary()"
      ],
      "execution_count": null,
      "outputs": [
        {
          "output_type": "stream",
          "text": [
            ".\n",
            ".\n",
            ".\n",
            "--> added a dense layer with l1_l2 regularization\n",
            "added batch norm layer\n",
            "added tanh activation layer\n",
            ".\n",
            ".\n",
            ".\n",
            "--> flatten layer\n",
            ".\n",
            ".\n",
            ".\n",
            "--> added a 0.5 dropout layer\n",
            "Model: \"sequential_3\"\n",
            "_________________________________________________________________\n",
            "Layer (type)                 Output Shape              Param #   \n",
            "=================================================================\n",
            "embedding_2 (Embedding)      (None, 1000, 64)          640000    \n",
            "_________________________________________________________________\n",
            "conv1d_2 (Conv1D)            (None, 1000, 128)         41088     \n",
            "_________________________________________________________________\n",
            "max_pooling1d_2 (MaxPooling1 (None, 200, 128)          0         \n",
            "_________________________________________________________________\n",
            "batch_normalization_6 (Batch (None, 200, 128)          512       \n",
            "_________________________________________________________________\n",
            "activation_8 (Activation)    (None, 200, 128)          0         \n",
            "_________________________________________________________________\n",
            "conv1d_3 (Conv1D)            (None, 200, 64)           41024     \n",
            "_________________________________________________________________\n",
            "max_pooling1d_3 (MaxPooling1 (None, 40, 64)            0         \n",
            "_________________________________________________________________\n",
            "batch_normalization_7 (Batch (None, 40, 64)            256       \n",
            "_________________________________________________________________\n",
            "activation_9 (Activation)    (None, 40, 64)            0         \n",
            "_________________________________________________________________\n",
            "dense_4 (Dense)              (None, 40, 200)           13000     \n",
            "_________________________________________________________________\n",
            "batch_normalization_8 (Batch (None, 40, 200)           800       \n",
            "_________________________________________________________________\n",
            "activation_10 (Activation)   (None, 40, 200)           0         \n",
            "_________________________________________________________________\n",
            "flatten_4 (Flatten)          (None, 8000)              0         \n",
            "_________________________________________________________________\n",
            "dropout_2 (Dropout)          (None, 8000)              0         \n",
            "=================================================================\n",
            "Total params: 736,680\n",
            "Trainable params: 735,896\n",
            "Non-trainable params: 784\n",
            "_________________________________________________________________\n"
          ],
          "name": "stdout"
        }
      ]
    },
    {
      "cell_type": "code",
      "metadata": {
        "colab": {
          "base_uri": "https://localhost:8080/"
        },
        "id": "UnHogK-mjNOF",
        "outputId": "2fb045ad-d5a7-4a70-905e-0c23d437f15b"
      },
      "source": [
        "my_model5.add(tf.keras.layers.Dense(64,kernel_regularizer=tf.keras.regularizers.l1_l2(l1=1e-6, l2=1e-5)))\n",
        "print('.\\n.\\n.\\n--> added another dense layer with l1_l2 regularization')\n",
        "my_model5.add(tf.keras.layers.BatchNormalization())\n",
        "print('added batch norm layer')\n",
        "my_model5.add(tf.keras.layers.Activation('sigmoid'))\n",
        "print('added tanh sigmoid layer')\n",
        "my_model5.add(tf.keras.layers.Flatten())\n",
        "print('.\\n.\\n.\\n--> flatten layer')\n",
        "my_model5.summary()"
      ],
      "execution_count": null,
      "outputs": [
        {
          "output_type": "stream",
          "text": [
            ".\n",
            ".\n",
            ".\n",
            "--> added another dense layer with l1_l2 regularization\n",
            "added batch norm layer\n",
            "added tanh sigmoid layer\n",
            ".\n",
            ".\n",
            ".\n",
            "--> flatten layer\n",
            "Model: \"sequential_3\"\n",
            "_________________________________________________________________\n",
            "Layer (type)                 Output Shape              Param #   \n",
            "=================================================================\n",
            "embedding_2 (Embedding)      (None, 1000, 64)          640000    \n",
            "_________________________________________________________________\n",
            "conv1d_2 (Conv1D)            (None, 1000, 128)         41088     \n",
            "_________________________________________________________________\n",
            "max_pooling1d_2 (MaxPooling1 (None, 200, 128)          0         \n",
            "_________________________________________________________________\n",
            "batch_normalization_6 (Batch (None, 200, 128)          512       \n",
            "_________________________________________________________________\n",
            "activation_8 (Activation)    (None, 200, 128)          0         \n",
            "_________________________________________________________________\n",
            "conv1d_3 (Conv1D)            (None, 200, 64)           41024     \n",
            "_________________________________________________________________\n",
            "max_pooling1d_3 (MaxPooling1 (None, 40, 64)            0         \n",
            "_________________________________________________________________\n",
            "batch_normalization_7 (Batch (None, 40, 64)            256       \n",
            "_________________________________________________________________\n",
            "activation_9 (Activation)    (None, 40, 64)            0         \n",
            "_________________________________________________________________\n",
            "dense_4 (Dense)              (None, 40, 200)           13000     \n",
            "_________________________________________________________________\n",
            "batch_normalization_8 (Batch (None, 40, 200)           800       \n",
            "_________________________________________________________________\n",
            "activation_10 (Activation)   (None, 40, 200)           0         \n",
            "_________________________________________________________________\n",
            "flatten_4 (Flatten)          (None, 8000)              0         \n",
            "_________________________________________________________________\n",
            "dropout_2 (Dropout)          (None, 8000)              0         \n",
            "_________________________________________________________________\n",
            "dense_5 (Dense)              (None, 64)                512064    \n",
            "_________________________________________________________________\n",
            "batch_normalization_9 (Batch (None, 64)                256       \n",
            "_________________________________________________________________\n",
            "activation_11 (Activation)   (None, 64)                0         \n",
            "_________________________________________________________________\n",
            "flatten_5 (Flatten)          (None, 64)                0         \n",
            "=================================================================\n",
            "Total params: 1,249,000\n",
            "Trainable params: 1,248,088\n",
            "Non-trainable params: 912\n",
            "_________________________________________________________________\n"
          ],
          "name": "stdout"
        }
      ]
    },
    {
      "cell_type": "code",
      "metadata": {
        "colab": {
          "base_uri": "https://localhost:8080/"
        },
        "id": "oLkOS3u3jY5n",
        "outputId": "8ee107a2-7ed5-4db9-ffd6-7905a8b839ad"
      },
      "source": [
        "num_classes"
      ],
      "execution_count": null,
      "outputs": [
        {
          "output_type": "execute_result",
          "data": {
            "text/plain": [
              "15"
            ]
          },
          "metadata": {
            "tags": []
          },
          "execution_count": 119
        }
      ]
    },
    {
      "cell_type": "code",
      "metadata": {
        "colab": {
          "base_uri": "https://localhost:8080/"
        },
        "id": "G9UJvwmwjeQz",
        "outputId": "cc24688a-d4e6-48f6-eb44-77a7e4511947"
      },
      "source": [
        "my_model5.add(tf.keras.layers.Dense(num_classes))\n",
        "print('--> dense layer of size =  ',num_classes)\n",
        "my_model5.add(tf.keras.layers.BatchNormalization())\n",
        "print('added batch norm layer')\n",
        "my_model5.add(tf.keras.layers.Activation('sigmoid'))\n",
        "print('added sigmoid activation layer')\n",
        "my_model5.add(tf.keras.layers.Flatten())\n",
        "print('.\\n.\\n.\\n--> flatten layer')\n",
        "my_model5.add(tf.keras.layers.Activation('softmax'))\n",
        "print('added final softmax activation layer')\n",
        "my_model5.summary()"
      ],
      "execution_count": null,
      "outputs": [
        {
          "output_type": "stream",
          "text": [
            "--> dense layer of size =   15\n",
            "added batch norm layer\n",
            "added sigmoid activation layer\n",
            ".\n",
            ".\n",
            ".\n",
            "--> flatten layer\n",
            "added final softmax activation layer\n",
            "Model: \"sequential_3\"\n",
            "_________________________________________________________________\n",
            "Layer (type)                 Output Shape              Param #   \n",
            "=================================================================\n",
            "embedding_2 (Embedding)      (None, 1000, 64)          640000    \n",
            "_________________________________________________________________\n",
            "conv1d_2 (Conv1D)            (None, 1000, 128)         41088     \n",
            "_________________________________________________________________\n",
            "max_pooling1d_2 (MaxPooling1 (None, 200, 128)          0         \n",
            "_________________________________________________________________\n",
            "batch_normalization_6 (Batch (None, 200, 128)          512       \n",
            "_________________________________________________________________\n",
            "activation_8 (Activation)    (None, 200, 128)          0         \n",
            "_________________________________________________________________\n",
            "conv1d_3 (Conv1D)            (None, 200, 64)           41024     \n",
            "_________________________________________________________________\n",
            "max_pooling1d_3 (MaxPooling1 (None, 40, 64)            0         \n",
            "_________________________________________________________________\n",
            "batch_normalization_7 (Batch (None, 40, 64)            256       \n",
            "_________________________________________________________________\n",
            "activation_9 (Activation)    (None, 40, 64)            0         \n",
            "_________________________________________________________________\n",
            "dense_4 (Dense)              (None, 40, 200)           13000     \n",
            "_________________________________________________________________\n",
            "batch_normalization_8 (Batch (None, 40, 200)           800       \n",
            "_________________________________________________________________\n",
            "activation_10 (Activation)   (None, 40, 200)           0         \n",
            "_________________________________________________________________\n",
            "flatten_4 (Flatten)          (None, 8000)              0         \n",
            "_________________________________________________________________\n",
            "dropout_2 (Dropout)          (None, 8000)              0         \n",
            "_________________________________________________________________\n",
            "dense_5 (Dense)              (None, 64)                512064    \n",
            "_________________________________________________________________\n",
            "batch_normalization_9 (Batch (None, 64)                256       \n",
            "_________________________________________________________________\n",
            "activation_11 (Activation)   (None, 64)                0         \n",
            "_________________________________________________________________\n",
            "flatten_5 (Flatten)          (None, 64)                0         \n",
            "_________________________________________________________________\n",
            "dense_6 (Dense)              (None, 15)                975       \n",
            "_________________________________________________________________\n",
            "batch_normalization_10 (Batc (None, 15)                60        \n",
            "_________________________________________________________________\n",
            "activation_12 (Activation)   (None, 15)                0         \n",
            "_________________________________________________________________\n",
            "flatten_6 (Flatten)          (None, 15)                0         \n",
            "_________________________________________________________________\n",
            "activation_13 (Activation)   (None, 15)                0         \n",
            "=================================================================\n",
            "Total params: 1,250,035\n",
            "Trainable params: 1,249,093\n",
            "Non-trainable params: 942\n",
            "_________________________________________________________________\n"
          ],
          "name": "stdout"
        }
      ]
    },
    {
      "cell_type": "code",
      "metadata": {
        "colab": {
          "base_uri": "https://localhost:8080/"
        },
        "id": "y1AlXDynjkyJ",
        "outputId": "e6267aa5-a664-4e80-9d4a-117beeeaf3e9"
      },
      "source": [
        "my_model5.compile(optimizer=tf.keras.optimizers.Adam(\n",
        "    learning_rate=0.00001, beta_1=0.9, beta_2=0.999, epsilon=1e-07, amsgrad=False,\n",
        "    name='Adam',), loss='categorical_crossentropy', metrics=['accuracy'])\n",
        "print(' ---> compiled with learning rate : 0.00001 -')"
      ],
      "execution_count": null,
      "outputs": [
        {
          "output_type": "stream",
          "text": [
            " ---> compiled with learning rate : 0.00001 -\n"
          ],
          "name": "stdout"
        }
      ]
    },
    {
      "cell_type": "code",
      "metadata": {
        "colab": {
          "base_uri": "https://localhost:8080/"
        },
        "id": "TgoMTRLmjsVO",
        "outputId": "03d1ee5a-2a3f-488a-eb7d-8b1c122576b7"
      },
      "source": [
        "%%time\n",
        "\n",
        "scores2 = []\n",
        "histories2 = []\n",
        "print('------> fitting the model\\n')\n",
        "\n",
        "for train_iX,test_iX in k_fold.split(X_train_padded):\n",
        "  # selecting rows for trainX and trainY first train data and then cross validation data\n",
        "  x_itrain,y_itrain,x_cv,y_cv = X_train_padded[train_iX] , y_train[train_iX] , X_train_padded[test_iX], y_train[test_iX]\n",
        "    # fit into model with batch sizes of 32 and epochs 10\n",
        "    # # history = my_model.fit(x_train,y_train,batch_size=32,epochs=10,verbose=1,validation_data=(x_cv,y_cv))\n",
        "  history = my_model5.fit(x_itrain,y_itrain,batch_size=128,epochs=10,verbose=1,validation_data=(x_cv,y_cv))\n",
        "  # evaluate model\n",
        "  loss,acc = my_model5.evaluate(X_test_padded , y_test,verbose=2)\n",
        "  print('-'*80)\n",
        "  print('\\n\\t --> accuracy on test data : {:.6f}% and loss : {:.7f} <--\\n'.format(acc * 100.0,loss))\n",
        "  print('-'*80)\n",
        "    # # stores scores  \n",
        "  scores2.append(acc)\n",
        "  histories2.append(history)\n",
        "\n",
        "print('done')"
      ],
      "execution_count": null,
      "outputs": [
        {
          "output_type": "stream",
          "text": [
            "------> fitting the model\n",
            "\n",
            "Epoch 1/10\n",
            "155/155 [==============================] - 9s 44ms/step - loss: 2.7368 - accuracy: 0.0685 - val_loss: 2.7207 - val_accuracy: 0.0616\n",
            "Epoch 2/10\n",
            "155/155 [==============================] - 6s 41ms/step - loss: 2.7265 - accuracy: 0.0726 - val_loss: 2.7207 - val_accuracy: 0.0703\n",
            "Epoch 3/10\n",
            "155/155 [==============================] - 6s 41ms/step - loss: 2.7185 - accuracy: 0.0762 - val_loss: 2.7132 - val_accuracy: 0.0757\n",
            "Epoch 4/10\n",
            "155/155 [==============================] - 6s 41ms/step - loss: 2.7154 - accuracy: 0.0800 - val_loss: 2.7060 - val_accuracy: 0.0780\n",
            "Epoch 5/10\n",
            "155/155 [==============================] - 6s 41ms/step - loss: 2.7079 - accuracy: 0.0884 - val_loss: 2.7005 - val_accuracy: 0.0931\n",
            "Epoch 6/10\n",
            "155/155 [==============================] - 6s 41ms/step - loss: 2.6992 - accuracy: 0.0924 - val_loss: 2.6957 - val_accuracy: 0.0976\n",
            "Epoch 7/10\n",
            "155/155 [==============================] - 6s 41ms/step - loss: 2.6922 - accuracy: 0.1024 - val_loss: 2.6910 - val_accuracy: 0.1026\n",
            "Epoch 8/10\n",
            "155/155 [==============================] - 6s 40ms/step - loss: 2.6877 - accuracy: 0.1043 - val_loss: 2.6865 - val_accuracy: 0.1081\n",
            "Epoch 9/10\n",
            "155/155 [==============================] - 6s 40ms/step - loss: 2.6819 - accuracy: 0.1120 - val_loss: 2.6810 - val_accuracy: 0.1141\n",
            "Epoch 10/10\n",
            "155/155 [==============================] - 6s 40ms/step - loss: 2.6729 - accuracy: 0.1210 - val_loss: 2.6756 - val_accuracy: 0.1227\n",
            "158/158 - 1s - loss: 2.6769 - accuracy: 0.1246\n",
            "--------------------------------------------------------------------------------\n",
            "\n",
            "\t --> accuracy on test data : 12.460380% and loss : 2.6768754 <--\n",
            "\n",
            "--------------------------------------------------------------------------------\n",
            "Epoch 1/10\n",
            "155/155 [==============================] - 6s 40ms/step - loss: 2.6694 - accuracy: 0.1211 - val_loss: 2.6305 - val_accuracy: 0.2053\n",
            "Epoch 2/10\n",
            "155/155 [==============================] - 6s 40ms/step - loss: 2.6603 - accuracy: 0.1289 - val_loss: 2.6254 - val_accuracy: 0.2112\n",
            "Epoch 3/10\n",
            "155/155 [==============================] - 6s 40ms/step - loss: 2.6527 - accuracy: 0.1344 - val_loss: 2.6195 - val_accuracy: 0.2121\n",
            "Epoch 4/10\n",
            "155/155 [==============================] - 6s 40ms/step - loss: 2.6443 - accuracy: 0.1431 - val_loss: 2.6134 - val_accuracy: 0.2249\n",
            "Epoch 5/10\n",
            "155/155 [==============================] - 6s 40ms/step - loss: 2.6341 - accuracy: 0.1558 - val_loss: 2.6076 - val_accuracy: 0.2290\n",
            "Epoch 6/10\n",
            "155/155 [==============================] - 6s 40ms/step - loss: 2.6260 - accuracy: 0.1623 - val_loss: 2.6017 - val_accuracy: 0.2386\n",
            "Epoch 7/10\n",
            "155/155 [==============================] - 6s 40ms/step - loss: 2.6168 - accuracy: 0.1759 - val_loss: 2.5954 - val_accuracy: 0.2441\n",
            "Epoch 8/10\n",
            "155/155 [==============================] - 6s 40ms/step - loss: 2.6080 - accuracy: 0.1886 - val_loss: 2.5898 - val_accuracy: 0.2473\n",
            "Epoch 9/10\n",
            "155/155 [==============================] - 6s 39ms/step - loss: 2.5999 - accuracy: 0.1997 - val_loss: 2.5849 - val_accuracy: 0.2546\n",
            "Epoch 10/10\n",
            "155/155 [==============================] - 6s 40ms/step - loss: 2.5925 - accuracy: 0.2084 - val_loss: 2.5787 - val_accuracy: 0.2628\n",
            "158/158 - 1s - loss: 2.6097 - accuracy: 0.2179\n",
            "--------------------------------------------------------------------------------\n",
            "\n",
            "\t --> accuracy on test data : 21.790808% and loss : 2.6096971 <--\n",
            "\n",
            "--------------------------------------------------------------------------------\n",
            "Epoch 1/10\n",
            "155/155 [==============================] - 6s 41ms/step - loss: 2.5858 - accuracy: 0.2229 - val_loss: 2.5455 - val_accuracy: 0.3400\n",
            "Epoch 2/10\n",
            "155/155 [==============================] - 6s 40ms/step - loss: 2.5803 - accuracy: 0.2266 - val_loss: 2.5419 - val_accuracy: 0.3437\n",
            "Epoch 3/10\n",
            "155/155 [==============================] - 6s 40ms/step - loss: 2.5714 - accuracy: 0.2438 - val_loss: 2.5398 - val_accuracy: 0.3505\n",
            "Epoch 4/10\n",
            "155/155 [==============================] - 6s 39ms/step - loss: 2.5642 - accuracy: 0.2556 - val_loss: 2.5362 - val_accuracy: 0.3560\n",
            "Epoch 5/10\n",
            "155/155 [==============================] - 6s 39ms/step - loss: 2.5555 - accuracy: 0.2656 - val_loss: 2.5336 - val_accuracy: 0.3574\n",
            "Epoch 6/10\n",
            "155/155 [==============================] - 6s 39ms/step - loss: 2.5502 - accuracy: 0.2801 - val_loss: 2.5301 - val_accuracy: 0.3688\n",
            "Epoch 7/10\n",
            "155/155 [==============================] - 6s 40ms/step - loss: 2.5443 - accuracy: 0.2889 - val_loss: 2.5278 - val_accuracy: 0.3747\n",
            "Epoch 8/10\n",
            "155/155 [==============================] - 6s 39ms/step - loss: 2.5366 - accuracy: 0.3031 - val_loss: 2.5251 - val_accuracy: 0.3729\n",
            "Epoch 9/10\n",
            "155/155 [==============================] - 6s 39ms/step - loss: 2.5313 - accuracy: 0.3146 - val_loss: 2.5223 - val_accuracy: 0.3784\n",
            "Epoch 10/10\n",
            "155/155 [==============================] - 6s 39ms/step - loss: 2.5260 - accuracy: 0.3253 - val_loss: 2.5194 - val_accuracy: 0.3857\n",
            "158/158 - 1s - loss: 2.5561 - accuracy: 0.3065\n",
            "--------------------------------------------------------------------------------\n",
            "\n",
            "\t --> accuracy on test data : 30.645800% and loss : 2.5560646 <--\n",
            "\n",
            "--------------------------------------------------------------------------------\n",
            "Epoch 1/10\n",
            "155/155 [==============================] - 6s 40ms/step - loss: 2.5226 - accuracy: 0.3337 - val_loss: 2.4853 - val_accuracy: 0.4455\n",
            "Epoch 2/10\n",
            "155/155 [==============================] - 6s 40ms/step - loss: 2.5179 - accuracy: 0.3416 - val_loss: 2.4840 - val_accuracy: 0.4582\n",
            "Epoch 3/10\n",
            "155/155 [==============================] - 6s 40ms/step - loss: 2.5119 - accuracy: 0.3568 - val_loss: 2.4816 - val_accuracy: 0.4468\n",
            "Epoch 4/10\n",
            "155/155 [==============================] - 6s 40ms/step - loss: 2.5076 - accuracy: 0.3666 - val_loss: 2.4796 - val_accuracy: 0.4546\n",
            "Epoch 5/10\n",
            "155/155 [==============================] - 6s 40ms/step - loss: 2.5025 - accuracy: 0.3751 - val_loss: 2.4780 - val_accuracy: 0.4528\n",
            "Epoch 6/10\n",
            "155/155 [==============================] - 6s 39ms/step - loss: 2.4987 - accuracy: 0.3849 - val_loss: 2.4755 - val_accuracy: 0.4564\n",
            "Epoch 7/10\n",
            "155/155 [==============================] - 6s 39ms/step - loss: 2.4927 - accuracy: 0.3926 - val_loss: 2.4749 - val_accuracy: 0.4592\n",
            "Epoch 8/10\n",
            "155/155 [==============================] - 6s 40ms/step - loss: 2.4874 - accuracy: 0.4078 - val_loss: 2.4735 - val_accuracy: 0.4614\n",
            "Epoch 9/10\n",
            "155/155 [==============================] - 6s 39ms/step - loss: 2.4835 - accuracy: 0.4181 - val_loss: 2.4710 - val_accuracy: 0.4655\n",
            "Epoch 10/10\n",
            "155/155 [==============================] - 6s 40ms/step - loss: 2.4809 - accuracy: 0.4242 - val_loss: 2.4696 - val_accuracy: 0.4646\n",
            "158/158 - 1s - loss: 2.5207 - accuracy: 0.3704\n",
            "--------------------------------------------------------------------------------\n",
            "\n",
            "\t --> accuracy on test data : 37.044373% and loss : 2.5207343 <--\n",
            "\n",
            "--------------------------------------------------------------------------------\n",
            "Epoch 1/10\n",
            "155/155 [==============================] - 6s 40ms/step - loss: 2.4780 - accuracy: 0.4294 - val_loss: 2.4472 - val_accuracy: 0.5386\n",
            "Epoch 2/10\n",
            "155/155 [==============================] - 6s 40ms/step - loss: 2.4724 - accuracy: 0.4376 - val_loss: 2.4467 - val_accuracy: 0.5349\n",
            "Epoch 3/10\n",
            "155/155 [==============================] - 6s 40ms/step - loss: 2.4685 - accuracy: 0.4484 - val_loss: 2.4449 - val_accuracy: 0.5335\n",
            "Epoch 4/10\n",
            "155/155 [==============================] - 6s 40ms/step - loss: 2.4654 - accuracy: 0.4606 - val_loss: 2.4436 - val_accuracy: 0.5377\n",
            "Epoch 5/10\n",
            "155/155 [==============================] - 6s 40ms/step - loss: 2.4613 - accuracy: 0.4666 - val_loss: 2.4432 - val_accuracy: 0.5304\n",
            "Epoch 6/10\n",
            "155/155 [==============================] - 6s 40ms/step - loss: 2.4582 - accuracy: 0.4736 - val_loss: 2.4417 - val_accuracy: 0.5335\n",
            "Epoch 7/10\n",
            "155/155 [==============================] - 6s 40ms/step - loss: 2.4534 - accuracy: 0.4835 - val_loss: 2.4413 - val_accuracy: 0.5386\n",
            "Epoch 8/10\n",
            "155/155 [==============================] - 6s 40ms/step - loss: 2.4510 - accuracy: 0.4856 - val_loss: 2.4407 - val_accuracy: 0.5367\n",
            "Epoch 9/10\n",
            "155/155 [==============================] - 6s 39ms/step - loss: 2.4474 - accuracy: 0.4991 - val_loss: 2.4389 - val_accuracy: 0.5358\n",
            "Epoch 10/10\n",
            "155/155 [==============================] - 6s 39ms/step - loss: 2.4442 - accuracy: 0.5011 - val_loss: 2.4381 - val_accuracy: 0.5408\n",
            "158/158 - 1s - loss: 2.4947 - accuracy: 0.4180\n",
            "--------------------------------------------------------------------------------\n",
            "\n",
            "\t --> accuracy on test data : 41.798732% and loss : 2.4947045 <--\n",
            "\n",
            "--------------------------------------------------------------------------------\n",
            "Epoch 1/10\n",
            "155/155 [==============================] - 6s 40ms/step - loss: 2.4428 - accuracy: 0.5117 - val_loss: 2.4111 - val_accuracy: 0.6248\n",
            "Epoch 2/10\n",
            "155/155 [==============================] - 6s 39ms/step - loss: 2.4392 - accuracy: 0.5174 - val_loss: 2.4107 - val_accuracy: 0.6212\n",
            "Epoch 3/10\n",
            "155/155 [==============================] - 6s 39ms/step - loss: 2.4362 - accuracy: 0.5229 - val_loss: 2.4096 - val_accuracy: 0.6194\n",
            "Epoch 4/10\n",
            "155/155 [==============================] - 6s 39ms/step - loss: 2.4323 - accuracy: 0.5295 - val_loss: 2.4094 - val_accuracy: 0.6239\n",
            "Epoch 5/10\n",
            "155/155 [==============================] - 6s 39ms/step - loss: 2.4303 - accuracy: 0.5371 - val_loss: 2.4083 - val_accuracy: 0.6189\n",
            "Epoch 6/10\n",
            "155/155 [==============================] - 6s 40ms/step - loss: 2.4269 - accuracy: 0.5415 - val_loss: 2.4081 - val_accuracy: 0.6216\n",
            "Epoch 7/10\n",
            "155/155 [==============================] - 6s 39ms/step - loss: 2.4239 - accuracy: 0.5470 - val_loss: 2.4068 - val_accuracy: 0.6194\n",
            "Epoch 8/10\n",
            "155/155 [==============================] - 6s 39ms/step - loss: 2.4214 - accuracy: 0.5549 - val_loss: 2.4071 - val_accuracy: 0.6212\n",
            "Epoch 9/10\n",
            "155/155 [==============================] - 6s 40ms/step - loss: 2.4178 - accuracy: 0.5634 - val_loss: 2.4049 - val_accuracy: 0.6152\n",
            "Epoch 10/10\n",
            "155/155 [==============================] - 6s 39ms/step - loss: 2.4145 - accuracy: 0.5685 - val_loss: 2.4044 - val_accuracy: 0.6139\n",
            "158/158 - 1s - loss: 2.4736 - accuracy: 0.4556\n",
            "--------------------------------------------------------------------------------\n",
            "\n",
            "\t --> accuracy on test data : 45.562598% and loss : 2.4736292 <--\n",
            "\n",
            "--------------------------------------------------------------------------------\n",
            "Epoch 1/10\n",
            "155/155 [==============================] - 6s 39ms/step - loss: 2.4134 - accuracy: 0.5731 - val_loss: 2.3864 - val_accuracy: 0.6691\n",
            "Epoch 2/10\n",
            "155/155 [==============================] - 6s 39ms/step - loss: 2.4105 - accuracy: 0.5803 - val_loss: 2.3858 - val_accuracy: 0.6691\n",
            "Epoch 3/10\n",
            "155/155 [==============================] - 6s 39ms/step - loss: 2.4082 - accuracy: 0.5815 - val_loss: 2.3849 - val_accuracy: 0.6686\n",
            "Epoch 4/10\n",
            "155/155 [==============================] - 6s 39ms/step - loss: 2.4051 - accuracy: 0.5910 - val_loss: 2.3845 - val_accuracy: 0.6691\n",
            "Epoch 5/10\n",
            "155/155 [==============================] - 6s 39ms/step - loss: 2.4021 - accuracy: 0.5941 - val_loss: 2.3837 - val_accuracy: 0.6650\n",
            "Epoch 6/10\n",
            "155/155 [==============================] - 6s 39ms/step - loss: 2.3996 - accuracy: 0.5972 - val_loss: 2.3841 - val_accuracy: 0.6650\n",
            "Epoch 7/10\n",
            "155/155 [==============================] - 6s 39ms/step - loss: 2.3976 - accuracy: 0.6083 - val_loss: 2.3829 - val_accuracy: 0.6659\n",
            "Epoch 8/10\n",
            "155/155 [==============================] - 6s 39ms/step - loss: 2.3944 - accuracy: 0.6144 - val_loss: 2.3824 - val_accuracy: 0.6677\n",
            "Epoch 9/10\n",
            "155/155 [==============================] - 6s 39ms/step - loss: 2.3919 - accuracy: 0.6197 - val_loss: 2.3819 - val_accuracy: 0.6654\n",
            "Epoch 10/10\n",
            "155/155 [==============================] - 6s 39ms/step - loss: 2.3900 - accuracy: 0.6246 - val_loss: 2.3812 - val_accuracy: 0.6632\n",
            "158/158 - 1s - loss: 2.4568 - accuracy: 0.4820\n",
            "--------------------------------------------------------------------------------\n",
            "\n",
            "\t --> accuracy on test data : 48.197305% and loss : 2.4568226 <--\n",
            "\n",
            "--------------------------------------------------------------------------------\n",
            "Epoch 1/10\n",
            "155/155 [==============================] - 6s 41ms/step - loss: 2.3898 - accuracy: 0.6224 - val_loss: 2.3594 - val_accuracy: 0.7166\n",
            "Epoch 2/10\n",
            "155/155 [==============================] - 6s 41ms/step - loss: 2.3864 - accuracy: 0.6306 - val_loss: 2.3602 - val_accuracy: 0.7161\n",
            "Epoch 3/10\n",
            "155/155 [==============================] - 6s 40ms/step - loss: 2.3849 - accuracy: 0.6332 - val_loss: 2.3595 - val_accuracy: 0.7147\n",
            "Epoch 4/10\n",
            "155/155 [==============================] - 6s 39ms/step - loss: 2.3817 - accuracy: 0.6430 - val_loss: 2.3585 - val_accuracy: 0.7134\n",
            "Epoch 5/10\n",
            "155/155 [==============================] - 6s 39ms/step - loss: 2.3797 - accuracy: 0.6485 - val_loss: 2.3588 - val_accuracy: 0.7106\n",
            "Epoch 6/10\n",
            "155/155 [==============================] - 6s 39ms/step - loss: 2.3770 - accuracy: 0.6541 - val_loss: 2.3583 - val_accuracy: 0.7143\n",
            "Epoch 7/10\n",
            "155/155 [==============================] - 6s 39ms/step - loss: 2.3746 - accuracy: 0.6556 - val_loss: 2.3576 - val_accuracy: 0.7070\n",
            "Epoch 8/10\n",
            "155/155 [==============================] - 6s 40ms/step - loss: 2.3725 - accuracy: 0.6604 - val_loss: 2.3574 - val_accuracy: 0.7084\n",
            "Epoch 9/10\n",
            "155/155 [==============================] - 6s 39ms/step - loss: 2.3704 - accuracy: 0.6706 - val_loss: 2.3567 - val_accuracy: 0.7061\n",
            "Epoch 10/10\n",
            "155/155 [==============================] - 6s 39ms/step - loss: 2.3682 - accuracy: 0.6702 - val_loss: 2.3559 - val_accuracy: 0.7097\n",
            "158/158 - 1s - loss: 2.4427 - accuracy: 0.5040\n",
            "--------------------------------------------------------------------------------\n",
            "\n",
            "\t --> accuracy on test data : 50.396198% and loss : 2.4426847 <--\n",
            "\n",
            "--------------------------------------------------------------------------------\n",
            "Epoch 1/10\n",
            "155/155 [==============================] - 6s 39ms/step - loss: 2.3680 - accuracy: 0.6699 - val_loss: 2.3402 - val_accuracy: 0.7750\n",
            "Epoch 2/10\n",
            "155/155 [==============================] - 6s 39ms/step - loss: 2.3656 - accuracy: 0.6729 - val_loss: 2.3396 - val_accuracy: 0.7713\n",
            "Epoch 3/10\n",
            "155/155 [==============================] - 6s 39ms/step - loss: 2.3633 - accuracy: 0.6750 - val_loss: 2.3396 - val_accuracy: 0.7709\n",
            "Epoch 4/10\n",
            "155/155 [==============================] - 6s 39ms/step - loss: 2.3609 - accuracy: 0.6853 - val_loss: 2.3397 - val_accuracy: 0.7713\n",
            "Epoch 5/10\n",
            "155/155 [==============================] - 6s 39ms/step - loss: 2.3586 - accuracy: 0.6900 - val_loss: 2.3396 - val_accuracy: 0.7672\n",
            "Epoch 6/10\n",
            "155/155 [==============================] - 6s 39ms/step - loss: 2.3578 - accuracy: 0.6896 - val_loss: 2.3397 - val_accuracy: 0.7677\n",
            "Epoch 7/10\n",
            "155/155 [==============================] - 6s 39ms/step - loss: 2.3545 - accuracy: 0.6980 - val_loss: 2.3386 - val_accuracy: 0.7672\n",
            "Epoch 8/10\n",
            "155/155 [==============================] - 6s 39ms/step - loss: 2.3535 - accuracy: 0.7019 - val_loss: 2.3387 - val_accuracy: 0.7636\n",
            "Epoch 9/10\n",
            "155/155 [==============================] - 6s 39ms/step - loss: 2.3511 - accuracy: 0.7046 - val_loss: 2.3388 - val_accuracy: 0.7608\n",
            "Epoch 10/10\n",
            "155/155 [==============================] - 6s 39ms/step - loss: 2.3495 - accuracy: 0.7097 - val_loss: 2.3376 - val_accuracy: 0.7576\n",
            "158/158 - 1s - loss: 2.4311 - accuracy: 0.5141\n",
            "--------------------------------------------------------------------------------\n",
            "\n",
            "\t --> accuracy on test data : 51.406497% and loss : 2.4311283 <--\n",
            "\n",
            "--------------------------------------------------------------------------------\n",
            "Epoch 1/10\n",
            "155/155 [==============================] - 6s 40ms/step - loss: 2.3491 - accuracy: 0.7097 - val_loss: 2.3211 - val_accuracy: 0.7882\n",
            "Epoch 2/10\n",
            "155/155 [==============================] - 6s 39ms/step - loss: 2.3466 - accuracy: 0.7155 - val_loss: 2.3207 - val_accuracy: 0.7891\n",
            "Epoch 3/10\n",
            "155/155 [==============================] - 6s 39ms/step - loss: 2.3447 - accuracy: 0.7182 - val_loss: 2.3207 - val_accuracy: 0.7846\n",
            "Epoch 4/10\n",
            "155/155 [==============================] - 6s 41ms/step - loss: 2.3430 - accuracy: 0.7205 - val_loss: 2.3211 - val_accuracy: 0.7846\n",
            "Epoch 5/10\n",
            "155/155 [==============================] - 6s 40ms/step - loss: 2.3410 - accuracy: 0.7238 - val_loss: 2.3205 - val_accuracy: 0.7841\n",
            "Epoch 6/10\n",
            "155/155 [==============================] - 6s 40ms/step - loss: 2.3392 - accuracy: 0.7277 - val_loss: 2.3202 - val_accuracy: 0.7823\n",
            "Epoch 7/10\n",
            "155/155 [==============================] - 6s 40ms/step - loss: 2.3371 - accuracy: 0.7322 - val_loss: 2.3206 - val_accuracy: 0.7809\n",
            "Epoch 8/10\n",
            "155/155 [==============================] - 6s 39ms/step - loss: 2.3354 - accuracy: 0.7364 - val_loss: 2.3205 - val_accuracy: 0.7754\n",
            "Epoch 9/10\n",
            "155/155 [==============================] - 6s 39ms/step - loss: 2.3335 - accuracy: 0.7415 - val_loss: 2.3198 - val_accuracy: 0.7786\n",
            "Epoch 10/10\n",
            "155/155 [==============================] - 6s 39ms/step - loss: 2.3319 - accuracy: 0.7473 - val_loss: 2.3193 - val_accuracy: 0.7759\n",
            "158/158 - 1s - loss: 2.4211 - accuracy: 0.5256\n",
            "--------------------------------------------------------------------------------\n",
            "\n",
            "\t --> accuracy on test data : 52.555466% and loss : 2.4211309 <--\n",
            "\n",
            "--------------------------------------------------------------------------------\n",
            "done\n",
            "CPU times: user 7min 34s, sys: 39.4 s, total: 8min 13s\n",
            "Wall time: 10min 25s\n"
          ],
          "name": "stdout"
        }
      ]
    },
    {
      "cell_type": "code",
      "metadata": {
        "colab": {
          "base_uri": "https://localhost:8080/",
          "height": 296
        },
        "id": "LerEkYddj4ah",
        "outputId": "9f1f22cd-19ac-4648-c5e8-542b5fe5cb82"
      },
      "source": [
        "plt.plot([i for i in range(1,11)],scores2,label='TESTING')\n",
        "plt.xlabel('Epochs')\n",
        "plt.ylabel('Accuracy')\n",
        "plt.legend()"
      ],
      "execution_count": null,
      "outputs": [
        {
          "output_type": "execute_result",
          "data": {
            "text/plain": [
              "<matplotlib.legend.Legend at 0x7f2fb0590ac8>"
            ]
          },
          "metadata": {
            "tags": []
          },
          "execution_count": 123
        },
        {
          "output_type": "display_data",
          "data": {
            "image/png": "[encoded data removed]",
            "text/plain": [
              "<Figure size 432x288 with 1 Axes>"
            ]
          },
          "metadata": {
            "tags": [],
            "needs_background": "light"
          }
        }
      ]
    },
    {
      "cell_type": "code",
      "metadata": {
        "colab": {
          "base_uri": "https://localhost:8080/"
        },
        "id": "zoah4dntW-68",
        "outputId": "4a7f4d93-2d4e-40c3-d50f-5c27c01f1c2c"
      },
      "source": [
        "print('saving model...')\n",
        "my_model5.save('content/model4_use_tokenizer4_v2')\n",
        "print('saved')"
      ],
      "execution_count": null,
      "outputs": [
        {
          "output_type": "stream",
          "text": [
            "saving model...\n",
            "INFO:tensorflow:Assets written to: content/model4_use_tokenizer4_v2/assets\n",
            "saved\n"
          ],
          "name": "stdout"
        }
      ]
    },
    {
      "cell_type": "code",
      "metadata": {
        "colab": {
          "base_uri": "https://localhost:8080/"
        },
        "id": "Pzqt4ZKEXStA",
        "outputId": "14a1168f-2ce6-4d59-df3c-da973ed7d0a4"
      },
      "source": [
        "!zip -r /content/model4_use_tokenizer4_v2.zip /content/content/model4_use_tokenizer4_v2\n"
      ],
      "execution_count": null,
      "outputs": [
        {
          "output_type": "stream",
          "text": [
            "  adding: content/content/model4_use_tokenizer4_v2/ (stored 0%)\n",
            "  adding: content/content/model4_use_tokenizer4_v2/saved_model.pb (deflated 90%)\n",
            "  adding: content/content/model4_use_tokenizer4_v2/assets/ (stored 0%)\n",
            "  adding: content/content/model4_use_tokenizer4_v2/variables/ (stored 0%)\n",
            "  adding: content/content/model4_use_tokenizer4_v2/variables/variables.index (deflated 71%)\n",
            "  adding: content/content/model4_use_tokenizer4_v2/variables/variables.data-00000-of-00001 (deflated 8%)\n"
          ],
          "name": "stdout"
        }
      ]
    },
    {
      "cell_type": "code",
      "metadata": {
        "id": "EVPEDB39maPb",
        "colab": {
          "base_uri": "https://localhost:8080/"
        },
        "outputId": "a63f5797-d776-47f9-9beb-b72426b014a9"
      },
      "source": [
        "!cp '/content/model4_use_tokenizer4_v2.zip' '/content/drive/My Drive/datasets/LanguageDataset/final_changes/DL_models'\n",
        "!echo done\n"
      ],
      "execution_count": null,
      "outputs": [
        {
          "output_type": "stream",
          "text": [
            "done\n"
          ],
          "name": "stdout"
        }
      ]
    },
    {
      "cell_type": "code",
      "metadata": {
        "id": "FVtPGAQzXWHj"
      },
      "source": [
        ""
      ],
      "execution_count": null,
      "outputs": []
    }
  ]
}