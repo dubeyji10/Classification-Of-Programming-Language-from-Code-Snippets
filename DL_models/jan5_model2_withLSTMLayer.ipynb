{
  "nbformat": 4,
  "nbformat_minor": 0,
  "metadata": {
    "accelerator": "GPU",
    "colab": {
      "name": "final_DLModel3.ipynb",
      "provenance": [],
      "collapsed_sections": [],
      "toc_visible": true
    },
    "kernelspec": {
      "display_name": "Python 3",
      "name": "python3"
    }
  },
  "cells": [
    {
      "cell_type": "code",
      "metadata": {
        "id": "nZ5iPO3T_5tc"
      },
      "source": [
        "#@title Version 3 <br> using last trained tokenizer and this time an LSTM layer"
      ],
      "execution_count": null,
      "outputs": []
    },
    {
      "cell_type": "markdown",
      "metadata": {
        "id": "EYLKcUH4_5Ib"
      },
      "source": [
        "## first dataset : final_dataset_1.csv"
      ]
    },
    {
      "cell_type": "markdown",
      "metadata": {
        "id": "dujUpWi0AIxW"
      },
      "source": [
        "### Connect to drive"
      ]
    },
    {
      "cell_type": "code",
      "metadata": {
        "colab": {
          "base_uri": "https://localhost:8080/"
        },
        "id": "GNddv50T_xt1",
        "outputId": "199ace69-146d-444a-a90f-229ee907f5c0"
      },
      "source": [
        "import pandas as pd\n",
        "import matplotlib.pyplot as plt\n",
        "import numpy as np\n",
        "import os\n",
        "from os import listdir\n",
        "from os.path import isfile, join\n",
        "from google.colab import drive\n",
        "# print('\\nimports done\\n mounting drive')\n",
        "drive.mount('/content/drive')"
      ],
      "execution_count": null,
      "outputs": [
        {
          "output_type": "stream",
          "text": [
            "Mounted at /content/drive\n"
          ],
          "name": "stdout"
        }
      ]
    },
    {
      "cell_type": "code",
      "metadata": {
        "colab": {
          "base_uri": "https://localhost:8080/"
        },
        "id": "6yR8JEzzALsk",
        "outputId": "33b33e89-c8e4-45a5-9487-eb7ec9e56a0f"
      },
      "source": [
        "!ls"
      ],
      "execution_count": null,
      "outputs": [
        {
          "output_type": "stream",
          "text": [
            "drive  sample_data\n"
          ],
          "name": "stdout"
        }
      ]
    },
    {
      "cell_type": "code",
      "metadata": {
        "colab": {
          "base_uri": "https://localhost:8080/"
        },
        "id": "AbeKnMSbAXCJ",
        "outputId": "876dfa48-6858-4825-cd4d-4c4c97323279"
      },
      "source": [
        "!mkdir dataset\n",
        "!ls"
      ],
      "execution_count": null,
      "outputs": [
        {
          "output_type": "stream",
          "text": [
            "dataset  drive\tsample_data\n"
          ],
          "name": "stdout"
        }
      ]
    },
    {
      "cell_type": "code",
      "metadata": {
        "colab": {
          "base_uri": "https://localhost:8080/"
        },
        "id": "asc6kZLYAaeY",
        "outputId": "dd26e978-46c1-42c2-8c6a-9f9e9b444adf"
      },
      "source": [
        "!cp '/content/drive/MyDrive/datasets/LanguageDataset/final_changes/final_dataset_1.csv' /content/dataset/\n",
        "! echo copied final_dataset_1\n",
        "\n",
        "!cp '/content/drive/MyDrive/datasets/LanguageDataset/final_changes/final_dataset_2.csv' /content/dataset/\n",
        "! echo copied final_dataset_2\n"
      ],
      "execution_count": null,
      "outputs": [
        {
          "output_type": "stream",
          "text": [
            "copied final_dataset_1\n",
            "copied final_dataset_2\n"
          ],
          "name": "stdout"
        }
      ]
    },
    {
      "cell_type": "code",
      "metadata": {
        "colab": {
          "base_uri": "https://localhost:8080/",
          "height": 419
        },
        "id": "zZ0TI6BbAmFZ",
        "outputId": "afc9c7ad-37b0-46f3-9f30-ac007f0b220b"
      },
      "source": [
        "data = pd.read_csv('/content/dataset/final_dataset_1.csv')\n",
        "data"
      ],
      "execution_count": null,
      "outputs": [
        {
          "output_type": "execute_result",
          "data": {
            "text/html": [
              "<div>\n",
              "<style scoped>\n",
              "    .dataframe tbody tr th:only-of-type {\n",
              "        vertical-align: middle;\n",
              "    }\n",
              "\n",
              "    .dataframe tbody tr th {\n",
              "        vertical-align: top;\n",
              "    }\n",
              "\n",
              "    .dataframe thead th {\n",
              "        text-align: right;\n",
              "    }\n",
              "</style>\n",
              "<table border=\"1\" class=\"dataframe\">\n",
              "  <thead>\n",
              "    <tr style=\"text-align: right;\">\n",
              "      <th></th>\n",
              "      <th>Language</th>\n",
              "      <th>Source</th>\n",
              "    </tr>\n",
              "  </thead>\n",
              "  <tbody>\n",
              "    <tr>\n",
              "      <th>0</th>\n",
              "      <td>bash</td>\n",
              "      <td>bash\\nalias tail_ls=\"ls -l $1 | tail\"\\n\\ntail_...</td>\n",
              "    </tr>\n",
              "    <tr>\n",
              "      <th>1</th>\n",
              "      <td>bash</td>\n",
              "      <td>ERR_COUNT=`echo $VAR_WITH_TEXT | grep \"ERROR t...</td>\n",
              "    </tr>\n",
              "    <tr>\n",
              "      <th>2</th>\n",
              "      <td>bash</td>\n",
              "      <td>SET JARS=^\\n./lib/apache-mime4j-0.6.jar;^\\n./l...</td>\n",
              "    </tr>\n",
              "    <tr>\n",
              "      <th>3</th>\n",
              "      <td>bash</td>\n",
              "      <td>2010-02-20 21:01 1458414588   s3://file1.tgz.0...</td>\n",
              "    </tr>\n",
              "    <tr>\n",
              "      <th>4</th>\n",
              "      <td>bash</td>\n",
              "      <td>pkill /?\\n\\n[ws@RHDev ~]# pkill $(ps aux | gre...</td>\n",
              "    </tr>\n",
              "    <tr>\n",
              "      <th>...</th>\n",
              "      <td>...</td>\n",
              "      <td>...</td>\n",
              "    </tr>\n",
              "    <tr>\n",
              "      <th>29995</th>\n",
              "      <td>swift</td>\n",
              "      <td>/* Scale and crop image */\\nfunc imageByScalin...</td>\n",
              "    </tr>\n",
              "    <tr>\n",
              "      <th>29996</th>\n",
              "      <td>swift</td>\n",
              "      <td>import UIKit\\nimport MapKit\\n\\nclass ViewContr...</td>\n",
              "    </tr>\n",
              "    <tr>\n",
              "      <th>29997</th>\n",
              "      <td>swift</td>\n",
              "      <td>html\\nUIWebView\\nParseConfig\\nhtml\\nParseConfi...</td>\n",
              "    </tr>\n",
              "    <tr>\n",
              "      <th>29998</th>\n",
              "      <td>swift</td>\n",
              "      <td>var array1: [AnyObject!] = []\\n\\n    var key...</td>\n",
              "    </tr>\n",
              "    <tr>\n",
              "      <th>29999</th>\n",
              "      <td>swift</td>\n",
              "      <td>extension Array {\\n    public func second() -&gt;...</td>\n",
              "    </tr>\n",
              "  </tbody>\n",
              "</table>\n",
              "<p>30000 rows × 2 columns</p>\n",
              "</div>"
            ],
            "text/plain": [
              "      Language                                             Source\n",
              "0         bash  bash\\nalias tail_ls=\"ls -l $1 | tail\"\\n\\ntail_...\n",
              "1         bash  ERR_COUNT=`echo $VAR_WITH_TEXT | grep \"ERROR t...\n",
              "2         bash  SET JARS=^\\n./lib/apache-mime4j-0.6.jar;^\\n./l...\n",
              "3         bash  2010-02-20 21:01 1458414588   s3://file1.tgz.0...\n",
              "4         bash  pkill /?\\n\\n[ws@RHDev ~]# pkill $(ps aux | gre...\n",
              "...        ...                                                ...\n",
              "29995    swift  /* Scale and crop image */\\nfunc imageByScalin...\n",
              "29996    swift  import UIKit\\nimport MapKit\\n\\nclass ViewContr...\n",
              "29997    swift  html\\nUIWebView\\nParseConfig\\nhtml\\nParseConfi...\n",
              "29998    swift    var array1: [AnyObject!] = []\\n\\n    var key...\n",
              "29999    swift  extension Array {\\n    public func second() ->...\n",
              "\n",
              "[30000 rows x 2 columns]"
            ]
          },
          "metadata": {
            "tags": []
          },
          "execution_count": 6
        }
      ]
    },
    {
      "cell_type": "markdown",
      "metadata": {
        "id": "DTDlstsnAucz"
      },
      "source": [
        "### Describing Dataset part 1"
      ]
    },
    {
      "cell_type": "code",
      "metadata": {
        "colab": {
          "base_uri": "https://localhost:8080/",
          "height": 369
        },
        "id": "RfSBNcIVAqBR",
        "outputId": "d89d5ee9-f30f-4fdd-d563-ca998309968c"
      },
      "source": [
        "data.groupby('Language')['Source'].count().plot.bar(ylim=0,grid=False,color='#11100f')\n",
        "plt.xlabel('\\n languages')\n",
        "plt.ylabel('no of examples available')\n",
        "plt.title('Dataset')"
      ],
      "execution_count": null,
      "outputs": [
        {
          "output_type": "execute_result",
          "data": {
            "text/plain": [
              "Text(0.5, 1.0, 'Dataset')"
            ]
          },
          "metadata": {
            "tags": []
          },
          "execution_count": 7
        },
        {
          "output_type": "display_data",
          "data": {
            "image/png": "[encoded data removed]",
            "text/plain": [
              "<Figure size 432x288 with 1 Axes>"
            ]
          },
          "metadata": {
            "tags": [],
            "needs_background": "light"
          }
        }
      ]
    },
    {
      "cell_type": "code",
      "metadata": {
        "colab": {
          "base_uri": "https://localhost:8080/",
          "height": 314
        },
        "id": "CUhqBeTPBD-g",
        "outputId": "b976ef64-1c54-4d23-8afa-f28946f1138d"
      },
      "source": [
        "data.groupby('Language')['Source'].count().plot.pie(explode=[0.01+(0.053*i) for i in range(15)] )"
      ],
      "execution_count": null,
      "outputs": [
        {
          "output_type": "execute_result",
          "data": {
            "text/plain": [
              "<matplotlib.axes._subplots.AxesSubplot at 0x7f8e2f7acd30>"
            ]
          },
          "metadata": {
            "tags": []
          },
          "execution_count": 8
        },
        {
          "output_type": "display_data",
          "data": {
            "image/png": "[encoded data removed]",
            "text/plain": [
              "<Figure size 432x288 with 1 Axes>"
            ]
          },
          "metadata": {
            "tags": []
          }
        }
      ]
    },
    {
      "cell_type": "markdown",
      "metadata": {
        "id": "c3uNghBYA1tS"
      },
      "source": [
        "### Dataset is not clean "
      ]
    },
    {
      "cell_type": "markdown",
      "metadata": {
        "id": "9rPnbrH7A4hF"
      },
      "source": [
        "### PREPROCESSING OF DATASET USING REGULAR EXPRESSION AND NLTK"
      ]
    },
    {
      "cell_type": "code",
      "metadata": {
        "colab": {
          "base_uri": "https://localhost:8080/"
        },
        "id": "T-net_YbAzQ7",
        "outputId": "afd5ade5-deed-4d04-ea45-9bcd4fa25eb0"
      },
      "source": [
        "import nltk\n",
        "\n",
        "from nltk.corpus import stopwords\n",
        "from nltk.tokenize import word_tokenize\n",
        "\n",
        "nltk.download('stopwords')\n",
        "nltk.download('punkt')\n",
        "print('.....done')"
      ],
      "execution_count": null,
      "outputs": [
        {
          "output_type": "stream",
          "text": [
            "[nltk_data] Downloading package stopwords to /root/nltk_data...\n",
            "[nltk_data]   Unzipping corpora/stopwords.zip.\n",
            "[nltk_data] Downloading package punkt to /root/nltk_data...\n",
            "[nltk_data]   Unzipping tokenizers/punkt.zip.\n",
            ".....done\n"
          ],
          "name": "stdout"
        }
      ]
    },
    {
      "cell_type": "code",
      "metadata": {
        "colab": {
          "base_uri": "https://localhost:8080/"
        },
        "id": "M4cfCMulBAHG",
        "outputId": "3d81d40a-94c0-409b-c4e8-85eba156d1c3"
      },
      "source": [
        "import re\n",
        "stopwords_list = stopwords.words('english')\n",
        "print(len(stopwords_list))"
      ],
      "execution_count": null,
      "outputs": [
        {
          "output_type": "stream",
          "text": [
            "179\n"
          ],
          "name": "stdout"
        }
      ]
    },
    {
      "cell_type": "code",
      "metadata": {
        "colab": {
          "base_uri": "https://localhost:8080/"
        },
        "id": "2xQDN8prBjBa",
        "outputId": "ae5815e3-dc45-4d34-91ce-6e478d366cc5"
      },
      "source": [
        "stopwords_list.extend(['left','right','up','down','center','centre'])\n",
        "print(len(stopwords_list))"
      ],
      "execution_count": null,
      "outputs": [
        {
          "output_type": "stream",
          "text": [
            "185\n"
          ],
          "name": "stdout"
        }
      ]
    },
    {
      "cell_type": "code",
      "metadata": {
        "colab": {
          "base_uri": "https://localhost:8080/"
        },
        "id": "CxQjvkgwBz2I",
        "outputId": "e0eafb2c-bc9a-42e0-e751-21664b75367a"
      },
      "source": [
        "stopwords_list.extend(['bottom','start','end','price','location','fix','here'])\n",
        "print(len(stopwords_list))\n"
      ],
      "execution_count": null,
      "outputs": [
        {
          "output_type": "stream",
          "text": [
            "192\n"
          ],
          "name": "stdout"
        }
      ]
    },
    {
      "cell_type": "code",
      "metadata": {
        "colab": {
          "base_uri": "https://localhost:8080/"
        },
        "id": "btzc1JUTBJYR",
        "outputId": "9e0ca990-4449-417e-8388-07f7d8bc1b49"
      },
      "source": [
        "def expression1(text):\n",
        "    # remove single character\n",
        "\n",
        "    #removing url \n",
        "    text = re.sub(r\"http\\S+\", \"\", text)\n",
        "    text = re.sub(r'^https?://.*[\\r\\n]*', '', text, flags=re.MULTILINE)\n",
        "    text = re.sub(r'^http?://.*[\\r\\n]*', '', text, flags=re.MULTILINE)\n",
        "    text = re.sub(r'^www?://.*[\\r\\n]*', '', text, flags=re.MULTILINE)\n",
        "\n",
        "    text = ' '.join(['' if len(i)==1 else i for i in text.split()])\n",
        "    \n",
        "    # text = re.sub('{','',text)\n",
        "    # text = re.sub('}','',text)\n",
        "    \n",
        "    # to remove '(' , ' )' , '[' , ']' ... replaced with a space \n",
        "    # text = re.sub('\\\\(',' ',text)\n",
        "    # text = re.sub('\\\\)',' ',text)\n",
        "    # text = re.sub('\\\\[',' ',text)\n",
        "    # text = re.sub('\\\\]',' ',text)\n",
        "    # replace . with a space\n",
        "    # text = re.sub('\\\\.',' ',text)\n",
        "    \n",
        "    # remove unicode\n",
        "    \n",
        "    text = re.sub(r'(\\\\u[0-9A-Fa-f]+)',r'', text)       \n",
        "    text = re.sub(r'[^\\x00-\\x7f]',r'',text)\n",
        "    \n",
        "    # remove digits\n",
        "    text = re.sub('[0-9]',' ',text)\n",
        "    \n",
        "    #     remove + - * / < >\n",
        "    text = re.sub('\\\\+',' ',text)\n",
        "    text = re.sub('\\\\=',' ',text)\n",
        "    text = re.sub('\\\\-',' ',text)\n",
        "    text = re.sub('\\\\*',' ',text)\n",
        "    text = re.sub('\\\\/',' ',text)\n",
        "    # text = re.sub('\\\\<',' ',text)\n",
        "    # text = re.sub('\\\\>',' ',text)\n",
        "#     text = re.sub('\\\\:',' ',text)\n",
        "    \n",
        "#     text = text.replace(':',r' : ')\n",
        "    \n",
        "    \n",
        "    #     text = ' '.join(text.split())\n",
        "\n",
        "    # replace single chars again \n",
        "    text = ' '.join(['' if len(i)==1 else i for i in text.split()])\n",
        "    \n",
        "    # spacing quoted statement\n",
        "    text = re.sub('\"',' \" ',text)\n",
        "    # replace url\n",
        "\n",
        "    text = re.sub('((www\\.[^\\s]+)|(https?://[^\\s]+))',' ',text)\n",
        "        #Replaces url address with \"url\" \n",
        "    # text = re.sub('((www\\.[^\\s]+)|(https?://[^\\s]+))',' ',text)\n",
        "\t  # text = re.sub(r'#([^\\s]+)', r'\\1',text)\n",
        "\n",
        "    return text\n",
        "\n",
        "# def replaceURL(text):\n",
        "\n",
        "def clean_code(text):\n",
        "  text = expression1(text)\n",
        "  text_tokens = word_tokenize(text)\n",
        "  tokens_without_stopwords = [word for word in text_tokens if not word in stopwords_list] \n",
        "  # stopwords.words()]\n",
        "  return ' '.join(tokens_without_stopwords)\n",
        "\n",
        "print(\"TRY expresion1\")"
      ],
      "execution_count": null,
      "outputs": [
        {
          "output_type": "stream",
          "text": [
            "TRY expresion1\n"
          ],
          "name": "stdout"
        }
      ]
    },
    {
      "cell_type": "code",
      "metadata": {
        "colab": {
          "base_uri": "https://localhost:8080/"
        },
        "id": "upmKWgZhBXcU",
        "outputId": "d13f74eb-8332-4c40-f002-5580bed60fce"
      },
      "source": [
        "%%time\n",
        "\n",
        "line_7210 = data.iloc[15710]['Source']\n",
        "cleaned_7210 =  clean_code(line_7210)\n",
        "\n",
        "print(line_7210 , '\\n ->',len(line_7210))\n",
        "print('-'*60,'\\n\\n')\n",
        "print(cleaned_7210,'\\n ->',len(cleaned_7210))\n"
      ],
      "execution_count": null,
      "outputs": [
        {
          "output_type": "stream",
          "text": [
            "NSString *url = @\"http://stackoverflow.com/questions/ask\";\n",
            "\n",
            " \n",
            " -> 60\n",
            "------------------------------------------------------------ \n",
            "\n",
            "\n",
            "NSString url @ `` \n",
            " -> 17\n",
            "CPU times: user 8.33 ms, sys: 2.08 ms, total: 10.4 ms\n",
            "Wall time: 14.3 ms\n"
          ],
          "name": "stdout"
        }
      ]
    },
    {
      "cell_type": "markdown",
      "metadata": {
        "id": "gi_6oY0VCKHP"
      },
      "source": [
        "### Cleaning dataset"
      ]
    },
    {
      "cell_type": "code",
      "metadata": {
        "colab": {
          "base_uri": "https://localhost:8080/"
        },
        "id": "Qe5Xf1vTBbO6",
        "outputId": "10cfd16f-f066-4325-a15d-61b924b13cc4"
      },
      "source": [
        "%%time\n",
        "\n",
        "dataset_refined = data.copy()\n",
        "print('\\n\\n->created a copy')\n",
        "dataset_refined['Source'] =  dataset_refined['Source'].astype(str)\n",
        "print('\\n->as string')\n",
        "dataset_refined['Source'] =  dataset_refined['Source'].apply(clean_code)\n",
        "print('\\n->cleaned code with expression1')\n",
        "dataset_refined.to_csv('dataset/cleaned_data_1_v2.csv',index=None)\n",
        "print('\\n->saved cleaned csv , columns : ',dataset_refined.columns)\n",
        "\n",
        "print('done')"
      ],
      "execution_count": null,
      "outputs": [
        {
          "output_type": "stream",
          "text": [
            "\n",
            "\n",
            "->created a copy\n",
            "\n",
            "->as string\n",
            "\n",
            "->cleaned code with expression1\n",
            "\n",
            "->saved cleaned csv , columns :  Index(['Language', 'Source'], dtype='object')\n",
            "done\n",
            "CPU times: user 23.9 s, sys: 34.8 ms, total: 23.9 s\n",
            "Wall time: 23.9 s\n"
          ],
          "name": "stdout"
        }
      ]
    },
    {
      "cell_type": "code",
      "metadata": {
        "colab": {
          "base_uri": "https://localhost:8080/"
        },
        "id": "D3GfWin1CMWb",
        "outputId": "c07c92b8-d6d1-432d-84c5-0305d0a880d3"
      },
      "source": [
        "%%time\n",
        "print('reading cleaned dataset')\n",
        "df = pd.read_csv('/content/dataset/cleaned_data_1_v2.csv')"
      ],
      "execution_count": null,
      "outputs": [
        {
          "output_type": "stream",
          "text": [
            "reading cleaned dataset\n",
            "CPU times: user 116 ms, sys: 24.1 ms, total: 140 ms\n",
            "Wall time: 143 ms\n"
          ],
          "name": "stdout"
        }
      ]
    },
    {
      "cell_type": "code",
      "metadata": {
        "colab": {
          "base_uri": "https://localhost:8080/",
          "height": 419
        },
        "id": "phvE21HhCSMj",
        "outputId": "6ba7cbbc-ebcc-41f7-eccf-70622343ef95"
      },
      "source": [
        "df"
      ],
      "execution_count": null,
      "outputs": [
        {
          "output_type": "execute_result",
          "data": {
            "text/html": [
              "<div>\n",
              "<style scoped>\n",
              "    .dataframe tbody tr th:only-of-type {\n",
              "        vertical-align: middle;\n",
              "    }\n",
              "\n",
              "    .dataframe tbody tr th {\n",
              "        vertical-align: top;\n",
              "    }\n",
              "\n",
              "    .dataframe thead th {\n",
              "        text-align: right;\n",
              "    }\n",
              "</style>\n",
              "<table border=\"1\" class=\"dataframe\">\n",
              "  <thead>\n",
              "    <tr style=\"text-align: right;\">\n",
              "      <th></th>\n",
              "      <th>Language</th>\n",
              "      <th>Source</th>\n",
              "    </tr>\n",
              "  </thead>\n",
              "  <tbody>\n",
              "    <tr>\n",
              "      <th>0</th>\n",
              "      <td>bash</td>\n",
              "      <td>bash alias tail_ls `` ls tail `` tail_ls etc</td>\n",
              "    </tr>\n",
              "    <tr>\n",
              "      <th>1</th>\n",
              "      <td>bash</td>\n",
              "      <td>ERR_COUNT `echo $ VAR_WITH_TEXT grep `` ERROR ...</td>\n",
              "    </tr>\n",
              "    <tr>\n",
              "      <th>2</th>\n",
              "      <td>bash</td>\n",
              "      <td>SET JARS lib apache mime .jar ; ^ lib apache m...</td>\n",
              "    </tr>\n",
              "    <tr>\n",
              "      <th>3</th>\n",
              "      <td>bash</td>\n",
              "      <td>file .tgz . &lt; br &gt; file .tgz . &lt; br &gt; file .tg...</td>\n",
              "    </tr>\n",
              "    <tr>\n",
              "      <th>4</th>\n",
              "      <td>bash</td>\n",
              "      <td>pkill [ ws @ RHDev ~ ] # pkill $ ( ps aux grep...</td>\n",
              "    </tr>\n",
              "    <tr>\n",
              "      <th>...</th>\n",
              "      <td>...</td>\n",
              "      <td>...</td>\n",
              "    </tr>\n",
              "    <tr>\n",
              "      <th>29995</th>\n",
              "      <td>swift</td>\n",
              "      <td>Scale crop image func imageByScalingAndCroppin...</td>\n",
              "    </tr>\n",
              "    <tr>\n",
              "      <th>29996</th>\n",
              "      <td>swift</td>\n",
              "      <td>import UIKit import MapKit class ViewControlle...</td>\n",
              "    </tr>\n",
              "    <tr>\n",
              "      <th>29997</th>\n",
              "      <td>swift</td>\n",
              "      <td>html UIWebView ParseConfig html ParseConfig UR...</td>\n",
              "    </tr>\n",
              "    <tr>\n",
              "      <th>29998</th>\n",
              "      <td>swift</td>\n",
              "      <td>var array [ AnyObject ! ] [ ] var key `` keySa...</td>\n",
              "    </tr>\n",
              "    <tr>\n",
              "      <th>29999</th>\n",
              "      <td>swift</td>\n",
              "      <td>extension Array public func second ( ) T ? ret...</td>\n",
              "    </tr>\n",
              "  </tbody>\n",
              "</table>\n",
              "<p>30000 rows × 2 columns</p>\n",
              "</div>"
            ],
            "text/plain": [
              "      Language                                             Source\n",
              "0         bash       bash alias tail_ls `` ls tail `` tail_ls etc\n",
              "1         bash  ERR_COUNT `echo $ VAR_WITH_TEXT grep `` ERROR ...\n",
              "2         bash  SET JARS lib apache mime .jar ; ^ lib apache m...\n",
              "3         bash  file .tgz . < br > file .tgz . < br > file .tg...\n",
              "4         bash  pkill [ ws @ RHDev ~ ] # pkill $ ( ps aux grep...\n",
              "...        ...                                                ...\n",
              "29995    swift  Scale crop image func imageByScalingAndCroppin...\n",
              "29996    swift  import UIKit import MapKit class ViewControlle...\n",
              "29997    swift  html UIWebView ParseConfig html ParseConfig UR...\n",
              "29998    swift  var array [ AnyObject ! ] [ ] var key `` keySa...\n",
              "29999    swift  extension Array public func second ( ) T ? ret...\n",
              "\n",
              "[30000 rows x 2 columns]"
            ]
          },
          "metadata": {
            "tags": []
          },
          "execution_count": 17
        }
      ]
    },
    {
      "cell_type": "code",
      "metadata": {
        "colab": {
          "base_uri": "https://localhost:8080/"
        },
        "id": "NYMQstoQCS8Y",
        "outputId": "2a5eb30d-0442-4b77-bcee-c1c66a0849b9"
      },
      "source": [
        "%%time\n",
        "\n",
        "df[\"lang_id\"] = df['Language'].factorize()[0]\n",
        "print('>>> lang id created')\n",
        "lang_id_df = df[['Language', 'lang_id']].drop_duplicates().sort_values('lang_id')\n",
        "print('>>> added to dataframe')\n",
        "lang_to_id = dict(lang_id_df.values)\n",
        "id_to_lang = dict(lang_id_df[['lang_id', 'Language']].values)\n",
        "print('>>> now columns : ',df.columns)"
      ],
      "execution_count": null,
      "outputs": [
        {
          "output_type": "stream",
          "text": [
            ">>> lang id created\n",
            ">>> added to dataframe\n",
            ">>> now columns :  Index(['Language', 'Source', 'lang_id'], dtype='object')\n",
            "CPU times: user 12.6 ms, sys: 0 ns, total: 12.6 ms\n",
            "Wall time: 13.9 ms\n"
          ],
          "name": "stdout"
        }
      ]
    },
    {
      "cell_type": "code",
      "metadata": {
        "colab": {
          "base_uri": "https://localhost:8080/",
          "height": 419
        },
        "id": "EB88zSYUCZBY",
        "outputId": "4719e82e-198a-4de6-b28c-048ef6253574"
      },
      "source": [
        "df"
      ],
      "execution_count": null,
      "outputs": [
        {
          "output_type": "execute_result",
          "data": {
            "text/html": [
              "<div>\n",
              "<style scoped>\n",
              "    .dataframe tbody tr th:only-of-type {\n",
              "        vertical-align: middle;\n",
              "    }\n",
              "\n",
              "    .dataframe tbody tr th {\n",
              "        vertical-align: top;\n",
              "    }\n",
              "\n",
              "    .dataframe thead th {\n",
              "        text-align: right;\n",
              "    }\n",
              "</style>\n",
              "<table border=\"1\" class=\"dataframe\">\n",
              "  <thead>\n",
              "    <tr style=\"text-align: right;\">\n",
              "      <th></th>\n",
              "      <th>Language</th>\n",
              "      <th>Source</th>\n",
              "      <th>lang_id</th>\n",
              "    </tr>\n",
              "  </thead>\n",
              "  <tbody>\n",
              "    <tr>\n",
              "      <th>0</th>\n",
              "      <td>bash</td>\n",
              "      <td>bash alias tail_ls `` ls tail `` tail_ls etc</td>\n",
              "      <td>0</td>\n",
              "    </tr>\n",
              "    <tr>\n",
              "      <th>1</th>\n",
              "      <td>bash</td>\n",
              "      <td>ERR_COUNT `echo $ VAR_WITH_TEXT grep `` ERROR ...</td>\n",
              "      <td>0</td>\n",
              "    </tr>\n",
              "    <tr>\n",
              "      <th>2</th>\n",
              "      <td>bash</td>\n",
              "      <td>SET JARS lib apache mime .jar ; ^ lib apache m...</td>\n",
              "      <td>0</td>\n",
              "    </tr>\n",
              "    <tr>\n",
              "      <th>3</th>\n",
              "      <td>bash</td>\n",
              "      <td>file .tgz . &lt; br &gt; file .tgz . &lt; br &gt; file .tg...</td>\n",
              "      <td>0</td>\n",
              "    </tr>\n",
              "    <tr>\n",
              "      <th>4</th>\n",
              "      <td>bash</td>\n",
              "      <td>pkill [ ws @ RHDev ~ ] # pkill $ ( ps aux grep...</td>\n",
              "      <td>0</td>\n",
              "    </tr>\n",
              "    <tr>\n",
              "      <th>...</th>\n",
              "      <td>...</td>\n",
              "      <td>...</td>\n",
              "      <td>...</td>\n",
              "    </tr>\n",
              "    <tr>\n",
              "      <th>29995</th>\n",
              "      <td>swift</td>\n",
              "      <td>Scale crop image func imageByScalingAndCroppin...</td>\n",
              "      <td>14</td>\n",
              "    </tr>\n",
              "    <tr>\n",
              "      <th>29996</th>\n",
              "      <td>swift</td>\n",
              "      <td>import UIKit import MapKit class ViewControlle...</td>\n",
              "      <td>14</td>\n",
              "    </tr>\n",
              "    <tr>\n",
              "      <th>29997</th>\n",
              "      <td>swift</td>\n",
              "      <td>html UIWebView ParseConfig html ParseConfig UR...</td>\n",
              "      <td>14</td>\n",
              "    </tr>\n",
              "    <tr>\n",
              "      <th>29998</th>\n",
              "      <td>swift</td>\n",
              "      <td>var array [ AnyObject ! ] [ ] var key `` keySa...</td>\n",
              "      <td>14</td>\n",
              "    </tr>\n",
              "    <tr>\n",
              "      <th>29999</th>\n",
              "      <td>swift</td>\n",
              "      <td>extension Array public func second ( ) T ? ret...</td>\n",
              "      <td>14</td>\n",
              "    </tr>\n",
              "  </tbody>\n",
              "</table>\n",
              "<p>30000 rows × 3 columns</p>\n",
              "</div>"
            ],
            "text/plain": [
              "      Language                                             Source  lang_id\n",
              "0         bash       bash alias tail_ls `` ls tail `` tail_ls etc        0\n",
              "1         bash  ERR_COUNT `echo $ VAR_WITH_TEXT grep `` ERROR ...        0\n",
              "2         bash  SET JARS lib apache mime .jar ; ^ lib apache m...        0\n",
              "3         bash  file .tgz . < br > file .tgz . < br > file .tg...        0\n",
              "4         bash  pkill [ ws @ RHDev ~ ] # pkill $ ( ps aux grep...        0\n",
              "...        ...                                                ...      ...\n",
              "29995    swift  Scale crop image func imageByScalingAndCroppin...       14\n",
              "29996    swift  import UIKit import MapKit class ViewControlle...       14\n",
              "29997    swift  html UIWebView ParseConfig html ParseConfig UR...       14\n",
              "29998    swift  var array [ AnyObject ! ] [ ] var key `` keySa...       14\n",
              "29999    swift  extension Array public func second ( ) T ? ret...       14\n",
              "\n",
              "[30000 rows x 3 columns]"
            ]
          },
          "metadata": {
            "tags": []
          },
          "execution_count": 19
        }
      ]
    },
    {
      "cell_type": "code",
      "metadata": {
        "colab": {
          "base_uri": "https://localhost:8080/"
        },
        "id": "TIcngnQ2lXi0",
        "outputId": "29a6edb9-86f5-4705-b2cd-74c34d8b6165"
      },
      "source": [
        "cleaned_df = df.dropna().copy()\n",
        "len(cleaned_df)"
      ],
      "execution_count": null,
      "outputs": [
        {
          "output_type": "execute_result",
          "data": {
            "text/plain": [
              "29868"
            ]
          },
          "metadata": {
            "tags": []
          },
          "execution_count": 20
        }
      ]
    },
    {
      "cell_type": "code",
      "metadata": {
        "colab": {
          "base_uri": "https://localhost:8080/",
          "height": 369
        },
        "id": "Qrw5UKZmlexR",
        "outputId": "1b785cab-ba17-485e-f2bd-aced304c56db"
      },
      "source": [
        "cleaned_df.groupby('Language')['Source'].count().plot.bar(ylim=0,grid=False,color='#11100f')\n",
        "plt.xlabel('\\n languages')\n",
        "plt.ylabel('no of examples available')\n",
        "plt.title('Dataset')"
      ],
      "execution_count": null,
      "outputs": [
        {
          "output_type": "execute_result",
          "data": {
            "text/plain": [
              "Text(0.5, 1.0, 'Dataset')"
            ]
          },
          "metadata": {
            "tags": []
          },
          "execution_count": 21
        },
        {
          "output_type": "display_data",
          "data": {
            "image/png": "[encoded data removed]",
            "text/plain": [
              "<Figure size 432x288 with 1 Axes>"
            ]
          },
          "metadata": {
            "tags": [],
            "needs_background": "light"
          }
        }
      ]
    },
    {
      "cell_type": "markdown",
      "metadata": {
        "id": "VJIOdtnKCetz"
      },
      "source": [
        "### Training test split"
      ]
    },
    {
      "cell_type": "code",
      "metadata": {
        "colab": {
          "base_uri": "https://localhost:8080/"
        },
        "id": "-pQoD6QUCalf",
        "outputId": "c96bdca1-8a2b-4938-bfc1-414c7ddd484e"
      },
      "source": [
        "mask = np.random.rand(len(cleaned_df)) > 0.19\n",
        "print('mask created',type(mask))"
      ],
      "execution_count": null,
      "outputs": [
        {
          "output_type": "stream",
          "text": [
            "mask created <class 'numpy.ndarray'>\n"
          ],
          "name": "stdout"
        }
      ]
    },
    {
      "cell_type": "code",
      "metadata": {
        "colab": {
          "base_uri": "https://localhost:8080/"
        },
        "id": "zYOhqicyChNw",
        "outputId": "72f4e61f-b55b-4249-fbc6-49d6d6d972b8"
      },
      "source": [
        "data_1 = cleaned_df[mask]\n",
        "data_2 = cleaned_df[~mask]\n",
        "print('created two halves')\n",
        "print('1st -->',len(data_1) , '\\n 2nd-->', len(data_2))"
      ],
      "execution_count": null,
      "outputs": [
        {
          "output_type": "stream",
          "text": [
            "created two halves\n",
            "1st --> 24226 \n",
            " 2nd--> 5642\n"
          ],
          "name": "stdout"
        }
      ]
    },
    {
      "cell_type": "code",
      "metadata": {
        "colab": {
          "base_uri": "https://localhost:8080/",
          "height": 369
        },
        "id": "ek9FQV4cCi-D",
        "outputId": "81630e5e-8b67-41da-e1ac-404c2adf94f6"
      },
      "source": [
        "data_1.groupby('Language')['Source'].count().plot.bar(ylim=0,grid=True,color='#f68222')\n",
        "plt.xlabel('\\n languages')\n",
        "plt.ylabel('no of examples available')\n",
        "plt.title('Dataset_part_1 - FOR TRAINING')"
      ],
      "execution_count": null,
      "outputs": [
        {
          "output_type": "execute_result",
          "data": {
            "text/plain": [
              "Text(0.5, 1.0, 'Dataset_part_1 - FOR TRAINING')"
            ]
          },
          "metadata": {
            "tags": []
          },
          "execution_count": 25
        },
        {
          "output_type": "display_data",
          "data": {
            "image/png": "[encoded data removed]",
            "text/plain": [
              "<Figure size 432x288 with 1 Axes>"
            ]
          },
          "metadata": {
            "tags": [],
            "needs_background": "light"
          }
        }
      ]
    },
    {
      "cell_type": "code",
      "metadata": {
        "colab": {
          "base_uri": "https://localhost:8080/",
          "height": 369
        },
        "id": "ObBsWnfsCkrx",
        "outputId": "40e5efed-49e9-4b8b-f905-c2e28f4c92fc"
      },
      "source": [
        "data_2.groupby('Language')['Source'].count().plot.bar(ylim=0,grid=True,color='#f0171c')\n",
        "plt.xlabel('\\n languages')\n",
        "plt.ylabel('no of examples available')\n",
        "plt.title('Dataset_part_2 - FOR TESTING')"
      ],
      "execution_count": null,
      "outputs": [
        {
          "output_type": "execute_result",
          "data": {
            "text/plain": [
              "Text(0.5, 1.0, 'Dataset_part_2 - FOR TESTING')"
            ]
          },
          "metadata": {
            "tags": []
          },
          "execution_count": 26
        },
        {
          "output_type": "display_data",
          "data": {
            "image/png": "[encoded data removed]",
            "text/plain": [
              "<Figure size 432x288 with 1 Axes>"
            ]
          },
          "metadata": {
            "tags": [],
            "needs_background": "light"
          }
        }
      ]
    },
    {
      "cell_type": "code",
      "metadata": {
        "id": "089G_6DwCmzZ"
      },
      "source": [
        "import tensorflow as tf"
      ],
      "execution_count": null,
      "outputs": []
    },
    {
      "cell_type": "markdown",
      "metadata": {
        "id": "F1YBA2ayar-r"
      },
      "source": [
        "### Tokenizing"
      ]
    },
    {
      "cell_type": "code",
      "metadata": {
        "id": "oiJW0LDwCpIv"
      },
      "source": [
        "from tensorflow.keras.preprocessing.text import Tokenizer\n",
        "from tensorflow.keras.preprocessing.sequence import pad_sequences"
      ],
      "execution_count": null,
      "outputs": []
    },
    {
      "cell_type": "code",
      "metadata": {
        "id": "CaInhikBCquC"
      },
      "source": [
        "\n",
        "vocab_size = 10000\n",
        "trunc_type='post'\n",
        "oov_tok = \"<OOV>\"\n"
      ],
      "execution_count": null,
      "outputs": []
    },
    {
      "cell_type": "code",
      "metadata": {
        "id": "wJ23VdBQDgOL",
        "colab": {
          "base_uri": "https://localhost:8080/"
        },
        "outputId": "d799a509-7943-4e44-8c2c-78b4392ae5aa"
      },
      "source": [
        "\n",
        "# tokenizer = Tokenizer(num_words = vocab_size, oov_token=oov_tok)\n",
        "# print('Tokenizer created')\n",
        "print('using tokenizer trained in previous notebooks')\n",
        "\n",
        "!cp '/content/drive/My Drive/datasets/LanguageDataset/final_changes/DL_models/tokenizer_Jan5_v3.pickle' '/content/dataset'\n",
        "\n",
        "!echo done"
      ],
      "execution_count": null,
      "outputs": [
        {
          "output_type": "stream",
          "text": [
            "using tokenizer trained in previous notebooks\n",
            "done\n"
          ],
          "name": "stdout"
        }
      ]
    },
    {
      "cell_type": "code",
      "metadata": {
        "colab": {
          "base_uri": "https://localhost:8080/"
        },
        "id": "teRmOz08l642",
        "outputId": "cf5600c0-998f-42b4-d211-3eefb60832d2"
      },
      "source": [
        "import pickle\n",
        "print('loading pickle')\n",
        "# loading\n",
        "with open('/content/dataset/tokenizer_Jan5_v3.pickle', 'rb') as handle:\n",
        "    tokenizer = pickle.load(handle)\n",
        "\n",
        "print('loaded',type(tokenizer))\n"
      ],
      "execution_count": null,
      "outputs": [
        {
          "output_type": "stream",
          "text": [
            "loading pickle\n",
            "loaded <class 'keras_preprocessing.text.Tokenizer'>\n"
          ],
          "name": "stdout"
        }
      ]
    },
    {
      "cell_type": "code",
      "metadata": {
        "id": "11WDZ2tiDo8R",
        "colab": {
          "base_uri": "https://localhost:8080/"
        },
        "outputId": "903596dd-b178-4264-a2b9-a756b8644776"
      },
      "source": [
        "# print('fitting on training sentences\\n.\\n.')\n",
        "\n",
        "# tokenizer.fit_on_texts(data_1['Source'].values.astype('U'))\n",
        "\n",
        "# print('.\\n.\\n.\\nfitted on training sentences')\n",
        "tokenizer"
      ],
      "execution_count": null,
      "outputs": [
        {
          "output_type": "execute_result",
          "data": {
            "text/plain": [
              "<keras_preprocessing.text.Tokenizer at 0x7f8e17a4a128>"
            ]
          },
          "metadata": {
            "tags": []
          },
          "execution_count": 33
        }
      ]
    },
    {
      "cell_type": "code",
      "metadata": {
        "id": "-8rxt6J6EC8Z",
        "colab": {
          "base_uri": "https://localhost:8080/"
        },
        "outputId": "4113e89f-fe63-4200-c165-c5b886b8acc1"
      },
      "source": [
        "word_index = tokenizer.word_index\n",
        "print('len of word index',len(word_index))"
      ],
      "execution_count": null,
      "outputs": [
        {
          "output_type": "stream",
          "text": [
            "len of word index 80691\n"
          ],
          "name": "stdout"
        }
      ]
    },
    {
      "cell_type": "code",
      "metadata": {
        "id": "mNm7D3QFEEyM"
      },
      "source": [
        "# # %%time\n",
        "\n",
        "# # import pickle\n",
        "\n",
        "# # # saving\n",
        "# # with open('tokenizer_model1_run2.pickle', 'wb') as handle:\n",
        "# #     pickle.dump(tokenizer, handle, protocol=pickle.HIGHEST_PROTOCOL)\n",
        "# # print('saved')\n",
        "# %%time\n",
        "\n",
        "# import pickle\n",
        "\n",
        "# # saving\n",
        "# with open('tokenizer_Jan5_model2.pickle', 'wb') as handle:\n",
        "#     pickle.dump(tokenizer, handle, protocol=pickle.HIGHEST_PROTOCOL)\n",
        "# print('saved')"
      ],
      "execution_count": null,
      "outputs": []
    },
    {
      "cell_type": "markdown",
      "metadata": {
        "id": "lMY-q1ytEJso"
      },
      "source": [
        "## copy to drive"
      ]
    },
    {
      "cell_type": "code",
      "metadata": {
        "id": "_zS5OA3EEJcH"
      },
      "source": [
        "# !cp '/content/tokenizer_Jan5_model2.pickle' '/content/drive/My Drive/datasets/LanguageDataset/final_changes/DL_models'\n",
        "# !echo done"
      ],
      "execution_count": null,
      "outputs": []
    },
    {
      "cell_type": "markdown",
      "metadata": {
        "id": "P9u57oEbEVme"
      },
      "source": [
        "#### Convert training sentences to sequences"
      ]
    },
    {
      "cell_type": "code",
      "metadata": {
        "id": "UrjLZFKnEf6N"
      },
      "source": [
        "max_length = 1000\n",
        "trunc_type='post'"
      ],
      "execution_count": null,
      "outputs": []
    },
    {
      "cell_type": "code",
      "metadata": {
        "id": "By0O9L02EThr",
        "colab": {
          "base_uri": "https://localhost:8080/"
        },
        "outputId": "1aecdc03-a8eb-4fa4-931c-9ea207aeb9ed"
      },
      "source": [
        "%%time\n",
        "print('converting training data')\n",
        "X_train = tokenizer.texts_to_sequences(data_1['Source'].values.astype('U'))\n",
        "print(' .... converted text to sequences' , type(X_train),'\\n ')\n",
        "print('-'*70)\n",
        "\n",
        "X_train_padded = pad_sequences(X_train,maxlen=max_length, truncating=trunc_type)\n",
        "\n",
        "print('sequence padded to ',X_train_padded.shape)"
      ],
      "execution_count": null,
      "outputs": [
        {
          "output_type": "stream",
          "text": [
            "converting training data\n",
            " .... converted text to sequences <class 'list'> \n",
            " \n",
            "----------------------------------------------------------------------\n",
            "sequence padded to  (24226, 1000)\n",
            "CPU times: user 4.14 s, sys: 1.38 s, total: 5.52 s\n",
            "Wall time: 5.53 s\n"
          ],
          "name": "stdout"
        }
      ]
    },
    {
      "cell_type": "markdown",
      "metadata": {
        "id": "QFCbQ1IbEqb1"
      },
      "source": [
        "### Converting testing sentences to sequenes"
      ]
    },
    {
      "cell_type": "code",
      "metadata": {
        "id": "e2_SjDv3EuTS",
        "colab": {
          "base_uri": "https://localhost:8080/"
        },
        "outputId": "565f4a97-4f87-4b2c-c6a9-55b218919042"
      },
      "source": [
        "%%time\n",
        "\n",
        "X_test = tokenizer.texts_to_sequences(data_2['Source'].values.astype('U'))\n",
        "print('..converted text to sequences' , type(X_test),'\\n ')\n",
        "print('-'*70)\n",
        "X_test_padded = pad_sequences(X_test,maxlen=max_length, truncating=trunc_type)\n",
        "print('sequence padded to ',X_test_padded.shape)"
      ],
      "execution_count": null,
      "outputs": [
        {
          "output_type": "stream",
          "text": [
            "..converted text to sequences <class 'list'> \n",
            " \n",
            "----------------------------------------------------------------------\n",
            "sequence padded to  (5642, 1000)\n",
            "CPU times: user 621 ms, sys: 10 ms, total: 631 ms\n",
            "Wall time: 632 ms\n"
          ],
          "name": "stdout"
        }
      ]
    },
    {
      "cell_type": "markdown",
      "metadata": {
        "id": "dAVqV1cKE0JV"
      },
      "source": [
        "## Preparing labels"
      ]
    },
    {
      "cell_type": "markdown",
      "metadata": {
        "id": "-T--2lxtE2gl"
      },
      "source": [
        "### Training labels"
      ]
    },
    {
      "cell_type": "code",
      "metadata": {
        "id": "f6eeJ5b5Ezro",
        "colab": {
          "base_uri": "https://localhost:8080/"
        },
        "outputId": "5c844e5f-5cc5-469f-e82b-2e03d194e74e"
      },
      "source": [
        "Y_train = pd.get_dummies(data_1['Language'].values.astype('U'))\n",
        "print('and Y : ',type(Y_train))\n",
        "y_train = np.asarray(Y_train)\n",
        "print(X_train_padded.shape , y_train.shape)"
      ],
      "execution_count": null,
      "outputs": [
        {
          "output_type": "stream",
          "text": [
            "and Y :  <class 'pandas.core.frame.DataFrame'>\n",
            "(24226, 1000) (24226, 15)\n"
          ],
          "name": "stdout"
        }
      ]
    },
    {
      "cell_type": "markdown",
      "metadata": {
        "id": "Gn8W8VdKE9Cu"
      },
      "source": [
        "### Testing labels"
      ]
    },
    {
      "cell_type": "code",
      "metadata": {
        "id": "8feOVGTrE_KB",
        "colab": {
          "base_uri": "https://localhost:8080/"
        },
        "outputId": "07dcdbbb-11fd-4d99-beb4-92aab0777be2"
      },
      "source": [
        "Y_test = pd.get_dummies(data_2['Language'].values.astype('U'))\n",
        "print('and Y : ',type(Y_test))\n",
        "y_test = np.asarray(Y_test)\n",
        "print(X_test_padded.shape , y_test.shape)"
      ],
      "execution_count": null,
      "outputs": [
        {
          "output_type": "stream",
          "text": [
            "and Y :  <class 'pandas.core.frame.DataFrame'>\n",
            "(5642, 1000) (5642, 15)\n"
          ],
          "name": "stdout"
        }
      ]
    },
    {
      "cell_type": "markdown",
      "metadata": {
        "id": "e2V9_AXwExYh"
      },
      "source": [
        "### Creating the model"
      ]
    },
    {
      "cell_type": "code",
      "metadata": {
        "colab": {
          "base_uri": "https://localhost:8080/"
        },
        "id": "12K40Rfsa8fc",
        "outputId": "6290e697-f688-46be-ae29-856cab3bd1a8"
      },
      "source": [
        "my_model4 = tf.keras.models.Sequential()\n",
        "print('model created now add layers')"
      ],
      "execution_count": null,
      "outputs": [
        {
          "output_type": "stream",
          "text": [
            "model created now add layers\n"
          ],
          "name": "stdout"
        }
      ]
    },
    {
      "cell_type": "code",
      "metadata": {
        "colab": {
          "base_uri": "https://localhost:8080/"
        },
        "id": "klDefcaRbAOt",
        "outputId": "5e8daa54-0192-40e9-aed5-5a1037ee5b62"
      },
      "source": [
        "# my_model.add(tf.keras.layers.Input(input_shape=2215))\n",
        "my_model4.add(tf.keras.layers.InputLayer(input_shape=max_length,dtype=tf.int32))\n",
        "print('\\n --> added input layer with max sequence max_features = ',max_length)\n",
        "my_model4.summary()\n",
        "# print('added input layer')"
      ],
      "execution_count": null,
      "outputs": [
        {
          "output_type": "stream",
          "text": [
            "\n",
            " --> added input layer with max sequence max_features =  1000\n",
            "Model: \"sequential\"\n",
            "_________________________________________________________________\n",
            "Layer (type)                 Output Shape              Param #   \n",
            "=================================================================\n",
            "Total params: 0\n",
            "Trainable params: 0\n",
            "Non-trainable params: 0\n",
            "_________________________________________________________________\n"
          ],
          "name": "stdout"
        }
      ]
    },
    {
      "cell_type": "code",
      "metadata": {
        "colab": {
          "base_uri": "https://localhost:8080/"
        },
        "id": "cDupiLpBbCG4",
        "outputId": "7614bb2a-5bfd-4bb0-81d4-a4ce25f768f5"
      },
      "source": [
        "t = len(tokenizer.word_index)\n",
        "t , t**(0.25)"
      ],
      "execution_count": null,
      "outputs": [
        {
          "output_type": "execute_result",
          "data": {
            "text/plain": [
              "(80691, 16.854127477710584)"
            ]
          },
          "metadata": {
            "tags": []
          },
          "execution_count": 44
        }
      ]
    },
    {
      "cell_type": "markdown",
      "metadata": {
        "id": "bLU2wm66bGAH"
      },
      "source": [
        "### embedding dim 32"
      ]
    },
    {
      "cell_type": "code",
      "metadata": {
        "id": "Sfs0RLoBbEI_"
      },
      "source": [
        "embed_dim = 32"
      ],
      "execution_count": null,
      "outputs": []
    },
    {
      "cell_type": "code",
      "metadata": {
        "colab": {
          "base_uri": "https://localhost:8080/"
        },
        "id": "8uwoR62zbImw",
        "outputId": "9539e600-944e-4a0f-a885-b21c9238d0eb"
      },
      "source": [
        "my_model4.add(tf.keras.layers.Embedding(vocab_size, embed_dim,input_length = max_length))\n",
        "print('\\n-->added embedding layer with vocab size = ',vocab_size,'embed dim = ',embed_dim,'\\n')\n",
        "my_model4.summary()"
      ],
      "execution_count": null,
      "outputs": [
        {
          "output_type": "stream",
          "text": [
            "\n",
            "-->added embedding layer with vocab size =  10000 embed dim =  32 \n",
            "\n",
            "Model: \"sequential\"\n",
            "_________________________________________________________________\n",
            "Layer (type)                 Output Shape              Param #   \n",
            "=================================================================\n",
            "embedding (Embedding)        (None, 1000, 32)          320000    \n",
            "=================================================================\n",
            "Total params: 320,000\n",
            "Trainable params: 320,000\n",
            "Non-trainable params: 0\n",
            "_________________________________________________________________\n"
          ],
          "name": "stdout"
        }
      ]
    },
    {
      "cell_type": "code",
      "metadata": {
        "colab": {
          "base_uri": "https://localhost:8080/"
        },
        "id": "6FnSbmBHbKrS",
        "outputId": "ab999d19-0004-424d-8324-7b09564dbaae"
      },
      "source": [
        "# model.add(Conv1D(filters=128, kernel_size=3, padding='same', dilation_rate=1,activation='relu'))\n",
        "my_model4.add(tf.keras.layers.Conv1D(128 , 5, padding='valid',kernel_initializer='random_normal'))\n",
        "print('.\\n.\\n.\\n-->added conv1d layer with 128 filters size = 3, valid padding  ,random_normal initializer')\n",
        "my_model4.add(tf.keras.layers.MaxPool1D(pool_size=5))\n",
        "print('added pool layer')\n",
        "my_model4.add(tf.keras.layers.BatchNormalization())\n",
        "print('added batch norm layer')\n",
        "my_model4.add(tf.keras.layers.Activation('relu'))\n",
        "print('added relu activation layer')\n",
        "my_model4.summary()"
      ],
      "execution_count": null,
      "outputs": [
        {
          "output_type": "stream",
          "text": [
            ".\n",
            ".\n",
            ".\n",
            "-->added conv1d layer with 128 filters size = 3, valid padding  ,random_normal initializer\n",
            "added pool layer\n",
            "added batch norm layer\n",
            "added relu activation layer\n",
            "Model: \"sequential\"\n",
            "_________________________________________________________________\n",
            "Layer (type)                 Output Shape              Param #   \n",
            "=================================================================\n",
            "embedding (Embedding)        (None, 1000, 32)          320000    \n",
            "_________________________________________________________________\n",
            "conv1d (Conv1D)              (None, 996, 128)          20608     \n",
            "_________________________________________________________________\n",
            "max_pooling1d (MaxPooling1D) (None, 199, 128)          0         \n",
            "_________________________________________________________________\n",
            "batch_normalization (BatchNo (None, 199, 128)          512       \n",
            "_________________________________________________________________\n",
            "activation (Activation)      (None, 199, 128)          0         \n",
            "=================================================================\n",
            "Total params: 341,120\n",
            "Trainable params: 340,864\n",
            "Non-trainable params: 256\n",
            "_________________________________________________________________\n"
          ],
          "name": "stdout"
        }
      ]
    },
    {
      "cell_type": "code",
      "metadata": {
        "colab": {
          "base_uri": "https://localhost:8080/"
        },
        "id": "_ywk4F_VmgGD",
        "outputId": "8eb94848-6266-4c6a-e2f8-b9c293aac88a"
      },
      "source": [
        "lstm_out = 64\n",
        "my_model4.add(tf.keras.layers.LSTM(lstm_out))\n",
        "print('added LSTM layer with units = ',lstm_out)\n",
        "my_model4.summary()"
      ],
      "execution_count": null,
      "outputs": [
        {
          "output_type": "stream",
          "text": [
            "added LSTM layer with units =  64\n",
            "Model: \"sequential\"\n",
            "_________________________________________________________________\n",
            "Layer (type)                 Output Shape              Param #   \n",
            "=================================================================\n",
            "embedding (Embedding)        (None, 1000, 32)          320000    \n",
            "_________________________________________________________________\n",
            "conv1d (Conv1D)              (None, 996, 128)          20608     \n",
            "_________________________________________________________________\n",
            "max_pooling1d (MaxPooling1D) (None, 199, 128)          0         \n",
            "_________________________________________________________________\n",
            "batch_normalization (BatchNo (None, 199, 128)          512       \n",
            "_________________________________________________________________\n",
            "activation (Activation)      (None, 199, 128)          0         \n",
            "_________________________________________________________________\n",
            "lstm (LSTM)                  (None, 64)                49408     \n",
            "=================================================================\n",
            "Total params: 390,528\n",
            "Trainable params: 390,272\n",
            "Non-trainable params: 256\n",
            "_________________________________________________________________\n"
          ],
          "name": "stdout"
        }
      ]
    },
    {
      "cell_type": "code",
      "metadata": {
        "id": "5M-UlzUcbYSy"
      },
      "source": [
        "# # #  tf.keras.layers.GlobalAveragePooling1D(),\n",
        "# my_model4.add(tf.keras.layers.GlobalAveragePooling1D())\n",
        "# print('added global average poolinglayer')\n",
        "# my_model4.summary()\n",
        "# # my_model3.summary()\n"
      ],
      "execution_count": null,
      "outputs": []
    },
    {
      "cell_type": "code",
      "metadata": {
        "colab": {
          "base_uri": "https://localhost:8080/"
        },
        "id": "RC_yn0atbmMw",
        "outputId": "550100f8-20c3-47be-ded7-98538580b517"
      },
      "source": [
        "my_model4.add(tf.keras.layers.Dropout(0.5))\n",
        "print('.\\n.\\n.\\n--> added a 0.5 dropout layer')\n",
        "my_model4.add(tf.keras.layers.Dense(64,kernel_regularizer=tf.keras.regularizers.l1_l2(l1=1e-7, l2=1e-5)))\n",
        "print('.\\n.\\n.\\n--> added a dense layer with l1_l2 regularization')\n",
        "my_model4.add(tf.keras.layers.BatchNormalization())\n",
        "print('added batch norm layer')\n",
        "my_model4.add(tf.keras.layers.Activation('tanh'))\n",
        "print('added tanh activation layer')\n",
        "my_model4.add(tf.keras.layers.Flatten())\n",
        "print('.\\n.\\n.\\n--> flatten layer')\n",
        "my_model4.summary()"
      ],
      "execution_count": null,
      "outputs": [
        {
          "output_type": "stream",
          "text": [
            ".\n",
            ".\n",
            ".\n",
            "--> added a 0.5 dropout layer\n",
            ".\n",
            ".\n",
            ".\n",
            "--> added a dense layer with l1_l2 regularization\n",
            "added batch norm layer\n",
            "added tanh activation layer\n",
            ".\n",
            ".\n",
            ".\n",
            "--> flatten layer\n",
            "Model: \"sequential\"\n",
            "_________________________________________________________________\n",
            "Layer (type)                 Output Shape              Param #   \n",
            "=================================================================\n",
            "embedding (Embedding)        (None, 1000, 32)          320000    \n",
            "_________________________________________________________________\n",
            "conv1d (Conv1D)              (None, 996, 128)          20608     \n",
            "_________________________________________________________________\n",
            "max_pooling1d (MaxPooling1D) (None, 199, 128)          0         \n",
            "_________________________________________________________________\n",
            "batch_normalization (BatchNo (None, 199, 128)          512       \n",
            "_________________________________________________________________\n",
            "activation (Activation)      (None, 199, 128)          0         \n",
            "_________________________________________________________________\n",
            "lstm (LSTM)                  (None, 64)                49408     \n",
            "_________________________________________________________________\n",
            "dropout (Dropout)            (None, 64)                0         \n",
            "_________________________________________________________________\n",
            "dense (Dense)                (None, 64)                4160      \n",
            "_________________________________________________________________\n",
            "batch_normalization_1 (Batch (None, 64)                256       \n",
            "_________________________________________________________________\n",
            "activation_1 (Activation)    (None, 64)                0         \n",
            "_________________________________________________________________\n",
            "flatten (Flatten)            (None, 64)                0         \n",
            "=================================================================\n",
            "Total params: 394,944\n",
            "Trainable params: 394,560\n",
            "Non-trainable params: 384\n",
            "_________________________________________________________________\n"
          ],
          "name": "stdout"
        }
      ]
    },
    {
      "cell_type": "code",
      "metadata": {
        "id": "lfEk2NbTdtWd"
      },
      "source": [
        "# my_model.add(tf.keras.layers.Dense(16))\n",
        "# print('.\\n.\\n.\\n--> added a dense layer with ')\n",
        "# my_model.add(tf.keras.layers.BatchNormalization())\n",
        "# print('added batch norm layer')\n",
        "# my_model.add(tf.keras.layers.Activation('sigmoid'))\n",
        "# print('added sigmoid activation layer')\n",
        "# my_model.add(tf.keras.layers.Flatten())\n",
        "# print('.\\n.\\n.\\n--> flatten layer')"
      ],
      "execution_count": null,
      "outputs": []
    },
    {
      "cell_type": "code",
      "metadata": {
        "colab": {
          "base_uri": "https://localhost:8080/"
        },
        "id": "5PyRva-Wb0pa",
        "outputId": "b1fd6c17-8f77-45a3-a95e-88b8a98dbba4"
      },
      "source": [
        "num_classes = 15\n",
        "\n",
        "\n",
        "my_model4.add(tf.keras.layers.Dense(num_classes))\n",
        "print('--> dense layer of size =  ',num_classes)\n",
        "my_model4.add(tf.keras.layers.BatchNormalization())\n",
        "print('added batch norm layer')\n",
        "my_model4.add(tf.keras.layers.Activation('sigmoid'))\n",
        "print('added sigmoid activation layer')\n",
        "my_model4.add(tf.keras.layers.Flatten())\n",
        "print('.\\n.\\n.\\n--> flatten layer')\n",
        "my_model4.add(tf.keras.layers.Activation('softmax'))\n",
        "print('added final softmax activation layer')\n",
        "\n",
        "my_model4.summary()"
      ],
      "execution_count": null,
      "outputs": [
        {
          "output_type": "stream",
          "text": [
            "--> dense layer of size =   15\n",
            "added batch norm layer\n",
            "added sigmoid activation layer\n",
            ".\n",
            ".\n",
            ".\n",
            "--> flatten layer\n",
            "added final softmax activation layer\n",
            "Model: \"sequential\"\n",
            "_________________________________________________________________\n",
            "Layer (type)                 Output Shape              Param #   \n",
            "=================================================================\n",
            "embedding (Embedding)        (None, 1000, 32)          320000    \n",
            "_________________________________________________________________\n",
            "conv1d (Conv1D)              (None, 996, 128)          20608     \n",
            "_________________________________________________________________\n",
            "max_pooling1d (MaxPooling1D) (None, 199, 128)          0         \n",
            "_________________________________________________________________\n",
            "batch_normalization (BatchNo (None, 199, 128)          512       \n",
            "_________________________________________________________________\n",
            "activation (Activation)      (None, 199, 128)          0         \n",
            "_________________________________________________________________\n",
            "lstm (LSTM)                  (None, 64)                49408     \n",
            "_________________________________________________________________\n",
            "dropout (Dropout)            (None, 64)                0         \n",
            "_________________________________________________________________\n",
            "dense (Dense)                (None, 64)                4160      \n",
            "_________________________________________________________________\n",
            "batch_normalization_1 (Batch (None, 64)                256       \n",
            "_________________________________________________________________\n",
            "activation_1 (Activation)    (None, 64)                0         \n",
            "_________________________________________________________________\n",
            "flatten (Flatten)            (None, 64)                0         \n",
            "_________________________________________________________________\n",
            "dense_1 (Dense)              (None, 15)                975       \n",
            "_________________________________________________________________\n",
            "batch_normalization_2 (Batch (None, 15)                60        \n",
            "_________________________________________________________________\n",
            "activation_2 (Activation)    (None, 15)                0         \n",
            "_________________________________________________________________\n",
            "flatten_1 (Flatten)          (None, 15)                0         \n",
            "_________________________________________________________________\n",
            "activation_3 (Activation)    (None, 15)                0         \n",
            "=================================================================\n",
            "Total params: 395,979\n",
            "Trainable params: 395,565\n",
            "Non-trainable params: 414\n",
            "_________________________________________________________________\n"
          ],
          "name": "stdout"
        }
      ]
    },
    {
      "cell_type": "markdown",
      "metadata": {
        "id": "GaDgzvQHb9Tp"
      },
      "source": [
        "### Model created"
      ]
    },
    {
      "cell_type": "code",
      "metadata": {
        "colab": {
          "base_uri": "https://localhost:8080/"
        },
        "id": "sYIKaSI9b5kT",
        "outputId": "78c9eb35-98cb-4e78-fe0b-f7659ce3907b"
      },
      "source": [
        "my_model4.compile(optimizer=tf.keras.optimizers.Adam(\n",
        "    learning_rate=0.00001, beta_1=0.9, beta_2=0.999, epsilon=1e-07, amsgrad=False,\n",
        "    name='Adam',), loss='categorical_crossentropy', metrics=['accuracy'])\n",
        "print('--->compiled with learning rate : 0.00001 -')"
      ],
      "execution_count": null,
      "outputs": [
        {
          "output_type": "stream",
          "text": [
            "--->compiled with learning rate : 0.00001 -\n"
          ],
          "name": "stdout"
        }
      ]
    },
    {
      "cell_type": "markdown",
      "metadata": {
        "id": "IpwtFtbdcAqo"
      },
      "source": [
        "### model compiled"
      ]
    },
    {
      "cell_type": "markdown",
      "metadata": {
        "id": "coPwBJX8cDyR"
      },
      "source": [
        "### Now training the model"
      ]
    },
    {
      "cell_type": "markdown",
      "metadata": {
        "id": "bLG0BWdTcG2b"
      },
      "source": [
        "### using k fold cross validation"
      ]
    },
    {
      "cell_type": "code",
      "metadata": {
        "id": "2Q5mbujpcGaV"
      },
      "source": [
        "from sklearn.model_selection import KFold\n",
        "\n",
        "# n_fold = 2\n",
        "# n_fold = 3 \n",
        "# n_fold = 5\n",
        "n_fold = 10\n",
        "\n",
        "k_fold = KFold(n_fold,shuffle=True,random_state=14)"
      ],
      "execution_count": null,
      "outputs": []
    },
    {
      "cell_type": "code",
      "metadata": {
        "colab": {
          "base_uri": "https://localhost:8080/"
        },
        "id": "XltxiAnXhCsh",
        "outputId": "30044489-138a-4d23-db4d-04fb899a922f"
      },
      "source": [
        "k_fold\n"
      ],
      "execution_count": null,
      "outputs": [
        {
          "output_type": "execute_result",
          "data": {
            "text/plain": [
              "KFold(n_splits=10, random_state=14, shuffle=True)"
            ]
          },
          "metadata": {
            "tags": []
          },
          "execution_count": 56
        }
      ]
    },
    {
      "cell_type": "code",
      "metadata": {
        "colab": {
          "base_uri": "https://localhost:8080/"
        },
        "id": "cUWEDTK-cAMh",
        "outputId": "a6a20125-d604-4584-deb7-3a3fd0bff2f4"
      },
      "source": [
        "%%time\n",
        "\n",
        "scores = []\n",
        "histories = []\n",
        "print('......... fitting the model\\n')\n",
        "\n",
        "for train_iX,test_iX in k_fold.split(X_train_padded):\n",
        "  # selecting rows for trainX and trainY first train data and then cross validation data\n",
        "  x_itrain,y_itrain,x_cv,y_cv = X_train_padded[train_iX] , y_train[train_iX] , X_train_padded[test_iX], y_train[test_iX]\n",
        "    # fit into model with batch sizes of 32 and epochs 10\n",
        "    # # history = my_model.fit(x_train,y_train,batch_size=32,epochs=10,verbose=1,validation_data=(x_cv,y_cv))\n",
        "  history = my_model4.fit(x_itrain,y_itrain,batch_size=64,epochs=10,verbose=1,validation_data=(x_cv,y_cv))\n",
        "  # evaluate model\n",
        "  loss,acc = my_model4.evaluate(X_test_padded , y_test,verbose=2)\n",
        "  print('-'*80)\n",
        "  print('\\n\\t --> accuracy on test data : {:.6f}% and loss : {:.7f} <--\\n'.format(acc * 100.0,loss))\n",
        "  print('-'*80)\n",
        "    # # stores scores  \n",
        "  scores.append(acc)\n",
        "  histories.append(history)\n",
        "\n",
        "print('done')"
      ],
      "execution_count": null,
      "outputs": [
        {
          "output_type": "stream",
          "text": [
            "......... fitting the model\n",
            "\n",
            "Epoch 1/10\n",
            "341/341 [==============================] - 19s 31ms/step - loss: 2.7209 - accuracy: 0.0741 - val_loss: 2.7155 - val_accuracy: 0.0735\n",
            "Epoch 2/10\n",
            "341/341 [==============================] - 10s 30ms/step - loss: 2.7111 - accuracy: 0.0792 - val_loss: 2.6865 - val_accuracy: 0.0991\n",
            "Epoch 3/10\n",
            "341/341 [==============================] - 10s 30ms/step - loss: 2.6973 - accuracy: 0.0883 - val_loss: 2.6628 - val_accuracy: 0.1242\n",
            "Epoch 4/10\n",
            "341/341 [==============================] - 11s 31ms/step - loss: 2.6797 - accuracy: 0.0991 - val_loss: 2.6415 - val_accuracy: 0.1494\n",
            "Epoch 5/10\n",
            "341/341 [==============================] - 9s 27ms/step - loss: 2.6571 - accuracy: 0.1166 - val_loss: 2.6202 - val_accuracy: 0.1762\n",
            "Epoch 6/10\n",
            "341/341 [==============================] - 8s 25ms/step - loss: 2.6330 - accuracy: 0.1386 - val_loss: 2.6023 - val_accuracy: 0.2010\n",
            "Epoch 7/10\n",
            "341/341 [==============================] - 9s 26ms/step - loss: 2.6181 - accuracy: 0.1593 - val_loss: 2.5862 - val_accuracy: 0.2315\n",
            "Epoch 8/10\n",
            "341/341 [==============================] - 10s 30ms/step - loss: 2.6030 - accuracy: 0.1739 - val_loss: 2.5725 - val_accuracy: 0.2522\n",
            "Epoch 9/10\n",
            "341/341 [==============================] - 10s 30ms/step - loss: 2.5864 - accuracy: 0.1946 - val_loss: 2.5607 - val_accuracy: 0.2778\n",
            "Epoch 10/10\n",
            "341/341 [==============================] - 10s 30ms/step - loss: 2.5765 - accuracy: 0.2115 - val_loss: 2.5516 - val_accuracy: 0.2939\n",
            "177/177 - 1s - loss: 2.5447 - accuracy: 0.2889\n",
            "--------------------------------------------------------------------------------\n",
            "\n",
            "\t --> accuracy on test data : 28.890464% and loss : 2.5446682 <--\n",
            "\n",
            "--------------------------------------------------------------------------------\n",
            "Epoch 1/10\n",
            "341/341 [==============================] - 10s 29ms/step - loss: 2.5645 - accuracy: 0.2346 - val_loss: 2.5150 - val_accuracy: 0.3388\n",
            "Epoch 2/10\n",
            "341/341 [==============================] - 10s 29ms/step - loss: 2.5551 - accuracy: 0.2459 - val_loss: 2.5076 - val_accuracy: 0.3566\n",
            "Epoch 3/10\n",
            "341/341 [==============================] - 10s 29ms/step - loss: 2.5471 - accuracy: 0.2612 - val_loss: 2.5007 - val_accuracy: 0.3739\n",
            "Epoch 4/10\n",
            "341/341 [==============================] - 10s 30ms/step - loss: 2.5386 - accuracy: 0.2795 - val_loss: 2.4947 - val_accuracy: 0.3875\n",
            "Epoch 5/10\n",
            "341/341 [==============================] - 10s 30ms/step - loss: 2.5321 - accuracy: 0.2921 - val_loss: 2.4888 - val_accuracy: 0.4061\n",
            "Epoch 6/10\n",
            "341/341 [==============================] - 10s 30ms/step - loss: 2.5239 - accuracy: 0.3050 - val_loss: 2.4829 - val_accuracy: 0.4226\n",
            "Epoch 7/10\n",
            "341/341 [==============================] - 11s 31ms/step - loss: 2.5173 - accuracy: 0.3181 - val_loss: 2.4774 - val_accuracy: 0.4366\n",
            "Epoch 8/10\n",
            "341/341 [==============================] - 8s 24ms/step - loss: 2.5109 - accuracy: 0.3311 - val_loss: 2.4723 - val_accuracy: 0.4445\n",
            "Epoch 9/10\n",
            "341/341 [==============================] - 8s 23ms/step - loss: 2.5043 - accuracy: 0.3511 - val_loss: 2.4674 - val_accuracy: 0.4589\n",
            "Epoch 10/10\n",
            "341/341 [==============================] - 8s 24ms/step - loss: 2.4994 - accuracy: 0.3574 - val_loss: 2.4614 - val_accuracy: 0.4643\n",
            "177/177 - 1s - loss: 2.4776 - accuracy: 0.4396\n",
            "--------------------------------------------------------------------------------\n",
            "\n",
            "\t --> accuracy on test data : 43.956044% and loss : 2.4775739 <--\n",
            "\n",
            "--------------------------------------------------------------------------------\n",
            "Epoch 1/10\n",
            "341/341 [==============================] - 8s 23ms/step - loss: 2.4936 - accuracy: 0.3760 - val_loss: 2.4511 - val_accuracy: 0.5023\n",
            "Epoch 2/10\n",
            "341/341 [==============================] - 8s 23ms/step - loss: 2.4889 - accuracy: 0.3856 - val_loss: 2.4469 - val_accuracy: 0.5171\n",
            "Epoch 3/10\n",
            "341/341 [==============================] - 8s 23ms/step - loss: 2.4836 - accuracy: 0.3971 - val_loss: 2.4427 - val_accuracy: 0.5237\n",
            "Epoch 4/10\n",
            "341/341 [==============================] - 8s 23ms/step - loss: 2.4778 - accuracy: 0.4101 - val_loss: 2.4384 - val_accuracy: 0.5307\n",
            "Epoch 5/10\n",
            "341/341 [==============================] - 8s 23ms/step - loss: 2.4728 - accuracy: 0.4186 - val_loss: 2.4346 - val_accuracy: 0.5382\n",
            "Epoch 6/10\n",
            "341/341 [==============================] - 8s 23ms/step - loss: 2.4680 - accuracy: 0.4338 - val_loss: 2.4312 - val_accuracy: 0.5460\n",
            "Epoch 7/10\n",
            "341/341 [==============================] - 8s 23ms/step - loss: 2.4638 - accuracy: 0.4442 - val_loss: 2.4272 - val_accuracy: 0.5526\n",
            "Epoch 8/10\n",
            "341/341 [==============================] - 9s 25ms/step - loss: 2.4589 - accuracy: 0.4540 - val_loss: 2.4241 - val_accuracy: 0.5584\n",
            "Epoch 9/10\n",
            "341/341 [==============================] - 9s 25ms/step - loss: 2.4558 - accuracy: 0.4555 - val_loss: 2.4198 - val_accuracy: 0.5642\n",
            "Epoch 10/10\n",
            "341/341 [==============================] - 8s 24ms/step - loss: 2.4501 - accuracy: 0.4742 - val_loss: 2.4175 - val_accuracy: 0.5687\n",
            "177/177 - 1s - loss: 2.4354 - accuracy: 0.5199\n",
            "--------------------------------------------------------------------------------\n",
            "\n",
            "\t --> accuracy on test data : 51.985109% and loss : 2.4354100 <--\n",
            "\n",
            "--------------------------------------------------------------------------------\n",
            "Epoch 1/10\n",
            "341/341 [==============================] - 9s 25ms/step - loss: 2.4463 - accuracy: 0.4804 - val_loss: 2.4145 - val_accuracy: 0.5848\n",
            "Epoch 2/10\n",
            "341/341 [==============================] - 8s 23ms/step - loss: 2.4428 - accuracy: 0.4868 - val_loss: 2.4109 - val_accuracy: 0.5885\n",
            "Epoch 3/10\n",
            "341/341 [==============================] - 8s 23ms/step - loss: 2.4384 - accuracy: 0.4988 - val_loss: 2.4086 - val_accuracy: 0.5931\n",
            "Epoch 4/10\n",
            "341/341 [==============================] - 8s 23ms/step - loss: 2.4337 - accuracy: 0.5077 - val_loss: 2.4062 - val_accuracy: 0.5951\n",
            "Epoch 5/10\n",
            "341/341 [==============================] - 8s 24ms/step - loss: 2.4308 - accuracy: 0.5118 - val_loss: 2.4035 - val_accuracy: 0.5927\n",
            "Epoch 6/10\n",
            "341/341 [==============================] - 8s 24ms/step - loss: 2.4268 - accuracy: 0.5259 - val_loss: 2.4012 - val_accuracy: 0.5955\n",
            "Epoch 7/10\n",
            "341/341 [==============================] - 8s 23ms/step - loss: 2.4239 - accuracy: 0.5272 - val_loss: 2.3974 - val_accuracy: 0.5968\n",
            "Epoch 8/10\n",
            "341/341 [==============================] - 8s 23ms/step - loss: 2.4199 - accuracy: 0.5392 - val_loss: 2.3956 - val_accuracy: 0.6075\n",
            "Epoch 9/10\n",
            "341/341 [==============================] - 8s 23ms/step - loss: 2.4157 - accuracy: 0.5431 - val_loss: 2.3934 - val_accuracy: 0.6108\n",
            "Epoch 10/10\n",
            "341/341 [==============================] - 8s 23ms/step - loss: 2.4130 - accuracy: 0.5487 - val_loss: 2.3913 - val_accuracy: 0.6158\n",
            "177/177 - 1s - loss: 2.4034 - accuracy: 0.5766\n",
            "--------------------------------------------------------------------------------\n",
            "\n",
            "\t --> accuracy on test data : 57.656860% and loss : 2.4033942 <--\n",
            "\n",
            "--------------------------------------------------------------------------------\n",
            "Epoch 1/10\n",
            "341/341 [==============================] - 8s 24ms/step - loss: 2.4119 - accuracy: 0.5535 - val_loss: 2.3674 - val_accuracy: 0.6632\n",
            "Epoch 2/10\n",
            "341/341 [==============================] - 8s 24ms/step - loss: 2.4084 - accuracy: 0.5544 - val_loss: 2.3653 - val_accuracy: 0.6674\n",
            "Epoch 3/10\n",
            "341/341 [==============================] - 8s 24ms/step - loss: 2.4056 - accuracy: 0.5644 - val_loss: 2.3624 - val_accuracy: 0.6702\n",
            "Epoch 4/10\n",
            "341/341 [==============================] - 8s 24ms/step - loss: 2.4024 - accuracy: 0.5697 - val_loss: 2.3602 - val_accuracy: 0.6686\n",
            "Epoch 5/10\n",
            "341/341 [==============================] - 8s 23ms/step - loss: 2.3991 - accuracy: 0.5772 - val_loss: 2.3592 - val_accuracy: 0.6690\n",
            "Epoch 6/10\n",
            "341/341 [==============================] - 8s 23ms/step - loss: 2.3962 - accuracy: 0.5807 - val_loss: 2.3567 - val_accuracy: 0.6723\n",
            "Epoch 7/10\n",
            "341/341 [==============================] - 8s 24ms/step - loss: 2.3933 - accuracy: 0.5868 - val_loss: 2.3553 - val_accuracy: 0.6797\n",
            "Epoch 8/10\n",
            "341/341 [==============================] - 8s 24ms/step - loss: 2.3893 - accuracy: 0.5955 - val_loss: 2.3531 - val_accuracy: 0.6797\n",
            "Epoch 9/10\n",
            "341/341 [==============================] - 8s 24ms/step - loss: 2.3866 - accuracy: 0.6006 - val_loss: 2.3514 - val_accuracy: 0.6760\n",
            "Epoch 10/10\n",
            "341/341 [==============================] - 8s 23ms/step - loss: 2.3846 - accuracy: 0.6051 - val_loss: 2.3488 - val_accuracy: 0.6773\n",
            "177/177 - 1s - loss: 2.3772 - accuracy: 0.6133\n",
            "--------------------------------------------------------------------------------\n",
            "\n",
            "\t --> accuracy on test data : 61.325771% and loss : 2.3772497 <--\n",
            "\n",
            "--------------------------------------------------------------------------------\n",
            "Epoch 1/10\n",
            "341/341 [==============================] - 8s 24ms/step - loss: 2.3824 - accuracy: 0.6069 - val_loss: 2.3417 - val_accuracy: 0.7000\n",
            "Epoch 2/10\n",
            "341/341 [==============================] - 8s 23ms/step - loss: 2.3796 - accuracy: 0.6098 - val_loss: 2.3402 - val_accuracy: 0.7028\n",
            "Epoch 3/10\n",
            "341/341 [==============================] - 8s 23ms/step - loss: 2.3772 - accuracy: 0.6166 - val_loss: 2.3389 - val_accuracy: 0.7053\n",
            "Epoch 4/10\n",
            "341/341 [==============================] - 8s 24ms/step - loss: 2.3744 - accuracy: 0.6240 - val_loss: 2.3377 - val_accuracy: 0.7061\n",
            "Epoch 5/10\n",
            "341/341 [==============================] - 8s 24ms/step - loss: 2.3719 - accuracy: 0.6242 - val_loss: 2.3358 - val_accuracy: 0.7053\n",
            "Epoch 6/10\n",
            "341/341 [==============================] - 8s 23ms/step - loss: 2.3691 - accuracy: 0.6291 - val_loss: 2.3334 - val_accuracy: 0.7028\n",
            "Epoch 7/10\n",
            "341/341 [==============================] - 8s 23ms/step - loss: 2.3671 - accuracy: 0.6296 - val_loss: 2.3316 - val_accuracy: 0.7074\n",
            "Epoch 8/10\n",
            "341/341 [==============================] - 8s 23ms/step - loss: 2.3635 - accuracy: 0.6402 - val_loss: 2.3309 - val_accuracy: 0.7082\n",
            "Epoch 9/10\n",
            "341/341 [==============================] - 8s 23ms/step - loss: 2.3613 - accuracy: 0.6396 - val_loss: 2.3286 - val_accuracy: 0.7045\n",
            "Epoch 10/10\n",
            "341/341 [==============================] - 8s 23ms/step - loss: 2.3595 - accuracy: 0.6429 - val_loss: 2.3273 - val_accuracy: 0.7061\n",
            "177/177 - 1s - loss: 2.3560 - accuracy: 0.6363\n",
            "--------------------------------------------------------------------------------\n",
            "\n",
            "\t --> accuracy on test data : 63.629919% and loss : 2.3560009 <--\n",
            "\n",
            "--------------------------------------------------------------------------------\n",
            "Epoch 1/10\n",
            "341/341 [==============================] - 8s 24ms/step - loss: 2.3582 - accuracy: 0.6411 - val_loss: 2.3108 - val_accuracy: 0.7494\n",
            "Epoch 2/10\n",
            "341/341 [==============================] - 8s 23ms/step - loss: 2.3556 - accuracy: 0.6444 - val_loss: 2.3095 - val_accuracy: 0.7514\n",
            "Epoch 3/10\n",
            "341/341 [==============================] - 8s 23ms/step - loss: 2.3531 - accuracy: 0.6506 - val_loss: 2.3074 - val_accuracy: 0.7498\n",
            "Epoch 4/10\n",
            "341/341 [==============================] - 8s 23ms/step - loss: 2.3509 - accuracy: 0.6550 - val_loss: 2.3062 - val_accuracy: 0.7477\n",
            "Epoch 5/10\n",
            "341/341 [==============================] - 8s 24ms/step - loss: 2.3484 - accuracy: 0.6561 - val_loss: 2.3055 - val_accuracy: 0.7502\n",
            "Epoch 6/10\n",
            "341/341 [==============================] - 8s 23ms/step - loss: 2.3469 - accuracy: 0.6567 - val_loss: 2.3037 - val_accuracy: 0.7486\n",
            "Epoch 7/10\n",
            "341/341 [==============================] - 8s 23ms/step - loss: 2.3443 - accuracy: 0.6654 - val_loss: 2.3025 - val_accuracy: 0.7498\n",
            "Epoch 8/10\n",
            "341/341 [==============================] - 8s 24ms/step - loss: 2.3425 - accuracy: 0.6683 - val_loss: 2.3017 - val_accuracy: 0.7498\n",
            "Epoch 9/10\n",
            "341/341 [==============================] - 8s 23ms/step - loss: 2.3408 - accuracy: 0.6669 - val_loss: 2.3000 - val_accuracy: 0.7473\n",
            "Epoch 10/10\n",
            "341/341 [==============================] - 8s 23ms/step - loss: 2.3385 - accuracy: 0.6725 - val_loss: 2.2983 - val_accuracy: 0.7448\n",
            "177/177 - 1s - loss: 2.3379 - accuracy: 0.6514\n",
            "--------------------------------------------------------------------------------\n",
            "\n",
            "\t --> accuracy on test data : 65.136474% and loss : 2.3379376 <--\n",
            "\n",
            "--------------------------------------------------------------------------------\n",
            "Epoch 1/10\n",
            "341/341 [==============================] - 9s 25ms/step - loss: 2.3365 - accuracy: 0.6753 - val_loss: 2.2917 - val_accuracy: 0.7568\n",
            "Epoch 2/10\n",
            "341/341 [==============================] - 9s 25ms/step - loss: 2.3352 - accuracy: 0.6743 - val_loss: 2.2908 - val_accuracy: 0.7576\n",
            "Epoch 3/10\n",
            "341/341 [==============================] - 9s 25ms/step - loss: 2.3321 - accuracy: 0.6824 - val_loss: 2.2897 - val_accuracy: 0.7601\n",
            "Epoch 4/10\n",
            "341/341 [==============================] - 9s 25ms/step - loss: 2.3307 - accuracy: 0.6825 - val_loss: 2.2894 - val_accuracy: 0.7601\n",
            "Epoch 5/10\n",
            "341/341 [==============================] - 9s 25ms/step - loss: 2.3283 - accuracy: 0.6831 - val_loss: 2.2876 - val_accuracy: 0.7589\n",
            "Epoch 6/10\n",
            "341/341 [==============================] - 9s 25ms/step - loss: 2.3266 - accuracy: 0.6875 - val_loss: 2.2862 - val_accuracy: 0.7568\n",
            "Epoch 7/10\n",
            "341/341 [==============================] - 9s 25ms/step - loss: 2.3249 - accuracy: 0.6846 - val_loss: 2.2851 - val_accuracy: 0.7585\n",
            "Epoch 8/10\n",
            "341/341 [==============================] - 9s 25ms/step - loss: 2.3224 - accuracy: 0.6927 - val_loss: 2.2838 - val_accuracy: 0.7568\n",
            "Epoch 9/10\n",
            "341/341 [==============================] - 9s 25ms/step - loss: 2.3207 - accuracy: 0.6936 - val_loss: 2.2836 - val_accuracy: 0.7572\n",
            "Epoch 10/10\n",
            "341/341 [==============================] - 8s 25ms/step - loss: 2.3185 - accuracy: 0.6991 - val_loss: 2.2819 - val_accuracy: 0.7581\n",
            "177/177 - 1s - loss: 2.3230 - accuracy: 0.6666\n",
            "--------------------------------------------------------------------------------\n",
            "\n",
            "\t --> accuracy on test data : 66.660756% and loss : 2.3230376 <--\n",
            "\n",
            "--------------------------------------------------------------------------------\n",
            "Epoch 1/10\n",
            "341/341 [==============================] - 9s 25ms/step - loss: 2.3173 - accuracy: 0.6989 - val_loss: 2.2698 - val_accuracy: 0.7799\n",
            "Epoch 2/10\n",
            "341/341 [==============================] - 8s 23ms/step - loss: 2.3153 - accuracy: 0.7001 - val_loss: 2.2678 - val_accuracy: 0.7779\n",
            "Epoch 3/10\n",
            "341/341 [==============================] - 8s 23ms/step - loss: 2.3140 - accuracy: 0.7015 - val_loss: 2.2672 - val_accuracy: 0.7803\n",
            "Epoch 4/10\n",
            "341/341 [==============================] - 8s 23ms/step - loss: 2.3114 - accuracy: 0.7073 - val_loss: 2.2662 - val_accuracy: 0.7795\n",
            "Epoch 5/10\n",
            "341/341 [==============================] - 8s 23ms/step - loss: 2.3098 - accuracy: 0.7067 - val_loss: 2.2650 - val_accuracy: 0.7808\n",
            "Epoch 6/10\n",
            "341/341 [==============================] - 8s 23ms/step - loss: 2.3082 - accuracy: 0.7081 - val_loss: 2.2645 - val_accuracy: 0.7775\n",
            "Epoch 7/10\n",
            "341/341 [==============================] - 8s 23ms/step - loss: 2.3068 - accuracy: 0.7160 - val_loss: 2.2626 - val_accuracy: 0.7754\n",
            "Epoch 8/10\n",
            "341/341 [==============================] - 8s 23ms/step - loss: 2.3044 - accuracy: 0.7125 - val_loss: 2.2620 - val_accuracy: 0.7779\n",
            "Epoch 9/10\n",
            "341/341 [==============================] - 8s 23ms/step - loss: 2.3036 - accuracy: 0.7136 - val_loss: 2.2606 - val_accuracy: 0.7775\n",
            "Epoch 10/10\n",
            "341/341 [==============================] - 8s 23ms/step - loss: 2.3008 - accuracy: 0.7231 - val_loss: 2.2605 - val_accuracy: 0.7770\n",
            "177/177 - 1s - loss: 2.3091 - accuracy: 0.6749\n",
            "--------------------------------------------------------------------------------\n",
            "\n",
            "\t --> accuracy on test data : 67.493796% and loss : 2.3091488 <--\n",
            "\n",
            "--------------------------------------------------------------------------------\n",
            "Epoch 1/10\n",
            "341/341 [==============================] - 8s 24ms/step - loss: 2.2992 - accuracy: 0.7233 - val_loss: 2.2571 - val_accuracy: 0.8059\n",
            "Epoch 2/10\n",
            "341/341 [==============================] - 8s 24ms/step - loss: 2.2985 - accuracy: 0.7212 - val_loss: 2.2572 - val_accuracy: 0.8055\n",
            "Epoch 3/10\n",
            "341/341 [==============================] - 8s 23ms/step - loss: 2.2963 - accuracy: 0.7245 - val_loss: 2.2556 - val_accuracy: 0.8076\n",
            "Epoch 4/10\n",
            "341/341 [==============================] - 8s 24ms/step - loss: 2.2946 - accuracy: 0.7244 - val_loss: 2.2547 - val_accuracy: 0.8059\n",
            "Epoch 5/10\n",
            "341/341 [==============================] - 8s 23ms/step - loss: 2.2931 - accuracy: 0.7319 - val_loss: 2.2540 - val_accuracy: 0.8080\n",
            "Epoch 6/10\n",
            "341/341 [==============================] - 8s 23ms/step - loss: 2.2919 - accuracy: 0.7284 - val_loss: 2.2528 - val_accuracy: 0.8043\n",
            "Epoch 7/10\n",
            "341/341 [==============================] - 8s 23ms/step - loss: 2.2902 - accuracy: 0.7294 - val_loss: 2.2516 - val_accuracy: 0.8047\n",
            "Epoch 8/10\n",
            "341/341 [==============================] - 8s 23ms/step - loss: 2.2883 - accuracy: 0.7356 - val_loss: 2.2506 - val_accuracy: 0.8039\n",
            "Epoch 9/10\n",
            "341/341 [==============================] - 8s 23ms/step - loss: 2.2864 - accuracy: 0.7355 - val_loss: 2.2500 - val_accuracy: 0.8031\n",
            "Epoch 10/10\n",
            "341/341 [==============================] - 8s 24ms/step - loss: 2.2856 - accuracy: 0.7374 - val_loss: 2.2491 - val_accuracy: 0.8039\n",
            "177/177 - 1s - loss: 2.2976 - accuracy: 0.6847\n",
            "--------------------------------------------------------------------------------\n",
            "\n",
            "\t --> accuracy on test data : 68.468630% and loss : 2.2976136 <--\n",
            "\n",
            "--------------------------------------------------------------------------------\n",
            "done\n",
            "CPU times: user 13min 13s, sys: 1min 59s, total: 15min 12s\n",
            "Wall time: 14min 21s\n"
          ],
          "name": "stdout"
        }
      ]
    },
    {
      "cell_type": "markdown",
      "metadata": {
        "id": "KLVD76xQjWhl"
      },
      "source": [
        "### save model for later use"
      ]
    },
    {
      "cell_type": "code",
      "metadata": {
        "colab": {
          "base_uri": "https://localhost:8080/"
        },
        "id": "6fc0eUbPjcuq",
        "outputId": "8a30ab9f-ee86-4cbb-f5e1-2d4c4e6230ad"
      },
      "source": [
        "print('saving model...')\n",
        "my_model4.save('content/Jan5_model3_withLSTM')\n",
        "print('saved')"
      ],
      "execution_count": null,
      "outputs": [
        {
          "output_type": "stream",
          "text": [
            "saving model...\n"
          ],
          "name": "stdout"
        },
        {
          "output_type": "stream",
          "text": [
            "WARNING:absl:Found untraced functions such as lstm_cell_layer_call_fn, lstm_cell_layer_call_and_return_conditional_losses, lstm_cell_layer_call_fn, lstm_cell_layer_call_and_return_conditional_losses, lstm_cell_layer_call_and_return_conditional_losses while saving (showing 5 of 5). These functions will not be directly callable after loading.\n",
            "WARNING:absl:Found untraced functions such as lstm_cell_layer_call_fn, lstm_cell_layer_call_and_return_conditional_losses, lstm_cell_layer_call_fn, lstm_cell_layer_call_and_return_conditional_losses, lstm_cell_layer_call_and_return_conditional_losses while saving (showing 5 of 5). These functions will not be directly callable after loading.\n"
          ],
          "name": "stderr"
        },
        {
          "output_type": "stream",
          "text": [
            "INFO:tensorflow:Assets written to: content/Jan5_model3_withLSTM/assets\n"
          ],
          "name": "stdout"
        },
        {
          "output_type": "stream",
          "text": [
            "INFO:tensorflow:Assets written to: content/Jan5_model3_withLSTM/assets\n"
          ],
          "name": "stderr"
        },
        {
          "output_type": "stream",
          "text": [
            "saved\n"
          ],
          "name": "stdout"
        }
      ]
    },
    {
      "cell_type": "code",
      "metadata": {
        "colab": {
          "base_uri": "https://localhost:8080/",
          "height": 325
        },
        "id": "i7ohojL5cW5T",
        "outputId": "5f160a30-41cf-44b0-9f5a-271600030010"
      },
      "source": [
        "plt.plot([i for i in range(1,len(scores)+1)] , scores,label='Testing Accuracy')\n",
        "plt.xlabel('epochs')\n",
        "plt.ylabel('accuracy')\n",
        "plt.suptitle('TESTING ACCURACY WITH LSTM LAYER')\n",
        "plt.legend()"
      ],
      "execution_count": null,
      "outputs": [
        {
          "output_type": "execute_result",
          "data": {
            "text/plain": [
              "<matplotlib.legend.Legend at 0x7f8d845e4f60>"
            ]
          },
          "metadata": {
            "tags": []
          },
          "execution_count": 60
        },
        {
          "output_type": "display_data",
          "data": {
            "image/png": "[encoded data removed]",
            "text/plain": [
              "<Figure size 432x288 with 1 Axes>"
            ]
          },
          "metadata": {
            "tags": [],
            "needs_background": "light"
          }
        }
      ]
    },
    {
      "cell_type": "code",
      "metadata": {
        "colab": {
          "base_uri": "https://localhost:8080/"
        },
        "id": "qnCiaMHwjm6N",
        "outputId": "d6625014-1032-45d2-9286-0e8b269a78bd"
      },
      "source": [
        "!zip -r /content/Jan5_model3_withLSTM.zip /content/content/Jan5_model3_withLSTM"
      ],
      "execution_count": null,
      "outputs": [
        {
          "output_type": "stream",
          "text": [
            "  adding: content/content/Jan5_model3_withLSTM/ (stored 0%)\n",
            "  adding: content/content/Jan5_model3_withLSTM/saved_model.pb (deflated 89%)\n",
            "  adding: content/content/Jan5_model3_withLSTM/assets/ (stored 0%)\n",
            "  adding: content/content/Jan5_model3_withLSTM/variables/ (stored 0%)\n",
            "  adding: content/content/Jan5_model3_withLSTM/variables/variables.index (deflated 69%)\n",
            "  adding: content/content/Jan5_model3_withLSTM/variables/variables.data-00000-of-00001 (deflated 8%)\n"
          ],
          "name": "stdout"
        }
      ]
    },
    {
      "cell_type": "code",
      "metadata": {
        "colab": {
          "base_uri": "https://localhost:8080/"
        },
        "id": "xVz6D752jrPM",
        "outputId": "3cfdc1f5-3485-49f5-912c-17084fff9a33"
      },
      "source": [
        "!cp '/content/Jan5_model3_withLSTM.zip' '/content/drive/My Drive/datasets/LanguageDataset/final_changes/DL_models'\n",
        "!echo copied to drive"
      ],
      "execution_count": null,
      "outputs": [
        {
          "output_type": "stream",
          "text": [
            "copied to drive\n"
          ],
          "name": "stdout"
        }
      ]
    },
    {
      "cell_type": "code",
      "metadata": {
        "colab": {
          "base_uri": "https://localhost:8080/"
        },
        "id": "w1tuXgUxrJzX",
        "outputId": "585af1cd-fb74-4b49-cab4-bac0593db721"
      },
      "source": [
        "%%time\n",
        "print('saving model backup...')\n",
        "my_model4.save('Jan5_model3_withLSTM_backup.h5')\n",
        "print('saved as a h5 file')"
      ],
      "execution_count": null,
      "outputs": [
        {
          "output_type": "stream",
          "text": [
            "saving model backup...\n",
            "saved as a h5 file\n",
            "CPU times: user 51.2 ms, sys: 22.8 ms, total: 74 ms\n",
            "Wall time: 74.9 ms\n"
          ],
          "name": "stdout"
        }
      ]
    },
    {
      "cell_type": "code",
      "metadata": {
        "colab": {
          "base_uri": "https://localhost:8080/"
        },
        "id": "U4oNxp0vrkZe",
        "outputId": "50ebf8e7-b442-417a-e4d4-7599538d8091"
      },
      "source": [
        "!cp '/content/Jan5_model3_withLSTM_backup.h5' '/content/drive/My Drive/datasets/LanguageDataset/final_changes/DL_models'\n",
        "!echo copied model_backup_h5_file to drive"
      ],
      "execution_count": null,
      "outputs": [
        {
          "output_type": "stream",
          "text": [
            "copied model_backup_h5_file to drive\n"
          ],
          "name": "stdout"
        }
      ]
    },
    {
      "cell_type": "markdown",
      "metadata": {
        "id": "5NcDvjARUc2s"
      },
      "source": [
        "#### Training curve"
      ]
    },
    {
      "cell_type": "code",
      "metadata": {
        "colab": {
          "base_uri": "https://localhost:8080/"
        },
        "id": "eBG8aWKYUceT",
        "outputId": "e705dfa3-fbac-4ee4-b1f3-14b7decc69e5"
      },
      "source": [
        "acc = []\n",
        "for i in range(10):\n",
        "  acc.extend(histories[i].history['accuracy'])\n",
        "print(len(acc))"
      ],
      "execution_count": null,
      "outputs": [
        {
          "output_type": "stream",
          "text": [
            "100\n"
          ],
          "name": "stdout"
        }
      ]
    },
    {
      "cell_type": "code",
      "metadata": {
        "colab": {
          "base_uri": "https://localhost:8080/"
        },
        "id": "Mo1aTSbEUsp2",
        "outputId": "e8d0b87e-f26d-4e80-fbf8-5fbfc27153c3"
      },
      "source": [
        "val_acc = []\n",
        "for i in range(10):\n",
        "  val_acc.extend(histories[i].history['val_accuracy'])\n",
        "print(len(acc))"
      ],
      "execution_count": null,
      "outputs": [
        {
          "output_type": "stream",
          "text": [
            "100\n"
          ],
          "name": "stdout"
        }
      ]
    },
    {
      "cell_type": "code",
      "metadata": {
        "colab": {
          "base_uri": "https://localhost:8080/",
          "height": 325
        },
        "id": "bamo_uhwUh7W",
        "outputId": "9abbc4f8-1f28-4cef-b374-90b489dd6e4b"
      },
      "source": [
        "\n",
        "plt.plot([i for i in range(0,len(acc))] ,acc,label=' Training Accuracy',linewidth=2,color=\"#111000\")\n",
        "plt.plot([i for i in range(0,len(val_acc))] ,val_acc,label='Cross Validation Accuracy',color=\"#ff0001\",linewidth=1)\n",
        "\n",
        "plt.xlabel('epochs')\n",
        "plt.ylabel('accuracy')\n",
        "plt.suptitle('TRAINING ACCURACY')\n",
        "plt.legend()"
      ],
      "execution_count": null,
      "outputs": [
        {
          "output_type": "execute_result",
          "data": {
            "text/plain": [
              "<matplotlib.legend.Legend at 0x7f8d7c1d97f0>"
            ]
          },
          "metadata": {
            "tags": []
          },
          "execution_count": 128
        },
        {
          "output_type": "display_data",
          "data": {
            "image/png": "[encoded data removed]",
            "text/plain": [
              "<Figure size 432x288 with 1 Axes>"
            ]
          },
          "metadata": {
            "tags": [],
            "needs_background": "light"
          }
        }
      ]
    },
    {
      "cell_type": "markdown",
      "metadata": {
        "id": "Z1cz2wMsj8VE"
      },
      "source": [
        "### Confusion Matrix"
      ]
    },
    {
      "cell_type": "code",
      "metadata": {
        "id": "AtO4d1JFjz7L"
      },
      "source": [
        "from sklearn.metrics import plot_confusion_matrix\n",
        "from sklearn.metrics import confusion_matrix"
      ],
      "execution_count": null,
      "outputs": []
    },
    {
      "cell_type": "markdown",
      "metadata": {
        "id": "tfymLW84kDAp"
      },
      "source": [
        "## Testing Data"
      ]
    },
    {
      "cell_type": "code",
      "metadata": {
        "colab": {
          "base_uri": "https://localhost:8080/"
        },
        "id": "aiibt4F5kBPu",
        "outputId": "e4e36c24-cdb5-4e56-c7a6-7632b5c36c91"
      },
      "source": [
        "%%time\n",
        "predictions_1 = my_model4.predict(X_test_padded)\n",
        "print('done predicting on test data')\n",
        "print(type(predictions_1))\n"
      ],
      "execution_count": null,
      "outputs": [
        {
          "output_type": "stream",
          "text": [
            "done predicting on test data\n",
            "<class 'numpy.ndarray'>\n",
            "CPU times: user 1.4 s, sys: 74.8 ms, total: 1.48 s\n",
            "Wall time: 1.35 s\n"
          ],
          "name": "stdout"
        }
      ]
    },
    {
      "cell_type": "code",
      "metadata": {
        "colab": {
          "base_uri": "https://localhost:8080/"
        },
        "id": "TozcGvbTkN_J",
        "outputId": "86284439-2935-4748-fbcd-a91742fad328"
      },
      "source": [
        "predictions_1.shape , y_test.shape"
      ],
      "execution_count": null,
      "outputs": [
        {
          "output_type": "execute_result",
          "data": {
            "text/plain": [
              "((5642, 15), (5642, 15))"
            ]
          },
          "metadata": {
            "tags": []
          },
          "execution_count": 80
        }
      ]
    },
    {
      "cell_type": "code",
      "metadata": {
        "colab": {
          "base_uri": "https://localhost:8080/"
        },
        "id": "CzQQkxYnk0lj",
        "outputId": "703dd035-5c8d-4f3a-ac2c-666b58ca7174"
      },
      "source": [
        "first_preds = np.argmax(predictions_1,axis=1)\n",
        "first_preds.shape"
      ],
      "execution_count": null,
      "outputs": [
        {
          "output_type": "execute_result",
          "data": {
            "text/plain": [
              "(5642,)"
            ]
          },
          "metadata": {
            "tags": []
          },
          "execution_count": 81
        }
      ]
    },
    {
      "cell_type": "code",
      "metadata": {
        "colab": {
          "base_uri": "https://localhost:8080/"
        },
        "id": "OS8qYANEkvZL",
        "outputId": "c12d2320-19c3-4d20-9aa5-b8e8a1e6db22"
      },
      "source": [
        "actual_pred = np.argmax(y_test,axis=1)\n",
        "actual_pred.shape # use these argmax values for confusion matrix"
      ],
      "execution_count": null,
      "outputs": [
        {
          "output_type": "execute_result",
          "data": {
            "text/plain": [
              "(5642,)"
            ]
          },
          "metadata": {
            "tags": []
          },
          "execution_count": 82
        }
      ]
    },
    {
      "cell_type": "code",
      "metadata": {
        "colab": {
          "base_uri": "https://localhost:8080/"
        },
        "id": "jFSeISIykcK6",
        "outputId": "502097f4-57d1-4cc3-eafe-ed08a10b385a"
      },
      "source": [
        "print('\\n','-'*50,'\\n')\n",
        "cnf_matrix1 = confusion_matrix(actual_pred, first_preds)\n",
        "print(cnf_matrix1)"
      ],
      "execution_count": null,
      "outputs": [
        {
          "output_type": "stream",
          "text": [
            "\n",
            " -------------------------------------------------- \n",
            "\n",
            "[[267   4   6   2   4   8   6   3  21  28   4  12   0   4   0]\n",
            " [ 13 223   3  65   7  10   1   5  12  11   7   5   3   3   0]\n",
            " [  3   3 228  20   6  42  14   2   8  12   5  11   7  19   0]\n",
            " [  5  57  17 206  11  12   2   6   4  11   8   4   2   4   2]\n",
            " [  5  10   3   4 299   8   5   6   9  14  16   3   5   2   7]\n",
            " [  8   3  94  10   5 179   5   5  16  10   8  15   6   9   1]\n",
            " [  3   0   8   2   4   6 292   2   8  19   2  12   3   5   1]\n",
            " [  4   6   3   3   5   6   2 297   2  12   5   4   1   4   9]\n",
            " [ 20   3   8   2  11  15  10   1 247  26  27  13   4   8   1]\n",
            " [ 19   4   7   2   5   8  39   2  10 236  13  12   3  25   1]\n",
            " [  7   3   5   3  10  11   4   1  24  18 237  18  12   8   2]\n",
            " [  8   4   5   3   4   8   8   3  17  17  19 259   4  16   1]\n",
            " [  6   2   2   4  12  17   3   1   3   7   8  11 317   1   1]\n",
            " [  4   2   9   1   7  17   4   1  12  12   7  12   1 288   1]\n",
            " [  3   2   2   7   5   6   8  48   2   2   4   1   2   0 288]]\n"
          ],
          "name": "stdout"
        }
      ]
    },
    {
      "cell_type": "code",
      "metadata": {
        "colab": {
          "base_uri": "https://localhost:8080/"
        },
        "id": "v1Pa6zh8kjWz",
        "outputId": "229df290-eb10-400f-fb5d-14e8aa02fc75"
      },
      "source": [
        "class_names = df['Language'].unique()\n",
        "class_names"
      ],
      "execution_count": null,
      "outputs": [
        {
          "output_type": "execute_result",
          "data": {
            "text/plain": [
              "array(['bash', 'c', 'c#', 'c++', 'haskell', 'java', 'javascript',\n",
              "       'objective-c', 'perl', 'php', 'python', 'ruby', 'scala', 'sql',\n",
              "       'swift'], dtype=object)"
            ]
          },
          "metadata": {
            "tags": []
          },
          "execution_count": 84
        }
      ]
    },
    {
      "cell_type": "code",
      "metadata": {
        "id": "KcjzBs3KlhIJ"
      },
      "source": [
        "import seaborn as sns"
      ],
      "execution_count": null,
      "outputs": []
    },
    {
      "cell_type": "markdown",
      "metadata": {
        "id": "6uFMRp6uloY1"
      },
      "source": [
        "### Better confusion martrix display\n",
        "##### source : https://github.com/DTrimarchi10/confusion_matrix/blob/master/cf_matrix.py"
      ]
    },
    {
      "cell_type": "code",
      "metadata": {
        "id": "U66P6TxTlkAK"
      },
      "source": [
        "def make_confusion_matrix(cf,\n",
        "                          group_names=None,\n",
        "                          categories='auto',\n",
        "                          count=True,\n",
        "                          percent=True,\n",
        "                          cbar=True,\n",
        "                          xyticks=True,\n",
        "                          xyplotlabels=True,\n",
        "                          sum_stats=True,\n",
        "                          figsize=None,\n",
        "                          cmap='Blues',\n",
        "                          title=None):\n",
        "    '''\n",
        "    This function will make a pretty plot of an sklearn Confusion Matrix cm using a Seaborn heatmap visualization.\n",
        "    Arguments\n",
        "    ---------\n",
        "    cf:            confusion matrix to be passed in\n",
        "    group_names:   List of strings that represent the labels row by row to be shown in each square.\n",
        "    categories:    List of strings containing the categories to be displayed on the x,y axis. Default is 'auto'\n",
        "    count:         If True, show the raw number in the confusion matrix. Default is True.\n",
        "    normalize:     If True, show the proportions for each category. Default is True.\n",
        "    cbar:          If True, show the color bar. The cbar values are based off the values in the confusion matrix.\n",
        "                   Default is True.\n",
        "    xyticks:       If True, show x and y ticks. Default is True.\n",
        "    xyplotlabels:  If True, show 'True Label' and 'Predicted Label' on the figure. Default is True.\n",
        "    sum_stats:     If True, display summary statistics below the figure. Default is True.\n",
        "    figsize:       Tuple representing the figure size. Default will be the matplotlib rcParams value.\n",
        "    cmap:          Colormap of the values displayed from matplotlib.pyplot.cm. Default is 'Blues'\n",
        "                   See http://matplotlib.org/examples/color/colormaps_reference.html\n",
        "                   \n",
        "    title:         Title for the heatmap. Default is None.\n",
        "    '''\n",
        "\n",
        "\n",
        "    # CODE TO GENERATE TEXT INSIDE EACH SQUARE\n",
        "    blanks = ['' for i in range(cf.size)]\n",
        "\n",
        "    if group_names and len(group_names)==cf.size:\n",
        "        group_labels = [\"{}\\n\".format(value) for value in group_names]\n",
        "    else:\n",
        "        group_labels = blanks\n",
        "\n",
        "    if count:\n",
        "        group_counts = [\"{0:0.0f}\\n\".format(value) for value in cf.flatten()]\n",
        "    else:\n",
        "        group_counts = blanks\n",
        "\n",
        "    if percent:\n",
        "        group_percentages = [\"{0:.2%}\".format(value) for value in cf.flatten()/np.sum(cf)]\n",
        "    else:\n",
        "        group_percentages = blanks\n",
        "\n",
        "    box_labels = [f\"{v1}{v2}{v3}\".strip() for v1, v2, v3 in zip(group_labels,group_counts,group_percentages)]\n",
        "    box_labels = np.asarray(box_labels).reshape(cf.shape[0],cf.shape[1])\n",
        "\n",
        "\n",
        "    # CODE TO GENERATE SUMMARY STATISTICS & TEXT FOR SUMMARY STATS\n",
        "    if sum_stats:\n",
        "        #Accuracy is sum of diagonal divided by total observations\n",
        "        accuracy  = np.trace(cf) / float(np.sum(cf))\n",
        "\n",
        "        #if it is a binary confusion matrix, show some more stats\n",
        "        if len(cf)==2:\n",
        "            #Metrics for Binary Confusion Matrices\n",
        "            precision = cf[1,1] / sum(cf[:,1])\n",
        "            recall    = cf[1,1] / sum(cf[1,:])\n",
        "            f1_score  = 2*precision*recall / (precision + recall)\n",
        "            stats_text = \"\\n\\nAccuracy={:0.3f}\\nPrecision={:0.3f}\\nRecall={:0.3f}\\nF1 Score={:0.3f}\".format(\n",
        "                accuracy,precision,recall,f1_score)\n",
        "        else:\n",
        "            stats_text = \"\\n\\nAccuracy={:0.3f}\".format(accuracy)\n",
        "    else:\n",
        "        stats_text = \"\"\n",
        "\n",
        "\n",
        "    # SET FIGURE PARAMETERS ACCORDING TO OTHER ARGUMENTS\n",
        "    if figsize==None:\n",
        "        #Get default figure size if not set\n",
        "        figsize = plt.rcParams.get('figure.figsize')\n",
        "\n",
        "    if xyticks==False:\n",
        "        #Do not show categories if xyticks is False\n",
        "        categories=False\n",
        "\n",
        "\n",
        "    # MAKE THE HEATMAP VISUALIZATION\n",
        "    plt.figure(figsize=figsize)\n",
        "    sns.heatmap(cf,annot=box_labels,fmt=\"\",cmap=cmap,cbar=cbar,xticklabels=categories,yticklabels=categories)\n",
        "\n",
        "    if xyplotlabels:\n",
        "        plt.ylabel('True label')\n",
        "        plt.xlabel('Predicted label' + stats_text)\n",
        "    else:\n",
        "        plt.xlabel(stats_text)\n",
        "    \n",
        "    if title:\n",
        "        plt.title(title)"
      ],
      "execution_count": null,
      "outputs": []
    },
    {
      "cell_type": "code",
      "metadata": {
        "colab": {
          "base_uri": "https://localhost:8080/",
          "height": 782
        },
        "id": "TOwEnv1JlwYH",
        "outputId": "30cafabd-ac29-47a8-c717-9f97b6b6ee9d"
      },
      "source": [
        "# make_confusion_matrix(cnf_matrix, figsize=(12,12), cbar=False )\n",
        "make_confusion_matrix(cnf_matrix1, figsize=(12,12), cbar=False ,categories=class_names)\n"
      ],
      "execution_count": null,
      "outputs": [
        {
          "output_type": "display_data",
          "data": {
            "image/png": "[encoded data removed]",
            "text/plain": [
              "<Figure size 864x864 with 1 Axes>"
            ]
          },
          "metadata": {
            "tags": [],
            "needs_background": "light"
          }
        }
      ]
    },
    {
      "cell_type": "markdown",
      "metadata": {
        "id": "YfO1LpBTXHa0"
      },
      "source": [
        "#### Precision , Recall and F1 Score"
      ]
    },
    {
      "cell_type": "code",
      "metadata": {
        "colab": {
          "base_uri": "https://localhost:8080/"
        },
        "id": "xj_aQPYtXJ7l",
        "outputId": "007953f5-6db4-4ae5-dbab-d505aa90cddf"
      },
      "source": [
        "from sklearn.metrics import precision_recall_fscore_support as score\n",
        "langs = [i for i in data.Language.unique()]\n",
        "langs.sort()\n",
        "langs"
      ],
      "execution_count": null,
      "outputs": [
        {
          "output_type": "execute_result",
          "data": {
            "text/plain": [
              "['bash',\n",
              " 'c',\n",
              " 'c#',\n",
              " 'c++',\n",
              " 'haskell',\n",
              " 'java',\n",
              " 'javascript',\n",
              " 'objective-c',\n",
              " 'perl',\n",
              " 'php',\n",
              " 'python',\n",
              " 'ruby',\n",
              " 'scala',\n",
              " 'sql',\n",
              " 'swift']"
            ]
          },
          "metadata": {
            "tags": []
          },
          "execution_count": 88
        }
      ]
    },
    {
      "cell_type": "code",
      "metadata": {
        "id": "XBUYjwKcXKg4"
      },
      "source": [
        "def print_metrics(predictions):\n",
        "  precision , recall , fscore , support = score( actual_pred, predictions)\n",
        "  print('-'*80)\n",
        "  print('{:10}\\t | {:7}\\t |  {:12}|\\t{}'.format('   Language','  Precision',' Recall',' F1 Measure'))\n",
        "  print('-'*80)\n",
        "  for i in range(len(langs)):\n",
        "    \n",
        "    result = '{:10}\\t |{:13.5}\\t |{:10.5}\\t|\\t{:10.5}'.format(str('   '+langs[i]),precision[i],recall[i],fscore[i])\n",
        "    print(result,end='\\n')\n",
        "    print('-'*80)\n"
      ],
      "execution_count": null,
      "outputs": []
    },
    {
      "cell_type": "code",
      "metadata": {
        "colab": {
          "base_uri": "https://localhost:8080/"
        },
        "id": "zbqwK-0EXOmk",
        "outputId": "cafd9067-2ebe-41e3-c0ad-79b32de454c5"
      },
      "source": [
        "print_metrics(first_preds)\n"
      ],
      "execution_count": null,
      "outputs": [
        {
          "output_type": "stream",
          "text": [
            "--------------------------------------------------------------------------------\n",
            "   Language\t |   Precision\t |   Recall     |\t F1 Measure\n",
            "--------------------------------------------------------------------------------\n",
            "   bash   \t |        0.712\t |   0.72358\t|\t   0.71774\n",
            "--------------------------------------------------------------------------------\n",
            "   c      \t |      0.68405\t |   0.60598\t|\t   0.64265\n",
            "--------------------------------------------------------------------------------\n",
            "   c#     \t |         0.57\t |       0.6\t|\t   0.58462\n",
            "--------------------------------------------------------------------------------\n",
            "   c++    \t |      0.61677\t |   0.58689\t|\t   0.60146\n",
            "--------------------------------------------------------------------------------\n",
            "   haskell\t |      0.75696\t |   0.75505\t|\t   0.75601\n",
            "--------------------------------------------------------------------------------\n",
            "   java   \t |      0.50708\t |   0.47861\t|\t   0.49243\n",
            "--------------------------------------------------------------------------------\n",
            "   javascript\t |      0.72457\t |   0.79564\t|\t   0.75844\n",
            "--------------------------------------------------------------------------------\n",
            "   objective-c\t |      0.77546\t |   0.81818\t|\t   0.79625\n",
            "--------------------------------------------------------------------------------\n",
            "   perl   \t |      0.62532\t |   0.62374\t|\t   0.62453\n",
            "--------------------------------------------------------------------------------\n",
            "   php    \t |      0.54253\t |    0.6114\t|\t   0.57491\n",
            "--------------------------------------------------------------------------------\n",
            "   python \t |      0.64054\t |   0.65289\t|\t   0.64666\n",
            "--------------------------------------------------------------------------------\n",
            "   ruby   \t |      0.66071\t |   0.68883\t|\t   0.67448\n",
            "--------------------------------------------------------------------------------\n",
            "   scala  \t |      0.85676\t |   0.80253\t|\t   0.82876\n",
            "--------------------------------------------------------------------------------\n",
            "   sql    \t |      0.72727\t |    0.7619\t|\t   0.74419\n",
            "--------------------------------------------------------------------------------\n",
            "   swift  \t |      0.91429\t |   0.75789\t|\t   0.82878\n",
            "--------------------------------------------------------------------------------\n"
          ],
          "name": "stdout"
        }
      ]
    },
    {
      "cell_type": "markdown",
      "metadata": {
        "id": "Zr-OSaYgiifs"
      },
      "source": [
        "### creating another for just testing something"
      ]
    },
    {
      "cell_type": "code",
      "metadata": {
        "colab": {
          "base_uri": "https://localhost:8080/"
        },
        "id": "zWQyIpQ5l3-K",
        "outputId": "af7f1ae4-44e7-481e-8fb6-53f2c423656e"
      },
      "source": [
        "my_model5 = tf.keras.models.Sequential()\n",
        "print('model created now add layers')"
      ],
      "execution_count": null,
      "outputs": [
        {
          "output_type": "stream",
          "text": [
            "model created now add layers\n"
          ],
          "name": "stdout"
        }
      ]
    },
    {
      "cell_type": "code",
      "metadata": {
        "colab": {
          "base_uri": "https://localhost:8080/"
        },
        "id": "hdCq0kviimMC",
        "outputId": "c7656e80-b8a8-4ee4-ee48-478057ccd44f"
      },
      "source": [
        "# my_model.add(tf.keras.layers.Input(input_shape=2215))\n",
        "my_model5.add(tf.keras.layers.InputLayer(input_shape=max_length,dtype=tf.int32))\n",
        "print('----> added input layer with max sequence max_features = ',max_length)\n",
        "my_model5.summary()\n",
        "# print('added input layer')"
      ],
      "execution_count": null,
      "outputs": [
        {
          "output_type": "stream",
          "text": [
            "----> added input layer with max sequence max_features =  1000\n",
            "Model: \"sequential_1\"\n",
            "_________________________________________________________________\n",
            "Layer (type)                 Output Shape              Param #   \n",
            "=================================================================\n",
            "Total params: 0\n",
            "Trainable params: 0\n",
            "Non-trainable params: 0\n",
            "_________________________________________________________________\n"
          ],
          "name": "stdout"
        }
      ]
    },
    {
      "cell_type": "code",
      "metadata": {
        "colab": {
          "base_uri": "https://localhost:8080/"
        },
        "id": "HU_xk49ditke",
        "outputId": "aaeb22cc-5a7b-4aa0-b776-d903fe825a31"
      },
      "source": [
        "my_model5.add(tf.keras.layers.Embedding(vocab_size, embed_dim,input_length = max_length))\n",
        "print('\\n-->added embedding layer with vocab size = ',vocab_size,'embed dim = ',embed_dim)\n",
        "my_model5.summary()"
      ],
      "execution_count": null,
      "outputs": [
        {
          "output_type": "stream",
          "text": [
            "\n",
            "-->added embedding layer with vocab size =  10000 embed dim =  32\n",
            "Model: \"sequential_1\"\n",
            "_________________________________________________________________\n",
            "Layer (type)                 Output Shape              Param #   \n",
            "=================================================================\n",
            "embedding_1 (Embedding)      (None, 1000, 32)          320000    \n",
            "=================================================================\n",
            "Total params: 320,000\n",
            "Trainable params: 320,000\n",
            "Non-trainable params: 0\n",
            "_________________________________________________________________\n"
          ],
          "name": "stdout"
        }
      ]
    },
    {
      "cell_type": "code",
      "metadata": {
        "colab": {
          "base_uri": "https://localhost:8080/"
        },
        "id": "c0lT-3T9ixiI",
        "outputId": "dc4074eb-caa8-407f-fccb-52191a03990e"
      },
      "source": [
        "# model.add(Conv1D(filters=128, kernel_size=3, padding='same', dilation_rate=1,activation='relu'))\n",
        "my_model5.add(tf.keras.layers.Conv1D(128 , 5, padding='same',kernel_initializer='random_normal'))\n",
        "print('.\\n.\\n.\\nadded conv1d layer with valid padding random_normal initializer - 128 filters')\n",
        "my_model5.add(tf.keras.layers.MaxPool1D(pool_size=5))\n",
        "print('added pool layer')\n",
        "my_model5.add(tf.keras.layers.BatchNormalization())\n",
        "print('added batch norm layer')\n",
        "my_model5.add(tf.keras.layers.Activation('relu'))\n",
        "print('added relu activation layer')\n",
        "my_model5.summary()\n"
      ],
      "execution_count": null,
      "outputs": [
        {
          "output_type": "stream",
          "text": [
            ".\n",
            ".\n",
            ".\n",
            "added conv1d layer with valid padding random_normal initializer - 128 filters\n",
            "added pool layer\n",
            "added batch norm layer\n",
            "added relu activation layer\n",
            "Model: \"sequential_1\"\n",
            "_________________________________________________________________\n",
            "Layer (type)                 Output Shape              Param #   \n",
            "=================================================================\n",
            "embedding_1 (Embedding)      (None, 1000, 32)          320000    \n",
            "_________________________________________________________________\n",
            "conv1d_1 (Conv1D)            (None, 1000, 128)         20608     \n",
            "_________________________________________________________________\n",
            "max_pooling1d_1 (MaxPooling1 (None, 200, 128)          0         \n",
            "_________________________________________________________________\n",
            "batch_normalization_3 (Batch (None, 200, 128)          512       \n",
            "_________________________________________________________________\n",
            "activation_4 (Activation)    (None, 200, 128)          0         \n",
            "=================================================================\n",
            "Total params: 341,120\n",
            "Trainable params: 340,864\n",
            "Non-trainable params: 256\n",
            "_________________________________________________________________\n"
          ],
          "name": "stdout"
        }
      ]
    },
    {
      "cell_type": "code",
      "metadata": {
        "colab": {
          "base_uri": "https://localhost:8080/"
        },
        "id": "5WeoSdXai7ji",
        "outputId": "8262b6ad-f692-48aa-a9c6-7d8c5840672c"
      },
      "source": [
        "# model.add(Conv1D(filters=128, kernel_size=3, padding='same', dilation_rate=1,activation='relu'))\n",
        "my_model5.add(tf.keras.layers.Conv1D(64 , 5, padding='same',kernel_initializer='random_normal'))\n",
        "print('.\\n.\\n.\\nadded conv1d layer with valid padding random_normal initializer - 128 filters')\n",
        "my_model5.add(tf.keras.layers.MaxPool1D(pool_size=5))\n",
        "print('added pool layer')\n",
        "my_model5.add(tf.keras.layers.BatchNormalization())\n",
        "print('added batch norm layer')\n",
        "my_model5.add(tf.keras.layers.Activation('relu'))\n",
        "print('added relu activation layer')\n",
        "my_model5.summary()\n"
      ],
      "execution_count": null,
      "outputs": [
        {
          "output_type": "stream",
          "text": [
            ".\n",
            ".\n",
            ".\n",
            "added conv1d layer with valid padding random_normal initializer - 128 filters\n",
            "added pool layer\n",
            "added batch norm layer\n",
            "added relu activation layer\n",
            "Model: \"sequential_1\"\n",
            "_________________________________________________________________\n",
            "Layer (type)                 Output Shape              Param #   \n",
            "=================================================================\n",
            "embedding_1 (Embedding)      (None, 1000, 32)          320000    \n",
            "_________________________________________________________________\n",
            "conv1d_1 (Conv1D)            (None, 1000, 128)         20608     \n",
            "_________________________________________________________________\n",
            "max_pooling1d_1 (MaxPooling1 (None, 200, 128)          0         \n",
            "_________________________________________________________________\n",
            "batch_normalization_3 (Batch (None, 200, 128)          512       \n",
            "_________________________________________________________________\n",
            "activation_4 (Activation)    (None, 200, 128)          0         \n",
            "_________________________________________________________________\n",
            "conv1d_2 (Conv1D)            (None, 200, 64)           41024     \n",
            "_________________________________________________________________\n",
            "max_pooling1d_2 (MaxPooling1 (None, 40, 64)            0         \n",
            "_________________________________________________________________\n",
            "batch_normalization_4 (Batch (None, 40, 64)            256       \n",
            "_________________________________________________________________\n",
            "activation_5 (Activation)    (None, 40, 64)            0         \n",
            "=================================================================\n",
            "Total params: 382,400\n",
            "Trainable params: 382,016\n",
            "Non-trainable params: 384\n",
            "_________________________________________________________________\n"
          ],
          "name": "stdout"
        }
      ]
    },
    {
      "cell_type": "code",
      "metadata": {
        "colab": {
          "base_uri": "https://localhost:8080/"
        },
        "id": "Zmov-WSMjB6Q",
        "outputId": "836a6666-3a8b-45ea-8ce6-c514692667f2"
      },
      "source": [
        "lstm_out = 64\n",
        "my_model5.add(tf.keras.layers.LSTM(lstm_out))\n",
        "print('added LSTM layer with units = ',lstm_out)\n",
        "my_model5.summary()"
      ],
      "execution_count": null,
      "outputs": [
        {
          "output_type": "stream",
          "text": [
            "added LSTM layer with units =  64\n",
            "Model: \"sequential_1\"\n",
            "_________________________________________________________________\n",
            "Layer (type)                 Output Shape              Param #   \n",
            "=================================================================\n",
            "embedding_1 (Embedding)      (None, 1000, 32)          320000    \n",
            "_________________________________________________________________\n",
            "conv1d_1 (Conv1D)            (None, 1000, 128)         20608     \n",
            "_________________________________________________________________\n",
            "max_pooling1d_1 (MaxPooling1 (None, 200, 128)          0         \n",
            "_________________________________________________________________\n",
            "batch_normalization_3 (Batch (None, 200, 128)          512       \n",
            "_________________________________________________________________\n",
            "activation_4 (Activation)    (None, 200, 128)          0         \n",
            "_________________________________________________________________\n",
            "conv1d_2 (Conv1D)            (None, 200, 64)           41024     \n",
            "_________________________________________________________________\n",
            "max_pooling1d_2 (MaxPooling1 (None, 40, 64)            0         \n",
            "_________________________________________________________________\n",
            "batch_normalization_4 (Batch (None, 40, 64)            256       \n",
            "_________________________________________________________________\n",
            "activation_5 (Activation)    (None, 40, 64)            0         \n",
            "_________________________________________________________________\n",
            "lstm_1 (LSTM)                (None, 64)                33024     \n",
            "=================================================================\n",
            "Total params: 415,424\n",
            "Trainable params: 415,040\n",
            "Non-trainable params: 384\n",
            "_________________________________________________________________\n"
          ],
          "name": "stdout"
        }
      ]
    },
    {
      "cell_type": "code",
      "metadata": {
        "colab": {
          "base_uri": "https://localhost:8080/"
        },
        "id": "Ct50qFdntXNs",
        "outputId": "2ee6c3e0-a98e-45f3-cfa8-d9b5cf603346"
      },
      "source": [
        "my_model5.add(tf.keras.layers.Dropout(0.5))\n",
        "print('.\\n.\\n.\\n--> added a 0.5 dropout layer')\n",
        "my_model5.add(tf.keras.layers.Dense(64,kernel_regularizer=tf.keras.regularizers.l1_l2(l1=1e-7, l2=1e-5)))\n",
        "print('.\\n.\\n.\\n--> added a dense layer with l1_l2 regularization')\n",
        "my_model5.add(tf.keras.layers.BatchNormalization())\n",
        "print('added batch norm layer')\n",
        "my_model5.add(tf.keras.layers.Activation('tanh'))\n",
        "print('added tanh activation layer')\n",
        "my_model5.add(tf.keras.layers.Flatten())\n",
        "print('.\\n.\\n.\\n--> flatten layer')\n",
        "my_model5.summary()"
      ],
      "execution_count": null,
      "outputs": [
        {
          "output_type": "stream",
          "text": [
            ".\n",
            ".\n",
            ".\n",
            "--> added a 0.5 dropout layer\n",
            ".\n",
            ".\n",
            ".\n",
            "--> added a dense layer with l1_l2 regularization\n",
            "added batch norm layer\n",
            "added tanh activation layer\n",
            ".\n",
            ".\n",
            ".\n",
            "--> flatten layer\n",
            "Model: \"sequential_1\"\n",
            "_________________________________________________________________\n",
            "Layer (type)                 Output Shape              Param #   \n",
            "=================================================================\n",
            "embedding_1 (Embedding)      (None, 1000, 32)          320000    \n",
            "_________________________________________________________________\n",
            "conv1d_1 (Conv1D)            (None, 1000, 128)         20608     \n",
            "_________________________________________________________________\n",
            "max_pooling1d_1 (MaxPooling1 (None, 200, 128)          0         \n",
            "_________________________________________________________________\n",
            "batch_normalization_3 (Batch (None, 200, 128)          512       \n",
            "_________________________________________________________________\n",
            "activation_4 (Activation)    (None, 200, 128)          0         \n",
            "_________________________________________________________________\n",
            "conv1d_2 (Conv1D)            (None, 200, 64)           41024     \n",
            "_________________________________________________________________\n",
            "max_pooling1d_2 (MaxPooling1 (None, 40, 64)            0         \n",
            "_________________________________________________________________\n",
            "batch_normalization_4 (Batch (None, 40, 64)            256       \n",
            "_________________________________________________________________\n",
            "activation_5 (Activation)    (None, 40, 64)            0         \n",
            "_________________________________________________________________\n",
            "lstm_1 (LSTM)                (None, 64)                33024     \n",
            "_________________________________________________________________\n",
            "dropout_1 (Dropout)          (None, 64)                0         \n",
            "_________________________________________________________________\n",
            "dense_2 (Dense)              (None, 64)                4160      \n",
            "_________________________________________________________________\n",
            "batch_normalization_5 (Batch (None, 64)                256       \n",
            "_________________________________________________________________\n",
            "activation_6 (Activation)    (None, 64)                0         \n",
            "_________________________________________________________________\n",
            "flatten_2 (Flatten)          (None, 64)                0         \n",
            "=================================================================\n",
            "Total params: 419,840\n",
            "Trainable params: 419,328\n",
            "Non-trainable params: 512\n",
            "_________________________________________________________________\n"
          ],
          "name": "stdout"
        }
      ]
    },
    {
      "cell_type": "code",
      "metadata": {
        "colab": {
          "base_uri": "https://localhost:8080/"
        },
        "id": "oLkOS3u3jY5n",
        "outputId": "95843a99-9117-4359-bb05-0fa45f64b3f5"
      },
      "source": [
        "num_classes"
      ],
      "execution_count": null,
      "outputs": [
        {
          "output_type": "execute_result",
          "data": {
            "text/plain": [
              "15"
            ]
          },
          "metadata": {
            "tags": []
          },
          "execution_count": 98
        }
      ]
    },
    {
      "cell_type": "code",
      "metadata": {
        "colab": {
          "base_uri": "https://localhost:8080/"
        },
        "id": "G9UJvwmwjeQz",
        "outputId": "3f9ae186-e5cd-496d-bae5-c08d1243c3d7"
      },
      "source": [
        "my_model5.add(tf.keras.layers.Dense(num_classes))\n",
        "print('--> dense layer of size =  ',num_classes)\n",
        "my_model5.add(tf.keras.layers.BatchNormalization())\n",
        "print('added batch norm layer')\n",
        "my_model5.add(tf.keras.layers.Activation('sigmoid'))\n",
        "print('added sigmoid activation layer')\n",
        "my_model5.add(tf.keras.layers.Flatten())\n",
        "print('.\\n.\\n.\\n--> flatten layer')\n",
        "my_model5.add(tf.keras.layers.Activation('softmax'))\n",
        "print('added final softmax activation layer')\n",
        "my_model5.summary()"
      ],
      "execution_count": null,
      "outputs": [
        {
          "output_type": "stream",
          "text": [
            "--> dense layer of size =   15\n",
            "added batch norm layer\n",
            "added sigmoid activation layer\n",
            ".\n",
            ".\n",
            ".\n",
            "--> flatten layer\n",
            "added final softmax activation layer\n",
            "Model: \"sequential_1\"\n",
            "_________________________________________________________________\n",
            "Layer (type)                 Output Shape              Param #   \n",
            "=================================================================\n",
            "embedding_1 (Embedding)      (None, 1000, 32)          320000    \n",
            "_________________________________________________________________\n",
            "conv1d_1 (Conv1D)            (None, 1000, 128)         20608     \n",
            "_________________________________________________________________\n",
            "max_pooling1d_1 (MaxPooling1 (None, 200, 128)          0         \n",
            "_________________________________________________________________\n",
            "batch_normalization_3 (Batch (None, 200, 128)          512       \n",
            "_________________________________________________________________\n",
            "activation_4 (Activation)    (None, 200, 128)          0         \n",
            "_________________________________________________________________\n",
            "conv1d_2 (Conv1D)            (None, 200, 64)           41024     \n",
            "_________________________________________________________________\n",
            "max_pooling1d_2 (MaxPooling1 (None, 40, 64)            0         \n",
            "_________________________________________________________________\n",
            "batch_normalization_4 (Batch (None, 40, 64)            256       \n",
            "_________________________________________________________________\n",
            "activation_5 (Activation)    (None, 40, 64)            0         \n",
            "_________________________________________________________________\n",
            "lstm_1 (LSTM)                (None, 64)                33024     \n",
            "_________________________________________________________________\n",
            "dropout_1 (Dropout)          (None, 64)                0         \n",
            "_________________________________________________________________\n",
            "dense_2 (Dense)              (None, 64)                4160      \n",
            "_________________________________________________________________\n",
            "batch_normalization_5 (Batch (None, 64)                256       \n",
            "_________________________________________________________________\n",
            "activation_6 (Activation)    (None, 64)                0         \n",
            "_________________________________________________________________\n",
            "flatten_2 (Flatten)          (None, 64)                0         \n",
            "_________________________________________________________________\n",
            "dense_3 (Dense)              (None, 15)                975       \n",
            "_________________________________________________________________\n",
            "batch_normalization_6 (Batch (None, 15)                60        \n",
            "_________________________________________________________________\n",
            "activation_7 (Activation)    (None, 15)                0         \n",
            "_________________________________________________________________\n",
            "flatten_3 (Flatten)          (None, 15)                0         \n",
            "_________________________________________________________________\n",
            "activation_8 (Activation)    (None, 15)                0         \n",
            "=================================================================\n",
            "Total params: 420,875\n",
            "Trainable params: 420,333\n",
            "Non-trainable params: 542\n",
            "_________________________________________________________________\n"
          ],
          "name": "stdout"
        }
      ]
    },
    {
      "cell_type": "code",
      "metadata": {
        "colab": {
          "base_uri": "https://localhost:8080/"
        },
        "id": "y1AlXDynjkyJ",
        "outputId": "f2598302-0414-42de-d964-f5ab08efef18"
      },
      "source": [
        "my_model5.compile(optimizer=tf.keras.optimizers.Adam(\n",
        "    learning_rate=0.00001, beta_1=0.9, beta_2=0.999, epsilon=1e-07, amsgrad=False,\n",
        "    name='Adam',), loss='categorical_crossentropy', metrics=['accuracy'])\n",
        "print(' ---> compiled with learning rate : 0.00001 -')"
      ],
      "execution_count": null,
      "outputs": [
        {
          "output_type": "stream",
          "text": [
            " ---> compiled with learning rate : 0.00001 -\n"
          ],
          "name": "stdout"
        }
      ]
    },
    {
      "cell_type": "code",
      "metadata": {
        "colab": {
          "base_uri": "https://localhost:8080/"
        },
        "id": "TgoMTRLmjsVO",
        "outputId": "13f26669-f0a1-4275-879c-707cf1bc153f"
      },
      "source": [
        "%%time\n",
        "\n",
        "scores2 = []\n",
        "histories2 = []\n",
        "print('------> fitting the model\\n')\n",
        "\n",
        "for train_iX,test_iX in k_fold.split(X_train_padded):\n",
        "  # selecting rows for trainX and trainY first train data and then cross validation data\n",
        "  x_itrain,y_itrain,x_cv,y_cv = X_train_padded[train_iX] , y_train[train_iX] , X_train_padded[test_iX], y_train[test_iX]\n",
        "    # fit into model with batch sizes of 32 and epochs 10\n",
        "    # # history = my_model.fit(x_train,y_train,batch_size=32,epochs=10,verbose=1,validation_data=(x_cv,y_cv))\n",
        "  history = my_model5.fit(x_itrain,y_itrain,batch_size=128,epochs=10,verbose=1,validation_data=(x_cv,y_cv))\n",
        "  # evaluate model\n",
        "  loss,acc = my_model5.evaluate(X_test_padded , y_test,verbose=2)\n",
        "  print('-'*80)\n",
        "  print('\\n\\t --> accuracy on test data : {:.6f}% and loss : {:.7f} <--\\n'.format(acc * 100.0,loss))\n",
        "  print('-'*80)\n",
        "    # # stores scores  \n",
        "  scores2.append(acc)\n",
        "  histories2.append(history)\n",
        "\n",
        "print('done')"
      ],
      "execution_count": null,
      "outputs": [
        {
          "output_type": "stream",
          "text": [
            "------> fitting the model\n",
            "\n",
            "Epoch 1/10\n",
            "171/171 [==============================] - 8s 34ms/step - loss: 2.7289 - accuracy: 0.0665 - val_loss: 2.7133 - val_accuracy: 0.0689\n",
            "Epoch 2/10\n",
            "171/171 [==============================] - 5s 31ms/step - loss: 2.7154 - accuracy: 0.0749 - val_loss: 2.7143 - val_accuracy: 0.0735\n",
            "Epoch 3/10\n",
            "171/171 [==============================] - 5s 31ms/step - loss: 2.7090 - accuracy: 0.0801 - val_loss: 2.7038 - val_accuracy: 0.0809\n",
            "Epoch 4/10\n",
            "171/171 [==============================] - 6s 32ms/step - loss: 2.7072 - accuracy: 0.0805 - val_loss: 2.6901 - val_accuracy: 0.0875\n",
            "Epoch 5/10\n",
            "171/171 [==============================] - 5s 32ms/step - loss: 2.6993 - accuracy: 0.0920 - val_loss: 2.6825 - val_accuracy: 0.0991\n",
            "Epoch 6/10\n",
            "171/171 [==============================] - 5s 32ms/step - loss: 2.6925 - accuracy: 0.0927 - val_loss: 2.6758 - val_accuracy: 0.0966\n",
            "Epoch 7/10\n",
            "171/171 [==============================] - 6s 33ms/step - loss: 2.6833 - accuracy: 0.0999 - val_loss: 2.6691 - val_accuracy: 0.1090\n",
            "Epoch 8/10\n",
            "171/171 [==============================] - 5s 32ms/step - loss: 2.6772 - accuracy: 0.1024 - val_loss: 2.6637 - val_accuracy: 0.1168\n",
            "Epoch 9/10\n",
            "171/171 [==============================] - 5s 31ms/step - loss: 2.6715 - accuracy: 0.1066 - val_loss: 2.6588 - val_accuracy: 0.1275\n",
            "Epoch 10/10\n",
            "171/171 [==============================] - 5s 31ms/step - loss: 2.6667 - accuracy: 0.1114 - val_loss: 2.6523 - val_accuracy: 0.1374\n",
            "177/177 - 1s - loss: 2.6509 - accuracy: 0.1306\n",
            "--------------------------------------------------------------------------------\n",
            "\n",
            "\t --> accuracy on test data : 13.062744% and loss : 2.6508975 <--\n",
            "\n",
            "--------------------------------------------------------------------------------\n",
            "Epoch 1/10\n",
            "171/171 [==============================] - 5s 31ms/step - loss: 2.6585 - accuracy: 0.1159 - val_loss: 2.6169 - val_accuracy: 0.1828\n",
            "Epoch 2/10\n",
            "171/171 [==============================] - 5s 31ms/step - loss: 2.6518 - accuracy: 0.1208 - val_loss: 2.6113 - val_accuracy: 0.1870\n",
            "Epoch 3/10\n",
            "171/171 [==============================] - 5s 31ms/step - loss: 2.6429 - accuracy: 0.1343 - val_loss: 2.6066 - val_accuracy: 0.1944\n",
            "Epoch 4/10\n",
            "171/171 [==============================] - 5s 31ms/step - loss: 2.6388 - accuracy: 0.1346 - val_loss: 2.6011 - val_accuracy: 0.2088\n",
            "Epoch 5/10\n",
            "171/171 [==============================] - 5s 31ms/step - loss: 2.6313 - accuracy: 0.1452 - val_loss: 2.5960 - val_accuracy: 0.2154\n",
            "Epoch 6/10\n",
            "171/171 [==============================] - 5s 31ms/step - loss: 2.6215 - accuracy: 0.1575 - val_loss: 2.5911 - val_accuracy: 0.2249\n",
            "Epoch 7/10\n",
            "171/171 [==============================] - 5s 31ms/step - loss: 2.6148 - accuracy: 0.1642 - val_loss: 2.5853 - val_accuracy: 0.2332\n",
            "Epoch 8/10\n",
            "171/171 [==============================] - 5s 31ms/step - loss: 2.6106 - accuracy: 0.1708 - val_loss: 2.5804 - val_accuracy: 0.2365\n",
            "Epoch 9/10\n",
            "171/171 [==============================] - 6s 33ms/step - loss: 2.6026 - accuracy: 0.1770 - val_loss: 2.5755 - val_accuracy: 0.2489\n",
            "Epoch 10/10\n",
            "171/171 [==============================] - 5s 31ms/step - loss: 2.5968 - accuracy: 0.1874 - val_loss: 2.5706 - val_accuracy: 0.2579\n",
            "177/177 - 1s - loss: 2.5881 - accuracy: 0.2182\n",
            "--------------------------------------------------------------------------------\n",
            "\n",
            "\t --> accuracy on test data : 21.818504% and loss : 2.5880854 <--\n",
            "\n",
            "--------------------------------------------------------------------------------\n",
            "Epoch 1/10\n",
            "171/171 [==============================] - 5s 31ms/step - loss: 2.5924 - accuracy: 0.1937 - val_loss: 2.5541 - val_accuracy: 0.2839\n",
            "Epoch 2/10\n",
            "171/171 [==============================] - 5s 31ms/step - loss: 2.5865 - accuracy: 0.2026 - val_loss: 2.5510 - val_accuracy: 0.2860\n",
            "Epoch 3/10\n",
            "171/171 [==============================] - 5s 31ms/step - loss: 2.5811 - accuracy: 0.2059 - val_loss: 2.5471 - val_accuracy: 0.2959\n",
            "Epoch 4/10\n",
            "171/171 [==============================] - 5s 31ms/step - loss: 2.5760 - accuracy: 0.2149 - val_loss: 2.5435 - val_accuracy: 0.2984\n",
            "Epoch 5/10\n",
            "171/171 [==============================] - 5s 31ms/step - loss: 2.5707 - accuracy: 0.2235 - val_loss: 2.5405 - val_accuracy: 0.3054\n",
            "Epoch 6/10\n",
            "171/171 [==============================] - 5s 31ms/step - loss: 2.5656 - accuracy: 0.2301 - val_loss: 2.5374 - val_accuracy: 0.3079\n",
            "Epoch 7/10\n",
            "171/171 [==============================] - 6s 32ms/step - loss: 2.5593 - accuracy: 0.2402 - val_loss: 2.5339 - val_accuracy: 0.3178\n",
            "Epoch 8/10\n",
            "171/171 [==============================] - 5s 31ms/step - loss: 2.5552 - accuracy: 0.2456 - val_loss: 2.5299 - val_accuracy: 0.3248\n",
            "Epoch 9/10\n",
            "171/171 [==============================] - 5s 32ms/step - loss: 2.5503 - accuracy: 0.2540 - val_loss: 2.5270 - val_accuracy: 0.3281\n",
            "Epoch 10/10\n",
            "171/171 [==============================] - 5s 31ms/step - loss: 2.5465 - accuracy: 0.2652 - val_loss: 2.5235 - val_accuracy: 0.3331\n",
            "177/177 - 1s - loss: 2.5438 - accuracy: 0.2969\n",
            "--------------------------------------------------------------------------------\n",
            "\n",
            "\t --> accuracy on test data : 29.688054% and loss : 2.5437691 <--\n",
            "\n",
            "--------------------------------------------------------------------------------\n",
            "Epoch 1/10\n",
            "171/171 [==============================] - 6s 33ms/step - loss: 2.5439 - accuracy: 0.2700 - val_loss: 2.5014 - val_accuracy: 0.3851\n",
            "Epoch 2/10\n",
            "171/171 [==============================] - 5s 31ms/step - loss: 2.5383 - accuracy: 0.2780 - val_loss: 2.4993 - val_accuracy: 0.3941\n",
            "Epoch 3/10\n",
            "171/171 [==============================] - 5s 31ms/step - loss: 2.5353 - accuracy: 0.2817 - val_loss: 2.4971 - val_accuracy: 0.3974\n",
            "Epoch 4/10\n",
            "171/171 [==============================] - 5s 31ms/step - loss: 2.5313 - accuracy: 0.2875 - val_loss: 2.4940 - val_accuracy: 0.4020\n",
            "Epoch 5/10\n",
            "171/171 [==============================] - 5s 31ms/step - loss: 2.5264 - accuracy: 0.3025 - val_loss: 2.4917 - val_accuracy: 0.4106\n",
            "Epoch 6/10\n",
            "171/171 [==============================] - 5s 31ms/step - loss: 2.5230 - accuracy: 0.3066 - val_loss: 2.4903 - val_accuracy: 0.4164\n",
            "Epoch 7/10\n",
            "171/171 [==============================] - 5s 31ms/step - loss: 2.5199 - accuracy: 0.3139 - val_loss: 2.4872 - val_accuracy: 0.4156\n",
            "Epoch 8/10\n",
            "171/171 [==============================] - 5s 31ms/step - loss: 2.5148 - accuracy: 0.3207 - val_loss: 2.4852 - val_accuracy: 0.4247\n",
            "Epoch 9/10\n",
            "171/171 [==============================] - 5s 31ms/step - loss: 2.5104 - accuracy: 0.3309 - val_loss: 2.4829 - val_accuracy: 0.4292\n",
            "Epoch 10/10\n",
            "171/171 [==============================] - 5s 31ms/step - loss: 2.5086 - accuracy: 0.3324 - val_loss: 2.4802 - val_accuracy: 0.4317\n",
            "177/177 - 1s - loss: 2.5093 - accuracy: 0.3633\n",
            "--------------------------------------------------------------------------------\n",
            "\n",
            "\t --> accuracy on test data : 36.334634% and loss : 2.5093036 <--\n",
            "\n",
            "--------------------------------------------------------------------------------\n",
            "Epoch 1/10\n",
            "171/171 [==============================] - 5s 32ms/step - loss: 2.5061 - accuracy: 0.3394 - val_loss: 2.4560 - val_accuracy: 0.4763\n",
            "Epoch 2/10\n",
            "171/171 [==============================] - 5s 31ms/step - loss: 2.5023 - accuracy: 0.3493 - val_loss: 2.4535 - val_accuracy: 0.4800\n",
            "Epoch 3/10\n",
            "171/171 [==============================] - 5s 31ms/step - loss: 2.4989 - accuracy: 0.3555 - val_loss: 2.4528 - val_accuracy: 0.4837\n",
            "Epoch 4/10\n",
            "171/171 [==============================] - 5s 32ms/step - loss: 2.4954 - accuracy: 0.3637 - val_loss: 2.4506 - val_accuracy: 0.4891\n",
            "Epoch 5/10\n",
            "171/171 [==============================] - 5s 31ms/step - loss: 2.4920 - accuracy: 0.3645 - val_loss: 2.4492 - val_accuracy: 0.4866\n",
            "Epoch 6/10\n",
            "171/171 [==============================] - 5s 31ms/step - loss: 2.4877 - accuracy: 0.3739 - val_loss: 2.4476 - val_accuracy: 0.4915\n",
            "Epoch 7/10\n",
            "171/171 [==============================] - 5s 31ms/step - loss: 2.4847 - accuracy: 0.3823 - val_loss: 2.4458 - val_accuracy: 0.4953\n",
            "Epoch 8/10\n",
            "171/171 [==============================] - 5s 32ms/step - loss: 2.4816 - accuracy: 0.3877 - val_loss: 2.4442 - val_accuracy: 0.4981\n",
            "Epoch 9/10\n",
            "171/171 [==============================] - 5s 32ms/step - loss: 2.4785 - accuracy: 0.3993 - val_loss: 2.4418 - val_accuracy: 0.4994\n",
            "Epoch 10/10\n",
            "171/171 [==============================] - 5s 32ms/step - loss: 2.4754 - accuracy: 0.4010 - val_loss: 2.4410 - val_accuracy: 0.5039\n",
            "177/177 - 1s - loss: 2.4818 - accuracy: 0.4158\n",
            "--------------------------------------------------------------------------------\n",
            "\n",
            "\t --> accuracy on test data : 41.580999% and loss : 2.4817641 <--\n",
            "\n",
            "--------------------------------------------------------------------------------\n",
            "Epoch 1/10\n",
            "171/171 [==============================] - 5s 32ms/step - loss: 2.4744 - accuracy: 0.4063 - val_loss: 2.4278 - val_accuracy: 0.5497\n",
            "Epoch 2/10\n",
            "171/171 [==============================] - 5s 32ms/step - loss: 2.4712 - accuracy: 0.4093 - val_loss: 2.4267 - val_accuracy: 0.5522\n",
            "Epoch 3/10\n",
            "171/171 [==============================] - 5s 32ms/step - loss: 2.4676 - accuracy: 0.4201 - val_loss: 2.4249 - val_accuracy: 0.5497\n",
            "Epoch 4/10\n",
            "171/171 [==============================] - 5s 31ms/step - loss: 2.4633 - accuracy: 0.4245 - val_loss: 2.4237 - val_accuracy: 0.5510\n",
            "Epoch 5/10\n",
            "171/171 [==============================] - 5s 31ms/step - loss: 2.4613 - accuracy: 0.4331 - val_loss: 2.4227 - val_accuracy: 0.5506\n",
            "Epoch 6/10\n",
            "171/171 [==============================] - 5s 31ms/step - loss: 2.4580 - accuracy: 0.4400 - val_loss: 2.4214 - val_accuracy: 0.5559\n",
            "Epoch 7/10\n",
            "171/171 [==============================] - 5s 32ms/step - loss: 2.4564 - accuracy: 0.4425 - val_loss: 2.4197 - val_accuracy: 0.5559\n",
            "Epoch 8/10\n",
            "171/171 [==============================] - 6s 33ms/step - loss: 2.4523 - accuracy: 0.4575 - val_loss: 2.4183 - val_accuracy: 0.5596\n",
            "Epoch 9/10\n",
            "171/171 [==============================] - 5s 32ms/step - loss: 2.4497 - accuracy: 0.4597 - val_loss: 2.4170 - val_accuracy: 0.5646\n",
            "Epoch 10/10\n",
            "171/171 [==============================] - 5s 31ms/step - loss: 2.4466 - accuracy: 0.4705 - val_loss: 2.4159 - val_accuracy: 0.5654\n",
            "177/177 - 1s - loss: 2.4588 - accuracy: 0.4646\n",
            "--------------------------------------------------------------------------------\n",
            "\n",
            "\t --> accuracy on test data : 46.455157% and loss : 2.4587944 <--\n",
            "\n",
            "--------------------------------------------------------------------------------\n",
            "Epoch 1/10\n",
            "171/171 [==============================] - 5s 32ms/step - loss: 2.4467 - accuracy: 0.4673 - val_loss: 2.3952 - val_accuracy: 0.6078\n",
            "Epoch 2/10\n",
            "171/171 [==============================] - 5s 31ms/step - loss: 2.4435 - accuracy: 0.4778 - val_loss: 2.3943 - val_accuracy: 0.6078\n",
            "Epoch 3/10\n",
            "171/171 [==============================] - 5s 32ms/step - loss: 2.4402 - accuracy: 0.4807 - val_loss: 2.3939 - val_accuracy: 0.6107\n",
            "Epoch 4/10\n",
            "171/171 [==============================] - 6s 32ms/step - loss: 2.4387 - accuracy: 0.4867 - val_loss: 2.3926 - val_accuracy: 0.6090\n",
            "Epoch 5/10\n",
            "171/171 [==============================] - 5s 32ms/step - loss: 2.4346 - accuracy: 0.4926 - val_loss: 2.3911 - val_accuracy: 0.6135\n",
            "Epoch 6/10\n",
            "171/171 [==============================] - 5s 31ms/step - loss: 2.4330 - accuracy: 0.4963 - val_loss: 2.3901 - val_accuracy: 0.6107\n",
            "Epoch 7/10\n",
            "171/171 [==============================] - 5s 32ms/step - loss: 2.4308 - accuracy: 0.5028 - val_loss: 2.3887 - val_accuracy: 0.6168\n",
            "Epoch 8/10\n",
            "171/171 [==============================] - 5s 32ms/step - loss: 2.4277 - accuracy: 0.5109 - val_loss: 2.3872 - val_accuracy: 0.6168\n",
            "Epoch 9/10\n",
            "171/171 [==============================] - 5s 31ms/step - loss: 2.4261 - accuracy: 0.5156 - val_loss: 2.3866 - val_accuracy: 0.6177\n",
            "Epoch 10/10\n",
            "171/171 [==============================] - 5s 31ms/step - loss: 2.4231 - accuracy: 0.5206 - val_loss: 2.3856 - val_accuracy: 0.6168\n",
            "177/177 - 1s - loss: 2.4392 - accuracy: 0.4979\n",
            "--------------------------------------------------------------------------------\n",
            "\n",
            "\t --> accuracy on test data : 49.787310% and loss : 2.4392405 <--\n",
            "\n",
            "--------------------------------------------------------------------------------\n",
            "Epoch 1/10\n",
            "171/171 [==============================] - 5s 32ms/step - loss: 2.4221 - accuracy: 0.5224 - val_loss: 2.3677 - val_accuracy: 0.6771\n",
            "Epoch 2/10\n",
            "171/171 [==============================] - 5s 31ms/step - loss: 2.4198 - accuracy: 0.5316 - val_loss: 2.3672 - val_accuracy: 0.6755\n",
            "Epoch 3/10\n",
            "171/171 [==============================] - 5s 31ms/step - loss: 2.4176 - accuracy: 0.5332 - val_loss: 2.3660 - val_accuracy: 0.6763\n",
            "Epoch 4/10\n",
            "171/171 [==============================] - 6s 33ms/step - loss: 2.4147 - accuracy: 0.5387 - val_loss: 2.3653 - val_accuracy: 0.6746\n",
            "Epoch 5/10\n",
            "171/171 [==============================] - 5s 31ms/step - loss: 2.4129 - accuracy: 0.5358 - val_loss: 2.3642 - val_accuracy: 0.6817\n",
            "Epoch 6/10\n",
            "171/171 [==============================] - 5s 31ms/step - loss: 2.4110 - accuracy: 0.5439 - val_loss: 2.3636 - val_accuracy: 0.6821\n",
            "Epoch 7/10\n",
            "171/171 [==============================] - 5s 31ms/step - loss: 2.4090 - accuracy: 0.5533 - val_loss: 2.3621 - val_accuracy: 0.6800\n",
            "Epoch 8/10\n",
            "171/171 [==============================] - 5s 31ms/step - loss: 2.4061 - accuracy: 0.5607 - val_loss: 2.3616 - val_accuracy: 0.6808\n",
            "Epoch 9/10\n",
            "171/171 [==============================] - 5s 31ms/step - loss: 2.4044 - accuracy: 0.5610 - val_loss: 2.3599 - val_accuracy: 0.6800\n",
            "Epoch 10/10\n",
            "171/171 [==============================] - 5s 32ms/step - loss: 2.4005 - accuracy: 0.5721 - val_loss: 2.3596 - val_accuracy: 0.6804\n",
            "177/177 - 1s - loss: 2.4226 - accuracy: 0.5241\n",
            "--------------------------------------------------------------------------------\n",
            "\n",
            "\t --> accuracy on test data : 52.410495% and loss : 2.4225636 <--\n",
            "\n",
            "--------------------------------------------------------------------------------\n",
            "Epoch 1/10\n",
            "171/171 [==============================] - 6s 32ms/step - loss: 2.4000 - accuracy: 0.5743 - val_loss: 2.3494 - val_accuracy: 0.7143\n",
            "Epoch 2/10\n",
            "171/171 [==============================] - 5s 32ms/step - loss: 2.3981 - accuracy: 0.5739 - val_loss: 2.3489 - val_accuracy: 0.7172\n",
            "Epoch 3/10\n",
            "171/171 [==============================] - 5s 32ms/step - loss: 2.3953 - accuracy: 0.5751 - val_loss: 2.3478 - val_accuracy: 0.7139\n",
            "Epoch 4/10\n",
            "171/171 [==============================] - 5s 31ms/step - loss: 2.3931 - accuracy: 0.5805 - val_loss: 2.3474 - val_accuracy: 0.7180\n",
            "Epoch 5/10\n",
            "171/171 [==============================] - 5s 32ms/step - loss: 2.3908 - accuracy: 0.5901 - val_loss: 2.3465 - val_accuracy: 0.7147\n",
            "Epoch 6/10\n",
            "171/171 [==============================] - 5s 32ms/step - loss: 2.3893 - accuracy: 0.5902 - val_loss: 2.3455 - val_accuracy: 0.7172\n",
            "Epoch 7/10\n",
            "171/171 [==============================] - 5s 32ms/step - loss: 2.3876 - accuracy: 0.5935 - val_loss: 2.3448 - val_accuracy: 0.7114\n",
            "Epoch 8/10\n",
            "171/171 [==============================] - 5s 31ms/step - loss: 2.3852 - accuracy: 0.5985 - val_loss: 2.3441 - val_accuracy: 0.7143\n",
            "Epoch 9/10\n",
            "171/171 [==============================] - 6s 33ms/step - loss: 2.3841 - accuracy: 0.5983 - val_loss: 2.3429 - val_accuracy: 0.7143\n",
            "Epoch 10/10\n",
            "171/171 [==============================] - 5s 32ms/step - loss: 2.3823 - accuracy: 0.6067 - val_loss: 2.3426 - val_accuracy: 0.7135\n",
            "177/177 - 1s - loss: 2.4073 - accuracy: 0.5431\n",
            "--------------------------------------------------------------------------------\n",
            "\n",
            "\t --> accuracy on test data : 54.306984% and loss : 2.4072635 <--\n",
            "\n",
            "--------------------------------------------------------------------------------\n",
            "Epoch 1/10\n",
            "171/171 [==============================] - 5s 32ms/step - loss: 2.3806 - accuracy: 0.6068 - val_loss: 2.3316 - val_accuracy: 0.7316\n",
            "Epoch 2/10\n",
            "171/171 [==============================] - 5s 32ms/step - loss: 2.3793 - accuracy: 0.6079 - val_loss: 2.3309 - val_accuracy: 0.7341\n",
            "Epoch 3/10\n",
            "171/171 [==============================] - 5s 32ms/step - loss: 2.3778 - accuracy: 0.6116 - val_loss: 2.3302 - val_accuracy: 0.7312\n",
            "Epoch 4/10\n",
            "171/171 [==============================] - 5s 32ms/step - loss: 2.3751 - accuracy: 0.6203 - val_loss: 2.3288 - val_accuracy: 0.7329\n",
            "Epoch 5/10\n",
            "171/171 [==============================] - 5s 32ms/step - loss: 2.3724 - accuracy: 0.6207 - val_loss: 2.3282 - val_accuracy: 0.7316\n",
            "Epoch 6/10\n",
            "171/171 [==============================] - 5s 31ms/step - loss: 2.3707 - accuracy: 0.6292 - val_loss: 2.3279 - val_accuracy: 0.7291\n",
            "Epoch 7/10\n",
            "171/171 [==============================] - 5s 31ms/step - loss: 2.3699 - accuracy: 0.6272 - val_loss: 2.3273 - val_accuracy: 0.7296\n",
            "Epoch 8/10\n",
            "171/171 [==============================] - 5s 32ms/step - loss: 2.3679 - accuracy: 0.6356 - val_loss: 2.3269 - val_accuracy: 0.7296\n",
            "Epoch 9/10\n",
            "171/171 [==============================] - 5s 31ms/step - loss: 2.3660 - accuracy: 0.6327 - val_loss: 2.3257 - val_accuracy: 0.7287\n",
            "Epoch 10/10\n",
            "171/171 [==============================] - 5s 31ms/step - loss: 2.3644 - accuracy: 0.6376 - val_loss: 2.3247 - val_accuracy: 0.7300\n",
            "177/177 - 1s - loss: 2.3942 - accuracy: 0.5615\n",
            "--------------------------------------------------------------------------------\n",
            "\n",
            "\t --> accuracy on test data : 56.150299% and loss : 2.3942208 <--\n",
            "\n",
            "--------------------------------------------------------------------------------\n",
            "done\n",
            "CPU times: user 7min 31s, sys: 35.7 s, total: 8min 6s\n",
            "Wall time: 9min 10s\n"
          ],
          "name": "stdout"
        }
      ]
    },
    {
      "cell_type": "code",
      "metadata": {
        "colab": {
          "base_uri": "https://localhost:8080/",
          "height": 296
        },
        "id": "LerEkYddj4ah",
        "outputId": "641b56fb-4145-46ba-9c0b-3e24c3f1d713"
      },
      "source": [
        "plt.plot([i for i in range(1,11)],scores2,label='TESTING')\n",
        "plt.xlabel('Epochs')\n",
        "plt.ylabel('Accuracy')\n",
        "plt.legend()"
      ],
      "execution_count": null,
      "outputs": [
        {
          "output_type": "execute_result",
          "data": {
            "text/plain": [
              "<matplotlib.legend.Legend at 0x7f8d85757e80>"
            ]
          },
          "metadata": {
            "tags": []
          },
          "execution_count": 102
        },
        {
          "output_type": "display_data",
          "data": {
            "image/png": "[encoded data removed]",
            "text/plain": [
              "<Figure size 432x288 with 1 Axes>"
            ]
          },
          "metadata": {
            "tags": [],
            "needs_background": "light"
          }
        }
      ]
    },
    {
      "cell_type": "markdown",
      "metadata": {
        "id": "tV41GURCvysz"
      },
      "source": [
        "Training Curves"
      ]
    },
    {
      "cell_type": "code",
      "metadata": {
        "colab": {
          "base_uri": "https://localhost:8080/"
        },
        "id": "5maEDx4Xw484",
        "outputId": "8b301c91-8f64-4e08-f2fb-37e13e961b1c"
      },
      "source": [
        "acc2 = []\n",
        "for i in range(10):\n",
        "  acc2.extend(histories2[i].history['accuracy'])\n",
        "print(len(acc2))\n",
        "val_acc2 = []\n",
        "for i in range(10):\n",
        "  val_acc2.extend(histories2[i].history['val_accuracy'])\n",
        "print(len(val_acc2))\n"
      ],
      "execution_count": null,
      "outputs": [
        {
          "output_type": "stream",
          "text": [
            "100\n",
            "100\n"
          ],
          "name": "stdout"
        }
      ]
    },
    {
      "cell_type": "code",
      "metadata": {
        "colab": {
          "base_uri": "https://localhost:8080/",
          "height": 325
        },
        "id": "knT1fmNCxN6Q",
        "outputId": "e4fd95ff-8317-4ce4-cc6c-54ee230e72c4"
      },
      "source": [
        "\n",
        "plt.plot([i for i in range(0,len(acc2))] ,acc2,label=' Training Accuracy',linewidth=2,color=\"#111000\")\n",
        "plt.plot([i for i in range(0,len(val_acc2))] ,val_acc2,label='Cross Validation Accuracy',color=\"#ff0001\",linewidth=1)\n",
        "\n",
        "plt.xlabel('epochs')\n",
        "plt.ylabel('accuracy')\n",
        "plt.suptitle('TRAINING ACCURACY')\n",
        "plt.legend()"
      ],
      "execution_count": null,
      "outputs": [
        {
          "output_type": "execute_result",
          "data": {
            "text/plain": [
              "<matplotlib.legend.Legend at 0x7f8d794e7978>"
            ]
          },
          "metadata": {
            "tags": []
          },
          "execution_count": 125
        },
        {
          "output_type": "display_data",
          "data": {
            "image/png": "[encoded data removed]",
            "text/plain": [
              "<Figure size 432x288 with 1 Axes>"
            ]
          },
          "metadata": {
            "tags": [],
            "needs_background": "light"
          }
        }
      ]
    },
    {
      "cell_type": "code",
      "metadata": {
        "id": "EVPEDB39maPb",
        "colab": {
          "base_uri": "https://localhost:8080/"
        },
        "outputId": "d23d6e84-3291-4840-91fd-d52448119301"
      },
      "source": [
        "print('saving model...')\n",
        "my_model5.save('content/Jan5_model3_withLSTM_with2ConvLayers')\n",
        "print('saved')"
      ],
      "execution_count": null,
      "outputs": [
        {
          "output_type": "stream",
          "text": [
            "saving model...\n"
          ],
          "name": "stdout"
        },
        {
          "output_type": "stream",
          "text": [
            "WARNING:absl:Found untraced functions such as lstm_cell_1_layer_call_fn, lstm_cell_1_layer_call_and_return_conditional_losses, lstm_cell_1_layer_call_fn, lstm_cell_1_layer_call_and_return_conditional_losses, lstm_cell_1_layer_call_and_return_conditional_losses while saving (showing 5 of 5). These functions will not be directly callable after loading.\n",
            "WARNING:absl:Found untraced functions such as lstm_cell_1_layer_call_fn, lstm_cell_1_layer_call_and_return_conditional_losses, lstm_cell_1_layer_call_fn, lstm_cell_1_layer_call_and_return_conditional_losses, lstm_cell_1_layer_call_and_return_conditional_losses while saving (showing 5 of 5). These functions will not be directly callable after loading.\n"
          ],
          "name": "stderr"
        },
        {
          "output_type": "stream",
          "text": [
            "INFO:tensorflow:Assets written to: content/Jan5_model3_withLSTM_with2ConvLayers/assets\n"
          ],
          "name": "stdout"
        },
        {
          "output_type": "stream",
          "text": [
            "INFO:tensorflow:Assets written to: content/Jan5_model3_withLSTM_with2ConvLayers/assets\n"
          ],
          "name": "stderr"
        },
        {
          "output_type": "stream",
          "text": [
            "saved\n"
          ],
          "name": "stdout"
        }
      ]
    },
    {
      "cell_type": "code",
      "metadata": {
        "colab": {
          "base_uri": "https://localhost:8080/"
        },
        "id": "VWw6HB5pv9fL",
        "outputId": "0d34f875-22a0-4a2a-a467-8ed476ed1b22"
      },
      "source": [
        "!zip -r /content/Jan5_model3_withLSTM_with2ConvLayers.zip /content/content/Jan5_model3_withLSTM_with2ConvLayers\n"
      ],
      "execution_count": null,
      "outputs": [
        {
          "output_type": "stream",
          "text": [
            "  adding: content/content/Jan5_model3_withLSTM_with2ConvLayers/ (stored 0%)\n",
            "  adding: content/content/Jan5_model3_withLSTM_with2ConvLayers/saved_model.pb (deflated 89%)\n",
            "  adding: content/content/Jan5_model3_withLSTM_with2ConvLayers/assets/ (stored 0%)\n",
            "  adding: content/content/Jan5_model3_withLSTM_with2ConvLayers/variables/ (stored 0%)\n",
            "  adding: content/content/Jan5_model3_withLSTM_with2ConvLayers/variables/variables.index (deflated 71%)\n",
            "  adding: content/content/Jan5_model3_withLSTM_with2ConvLayers/variables/variables.data-00000-of-00001 (deflated 8%)\n"
          ],
          "name": "stdout"
        }
      ]
    },
    {
      "cell_type": "code",
      "metadata": {
        "colab": {
          "base_uri": "https://localhost:8080/"
        },
        "id": "7a9snzO6wHd-",
        "outputId": "4986f8c0-df1e-4b3f-9da9-d051b3e0e9fa"
      },
      "source": [
        "!cp '/content/Jan5_model3_withLSTM_with2ConvLayers.zip' '/content/drive/My Drive/datasets/LanguageDataset/final_changes/DL_models'\n",
        "!echo copied to drive"
      ],
      "execution_count": null,
      "outputs": [
        {
          "output_type": "stream",
          "text": [
            "copied to drive\n"
          ],
          "name": "stdout"
        }
      ]
    },
    {
      "cell_type": "code",
      "metadata": {
        "colab": {
          "base_uri": "https://localhost:8080/"
        },
        "id": "VMdydVo6wO7p",
        "outputId": "8ffbafa3-ca7a-499a-ae52-78bca6c77280"
      },
      "source": [
        "%%time\n",
        "predictions_2 = my_model5.predict(X_test_padded)\n",
        "print('done predicting on test data')\n",
        "print(type(predictions_2),predictions_2.shape)\n"
      ],
      "execution_count": null,
      "outputs": [
        {
          "output_type": "stream",
          "text": [
            "done predicting on test data\n",
            "<class 'numpy.ndarray'> (5642, 15)\n",
            "CPU times: user 1.05 s, sys: 71.2 ms, total: 1.12 s\n",
            "Wall time: 976 ms\n"
          ],
          "name": "stdout"
        }
      ]
    },
    {
      "cell_type": "code",
      "metadata": {
        "colab": {
          "base_uri": "https://localhost:8080/"
        },
        "id": "HCL4fGgiweAV",
        "outputId": "002f1a8d-e966-4cfd-fb8c-e21154903184"
      },
      "source": [
        "second_preds = np.argmax(predictions_2,axis=1)\n",
        "second_preds.shape"
      ],
      "execution_count": null,
      "outputs": [
        {
          "output_type": "execute_result",
          "data": {
            "text/plain": [
              "(5642,)"
            ]
          },
          "metadata": {
            "tags": []
          },
          "execution_count": 107
        }
      ]
    },
    {
      "cell_type": "code",
      "metadata": {
        "colab": {
          "base_uri": "https://localhost:8080/"
        },
        "id": "3PO0dDRHwnol",
        "outputId": "17b4009b-787b-4d72-d3e0-91e7aabf5970"
      },
      "source": [
        "print('\\n','-'*50,'\\n')\n",
        "cnf_matrix2 = confusion_matrix(actual_pred, second_preds)\n",
        "print(cnf_matrix2)"
      ],
      "execution_count": null,
      "outputs": [
        {
          "output_type": "stream",
          "text": [
            "\n",
            " -------------------------------------------------- \n",
            "\n",
            "[[235  18   4   3   6   8  11   9  11  29   8  10   3   6   8]\n",
            " [ 16 210   7  57  13   4   1  10  13   5   8  11   5   5   3]\n",
            " [  4  11 142  25  12  82  20  19   7   9   4  10   5  22   8]\n",
            " [ 15  54  24 187   8  10   2  14   5   3   7   8   3   6   5]\n",
            " [  4  11  10  17 235   9   5  20  18   9  12  15   8   1  22]\n",
            " [ 11   5  93   7  16 137   5  20   7  13  11  20  18   5   6]\n",
            " [  4   2   6   3   9   5 265  11   5  19   8  10   2  12   6]\n",
            " [  2   7   8  12  10   7  14 253   9   4   5   2   1  12  17]\n",
            " [ 23  14   2   5  23  13  20  18 147  19  67  24   7  10   4]\n",
            " [ 36   9   8   3  10  14  42   8  10 174  21  12   3  29   7]\n",
            " [ 12   6   3   5  13   7   9  14  33  20 167  39  17  13   5]\n",
            " [ 11   6  11   2  13  11  18  12  16  22  34 179  20  16   5]\n",
            " [  6   8  11   7   8  29   4   2   5   7   8   8 281   4   7]\n",
            " [  2   6  10   7   4  10  10   8   5  17   2  15   6 272   4]\n",
            " [  2   2   5   6   9   5  12  39   2   1   6   1   4   2 284]]\n"
          ],
          "name": "stdout"
        }
      ]
    },
    {
      "cell_type": "code",
      "metadata": {
        "colab": {
          "base_uri": "https://localhost:8080/",
          "height": 782
        },
        "id": "MJMq7FAbwu9V",
        "outputId": "f2a608a8-2b10-40b7-db86-f179f3f51c7d"
      },
      "source": [
        "# make_confusion_matrix(cnf_matrix, figsize=(12,12), cbar=False )\n",
        "make_confusion_matrix(cnf_matrix2, figsize=(12,12), cbar=False ,categories=class_names)\n"
      ],
      "execution_count": null,
      "outputs": [
        {
          "output_type": "display_data",
          "data": {
            "image/png": "[encoded data removed]",
            "text/plain": [
              "<Figure size 864x864 with 1 Axes>"
            ]
          },
          "metadata": {
            "tags": [],
            "needs_background": "light"
          }
        }
      ]
    },
    {
      "cell_type": "code",
      "metadata": {
        "id": "ZKf1dT0uyE6w"
      },
      "source": [
        ""
      ],
      "execution_count": null,
      "outputs": []
    }
  ]
}