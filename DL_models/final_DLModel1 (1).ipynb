{
  "nbformat": 4,
  "nbformat_minor": 0,
  "metadata": {
    "accelerator": "GPU",
    "colab": {
      "name": "final_DLModel1.ipynb",
      "provenance": [],
      "collapsed_sections": [],
      "toc_visible": true
    },
    "kernelspec": {
      "display_name": "Python 3",
      "name": "python3"
    }
  },
  "cells": [
    {
      "cell_type": "code",
      "metadata": {
        "id": "nZ5iPO3T_5tc"
      },
      "source": [
        "#@title Version 1 <br>vocab size = 10000 , padding = 1000 <br> testing accuracy around 70%"
      ],
      "execution_count": 1,
      "outputs": []
    },
    {
      "cell_type": "markdown",
      "metadata": {
        "id": "EYLKcUH4_5Ib"
      },
      "source": [
        "## first dataset : final_dataset_1.csv"
      ]
    },
    {
      "cell_type": "markdown",
      "metadata": {
        "id": "dujUpWi0AIxW"
      },
      "source": [
        "### Connect to drive"
      ]
    },
    {
      "cell_type": "code",
      "metadata": {
        "colab": {
          "base_uri": "https://localhost:8080/"
        },
        "id": "GNddv50T_xt1",
        "outputId": "e7d187e1-8908-489f-a973-d0ae8edd3184"
      },
      "source": [
        "import pandas as pd\n",
        "import matplotlib.pyplot as plt\n",
        "import numpy as np\n",
        "import os\n",
        "from os import listdir\n",
        "from os.path import isfile, join\n",
        "from google.colab import drive\n",
        "# print('\\nimports done\\n mounting drive')\n",
        "drive.mount('/content/drive')"
      ],
      "execution_count": 2,
      "outputs": [
        {
          "output_type": "stream",
          "text": [
            "Mounted at /content/drive\n"
          ],
          "name": "stdout"
        }
      ]
    },
    {
      "cell_type": "markdown",
      "metadata": {
        "id": "Xz4mpcm7ZPhI"
      },
      "source": [
        "text = re.sub(r'^https?:\\/\\/.*[\\r\\n]*', '', text, flags=re.MULTILINE)\n"
      ]
    },
    {
      "cell_type": "code",
      "metadata": {
        "colab": {
          "base_uri": "https://localhost:8080/"
        },
        "id": "6yR8JEzzALsk",
        "outputId": "a3b1a4b9-5b58-4b62-f55e-c34499bbca78"
      },
      "source": [
        "!ls"
      ],
      "execution_count": 3,
      "outputs": [
        {
          "output_type": "stream",
          "text": [
            "drive  sample_data\n"
          ],
          "name": "stdout"
        }
      ]
    },
    {
      "cell_type": "code",
      "metadata": {
        "colab": {
          "base_uri": "https://localhost:8080/"
        },
        "id": "AbeKnMSbAXCJ",
        "outputId": "4c9c00e8-4072-4876-a226-adf3eee62e66"
      },
      "source": [
        "!mkdir dataset\n",
        "!ls"
      ],
      "execution_count": 4,
      "outputs": [
        {
          "output_type": "stream",
          "text": [
            "dataset  drive\tsample_data\n"
          ],
          "name": "stdout"
        }
      ]
    },
    {
      "cell_type": "code",
      "metadata": {
        "colab": {
          "base_uri": "https://localhost:8080/"
        },
        "id": "asc6kZLYAaeY",
        "outputId": "7d6f5296-ae5b-49d9-ef6c-23bb4241452e"
      },
      "source": [
        "!cp '/content/drive/MyDrive/datasets/LanguageDataset/final_changes/final_dataset_1.csv' /content/dataset/\n",
        "! echo copied final_dataset_1\n",
        "\n",
        "!cp '/content/drive/MyDrive/datasets/LanguageDataset/final_changes/final_dataset_2.csv' /content/dataset/\n",
        "! echo copied final_dataset_2\n"
      ],
      "execution_count": 5,
      "outputs": [
        {
          "output_type": "stream",
          "text": [
            "copied final_dataset_1\n",
            "copied final_dataset_2\n"
          ],
          "name": "stdout"
        }
      ]
    },
    {
      "cell_type": "code",
      "metadata": {
        "colab": {
          "base_uri": "https://localhost:8080/",
          "height": 419
        },
        "id": "zZ0TI6BbAmFZ",
        "outputId": "b06cdb41-c6bd-4a43-a007-2814ef599ea7"
      },
      "source": [
        "data = pd.read_csv('/content/dataset/final_dataset_1.csv')\n",
        "data"
      ],
      "execution_count": 6,
      "outputs": [
        {
          "output_type": "execute_result",
          "data": {
            "text/html": [
              "<div>\n",
              "<style scoped>\n",
              "    .dataframe tbody tr th:only-of-type {\n",
              "        vertical-align: middle;\n",
              "    }\n",
              "\n",
              "    .dataframe tbody tr th {\n",
              "        vertical-align: top;\n",
              "    }\n",
              "\n",
              "    .dataframe thead th {\n",
              "        text-align: right;\n",
              "    }\n",
              "</style>\n",
              "<table border=\"1\" class=\"dataframe\">\n",
              "  <thead>\n",
              "    <tr style=\"text-align: right;\">\n",
              "      <th></th>\n",
              "      <th>Language</th>\n",
              "      <th>Source</th>\n",
              "    </tr>\n",
              "  </thead>\n",
              "  <tbody>\n",
              "    <tr>\n",
              "      <th>0</th>\n",
              "      <td>bash</td>\n",
              "      <td>bash\\nalias tail_ls=\"ls -l $1 | tail\"\\n\\ntail_...</td>\n",
              "    </tr>\n",
              "    <tr>\n",
              "      <th>1</th>\n",
              "      <td>bash</td>\n",
              "      <td>ERR_COUNT=`echo $VAR_WITH_TEXT | grep \"ERROR t...</td>\n",
              "    </tr>\n",
              "    <tr>\n",
              "      <th>2</th>\n",
              "      <td>bash</td>\n",
              "      <td>SET JARS=^\\n./lib/apache-mime4j-0.6.jar;^\\n./l...</td>\n",
              "    </tr>\n",
              "    <tr>\n",
              "      <th>3</th>\n",
              "      <td>bash</td>\n",
              "      <td>2010-02-20 21:01 1458414588   s3://file1.tgz.0...</td>\n",
              "    </tr>\n",
              "    <tr>\n",
              "      <th>4</th>\n",
              "      <td>bash</td>\n",
              "      <td>pkill /?\\n\\n[ws@RHDev ~]# pkill $(ps aux | gre...</td>\n",
              "    </tr>\n",
              "    <tr>\n",
              "      <th>...</th>\n",
              "      <td>...</td>\n",
              "      <td>...</td>\n",
              "    </tr>\n",
              "    <tr>\n",
              "      <th>29995</th>\n",
              "      <td>swift</td>\n",
              "      <td>/* Scale and crop image */\\nfunc imageByScalin...</td>\n",
              "    </tr>\n",
              "    <tr>\n",
              "      <th>29996</th>\n",
              "      <td>swift</td>\n",
              "      <td>import UIKit\\nimport MapKit\\n\\nclass ViewContr...</td>\n",
              "    </tr>\n",
              "    <tr>\n",
              "      <th>29997</th>\n",
              "      <td>swift</td>\n",
              "      <td>html\\nUIWebView\\nParseConfig\\nhtml\\nParseConfi...</td>\n",
              "    </tr>\n",
              "    <tr>\n",
              "      <th>29998</th>\n",
              "      <td>swift</td>\n",
              "      <td>var array1: [AnyObject!] = []\\n\\n    var key...</td>\n",
              "    </tr>\n",
              "    <tr>\n",
              "      <th>29999</th>\n",
              "      <td>swift</td>\n",
              "      <td>extension Array {\\n    public func second() -&gt;...</td>\n",
              "    </tr>\n",
              "  </tbody>\n",
              "</table>\n",
              "<p>30000 rows × 2 columns</p>\n",
              "</div>"
            ],
            "text/plain": [
              "      Language                                             Source\n",
              "0         bash  bash\\nalias tail_ls=\"ls -l $1 | tail\"\\n\\ntail_...\n",
              "1         bash  ERR_COUNT=`echo $VAR_WITH_TEXT | grep \"ERROR t...\n",
              "2         bash  SET JARS=^\\n./lib/apache-mime4j-0.6.jar;^\\n./l...\n",
              "3         bash  2010-02-20 21:01 1458414588   s3://file1.tgz.0...\n",
              "4         bash  pkill /?\\n\\n[ws@RHDev ~]# pkill $(ps aux | gre...\n",
              "...        ...                                                ...\n",
              "29995    swift  /* Scale and crop image */\\nfunc imageByScalin...\n",
              "29996    swift  import UIKit\\nimport MapKit\\n\\nclass ViewContr...\n",
              "29997    swift  html\\nUIWebView\\nParseConfig\\nhtml\\nParseConfi...\n",
              "29998    swift    var array1: [AnyObject!] = []\\n\\n    var key...\n",
              "29999    swift  extension Array {\\n    public func second() ->...\n",
              "\n",
              "[30000 rows x 2 columns]"
            ]
          },
          "metadata": {
            "tags": []
          },
          "execution_count": 6
        }
      ]
    },
    {
      "cell_type": "markdown",
      "metadata": {
        "id": "DTDlstsnAucz"
      },
      "source": [
        "### Describing Dataset part 1"
      ]
    },
    {
      "cell_type": "code",
      "metadata": {
        "colab": {
          "base_uri": "https://localhost:8080/",
          "height": 369
        },
        "id": "RfSBNcIVAqBR",
        "outputId": "0b383018-5278-42d6-ba75-8f27cb7db7ba"
      },
      "source": [
        "data.groupby('Language')['Source'].count().plot.bar(ylim=0,grid=False,color='#11100f')\n",
        "plt.xlabel('\\n languages')\n",
        "plt.ylabel('no of examples available')\n",
        "plt.title('Dataset')"
      ],
      "execution_count": 7,
      "outputs": [
        {
          "output_type": "execute_result",
          "data": {
            "text/plain": [
              "Text(0.5, 1.0, 'Dataset')"
            ]
          },
          "metadata": {
            "tags": []
          },
          "execution_count": 7
        },
        {
          "output_type": "display_data",
          "data": {
            "image/png": "[encoded data removed]",
            "text/plain": [
              "<Figure size 432x288 with 1 Axes>"
            ]
          },
          "metadata": {
            "tags": [],
            "needs_background": "light"
          }
        }
      ]
    },
    {
      "cell_type": "code",
      "metadata": {
        "colab": {
          "base_uri": "https://localhost:8080/",
          "height": 314
        },
        "id": "CUhqBeTPBD-g",
        "outputId": "e6905fda-4f98-4086-c027-db2be58fe5f7"
      },
      "source": [
        "data.groupby('Language')['Source'].count().plot.pie(explode=[0.01+(0.053*i) for i in range(15)] )"
      ],
      "execution_count": 8,
      "outputs": [
        {
          "output_type": "execute_result",
          "data": {
            "text/plain": [
              "<matplotlib.axes._subplots.AxesSubplot at 0x7f4a2956ad30>"
            ]
          },
          "metadata": {
            "tags": []
          },
          "execution_count": 8
        },
        {
          "output_type": "display_data",
          "data": {
            "image/png": "[encoded data removed]",
            "text/plain": [
              "<Figure size 432x288 with 1 Axes>"
            ]
          },
          "metadata": {
            "tags": []
          }
        }
      ]
    },
    {
      "cell_type": "markdown",
      "metadata": {
        "id": "c3uNghBYA1tS"
      },
      "source": [
        "### Dataset is not clean "
      ]
    },
    {
      "cell_type": "markdown",
      "metadata": {
        "id": "9rPnbrH7A4hF"
      },
      "source": [
        "### PREPROCESSING OF DATASET USING REGULAR EXPRESSION AND NLTK"
      ]
    },
    {
      "cell_type": "code",
      "metadata": {
        "colab": {
          "base_uri": "https://localhost:8080/"
        },
        "id": "T-net_YbAzQ7",
        "outputId": "af5e97c8-3f04-44f2-a1f4-57fe9f743da3"
      },
      "source": [
        "import nltk\n",
        "\n",
        "from nltk.corpus import stopwords\n",
        "from nltk.tokenize import word_tokenize\n",
        "\n",
        "nltk.download('stopwords')\n",
        "nltk.download('punkt')\n",
        "print('.....done')"
      ],
      "execution_count": 9,
      "outputs": [
        {
          "output_type": "stream",
          "text": [
            "[nltk_data] Downloading package stopwords to /root/nltk_data...\n",
            "[nltk_data]   Unzipping corpora/stopwords.zip.\n",
            "[nltk_data] Downloading package punkt to /root/nltk_data...\n",
            "[nltk_data]   Unzipping tokenizers/punkt.zip.\n",
            ".....done\n"
          ],
          "name": "stdout"
        }
      ]
    },
    {
      "cell_type": "code",
      "metadata": {
        "colab": {
          "base_uri": "https://localhost:8080/"
        },
        "id": "M4cfCMulBAHG",
        "outputId": "df7350f8-696e-49ac-8fa5-4fc6ae3e93d1"
      },
      "source": [
        "import re\n",
        "stopwords_list = stopwords.words('english')\n",
        "print(len(stopwords_list))"
      ],
      "execution_count": 10,
      "outputs": [
        {
          "output_type": "stream",
          "text": [
            "179\n"
          ],
          "name": "stdout"
        }
      ]
    },
    {
      "cell_type": "code",
      "metadata": {
        "colab": {
          "base_uri": "https://localhost:8080/"
        },
        "id": "2xQDN8prBjBa",
        "outputId": "6f430c2c-90dd-4696-c781-fcc0855d89f7"
      },
      "source": [
        "stopwords_list.extend(['left','right','up','down','center','centre'])\n",
        "print(len(stopwords_list))"
      ],
      "execution_count": 11,
      "outputs": [
        {
          "output_type": "stream",
          "text": [
            "185\n"
          ],
          "name": "stdout"
        }
      ]
    },
    {
      "cell_type": "code",
      "metadata": {
        "colab": {
          "base_uri": "https://localhost:8080/"
        },
        "id": "CxQjvkgwBz2I",
        "outputId": "d7a26e92-2ac5-46de-971e-46ea2a99beb3"
      },
      "source": [
        "stopwords_list.extend(['bottom','start','end','price','location','fix','here'])\n",
        "print(len(stopwords_list))\n"
      ],
      "execution_count": 12,
      "outputs": [
        {
          "output_type": "stream",
          "text": [
            "192\n"
          ],
          "name": "stdout"
        }
      ]
    },
    {
      "cell_type": "code",
      "metadata": {
        "colab": {
          "base_uri": "https://localhost:8080/"
        },
        "id": "btzc1JUTBJYR",
        "outputId": "436dab20-cad9-4add-8568-a269dad23981"
      },
      "source": [
        "def expression1(text):\n",
        "    # remove single character\n",
        "\n",
        "    #removing url \n",
        "    text = re.sub(r\"http\\S+\", \"\", text)\n",
        "    text = re.sub(r'^https?://.*[\\r\\n]*', '', text, flags=re.MULTILINE)\n",
        "    text = re.sub(r'^http?://.*[\\r\\n]*', '', text, flags=re.MULTILINE)\n",
        "    text = re.sub(r'^www?://.*[\\r\\n]*', '', text, flags=re.MULTILINE)\n",
        "\n",
        "    text = ' '.join(['' if len(i)==1 else i for i in text.split()])\n",
        "    \n",
        "    # text = re.sub('{','',text)\n",
        "    # text = re.sub('}','',text)\n",
        "    \n",
        "    # to remove '(' , ' )' , '[' , ']' ... replaced with a space \n",
        "    # text = re.sub('\\\\(',' ',text)\n",
        "    # text = re.sub('\\\\)',' ',text)\n",
        "    # text = re.sub('\\\\[',' ',text)\n",
        "    # text = re.sub('\\\\]',' ',text)\n",
        "    # replace . with a space\n",
        "    # text = re.sub('\\\\.',' ',text)\n",
        "    \n",
        "    # remove unicode\n",
        "    \n",
        "    text = re.sub(r'(\\\\u[0-9A-Fa-f]+)',r'', text)       \n",
        "    text = re.sub(r'[^\\x00-\\x7f]',r'',text)\n",
        "    \n",
        "    # remove digits\n",
        "    text = re.sub('[0-9]',' ',text)\n",
        "    \n",
        "    #     remove + - * / < >\n",
        "    text = re.sub('\\\\+',' ',text)\n",
        "    text = re.sub('\\\\=',' ',text)\n",
        "    text = re.sub('\\\\-',' ',text)\n",
        "    text = re.sub('\\\\*',' ',text)\n",
        "    text = re.sub('\\\\/',' ',text)\n",
        "    # text = re.sub('\\\\<',' ',text)\n",
        "    # text = re.sub('\\\\>',' ',text)\n",
        "#     text = re.sub('\\\\:',' ',text)\n",
        "    \n",
        "#     text = text.replace(':',r' : ')\n",
        "    \n",
        "    \n",
        "    #     text = ' '.join(text.split())\n",
        "\n",
        "    # replace single chars again \n",
        "    text = ' '.join(['' if len(i)==1 else i for i in text.split()])\n",
        "    \n",
        "    # spacing quoted statement\n",
        "    text = re.sub('\"',' \" ',text)\n",
        "    # replace url\n",
        "\n",
        "    text = re.sub('((www\\.[^\\s]+)|(https?://[^\\s]+))',' ',text)\n",
        "        #Replaces url address with \"url\" \n",
        "    # text = re.sub('((www\\.[^\\s]+)|(https?://[^\\s]+))',' ',text)\n",
        "\t  # text = re.sub(r'#([^\\s]+)', r'\\1',text)\n",
        "\n",
        "    return text\n",
        "\n",
        "# def replaceURL(text):\n",
        "\n",
        "def clean_code(text):\n",
        "  text = expression1(text)\n",
        "  text_tokens = word_tokenize(text)\n",
        "  tokens_without_stopwords = [word for word in text_tokens if not word in stopwords_list] \n",
        "  # stopwords.words()]\n",
        "  return ' '.join(tokens_without_stopwords)\n",
        "\n",
        "print(\"TRY expresion1\")"
      ],
      "execution_count": 13,
      "outputs": [
        {
          "output_type": "stream",
          "text": [
            "TRY expresion1\n"
          ],
          "name": "stdout"
        }
      ]
    },
    {
      "cell_type": "code",
      "metadata": {
        "colab": {
          "base_uri": "https://localhost:8080/"
        },
        "id": "upmKWgZhBXcU",
        "outputId": "b58c2eb6-051f-4b55-8aa4-1cfeb9aca0c5"
      },
      "source": [
        "%%time\n",
        "\n",
        "line_7210 = data.iloc[15710]['Source']\n",
        "cleaned_7210 =  clean_code(line_7210)\n",
        "\n",
        "print(line_7210 , '\\n ->',len(line_7210))\n",
        "print('-'*60,'\\n\\n')\n",
        "print(cleaned_7210,'\\n ->',len(cleaned_7210))\n"
      ],
      "execution_count": 14,
      "outputs": [
        {
          "output_type": "stream",
          "text": [
            "NSString *url = @\"http://stackoverflow.com/questions/ask\";\n",
            "\n",
            " \n",
            " -> 60\n",
            "------------------------------------------------------------ \n",
            "\n",
            "\n",
            "NSString url @ `` \n",
            " -> 17\n",
            "CPU times: user 7.96 ms, sys: 1.76 ms, total: 9.73 ms\n",
            "Wall time: 13.3 ms\n"
          ],
          "name": "stdout"
        }
      ]
    },
    {
      "cell_type": "markdown",
      "metadata": {
        "id": "gi_6oY0VCKHP"
      },
      "source": [
        "### Cleaning dataset"
      ]
    },
    {
      "cell_type": "code",
      "metadata": {
        "colab": {
          "base_uri": "https://localhost:8080/"
        },
        "id": "Qe5Xf1vTBbO6",
        "outputId": "18a1009a-f65b-4360-fecc-6a88a3bd928f"
      },
      "source": [
        "%%time\n",
        "\n",
        "dataset_refined = data.dropna().copy()\n",
        "print(len(dataset_refined))\n",
        "print('\\n\\n->created a copy')\n",
        "dataset_refined['Source'] =  dataset_refined['Source'].astype(str)\n",
        "print('\\n->as string')\n",
        "dataset_refined['Source'] =  dataset_refined['Source'].apply(clean_code)\n",
        "print('\\n->cleaned code with expression1')\n",
        "dataset_refined.to_csv('dataset/cleaned_data_1_v2.csv',index=None)\n",
        "print('\\n->saved cleaned csv , columns : ',dataset_refined.columns)\n",
        "\n",
        "print('done')"
      ],
      "execution_count": 15,
      "outputs": [
        {
          "output_type": "stream",
          "text": [
            "30000\n",
            "\n",
            "\n",
            "->created a copy\n",
            "\n",
            "->as string\n",
            "\n",
            "->cleaned code with expression1\n",
            "\n",
            "->saved cleaned csv , columns :  Index(['Language', 'Source'], dtype='object')\n",
            "done\n",
            "CPU times: user 26.3 s, sys: 18 ms, total: 26.3 s\n",
            "Wall time: 26.3 s\n"
          ],
          "name": "stdout"
        }
      ]
    },
    {
      "cell_type": "code",
      "metadata": {
        "colab": {
          "base_uri": "https://localhost:8080/"
        },
        "id": "D3GfWin1CMWb",
        "outputId": "14f914e0-864a-416c-db74-f2045054b3ba"
      },
      "source": [
        "%%time\n",
        "\n",
        "df = pd.read_csv('/content/dataset/cleaned_data_1_v2.csv')"
      ],
      "execution_count": 16,
      "outputs": [
        {
          "output_type": "stream",
          "text": [
            "CPU times: user 133 ms, sys: 11 ms, total: 144 ms\n",
            "Wall time: 146 ms\n"
          ],
          "name": "stdout"
        }
      ]
    },
    {
      "cell_type": "code",
      "metadata": {
        "colab": {
          "base_uri": "https://localhost:8080/",
          "height": 419
        },
        "id": "phvE21HhCSMj",
        "outputId": "7a52a601-76c9-44a6-cb93-509498165a12"
      },
      "source": [
        "df"
      ],
      "execution_count": 17,
      "outputs": [
        {
          "output_type": "execute_result",
          "data": {
            "text/html": [
              "<div>\n",
              "<style scoped>\n",
              "    .dataframe tbody tr th:only-of-type {\n",
              "        vertical-align: middle;\n",
              "    }\n",
              "\n",
              "    .dataframe tbody tr th {\n",
              "        vertical-align: top;\n",
              "    }\n",
              "\n",
              "    .dataframe thead th {\n",
              "        text-align: right;\n",
              "    }\n",
              "</style>\n",
              "<table border=\"1\" class=\"dataframe\">\n",
              "  <thead>\n",
              "    <tr style=\"text-align: right;\">\n",
              "      <th></th>\n",
              "      <th>Language</th>\n",
              "      <th>Source</th>\n",
              "    </tr>\n",
              "  </thead>\n",
              "  <tbody>\n",
              "    <tr>\n",
              "      <th>0</th>\n",
              "      <td>bash</td>\n",
              "      <td>bash alias tail_ls `` ls tail `` tail_ls etc</td>\n",
              "    </tr>\n",
              "    <tr>\n",
              "      <th>1</th>\n",
              "      <td>bash</td>\n",
              "      <td>ERR_COUNT `echo $ VAR_WITH_TEXT grep `` ERROR ...</td>\n",
              "    </tr>\n",
              "    <tr>\n",
              "      <th>2</th>\n",
              "      <td>bash</td>\n",
              "      <td>SET JARS lib apache mime .jar ; ^ lib apache m...</td>\n",
              "    </tr>\n",
              "    <tr>\n",
              "      <th>3</th>\n",
              "      <td>bash</td>\n",
              "      <td>file .tgz . &lt; br &gt; file .tgz . &lt; br &gt; file .tg...</td>\n",
              "    </tr>\n",
              "    <tr>\n",
              "      <th>4</th>\n",
              "      <td>bash</td>\n",
              "      <td>pkill [ ws @ RHDev ~ ] # pkill $ ( ps aux grep...</td>\n",
              "    </tr>\n",
              "    <tr>\n",
              "      <th>...</th>\n",
              "      <td>...</td>\n",
              "      <td>...</td>\n",
              "    </tr>\n",
              "    <tr>\n",
              "      <th>29995</th>\n",
              "      <td>swift</td>\n",
              "      <td>Scale crop image func imageByScalingAndCroppin...</td>\n",
              "    </tr>\n",
              "    <tr>\n",
              "      <th>29996</th>\n",
              "      <td>swift</td>\n",
              "      <td>import UIKit import MapKit class ViewControlle...</td>\n",
              "    </tr>\n",
              "    <tr>\n",
              "      <th>29997</th>\n",
              "      <td>swift</td>\n",
              "      <td>html UIWebView ParseConfig html ParseConfig UR...</td>\n",
              "    </tr>\n",
              "    <tr>\n",
              "      <th>29998</th>\n",
              "      <td>swift</td>\n",
              "      <td>var array [ AnyObject ! ] [ ] var key `` keySa...</td>\n",
              "    </tr>\n",
              "    <tr>\n",
              "      <th>29999</th>\n",
              "      <td>swift</td>\n",
              "      <td>extension Array public func second ( ) T ? ret...</td>\n",
              "    </tr>\n",
              "  </tbody>\n",
              "</table>\n",
              "<p>30000 rows × 2 columns</p>\n",
              "</div>"
            ],
            "text/plain": [
              "      Language                                             Source\n",
              "0         bash       bash alias tail_ls `` ls tail `` tail_ls etc\n",
              "1         bash  ERR_COUNT `echo $ VAR_WITH_TEXT grep `` ERROR ...\n",
              "2         bash  SET JARS lib apache mime .jar ; ^ lib apache m...\n",
              "3         bash  file .tgz . < br > file .tgz . < br > file .tg...\n",
              "4         bash  pkill [ ws @ RHDev ~ ] # pkill $ ( ps aux grep...\n",
              "...        ...                                                ...\n",
              "29995    swift  Scale crop image func imageByScalingAndCroppin...\n",
              "29996    swift  import UIKit import MapKit class ViewControlle...\n",
              "29997    swift  html UIWebView ParseConfig html ParseConfig UR...\n",
              "29998    swift  var array [ AnyObject ! ] [ ] var key `` keySa...\n",
              "29999    swift  extension Array public func second ( ) T ? ret...\n",
              "\n",
              "[30000 rows x 2 columns]"
            ]
          },
          "metadata": {
            "tags": []
          },
          "execution_count": 17
        }
      ]
    },
    {
      "cell_type": "code",
      "metadata": {
        "colab": {
          "base_uri": "https://localhost:8080/"
        },
        "id": "sXrpvV_ss7Bz",
        "outputId": "ed275531-3af1-4f0e-9807-08a25539fbbf"
      },
      "source": [
        "cleaned_df = df.dropna().copy()\n",
        "len(cleaned_df)"
      ],
      "execution_count": 19,
      "outputs": [
        {
          "output_type": "execute_result",
          "data": {
            "text/plain": [
              "29868"
            ]
          },
          "metadata": {
            "tags": []
          },
          "execution_count": 19
        }
      ]
    },
    {
      "cell_type": "code",
      "metadata": {
        "colab": {
          "base_uri": "https://localhost:8080/"
        },
        "id": "NYMQstoQCS8Y",
        "outputId": "d2ada4a8-ecc4-418c-f4b7-f65458f2339e"
      },
      "source": [
        "%%time\n",
        "\n",
        "cleaned_df[\"lang_id\"] = cleaned_df['Language'].factorize()[0]\n",
        "print('>>> lang id created')\n",
        "lang_id_df = cleaned_df[['Language', 'lang_id']].drop_duplicates().sort_values('lang_id')\n",
        "print('>>> added to dataframe')\n",
        "lang_to_id = dict(lang_id_df.values)\n",
        "id_to_lang = dict(lang_id_df[['lang_id', 'Language']].values)\n",
        "print('>>> now columns : ',cleaned_df.columns)"
      ],
      "execution_count": 20,
      "outputs": [
        {
          "output_type": "stream",
          "text": [
            ">>> lang id created\n",
            ">>> added to dataframe\n",
            ">>> now columns :  Index(['Language', 'Source', 'lang_id'], dtype='object')\n",
            "CPU times: user 9.75 ms, sys: 3.82 ms, total: 13.6 ms\n",
            "Wall time: 13.6 ms\n"
          ],
          "name": "stdout"
        }
      ]
    },
    {
      "cell_type": "code",
      "metadata": {
        "colab": {
          "base_uri": "https://localhost:8080/",
          "height": 419
        },
        "id": "EB88zSYUCZBY",
        "outputId": "e5e29841-5d06-4c45-f26a-144033cb2224"
      },
      "source": [
        "cleaned_df"
      ],
      "execution_count": 21,
      "outputs": [
        {
          "output_type": "execute_result",
          "data": {
            "text/html": [
              "<div>\n",
              "<style scoped>\n",
              "    .dataframe tbody tr th:only-of-type {\n",
              "        vertical-align: middle;\n",
              "    }\n",
              "\n",
              "    .dataframe tbody tr th {\n",
              "        vertical-align: top;\n",
              "    }\n",
              "\n",
              "    .dataframe thead th {\n",
              "        text-align: right;\n",
              "    }\n",
              "</style>\n",
              "<table border=\"1\" class=\"dataframe\">\n",
              "  <thead>\n",
              "    <tr style=\"text-align: right;\">\n",
              "      <th></th>\n",
              "      <th>Language</th>\n",
              "      <th>Source</th>\n",
              "      <th>lang_id</th>\n",
              "    </tr>\n",
              "  </thead>\n",
              "  <tbody>\n",
              "    <tr>\n",
              "      <th>0</th>\n",
              "      <td>bash</td>\n",
              "      <td>bash alias tail_ls `` ls tail `` tail_ls etc</td>\n",
              "      <td>0</td>\n",
              "    </tr>\n",
              "    <tr>\n",
              "      <th>1</th>\n",
              "      <td>bash</td>\n",
              "      <td>ERR_COUNT `echo $ VAR_WITH_TEXT grep `` ERROR ...</td>\n",
              "      <td>0</td>\n",
              "    </tr>\n",
              "    <tr>\n",
              "      <th>2</th>\n",
              "      <td>bash</td>\n",
              "      <td>SET JARS lib apache mime .jar ; ^ lib apache m...</td>\n",
              "      <td>0</td>\n",
              "    </tr>\n",
              "    <tr>\n",
              "      <th>3</th>\n",
              "      <td>bash</td>\n",
              "      <td>file .tgz . &lt; br &gt; file .tgz . &lt; br &gt; file .tg...</td>\n",
              "      <td>0</td>\n",
              "    </tr>\n",
              "    <tr>\n",
              "      <th>4</th>\n",
              "      <td>bash</td>\n",
              "      <td>pkill [ ws @ RHDev ~ ] # pkill $ ( ps aux grep...</td>\n",
              "      <td>0</td>\n",
              "    </tr>\n",
              "    <tr>\n",
              "      <th>...</th>\n",
              "      <td>...</td>\n",
              "      <td>...</td>\n",
              "      <td>...</td>\n",
              "    </tr>\n",
              "    <tr>\n",
              "      <th>29995</th>\n",
              "      <td>swift</td>\n",
              "      <td>Scale crop image func imageByScalingAndCroppin...</td>\n",
              "      <td>14</td>\n",
              "    </tr>\n",
              "    <tr>\n",
              "      <th>29996</th>\n",
              "      <td>swift</td>\n",
              "      <td>import UIKit import MapKit class ViewControlle...</td>\n",
              "      <td>14</td>\n",
              "    </tr>\n",
              "    <tr>\n",
              "      <th>29997</th>\n",
              "      <td>swift</td>\n",
              "      <td>html UIWebView ParseConfig html ParseConfig UR...</td>\n",
              "      <td>14</td>\n",
              "    </tr>\n",
              "    <tr>\n",
              "      <th>29998</th>\n",
              "      <td>swift</td>\n",
              "      <td>var array [ AnyObject ! ] [ ] var key `` keySa...</td>\n",
              "      <td>14</td>\n",
              "    </tr>\n",
              "    <tr>\n",
              "      <th>29999</th>\n",
              "      <td>swift</td>\n",
              "      <td>extension Array public func second ( ) T ? ret...</td>\n",
              "      <td>14</td>\n",
              "    </tr>\n",
              "  </tbody>\n",
              "</table>\n",
              "<p>29868 rows × 3 columns</p>\n",
              "</div>"
            ],
            "text/plain": [
              "      Language                                             Source  lang_id\n",
              "0         bash       bash alias tail_ls `` ls tail `` tail_ls etc        0\n",
              "1         bash  ERR_COUNT `echo $ VAR_WITH_TEXT grep `` ERROR ...        0\n",
              "2         bash  SET JARS lib apache mime .jar ; ^ lib apache m...        0\n",
              "3         bash  file .tgz . < br > file .tgz . < br > file .tg...        0\n",
              "4         bash  pkill [ ws @ RHDev ~ ] # pkill $ ( ps aux grep...        0\n",
              "...        ...                                                ...      ...\n",
              "29995    swift  Scale crop image func imageByScalingAndCroppin...       14\n",
              "29996    swift  import UIKit import MapKit class ViewControlle...       14\n",
              "29997    swift  html UIWebView ParseConfig html ParseConfig UR...       14\n",
              "29998    swift  var array [ AnyObject ! ] [ ] var key `` keySa...       14\n",
              "29999    swift  extension Array public func second ( ) T ? ret...       14\n",
              "\n",
              "[29868 rows x 3 columns]"
            ]
          },
          "metadata": {
            "tags": []
          },
          "execution_count": 21
        }
      ]
    },
    {
      "cell_type": "markdown",
      "metadata": {
        "id": "VJIOdtnKCetz"
      },
      "source": [
        "### Training test split"
      ]
    },
    {
      "cell_type": "code",
      "metadata": {
        "colab": {
          "base_uri": "https://localhost:8080/"
        },
        "id": "-pQoD6QUCalf",
        "outputId": "ed5c4814-048e-4aa7-c86e-2232131aa7a9"
      },
      "source": [
        "mask = np.random.rand(len(cleaned_df)) > 0.19\n",
        "print('mask created',type(mask))"
      ],
      "execution_count": 22,
      "outputs": [
        {
          "output_type": "stream",
          "text": [
            "mask created <class 'numpy.ndarray'>\n"
          ],
          "name": "stdout"
        }
      ]
    },
    {
      "cell_type": "code",
      "metadata": {
        "colab": {
          "base_uri": "https://localhost:8080/"
        },
        "id": "zYOhqicyChNw",
        "outputId": "8598a68e-2ce1-410d-86ee-a93662de9be5"
      },
      "source": [
        "data_1 = cleaned_df[mask]\n",
        "data_2 = cleaned_df[~mask]\n",
        "print('created two halves')\n",
        "print('1st -->',len(data_1) , '\\n 2nd-->', len(data_2))"
      ],
      "execution_count": 23,
      "outputs": [
        {
          "output_type": "stream",
          "text": [
            "created two halves\n",
            "1st --> 24227 \n",
            " 2nd--> 5641\n"
          ],
          "name": "stdout"
        }
      ]
    },
    {
      "cell_type": "code",
      "metadata": {
        "colab": {
          "base_uri": "https://localhost:8080/",
          "height": 369
        },
        "id": "ek9FQV4cCi-D",
        "outputId": "77cda458-e21e-4fc5-de16-a1acae15647e"
      },
      "source": [
        "data_1.groupby('Language')['Source'].count().plot.bar(ylim=0,grid=True,color='#f68222')\n",
        "plt.xlabel('\\n languages')\n",
        "plt.ylabel('no of examples available')\n",
        "plt.title('Dataset_part_1 - FOR TRAINING')"
      ],
      "execution_count": 24,
      "outputs": [
        {
          "output_type": "execute_result",
          "data": {
            "text/plain": [
              "Text(0.5, 1.0, 'Dataset_part_1 - FOR TRAINING')"
            ]
          },
          "metadata": {
            "tags": []
          },
          "execution_count": 24
        },
        {
          "output_type": "display_data",
          "data": {
            "image/png": "[encoded data removed]",
            "text/plain": [
              "<Figure size 432x288 with 1 Axes>"
            ]
          },
          "metadata": {
            "tags": [],
            "needs_background": "light"
          }
        }
      ]
    },
    {
      "cell_type": "code",
      "metadata": {
        "colab": {
          "base_uri": "https://localhost:8080/",
          "height": 369
        },
        "id": "ObBsWnfsCkrx",
        "outputId": "c092a6b4-5ea7-40c1-b888-5314000a075f"
      },
      "source": [
        "data_2.groupby('Language')['Source'].count().plot.bar(ylim=0,grid=True,color='#f0171c')\n",
        "plt.xlabel('\\n languages')\n",
        "plt.ylabel('no of examples available')\n",
        "plt.title('Dataset_part_2 - FOR TESTING')"
      ],
      "execution_count": 25,
      "outputs": [
        {
          "output_type": "execute_result",
          "data": {
            "text/plain": [
              "Text(0.5, 1.0, 'Dataset_part_2 - FOR TESTING')"
            ]
          },
          "metadata": {
            "tags": []
          },
          "execution_count": 25
        },
        {
          "output_type": "display_data",
          "data": {
            "image/png": "[encoded data removed]",
            "text/plain": [
              "<Figure size 432x288 with 1 Axes>"
            ]
          },
          "metadata": {
            "tags": [],
            "needs_background": "light"
          }
        }
      ]
    },
    {
      "cell_type": "code",
      "metadata": {
        "id": "089G_6DwCmzZ"
      },
      "source": [
        "import tensorflow as tf"
      ],
      "execution_count": 26,
      "outputs": []
    },
    {
      "cell_type": "markdown",
      "metadata": {
        "id": "F1YBA2ayar-r"
      },
      "source": [
        "### Tokenizing"
      ]
    },
    {
      "cell_type": "code",
      "metadata": {
        "id": "oiJW0LDwCpIv"
      },
      "source": [
        "from tensorflow.keras.preprocessing.text import Tokenizer\n",
        "from tensorflow.keras.preprocessing.sequence import pad_sequences"
      ],
      "execution_count": 27,
      "outputs": []
    },
    {
      "cell_type": "code",
      "metadata": {
        "id": "CaInhikBCquC"
      },
      "source": [
        "\n",
        "vocab_size = 10000\n",
        "trunc_type='post'\n",
        "oov_tok = \"<OOV>\"\n"
      ],
      "execution_count": 28,
      "outputs": []
    },
    {
      "cell_type": "code",
      "metadata": {
        "id": "wJ23VdBQDgOL",
        "colab": {
          "base_uri": "https://localhost:8080/"
        },
        "outputId": "1938bbf8-645d-4cc8-adcf-d882ff1f781b"
      },
      "source": [
        "\n",
        "tokenizer = Tokenizer(num_words = vocab_size, oov_token=oov_tok)\n",
        "print('Tokenizer created')\n"
      ],
      "execution_count": 29,
      "outputs": [
        {
          "output_type": "stream",
          "text": [
            "Tokenizer created\n"
          ],
          "name": "stdout"
        }
      ]
    },
    {
      "cell_type": "code",
      "metadata": {
        "id": "11WDZ2tiDo8R",
        "colab": {
          "base_uri": "https://localhost:8080/"
        },
        "outputId": "e48894ae-f1a0-4b2f-eb36-46be00b09e08"
      },
      "source": [
        "print('fitting on training sentences\\n.\\n.')\n",
        "\n",
        "tokenizer.fit_on_texts(data_1['Source'].values.astype('U'))\n",
        "\n",
        "print('.\\n.\\n.\\nfitted on training sentences')"
      ],
      "execution_count": 30,
      "outputs": [
        {
          "output_type": "stream",
          "text": [
            "fitting on training sentences\n",
            ".\n",
            ".\n",
            ".\n",
            ".\n",
            ".\n",
            "fitted on training sentences\n"
          ],
          "name": "stdout"
        }
      ]
    },
    {
      "cell_type": "code",
      "metadata": {
        "id": "-8rxt6J6EC8Z",
        "colab": {
          "base_uri": "https://localhost:8080/"
        },
        "outputId": "72f71475-9832-4810-8b25-8766c6c1cda5"
      },
      "source": [
        "word_index = tokenizer.word_index\n",
        "print('len of word index',len(word_index))"
      ],
      "execution_count": 31,
      "outputs": [
        {
          "output_type": "stream",
          "text": [
            "len of word index 80274\n"
          ],
          "name": "stdout"
        }
      ]
    },
    {
      "cell_type": "code",
      "metadata": {
        "id": "mNm7D3QFEEyM",
        "colab": {
          "base_uri": "https://localhost:8080/"
        },
        "outputId": "06e83f86-85cd-4842-c346-405a618e4c74"
      },
      "source": [
        "# %%time\n",
        "\n",
        "# import pickle\n",
        "\n",
        "# # saving\n",
        "# with open('tokenizer_model1_run2.pickle', 'wb') as handle:\n",
        "#     pickle.dump(tokenizer, handle, protocol=pickle.HIGHEST_PROTOCOL)\n",
        "# print('saved')\n",
        "%%time\n",
        "\n",
        "import pickle\n",
        "\n",
        "# saving\n",
        "with open('tokenizer_Jan5_model2_RUN3.pickle', 'wb') as handle:\n",
        "    pickle.dump(tokenizer, handle, protocol=pickle.HIGHEST_PROTOCOL)\n",
        "print('saved')"
      ],
      "execution_count": 32,
      "outputs": [
        {
          "output_type": "stream",
          "text": [
            "saved\n",
            "CPU times: user 67 ms, sys: 12 ms, total: 79 ms\n",
            "Wall time: 81.5 ms\n"
          ],
          "name": "stdout"
        }
      ]
    },
    {
      "cell_type": "markdown",
      "metadata": {
        "id": "lMY-q1ytEJso"
      },
      "source": [
        "## copy to drive"
      ]
    },
    {
      "cell_type": "code",
      "metadata": {
        "id": "_zS5OA3EEJcH",
        "colab": {
          "base_uri": "https://localhost:8080/"
        },
        "outputId": "d30d0be7-87d1-4438-b156-e2332489b705"
      },
      "source": [
        "!cp '/content/tokenizer_Jan5_model2_RUN3.pickle' '/content/drive/My Drive/datasets/LanguageDataset/final_changes/DL_models'\n",
        "!echo done"
      ],
      "execution_count": 33,
      "outputs": [
        {
          "output_type": "stream",
          "text": [
            "done\n"
          ],
          "name": "stdout"
        }
      ]
    },
    {
      "cell_type": "markdown",
      "metadata": {
        "id": "P9u57oEbEVme"
      },
      "source": [
        "#### Convert training sentences to sequences"
      ]
    },
    {
      "cell_type": "code",
      "metadata": {
        "id": "UrjLZFKnEf6N"
      },
      "source": [
        "max_length = 1000\n",
        "trunc_type='post'"
      ],
      "execution_count": 35,
      "outputs": []
    },
    {
      "cell_type": "code",
      "metadata": {
        "id": "By0O9L02EThr",
        "colab": {
          "base_uri": "https://localhost:8080/"
        },
        "outputId": "a18d1a92-48a6-410c-eb7a-55134b06f4aa"
      },
      "source": [
        "%%time\n",
        "print('converting training data')\n",
        "X_train = tokenizer.texts_to_sequences(data_1['Source'].values.astype('U'))\n",
        "print(' .... converted text to sequences' , type(X_train),'\\n ')\n",
        "print('-'*70)\n",
        "\n",
        "X_train_padded = pad_sequences(X_train,maxlen=max_length, truncating=trunc_type)\n",
        "\n",
        "print('sequence padded to ',X_train_padded.shape)"
      ],
      "execution_count": 36,
      "outputs": [
        {
          "output_type": "stream",
          "text": [
            "converting training data\n",
            " .... converted text to sequences <class 'list'> \n",
            " \n",
            "----------------------------------------------------------------------\n",
            "sequence padded to  (24227, 1000)\n",
            "CPU times: user 4.79 s, sys: 467 ms, total: 5.25 s\n",
            "Wall time: 5.26 s\n"
          ],
          "name": "stdout"
        }
      ]
    },
    {
      "cell_type": "markdown",
      "metadata": {
        "id": "QFCbQ1IbEqb1"
      },
      "source": [
        "### Converting testing sentences to sequenes"
      ]
    },
    {
      "cell_type": "code",
      "metadata": {
        "id": "e2_SjDv3EuTS",
        "colab": {
          "base_uri": "https://localhost:8080/"
        },
        "outputId": "03d0ebc0-3dfa-4ae6-b7cb-6e9010a1cbd0"
      },
      "source": [
        "%%time\n",
        "\n",
        "X_test = tokenizer.texts_to_sequences(data_2['Source'].values.astype('U'))\n",
        "print('..converted text to sequences' , type(X_test),'\\n ')\n",
        "print('-'*70)\n",
        "X_test_padded = pad_sequences(X_test,maxlen=max_length, truncating=trunc_type)\n",
        "print('sequence padded to ',X_test_padded.shape)"
      ],
      "execution_count": 37,
      "outputs": [
        {
          "output_type": "stream",
          "text": [
            "..converted text to sequences <class 'list'> \n",
            " \n",
            "----------------------------------------------------------------------\n",
            "sequence padded to  (5641, 1000)\n",
            "CPU times: user 1.17 s, sys: 21.6 ms, total: 1.19 s\n",
            "Wall time: 1.19 s\n"
          ],
          "name": "stdout"
        }
      ]
    },
    {
      "cell_type": "markdown",
      "metadata": {
        "id": "dAVqV1cKE0JV"
      },
      "source": [
        "## Preparing labels"
      ]
    },
    {
      "cell_type": "markdown",
      "metadata": {
        "id": "-T--2lxtE2gl"
      },
      "source": [
        "### Training labels"
      ]
    },
    {
      "cell_type": "code",
      "metadata": {
        "id": "f6eeJ5b5Ezro",
        "colab": {
          "base_uri": "https://localhost:8080/"
        },
        "outputId": "752881a6-a61a-46ca-9cff-5e987a983724"
      },
      "source": [
        "Y_train = pd.get_dummies(data_1['Language'].values.astype('U'))\n",
        "print('and Y : ',type(Y_train))\n",
        "y_train = np.asarray(Y_train)\n",
        "print(X_train_padded.shape , y_train.shape)"
      ],
      "execution_count": 38,
      "outputs": [
        {
          "output_type": "stream",
          "text": [
            "and Y :  <class 'pandas.core.frame.DataFrame'>\n",
            "(24227, 1000) (24227, 15)\n"
          ],
          "name": "stdout"
        }
      ]
    },
    {
      "cell_type": "markdown",
      "metadata": {
        "id": "Gn8W8VdKE9Cu"
      },
      "source": [
        "### Testing labels"
      ]
    },
    {
      "cell_type": "code",
      "metadata": {
        "id": "8feOVGTrE_KB",
        "colab": {
          "base_uri": "https://localhost:8080/"
        },
        "outputId": "76d4a6cb-78f1-4b5e-aa09-09a5a9c68cab"
      },
      "source": [
        "Y_test = pd.get_dummies(data_2['Language'].values.astype('U'))\n",
        "print('and Y : ',type(Y_test))\n",
        "y_test = np.asarray(Y_test)\n",
        "print(X_test_padded.shape , y_test.shape)"
      ],
      "execution_count": 39,
      "outputs": [
        {
          "output_type": "stream",
          "text": [
            "and Y :  <class 'pandas.core.frame.DataFrame'>\n",
            "(5641, 1000) (5641, 15)\n"
          ],
          "name": "stdout"
        }
      ]
    },
    {
      "cell_type": "markdown",
      "metadata": {
        "id": "e2V9_AXwExYh"
      },
      "source": [
        "### Creating the model"
      ]
    },
    {
      "cell_type": "code",
      "metadata": {
        "colab": {
          "base_uri": "https://localhost:8080/"
        },
        "id": "12K40Rfsa8fc",
        "outputId": "f1e15d65-a52e-4129-d4cf-be17fc9cbb75"
      },
      "source": [
        "my_model4 = tf.keras.models.Sequential()\n",
        "print('model created now add layers')"
      ],
      "execution_count": 40,
      "outputs": [
        {
          "output_type": "stream",
          "text": [
            "model created now add layers\n"
          ],
          "name": "stdout"
        }
      ]
    },
    {
      "cell_type": "code",
      "metadata": {
        "colab": {
          "base_uri": "https://localhost:8080/"
        },
        "id": "klDefcaRbAOt",
        "outputId": "62cef46f-c4d4-4870-e83f-9f6256fbe6ea"
      },
      "source": [
        "# my_model.add(tf.keras.layers.Input(input_shape=2215))\n",
        "my_model4.add(tf.keras.layers.InputLayer(input_shape=max_length,dtype=tf.int32))\n",
        "print('\\n --> added input layer with max sequence max_features = ',max_length)\n",
        "my_model4.summary()\n",
        "# print('added input layer')"
      ],
      "execution_count": 41,
      "outputs": [
        {
          "output_type": "stream",
          "text": [
            "\n",
            " --> added input layer with max sequence max_features =  1000\n",
            "Model: \"sequential\"\n",
            "_________________________________________________________________\n",
            "Layer (type)                 Output Shape              Param #   \n",
            "=================================================================\n",
            "Total params: 0\n",
            "Trainable params: 0\n",
            "Non-trainable params: 0\n",
            "_________________________________________________________________\n"
          ],
          "name": "stdout"
        }
      ]
    },
    {
      "cell_type": "code",
      "metadata": {
        "colab": {
          "base_uri": "https://localhost:8080/"
        },
        "id": "cDupiLpBbCG4",
        "outputId": "0a209a81-080a-4e9c-9741-83fd3e817c1e"
      },
      "source": [
        "t = len(tokenizer.word_index)\n",
        "t , t**(0.25)"
      ],
      "execution_count": 42,
      "outputs": [
        {
          "output_type": "execute_result",
          "data": {
            "text/plain": [
              "(80274, 16.832310197600133)"
            ]
          },
          "metadata": {
            "tags": []
          },
          "execution_count": 42
        }
      ]
    },
    {
      "cell_type": "markdown",
      "metadata": {
        "id": "bLU2wm66bGAH"
      },
      "source": [
        "### embedding dim 32"
      ]
    },
    {
      "cell_type": "code",
      "metadata": {
        "id": "Sfs0RLoBbEI_"
      },
      "source": [
        "embed_dim = 32"
      ],
      "execution_count": 43,
      "outputs": []
    },
    {
      "cell_type": "code",
      "metadata": {
        "colab": {
          "base_uri": "https://localhost:8080/"
        },
        "id": "8uwoR62zbImw",
        "outputId": "ad947ab1-46c4-48a2-c6b1-d9b2ade9c82a"
      },
      "source": [
        "my_model4.add(tf.keras.layers.Embedding(vocab_size, embed_dim,input_length = max_length))\n",
        "print('\\n-->added embedding layer with vocab size = ',vocab_size,'embed dim = ',embed_dim,'\\n')\n",
        "my_model4.summary()"
      ],
      "execution_count": 44,
      "outputs": [
        {
          "output_type": "stream",
          "text": [
            "\n",
            "-->added embedding layer with vocab size =  10000 embed dim =  32 \n",
            "\n",
            "Model: \"sequential\"\n",
            "_________________________________________________________________\n",
            "Layer (type)                 Output Shape              Param #   \n",
            "=================================================================\n",
            "embedding (Embedding)        (None, 1000, 32)          320000    \n",
            "=================================================================\n",
            "Total params: 320,000\n",
            "Trainable params: 320,000\n",
            "Non-trainable params: 0\n",
            "_________________________________________________________________\n"
          ],
          "name": "stdout"
        }
      ]
    },
    {
      "cell_type": "code",
      "metadata": {
        "colab": {
          "base_uri": "https://localhost:8080/"
        },
        "id": "6FnSbmBHbKrS",
        "outputId": "cfb059b3-268d-4741-9336-0111727dc1f9"
      },
      "source": [
        "# model.add(Conv1D(filters=128, kernel_size=3, padding='same', dilation_rate=1,activation='relu'))\n",
        "my_model4.add(tf.keras.layers.Conv1D(128 , 5, padding='valid',kernel_initializer='random_normal'))\n",
        "print('.\\n.\\n.\\n-->added conv1d layer with 128 filters size = 3, valid padding  ,random_normal initializer')\n",
        "my_model4.add(tf.keras.layers.MaxPool1D(pool_size=5))\n",
        "print('added pool layer')\n",
        "my_model4.add(tf.keras.layers.BatchNormalization())\n",
        "print('added batch norm layer')\n",
        "my_model4.add(tf.keras.layers.Activation('relu'))\n",
        "print('added relu activation layer')\n",
        "my_model4.summary()"
      ],
      "execution_count": 45,
      "outputs": [
        {
          "output_type": "stream",
          "text": [
            ".\n",
            ".\n",
            ".\n",
            "-->added conv1d layer with 128 filters size = 3, valid padding  ,random_normal initializer\n",
            "added pool layer\n",
            "added batch norm layer\n",
            "added relu activation layer\n",
            "Model: \"sequential\"\n",
            "_________________________________________________________________\n",
            "Layer (type)                 Output Shape              Param #   \n",
            "=================================================================\n",
            "embedding (Embedding)        (None, 1000, 32)          320000    \n",
            "_________________________________________________________________\n",
            "conv1d (Conv1D)              (None, 996, 128)          20608     \n",
            "_________________________________________________________________\n",
            "max_pooling1d (MaxPooling1D) (None, 199, 128)          0         \n",
            "_________________________________________________________________\n",
            "batch_normalization (BatchNo (None, 199, 128)          512       \n",
            "_________________________________________________________________\n",
            "activation (Activation)      (None, 199, 128)          0         \n",
            "=================================================================\n",
            "Total params: 341,120\n",
            "Trainable params: 340,864\n",
            "Non-trainable params: 256\n",
            "_________________________________________________________________\n"
          ],
          "name": "stdout"
        }
      ]
    },
    {
      "cell_type": "code",
      "metadata": {
        "colab": {
          "base_uri": "https://localhost:8080/"
        },
        "id": "5M-UlzUcbYSy",
        "outputId": "beda0b24-d27b-48d4-b1f9-45e16cf7311d"
      },
      "source": [
        "# #  tf.keras.layers.GlobalAveragePooling1D(),\n",
        "my_model4.add(tf.keras.layers.GlobalAveragePooling1D())\n",
        "print('added global average poolinglayer')\n",
        "my_model4.summary()\n",
        "# my_model3.summary()\n"
      ],
      "execution_count": 46,
      "outputs": [
        {
          "output_type": "stream",
          "text": [
            "added global average poolinglayer\n",
            "Model: \"sequential\"\n",
            "_________________________________________________________________\n",
            "Layer (type)                 Output Shape              Param #   \n",
            "=================================================================\n",
            "embedding (Embedding)        (None, 1000, 32)          320000    \n",
            "_________________________________________________________________\n",
            "conv1d (Conv1D)              (None, 996, 128)          20608     \n",
            "_________________________________________________________________\n",
            "max_pooling1d (MaxPooling1D) (None, 199, 128)          0         \n",
            "_________________________________________________________________\n",
            "batch_normalization (BatchNo (None, 199, 128)          512       \n",
            "_________________________________________________________________\n",
            "activation (Activation)      (None, 199, 128)          0         \n",
            "_________________________________________________________________\n",
            "global_average_pooling1d (Gl (None, 128)               0         \n",
            "=================================================================\n",
            "Total params: 341,120\n",
            "Trainable params: 340,864\n",
            "Non-trainable params: 256\n",
            "_________________________________________________________________\n"
          ],
          "name": "stdout"
        }
      ]
    },
    {
      "cell_type": "code",
      "metadata": {
        "colab": {
          "base_uri": "https://localhost:8080/"
        },
        "id": "RC_yn0atbmMw",
        "outputId": "0ee79335-e942-46fb-e06b-49ab4bbc09d2"
      },
      "source": [
        "my_model4.add(tf.keras.layers.Dropout(0.5))\n",
        "print('.\\n.\\n.\\n--> added a 0.5 dropout layer')\n",
        "my_model4.add(tf.keras.layers.Dense(64,kernel_regularizer=tf.keras.regularizers.l1_l2(l1=1e-7, l2=1e-5)))\n",
        "print('.\\n.\\n.\\n--> added a dense layer with l1_l2 regularization')\n",
        "my_model4.add(tf.keras.layers.BatchNormalization())\n",
        "print('added batch norm layer')\n",
        "my_model4.add(tf.keras.layers.Activation('tanh'))\n",
        "print('added tanh activation layer')\n",
        "my_model4.add(tf.keras.layers.Flatten())\n",
        "print('.\\n.\\n.\\n--> flatten layer')\n",
        "my_model4.summary()"
      ],
      "execution_count": 47,
      "outputs": [
        {
          "output_type": "stream",
          "text": [
            ".\n",
            ".\n",
            ".\n",
            "--> added a 0.5 dropout layer\n",
            ".\n",
            ".\n",
            ".\n",
            "--> added a dense layer with l1_l2 regularization\n",
            "added batch norm layer\n",
            "added tanh activation layer\n",
            ".\n",
            ".\n",
            ".\n",
            "--> flatten layer\n",
            "Model: \"sequential\"\n",
            "_________________________________________________________________\n",
            "Layer (type)                 Output Shape              Param #   \n",
            "=================================================================\n",
            "embedding (Embedding)        (None, 1000, 32)          320000    \n",
            "_________________________________________________________________\n",
            "conv1d (Conv1D)              (None, 996, 128)          20608     \n",
            "_________________________________________________________________\n",
            "max_pooling1d (MaxPooling1D) (None, 199, 128)          0         \n",
            "_________________________________________________________________\n",
            "batch_normalization (BatchNo (None, 199, 128)          512       \n",
            "_________________________________________________________________\n",
            "activation (Activation)      (None, 199, 128)          0         \n",
            "_________________________________________________________________\n",
            "global_average_pooling1d (Gl (None, 128)               0         \n",
            "_________________________________________________________________\n",
            "dropout (Dropout)            (None, 128)               0         \n",
            "_________________________________________________________________\n",
            "dense (Dense)                (None, 64)                8256      \n",
            "_________________________________________________________________\n",
            "batch_normalization_1 (Batch (None, 64)                256       \n",
            "_________________________________________________________________\n",
            "activation_1 (Activation)    (None, 64)                0         \n",
            "_________________________________________________________________\n",
            "flatten (Flatten)            (None, 64)                0         \n",
            "=================================================================\n",
            "Total params: 349,632\n",
            "Trainable params: 349,248\n",
            "Non-trainable params: 384\n",
            "_________________________________________________________________\n"
          ],
          "name": "stdout"
        }
      ]
    },
    {
      "cell_type": "code",
      "metadata": {
        "id": "lfEk2NbTdtWd"
      },
      "source": [
        "# my_model.add(tf.keras.layers.Dense(16))\n",
        "# print('.\\n.\\n.\\n--> added a dense layer with ')\n",
        "# my_model.add(tf.keras.layers.BatchNormalization())\n",
        "# print('added batch norm layer')\n",
        "# my_model.add(tf.keras.layers.Activation('sigmoid'))\n",
        "# print('added sigmoid activation layer')\n",
        "# my_model.add(tf.keras.layers.Flatten())\n",
        "# print('.\\n.\\n.\\n--> flatten layer')"
      ],
      "execution_count": 48,
      "outputs": []
    },
    {
      "cell_type": "code",
      "metadata": {
        "colab": {
          "base_uri": "https://localhost:8080/"
        },
        "id": "5PyRva-Wb0pa",
        "outputId": "2c5f831b-f717-4e23-a097-b7783729602b"
      },
      "source": [
        "num_classes = 15\n",
        "\n",
        "\n",
        "my_model4.add(tf.keras.layers.Dense(num_classes))\n",
        "print('--> dense layer of size =  ',num_classes)\n",
        "my_model4.add(tf.keras.layers.BatchNormalization())\n",
        "print('added batch norm layer')\n",
        "my_model4.add(tf.keras.layers.Activation('sigmoid'))\n",
        "print('added sigmoid activation layer')\n",
        "my_model4.add(tf.keras.layers.Flatten())\n",
        "print('.\\n.\\n.\\n--> flatten layer')\n",
        "my_model4.add(tf.keras.layers.Activation('softmax'))\n",
        "print('added final softmax activation layer')\n",
        "\n",
        "my_model4.summary()"
      ],
      "execution_count": 49,
      "outputs": [
        {
          "output_type": "stream",
          "text": [
            "--> dense layer of size =   15\n",
            "added batch norm layer\n",
            "added sigmoid activation layer\n",
            ".\n",
            ".\n",
            ".\n",
            "--> flatten layer\n",
            "added final softmax activation layer\n",
            "Model: \"sequential\"\n",
            "_________________________________________________________________\n",
            "Layer (type)                 Output Shape              Param #   \n",
            "=================================================================\n",
            "embedding (Embedding)        (None, 1000, 32)          320000    \n",
            "_________________________________________________________________\n",
            "conv1d (Conv1D)              (None, 996, 128)          20608     \n",
            "_________________________________________________________________\n",
            "max_pooling1d (MaxPooling1D) (None, 199, 128)          0         \n",
            "_________________________________________________________________\n",
            "batch_normalization (BatchNo (None, 199, 128)          512       \n",
            "_________________________________________________________________\n",
            "activation (Activation)      (None, 199, 128)          0         \n",
            "_________________________________________________________________\n",
            "global_average_pooling1d (Gl (None, 128)               0         \n",
            "_________________________________________________________________\n",
            "dropout (Dropout)            (None, 128)               0         \n",
            "_________________________________________________________________\n",
            "dense (Dense)                (None, 64)                8256      \n",
            "_________________________________________________________________\n",
            "batch_normalization_1 (Batch (None, 64)                256       \n",
            "_________________________________________________________________\n",
            "activation_1 (Activation)    (None, 64)                0         \n",
            "_________________________________________________________________\n",
            "flatten (Flatten)            (None, 64)                0         \n",
            "_________________________________________________________________\n",
            "dense_1 (Dense)              (None, 15)                975       \n",
            "_________________________________________________________________\n",
            "batch_normalization_2 (Batch (None, 15)                60        \n",
            "_________________________________________________________________\n",
            "activation_2 (Activation)    (None, 15)                0         \n",
            "_________________________________________________________________\n",
            "flatten_1 (Flatten)          (None, 15)                0         \n",
            "_________________________________________________________________\n",
            "activation_3 (Activation)    (None, 15)                0         \n",
            "=================================================================\n",
            "Total params: 350,667\n",
            "Trainable params: 350,253\n",
            "Non-trainable params: 414\n",
            "_________________________________________________________________\n"
          ],
          "name": "stdout"
        }
      ]
    },
    {
      "cell_type": "markdown",
      "metadata": {
        "id": "GaDgzvQHb9Tp"
      },
      "source": [
        "### Model created"
      ]
    },
    {
      "cell_type": "code",
      "metadata": {
        "colab": {
          "base_uri": "https://localhost:8080/"
        },
        "id": "sYIKaSI9b5kT",
        "outputId": "e64405a0-eebc-4150-ac96-8fed94b4d19a"
      },
      "source": [
        "my_model4.compile(optimizer=tf.keras.optimizers.Adam(\n",
        "    learning_rate=0.00001, beta_1=0.9, beta_2=0.999, epsilon=1e-07, amsgrad=False,\n",
        "    name='Adam',), loss='categorical_crossentropy', metrics=['accuracy'])\n",
        "print('--->compiled with learning rate : 0.00001 -')"
      ],
      "execution_count": 50,
      "outputs": [
        {
          "output_type": "stream",
          "text": [
            "--->compiled with learning rate : 0.00001 -\n"
          ],
          "name": "stdout"
        }
      ]
    },
    {
      "cell_type": "markdown",
      "metadata": {
        "id": "IpwtFtbdcAqo"
      },
      "source": [
        "### model compiled"
      ]
    },
    {
      "cell_type": "markdown",
      "metadata": {
        "id": "coPwBJX8cDyR"
      },
      "source": [
        "### Now training the model"
      ]
    },
    {
      "cell_type": "markdown",
      "metadata": {
        "id": "bLG0BWdTcG2b"
      },
      "source": [
        "### using k fold cross validation"
      ]
    },
    {
      "cell_type": "code",
      "metadata": {
        "id": "2Q5mbujpcGaV"
      },
      "source": [
        "from sklearn.model_selection import KFold\n",
        "\n",
        "# n_fold = 2\n",
        "# n_fold = 3 \n",
        "# n_fold = 5\n",
        "n_fold = 10\n",
        "\n",
        "k_fold = KFold(n_fold,shuffle=True,random_state=14)"
      ],
      "execution_count": 51,
      "outputs": []
    },
    {
      "cell_type": "code",
      "metadata": {
        "colab": {
          "base_uri": "https://localhost:8080/"
        },
        "id": "XltxiAnXhCsh",
        "outputId": "14b6dba2-64af-4a3e-976e-4c1ff5367eb1"
      },
      "source": [
        "k_fold\n"
      ],
      "execution_count": 52,
      "outputs": [
        {
          "output_type": "execute_result",
          "data": {
            "text/plain": [
              "KFold(n_splits=10, random_state=14, shuffle=True)"
            ]
          },
          "metadata": {
            "tags": []
          },
          "execution_count": 52
        }
      ]
    },
    {
      "cell_type": "code",
      "metadata": {
        "colab": {
          "base_uri": "https://localhost:8080/"
        },
        "id": "cUWEDTK-cAMh",
        "outputId": "ecf28da7-2cd3-4846-e469-6fa42b3c079b"
      },
      "source": [
        "%%time\n",
        "\n",
        "scores = []\n",
        "histories = []\n",
        "print('......... fitting the model\\n')\n",
        "\n",
        "for train_iX,test_iX in k_fold.split(X_train_padded):\n",
        "  # selecting rows for trainX and trainY first train data and then cross validation data\n",
        "  x_itrain,y_itrain,x_cv,y_cv = X_train_padded[train_iX] , y_train[train_iX] , X_train_padded[test_iX], y_train[test_iX]\n",
        "    # fit into model with batch sizes of 32 and epochs 10\n",
        "    # # history = my_model.fit(x_train,y_train,batch_size=32,epochs=10,verbose=1,validation_data=(x_cv,y_cv))\n",
        "  history = my_model4.fit(x_itrain,y_itrain,batch_size=64,epochs=10,verbose=1,validation_data=(x_cv,y_cv))\n",
        "  # evaluate model\n",
        "  loss,acc = my_model4.evaluate(X_test_padded , y_test,verbose=2)\n",
        "  print('-'*80)\n",
        "  print('\\n\\t --> accuracy on test data : {:.6f}% and loss : {:.7f} <--\\n'.format(acc * 100.0,loss))\n",
        "  print('-'*80)\n",
        "    # # stores scores  \n",
        "  scores.append(acc)\n",
        "  histories.append(history)\n",
        "\n",
        "print('done')"
      ],
      "execution_count": 53,
      "outputs": [
        {
          "output_type": "stream",
          "text": [
            "......... fitting the model\n",
            "\n",
            "Epoch 1/10\n",
            "341/341 [==============================] - 18s 31ms/step - loss: 2.7259 - accuracy: 0.0698 - val_loss: 2.7095 - val_accuracy: 0.0685\n",
            "Epoch 2/10\n",
            "341/341 [==============================] - 8s 25ms/step - loss: 2.7201 - accuracy: 0.0685 - val_loss: 2.7055 - val_accuracy: 0.0764\n",
            "Epoch 3/10\n",
            "341/341 [==============================] - 11s 31ms/step - loss: 2.7130 - accuracy: 0.0701 - val_loss: 2.6963 - val_accuracy: 0.0982\n",
            "Epoch 4/10\n",
            "341/341 [==============================] - 8s 24ms/step - loss: 2.7070 - accuracy: 0.0799 - val_loss: 2.6882 - val_accuracy: 0.1246\n",
            "Epoch 5/10\n",
            "341/341 [==============================] - 11s 31ms/step - loss: 2.6984 - accuracy: 0.0909 - val_loss: 2.6796 - val_accuracy: 0.1478\n",
            "Epoch 6/10\n",
            "341/341 [==============================] - 9s 28ms/step - loss: 2.6896 - accuracy: 0.0983 - val_loss: 2.6721 - val_accuracy: 0.1428\n",
            "Epoch 7/10\n",
            "341/341 [==============================] - 9s 25ms/step - loss: 2.6834 - accuracy: 0.0989 - val_loss: 2.6601 - val_accuracy: 0.1973\n",
            "Epoch 8/10\n",
            "341/341 [==============================] - 10s 30ms/step - loss: 2.6735 - accuracy: 0.1151 - val_loss: 2.6483 - val_accuracy: 0.2179\n",
            "Epoch 9/10\n",
            "341/341 [==============================] - 10s 31ms/step - loss: 2.6594 - accuracy: 0.1202 - val_loss: 2.6349 - val_accuracy: 0.2456\n",
            "Epoch 10/10\n",
            "341/341 [==============================] - 9s 25ms/step - loss: 2.6499 - accuracy: 0.1351 - val_loss: 2.6193 - val_accuracy: 0.2596\n",
            "177/177 - 1s - loss: 2.6161 - accuracy: 0.2613\n",
            "--------------------------------------------------------------------------------\n",
            "\n",
            "\t --> accuracy on test data : 26.130119% and loss : 2.6160529 <--\n",
            "\n",
            "--------------------------------------------------------------------------------\n",
            "Epoch 1/10\n",
            "341/341 [==============================] - 10s 31ms/step - loss: 2.6322 - accuracy: 0.1578 - val_loss: 2.5999 - val_accuracy: 0.3095\n",
            "Epoch 2/10\n",
            "341/341 [==============================] - 10s 30ms/step - loss: 2.6193 - accuracy: 0.1743 - val_loss: 2.5856 - val_accuracy: 0.3161\n",
            "Epoch 3/10\n",
            "341/341 [==============================] - 8s 24ms/step - loss: 2.6056 - accuracy: 0.1954 - val_loss: 2.5755 - val_accuracy: 0.3669\n",
            "Epoch 4/10\n",
            "341/341 [==============================] - 7s 20ms/step - loss: 2.5928 - accuracy: 0.2174 - val_loss: 2.5648 - val_accuracy: 0.3582\n",
            "Epoch 5/10\n",
            "341/341 [==============================] - 7s 20ms/step - loss: 2.5810 - accuracy: 0.2370 - val_loss: 2.5564 - val_accuracy: 0.3252\n",
            "Epoch 6/10\n",
            "341/341 [==============================] - 7s 20ms/step - loss: 2.5697 - accuracy: 0.2603 - val_loss: 2.5430 - val_accuracy: 0.4069\n",
            "Epoch 7/10\n",
            "341/341 [==============================] - 7s 21ms/step - loss: 2.5615 - accuracy: 0.2802 - val_loss: 2.5385 - val_accuracy: 0.3801\n",
            "Epoch 8/10\n",
            "341/341 [==============================] - 7s 21ms/step - loss: 2.5513 - accuracy: 0.3010 - val_loss: 2.5342 - val_accuracy: 0.4284\n",
            "Epoch 9/10\n",
            "341/341 [==============================] - 7s 21ms/step - loss: 2.5431 - accuracy: 0.3230 - val_loss: 2.5320 - val_accuracy: 0.3958\n",
            "Epoch 10/10\n",
            "341/341 [==============================] - 7s 21ms/step - loss: 2.5377 - accuracy: 0.3368 - val_loss: 2.5265 - val_accuracy: 0.3851\n",
            "177/177 - 1s - loss: 2.5252 - accuracy: 0.3842\n",
            "--------------------------------------------------------------------------------\n",
            "\n",
            "\t --> accuracy on test data : 38.415176% and loss : 2.5252190 <--\n",
            "\n",
            "--------------------------------------------------------------------------------\n",
            "Epoch 1/10\n",
            "341/341 [==============================] - 7s 20ms/step - loss: 2.5315 - accuracy: 0.3532 - val_loss: 2.5190 - val_accuracy: 0.3871\n",
            "Epoch 2/10\n",
            "341/341 [==============================] - 7s 20ms/step - loss: 2.5246 - accuracy: 0.3695 - val_loss: 2.4990 - val_accuracy: 0.4482\n",
            "Epoch 3/10\n",
            "341/341 [==============================] - 7s 20ms/step - loss: 2.5198 - accuracy: 0.3808 - val_loss: 2.4928 - val_accuracy: 0.5101\n",
            "Epoch 4/10\n",
            "341/341 [==============================] - 7s 20ms/step - loss: 2.5150 - accuracy: 0.3924 - val_loss: 2.4916 - val_accuracy: 0.5109\n",
            "Epoch 5/10\n",
            "341/341 [==============================] - 7s 21ms/step - loss: 2.5114 - accuracy: 0.4002 - val_loss: 2.4890 - val_accuracy: 0.4866\n",
            "Epoch 6/10\n",
            "341/341 [==============================] - 8s 23ms/step - loss: 2.5070 - accuracy: 0.4104 - val_loss: 2.4831 - val_accuracy: 0.5134\n",
            "Epoch 7/10\n",
            "341/341 [==============================] - 8s 23ms/step - loss: 2.5018 - accuracy: 0.4169 - val_loss: 2.4804 - val_accuracy: 0.5274\n",
            "Epoch 8/10\n",
            "341/341 [==============================] - 8s 23ms/step - loss: 2.4982 - accuracy: 0.4309 - val_loss: 2.4770 - val_accuracy: 0.5501\n",
            "Epoch 9/10\n",
            "341/341 [==============================] - 8s 23ms/step - loss: 2.4942 - accuracy: 0.4469 - val_loss: 2.4742 - val_accuracy: 0.5142\n",
            "Epoch 10/10\n",
            "341/341 [==============================] - 8s 23ms/step - loss: 2.4903 - accuracy: 0.4488 - val_loss: 2.4676 - val_accuracy: 0.5547\n",
            "177/177 - 1s - loss: 2.4759 - accuracy: 0.5363\n",
            "--------------------------------------------------------------------------------\n",
            "\n",
            "\t --> accuracy on test data : 53.625244% and loss : 2.4759023 <--\n",
            "\n",
            "--------------------------------------------------------------------------------\n",
            "Epoch 1/10\n",
            "341/341 [==============================] - 8s 23ms/step - loss: 2.4872 - accuracy: 0.4576 - val_loss: 2.4692 - val_accuracy: 0.5543\n",
            "Epoch 2/10\n",
            "341/341 [==============================] - 7s 20ms/step - loss: 2.4830 - accuracy: 0.4662 - val_loss: 2.4646 - val_accuracy: 0.5279\n",
            "Epoch 3/10\n",
            "341/341 [==============================] - 7s 20ms/step - loss: 2.4800 - accuracy: 0.4692 - val_loss: 2.4625 - val_accuracy: 0.5712\n",
            "Epoch 4/10\n",
            "341/341 [==============================] - 7s 20ms/step - loss: 2.4767 - accuracy: 0.4776 - val_loss: 2.4583 - val_accuracy: 0.5922\n",
            "Epoch 5/10\n",
            "341/341 [==============================] - 7s 20ms/step - loss: 2.4737 - accuracy: 0.4885 - val_loss: 2.4627 - val_accuracy: 0.5526\n",
            "Epoch 6/10\n",
            "341/341 [==============================] - 7s 20ms/step - loss: 2.4710 - accuracy: 0.4915 - val_loss: 2.4546 - val_accuracy: 0.5976\n",
            "Epoch 7/10\n",
            "341/341 [==============================] - 7s 20ms/step - loss: 2.4681 - accuracy: 0.4955 - val_loss: 2.4528 - val_accuracy: 0.5708\n",
            "Epoch 8/10\n",
            "341/341 [==============================] - 7s 20ms/step - loss: 2.4641 - accuracy: 0.5075 - val_loss: 2.4494 - val_accuracy: 0.5898\n",
            "Epoch 9/10\n",
            "341/341 [==============================] - 7s 20ms/step - loss: 2.4620 - accuracy: 0.5060 - val_loss: 2.4462 - val_accuracy: 0.5774\n",
            "Epoch 10/10\n",
            "341/341 [==============================] - 7s 20ms/step - loss: 2.4597 - accuracy: 0.5172 - val_loss: 2.4441 - val_accuracy: 0.6133\n",
            "177/177 - 1s - loss: 2.4495 - accuracy: 0.5854\n",
            "--------------------------------------------------------------------------------\n",
            "\n",
            "\t --> accuracy on test data : 58.535719% and loss : 2.4495435 <--\n",
            "\n",
            "--------------------------------------------------------------------------------\n",
            "Epoch 1/10\n",
            "341/341 [==============================] - 7s 20ms/step - loss: 2.4589 - accuracy: 0.5140 - val_loss: 2.4332 - val_accuracy: 0.6174\n",
            "Epoch 2/10\n",
            "341/341 [==============================] - 7s 20ms/step - loss: 2.4544 - accuracy: 0.5249 - val_loss: 2.4322 - val_accuracy: 0.6096\n",
            "Epoch 3/10\n",
            "341/341 [==============================] - 7s 20ms/step - loss: 2.4521 - accuracy: 0.5322 - val_loss: 2.4296 - val_accuracy: 0.6244\n",
            "Epoch 4/10\n",
            "341/341 [==============================] - 7s 20ms/step - loss: 2.4499 - accuracy: 0.5345 - val_loss: 2.4294 - val_accuracy: 0.6141\n",
            "Epoch 5/10\n",
            "341/341 [==============================] - 7s 20ms/step - loss: 2.4474 - accuracy: 0.5382 - val_loss: 2.4251 - val_accuracy: 0.6215\n",
            "Epoch 6/10\n",
            "341/341 [==============================] - 7s 20ms/step - loss: 2.4459 - accuracy: 0.5440 - val_loss: 2.4219 - val_accuracy: 0.6546\n",
            "Epoch 7/10\n",
            "341/341 [==============================] - 7s 21ms/step - loss: 2.4426 - accuracy: 0.5467 - val_loss: 2.4183 - val_accuracy: 0.6513\n",
            "Epoch 8/10\n",
            "341/341 [==============================] - 7s 20ms/step - loss: 2.4397 - accuracy: 0.5540 - val_loss: 2.4180 - val_accuracy: 0.6368\n",
            "Epoch 9/10\n",
            "341/341 [==============================] - 7s 20ms/step - loss: 2.4387 - accuracy: 0.5557 - val_loss: 2.4174 - val_accuracy: 0.6281\n",
            "Epoch 10/10\n",
            "341/341 [==============================] - 7s 21ms/step - loss: 2.4357 - accuracy: 0.5638 - val_loss: 2.4171 - val_accuracy: 0.6368\n",
            "177/177 - 1s - loss: 2.4280 - accuracy: 0.6072\n",
            "--------------------------------------------------------------------------------\n",
            "\n",
            "\t --> accuracy on test data : 60.716188% and loss : 2.4279761 <--\n",
            "\n",
            "--------------------------------------------------------------------------------\n",
            "Epoch 1/10\n",
            "341/341 [==============================] - 10s 30ms/step - loss: 2.4346 - accuracy: 0.5594 - val_loss: 2.4022 - val_accuracy: 0.6744\n",
            "Epoch 2/10\n",
            "341/341 [==============================] - 10s 31ms/step - loss: 2.4321 - accuracy: 0.5687 - val_loss: 2.3979 - val_accuracy: 0.6050\n",
            "Epoch 3/10\n",
            "341/341 [==============================] - 11s 31ms/step - loss: 2.4305 - accuracy: 0.5677 - val_loss: 2.3980 - val_accuracy: 0.6504\n",
            "Epoch 4/10\n",
            "341/341 [==============================] - 10s 31ms/step - loss: 2.4288 - accuracy: 0.5697 - val_loss: 2.3951 - val_accuracy: 0.6793\n",
            "Epoch 5/10\n",
            "341/341 [==============================] - 9s 26ms/step - loss: 2.4266 - accuracy: 0.5769 - val_loss: 2.3938 - val_accuracy: 0.6513\n",
            "Epoch 6/10\n",
            "341/341 [==============================] - 8s 23ms/step - loss: 2.4237 - accuracy: 0.5751 - val_loss: 2.3919 - val_accuracy: 0.6826\n",
            "Epoch 7/10\n",
            "341/341 [==============================] - 8s 23ms/step - loss: 2.4224 - accuracy: 0.5786 - val_loss: 2.3911 - val_accuracy: 0.6343\n",
            "Epoch 8/10\n",
            "341/341 [==============================] - 8s 23ms/step - loss: 2.4214 - accuracy: 0.5794 - val_loss: 2.3907 - val_accuracy: 0.6641\n",
            "Epoch 9/10\n",
            "341/341 [==============================] - 8s 24ms/step - loss: 2.4185 - accuracy: 0.5901 - val_loss: 2.3905 - val_accuracy: 0.6583\n",
            "Epoch 10/10\n",
            "341/341 [==============================] - 10s 29ms/step - loss: 2.4162 - accuracy: 0.5915 - val_loss: 2.3905 - val_accuracy: 0.6475\n",
            "177/177 - 1s - loss: 2.4112 - accuracy: 0.6158\n",
            "--------------------------------------------------------------------------------\n",
            "\n",
            "\t --> accuracy on test data : 61.584824% and loss : 2.4112027 <--\n",
            "\n",
            "--------------------------------------------------------------------------------\n",
            "Epoch 1/10\n",
            "341/341 [==============================] - 10s 28ms/step - loss: 2.4149 - accuracy: 0.5933 - val_loss: 2.3904 - val_accuracy: 0.7156\n",
            "Epoch 2/10\n",
            "341/341 [==============================] - 10s 29ms/step - loss: 2.4131 - accuracy: 0.5936 - val_loss: 2.3850 - val_accuracy: 0.6942\n",
            "Epoch 3/10\n",
            "341/341 [==============================] - 10s 29ms/step - loss: 2.4119 - accuracy: 0.5947 - val_loss: 2.3878 - val_accuracy: 0.6880\n",
            "Epoch 4/10\n",
            "341/341 [==============================] - 9s 27ms/step - loss: 2.4097 - accuracy: 0.5975 - val_loss: 2.3847 - val_accuracy: 0.6480\n",
            "Epoch 5/10\n",
            "341/341 [==============================] - 7s 20ms/step - loss: 2.4079 - accuracy: 0.6041 - val_loss: 2.3836 - val_accuracy: 0.6983\n",
            "Epoch 6/10\n",
            "341/341 [==============================] - 7s 20ms/step - loss: 2.4058 - accuracy: 0.6065 - val_loss: 2.3799 - val_accuracy: 0.6863\n",
            "Epoch 7/10\n",
            "341/341 [==============================] - 7s 20ms/step - loss: 2.4048 - accuracy: 0.6088 - val_loss: 2.3826 - val_accuracy: 0.7028\n",
            "Epoch 8/10\n",
            "341/341 [==============================] - 7s 20ms/step - loss: 2.4024 - accuracy: 0.6164 - val_loss: 2.3806 - val_accuracy: 0.6954\n",
            "Epoch 9/10\n",
            "341/341 [==============================] - 7s 20ms/step - loss: 2.4007 - accuracy: 0.6138 - val_loss: 2.3768 - val_accuracy: 0.6987\n",
            "Epoch 10/10\n",
            "341/341 [==============================] - 7s 20ms/step - loss: 2.3995 - accuracy: 0.6163 - val_loss: 2.3768 - val_accuracy: 0.7123\n",
            "177/177 - 1s - loss: 2.3921 - accuracy: 0.6681\n",
            "--------------------------------------------------------------------------------\n",
            "\n",
            "\t --> accuracy on test data : 66.814393% and loss : 2.3920901 <--\n",
            "\n",
            "--------------------------------------------------------------------------------\n",
            "Epoch 1/10\n",
            "341/341 [==============================] - 7s 21ms/step - loss: 2.3980 - accuracy: 0.6137 - val_loss: 2.3632 - val_accuracy: 0.7192\n",
            "Epoch 2/10\n",
            "341/341 [==============================] - 7s 20ms/step - loss: 2.3966 - accuracy: 0.6191 - val_loss: 2.3638 - val_accuracy: 0.7164\n",
            "Epoch 3/10\n",
            "341/341 [==============================] - 7s 20ms/step - loss: 2.3947 - accuracy: 0.6253 - val_loss: 2.3582 - val_accuracy: 0.7052\n",
            "Epoch 4/10\n",
            "341/341 [==============================] - 7s 20ms/step - loss: 2.3937 - accuracy: 0.6211 - val_loss: 2.3601 - val_accuracy: 0.7308\n",
            "Epoch 5/10\n",
            "341/341 [==============================] - 7s 20ms/step - loss: 2.3910 - accuracy: 0.6245 - val_loss: 2.3567 - val_accuracy: 0.7230\n",
            "Epoch 6/10\n",
            "341/341 [==============================] - 7s 20ms/step - loss: 2.3900 - accuracy: 0.6259 - val_loss: 2.3578 - val_accuracy: 0.7325\n",
            "Epoch 7/10\n",
            "341/341 [==============================] - 7s 20ms/step - loss: 2.3877 - accuracy: 0.6341 - val_loss: 2.3568 - val_accuracy: 0.7238\n",
            "Epoch 8/10\n",
            "341/341 [==============================] - 7s 20ms/step - loss: 2.3859 - accuracy: 0.6344 - val_loss: 2.3541 - val_accuracy: 0.7378\n",
            "Epoch 9/10\n",
            "341/341 [==============================] - 7s 20ms/step - loss: 2.3856 - accuracy: 0.6320 - val_loss: 2.3564 - val_accuracy: 0.7250\n",
            "Epoch 10/10\n",
            "341/341 [==============================] - 7s 20ms/step - loss: 2.3839 - accuracy: 0.6328 - val_loss: 2.3521 - val_accuracy: 0.7155\n",
            "177/177 - 1s - loss: 2.3778 - accuracy: 0.6554\n",
            "--------------------------------------------------------------------------------\n",
            "\n",
            "\t --> accuracy on test data : 65.538025% and loss : 2.3778465 <--\n",
            "\n",
            "--------------------------------------------------------------------------------\n",
            "Epoch 1/10\n",
            "341/341 [==============================] - 7s 21ms/step - loss: 2.3822 - accuracy: 0.6371 - val_loss: 2.3613 - val_accuracy: 0.7201\n",
            "Epoch 2/10\n",
            "341/341 [==============================] - 7s 20ms/step - loss: 2.3798 - accuracy: 0.6457 - val_loss: 2.3576 - val_accuracy: 0.6866\n",
            "Epoch 3/10\n",
            "341/341 [==============================] - 7s 20ms/step - loss: 2.3790 - accuracy: 0.6426 - val_loss: 2.3615 - val_accuracy: 0.7143\n",
            "Epoch 4/10\n",
            "341/341 [==============================] - 7s 20ms/step - loss: 2.3764 - accuracy: 0.6482 - val_loss: 2.3554 - val_accuracy: 0.7118\n",
            "Epoch 5/10\n",
            "341/341 [==============================] - 7s 20ms/step - loss: 2.3758 - accuracy: 0.6447 - val_loss: 2.3579 - val_accuracy: 0.7271\n",
            "Epoch 6/10\n",
            "341/341 [==============================] - 7s 20ms/step - loss: 2.3735 - accuracy: 0.6496 - val_loss: 2.3543 - val_accuracy: 0.6969\n",
            "Epoch 7/10\n",
            "341/341 [==============================] - 7s 20ms/step - loss: 2.3721 - accuracy: 0.6519 - val_loss: 2.3534 - val_accuracy: 0.7064\n",
            "Epoch 8/10\n",
            "341/341 [==============================] - 7s 20ms/step - loss: 2.3716 - accuracy: 0.6527 - val_loss: 2.3513 - val_accuracy: 0.6858\n",
            "Epoch 9/10\n",
            "341/341 [==============================] - 7s 20ms/step - loss: 2.3690 - accuracy: 0.6558 - val_loss: 2.3558 - val_accuracy: 0.7209\n",
            "Epoch 10/10\n",
            "341/341 [==============================] - 7s 21ms/step - loss: 2.3681 - accuracy: 0.6618 - val_loss: 2.3522 - val_accuracy: 0.6854\n",
            "177/177 - 1s - loss: 2.3672 - accuracy: 0.6511\n",
            "--------------------------------------------------------------------------------\n",
            "\n",
            "\t --> accuracy on test data : 65.112567% and loss : 2.3672261 <--\n",
            "\n",
            "--------------------------------------------------------------------------------\n",
            "Epoch 1/10\n",
            "341/341 [==============================] - 7s 21ms/step - loss: 2.3682 - accuracy: 0.6516 - val_loss: 2.3358 - val_accuracy: 0.7234\n",
            "Epoch 2/10\n",
            "341/341 [==============================] - 7s 20ms/step - loss: 2.3663 - accuracy: 0.6538 - val_loss: 2.3371 - val_accuracy: 0.7552\n",
            "Epoch 3/10\n",
            "341/341 [==============================] - 7s 20ms/step - loss: 2.3644 - accuracy: 0.6608 - val_loss: 2.3370 - val_accuracy: 0.7333\n",
            "Epoch 4/10\n",
            "341/341 [==============================] - 7s 20ms/step - loss: 2.3637 - accuracy: 0.6579 - val_loss: 2.3354 - val_accuracy: 0.7535\n",
            "Epoch 5/10\n",
            "341/341 [==============================] - 7s 20ms/step - loss: 2.3612 - accuracy: 0.6594 - val_loss: 2.3331 - val_accuracy: 0.7601\n",
            "Epoch 6/10\n",
            "341/341 [==============================] - 7s 20ms/step - loss: 2.3607 - accuracy: 0.6626 - val_loss: 2.3322 - val_accuracy: 0.7279\n",
            "Epoch 7/10\n",
            "341/341 [==============================] - 7s 20ms/step - loss: 2.3595 - accuracy: 0.6605 - val_loss: 2.3313 - val_accuracy: 0.7527\n",
            "Epoch 8/10\n",
            "341/341 [==============================] - 7s 21ms/step - loss: 2.3572 - accuracy: 0.6645 - val_loss: 2.3265 - val_accuracy: 0.7217\n",
            "Epoch 9/10\n",
            "341/341 [==============================] - 7s 20ms/step - loss: 2.3561 - accuracy: 0.6698 - val_loss: 2.3272 - val_accuracy: 0.7481\n",
            "Epoch 10/10\n",
            "341/341 [==============================] - 7s 20ms/step - loss: 2.3548 - accuracy: 0.6680 - val_loss: 2.3280 - val_accuracy: 0.7506\n",
            "177/177 - 1s - loss: 2.3540 - accuracy: 0.6807\n",
            "--------------------------------------------------------------------------------\n",
            "\n",
            "\t --> accuracy on test data : 68.073034% and loss : 2.3539562 <--\n",
            "\n",
            "--------------------------------------------------------------------------------\n",
            "done\n",
            "CPU times: user 9min 33s, sys: 3min 3s, total: 12min 37s\n",
            "Wall time: 13min 3s\n"
          ],
          "name": "stdout"
        }
      ]
    },
    {
      "cell_type": "markdown",
      "metadata": {
        "id": "KLVD76xQjWhl"
      },
      "source": [
        "### save model for later use"
      ]
    },
    {
      "cell_type": "code",
      "metadata": {
        "colab": {
          "base_uri": "https://localhost:8080/"
        },
        "id": "6fc0eUbPjcuq",
        "outputId": "15f94cc2-182c-4a95-feca-e15055525746"
      },
      "source": [
        "print('saving model...')\n",
        "my_model4.save('content/Jan5_model2_RUN3')\n",
        "print('saved')"
      ],
      "execution_count": 54,
      "outputs": [
        {
          "output_type": "stream",
          "text": [
            "saving model...\n",
            "INFO:tensorflow:Assets written to: content/Jan5_model2_RUN3/assets\n",
            "saved\n"
          ],
          "name": "stdout"
        }
      ]
    },
    {
      "cell_type": "code",
      "metadata": {
        "colab": {
          "base_uri": "https://localhost:8080/",
          "height": 325
        },
        "id": "i7ohojL5cW5T",
        "outputId": "f2571829-87a1-4e3f-b440-1ba9b31ee504"
      },
      "source": [
        "plt.plot([i for i in range(1,len(scores)+1)] , scores,label='Testing Accuracy')\n",
        "plt.xlabel('epochs')\n",
        "plt.ylabel('accuracy')\n",
        "plt.suptitle('TESTING ACCURACY')\n",
        "plt.legend()"
      ],
      "execution_count": 55,
      "outputs": [
        {
          "output_type": "execute_result",
          "data": {
            "text/plain": [
              "<matplotlib.legend.Legend at 0x7f4978646198>"
            ]
          },
          "metadata": {
            "tags": []
          },
          "execution_count": 55
        },
        {
          "output_type": "display_data",
          "data": {
            "image/png": "[encoded data removed]",
            "text/plain": [
              "<Figure size 432x288 with 1 Axes>"
            ]
          },
          "metadata": {
            "tags": [],
            "needs_background": "light"
          }
        }
      ]
    },
    {
      "cell_type": "code",
      "metadata": {
        "colab": {
          "base_uri": "https://localhost:8080/"
        },
        "id": "qnCiaMHwjm6N",
        "outputId": "7f28c441-33ac-431c-9e14-7c9361e3fc4f"
      },
      "source": [
        "!zip -r /content/Jan5_model2_RUN3.zip /content/content/Jan5_model2_RUN3"
      ],
      "execution_count": 56,
      "outputs": [
        {
          "output_type": "stream",
          "text": [
            "  adding: content/content/Jan5_model2_RUN3/ (stored 0%)\n",
            "  adding: content/content/Jan5_model2_RUN3/assets/ (stored 0%)\n",
            "  adding: content/content/Jan5_model2_RUN3/saved_model.pb (deflated 89%)\n",
            "  adding: content/content/Jan5_model2_RUN3/variables/ (stored 0%)\n",
            "  adding: content/content/Jan5_model2_RUN3/variables/variables.index (deflated 68%)\n",
            "  adding: content/content/Jan5_model2_RUN3/variables/variables.data-00000-of-00001 (deflated 7%)\n"
          ],
          "name": "stdout"
        }
      ]
    },
    {
      "cell_type": "code",
      "metadata": {
        "colab": {
          "base_uri": "https://localhost:8080/"
        },
        "id": "xVz6D752jrPM",
        "outputId": "585c8de2-cc9e-4e00-8306-a75b585c7d10"
      },
      "source": [
        "!cp '/content/Jan5_model2_RUN3.zip' '/content/drive/My Drive/datasets/LanguageDataset/final_changes/DL_models'\n",
        "!echo copied to drive"
      ],
      "execution_count": 57,
      "outputs": [
        {
          "output_type": "stream",
          "text": [
            "copied to drive\n"
          ],
          "name": "stdout"
        }
      ]
    },
    {
      "cell_type": "markdown",
      "metadata": {
        "id": "5NcDvjARUc2s"
      },
      "source": [
        "#### Training curve"
      ]
    },
    {
      "cell_type": "code",
      "metadata": {
        "colab": {
          "base_uri": "https://localhost:8080/"
        },
        "id": "eBG8aWKYUceT",
        "outputId": "159708ae-78f3-49dd-dca4-e6312df31998"
      },
      "source": [
        "acc = []\n",
        "for i in range(10):\n",
        "  acc.extend(histories[i].history['accuracy'])\n",
        "print(len(acc))"
      ],
      "execution_count": 58,
      "outputs": [
        {
          "output_type": "stream",
          "text": [
            "100\n"
          ],
          "name": "stdout"
        }
      ]
    },
    {
      "cell_type": "code",
      "metadata": {
        "colab": {
          "base_uri": "https://localhost:8080/"
        },
        "id": "Mo1aTSbEUsp2",
        "outputId": "54a5975b-7bae-4965-a780-3e4d24cf9bb6"
      },
      "source": [
        "val_acc = []\n",
        "for i in range(10):\n",
        "  val_acc.extend(histories[i].history['val_accuracy'])\n",
        "print(len(acc))"
      ],
      "execution_count": 59,
      "outputs": [
        {
          "output_type": "stream",
          "text": [
            "100\n"
          ],
          "name": "stdout"
        }
      ]
    },
    {
      "cell_type": "code",
      "metadata": {
        "colab": {
          "base_uri": "https://localhost:8080/",
          "height": 325
        },
        "id": "bamo_uhwUh7W",
        "outputId": "b677704d-12a2-4cbb-a666-1dec40e477a7"
      },
      "source": [
        "\n",
        "plt.plot([i for i in range(0,len(acc))] ,acc,label='Training Accuracy',linewidth=2.3,color=\"#ff0011\")\n",
        "# plt.plot([i for i in range(0,len(val_acc))] ,acc,label='Cross Validation Accuracy',marker='+')\n",
        "plt.plot([i for i in range(0,len(val_acc))] ,val_acc,label='Cross Validation Accuracy',linewidth=2.24,color=\"#111100\")\n",
        "\n",
        "plt.xlabel('epochs')\n",
        "plt.ylabel('accuracy')\n",
        "plt.suptitle('TRAINING ACCURACY')\n",
        "plt.legend()"
      ],
      "execution_count": 69,
      "outputs": [
        {
          "output_type": "execute_result",
          "data": {
            "text/plain": [
              "<matplotlib.legend.Legend at 0x7f496a4b49b0>"
            ]
          },
          "metadata": {
            "tags": []
          },
          "execution_count": 69
        },
        {
          "output_type": "display_data",
          "data": {
            "image/png": "[encoded data removed]",
            "text/plain": [
              "<Figure size 432x288 with 1 Axes>"
            ]
          },
          "metadata": {
            "tags": [],
            "needs_background": "light"
          }
        }
      ]
    },
    {
      "cell_type": "markdown",
      "metadata": {
        "id": "Z1cz2wMsj8VE"
      },
      "source": [
        "### Confusion Matrix"
      ]
    },
    {
      "cell_type": "code",
      "metadata": {
        "id": "AtO4d1JFjz7L"
      },
      "source": [
        "from sklearn.metrics import plot_confusion_matrix\n",
        "from sklearn.metrics import confusion_matrix"
      ],
      "execution_count": 70,
      "outputs": []
    },
    {
      "cell_type": "markdown",
      "metadata": {
        "id": "tfymLW84kDAp"
      },
      "source": [
        "## Testing Data"
      ]
    },
    {
      "cell_type": "code",
      "metadata": {
        "colab": {
          "base_uri": "https://localhost:8080/"
        },
        "id": "aiibt4F5kBPu",
        "outputId": "773dab55-303b-49d3-977d-3e2b5508a708"
      },
      "source": [
        "%%time\n",
        "predictions_1 = my_model4.predict(X_test_padded)\n",
        "print('done predicting on test data')\n",
        "print(type(predictions_1))\n"
      ],
      "execution_count": 71,
      "outputs": [
        {
          "output_type": "stream",
          "text": [
            "done predicting on test data\n",
            "<class 'numpy.ndarray'>\n",
            "CPU times: user 708 ms, sys: 48.5 ms, total: 757 ms\n",
            "Wall time: 786 ms\n"
          ],
          "name": "stdout"
        }
      ]
    },
    {
      "cell_type": "code",
      "metadata": {
        "colab": {
          "base_uri": "https://localhost:8080/"
        },
        "id": "TozcGvbTkN_J",
        "outputId": "45ecf4d8-5638-48db-f3df-bff59adc75d9"
      },
      "source": [
        "predictions_1.shape , y_test.shape"
      ],
      "execution_count": 72,
      "outputs": [
        {
          "output_type": "execute_result",
          "data": {
            "text/plain": [
              "((5641, 15), (5641, 15))"
            ]
          },
          "metadata": {
            "tags": []
          },
          "execution_count": 72
        }
      ]
    },
    {
      "cell_type": "code",
      "metadata": {
        "colab": {
          "base_uri": "https://localhost:8080/"
        },
        "id": "CzQQkxYnk0lj",
        "outputId": "704acf9b-b973-4f95-d4f7-8b64b8871d6c"
      },
      "source": [
        "first_preds = np.argmax(predictions_1,axis=1)\n",
        "first_preds.shape"
      ],
      "execution_count": 73,
      "outputs": [
        {
          "output_type": "execute_result",
          "data": {
            "text/plain": [
              "(5641,)"
            ]
          },
          "metadata": {
            "tags": []
          },
          "execution_count": 73
        }
      ]
    },
    {
      "cell_type": "code",
      "metadata": {
        "colab": {
          "base_uri": "https://localhost:8080/"
        },
        "id": "OS8qYANEkvZL",
        "outputId": "74eafbcd-a257-4052-aa2a-f0d73ee98f99"
      },
      "source": [
        "actual_pred = np.argmax(y_test,axis=1)\n",
        "actual_pred.shape # use these argmax values for confusion matrix"
      ],
      "execution_count": 74,
      "outputs": [
        {
          "output_type": "execute_result",
          "data": {
            "text/plain": [
              "(5641,)"
            ]
          },
          "metadata": {
            "tags": []
          },
          "execution_count": 74
        }
      ]
    },
    {
      "cell_type": "code",
      "metadata": {
        "colab": {
          "base_uri": "https://localhost:8080/"
        },
        "id": "jFSeISIykcK6",
        "outputId": "e03c5788-e93b-456b-90d3-9166e8686c14"
      },
      "source": [
        "print('\\n','-'*50,'\\n')\n",
        "cnf_matrix1 = confusion_matrix(actual_pred, first_preds)\n",
        "print(cnf_matrix1)"
      ],
      "execution_count": 75,
      "outputs": [
        {
          "output_type": "stream",
          "text": [
            "\n",
            " -------------------------------------------------- \n",
            "\n",
            "[[229   4  11   2   5   9   4   0  51   7  17  11   2   4   4]\n",
            " [  6 255   9  43  13   1   2   4  18   1  23   5   2   2   5]\n",
            " [  0   1 257  16   8   7   7   0   9   0  16   2   0  21   9]\n",
            " [  1  44  27 242   9   3   1   2  20   1  15   2   5   2   1]\n",
            " [  3   7  12   5 305   5   4   1  18   3  16   3   6   3   4]\n",
            " [  2   1 131   6  17 146   3   0  18   4  24   5   4  12   1]\n",
            " [  0   1  24   2   3   4 283   1  13   8  12   4   1   7  25]\n",
            " [  2   4  13  12   8   1   3 273   7   1  17   3   0   0   6]\n",
            " [ 21   2  18   0   9   4   5   0 277   5  23   5   2   6   6]\n",
            " [ 18   2  26   3   7   4  17   2  49 169  20   7   0  22   5]\n",
            " [  5   2  15   3  12   3   8   2  39   6 259  12  12   7   3]\n",
            " [  3   0  19   1   5   1   4   1  43   4  30 255  18  20   4]\n",
            " [  0   1  11   1  11  17   3   0   8   1  20   5 294   2   4]\n",
            " [  3   4  25   0   4   3   5   1  16   3  17   5   1 295   2]\n",
            " [  0   3  12   4   3   0   0  23  11   1   4   0   2   1 301]]\n"
          ],
          "name": "stdout"
        }
      ]
    },
    {
      "cell_type": "code",
      "metadata": {
        "colab": {
          "base_uri": "https://localhost:8080/"
        },
        "id": "v1Pa6zh8kjWz",
        "outputId": "fa293c7e-29de-4532-94b9-98d686d29ac0"
      },
      "source": [
        "class_names = df['Language'].unique()\n",
        "class_names"
      ],
      "execution_count": 76,
      "outputs": [
        {
          "output_type": "execute_result",
          "data": {
            "text/plain": [
              "array(['bash', 'c', 'c#', 'c++', 'haskell', 'java', 'javascript',\n",
              "       'objective-c', 'perl', 'php', 'python', 'ruby', 'scala', 'sql',\n",
              "       'swift'], dtype=object)"
            ]
          },
          "metadata": {
            "tags": []
          },
          "execution_count": 76
        }
      ]
    },
    {
      "cell_type": "code",
      "metadata": {
        "id": "KcjzBs3KlhIJ"
      },
      "source": [
        "import seaborn as sns"
      ],
      "execution_count": 77,
      "outputs": []
    },
    {
      "cell_type": "markdown",
      "metadata": {
        "id": "6uFMRp6uloY1"
      },
      "source": [
        "### Better confusion martrix display\n",
        "##### source : https://github.com/DTrimarchi10/confusion_matrix/blob/master/cf_matrix.py"
      ]
    },
    {
      "cell_type": "code",
      "metadata": {
        "id": "U66P6TxTlkAK"
      },
      "source": [
        "def make_confusion_matrix(cf,\n",
        "                          group_names=None,\n",
        "                          categories='auto',\n",
        "                          count=True,\n",
        "                          percent=True,\n",
        "                          cbar=True,\n",
        "                          xyticks=True,\n",
        "                          xyplotlabels=True,\n",
        "                          sum_stats=True,\n",
        "                          figsize=None,\n",
        "                          cmap='Blues',\n",
        "                          title=None):\n",
        "    '''\n",
        "    This function will make a pretty plot of an sklearn Confusion Matrix cm using a Seaborn heatmap visualization.\n",
        "    Arguments\n",
        "    ---------\n",
        "    cf:            confusion matrix to be passed in\n",
        "    group_names:   List of strings that represent the labels row by row to be shown in each square.\n",
        "    categories:    List of strings containing the categories to be displayed on the x,y axis. Default is 'auto'\n",
        "    count:         If True, show the raw number in the confusion matrix. Default is True.\n",
        "    normalize:     If True, show the proportions for each category. Default is True.\n",
        "    cbar:          If True, show the color bar. The cbar values are based off the values in the confusion matrix.\n",
        "                   Default is True.\n",
        "    xyticks:       If True, show x and y ticks. Default is True.\n",
        "    xyplotlabels:  If True, show 'True Label' and 'Predicted Label' on the figure. Default is True.\n",
        "    sum_stats:     If True, display summary statistics below the figure. Default is True.\n",
        "    figsize:       Tuple representing the figure size. Default will be the matplotlib rcParams value.\n",
        "    cmap:          Colormap of the values displayed from matplotlib.pyplot.cm. Default is 'Blues'\n",
        "                   See http://matplotlib.org/examples/color/colormaps_reference.html\n",
        "                   \n",
        "    title:         Title for the heatmap. Default is None.\n",
        "    '''\n",
        "\n",
        "\n",
        "    # CODE TO GENERATE TEXT INSIDE EACH SQUARE\n",
        "    blanks = ['' for i in range(cf.size)]\n",
        "\n",
        "    if group_names and len(group_names)==cf.size:\n",
        "        group_labels = [\"{}\\n\".format(value) for value in group_names]\n",
        "    else:\n",
        "        group_labels = blanks\n",
        "\n",
        "    if count:\n",
        "        group_counts = [\"{0:0.0f}\\n\".format(value) for value in cf.flatten()]\n",
        "    else:\n",
        "        group_counts = blanks\n",
        "\n",
        "    if percent:\n",
        "        group_percentages = [\"{0:.2%}\".format(value) for value in cf.flatten()/np.sum(cf)]\n",
        "    else:\n",
        "        group_percentages = blanks\n",
        "\n",
        "    box_labels = [f\"{v1}{v2}{v3}\".strip() for v1, v2, v3 in zip(group_labels,group_counts,group_percentages)]\n",
        "    box_labels = np.asarray(box_labels).reshape(cf.shape[0],cf.shape[1])\n",
        "\n",
        "\n",
        "    # CODE TO GENERATE SUMMARY STATISTICS & TEXT FOR SUMMARY STATS\n",
        "    if sum_stats:\n",
        "        #Accuracy is sum of diagonal divided by total observations\n",
        "        accuracy  = np.trace(cf) / float(np.sum(cf))\n",
        "\n",
        "        #if it is a binary confusion matrix, show some more stats\n",
        "        if len(cf)==2:\n",
        "            #Metrics for Binary Confusion Matrices\n",
        "            precision = cf[1,1] / sum(cf[:,1])\n",
        "            recall    = cf[1,1] / sum(cf[1,:])\n",
        "            f1_score  = 2*precision*recall / (precision + recall)\n",
        "            stats_text = \"\\n\\nAccuracy={:0.3f}\\nPrecision={:0.3f}\\nRecall={:0.3f}\\nF1 Score={:0.3f}\".format(\n",
        "                accuracy,precision,recall,f1_score)\n",
        "        else:\n",
        "            stats_text = \"\\n\\nAccuracy={:0.3f}\".format(accuracy)\n",
        "    else:\n",
        "        stats_text = \"\"\n",
        "\n",
        "\n",
        "    # SET FIGURE PARAMETERS ACCORDING TO OTHER ARGUMENTS\n",
        "    if figsize==None:\n",
        "        #Get default figure size if not set\n",
        "        figsize = plt.rcParams.get('figure.figsize')\n",
        "\n",
        "    if xyticks==False:\n",
        "        #Do not show categories if xyticks is False\n",
        "        categories=False\n",
        "\n",
        "\n",
        "    # MAKE THE HEATMAP VISUALIZATION\n",
        "    plt.figure(figsize=figsize)\n",
        "    sns.heatmap(cf,annot=box_labels,fmt=\"\",cmap=cmap,cbar=cbar,xticklabels=categories,yticklabels=categories)\n",
        "\n",
        "    if xyplotlabels:\n",
        "        plt.ylabel('True label')\n",
        "        plt.xlabel('Predicted label' + stats_text)\n",
        "    else:\n",
        "        plt.xlabel(stats_text)\n",
        "    \n",
        "    if title:\n",
        "        plt.title(title)"
      ],
      "execution_count": 78,
      "outputs": []
    },
    {
      "cell_type": "code",
      "metadata": {
        "colab": {
          "base_uri": "https://localhost:8080/",
          "height": 782
        },
        "id": "TOwEnv1JlwYH",
        "outputId": "463b0189-0617-435a-a1ce-18d9882762aa"
      },
      "source": [
        "# make_confusion_matrix(cnf_matrix, figsize=(12,12), cbar=False )\n",
        "make_confusion_matrix(cnf_matrix1, figsize=(12,12), cbar=False ,categories=class_names)\n"
      ],
      "execution_count": 79,
      "outputs": [
        {
          "output_type": "display_data",
          "data": {
            "image/png": "[encoded data removed]",
            "text/plain": [
              "<Figure size 864x864 with 1 Axes>"
            ]
          },
          "metadata": {
            "tags": [],
            "needs_background": "light"
          }
        }
      ]
    },
    {
      "cell_type": "markdown",
      "metadata": {
        "id": "YfO1LpBTXHa0"
      },
      "source": [
        "#### Precision , Recall and F1 Score"
      ]
    },
    {
      "cell_type": "code",
      "metadata": {
        "colab": {
          "base_uri": "https://localhost:8080/"
        },
        "id": "xj_aQPYtXJ7l",
        "outputId": "4592ca8a-62cf-46f6-d16b-e3acca5b6890"
      },
      "source": [
        "from sklearn.metrics import precision_recall_fscore_support as score\n",
        "langs = [i for i in data.Language.unique()]\n",
        "langs.sort()\n",
        "langs"
      ],
      "execution_count": 80,
      "outputs": [
        {
          "output_type": "execute_result",
          "data": {
            "text/plain": [
              "['bash',\n",
              " 'c',\n",
              " 'c#',\n",
              " 'c++',\n",
              " 'haskell',\n",
              " 'java',\n",
              " 'javascript',\n",
              " 'objective-c',\n",
              " 'perl',\n",
              " 'php',\n",
              " 'python',\n",
              " 'ruby',\n",
              " 'scala',\n",
              " 'sql',\n",
              " 'swift']"
            ]
          },
          "metadata": {
            "tags": []
          },
          "execution_count": 80
        }
      ]
    },
    {
      "cell_type": "code",
      "metadata": {
        "id": "XBUYjwKcXKg4"
      },
      "source": [
        "def print_metrics(predictions):\n",
        "  precision , recall , fscore , support = score( actual_pred, predictions)\n",
        "  print('-'*80)\n",
        "  print('{:10}\\t | {:7}\\t |  {:12}|\\t{}'.format('   Language','  Precision',' Recall',' F1 Measure'))\n",
        "  print('-'*80)\n",
        "  for i in range(len(langs)):\n",
        "    \n",
        "    result = '{:10}\\t |{:13.5}\\t |{:10.5}\\t|\\t{:10.5}'.format(str('   '+langs[i]),precision[i],recall[i],fscore[i])\n",
        "    print(result,end='\\n')\n",
        "    print('-'*80)\n"
      ],
      "execution_count": 81,
      "outputs": []
    },
    {
      "cell_type": "code",
      "metadata": {
        "colab": {
          "base_uri": "https://localhost:8080/"
        },
        "id": "zbqwK-0EXOmk",
        "outputId": "5b3e1e6c-83f7-4490-82c2-9f0bd6b6badb"
      },
      "source": [
        "print_metrics(first_preds)\n"
      ],
      "execution_count": 82,
      "outputs": [
        {
          "output_type": "stream",
          "text": [
            "--------------------------------------------------------------------------------\n",
            "   Language\t |   Precision\t |   Recall     |\t F1 Measure\n",
            "--------------------------------------------------------------------------------\n",
            "   bash   \t |      0.78157\t |   0.63611\t|\t   0.70138\n",
            "--------------------------------------------------------------------------------\n",
            "   c      \t |      0.77039\t |   0.65553\t|\t   0.70833\n",
            "--------------------------------------------------------------------------------\n",
            "   c#     \t |      0.42131\t |   0.72805\t|\t   0.53375\n",
            "--------------------------------------------------------------------------------\n",
            "   c++    \t |      0.71176\t |   0.64533\t|\t   0.67692\n",
            "--------------------------------------------------------------------------------\n",
            "   haskell\t |      0.72792\t |   0.77215\t|\t   0.74939\n",
            "--------------------------------------------------------------------------------\n",
            "   java   \t |      0.70192\t |   0.39037\t|\t   0.50172\n",
            "--------------------------------------------------------------------------------\n",
            "   javascript\t |      0.81089\t |   0.72938\t|\t   0.76798\n",
            "--------------------------------------------------------------------------------\n",
            "   objective-c\t |      0.88065\t |      0.78\t|\t   0.82727\n",
            "--------------------------------------------------------------------------------\n",
            "   perl   \t |      0.46399\t |   0.72324\t|\t   0.56531\n",
            "--------------------------------------------------------------------------------\n",
            "   php    \t |      0.78972\t |   0.48148\t|\t   0.59823\n",
            "--------------------------------------------------------------------------------\n",
            "   python \t |      0.50487\t |   0.66753\t|\t   0.57492\n",
            "--------------------------------------------------------------------------------\n",
            "   ruby   \t |      0.78704\t |     0.625\t|\t   0.69672\n",
            "--------------------------------------------------------------------------------\n",
            "   scala  \t |      0.84241\t |   0.77778\t|\t    0.8088\n",
            "--------------------------------------------------------------------------------\n",
            "   sql    \t |       0.7302\t |   0.76823\t|\t   0.74873\n",
            "--------------------------------------------------------------------------------\n",
            "   swift  \t |      0.79211\t |   0.82466\t|\t   0.80805\n",
            "--------------------------------------------------------------------------------\n"
          ],
          "name": "stdout"
        }
      ]
    },
    {
      "cell_type": "markdown",
      "metadata": {
        "id": "Zr-OSaYgiifs"
      },
      "source": [
        "### creating another for just testing something"
      ]
    },
    {
      "cell_type": "code",
      "metadata": {
        "colab": {
          "base_uri": "https://localhost:8080/"
        },
        "id": "zWQyIpQ5l3-K",
        "outputId": "08d76005-e642-4ecd-b18f-b5dfda7a2812"
      },
      "source": [
        "my_model5 = tf.keras.models.Sequential()\n",
        "print('model created now add layers')"
      ],
      "execution_count": null,
      "outputs": [
        {
          "output_type": "stream",
          "text": [
            "model created now add layers\n"
          ],
          "name": "stdout"
        }
      ]
    },
    {
      "cell_type": "code",
      "metadata": {
        "colab": {
          "base_uri": "https://localhost:8080/"
        },
        "id": "hdCq0kviimMC",
        "outputId": "4e7d3d71-4569-47b7-b01f-2ef991c775b0"
      },
      "source": [
        "# my_model.add(tf.keras.layers.Input(input_shape=2215))\n",
        "my_model5.add(tf.keras.layers.InputLayer(input_shape=max_length,dtype=tf.int32))\n",
        "print('----> added input layer with max sequence max_features = ',max_length)\n",
        "my_model5.summary()\n",
        "# print('added input layer')"
      ],
      "execution_count": null,
      "outputs": [
        {
          "output_type": "stream",
          "text": [
            "----> added input layer with max sequence max_features =  1000\n",
            "Model: \"sequential_1\"\n",
            "_________________________________________________________________\n",
            "Layer (type)                 Output Shape              Param #   \n",
            "=================================================================\n",
            "Total params: 0\n",
            "Trainable params: 0\n",
            "Non-trainable params: 0\n",
            "_________________________________________________________________\n"
          ],
          "name": "stdout"
        }
      ]
    },
    {
      "cell_type": "code",
      "metadata": {
        "colab": {
          "base_uri": "https://localhost:8080/"
        },
        "id": "HU_xk49ditke",
        "outputId": "f15d1d18-7765-44a3-ce60-ebeb7a7df82f"
      },
      "source": [
        "my_model5.add(tf.keras.layers.Embedding(vocab_size, embed_dim,input_length = max_length))\n",
        "print('\\n-->added embedding layer with vocab size = ',vocab_size,'embed dim = ',embed_dim)\n",
        "my_model5.summary()"
      ],
      "execution_count": null,
      "outputs": [
        {
          "output_type": "stream",
          "text": [
            "\n",
            "-->added embedding layer with vocab size =  10000 embed dim =  32\n",
            "Model: \"sequential_1\"\n",
            "_________________________________________________________________\n",
            "Layer (type)                 Output Shape              Param #   \n",
            "=================================================================\n",
            "embedding_1 (Embedding)      (None, 1000, 32)          320000    \n",
            "=================================================================\n",
            "Total params: 320,000\n",
            "Trainable params: 320,000\n",
            "Non-trainable params: 0\n",
            "_________________________________________________________________\n"
          ],
          "name": "stdout"
        }
      ]
    },
    {
      "cell_type": "code",
      "metadata": {
        "colab": {
          "base_uri": "https://localhost:8080/"
        },
        "id": "c0lT-3T9ixiI",
        "outputId": "9ef01ea6-368b-40af-f132-3a8e5e6bbac9"
      },
      "source": [
        "# model.add(Conv1D(filters=128, kernel_size=3, padding='same', dilation_rate=1,activation='relu'))\n",
        "my_model5.add(tf.keras.layers.Conv1D(128 , 5, padding='same',kernel_initializer='random_normal'))\n",
        "print('.\\n.\\n.\\nadded conv1d layer with valid padding random_normal initializer - 128 filters')\n",
        "my_model5.add(tf.keras.layers.MaxPool1D(pool_size=5))\n",
        "print('added pool layer')\n",
        "my_model5.add(tf.keras.layers.BatchNormalization())\n",
        "print('added batch norm layer')\n",
        "my_model5.add(tf.keras.layers.Activation('relu'))\n",
        "print('added relu activation layer')\n",
        "my_model5.summary()\n"
      ],
      "execution_count": null,
      "outputs": [
        {
          "output_type": "stream",
          "text": [
            ".\n",
            ".\n",
            ".\n",
            "added conv1d layer with valid padding random_normal initializer - 128 filters\n",
            "added pool layer\n",
            "added batch norm layer\n",
            "added relu activation layer\n",
            "Model: \"sequential_1\"\n",
            "_________________________________________________________________\n",
            "Layer (type)                 Output Shape              Param #   \n",
            "=================================================================\n",
            "embedding_1 (Embedding)      (None, 1000, 32)          320000    \n",
            "_________________________________________________________________\n",
            "conv1d_1 (Conv1D)            (None, 1000, 128)         20608     \n",
            "_________________________________________________________________\n",
            "max_pooling1d_1 (MaxPooling1 (None, 200, 128)          0         \n",
            "_________________________________________________________________\n",
            "batch_normalization_3 (Batch (None, 200, 128)          512       \n",
            "_________________________________________________________________\n",
            "activation_4 (Activation)    (None, 200, 128)          0         \n",
            "=================================================================\n",
            "Total params: 341,120\n",
            "Trainable params: 340,864\n",
            "Non-trainable params: 256\n",
            "_________________________________________________________________\n"
          ],
          "name": "stdout"
        }
      ]
    },
    {
      "cell_type": "code",
      "metadata": {
        "colab": {
          "base_uri": "https://localhost:8080/"
        },
        "id": "5WeoSdXai7ji",
        "outputId": "7b0725cc-8ecd-4d83-99f0-fb5e2ed3a434"
      },
      "source": [
        "# model.add(Conv1D(filters=128, kernel_size=3, padding='same', dilation_rate=1,activation='relu'))\n",
        "my_model5.add(tf.keras.layers.Conv1D(64 , 5, padding='same',kernel_initializer='random_normal'))\n",
        "print('.\\n.\\n.\\nadded conv1d layer with valid padding random_normal initializer - 128 filters')\n",
        "my_model5.add(tf.keras.layers.MaxPool1D(pool_size=5))\n",
        "print('added pool layer')\n",
        "my_model5.add(tf.keras.layers.BatchNormalization())\n",
        "print('added batch norm layer')\n",
        "my_model5.add(tf.keras.layers.Activation('relu'))\n",
        "print('added relu activation layer')\n",
        "my_model5.summary()\n"
      ],
      "execution_count": null,
      "outputs": [
        {
          "output_type": "stream",
          "text": [
            ".\n",
            ".\n",
            ".\n",
            "added conv1d layer with valid padding random_normal initializer - 128 filters\n",
            "added pool layer\n",
            "added batch norm layer\n",
            "added relu activation layer\n",
            "Model: \"sequential_1\"\n",
            "_________________________________________________________________\n",
            "Layer (type)                 Output Shape              Param #   \n",
            "=================================================================\n",
            "embedding_1 (Embedding)      (None, 1000, 32)          320000    \n",
            "_________________________________________________________________\n",
            "conv1d_1 (Conv1D)            (None, 1000, 128)         20608     \n",
            "_________________________________________________________________\n",
            "max_pooling1d_1 (MaxPooling1 (None, 200, 128)          0         \n",
            "_________________________________________________________________\n",
            "batch_normalization_3 (Batch (None, 200, 128)          512       \n",
            "_________________________________________________________________\n",
            "activation_4 (Activation)    (None, 200, 128)          0         \n",
            "_________________________________________________________________\n",
            "conv1d_2 (Conv1D)            (None, 200, 64)           41024     \n",
            "_________________________________________________________________\n",
            "max_pooling1d_2 (MaxPooling1 (None, 40, 64)            0         \n",
            "_________________________________________________________________\n",
            "batch_normalization_4 (Batch (None, 40, 64)            256       \n",
            "_________________________________________________________________\n",
            "activation_5 (Activation)    (None, 40, 64)            0         \n",
            "=================================================================\n",
            "Total params: 382,400\n",
            "Trainable params: 382,016\n",
            "Non-trainable params: 384\n",
            "_________________________________________________________________\n"
          ],
          "name": "stdout"
        }
      ]
    },
    {
      "cell_type": "code",
      "metadata": {
        "colab": {
          "base_uri": "https://localhost:8080/"
        },
        "id": "Zmov-WSMjB6Q",
        "outputId": "419badec-dd36-46e2-8b4a-b191a7424746"
      },
      "source": [
        "my_model5.add(tf.keras.layers.Dense(200,kernel_regularizer=tf.keras.regularizers.l1_l2(l1=1e-7, l2=1e-5)))\n",
        "print('.\\n.\\n.\\n--> added a dense layer with l1_l2 regularization')\n",
        "my_model5.add(tf.keras.layers.BatchNormalization())\n",
        "print('added batch norm layer')\n",
        "my_model5.add(tf.keras.layers.Activation('tanh'))\n",
        "print('added tanh activation layer')\n",
        "my_model5.add(tf.keras.layers.Flatten())\n",
        "print('.\\n.\\n.\\n--> flatten layer')\n",
        "my_model5.add(tf.keras.layers.Dropout(0.5))\n",
        "print('.\\n.\\n.\\n--> added a 0.5 dropout layer')\n",
        "my_model5.summary()"
      ],
      "execution_count": null,
      "outputs": [
        {
          "output_type": "stream",
          "text": [
            ".\n",
            ".\n",
            ".\n",
            "--> added a dense layer with l1_l2 regularization\n",
            "added batch norm layer\n",
            "added tanh activation layer\n",
            ".\n",
            ".\n",
            ".\n",
            "--> flatten layer\n",
            ".\n",
            ".\n",
            ".\n",
            "--> added a 0.5 dropout layer\n",
            "Model: \"sequential_1\"\n",
            "_________________________________________________________________\n",
            "Layer (type)                 Output Shape              Param #   \n",
            "=================================================================\n",
            "embedding_1 (Embedding)      (None, 1000, 32)          320000    \n",
            "_________________________________________________________________\n",
            "conv1d_1 (Conv1D)            (None, 1000, 128)         20608     \n",
            "_________________________________________________________________\n",
            "max_pooling1d_1 (MaxPooling1 (None, 200, 128)          0         \n",
            "_________________________________________________________________\n",
            "batch_normalization_3 (Batch (None, 200, 128)          512       \n",
            "_________________________________________________________________\n",
            "activation_4 (Activation)    (None, 200, 128)          0         \n",
            "_________________________________________________________________\n",
            "conv1d_2 (Conv1D)            (None, 200, 64)           41024     \n",
            "_________________________________________________________________\n",
            "max_pooling1d_2 (MaxPooling1 (None, 40, 64)            0         \n",
            "_________________________________________________________________\n",
            "batch_normalization_4 (Batch (None, 40, 64)            256       \n",
            "_________________________________________________________________\n",
            "activation_5 (Activation)    (None, 40, 64)            0         \n",
            "_________________________________________________________________\n",
            "dense_2 (Dense)              (None, 40, 200)           13000     \n",
            "_________________________________________________________________\n",
            "batch_normalization_5 (Batch (None, 40, 200)           800       \n",
            "_________________________________________________________________\n",
            "activation_6 (Activation)    (None, 40, 200)           0         \n",
            "_________________________________________________________________\n",
            "flatten_2 (Flatten)          (None, 8000)              0         \n",
            "_________________________________________________________________\n",
            "dropout_1 (Dropout)          (None, 8000)              0         \n",
            "=================================================================\n",
            "Total params: 396,200\n",
            "Trainable params: 395,416\n",
            "Non-trainable params: 784\n",
            "_________________________________________________________________\n"
          ],
          "name": "stdout"
        }
      ]
    },
    {
      "cell_type": "code",
      "metadata": {
        "colab": {
          "base_uri": "https://localhost:8080/"
        },
        "id": "UnHogK-mjNOF",
        "outputId": "82377fea-623f-4c1f-aec2-59ecb6b30fc9"
      },
      "source": [
        "my_model5.add(tf.keras.layers.Dense(64,kernel_regularizer=tf.keras.regularizers.l1_l2(l1=1e-6, l2=1e-5)))\n",
        "print('.\\n.\\n.\\n--> added another dense layer with l1_l2 regularization')\n",
        "my_model5.add(tf.keras.layers.BatchNormalization())\n",
        "print('added batch norm layer')\n",
        "my_model5.add(tf.keras.layers.Activation('sigmoid'))\n",
        "print('added tanh sigmoid layer')\n",
        "my_model5.add(tf.keras.layers.Flatten())\n",
        "print('.\\n.\\n.\\n--> flatten layer')\n",
        "my_model5.summary()"
      ],
      "execution_count": null,
      "outputs": [
        {
          "output_type": "stream",
          "text": [
            ".\n",
            ".\n",
            ".\n",
            "--> added another dense layer with l1_l2 regularization\n",
            "added batch norm layer\n",
            "added tanh sigmoid layer\n",
            ".\n",
            ".\n",
            ".\n",
            "--> flatten layer\n",
            "Model: \"sequential_1\"\n",
            "_________________________________________________________________\n",
            "Layer (type)                 Output Shape              Param #   \n",
            "=================================================================\n",
            "embedding_1 (Embedding)      (None, 1000, 32)          320000    \n",
            "_________________________________________________________________\n",
            "conv1d_1 (Conv1D)            (None, 1000, 128)         20608     \n",
            "_________________________________________________________________\n",
            "max_pooling1d_1 (MaxPooling1 (None, 200, 128)          0         \n",
            "_________________________________________________________________\n",
            "batch_normalization_3 (Batch (None, 200, 128)          512       \n",
            "_________________________________________________________________\n",
            "activation_4 (Activation)    (None, 200, 128)          0         \n",
            "_________________________________________________________________\n",
            "conv1d_2 (Conv1D)            (None, 200, 64)           41024     \n",
            "_________________________________________________________________\n",
            "max_pooling1d_2 (MaxPooling1 (None, 40, 64)            0         \n",
            "_________________________________________________________________\n",
            "batch_normalization_4 (Batch (None, 40, 64)            256       \n",
            "_________________________________________________________________\n",
            "activation_5 (Activation)    (None, 40, 64)            0         \n",
            "_________________________________________________________________\n",
            "dense_2 (Dense)              (None, 40, 200)           13000     \n",
            "_________________________________________________________________\n",
            "batch_normalization_5 (Batch (None, 40, 200)           800       \n",
            "_________________________________________________________________\n",
            "activation_6 (Activation)    (None, 40, 200)           0         \n",
            "_________________________________________________________________\n",
            "flatten_2 (Flatten)          (None, 8000)              0         \n",
            "_________________________________________________________________\n",
            "dropout_1 (Dropout)          (None, 8000)              0         \n",
            "_________________________________________________________________\n",
            "dense_3 (Dense)              (None, 64)                512064    \n",
            "_________________________________________________________________\n",
            "batch_normalization_6 (Batch (None, 64)                256       \n",
            "_________________________________________________________________\n",
            "activation_7 (Activation)    (None, 64)                0         \n",
            "_________________________________________________________________\n",
            "flatten_3 (Flatten)          (None, 64)                0         \n",
            "=================================================================\n",
            "Total params: 908,520\n",
            "Trainable params: 907,608\n",
            "Non-trainable params: 912\n",
            "_________________________________________________________________\n"
          ],
          "name": "stdout"
        }
      ]
    },
    {
      "cell_type": "code",
      "metadata": {
        "colab": {
          "base_uri": "https://localhost:8080/"
        },
        "id": "oLkOS3u3jY5n",
        "outputId": "8a676b66-95a5-4e94-c361-2eb10831dcdf"
      },
      "source": [
        "num_classes"
      ],
      "execution_count": null,
      "outputs": [
        {
          "output_type": "execute_result",
          "data": {
            "text/plain": [
              "15"
            ]
          },
          "metadata": {
            "tags": []
          },
          "execution_count": 71
        }
      ]
    },
    {
      "cell_type": "code",
      "metadata": {
        "colab": {
          "base_uri": "https://localhost:8080/"
        },
        "id": "G9UJvwmwjeQz",
        "outputId": "5f9c52f7-ff02-401c-c4b8-6bd498dda8ac"
      },
      "source": [
        "my_model5.add(tf.keras.layers.Dense(num_classes))\n",
        "print('--> dense layer of size =  ',num_classes)\n",
        "my_model5.add(tf.keras.layers.BatchNormalization())\n",
        "print('added batch norm layer')\n",
        "my_model5.add(tf.keras.layers.Activation('sigmoid'))\n",
        "print('added sigmoid activation layer')\n",
        "my_model5.add(tf.keras.layers.Flatten())\n",
        "print('.\\n.\\n.\\n--> flatten layer')\n",
        "my_model5.add(tf.keras.layers.Activation('softmax'))\n",
        "print('added final softmax activation layer')\n",
        "my_model5.summary()"
      ],
      "execution_count": null,
      "outputs": [
        {
          "output_type": "stream",
          "text": [
            "--> dense layer of size =   15\n",
            "added batch norm layer\n",
            "added sigmoid activation layer\n",
            ".\n",
            ".\n",
            ".\n",
            "--> flatten layer\n",
            "added final softmax activation layer\n",
            "Model: \"sequential_1\"\n",
            "_________________________________________________________________\n",
            "Layer (type)                 Output Shape              Param #   \n",
            "=================================================================\n",
            "embedding_1 (Embedding)      (None, 1000, 32)          320000    \n",
            "_________________________________________________________________\n",
            "conv1d_1 (Conv1D)            (None, 1000, 128)         20608     \n",
            "_________________________________________________________________\n",
            "max_pooling1d_1 (MaxPooling1 (None, 200, 128)          0         \n",
            "_________________________________________________________________\n",
            "batch_normalization_3 (Batch (None, 200, 128)          512       \n",
            "_________________________________________________________________\n",
            "activation_4 (Activation)    (None, 200, 128)          0         \n",
            "_________________________________________________________________\n",
            "conv1d_2 (Conv1D)            (None, 200, 64)           41024     \n",
            "_________________________________________________________________\n",
            "max_pooling1d_2 (MaxPooling1 (None, 40, 64)            0         \n",
            "_________________________________________________________________\n",
            "batch_normalization_4 (Batch (None, 40, 64)            256       \n",
            "_________________________________________________________________\n",
            "activation_5 (Activation)    (None, 40, 64)            0         \n",
            "_________________________________________________________________\n",
            "dense_2 (Dense)              (None, 40, 200)           13000     \n",
            "_________________________________________________________________\n",
            "batch_normalization_5 (Batch (None, 40, 200)           800       \n",
            "_________________________________________________________________\n",
            "activation_6 (Activation)    (None, 40, 200)           0         \n",
            "_________________________________________________________________\n",
            "flatten_2 (Flatten)          (None, 8000)              0         \n",
            "_________________________________________________________________\n",
            "dropout_1 (Dropout)          (None, 8000)              0         \n",
            "_________________________________________________________________\n",
            "dense_3 (Dense)              (None, 64)                512064    \n",
            "_________________________________________________________________\n",
            "batch_normalization_6 (Batch (None, 64)                256       \n",
            "_________________________________________________________________\n",
            "activation_7 (Activation)    (None, 64)                0         \n",
            "_________________________________________________________________\n",
            "flatten_3 (Flatten)          (None, 64)                0         \n",
            "_________________________________________________________________\n",
            "dense_4 (Dense)              (None, 15)                975       \n",
            "_________________________________________________________________\n",
            "batch_normalization_7 (Batch (None, 15)                60        \n",
            "_________________________________________________________________\n",
            "activation_8 (Activation)    (None, 15)                0         \n",
            "_________________________________________________________________\n",
            "flatten_4 (Flatten)          (None, 15)                0         \n",
            "_________________________________________________________________\n",
            "activation_9 (Activation)    (None, 15)                0         \n",
            "=================================================================\n",
            "Total params: 909,555\n",
            "Trainable params: 908,613\n",
            "Non-trainable params: 942\n",
            "_________________________________________________________________\n"
          ],
          "name": "stdout"
        }
      ]
    },
    {
      "cell_type": "code",
      "metadata": {
        "colab": {
          "base_uri": "https://localhost:8080/"
        },
        "id": "y1AlXDynjkyJ",
        "outputId": "a186aa85-ebec-47bc-e99e-9c54be1fdc92"
      },
      "source": [
        "my_model5.compile(optimizer=tf.keras.optimizers.Adam(\n",
        "    learning_rate=0.00001, beta_1=0.9, beta_2=0.999, epsilon=1e-07, amsgrad=False,\n",
        "    name='Adam',), loss='categorical_crossentropy', metrics=['accuracy'])\n",
        "print(' ---> compiled with learning rate : 0.00001 -')"
      ],
      "execution_count": null,
      "outputs": [
        {
          "output_type": "stream",
          "text": [
            " ---> compiled with learning rate : 0.00001 -\n"
          ],
          "name": "stdout"
        }
      ]
    },
    {
      "cell_type": "code",
      "metadata": {
        "colab": {
          "base_uri": "https://localhost:8080/"
        },
        "id": "TgoMTRLmjsVO",
        "outputId": "496e4100-7bd4-4444-dbf0-0041d707fbbd"
      },
      "source": [
        "%%time\n",
        "\n",
        "scores2 = []\n",
        "histories2 = []\n",
        "print('------> fitting the model\\n')\n",
        "\n",
        "for train_iX,test_iX in k_fold.split(X_train_padded):\n",
        "  # selecting rows for trainX and trainY first train data and then cross validation data\n",
        "  x_itrain,y_itrain,x_cv,y_cv = X_train_padded[train_iX] , y_train[train_iX] , X_train_padded[test_iX], y_train[test_iX]\n",
        "    # fit into model with batch sizes of 32 and epochs 10\n",
        "    # # history = my_model.fit(x_train,y_train,batch_size=32,epochs=10,verbose=1,validation_data=(x_cv,y_cv))\n",
        "  history = my_model5.fit(x_itrain,y_itrain,batch_size=128,epochs=10,verbose=1,validation_data=(x_cv,y_cv))\n",
        "  # evaluate model\n",
        "  loss,acc = my_model5.evaluate(X_test_padded , y_test,verbose=2)\n",
        "  print('-'*80)\n",
        "  print('\\n\\t --> accuracy on test data : {:.6f}% and loss : {:.7f} <--\\n'.format(acc * 100.0,loss))\n",
        "  print('-'*80)\n",
        "    # # stores scores  \n",
        "  scores2.append(acc)\n",
        "  histories2.append(history)\n",
        "\n",
        "print('done')"
      ],
      "execution_count": null,
      "outputs": [
        {
          "output_type": "stream",
          "text": [
            "------> fitting the model\n",
            "\n",
            "Epoch 1/10\n",
            "171/171 [==============================] - 7s 32ms/step - loss: 2.7352 - accuracy: 0.0694 - val_loss: 2.7202 - val_accuracy: 0.0639\n",
            "Epoch 2/10\n",
            "171/171 [==============================] - 5s 30ms/step - loss: 2.7245 - accuracy: 0.0742 - val_loss: 2.7164 - val_accuracy: 0.0692\n",
            "Epoch 3/10\n",
            "171/171 [==============================] - 5s 30ms/step - loss: 2.7160 - accuracy: 0.0793 - val_loss: 2.7106 - val_accuracy: 0.0874\n",
            "Epoch 4/10\n",
            "171/171 [==============================] - 5s 30ms/step - loss: 2.7091 - accuracy: 0.0834 - val_loss: 2.7042 - val_accuracy: 0.0989\n",
            "Epoch 5/10\n",
            "171/171 [==============================] - 5s 29ms/step - loss: 2.7020 - accuracy: 0.0837 - val_loss: 2.6970 - val_accuracy: 0.0997\n",
            "Epoch 6/10\n",
            "171/171 [==============================] - 5s 29ms/step - loss: 2.6950 - accuracy: 0.0943 - val_loss: 2.6896 - val_accuracy: 0.1071\n",
            "Epoch 7/10\n",
            "171/171 [==============================] - 5s 29ms/step - loss: 2.6873 - accuracy: 0.0962 - val_loss: 2.6824 - val_accuracy: 0.1174\n",
            "Epoch 8/10\n",
            "171/171 [==============================] - 5s 29ms/step - loss: 2.6776 - accuracy: 0.1111 - val_loss: 2.6736 - val_accuracy: 0.1290\n",
            "Epoch 9/10\n",
            "171/171 [==============================] - 5s 29ms/step - loss: 2.6684 - accuracy: 0.1125 - val_loss: 2.6651 - val_accuracy: 0.1335\n",
            "Epoch 10/10\n",
            "171/171 [==============================] - 5s 30ms/step - loss: 2.6620 - accuracy: 0.1279 - val_loss: 2.6561 - val_accuracy: 0.1487\n",
            "180/180 - 1s - loss: 2.6572 - accuracy: 0.1469\n",
            "--------------------------------------------------------------------------------\n",
            "\n",
            "\t --> accuracy on test data : 14.694589% and loss : 2.6572256 <--\n",
            "\n",
            "--------------------------------------------------------------------------------\n",
            "Epoch 1/10\n",
            "171/171 [==============================] - 5s 30ms/step - loss: 2.6528 - accuracy: 0.1310 - val_loss: 2.6170 - val_accuracy: 0.1957\n",
            "Epoch 2/10\n",
            "171/171 [==============================] - 5s 31ms/step - loss: 2.6416 - accuracy: 0.1403 - val_loss: 2.6110 - val_accuracy: 0.2011\n",
            "Epoch 3/10\n",
            "171/171 [==============================] - 5s 31ms/step - loss: 2.6324 - accuracy: 0.1527 - val_loss: 2.6034 - val_accuracy: 0.2114\n",
            "Epoch 4/10\n",
            "171/171 [==============================] - 5s 31ms/step - loss: 2.6234 - accuracy: 0.1601 - val_loss: 2.5975 - val_accuracy: 0.2225\n",
            "Epoch 5/10\n",
            "171/171 [==============================] - 5s 30ms/step - loss: 2.6133 - accuracy: 0.1720 - val_loss: 2.5917 - val_accuracy: 0.2340\n",
            "Epoch 6/10\n",
            "171/171 [==============================] - 5s 31ms/step - loss: 2.6069 - accuracy: 0.1771 - val_loss: 2.5860 - val_accuracy: 0.2357\n",
            "Epoch 7/10\n",
            "171/171 [==============================] - 5s 32ms/step - loss: 2.5983 - accuracy: 0.1923 - val_loss: 2.5812 - val_accuracy: 0.2435\n",
            "Epoch 8/10\n",
            "171/171 [==============================] - 5s 31ms/step - loss: 2.5881 - accuracy: 0.2022 - val_loss: 2.5749 - val_accuracy: 0.2522\n",
            "Epoch 9/10\n",
            "171/171 [==============================] - 5s 32ms/step - loss: 2.5814 - accuracy: 0.2137 - val_loss: 2.5699 - val_accuracy: 0.2608\n",
            "Epoch 10/10\n",
            "171/171 [==============================] - 5s 31ms/step - loss: 2.5750 - accuracy: 0.2219 - val_loss: 2.5668 - val_accuracy: 0.2703\n",
            "180/180 - 1s - loss: 2.5852 - accuracy: 0.2408\n",
            "--------------------------------------------------------------------------------\n",
            "\n",
            "\t --> accuracy on test data : 24.083769% and loss : 2.5851610 <--\n",
            "\n",
            "--------------------------------------------------------------------------------\n",
            "Epoch 1/10\n",
            "171/171 [==============================] - 5s 31ms/step - loss: 2.5689 - accuracy: 0.2359 - val_loss: 2.5400 - val_accuracy: 0.3185\n",
            "Epoch 2/10\n",
            "171/171 [==============================] - 5s 30ms/step - loss: 2.5623 - accuracy: 0.2411 - val_loss: 2.5369 - val_accuracy: 0.3276\n",
            "Epoch 3/10\n",
            "171/171 [==============================] - 5s 31ms/step - loss: 2.5586 - accuracy: 0.2475 - val_loss: 2.5339 - val_accuracy: 0.3317\n",
            "Epoch 4/10\n",
            "171/171 [==============================] - 5s 30ms/step - loss: 2.5506 - accuracy: 0.2635 - val_loss: 2.5306 - val_accuracy: 0.3321\n",
            "Epoch 5/10\n",
            "171/171 [==============================] - 5s 30ms/step - loss: 2.5437 - accuracy: 0.2784 - val_loss: 2.5276 - val_accuracy: 0.3362\n",
            "Epoch 6/10\n",
            "171/171 [==============================] - 5s 31ms/step - loss: 2.5387 - accuracy: 0.2870 - val_loss: 2.5245 - val_accuracy: 0.3395\n",
            "Epoch 7/10\n",
            "171/171 [==============================] - 5s 31ms/step - loss: 2.5325 - accuracy: 0.2951 - val_loss: 2.5219 - val_accuracy: 0.3494\n",
            "Epoch 8/10\n",
            "171/171 [==============================] - 5s 31ms/step - loss: 2.5279 - accuracy: 0.3102 - val_loss: 2.5186 - val_accuracy: 0.3576\n",
            "Epoch 9/10\n",
            "171/171 [==============================] - 5s 31ms/step - loss: 2.5239 - accuracy: 0.3166 - val_loss: 2.5154 - val_accuracy: 0.3684\n",
            "Epoch 10/10\n",
            "171/171 [==============================] - 5s 31ms/step - loss: 2.5181 - accuracy: 0.3321 - val_loss: 2.5129 - val_accuracy: 0.3708\n",
            "180/180 - 1s - loss: 2.5386 - accuracy: 0.3145\n",
            "--------------------------------------------------------------------------------\n",
            "\n",
            "\t --> accuracy on test data : 31.448516% and loss : 2.5385695 <--\n",
            "\n",
            "--------------------------------------------------------------------------------\n",
            "Epoch 1/10\n",
            "171/171 [==============================] - 5s 31ms/step - loss: 2.5152 - accuracy: 0.3370 - val_loss: 2.4956 - val_accuracy: 0.4260\n",
            "Epoch 2/10\n",
            "171/171 [==============================] - 5s 31ms/step - loss: 2.5084 - accuracy: 0.3486 - val_loss: 2.4935 - val_accuracy: 0.4207\n",
            "Epoch 3/10\n",
            "171/171 [==============================] - 5s 31ms/step - loss: 2.5055 - accuracy: 0.3545 - val_loss: 2.4909 - val_accuracy: 0.4260\n",
            "Epoch 4/10\n",
            "171/171 [==============================] - 5s 30ms/step - loss: 2.5006 - accuracy: 0.3630 - val_loss: 2.4891 - val_accuracy: 0.4318\n",
            "Epoch 5/10\n",
            "171/171 [==============================] - 5s 30ms/step - loss: 2.4964 - accuracy: 0.3761 - val_loss: 2.4869 - val_accuracy: 0.4310\n",
            "Epoch 6/10\n",
            "171/171 [==============================] - 5s 30ms/step - loss: 2.4910 - accuracy: 0.3862 - val_loss: 2.4848 - val_accuracy: 0.4421\n",
            "Epoch 7/10\n",
            "171/171 [==============================] - 5s 31ms/step - loss: 2.4869 - accuracy: 0.3951 - val_loss: 2.4828 - val_accuracy: 0.4450\n",
            "Epoch 8/10\n",
            "171/171 [==============================] - 5s 31ms/step - loss: 2.4833 - accuracy: 0.4027 - val_loss: 2.4806 - val_accuracy: 0.4499\n",
            "Epoch 9/10\n",
            "171/171 [==============================] - 5s 30ms/step - loss: 2.4784 - accuracy: 0.4139 - val_loss: 2.4786 - val_accuracy: 0.4532\n",
            "Epoch 10/10\n",
            "171/171 [==============================] - 5s 31ms/step - loss: 2.4757 - accuracy: 0.4217 - val_loss: 2.4771 - val_accuracy: 0.4491\n",
            "180/180 - 1s - loss: 2.5059 - accuracy: 0.3733\n",
            "--------------------------------------------------------------------------------\n",
            "\n",
            "\t --> accuracy on test data : 37.329844% and loss : 2.5058889 <--\n",
            "\n",
            "--------------------------------------------------------------------------------\n",
            "Epoch 1/10\n",
            "171/171 [==============================] - 5s 31ms/step - loss: 2.4743 - accuracy: 0.4239 - val_loss: 2.4470 - val_accuracy: 0.5155\n",
            "Epoch 2/10\n",
            "171/171 [==============================] - 5s 31ms/step - loss: 2.4706 - accuracy: 0.4283 - val_loss: 2.4456 - val_accuracy: 0.5163\n",
            "Epoch 3/10\n",
            "171/171 [==============================] - 5s 30ms/step - loss: 2.4668 - accuracy: 0.4462 - val_loss: 2.4442 - val_accuracy: 0.5187\n",
            "Epoch 4/10\n",
            "171/171 [==============================] - 5s 30ms/step - loss: 2.4632 - accuracy: 0.4531 - val_loss: 2.4423 - val_accuracy: 0.5196\n",
            "Epoch 5/10\n",
            "171/171 [==============================] - 5s 30ms/step - loss: 2.4594 - accuracy: 0.4577 - val_loss: 2.4414 - val_accuracy: 0.5241\n",
            "Epoch 6/10\n",
            "171/171 [==============================] - 5s 31ms/step - loss: 2.4554 - accuracy: 0.4667 - val_loss: 2.4394 - val_accuracy: 0.5319\n",
            "Epoch 7/10\n",
            "171/171 [==============================] - 5s 31ms/step - loss: 2.4523 - accuracy: 0.4739 - val_loss: 2.4379 - val_accuracy: 0.5344\n",
            "Epoch 8/10\n",
            "171/171 [==============================] - 5s 31ms/step - loss: 2.4495 - accuracy: 0.4815 - val_loss: 2.4370 - val_accuracy: 0.5336\n",
            "Epoch 9/10\n",
            "171/171 [==============================] - 5s 30ms/step - loss: 2.4456 - accuracy: 0.4898 - val_loss: 2.4356 - val_accuracy: 0.5299\n",
            "Epoch 10/10\n",
            "171/171 [==============================] - 5s 31ms/step - loss: 2.4424 - accuracy: 0.4943 - val_loss: 2.4335 - val_accuracy: 0.5385\n",
            "180/180 - 1s - loss: 2.4789 - accuracy: 0.4300\n",
            "--------------------------------------------------------------------------------\n",
            "\n",
            "\t --> accuracy on test data : 43.001744% and loss : 2.4788611 <--\n",
            "\n",
            "--------------------------------------------------------------------------------\n",
            "Epoch 1/10\n",
            "171/171 [==============================] - 5s 31ms/step - loss: 2.4410 - accuracy: 0.4989 - val_loss: 2.4181 - val_accuracy: 0.5756\n",
            "Epoch 2/10\n",
            "171/171 [==============================] - 5s 31ms/step - loss: 2.4378 - accuracy: 0.5060 - val_loss: 2.4169 - val_accuracy: 0.5756\n",
            "Epoch 3/10\n",
            "171/171 [==============================] - 5s 31ms/step - loss: 2.4344 - accuracy: 0.5109 - val_loss: 2.4156 - val_accuracy: 0.5764\n",
            "Epoch 4/10\n",
            "171/171 [==============================] - 5s 31ms/step - loss: 2.4316 - accuracy: 0.5183 - val_loss: 2.4146 - val_accuracy: 0.5801\n",
            "Epoch 5/10\n",
            "171/171 [==============================] - 5s 31ms/step - loss: 2.4284 - accuracy: 0.5278 - val_loss: 2.4140 - val_accuracy: 0.5818\n",
            "Epoch 6/10\n",
            "171/171 [==============================] - 5s 31ms/step - loss: 2.4254 - accuracy: 0.5334 - val_loss: 2.4130 - val_accuracy: 0.5793\n",
            "Epoch 7/10\n",
            "171/171 [==============================] - 5s 31ms/step - loss: 2.4225 - accuracy: 0.5417 - val_loss: 2.4125 - val_accuracy: 0.5797\n",
            "Epoch 8/10\n",
            "171/171 [==============================] - 5s 32ms/step - loss: 2.4195 - accuracy: 0.5458 - val_loss: 2.4107 - val_accuracy: 0.5818\n",
            "Epoch 9/10\n",
            "171/171 [==============================] - 5s 31ms/step - loss: 2.4169 - accuracy: 0.5504 - val_loss: 2.4092 - val_accuracy: 0.5847\n",
            "Epoch 10/10\n",
            "171/171 [==============================] - 5s 31ms/step - loss: 2.4140 - accuracy: 0.5567 - val_loss: 2.4081 - val_accuracy: 0.5851\n",
            "180/180 - 1s - loss: 2.4584 - accuracy: 0.4698\n",
            "--------------------------------------------------------------------------------\n",
            "\n",
            "\t --> accuracy on test data : 46.980804% and loss : 2.4584117 <--\n",
            "\n",
            "--------------------------------------------------------------------------------\n",
            "Epoch 1/10\n",
            "171/171 [==============================] - 6s 33ms/step - loss: 2.4136 - accuracy: 0.5598 - val_loss: 2.3907 - val_accuracy: 0.6333\n",
            "Epoch 2/10\n",
            "171/171 [==============================] - 5s 31ms/step - loss: 2.4102 - accuracy: 0.5634 - val_loss: 2.3909 - val_accuracy: 0.6345\n",
            "Epoch 3/10\n",
            "171/171 [==============================] - 5s 31ms/step - loss: 2.4078 - accuracy: 0.5679 - val_loss: 2.3901 - val_accuracy: 0.6325\n",
            "Epoch 4/10\n",
            "171/171 [==============================] - 5s 31ms/step - loss: 2.4052 - accuracy: 0.5773 - val_loss: 2.3892 - val_accuracy: 0.6337\n",
            "Epoch 5/10\n",
            "171/171 [==============================] - 5s 31ms/step - loss: 2.4022 - accuracy: 0.5833 - val_loss: 2.3883 - val_accuracy: 0.6283\n",
            "Epoch 6/10\n",
            "171/171 [==============================] - 5s 31ms/step - loss: 2.4000 - accuracy: 0.5831 - val_loss: 2.3874 - val_accuracy: 0.6321\n",
            "Epoch 7/10\n",
            "171/171 [==============================] - 5s 31ms/step - loss: 2.3981 - accuracy: 0.5865 - val_loss: 2.3867 - val_accuracy: 0.6349\n",
            "Epoch 8/10\n",
            "171/171 [==============================] - 5s 31ms/step - loss: 2.3949 - accuracy: 0.5957 - val_loss: 2.3857 - val_accuracy: 0.6333\n",
            "Epoch 9/10\n",
            "171/171 [==============================] - 5s 31ms/step - loss: 2.3932 - accuracy: 0.5995 - val_loss: 2.3851 - val_accuracy: 0.6349\n",
            "Epoch 10/10\n",
            "171/171 [==============================] - 5s 31ms/step - loss: 2.3910 - accuracy: 0.6039 - val_loss: 2.3839 - val_accuracy: 0.6316\n",
            "180/180 - 1s - loss: 2.4405 - accuracy: 0.4998\n",
            "--------------------------------------------------------------------------------\n",
            "\n",
            "\t --> accuracy on test data : 49.982548% and loss : 2.4405346 <--\n",
            "\n",
            "--------------------------------------------------------------------------------\n",
            "Epoch 1/10\n",
            "171/171 [==============================] - 5s 32ms/step - loss: 2.3893 - accuracy: 0.6087 - val_loss: 2.3622 - val_accuracy: 0.6844\n",
            "Epoch 2/10\n",
            "171/171 [==============================] - 5s 32ms/step - loss: 2.3874 - accuracy: 0.6092 - val_loss: 2.3614 - val_accuracy: 0.6860\n",
            "Epoch 3/10\n",
            "171/171 [==============================] - 5s 31ms/step - loss: 2.3853 - accuracy: 0.6134 - val_loss: 2.3614 - val_accuracy: 0.6885\n",
            "Epoch 4/10\n",
            "171/171 [==============================] - 5s 31ms/step - loss: 2.3830 - accuracy: 0.6172 - val_loss: 2.3610 - val_accuracy: 0.6869\n",
            "Epoch 5/10\n",
            "171/171 [==============================] - 5s 31ms/step - loss: 2.3803 - accuracy: 0.6256 - val_loss: 2.3598 - val_accuracy: 0.6869\n",
            "Epoch 6/10\n",
            "171/171 [==============================] - 5s 31ms/step - loss: 2.3788 - accuracy: 0.6273 - val_loss: 2.3586 - val_accuracy: 0.6873\n",
            "Epoch 7/10\n",
            "171/171 [==============================] - 5s 32ms/step - loss: 2.3767 - accuracy: 0.6319 - val_loss: 2.3589 - val_accuracy: 0.6860\n",
            "Epoch 8/10\n",
            "171/171 [==============================] - 5s 31ms/step - loss: 2.3743 - accuracy: 0.6388 - val_loss: 2.3579 - val_accuracy: 0.6885\n",
            "Epoch 9/10\n",
            "171/171 [==============================] - 5s 31ms/step - loss: 2.3718 - accuracy: 0.6446 - val_loss: 2.3568 - val_accuracy: 0.6873\n",
            "Epoch 10/10\n",
            "171/171 [==============================] - 5s 30ms/step - loss: 2.3691 - accuracy: 0.6498 - val_loss: 2.3569 - val_accuracy: 0.6893\n",
            "180/180 - 1s - loss: 2.4267 - accuracy: 0.5271\n",
            "--------------------------------------------------------------------------------\n",
            "\n",
            "\t --> accuracy on test data : 52.705061% and loss : 2.4267263 <--\n",
            "\n",
            "--------------------------------------------------------------------------------\n",
            "Epoch 1/10\n",
            "171/171 [==============================] - 5s 30ms/step - loss: 2.3693 - accuracy: 0.6432 - val_loss: 2.3487 - val_accuracy: 0.7062\n",
            "Epoch 2/10\n",
            "171/171 [==============================] - 5s 30ms/step - loss: 2.3663 - accuracy: 0.6479 - val_loss: 2.3484 - val_accuracy: 0.7062\n",
            "Epoch 3/10\n",
            "171/171 [==============================] - 5s 30ms/step - loss: 2.3644 - accuracy: 0.6538 - val_loss: 2.3480 - val_accuracy: 0.7017\n",
            "Epoch 4/10\n",
            "171/171 [==============================] - 5s 30ms/step - loss: 2.3626 - accuracy: 0.6545 - val_loss: 2.3470 - val_accuracy: 0.7021\n",
            "Epoch 5/10\n",
            "171/171 [==============================] - 5s 31ms/step - loss: 2.3596 - accuracy: 0.6651 - val_loss: 2.3471 - val_accuracy: 0.6992\n",
            "Epoch 6/10\n",
            "171/171 [==============================] - 5s 30ms/step - loss: 2.3586 - accuracy: 0.6635 - val_loss: 2.3457 - val_accuracy: 0.6984\n",
            "Epoch 7/10\n",
            "171/171 [==============================] - 5s 30ms/step - loss: 2.3556 - accuracy: 0.6699 - val_loss: 2.3460 - val_accuracy: 0.7000\n",
            "Epoch 8/10\n",
            "171/171 [==============================] - 5s 30ms/step - loss: 2.3541 - accuracy: 0.6757 - val_loss: 2.3450 - val_accuracy: 0.6984\n",
            "Epoch 9/10\n",
            "171/171 [==============================] - 5s 30ms/step - loss: 2.3513 - accuracy: 0.6779 - val_loss: 2.3448 - val_accuracy: 0.6988\n",
            "Epoch 10/10\n",
            "171/171 [==============================] - 5s 30ms/step - loss: 2.3501 - accuracy: 0.6825 - val_loss: 2.3459 - val_accuracy: 0.6963\n",
            "180/180 - 1s - loss: 2.4150 - accuracy: 0.5469\n",
            "--------------------------------------------------------------------------------\n",
            "\n",
            "\t --> accuracy on test data : 54.694587% and loss : 2.4150434 <--\n",
            "\n",
            "--------------------------------------------------------------------------------\n",
            "Epoch 1/10\n",
            "171/171 [==============================] - 5s 30ms/step - loss: 2.3500 - accuracy: 0.6813 - val_loss: 2.3279 - val_accuracy: 0.7351\n",
            "Epoch 2/10\n",
            "171/171 [==============================] - 5s 30ms/step - loss: 2.3480 - accuracy: 0.6844 - val_loss: 2.3274 - val_accuracy: 0.7363\n",
            "Epoch 3/10\n",
            "171/171 [==============================] - 5s 30ms/step - loss: 2.3462 - accuracy: 0.6847 - val_loss: 2.3277 - val_accuracy: 0.7342\n",
            "Epoch 4/10\n",
            "171/171 [==============================] - 5s 30ms/step - loss: 2.3443 - accuracy: 0.6910 - val_loss: 2.3268 - val_accuracy: 0.7342\n",
            "Epoch 5/10\n",
            "171/171 [==============================] - 5s 30ms/step - loss: 2.3421 - accuracy: 0.6953 - val_loss: 2.3264 - val_accuracy: 0.7326\n",
            "Epoch 6/10\n",
            "171/171 [==============================] - 5s 31ms/step - loss: 2.3404 - accuracy: 0.6962 - val_loss: 2.3259 - val_accuracy: 0.7301\n",
            "Epoch 7/10\n",
            "171/171 [==============================] - 5s 30ms/step - loss: 2.3385 - accuracy: 0.6999 - val_loss: 2.3259 - val_accuracy: 0.7293\n",
            "Epoch 8/10\n",
            "171/171 [==============================] - 5s 30ms/step - loss: 2.3373 - accuracy: 0.7067 - val_loss: 2.3258 - val_accuracy: 0.7268\n",
            "Epoch 9/10\n",
            "171/171 [==============================] - 5s 30ms/step - loss: 2.3352 - accuracy: 0.7089 - val_loss: 2.3252 - val_accuracy: 0.7285\n",
            "Epoch 10/10\n",
            "171/171 [==============================] - 5s 30ms/step - loss: 2.3333 - accuracy: 0.7099 - val_loss: 2.3251 - val_accuracy: 0.7281\n",
            "180/180 - 1s - loss: 2.4031 - accuracy: 0.5574\n",
            "--------------------------------------------------------------------------------\n",
            "\n",
            "\t --> accuracy on test data : 55.741709% and loss : 2.4031444 <--\n",
            "\n",
            "--------------------------------------------------------------------------------\n",
            "done\n",
            "CPU times: user 6min 18s, sys: 39.4 s, total: 6min 58s\n",
            "Wall time: 8min 54s\n"
          ],
          "name": "stdout"
        }
      ]
    },
    {
      "cell_type": "code",
      "metadata": {
        "colab": {
          "base_uri": "https://localhost:8080/",
          "height": 296
        },
        "id": "LerEkYddj4ah",
        "outputId": "517e5494-a87a-4956-e258-6897aaf6716d"
      },
      "source": [
        "plt.plot([i for i in range(1,11)],scores2,label='TESTING')\n",
        "plt.xlabel('Epochs')\n",
        "plt.ylabel('Accuracy')\n",
        "plt.legend()"
      ],
      "execution_count": null,
      "outputs": [
        {
          "output_type": "execute_result",
          "data": {
            "text/plain": [
              "<matplotlib.legend.Legend at 0x7ff32603dc50>"
            ]
          },
          "metadata": {
            "tags": []
          },
          "execution_count": 79
        },
        {
          "output_type": "display_data",
          "data": {
            "image/png": "[encoded data removed]",
            "text/plain": [
              "<Figure size 432x288 with 1 Axes>"
            ]
          },
          "metadata": {
            "tags": [],
            "needs_background": "light"
          }
        }
      ]
    },
    {
      "cell_type": "code",
      "metadata": {
        "id": "EVPEDB39maPb"
      },
      "source": [
        ""
      ],
      "execution_count": null,
      "outputs": []
    }
  ]
}