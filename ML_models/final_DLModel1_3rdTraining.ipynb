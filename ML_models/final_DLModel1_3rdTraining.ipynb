{
  "nbformat": 4,
  "nbformat_minor": 0,
  "metadata": {
    "colab": {
      "name": "final_DLModel1_3rdTraining.ipynb",
      "provenance": [],
      "collapsed_sections": []
    },
    "kernelspec": {
      "name": "python3",
      "display_name": "Python 3"
    },
    "accelerator": "GPU"
  },
  "cells": [
    {
      "cell_type": "code",
      "metadata": {
        "id": "Ru4xy3FmIyTp"
      },
      "source": [
        "#@title Version 1.3 <br> 3rd training of the model"
      ],
      "execution_count": 1,
      "outputs": []
    },
    {
      "cell_type": "code",
      "metadata": {
        "colab": {
          "base_uri": "https://localhost:8080/"
        },
        "id": "a-UlqgAjI2Rs",
        "outputId": "33479cb4-c1df-4136-811a-a82462ba2024"
      },
      "source": [
        "import pandas as pd\n",
        "import matplotlib.pyplot as plt\n",
        "import numpy as np\n",
        "import os\n",
        "from os import listdir\n",
        "from os.path import isfile, join\n",
        "from google.colab import drive\n",
        "drive.mount('/content/drive')"
      ],
      "execution_count": 2,
      "outputs": [
        {
          "output_type": "stream",
          "text": [
            "Mounted at /content/drive\n"
          ],
          "name": "stdout"
        }
      ]
    },
    {
      "cell_type": "code",
      "metadata": {
        "colab": {
          "base_uri": "https://localhost:8080/"
        },
        "id": "NV035z5zI8-r",
        "outputId": "b15d1a3e-ae9a-4b2a-ce3d-df4097e67f77"
      },
      "source": [
        "!mkdir dataset\n",
        "!ls"
      ],
      "execution_count": 3,
      "outputs": [
        {
          "output_type": "stream",
          "text": [
            "dataset  drive\tsample_data\n"
          ],
          "name": "stdout"
        }
      ]
    },
    {
      "cell_type": "code",
      "metadata": {
        "colab": {
          "base_uri": "https://localhost:8080/"
        },
        "id": "nSYZEPeTJFcr",
        "outputId": "e914fc0e-1a87-4ce9-9f5d-7e4f713c3b55"
      },
      "source": [
        "\n",
        "!cp '/content/drive/MyDrive/datasets/LanguageDataset/final_changes/final_dataset_3.csv' /content/dataset/\n",
        "! echo copied final_dataset_3\n"
      ],
      "execution_count": 5,
      "outputs": [
        {
          "output_type": "stream",
          "text": [
            "copied final_dataset_3\n"
          ],
          "name": "stdout"
        }
      ]
    },
    {
      "cell_type": "code",
      "metadata": {
        "colab": {
          "base_uri": "https://localhost:8080/",
          "height": 419
        },
        "id": "VpRV-StlJIAO",
        "outputId": "848fbde5-1b57-4056-cd1b-1ccf889b6907"
      },
      "source": [
        "data = pd.read_csv('/content/dataset/final_dataset_3.csv')\n",
        "data"
      ],
      "execution_count": 6,
      "outputs": [
        {
          "output_type": "execute_result",
          "data": {
            "text/html": [
              "<div>\n",
              "<style scoped>\n",
              "    .dataframe tbody tr th:only-of-type {\n",
              "        vertical-align: middle;\n",
              "    }\n",
              "\n",
              "    .dataframe tbody tr th {\n",
              "        vertical-align: top;\n",
              "    }\n",
              "\n",
              "    .dataframe thead th {\n",
              "        text-align: right;\n",
              "    }\n",
              "</style>\n",
              "<table border=\"1\" class=\"dataframe\">\n",
              "  <thead>\n",
              "    <tr style=\"text-align: right;\">\n",
              "      <th></th>\n",
              "      <th>Language</th>\n",
              "      <th>Source</th>\n",
              "    </tr>\n",
              "  </thead>\n",
              "  <tbody>\n",
              "    <tr>\n",
              "      <th>0</th>\n",
              "      <td>bash</td>\n",
              "      <td>foo a1 b2 b3 b4 ...\\n\\n</td>\n",
              "    </tr>\n",
              "    <tr>\n",
              "      <th>1</th>\n",
              "      <td>bash</td>\n",
              "      <td>unset\\na\\nb\\nc\\nMY_VARIABLE\\nmake foo\\nexport ...</td>\n",
              "    </tr>\n",
              "    <tr>\n",
              "      <th>2</th>\n",
              "      <td>bash</td>\n",
              "      <td>SUCCESS=false\\nDEPLOY_PATH=/apps/jboss/server/...</td>\n",
              "    </tr>\n",
              "    <tr>\n",
              "      <th>3</th>\n",
              "      <td>bash</td>\n",
              "      <td>.bashrc\\nhas_gitbranch() {\\n  if [ -e .git ]; ...</td>\n",
              "    </tr>\n",
              "    <tr>\n",
              "      <th>4</th>\n",
              "      <td>bash</td>\n",
              "      <td>foo foo      scaffold_7      1 4845 6422 4845\\...</td>\n",
              "    </tr>\n",
              "    <tr>\n",
              "      <th>...</th>\n",
              "      <td>...</td>\n",
              "      <td>...</td>\n",
              "    </tr>\n",
              "    <tr>\n",
              "      <th>44995</th>\n",
              "      <td>swift</td>\n",
              "      <td>@protocol ALAdLoadDelegate &lt;NSObject&gt;\\n-(void)...</td>\n",
              "    </tr>\n",
              "    <tr>\n",
              "      <th>44996</th>\n",
              "      <td>swift</td>\n",
              "      <td>func tableView(tableView: UITableView!, didSel...</td>\n",
              "    </tr>\n",
              "    <tr>\n",
              "      <th>44997</th>\n",
              "      <td>swift</td>\n",
              "      <td>override func touchesBegan(touches: NSSet, wi...</td>\n",
              "    </tr>\n",
              "    <tr>\n",
              "      <th>44998</th>\n",
              "      <td>swift</td>\n",
              "      <td>override func viewDidLoad()\\n{\\n    super.view...</td>\n",
              "    </tr>\n",
              "    <tr>\n",
              "      <th>44999</th>\n",
              "      <td>swift</td>\n",
              "      <td>presentTextInputControllerWithSuggestions\\nWat...</td>\n",
              "    </tr>\n",
              "  </tbody>\n",
              "</table>\n",
              "<p>45000 rows × 2 columns</p>\n",
              "</div>"
            ],
            "text/plain": [
              "      Language                                             Source\n",
              "0         bash                            foo a1 b2 b3 b4 ...\\n\\n\n",
              "1         bash  unset\\na\\nb\\nc\\nMY_VARIABLE\\nmake foo\\nexport ...\n",
              "2         bash  SUCCESS=false\\nDEPLOY_PATH=/apps/jboss/server/...\n",
              "3         bash  .bashrc\\nhas_gitbranch() {\\n  if [ -e .git ]; ...\n",
              "4         bash  foo foo      scaffold_7      1 4845 6422 4845\\...\n",
              "...        ...                                                ...\n",
              "44995    swift  @protocol ALAdLoadDelegate <NSObject>\\n-(void)...\n",
              "44996    swift  func tableView(tableView: UITableView!, didSel...\n",
              "44997    swift   override func touchesBegan(touches: NSSet, wi...\n",
              "44998    swift  override func viewDidLoad()\\n{\\n    super.view...\n",
              "44999    swift  presentTextInputControllerWithSuggestions\\nWat...\n",
              "\n",
              "[45000 rows x 2 columns]"
            ]
          },
          "metadata": {
            "tags": []
          },
          "execution_count": 6
        }
      ]
    },
    {
      "cell_type": "code",
      "metadata": {
        "colab": {
          "base_uri": "https://localhost:8080/",
          "height": 369
        },
        "id": "Z9ET1nzoJOGD",
        "outputId": "6d43e319-8865-4761-9a74-6182c7a25916"
      },
      "source": [
        "data.groupby('Language')['Source'].count().plot.bar(ylim=0,grid=False,color='#11100f')\n",
        "plt.xlabel('\\n languages')\n",
        "plt.ylabel('no of examples available')\n",
        "plt.title('Dataset')"
      ],
      "execution_count": 7,
      "outputs": [
        {
          "output_type": "execute_result",
          "data": {
            "text/plain": [
              "Text(0.5, 1.0, 'Dataset')"
            ]
          },
          "metadata": {
            "tags": []
          },
          "execution_count": 7
        },
        {
          "output_type": "display_data",
          "data": {
            "image/png": "[encoded data removed]",
            "text/plain": [
              "<Figure size 432x288 with 1 Axes>"
            ]
          },
          "metadata": {
            "tags": [],
            "needs_background": "light"
          }
        }
      ]
    },
    {
      "cell_type": "markdown",
      "metadata": {
        "id": "9yk4eUilJU-U"
      },
      "source": [
        "### PREPROCESSING OF DATASET USING REGULAR EXPRESSION AND NLTK"
      ]
    },
    {
      "cell_type": "code",
      "metadata": {
        "colab": {
          "base_uri": "https://localhost:8080/"
        },
        "id": "47FPfI-WJQZj",
        "outputId": "bff16941-0380-4063-9af7-747b0862182c"
      },
      "source": [
        "import re\n",
        "import nltk\n",
        "\n",
        "from nltk.corpus import stopwords\n",
        "from nltk.tokenize import word_tokenize\n",
        "\n",
        "nltk.download('stopwords')\n",
        "nltk.download('punkt')\n",
        "print('.....done')"
      ],
      "execution_count": 8,
      "outputs": [
        {
          "output_type": "stream",
          "text": [
            "[nltk_data] Downloading package stopwords to /root/nltk_data...\n",
            "[nltk_data]   Unzipping corpora/stopwords.zip.\n",
            "[nltk_data] Downloading package punkt to /root/nltk_data...\n",
            "[nltk_data]   Unzipping tokenizers/punkt.zip.\n",
            ".....done\n"
          ],
          "name": "stdout"
        }
      ]
    },
    {
      "cell_type": "code",
      "metadata": {
        "colab": {
          "base_uri": "https://localhost:8080/"
        },
        "id": "mz6x-fMRJUkK",
        "outputId": "0f9d3720-b009-4fd8-e60f-3e7296f40edf"
      },
      "source": [
        "stopwords_list = stopwords.words('english')\n",
        "print(len(stopwords_list))\n",
        "stopwords_list.extend(['left','right','up','down','center','centre'])\n",
        "print(len(stopwords_list))\n",
        "stopwords_list.extend(['bottom','start','end','price','location','fix','here'])\n",
        "print(len(stopwords_list))\n"
      ],
      "execution_count": 9,
      "outputs": [
        {
          "output_type": "stream",
          "text": [
            "179\n",
            "185\n",
            "192\n"
          ],
          "name": "stdout"
        }
      ]
    },
    {
      "cell_type": "code",
      "metadata": {
        "colab": {
          "base_uri": "https://localhost:8080/"
        },
        "id": "mQHBiLJQJY8T",
        "outputId": "6a781be5-709c-45b2-977d-233ceb699684"
      },
      "source": [
        "def expression1(text):\n",
        "    # remove single character\n",
        "\n",
        "    #removing url \n",
        "    text = re.sub(r\"http\\S+\", \"\", text)\n",
        "    text = re.sub(r'^https?://.*[\\r\\n]*', '', text, flags=re.MULTILINE)\n",
        "    text = re.sub(r'^http?://.*[\\r\\n]*', '', text, flags=re.MULTILINE)\n",
        "    text = re.sub(r'^www?://.*[\\r\\n]*', '', text, flags=re.MULTILINE)\n",
        "\n",
        "    text = ' '.join(['' if len(i)==1 else i for i in text.split()])\n",
        "    \n",
        "    # text = re.sub('{','',text)\n",
        "    # text = re.sub('}','',text)\n",
        "    \n",
        "    # to remove '(' , ' )' , '[' , ']' ... replaced with a space \n",
        "    # text = re.sub('\\\\(',' ',text)\n",
        "    # text = re.sub('\\\\)',' ',text)\n",
        "    # text = re.sub('\\\\[',' ',text)\n",
        "    # text = re.sub('\\\\]',' ',text)\n",
        "    # replace . with a space\n",
        "    # text = re.sub('\\\\.',' ',text)\n",
        "    \n",
        "    # remove unicode\n",
        "    \n",
        "    text = re.sub(r'(\\\\u[0-9A-Fa-f]+)',r'', text)       \n",
        "    text = re.sub(r'[^\\x00-\\x7f]',r'',text)\n",
        "    \n",
        "    # remove digits\n",
        "    text = re.sub('[0-9]',' ',text)\n",
        "    \n",
        "    #     remove + - * / < >\n",
        "    text = re.sub('\\\\+',' ',text)\n",
        "    text = re.sub('\\\\=',' ',text)\n",
        "    text = re.sub('\\\\-',' ',text)\n",
        "    text = re.sub('\\\\*',' ',text)\n",
        "    text = re.sub('\\\\/',' ',text)\n",
        "    # text = re.sub('\\\\<',' ',text)\n",
        "    # text = re.sub('\\\\>',' ',text)\n",
        "#     text = re.sub('\\\\:',' ',text)\n",
        "    \n",
        "#     text = text.replace(':',r' : ')\n",
        "    \n",
        "    \n",
        "    #     text = ' '.join(text.split())\n",
        "\n",
        "    # replace single chars again \n",
        "    text = ' '.join(['' if len(i)==1 else i for i in text.split()])\n",
        "    \n",
        "    # spacing quoted statement\n",
        "    text = re.sub('\"',' \" ',text)\n",
        "    # replace url\n",
        "\n",
        "    text = re.sub('((www\\.[^\\s]+)|(https?://[^\\s]+))',' ',text)\n",
        "        #Replaces url address with \"url\" \n",
        "    # text = re.sub('((www\\.[^\\s]+)|(https?://[^\\s]+))',' ',text)\n",
        "\t  # text = re.sub(r'#([^\\s]+)', r'\\1',text)\n",
        "\n",
        "    return text\n",
        "\n",
        "# def replaceURL(text):\n",
        "\n",
        "def clean_code(text):\n",
        "  text = expression1(text)\n",
        "  text_tokens = word_tokenize(text)\n",
        "  tokens_without_stopwords = [word for word in text_tokens if not word in stopwords_list] \n",
        "  # stopwords.words()]\n",
        "  return ' '.join(tokens_without_stopwords)\n",
        "\n",
        "print(\"TRY expresion1\")"
      ],
      "execution_count": 10,
      "outputs": [
        {
          "output_type": "stream",
          "text": [
            "TRY expresion1\n"
          ],
          "name": "stdout"
        }
      ]
    },
    {
      "cell_type": "code",
      "metadata": {
        "colab": {
          "base_uri": "https://localhost:8080/"
        },
        "id": "rJ9-qkgHJatz",
        "outputId": "c52621ad-2a74-41d7-c859-80fac156ed3b"
      },
      "source": [
        "%%time\n",
        "\n",
        "line_7210 = data.iloc[32710]['Source']\n",
        "cleaned_7210 =  clean_code(line_7210)\n",
        "\n",
        "print(line_7210 , '\\n ->',len(line_7210))\n",
        "print('-'*60,'\\n\\n')\n",
        "print(cleaned_7210,'\\n ->',len(cleaned_7210))\n"
      ],
      "execution_count": 11,
      "outputs": [
        {
          "output_type": "stream",
          "text": [
            "urllib.urlretrieve\n",
            "urllib.urlretrieve('http://google.com/abc.jpg', 'abc.jpg')\n",
            "\n",
            "abc.jpg\n",
            "httplib.HTTPMessage\n",
            " \n",
            " -> 107\n",
            "------------------------------------------------------------ \n",
            "\n",
            "\n",
            "urllib.urlretrieve urllib.urlretrieve ( ' 'abc.jpg ' ) abc.jpg \n",
            " -> 62\n",
            "CPU times: user 10.9 ms, sys: 2.35 ms, total: 13.2 ms\n",
            "Wall time: 20.1 ms\n"
          ],
          "name": "stdout"
        }
      ]
    },
    {
      "cell_type": "code",
      "metadata": {
        "colab": {
          "base_uri": "https://localhost:8080/"
        },
        "id": "NUoPWmwvJgUO",
        "outputId": "7f8f8577-4617-430b-91df-412b9a60c72d"
      },
      "source": [
        "%%time\n",
        "\n",
        "dataset_refined = data.copy()\n",
        "print('->created a copy')\n",
        "dataset_refined['Source'] =  dataset_refined['Source'].astype(str)\n",
        "print('\\n->as string')\n",
        "dataset_refined['Source'] =  dataset_refined['Source'].apply(clean_code)\n",
        "print('\\n->cleaned code with expression1')\n",
        "dataset_refined.to_csv('dataset/cleaned_data_3_v2.csv',index=None)\n",
        "print('\\n->saved cleaned csv , columns : ',dataset_refined.columns)\n",
        "\n",
        "print('done')"
      ],
      "execution_count": 12,
      "outputs": [
        {
          "output_type": "stream",
          "text": [
            "->created a copy\n",
            "\n",
            "->as string\n",
            "\n",
            "->cleaned code with expression1\n",
            "\n",
            "->saved cleaned csv , columns :  Index(['Language', 'Source'], dtype='object')\n",
            "done\n",
            "CPU times: user 36.7 s, sys: 56.4 ms, total: 36.8 s\n",
            "Wall time: 36.8 s\n"
          ],
          "name": "stdout"
        }
      ]
    },
    {
      "cell_type": "code",
      "metadata": {
        "colab": {
          "base_uri": "https://localhost:8080/",
          "height": 419
        },
        "id": "7-U8cU6WJl-T",
        "outputId": "8fed23e0-d83c-4042-f684-28d2d00e7038"
      },
      "source": [
        "df = pd.read_csv('/content/dataset/cleaned_data_3_v2.csv')\n",
        "df"
      ],
      "execution_count": 13,
      "outputs": [
        {
          "output_type": "execute_result",
          "data": {
            "text/html": [
              "<div>\n",
              "<style scoped>\n",
              "    .dataframe tbody tr th:only-of-type {\n",
              "        vertical-align: middle;\n",
              "    }\n",
              "\n",
              "    .dataframe tbody tr th {\n",
              "        vertical-align: top;\n",
              "    }\n",
              "\n",
              "    .dataframe thead th {\n",
              "        text-align: right;\n",
              "    }\n",
              "</style>\n",
              "<table border=\"1\" class=\"dataframe\">\n",
              "  <thead>\n",
              "    <tr style=\"text-align: right;\">\n",
              "      <th></th>\n",
              "      <th>Language</th>\n",
              "      <th>Source</th>\n",
              "    </tr>\n",
              "  </thead>\n",
              "  <tbody>\n",
              "    <tr>\n",
              "      <th>0</th>\n",
              "      <td>bash</td>\n",
              "      <td>foo ...</td>\n",
              "    </tr>\n",
              "    <tr>\n",
              "      <th>1</th>\n",
              "      <td>bash</td>\n",
              "      <td>unset MY_VARIABLE make foo export MY_VARIABLE ...</td>\n",
              "    </tr>\n",
              "    <tr>\n",
              "      <th>2</th>\n",
              "      <td>bash</td>\n",
              "      <td>SUCCESS false DEPLOY_PATH apps jboss server de...</td>\n",
              "    </tr>\n",
              "    <tr>\n",
              "      <th>3</th>\n",
              "      <td>bash</td>\n",
              "      <td>.bashrc has_gitbranch ( ) .git ] ; GIT_BRANCH ...</td>\n",
              "    </tr>\n",
              "    <tr>\n",
              "      <th>4</th>\n",
              "      <td>bash</td>\n",
              "      <td>foo foo scaffold_ bar bar scaffold_ awk ' { ( ...</td>\n",
              "    </tr>\n",
              "    <tr>\n",
              "      <th>...</th>\n",
              "      <td>...</td>\n",
              "      <td>...</td>\n",
              "    </tr>\n",
              "    <tr>\n",
              "      <th>44995</th>\n",
              "      <td>swift</td>\n",
              "      <td>@ protocol ALAdLoadDelegate &lt; NSObject &gt; ( voi...</td>\n",
              "    </tr>\n",
              "    <tr>\n",
              "      <th>44996</th>\n",
              "      <td>swift</td>\n",
              "      <td>func tableView ( tableView : UITableView ! , d...</td>\n",
              "    </tr>\n",
              "    <tr>\n",
              "      <th>44997</th>\n",
              "      <td>swift</td>\n",
              "      <td>override func touchesBegan ( touches : NSSet ,...</td>\n",
              "    </tr>\n",
              "    <tr>\n",
              "      <th>44998</th>\n",
              "      <td>swift</td>\n",
              "      <td>override func viewDidLoad ( ) super.viewDidLoa...</td>\n",
              "    </tr>\n",
              "    <tr>\n",
              "      <th>44999</th>\n",
              "      <td>swift</td>\n",
              "      <td>presentTextInputControllerWithSuggestions Watc...</td>\n",
              "    </tr>\n",
              "  </tbody>\n",
              "</table>\n",
              "<p>45000 rows × 2 columns</p>\n",
              "</div>"
            ],
            "text/plain": [
              "      Language                                             Source\n",
              "0         bash                                            foo ...\n",
              "1         bash  unset MY_VARIABLE make foo export MY_VARIABLE ...\n",
              "2         bash  SUCCESS false DEPLOY_PATH apps jboss server de...\n",
              "3         bash  .bashrc has_gitbranch ( ) .git ] ; GIT_BRANCH ...\n",
              "4         bash  foo foo scaffold_ bar bar scaffold_ awk ' { ( ...\n",
              "...        ...                                                ...\n",
              "44995    swift  @ protocol ALAdLoadDelegate < NSObject > ( voi...\n",
              "44996    swift  func tableView ( tableView : UITableView ! , d...\n",
              "44997    swift  override func touchesBegan ( touches : NSSet ,...\n",
              "44998    swift  override func viewDidLoad ( ) super.viewDidLoa...\n",
              "44999    swift  presentTextInputControllerWithSuggestions Watc...\n",
              "\n",
              "[45000 rows x 2 columns]"
            ]
          },
          "metadata": {
            "tags": []
          },
          "execution_count": 13
        }
      ]
    },
    {
      "cell_type": "code",
      "metadata": {
        "colab": {
          "base_uri": "https://localhost:8080/"
        },
        "id": "Gxx9_IbPJr1F",
        "outputId": "1fb3f4f7-70a9-4bc7-f8f3-a904a54ff802"
      },
      "source": [
        "%%time\n",
        "\n",
        "df[\"lang_id\"] = df['Language'].factorize()[0]\n",
        "print('>>> lang id created')\n",
        "lang_id_df = df[['Language', 'lang_id']].drop_duplicates().sort_values('lang_id')\n",
        "print('>>> added to dataframe')\n",
        "lang_to_id = dict(lang_id_df.values)\n",
        "id_to_lang = dict(lang_id_df[['lang_id', 'Language']].values)\n",
        "print('>>> now columns : ',df.columns)"
      ],
      "execution_count": 14,
      "outputs": [
        {
          "output_type": "stream",
          "text": [
            ">>> lang id created\n",
            ">>> added to dataframe\n",
            ">>> now columns :  Index(['Language', 'Source', 'lang_id'], dtype='object')\n",
            "CPU times: user 12.5 ms, sys: 992 µs, total: 13.5 ms\n",
            "Wall time: 17.7 ms\n"
          ],
          "name": "stdout"
        }
      ]
    },
    {
      "cell_type": "code",
      "metadata": {
        "colab": {
          "base_uri": "https://localhost:8080/",
          "height": 419
        },
        "id": "JctzsXHfJ3k4",
        "outputId": "9acaa0c4-33dc-459c-a69d-26be24e0c9e2"
      },
      "source": [
        "df"
      ],
      "execution_count": 15,
      "outputs": [
        {
          "output_type": "execute_result",
          "data": {
            "text/html": [
              "<div>\n",
              "<style scoped>\n",
              "    .dataframe tbody tr th:only-of-type {\n",
              "        vertical-align: middle;\n",
              "    }\n",
              "\n",
              "    .dataframe tbody tr th {\n",
              "        vertical-align: top;\n",
              "    }\n",
              "\n",
              "    .dataframe thead th {\n",
              "        text-align: right;\n",
              "    }\n",
              "</style>\n",
              "<table border=\"1\" class=\"dataframe\">\n",
              "  <thead>\n",
              "    <tr style=\"text-align: right;\">\n",
              "      <th></th>\n",
              "      <th>Language</th>\n",
              "      <th>Source</th>\n",
              "      <th>lang_id</th>\n",
              "    </tr>\n",
              "  </thead>\n",
              "  <tbody>\n",
              "    <tr>\n",
              "      <th>0</th>\n",
              "      <td>bash</td>\n",
              "      <td>foo ...</td>\n",
              "      <td>0</td>\n",
              "    </tr>\n",
              "    <tr>\n",
              "      <th>1</th>\n",
              "      <td>bash</td>\n",
              "      <td>unset MY_VARIABLE make foo export MY_VARIABLE ...</td>\n",
              "      <td>0</td>\n",
              "    </tr>\n",
              "    <tr>\n",
              "      <th>2</th>\n",
              "      <td>bash</td>\n",
              "      <td>SUCCESS false DEPLOY_PATH apps jboss server de...</td>\n",
              "      <td>0</td>\n",
              "    </tr>\n",
              "    <tr>\n",
              "      <th>3</th>\n",
              "      <td>bash</td>\n",
              "      <td>.bashrc has_gitbranch ( ) .git ] ; GIT_BRANCH ...</td>\n",
              "      <td>0</td>\n",
              "    </tr>\n",
              "    <tr>\n",
              "      <th>4</th>\n",
              "      <td>bash</td>\n",
              "      <td>foo foo scaffold_ bar bar scaffold_ awk ' { ( ...</td>\n",
              "      <td>0</td>\n",
              "    </tr>\n",
              "    <tr>\n",
              "      <th>...</th>\n",
              "      <td>...</td>\n",
              "      <td>...</td>\n",
              "      <td>...</td>\n",
              "    </tr>\n",
              "    <tr>\n",
              "      <th>44995</th>\n",
              "      <td>swift</td>\n",
              "      <td>@ protocol ALAdLoadDelegate &lt; NSObject &gt; ( voi...</td>\n",
              "      <td>14</td>\n",
              "    </tr>\n",
              "    <tr>\n",
              "      <th>44996</th>\n",
              "      <td>swift</td>\n",
              "      <td>func tableView ( tableView : UITableView ! , d...</td>\n",
              "      <td>14</td>\n",
              "    </tr>\n",
              "    <tr>\n",
              "      <th>44997</th>\n",
              "      <td>swift</td>\n",
              "      <td>override func touchesBegan ( touches : NSSet ,...</td>\n",
              "      <td>14</td>\n",
              "    </tr>\n",
              "    <tr>\n",
              "      <th>44998</th>\n",
              "      <td>swift</td>\n",
              "      <td>override func viewDidLoad ( ) super.viewDidLoa...</td>\n",
              "      <td>14</td>\n",
              "    </tr>\n",
              "    <tr>\n",
              "      <th>44999</th>\n",
              "      <td>swift</td>\n",
              "      <td>presentTextInputControllerWithSuggestions Watc...</td>\n",
              "      <td>14</td>\n",
              "    </tr>\n",
              "  </tbody>\n",
              "</table>\n",
              "<p>45000 rows × 3 columns</p>\n",
              "</div>"
            ],
            "text/plain": [
              "      Language                                             Source  lang_id\n",
              "0         bash                                            foo ...        0\n",
              "1         bash  unset MY_VARIABLE make foo export MY_VARIABLE ...        0\n",
              "2         bash  SUCCESS false DEPLOY_PATH apps jboss server de...        0\n",
              "3         bash  .bashrc has_gitbranch ( ) .git ] ; GIT_BRANCH ...        0\n",
              "4         bash  foo foo scaffold_ bar bar scaffold_ awk ' { ( ...        0\n",
              "...        ...                                                ...      ...\n",
              "44995    swift  @ protocol ALAdLoadDelegate < NSObject > ( voi...       14\n",
              "44996    swift  func tableView ( tableView : UITableView ! , d...       14\n",
              "44997    swift  override func touchesBegan ( touches : NSSet ,...       14\n",
              "44998    swift  override func viewDidLoad ( ) super.viewDidLoa...       14\n",
              "44999    swift  presentTextInputControllerWithSuggestions Watc...       14\n",
              "\n",
              "[45000 rows x 3 columns]"
            ]
          },
          "metadata": {
            "tags": []
          },
          "execution_count": 15
        }
      ]
    },
    {
      "cell_type": "markdown",
      "metadata": {
        "id": "OhoNcQriJwle"
      },
      "source": [
        "#### Copy and load tokenizer"
      ]
    },
    {
      "cell_type": "code",
      "metadata": {
        "colab": {
          "base_uri": "https://localhost:8080/"
        },
        "id": "1kpPvtHGJtpf",
        "outputId": "8925f315-8721-4508-e99e-b8b7a4613c05"
      },
      "source": [
        "!cp '/content/drive/My Drive/datasets/LanguageDataset/final_changes/DL_models/tokenizer_model1_run2.pickle' '/content/dataset'\n",
        "!echo done"
      ],
      "execution_count": 16,
      "outputs": [
        {
          "output_type": "stream",
          "text": [
            "done\n"
          ],
          "name": "stdout"
        }
      ]
    },
    {
      "cell_type": "code",
      "metadata": {
        "colab": {
          "base_uri": "https://localhost:8080/"
        },
        "id": "_vNenYKQJwRX",
        "outputId": "d4de3549-2d71-46a0-ecb2-653e1f510dae"
      },
      "source": [
        "%%time\n",
        "\n",
        "from tensorflow.keras.preprocessing.text import Tokenizer\n",
        "from tensorflow.keras.preprocessing.sequence import pad_sequences\n",
        "import pickle\n",
        "\n",
        "vocab_size = 10000\n",
        "trunc_type='post'\n",
        "oov_tok = \"<OOV>\"\n",
        "\n",
        "print('loading pickle')\n",
        "# loading\n",
        "with open('/content/dataset/tokenizer_model1_run2.pickle', 'rb') as handle:\n",
        "    tokenizer = pickle.load(handle)\n",
        "\n",
        "print('loaded',type(tokenizer))"
      ],
      "execution_count": 17,
      "outputs": [
        {
          "output_type": "stream",
          "text": [
            "loading pickle\n",
            "loaded <class 'keras_preprocessing.text.Tokenizer'>\n",
            "CPU times: user 1.39 s, sys: 158 ms, total: 1.55 s\n",
            "Wall time: 1.56 s\n"
          ],
          "name": "stdout"
        }
      ]
    },
    {
      "cell_type": "code",
      "metadata": {
        "colab": {
          "base_uri": "https://localhost:8080/"
        },
        "id": "3USQuWwvJ6kz",
        "outputId": "89f716e2-47ae-4d66-8442-4e481616005a"
      },
      "source": [
        "tokenizer"
      ],
      "execution_count": 18,
      "outputs": [
        {
          "output_type": "execute_result",
          "data": {
            "text/plain": [
              "<keras_preprocessing.text.Tokenizer at 0x7f56a9b3a128>"
            ]
          },
          "metadata": {
            "tags": []
          },
          "execution_count": 18
        }
      ]
    },
    {
      "cell_type": "code",
      "metadata": {
        "colab": {
          "base_uri": "https://localhost:8080/"
        },
        "id": "JLINURYFJ9sB",
        "outputId": "edd19d52-ac5e-4e53-cf99-3348f3057d51"
      },
      "source": [
        "word_index = tokenizer.word_index\n",
        "print('len of word index',len(word_index)) # should be 80436"
      ],
      "execution_count": 19,
      "outputs": [
        {
          "output_type": "stream",
          "text": [
            "len of word index 80436\n"
          ],
          "name": "stdout"
        }
      ]
    },
    {
      "cell_type": "code",
      "metadata": {
        "id": "yEWMqIeDJ-SB"
      },
      "source": [
        "max_length = 1000\n",
        "trunc_type='post'"
      ],
      "execution_count": 20,
      "outputs": []
    },
    {
      "cell_type": "markdown",
      "metadata": {
        "id": "u2yOXQwkKBRn"
      },
      "source": [
        "### transform sentences using tokenizer"
      ]
    },
    {
      "cell_type": "code",
      "metadata": {
        "colab": {
          "base_uri": "https://localhost:8080/"
        },
        "id": "xUwxHUuBKAti",
        "outputId": "1a20bfec-efc1-4e20-dbb0-de9d7f404d98"
      },
      "source": [
        "%%time\n",
        "print('converting whole data')\n",
        "X = tokenizer.texts_to_sequences(df['Source'].values.astype('U'))\n",
        "print(' .... converted text to sequences' , type(X),'\\n ')\n",
        "print('-'*70)"
      ],
      "execution_count": 21,
      "outputs": [
        {
          "output_type": "stream",
          "text": [
            "converting whole data\n",
            " .... converted text to sequences <class 'list'> \n",
            " \n",
            "----------------------------------------------------------------------\n",
            "CPU times: user 5.69 s, sys: 1.74 s, total: 7.43 s\n",
            "Wall time: 7.43 s\n"
          ],
          "name": "stdout"
        }
      ]
    },
    {
      "cell_type": "code",
      "metadata": {
        "colab": {
          "base_uri": "https://localhost:8080/"
        },
        "id": "FcYy7NVUKFye",
        "outputId": "4fab371a-7a98-4365-e3b0-464d3f82af96"
      },
      "source": [
        "%%time\n",
        "X_padded = pad_sequences(X,maxlen=max_length, truncating=trunc_type)\n",
        "print('sequence padded')\n",
        "print(type(X_padded),'\\n padded to ',X_padded.shape)"
      ],
      "execution_count": 22,
      "outputs": [
        {
          "output_type": "stream",
          "text": [
            "sequence padded\n",
            "<class 'numpy.ndarray'> \n",
            " padded to  (45000, 1000)\n",
            "CPU times: user 406 ms, sys: 2.79 ms, total: 409 ms\n",
            "Wall time: 411 ms\n"
          ],
          "name": "stdout"
        }
      ]
    },
    {
      "cell_type": "markdown",
      "metadata": {
        "id": "4rDZPmaAKOcD"
      },
      "source": [
        "### Preparing labels"
      ]
    },
    {
      "cell_type": "code",
      "metadata": {
        "colab": {
          "base_uri": "https://localhost:8080/"
        },
        "id": "e0XfW-J7KKfL",
        "outputId": "7e4fccda-e656-4c7f-8aac-967aca3b5ba1"
      },
      "source": [
        "Y = pd.get_dummies(df['Language'].values.astype('U'))\n",
        "print('and Y : ',type(Y))\n",
        "y = np.asarray(Y)\n",
        "print(X_padded.shape , y.shape)"
      ],
      "execution_count": 23,
      "outputs": [
        {
          "output_type": "stream",
          "text": [
            "and Y :  <class 'pandas.core.frame.DataFrame'>\n",
            "(45000, 1000) (45000, 15)\n"
          ],
          "name": "stdout"
        }
      ]
    },
    {
      "cell_type": "markdown",
      "metadata": {
        "id": "JYTmYortKSwQ"
      },
      "source": [
        "### Train Test Split"
      ]
    },
    {
      "cell_type": "code",
      "metadata": {
        "id": "lhzdZFb_KQW6"
      },
      "source": [
        "from sklearn.model_selection import train_test_split\n"
      ],
      "execution_count": 24,
      "outputs": []
    },
    {
      "cell_type": "code",
      "metadata": {
        "colab": {
          "base_uri": "https://localhost:8080/"
        },
        "id": "Qhmke6rIKUxp",
        "outputId": "2403649a-4f7e-4403-8dd2-f4b6ae58eea5"
      },
      "source": [
        "%%time\n",
        "X_train, X_test, y_train, y_test = train_test_split( X_padded, y, test_size=0.33, random_state=42)\n",
        "\n",
        "print('training data : ',X_train.shape , ' ... ', y_train.shape)\n",
        "print('testing data : ',X_test.shape , ' ... ', y_test.shape)"
      ],
      "execution_count": 25,
      "outputs": [
        {
          "output_type": "stream",
          "text": [
            "training data :  (30150, 1000)  ...  (30150, 15)\n",
            "testing data :  (14850, 1000)  ...  (14850, 15)\n",
            "CPU times: user 62.4 ms, sys: 68 µs, total: 62.5 ms\n",
            "Wall time: 64.4 ms\n"
          ],
          "name": "stdout"
        }
      ]
    },
    {
      "cell_type": "markdown",
      "metadata": {
        "id": "6BAPD1lnKulm"
      },
      "source": [
        "### Copying and loading model"
      ]
    },
    {
      "cell_type": "code",
      "metadata": {
        "colab": {
          "base_uri": "https://localhost:8080/"
        },
        "id": "sHqeOyXIKW71",
        "outputId": "8b13dac2-a1b1-4762-cb00-31b39912a5f5"
      },
      "source": [
        "!cp '/content/drive/My Drive/datasets/LanguageDataset/final_changes/DL_models/final_DLModel1_run2_training2.zip' '/content/dataset'\n",
        "!echo copied"
      ],
      "execution_count": 27,
      "outputs": [
        {
          "output_type": "stream",
          "text": [
            "copied\n"
          ],
          "name": "stdout"
        }
      ]
    },
    {
      "cell_type": "markdown",
      "metadata": {
        "id": "pZf_NKWwLHee"
      },
      "source": [
        "#### unzip"
      ]
    },
    {
      "cell_type": "code",
      "metadata": {
        "colab": {
          "base_uri": "https://localhost:8080/"
        },
        "id": "SonNXfuhK9QR",
        "outputId": "f2133092-cc79-44e8-c04d-ba90151e2cca"
      },
      "source": [
        "!unzip '/content/dataset/final_DLModel1_run2_training2.zip'\n"
      ],
      "execution_count": 28,
      "outputs": [
        {
          "output_type": "stream",
          "text": [
            "Archive:  /content/dataset/final_DLModel1_run2_training2.zip\n",
            "   creating: content/content/final_DLModel1_run2_training2/\n",
            "  inflating: content/content/final_DLModel1_run2_training2/saved_model.pb  \n",
            "   creating: content/content/final_DLModel1_run2_training2/assets/\n",
            "   creating: content/content/final_DLModel1_run2_training2/variables/\n",
            "  inflating: content/content/final_DLModel1_run2_training2/variables/variables.index  \n",
            "  inflating: content/content/final_DLModel1_run2_training2/variables/variables.data-00000-of-00001  \n"
          ],
          "name": "stdout"
        }
      ]
    },
    {
      "cell_type": "code",
      "metadata": {
        "id": "XY8fzGU0LKhT"
      },
      "source": [
        "model_path = '/content/content/content/final_DLModel1_run2_training2'\n"
      ],
      "execution_count": 29,
      "outputs": []
    },
    {
      "cell_type": "markdown",
      "metadata": {
        "id": "Ib-l4hUjLSoE"
      },
      "source": [
        "### loading the model"
      ]
    },
    {
      "cell_type": "code",
      "metadata": {
        "colab": {
          "base_uri": "https://localhost:8080/"
        },
        "id": "z3yh0EzNLQg7",
        "outputId": "2c9544a8-b3d6-4211-bda0-96ce972bb624"
      },
      "source": [
        "%%time\n",
        "\n",
        "from keras.models import load_model\n",
        "\n",
        "model = load_model(model_path)\n",
        "print('loaded')"
      ],
      "execution_count": 30,
      "outputs": [
        {
          "output_type": "stream",
          "text": [
            "loaded\n",
            "CPU times: user 1.58 s, sys: 479 ms, total: 2.06 s\n",
            "Wall time: 6.66 s\n"
          ],
          "name": "stdout"
        }
      ]
    },
    {
      "cell_type": "code",
      "metadata": {
        "colab": {
          "base_uri": "https://localhost:8080/"
        },
        "id": "6UQKdhSwLSJT",
        "outputId": "6e50f95e-793e-4b14-c4d0-81668586525e"
      },
      "source": [
        "model.summary()"
      ],
      "execution_count": 31,
      "outputs": [
        {
          "output_type": "stream",
          "text": [
            "Model: \"sequential\"\n",
            "_________________________________________________________________\n",
            "Layer (type)                 Output Shape              Param #   \n",
            "=================================================================\n",
            "embedding (Embedding)        (None, 1000, 32)          320000    \n",
            "_________________________________________________________________\n",
            "conv1d (Conv1D)              (None, 996, 128)          20608     \n",
            "_________________________________________________________________\n",
            "max_pooling1d (MaxPooling1D) (None, 199, 128)          0         \n",
            "_________________________________________________________________\n",
            "batch_normalization (BatchNo (None, 199, 128)          512       \n",
            "_________________________________________________________________\n",
            "activation (Activation)      (None, 199, 128)          0         \n",
            "_________________________________________________________________\n",
            "global_average_pooling1d (Gl (None, 128)               0         \n",
            "_________________________________________________________________\n",
            "dropout (Dropout)            (None, 128)               0         \n",
            "_________________________________________________________________\n",
            "dense (Dense)                (None, 64)                8256      \n",
            "_________________________________________________________________\n",
            "batch_normalization_1 (Batch (None, 64)                256       \n",
            "_________________________________________________________________\n",
            "activation_1 (Activation)    (None, 64)                0         \n",
            "_________________________________________________________________\n",
            "flatten (Flatten)            (None, 64)                0         \n",
            "_________________________________________________________________\n",
            "dense_1 (Dense)              (None, 15)                975       \n",
            "_________________________________________________________________\n",
            "batch_normalization_2 (Batch (None, 15)                60        \n",
            "_________________________________________________________________\n",
            "activation_2 (Activation)    (None, 15)                0         \n",
            "_________________________________________________________________\n",
            "flatten_1 (Flatten)          (None, 15)                0         \n",
            "_________________________________________________________________\n",
            "activation_3 (Activation)    (None, 15)                0         \n",
            "=================================================================\n",
            "Total params: 350,667\n",
            "Trainable params: 350,253\n",
            "Non-trainable params: 414\n",
            "_________________________________________________________________\n"
          ],
          "name": "stdout"
        }
      ]
    },
    {
      "cell_type": "code",
      "metadata": {
        "id": "gkPthxYuLV6a"
      },
      "source": [
        "from sklearn.model_selection import KFold\n",
        "\n",
        "# n_fold = 2\n",
        "# n_fold = 3 \n",
        "# n_fold = 5\n",
        "n_fold = 10\n",
        "\n",
        "k_fold = KFold(n_fold,shuffle=True,random_state=42)"
      ],
      "execution_count": 33,
      "outputs": []
    },
    {
      "cell_type": "code",
      "metadata": {
        "colab": {
          "base_uri": "https://localhost:8080/"
        },
        "id": "N94k4LTfLaOb",
        "outputId": "cc1f534a-50ce-4490-e6cf-3172105c4fba"
      },
      "source": [
        "k_fold\n"
      ],
      "execution_count": 34,
      "outputs": [
        {
          "output_type": "execute_result",
          "data": {
            "text/plain": [
              "KFold(n_splits=10, random_state=42, shuffle=True)"
            ]
          },
          "metadata": {
            "tags": []
          },
          "execution_count": 34
        }
      ]
    },
    {
      "cell_type": "code",
      "metadata": {
        "colab": {
          "base_uri": "https://localhost:8080/"
        },
        "id": "_Y6AVQW3Lchj",
        "outputId": "641ed6fb-f03f-45f7-c212-cdcaeb6f3bbe"
      },
      "source": [
        "%%time\n",
        "\n",
        "scores = []\n",
        "histories = []\n",
        "print('......... fitting the model\\n')\n",
        "\n",
        "for train_iX,test_iX in k_fold.split(X_train):\n",
        "  # selecting rows for trainX and trainY first train data and then cross validation data\n",
        "  x_itrain,y_itrain,x_cv,y_cv = X_train[train_iX] , y_train[train_iX] , X_train[test_iX], y_train[test_iX]\n",
        "    # fit into model with batch sizes of 32 and epochs 10\n",
        "    # # history = my_model.fit(x_train,y_train,batch_size=32,epochs=10,verbose=1,validation_data=(x_cv,y_cv))\n",
        "  history = model.fit(x_itrain,y_itrain,batch_size=64,epochs=10,verbose=1,validation_data=(x_cv,y_cv))\n",
        "  # evaluate model\n",
        "  loss,acc = model.evaluate(X_test , y_test,verbose=2)\n",
        "  print('-'*80)\n",
        "  print('\\n\\t --> accuracy on test data : {:.6f}% and loss : {:.7f} <--\\n'.format(acc * 100.0,loss))\n",
        "  print('-'*80)\n",
        "    # # stores scores  \n",
        "  scores.append(acc)\n",
        "  histories.append(history)\n",
        "\n",
        "print('done')"
      ],
      "execution_count": 35,
      "outputs": [
        {
          "output_type": "stream",
          "text": [
            "......... fitting the model\n",
            "\n",
            "Epoch 1/10\n",
            "424/424 [==============================] - 22s 33ms/step - loss: 2.3022 - accuracy: 0.6615 - val_loss: 2.2667 - val_accuracy: 0.7363\n",
            "Epoch 2/10\n",
            "424/424 [==============================] - 13s 32ms/step - loss: 2.2995 - accuracy: 0.6666 - val_loss: 2.2660 - val_accuracy: 0.7207\n",
            "Epoch 3/10\n",
            "424/424 [==============================] - 10s 24ms/step - loss: 2.2977 - accuracy: 0.6688 - val_loss: 2.2673 - val_accuracy: 0.7347\n",
            "Epoch 4/10\n",
            "424/424 [==============================] - 12s 27ms/step - loss: 2.2966 - accuracy: 0.6673 - val_loss: 2.2628 - val_accuracy: 0.7277\n",
            "Epoch 5/10\n",
            "424/424 [==============================] - 12s 29ms/step - loss: 2.2942 - accuracy: 0.6719 - val_loss: 2.2607 - val_accuracy: 0.7343\n",
            "Epoch 6/10\n",
            "424/424 [==============================] - 14s 33ms/step - loss: 2.2922 - accuracy: 0.6701 - val_loss: 2.2620 - val_accuracy: 0.7347\n",
            "Epoch 7/10\n",
            "424/424 [==============================] - 13s 31ms/step - loss: 2.2911 - accuracy: 0.6750 - val_loss: 2.2573 - val_accuracy: 0.7091\n",
            "Epoch 8/10\n",
            "424/424 [==============================] - 13s 31ms/step - loss: 2.2892 - accuracy: 0.6745 - val_loss: 2.2567 - val_accuracy: 0.7287\n",
            "Epoch 9/10\n",
            "424/424 [==============================] - 13s 31ms/step - loss: 2.2880 - accuracy: 0.6783 - val_loss: 2.2595 - val_accuracy: 0.7307\n",
            "Epoch 10/10\n",
            "424/424 [==============================] - 13s 30ms/step - loss: 2.2865 - accuracy: 0.6796 - val_loss: 2.2552 - val_accuracy: 0.7343\n",
            "465/465 - 2s - loss: 2.2608 - accuracy: 0.7297\n",
            "--------------------------------------------------------------------------------\n",
            "\n",
            "\t --> accuracy on test data : 72.969699% and loss : 2.2607529 <--\n",
            "\n",
            "--------------------------------------------------------------------------------\n",
            "Epoch 1/10\n",
            "424/424 [==============================] - 12s 28ms/step - loss: 2.2864 - accuracy: 0.6759 - val_loss: 2.2508 - val_accuracy: 0.7556\n",
            "Epoch 2/10\n",
            "424/424 [==============================] - 12s 29ms/step - loss: 2.2846 - accuracy: 0.6801 - val_loss: 2.2511 - val_accuracy: 0.7512\n",
            "Epoch 3/10\n",
            "424/424 [==============================] - 11s 27ms/step - loss: 2.2831 - accuracy: 0.6795 - val_loss: 2.2499 - val_accuracy: 0.7539\n",
            "Epoch 4/10\n",
            "424/424 [==============================] - 13s 30ms/step - loss: 2.2819 - accuracy: 0.6812 - val_loss: 2.2505 - val_accuracy: 0.7499\n",
            "Epoch 5/10\n",
            "424/424 [==============================] - 13s 30ms/step - loss: 2.2802 - accuracy: 0.6856 - val_loss: 2.2463 - val_accuracy: 0.7519\n",
            "Epoch 6/10\n",
            "424/424 [==============================] - 13s 30ms/step - loss: 2.2788 - accuracy: 0.6846 - val_loss: 2.2475 - val_accuracy: 0.7552\n",
            "Epoch 7/10\n",
            "424/424 [==============================] - 9s 21ms/step - loss: 2.2781 - accuracy: 0.6845 - val_loss: 2.2428 - val_accuracy: 0.7539\n",
            "Epoch 8/10\n",
            "424/424 [==============================] - 10s 22ms/step - loss: 2.2767 - accuracy: 0.6901 - val_loss: 2.2417 - val_accuracy: 0.7526\n",
            "Epoch 9/10\n",
            "424/424 [==============================] - 9s 21ms/step - loss: 2.2742 - accuracy: 0.6897 - val_loss: 2.2415 - val_accuracy: 0.7347\n",
            "Epoch 10/10\n",
            "424/424 [==============================] - 12s 28ms/step - loss: 2.2735 - accuracy: 0.6892 - val_loss: 2.2424 - val_accuracy: 0.7582\n",
            "465/465 - 2s - loss: 2.2546 - accuracy: 0.7345\n",
            "--------------------------------------------------------------------------------\n",
            "\n",
            "\t --> accuracy on test data : 73.447812% and loss : 2.2545841 <--\n",
            "\n",
            "--------------------------------------------------------------------------------\n",
            "Epoch 1/10\n",
            "424/424 [==============================] - 12s 29ms/step - loss: 2.2738 - accuracy: 0.6853 - val_loss: 2.2350 - val_accuracy: 0.7658\n",
            "Epoch 2/10\n",
            "424/424 [==============================] - 8s 19ms/step - loss: 2.2714 - accuracy: 0.6885 - val_loss: 2.2278 - val_accuracy: 0.7622\n",
            "Epoch 3/10\n",
            "424/424 [==============================] - 10s 24ms/step - loss: 2.2697 - accuracy: 0.6903 - val_loss: 2.2304 - val_accuracy: 0.7652\n",
            "Epoch 4/10\n",
            "424/424 [==============================] - 12s 29ms/step - loss: 2.2688 - accuracy: 0.6932 - val_loss: 2.2261 - val_accuracy: 0.7675\n",
            "Epoch 5/10\n",
            "424/424 [==============================] - 12s 28ms/step - loss: 2.2676 - accuracy: 0.6949 - val_loss: 2.2260 - val_accuracy: 0.7622\n",
            "Epoch 6/10\n",
            "424/424 [==============================] - 12s 29ms/step - loss: 2.2665 - accuracy: 0.6937 - val_loss: 2.2262 - val_accuracy: 0.7642\n",
            "Epoch 7/10\n",
            "424/424 [==============================] - 12s 29ms/step - loss: 2.2646 - accuracy: 0.6959 - val_loss: 2.2283 - val_accuracy: 0.7592\n",
            "Epoch 8/10\n",
            "424/424 [==============================] - 12s 29ms/step - loss: 2.2636 - accuracy: 0.6966 - val_loss: 2.2286 - val_accuracy: 0.7665\n",
            "Epoch 9/10\n",
            "424/424 [==============================] - 12s 28ms/step - loss: 2.2620 - accuracy: 0.6977 - val_loss: 2.2244 - val_accuracy: 0.7459\n",
            "Epoch 10/10\n",
            "424/424 [==============================] - 12s 29ms/step - loss: 2.2611 - accuracy: 0.7000 - val_loss: 2.2261 - val_accuracy: 0.7655\n",
            "465/465 - 2s - loss: 2.2465 - accuracy: 0.7391\n",
            "--------------------------------------------------------------------------------\n",
            "\n",
            "\t --> accuracy on test data : 73.912460% and loss : 2.2465258 <--\n",
            "\n",
            "--------------------------------------------------------------------------------\n",
            "Epoch 1/10\n",
            "424/424 [==============================] - 9s 22ms/step - loss: 2.2594 - accuracy: 0.7032 - val_loss: 2.2346 - val_accuracy: 0.7539\n",
            "Epoch 2/10\n",
            "424/424 [==============================] - 7s 16ms/step - loss: 2.2586 - accuracy: 0.7032 - val_loss: 2.2343 - val_accuracy: 0.7615\n",
            "Epoch 3/10\n",
            "424/424 [==============================] - 7s 16ms/step - loss: 2.2569 - accuracy: 0.7033 - val_loss: 2.2355 - val_accuracy: 0.7562\n",
            "Epoch 4/10\n",
            "424/424 [==============================] - 7s 16ms/step - loss: 2.2564 - accuracy: 0.7019 - val_loss: 2.2301 - val_accuracy: 0.7509\n",
            "Epoch 5/10\n",
            "424/424 [==============================] - 7s 16ms/step - loss: 2.2557 - accuracy: 0.7026 - val_loss: 2.2319 - val_accuracy: 0.7622\n",
            "Epoch 6/10\n",
            "424/424 [==============================] - 7s 17ms/step - loss: 2.2539 - accuracy: 0.7081 - val_loss: 2.2306 - val_accuracy: 0.7595\n",
            "Epoch 7/10\n",
            "424/424 [==============================] - 7s 17ms/step - loss: 2.2518 - accuracy: 0.7089 - val_loss: 2.2322 - val_accuracy: 0.7629\n",
            "Epoch 8/10\n",
            "424/424 [==============================] - 7s 17ms/step - loss: 2.2520 - accuracy: 0.7065 - val_loss: 2.2275 - val_accuracy: 0.7589\n",
            "Epoch 9/10\n",
            "424/424 [==============================] - 7s 16ms/step - loss: 2.2496 - accuracy: 0.7072 - val_loss: 2.2277 - val_accuracy: 0.7619\n",
            "Epoch 10/10\n",
            "424/424 [==============================] - 7s 16ms/step - loss: 2.2491 - accuracy: 0.7076 - val_loss: 2.2299 - val_accuracy: 0.7609\n",
            "465/465 - 2s - loss: 2.2393 - accuracy: 0.7385\n",
            "--------------------------------------------------------------------------------\n",
            "\n",
            "\t --> accuracy on test data : 73.851854% and loss : 2.2393217 <--\n",
            "\n",
            "--------------------------------------------------------------------------------\n",
            "Epoch 1/10\n",
            "424/424 [==============================] - 7s 16ms/step - loss: 2.2487 - accuracy: 0.7094 - val_loss: 2.2114 - val_accuracy: 0.7881\n",
            "Epoch 2/10\n",
            "424/424 [==============================] - 7s 17ms/step - loss: 2.2474 - accuracy: 0.7107 - val_loss: 2.2106 - val_accuracy: 0.7834\n",
            "Epoch 3/10\n",
            "424/424 [==============================] - 7s 17ms/step - loss: 2.2472 - accuracy: 0.7071 - val_loss: 2.2114 - val_accuracy: 0.7881\n",
            "Epoch 4/10\n",
            "424/424 [==============================] - 7s 17ms/step - loss: 2.2444 - accuracy: 0.7117 - val_loss: 2.2098 - val_accuracy: 0.7725\n",
            "Epoch 5/10\n",
            "424/424 [==============================] - 7s 17ms/step - loss: 2.2432 - accuracy: 0.7095 - val_loss: 2.2131 - val_accuracy: 0.7884\n",
            "Epoch 6/10\n",
            "424/424 [==============================] - 7s 16ms/step - loss: 2.2430 - accuracy: 0.7149 - val_loss: 2.2102 - val_accuracy: 0.7881\n",
            "Epoch 7/10\n",
            "424/424 [==============================] - 7s 16ms/step - loss: 2.2407 - accuracy: 0.7174 - val_loss: 2.2090 - val_accuracy: 0.7884\n",
            "Epoch 8/10\n",
            "424/424 [==============================] - 7s 16ms/step - loss: 2.2405 - accuracy: 0.7154 - val_loss: 2.2115 - val_accuracy: 0.7891\n",
            "Epoch 9/10\n",
            "424/424 [==============================] - 7s 17ms/step - loss: 2.2392 - accuracy: 0.7168 - val_loss: 2.2068 - val_accuracy: 0.7867\n",
            "Epoch 10/10\n",
            "424/424 [==============================] - 7s 16ms/step - loss: 2.2389 - accuracy: 0.7157 - val_loss: 2.2057 - val_accuracy: 0.7821\n",
            "465/465 - 2s - loss: 2.2284 - accuracy: 0.7370\n",
            "--------------------------------------------------------------------------------\n",
            "\n",
            "\t --> accuracy on test data : 73.696971% and loss : 2.2283657 <--\n",
            "\n",
            "--------------------------------------------------------------------------------\n",
            "Epoch 1/10\n",
            "424/424 [==============================] - 8s 18ms/step - loss: 2.2379 - accuracy: 0.7182 - val_loss: 2.2037 - val_accuracy: 0.7877\n",
            "Epoch 2/10\n",
            "424/424 [==============================] - 7s 17ms/step - loss: 2.2370 - accuracy: 0.7173 - val_loss: 2.2031 - val_accuracy: 0.7914\n",
            "Epoch 3/10\n",
            "424/424 [==============================] - 7s 16ms/step - loss: 2.2355 - accuracy: 0.7166 - val_loss: 2.2034 - val_accuracy: 0.7877\n",
            "Epoch 4/10\n",
            "424/424 [==============================] - 7s 16ms/step - loss: 2.2349 - accuracy: 0.7160 - val_loss: 2.2043 - val_accuracy: 0.7907\n",
            "Epoch 5/10\n",
            "424/424 [==============================] - 7s 16ms/step - loss: 2.2332 - accuracy: 0.7189 - val_loss: 2.1981 - val_accuracy: 0.7897\n",
            "Epoch 6/10\n",
            "424/424 [==============================] - 7s 16ms/step - loss: 2.2321 - accuracy: 0.7180 - val_loss: 2.1956 - val_accuracy: 0.7837\n",
            "Epoch 7/10\n",
            "424/424 [==============================] - 7s 16ms/step - loss: 2.2300 - accuracy: 0.7226 - val_loss: 2.2010 - val_accuracy: 0.7907\n",
            "Epoch 8/10\n",
            "424/424 [==============================] - 7s 16ms/step - loss: 2.2290 - accuracy: 0.7240 - val_loss: 2.2012 - val_accuracy: 0.7834\n",
            "Epoch 9/10\n",
            "424/424 [==============================] - 7s 17ms/step - loss: 2.2274 - accuracy: 0.7261 - val_loss: 2.1974 - val_accuracy: 0.7867\n",
            "Epoch 10/10\n",
            "424/424 [==============================] - 7s 16ms/step - loss: 2.2290 - accuracy: 0.7206 - val_loss: 2.2004 - val_accuracy: 0.7897\n",
            "465/465 - 2s - loss: 2.2241 - accuracy: 0.7439\n",
            "--------------------------------------------------------------------------------\n",
            "\n",
            "\t --> accuracy on test data : 74.390572% and loss : 2.2241004 <--\n",
            "\n",
            "--------------------------------------------------------------------------------\n",
            "Epoch 1/10\n",
            "424/424 [==============================] - 8s 18ms/step - loss: 2.2259 - accuracy: 0.7288 - val_loss: 2.1921 - val_accuracy: 0.7854\n",
            "Epoch 2/10\n",
            "424/424 [==============================] - 8s 18ms/step - loss: 2.2255 - accuracy: 0.7250 - val_loss: 2.1905 - val_accuracy: 0.7861\n",
            "Epoch 3/10\n",
            "424/424 [==============================] - 7s 18ms/step - loss: 2.2242 - accuracy: 0.7281 - val_loss: 2.1875 - val_accuracy: 0.7861\n",
            "Epoch 4/10\n",
            "424/424 [==============================] - 7s 17ms/step - loss: 2.2233 - accuracy: 0.7272 - val_loss: 2.1894 - val_accuracy: 0.7798\n",
            "Epoch 5/10\n",
            "424/424 [==============================] - 7s 16ms/step - loss: 2.2222 - accuracy: 0.7270 - val_loss: 2.1891 - val_accuracy: 0.7844\n",
            "Epoch 6/10\n",
            "424/424 [==============================] - 7s 16ms/step - loss: 2.2205 - accuracy: 0.7317 - val_loss: 2.1853 - val_accuracy: 0.7834\n",
            "Epoch 7/10\n",
            "424/424 [==============================] - 7s 16ms/step - loss: 2.2209 - accuracy: 0.7289 - val_loss: 2.1888 - val_accuracy: 0.7834\n",
            "Epoch 8/10\n",
            "424/424 [==============================] - 7s 16ms/step - loss: 2.2199 - accuracy: 0.7283 - val_loss: 2.1916 - val_accuracy: 0.7818\n",
            "Epoch 9/10\n",
            "424/424 [==============================] - 7s 16ms/step - loss: 2.2186 - accuracy: 0.7293 - val_loss: 2.1859 - val_accuracy: 0.7818\n",
            "Epoch 10/10\n",
            "424/424 [==============================] - 7s 16ms/step - loss: 2.2166 - accuracy: 0.7328 - val_loss: 2.1848 - val_accuracy: 0.7828\n",
            "465/465 - 1s - loss: 2.2125 - accuracy: 0.7423\n",
            "--------------------------------------------------------------------------------\n",
            "\n",
            "\t --> accuracy on test data : 74.228954% and loss : 2.2124808 <--\n",
            "\n",
            "--------------------------------------------------------------------------------\n",
            "Epoch 1/10\n",
            "424/424 [==============================] - 7s 16ms/step - loss: 2.2160 - accuracy: 0.7301 - val_loss: 2.1742 - val_accuracy: 0.8056\n",
            "Epoch 2/10\n",
            "424/424 [==============================] - 7s 16ms/step - loss: 2.2162 - accuracy: 0.7284 - val_loss: 2.1716 - val_accuracy: 0.8053\n",
            "Epoch 3/10\n",
            "424/424 [==============================] - 7s 16ms/step - loss: 2.2159 - accuracy: 0.7323 - val_loss: 2.1719 - val_accuracy: 0.8040\n",
            "Epoch 4/10\n",
            "424/424 [==============================] - 7s 16ms/step - loss: 2.2144 - accuracy: 0.7310 - val_loss: 2.1687 - val_accuracy: 0.8063\n",
            "Epoch 5/10\n",
            "424/424 [==============================] - 7s 16ms/step - loss: 2.2129 - accuracy: 0.7325 - val_loss: 2.1699 - val_accuracy: 0.8053\n",
            "Epoch 6/10\n",
            "424/424 [==============================] - 7s 17ms/step - loss: 2.2119 - accuracy: 0.7343 - val_loss: 2.1710 - val_accuracy: 0.8027\n",
            "Epoch 7/10\n",
            "424/424 [==============================] - 7s 16ms/step - loss: 2.2114 - accuracy: 0.7363 - val_loss: 2.1693 - val_accuracy: 0.8036\n",
            "Epoch 8/10\n",
            "424/424 [==============================] - 7s 17ms/step - loss: 2.2102 - accuracy: 0.7354 - val_loss: 2.1711 - val_accuracy: 0.8040\n",
            "Epoch 9/10\n",
            "424/424 [==============================] - 7s 17ms/step - loss: 2.2094 - accuracy: 0.7316 - val_loss: 2.1677 - val_accuracy: 0.8033\n",
            "Epoch 10/10\n",
            "424/424 [==============================] - 7s 18ms/step - loss: 2.2069 - accuracy: 0.7401 - val_loss: 2.1664 - val_accuracy: 0.7997\n",
            "465/465 - 2s - loss: 2.2052 - accuracy: 0.7412\n",
            "--------------------------------------------------------------------------------\n",
            "\n",
            "\t --> accuracy on test data : 74.121213% and loss : 2.2051904 <--\n",
            "\n",
            "--------------------------------------------------------------------------------\n",
            "Epoch 1/10\n",
            "424/424 [==============================] - 7s 16ms/step - loss: 2.2064 - accuracy: 0.7392 - val_loss: 2.1683 - val_accuracy: 0.8020\n",
            "Epoch 2/10\n",
            "424/424 [==============================] - 7s 16ms/step - loss: 2.2062 - accuracy: 0.7356 - val_loss: 2.1700 - val_accuracy: 0.7983\n",
            "Epoch 3/10\n",
            "424/424 [==============================] - 7s 17ms/step - loss: 2.2055 - accuracy: 0.7399 - val_loss: 2.1693 - val_accuracy: 0.8007\n",
            "Epoch 4/10\n",
            "424/424 [==============================] - 7s 16ms/step - loss: 2.2034 - accuracy: 0.7419 - val_loss: 2.1664 - val_accuracy: 0.7964\n",
            "Epoch 5/10\n",
            "424/424 [==============================] - 7s 16ms/step - loss: 2.2024 - accuracy: 0.7417 - val_loss: 2.1660 - val_accuracy: 0.7877\n",
            "Epoch 6/10\n",
            "424/424 [==============================] - 7s 16ms/step - loss: 2.2016 - accuracy: 0.7413 - val_loss: 2.1652 - val_accuracy: 0.7983\n",
            "Epoch 7/10\n",
            "424/424 [==============================] - 7s 16ms/step - loss: 2.2008 - accuracy: 0.7406 - val_loss: 2.1649 - val_accuracy: 0.7917\n",
            "Epoch 8/10\n",
            "424/424 [==============================] - 7s 17ms/step - loss: 2.2004 - accuracy: 0.7430 - val_loss: 2.1654 - val_accuracy: 0.7980\n",
            "Epoch 9/10\n",
            "424/424 [==============================] - 7s 16ms/step - loss: 2.1987 - accuracy: 0.7435 - val_loss: 2.1647 - val_accuracy: 0.7983\n",
            "Epoch 10/10\n",
            "424/424 [==============================] - 7s 16ms/step - loss: 2.1986 - accuracy: 0.7424 - val_loss: 2.1671 - val_accuracy: 0.7970\n",
            "465/465 - 1s - loss: 2.2027 - accuracy: 0.7435\n",
            "--------------------------------------------------------------------------------\n",
            "\n",
            "\t --> accuracy on test data : 74.350166% and loss : 2.2027001 <--\n",
            "\n",
            "--------------------------------------------------------------------------------\n",
            "Epoch 1/10\n",
            "424/424 [==============================] - 7s 16ms/step - loss: 2.1973 - accuracy: 0.7414 - val_loss: 2.1632 - val_accuracy: 0.8096\n",
            "Epoch 2/10\n",
            "424/424 [==============================] - 7s 17ms/step - loss: 2.1964 - accuracy: 0.7475 - val_loss: 2.1640 - val_accuracy: 0.8103\n",
            "Epoch 3/10\n",
            "424/424 [==============================] - 7s 17ms/step - loss: 2.1962 - accuracy: 0.7439 - val_loss: 2.1622 - val_accuracy: 0.8093\n",
            "Epoch 4/10\n",
            "424/424 [==============================] - 7s 17ms/step - loss: 2.1937 - accuracy: 0.7477 - val_loss: 2.1627 - val_accuracy: 0.8003\n",
            "Epoch 5/10\n",
            "424/424 [==============================] - 7s 17ms/step - loss: 2.1936 - accuracy: 0.7449 - val_loss: 2.1615 - val_accuracy: 0.8086\n",
            "Epoch 6/10\n",
            "424/424 [==============================] - 7s 17ms/step - loss: 2.1921 - accuracy: 0.7475 - val_loss: 2.1589 - val_accuracy: 0.8070\n",
            "Epoch 7/10\n",
            "424/424 [==============================] - 7s 17ms/step - loss: 2.1914 - accuracy: 0.7458 - val_loss: 2.1599 - val_accuracy: 0.8056\n",
            "Epoch 8/10\n",
            "424/424 [==============================] - 7s 16ms/step - loss: 2.1911 - accuracy: 0.7458 - val_loss: 2.1590 - val_accuracy: 0.8070\n",
            "Epoch 9/10\n",
            "424/424 [==============================] - 7s 16ms/step - loss: 2.1908 - accuracy: 0.7470 - val_loss: 2.1601 - val_accuracy: 0.8023\n",
            "Epoch 10/10\n",
            "424/424 [==============================] - 7s 16ms/step - loss: 2.1884 - accuracy: 0.7514 - val_loss: 2.1564 - val_accuracy: 0.8056\n",
            "465/465 - 1s - loss: 2.1922 - accuracy: 0.7437\n",
            "--------------------------------------------------------------------------------\n",
            "\n",
            "\t --> accuracy on test data : 74.370372% and loss : 2.1921988 <--\n",
            "\n",
            "--------------------------------------------------------------------------------\n",
            "done\n",
            "CPU times: user 11min 10s, sys: 4min 24s, total: 15min 34s\n",
            "Wall time: 14min 33s\n"
          ],
          "name": "stdout"
        }
      ]
    },
    {
      "cell_type": "markdown",
      "metadata": {
        "id": "7ZKK42RVPFuk"
      },
      "source": [
        "### Saving the model"
      ]
    },
    {
      "cell_type": "code",
      "metadata": {
        "colab": {
          "base_uri": "https://localhost:8080/"
        },
        "id": "jVc7yOkALfVe",
        "outputId": "934993d3-f392-4242-8dec-a2dd91e387d0"
      },
      "source": [
        "print('saving model...')\n",
        "model.save('content/final_DLModel1_run2_training3')\n",
        "print('saved')"
      ],
      "execution_count": 36,
      "outputs": [
        {
          "output_type": "stream",
          "text": [
            "saving model...\n",
            "INFO:tensorflow:Assets written to: content/final_DLModel1_run2_training3/assets\n",
            "saved\n"
          ],
          "name": "stdout"
        }
      ]
    },
    {
      "cell_type": "code",
      "metadata": {
        "colab": {
          "base_uri": "https://localhost:8080/"
        },
        "id": "TI59ef_EPE9x",
        "outputId": "b95d374a-d31c-4813-ed1e-6a62c8c0c94c"
      },
      "source": [
        "!zip -r /content/final_DLModel1_run2_training3.zip /content/content/final_DLModel1_run2_training3"
      ],
      "execution_count": 37,
      "outputs": [
        {
          "output_type": "stream",
          "text": [
            "  adding: content/content/final_DLModel1_run2_training3/ (stored 0%)\n",
            "  adding: content/content/final_DLModel1_run2_training3/saved_model.pb (deflated 89%)\n",
            "  adding: content/content/final_DLModel1_run2_training3/assets/ (stored 0%)\n",
            "  adding: content/content/final_DLModel1_run2_training3/variables/ (stored 0%)\n",
            "  adding: content/content/final_DLModel1_run2_training3/variables/variables.index (deflated 68%)\n",
            "  adding: content/content/final_DLModel1_run2_training3/variables/variables.data-00000-of-00001 (deflated 14%)\n"
          ],
          "name": "stdout"
        }
      ]
    },
    {
      "cell_type": "markdown",
      "metadata": {
        "id": "75FTRu_KPTB3"
      },
      "source": [
        "### Saved to Drive"
      ]
    },
    {
      "cell_type": "code",
      "metadata": {
        "colab": {
          "base_uri": "https://localhost:8080/"
        },
        "id": "bog3mxHpPLyL",
        "outputId": "371d725c-a3be-4176-8dec-50255f0ed262"
      },
      "source": [
        "!cp '/content/final_DLModel1_run2_training3.zip' '/content/drive/My Drive/datasets/LanguageDataset/final_changes/DL_models'\n",
        "!echo done"
      ],
      "execution_count": 38,
      "outputs": [
        {
          "output_type": "stream",
          "text": [
            "done\n"
          ],
          "name": "stdout"
        }
      ]
    },
    {
      "cell_type": "markdown",
      "metadata": {
        "id": "9n4uh32APpah"
      },
      "source": [
        "### Visualizing results"
      ]
    },
    {
      "cell_type": "code",
      "metadata": {
        "id": "ZNTNfXA5PVPb"
      },
      "source": [
        "import seaborn as sns\n"
      ],
      "execution_count": 39,
      "outputs": []
    },
    {
      "cell_type": "code",
      "metadata": {
        "id": "Le-H0gPZPfg0"
      },
      "source": [
        "def make_confusion_matrix(cf,\n",
        "                          group_names=None,\n",
        "                          categories='auto',\n",
        "                          count=True,\n",
        "                          percent=True,\n",
        "                          cbar=True,\n",
        "                          xyticks=True,\n",
        "                          xyplotlabels=True,\n",
        "                          sum_stats=True,\n",
        "                          figsize=None,\n",
        "                          cmap='Blues',\n",
        "                          title=None):\n",
        "    '''\n",
        "    This function will make a pretty plot of an sklearn Confusion Matrix cm using a Seaborn heatmap visualization.\n",
        "    Arguments\n",
        "    ---------\n",
        "    cf:            confusion matrix to be passed in\n",
        "    group_names:   List of strings that represent the labels row by row to be shown in each square.\n",
        "    categories:    List of strings containing the categories to be displayed on the x,y axis. Default is 'auto'\n",
        "    count:         If True, show the raw number in the confusion matrix. Default is True.\n",
        "    normalize:     If True, show the proportions for each category. Default is True.\n",
        "    cbar:          If True, show the color bar. The cbar values are based off the values in the confusion matrix.\n",
        "                   Default is True.\n",
        "    xyticks:       If True, show x and y ticks. Default is True.\n",
        "    xyplotlabels:  If True, show 'True Label' and 'Predicted Label' on the figure. Default is True.\n",
        "    sum_stats:     If True, display summary statistics below the figure. Default is True.\n",
        "    figsize:       Tuple representing the figure size. Default will be the matplotlib rcParams value.\n",
        "    cmap:          Colormap of the values displayed from matplotlib.pyplot.cm. Default is 'Blues'\n",
        "                   See http://matplotlib.org/examples/color/colormaps_reference.html\n",
        "                   \n",
        "    title:         Title for the heatmap. Default is None.\n",
        "    '''\n",
        "\n",
        "\n",
        "    # CODE TO GENERATE TEXT INSIDE EACH SQUARE\n",
        "    blanks = ['' for i in range(cf.size)]\n",
        "\n",
        "    if group_names and len(group_names)==cf.size:\n",
        "        group_labels = [\"{}\\n\".format(value) for value in group_names]\n",
        "    else:\n",
        "        group_labels = blanks\n",
        "\n",
        "    if count:\n",
        "        group_counts = [\"{0:0.0f}\\n\".format(value) for value in cf.flatten()]\n",
        "    else:\n",
        "        group_counts = blanks\n",
        "\n",
        "    if percent:\n",
        "        group_percentages = [\"{0:.2%}\".format(value) for value in cf.flatten()/np.sum(cf)]\n",
        "    else:\n",
        "        group_percentages = blanks\n",
        "\n",
        "    box_labels = [f\"{v1}{v2}{v3}\".strip() for v1, v2, v3 in zip(group_labels,group_counts,group_percentages)]\n",
        "    box_labels = np.asarray(box_labels).reshape(cf.shape[0],cf.shape[1])\n",
        "\n",
        "\n",
        "    # CODE TO GENERATE SUMMARY STATISTICS & TEXT FOR SUMMARY STATS\n",
        "    if sum_stats:\n",
        "        #Accuracy is sum of diagonal divided by total observations\n",
        "        accuracy  = np.trace(cf) / float(np.sum(cf))\n",
        "\n",
        "        #if it is a binary confusion matrix, show some more stats\n",
        "        if len(cf)==2:\n",
        "            #Metrics for Binary Confusion Matrices\n",
        "            precision = cf[1,1] / sum(cf[:,1])\n",
        "            recall    = cf[1,1] / sum(cf[1,:])\n",
        "            f1_score  = 2*precision*recall / (precision + recall)\n",
        "            stats_text = \"\\n\\nAccuracy={:0.3f}\\nPrecision={:0.3f}\\nRecall={:0.3f}\\nF1 Score={:0.3f}\".format(\n",
        "                accuracy,precision,recall,f1_score)\n",
        "        else:\n",
        "            stats_text = \"\\n\\nAccuracy={:0.3f}\".format(accuracy)\n",
        "    else:\n",
        "        stats_text = \"\"\n",
        "\n",
        "\n",
        "    # SET FIGURE PARAMETERS ACCORDING TO OTHER ARGUMENTS\n",
        "    if figsize==None:\n",
        "        #Get default figure size if not set\n",
        "        figsize = plt.rcParams.get('figure.figsize')\n",
        "\n",
        "    if xyticks==False:\n",
        "        #Do not show categories if xyticks is False\n",
        "        categories=False\n",
        "\n",
        "\n",
        "    # MAKE THE HEATMAP VISUALIZATION\n",
        "    plt.figure(figsize=figsize)\n",
        "    sns.heatmap(cf,annot=box_labels,fmt=\"\",cmap=cmap,cbar=cbar,xticklabels=categories,yticklabels=categories)\n",
        "\n",
        "    if xyplotlabels:\n",
        "        plt.ylabel('True label')\n",
        "        plt.xlabel('Predicted label' + stats_text)\n",
        "    else:\n",
        "        plt.xlabel(stats_text)\n",
        "    \n",
        "    if title:\n",
        "        plt.title(title)"
      ],
      "execution_count": 40,
      "outputs": []
    },
    {
      "cell_type": "code",
      "metadata": {
        "colab": {
          "base_uri": "https://localhost:8080/"
        },
        "id": "p_jzOLKIPh33",
        "outputId": "bf371932-6cd1-43cd-ee0b-46106a67222a"
      },
      "source": [
        "class_names = df['Language'].unique()\n",
        "class_names"
      ],
      "execution_count": 41,
      "outputs": [
        {
          "output_type": "execute_result",
          "data": {
            "text/plain": [
              "array(['bash', 'c', 'c#', 'c++', 'haskell', 'java', 'javascript',\n",
              "       'objective-c', 'perl', 'php', 'python', 'ruby', 'scala', 'sql',\n",
              "       'swift'], dtype=object)"
            ]
          },
          "metadata": {
            "tags": []
          },
          "execution_count": 41
        }
      ]
    },
    {
      "cell_type": "code",
      "metadata": {
        "colab": {
          "base_uri": "https://localhost:8080/"
        },
        "id": "nQAsAtXCP2i-",
        "outputId": "cac0960b-b5ab-425c-d62a-cd038f9395bf"
      },
      "source": [
        "y_test.shape"
      ],
      "execution_count": 42,
      "outputs": [
        {
          "output_type": "execute_result",
          "data": {
            "text/plain": [
              "(14850, 15)"
            ]
          },
          "metadata": {
            "tags": []
          },
          "execution_count": 42
        }
      ]
    },
    {
      "cell_type": "code",
      "metadata": {
        "colab": {
          "base_uri": "https://localhost:8080/"
        },
        "id": "LxXEhjfOPtfj",
        "outputId": "96d7474a-8fc6-4a8d-cd08-7e0d6d7eb932"
      },
      "source": [
        "actual_pred = np.argmax(y_test,axis=1)\n",
        "actual_pred , actual_pred.shape"
      ],
      "execution_count": 45,
      "outputs": [
        {
          "output_type": "execute_result",
          "data": {
            "text/plain": [
              "(array([12,  3, 14, ...,  7,  6,  0]), (14850,))"
            ]
          },
          "metadata": {
            "tags": []
          },
          "execution_count": 45
        }
      ]
    },
    {
      "cell_type": "code",
      "metadata": {
        "colab": {
          "base_uri": "https://localhost:8080/"
        },
        "id": "L1oWa1E1QFmV",
        "outputId": "fc4c3962-0733-4ff4-c9b1-6a181962192c"
      },
      "source": [
        "X_test.shape"
      ],
      "execution_count": 46,
      "outputs": [
        {
          "output_type": "execute_result",
          "data": {
            "text/plain": [
              "(14850, 1000)"
            ]
          },
          "metadata": {
            "tags": []
          },
          "execution_count": 46
        }
      ]
    },
    {
      "cell_type": "code",
      "metadata": {
        "id": "JOWxkLjKP8bT"
      },
      "source": [
        "predictions = model.predict(X_test)"
      ],
      "execution_count": 47,
      "outputs": []
    },
    {
      "cell_type": "code",
      "metadata": {
        "colab": {
          "base_uri": "https://localhost:8080/"
        },
        "id": "VBFDZGPcQHhE",
        "outputId": "3a6b9784-50d4-4ec5-de3a-f3a6ead65954"
      },
      "source": [
        "prediction_by_model = np.argmax(predictions,axis=1)\n",
        "prediction_by_model , prediction_by_model.shape"
      ],
      "execution_count": 48,
      "outputs": [
        {
          "output_type": "execute_result",
          "data": {
            "text/plain": [
              "(array([12,  3, 14, ...,  7,  6,  0]), (14850,))"
            ]
          },
          "metadata": {
            "tags": []
          },
          "execution_count": 48
        }
      ]
    },
    {
      "cell_type": "markdown",
      "metadata": {
        "id": "IAooXBnWQbOM"
      },
      "source": [
        "#### confusion matrix"
      ]
    },
    {
      "cell_type": "code",
      "metadata": {
        "id": "7ph1I9dPQT8m"
      },
      "source": [
        "from sklearn.metrics import plot_confusion_matrix\n",
        "from sklearn.metrics import confusion_matrix"
      ],
      "execution_count": 49,
      "outputs": []
    },
    {
      "cell_type": "code",
      "metadata": {
        "colab": {
          "base_uri": "https://localhost:8080/"
        },
        "id": "w9Yubh-oQcgo",
        "outputId": "bb879fa9-dbb2-451e-b833-1f67f8be6ff5"
      },
      "source": [
        "cnf_matrix = confusion_matrix(actual_pred, prediction_by_model)\n",
        "cnf_matrix"
      ],
      "execution_count": 50,
      "outputs": [
        {
          "output_type": "execute_result",
          "data": {
            "text/plain": [
              "array([[807,  15,   4,   3,  13,  45,  17,   2,  31,  30,  13,  22,   3,\n",
              "         18,   5],\n",
              "       [ 21, 749,   7,  88,  23,  37,   6,   2,  18,  18,  17,  13,   2,\n",
              "          8,   3],\n",
              "       [  6,  21, 735,  33,   9,  79,  27,   5,  11,  20,   7,  14,   7,\n",
              "         32,  11],\n",
              "       [ 13, 106,  36, 645,  18,  56,   7,   7,   4,   9,  15,  17,   4,\n",
              "          6,   5],\n",
              "       [ 11,  31,  14,  21, 798,  43,   5,   0,  10,  14,  17,  11,  13,\n",
              "          9,  13],\n",
              "       [ 12,  10, 105,  22,  12, 660,  16,  10,  14,  13,  16,  21,  17,\n",
              "         24,   0],\n",
              "       [  6,   4,  37,   3,   5,  38, 788,   4,  16,  34,  10,  25,   4,\n",
              "         21,   7],\n",
              "       [  7,  30,  11,  21,   1,  49,   6, 780,   8,   7,   5,  11,   2,\n",
              "         10,  10],\n",
              "       [ 76,  18,  27,  12,  11,  58,  16,   4, 635,  34,  28,  38,   5,\n",
              "         20,   3],\n",
              "       [ 49,  13,  26,   2,  11,  54,  71,   2,  29, 649,  17,  22,   0,\n",
              "         60,   1],\n",
              "       [ 24,  22,  16,  16,  19,  61,  16,   9,  31,  43, 715,  34,  19,\n",
              "         16,   3],\n",
              "       [ 22,   9,  15,  14,  12,  38,  17,   3,  35,  28,  28, 666,  16,\n",
              "         27,   4],\n",
              "       [  2,   7,  24,   7,  10,  52,  11,   0,  11,   7,   9,  15, 804,\n",
              "          7,  10],\n",
              "       [  6,   6,  34,  10,   7,  26,   6,   3,  12,  26,  15,  31,   4,\n",
              "        823,   2],\n",
              "       [  3,   7,  15,  11,   4,  14,  20,  76,   0,   5,   7,   8,   3,\n",
              "          4, 790]])"
            ]
          },
          "metadata": {
            "tags": []
          },
          "execution_count": 50
        }
      ]
    },
    {
      "cell_type": "code",
      "metadata": {
        "colab": {
          "base_uri": "https://localhost:8080/"
        },
        "id": "1a5zGyqaQyWi",
        "outputId": "778d7390-3b01-45d4-8b16-6a7c9dcc106b"
      },
      "source": [
        "target_names = [class_names[i] for i in range(15)]\n",
        "print(target_names ,'\\n\\n' , type(target_names))"
      ],
      "execution_count": 51,
      "outputs": [
        {
          "output_type": "stream",
          "text": [
            "['bash', 'c', 'c#', 'c++', 'haskell', 'java', 'javascript', 'objective-c', 'perl', 'php', 'python', 'ruby', 'scala', 'sql', 'swift'] \n",
            "\n",
            " <class 'list'>\n"
          ],
          "name": "stdout"
        }
      ]
    },
    {
      "cell_type": "code",
      "metadata": {
        "colab": {
          "base_uri": "https://localhost:8080/",
          "height": 816
        },
        "id": "U69nyz1-QmF5",
        "outputId": "e3a92275-bcf4-4658-c5a6-0522f08e5f3e"
      },
      "source": [
        "%%time\n",
        "make_confusion_matrix(cnf_matrix, figsize=(12,12), cbar=False ,categories=target_names)\n"
      ],
      "execution_count": 52,
      "outputs": [
        {
          "output_type": "stream",
          "text": [
            "CPU times: user 150 ms, sys: 5.08 ms, total: 155 ms\n",
            "Wall time: 155 ms\n"
          ],
          "name": "stdout"
        },
        {
          "output_type": "display_data",
          "data": {
            "image/png": "[encoded data removed]",
            "text/plain": [
              "<Figure size 864x864 with 1 Axes>"
            ]
          },
          "metadata": {
            "tags": [],
            "needs_background": "light"
          }
        }
      ]
    },
    {
      "cell_type": "code",
      "metadata": {
        "id": "wdIcLDb_Q0Ws"
      },
      "source": [
        ""
      ],
      "execution_count": null,
      "outputs": []
    }
  ]
}